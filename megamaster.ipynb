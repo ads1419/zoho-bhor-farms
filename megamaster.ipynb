{
 "cells": [
  {
   "cell_type": "markdown",
   "metadata": {},
   "source": [
    "# Megamaster"
   ]
  },
  {
   "cell_type": "code",
   "execution_count": 63,
   "metadata": {
    "ExecuteTime": {
     "end_time": "2020-08-23T18:56:42.573229Z",
     "start_time": "2020-08-23T18:56:42.568243Z"
    }
   },
   "outputs": [],
   "source": [
    "import pandas as pd\n",
    "import re\n",
    "from pathlib import Path\n",
    "import os\n",
    "import numpy as np\n",
    "\n",
    "pd.set_option('display.max_columns', 500)"
   ]
  },
  {
   "cell_type": "code",
   "execution_count": 95,
   "metadata": {
    "ExecuteTime": {
     "end_time": "2020-08-23T19:19:36.386091Z",
     "start_time": "2020-08-23T19:19:36.382101Z"
    }
   },
   "outputs": [],
   "source": [
    "items2subset = ['Gawar/Cluster Beans', 'Mint Leaves', 'Sponge Gourd',  'Tondli', 'VNR Guava', ]\n",
    "STATUSES2PROCESS = ['Completed', 'Network Error']"
   ]
  },
  {
   "cell_type": "code",
   "execution_count": 64,
   "metadata": {
    "ExecuteTime": {
     "end_time": "2020-08-23T18:56:42.743932Z",
     "start_time": "2020-08-23T18:56:42.738979Z"
    }
   },
   "outputs": [],
   "source": [
    "OUTPUT_DIR = Path(\"C:/Playground/bhaiya-orders/zoho-bhor-farms/outputs/\")\n",
    "\n",
    "save_pth = Path(OUTPUT_DIR/str(FILE.stem)); save_pth\n",
    "os.makedirs(save_pth, exist_ok=True)\n",
    "\n",
    "PDF_DIR = save_pth/'customerwise-pdfs'\n",
    "os.makedirs(PDF_DIR, exist_ok=True)"
   ]
  },
  {
   "cell_type": "code",
   "execution_count": 65,
   "metadata": {
    "ExecuteTime": {
     "end_time": "2020-08-23T18:56:42.970945Z",
     "start_time": "2020-08-23T18:56:42.901032Z"
    }
   },
   "outputs": [
    {
     "data": {
      "application/vnd.jupyter.widget-view+json": {
       "model_id": "ad8a5763a3d34f4199ea90639ceac187",
       "version_major": 2,
       "version_minor": 0
      },
      "text/plain": [
       "FileChooser(path='C:/Playground/bhaiya-orders/zoho-bhor-farms/inputs/', filename='', show_hidden='False')"
      ]
     },
     "metadata": {},
     "output_type": "display_data"
    }
   ],
   "source": [
    "from ipyfilechooser import FileChooser\n",
    "\n",
    "fc = FileChooser(\"C:/Playground/bhaiya-orders/zoho-bhor-farms/inputs/\")\n",
    "fc.use_dir_icons = True\n",
    "display(fc)"
   ]
  },
  {
   "cell_type": "code",
   "execution_count": 66,
   "metadata": {
    "ExecuteTime": {
     "end_time": "2020-08-23T18:56:48.258297Z",
     "start_time": "2020-08-23T18:56:48.253308Z"
    }
   },
   "outputs": [],
   "source": [
    "FILE = Path(fc.selected)"
   ]
  },
  {
   "cell_type": "code",
   "execution_count": 67,
   "metadata": {
    "ExecuteTime": {
     "end_time": "2020-08-23T18:56:49.295101Z",
     "start_time": "2020-08-23T18:56:48.941487Z"
    }
   },
   "outputs": [],
   "source": [
    "try:\n",
    "    if 'csv' in FILE.suffix: df = pd.read_csv(FILE)\n",
    "    else: df = pd.read_excel(FILE)\n",
    "except OSError:\n",
    "    print(\"Error occured, invalid file!\")"
   ]
  },
  {
   "cell_type": "code",
   "execution_count": 205,
   "metadata": {
    "ExecuteTime": {
     "end_time": "2020-08-23T20:44:02.578457Z",
     "start_time": "2020-08-23T20:44:02.443248Z"
    }
   },
   "outputs": [
    {
     "data": {
      "text/html": [
       "<div>\n",
       "<style scoped>\n",
       "    .dataframe tbody tr th:only-of-type {\n",
       "        vertical-align: middle;\n",
       "    }\n",
       "\n",
       "    .dataframe tbody tr th {\n",
       "        vertical-align: top;\n",
       "    }\n",
       "\n",
       "    .dataframe thead th {\n",
       "        text-align: right;\n",
       "    }\n",
       "</style>\n",
       "<table border=\"1\" class=\"dataframe\">\n",
       "  <thead>\n",
       "    <tr style=\"text-align: right;\">\n",
       "      <th></th>\n",
       "      <th>Name</th>\n",
       "      <th>Select Drop Point</th>\n",
       "      <th>Select Building Ivory</th>\n",
       "      <th>Select Building Wellness Forever</th>\n",
       "      <th>Select Building NCP</th>\n",
       "      <th>Select Building Ajmera iLand</th>\n",
       "      <th>Select Building Sector 1/2</th>\n",
       "      <th>Select Building Cosmic</th>\n",
       "      <th>Select Wing</th>\n",
       "      <th>Flat No</th>\n",
       "      <th>Phone</th>\n",
       "      <th>Email</th>\n",
       "      <th>Select Delivery Date</th>\n",
       "      <th>Potatoes</th>\n",
       "      <th>Potato Price</th>\n",
       "      <th>Potato Cost Price</th>\n",
       "      <th>Select Quantity of Potatoes</th>\n",
       "      <th>Red Onions</th>\n",
       "      <th>Red Onions Price</th>\n",
       "      <th>Red Onions Cost Price</th>\n",
       "      <th>Select Quantity of Red Onions</th>\n",
       "      <th>Cauliflower</th>\n",
       "      <th>Cauliflower Price</th>\n",
       "      <th>Cauliflower Cost Price</th>\n",
       "      <th>Select Quantity of Cauliflower</th>\n",
       "      <th>Cabbage</th>\n",
       "      <th>Cabbage Price</th>\n",
       "      <th>Cabbage Cost Price</th>\n",
       "      <th>Select Quantity of Cabbage</th>\n",
       "      <th>Brinjal Bharta</th>\n",
       "      <th>Brinjal Bharta Price</th>\n",
       "      <th>Brinjal Bharta Cost Price</th>\n",
       "      <th>Select Quantity of Brinjal Bharta</th>\n",
       "      <th>Pumpkin</th>\n",
       "      <th>Pumpkin Price</th>\n",
       "      <th>Pumpkin Cost Price</th>\n",
       "      <th>Select Quantity of Pumpkin</th>\n",
       "      <th>Brinjal Kateri</th>\n",
       "      <th>Brinjal Kateri Price</th>\n",
       "      <th>Brinjal Kateri Cost Price</th>\n",
       "      <th>Select Quantity of Brinjal Kateri</th>\n",
       "      <th>Cucumber</th>\n",
       "      <th>Cucumber Price</th>\n",
       "      <th>Cucumber Cost Price</th>\n",
       "      <th>Select Quantity of Cucumber</th>\n",
       "      <th>Bhindi/Lady's Finger</th>\n",
       "      <th>Bhindi/Lady's Finger Price</th>\n",
       "      <th>Bhindi/Lady's Finger Cost Price</th>\n",
       "      <th>Select Quantity of Bhindi/Lady's Finger</th>\n",
       "      <th>Bitter Gourd</th>\n",
       "      <th>Bitter Gourd Price</th>\n",
       "      <th>Bitter Gourd Cost Price</th>\n",
       "      <th>Select Quantity of Bitter Gourd</th>\n",
       "      <th>Sponge Gourd</th>\n",
       "      <th>Sponge Gourd Price</th>\n",
       "      <th>Sponge Gourd Cost Price</th>\n",
       "      <th>Select Quantity of Sponge Gourd</th>\n",
       "      <th>Beetroot</th>\n",
       "      <th>Beetroot Price</th>\n",
       "      <th>Beetroot Cost Price</th>\n",
       "      <th>Select Quantity of Beetroot</th>\n",
       "      <th>Tondli</th>\n",
       "      <th>Tondli Price</th>\n",
       "      <th>Tondli Cost Price</th>\n",
       "      <th>Select Quantity of Tondli</th>\n",
       "      <th>Button Mushrooms</th>\n",
       "      <th>Button Mushroom Price</th>\n",
       "      <th>Button Mushroom Cost Price</th>\n",
       "      <th>Select Quantity of Button Mushroom</th>\n",
       "      <th>Raw Banana</th>\n",
       "      <th>Raw Banana Price</th>\n",
       "      <th>Raw Banana Cost Price</th>\n",
       "      <th>Select Quantity of Raw Banana</th>\n",
       "      <th>Bottle Gourd</th>\n",
       "      <th>Bottle Gourd Price</th>\n",
       "      <th>Bottle Gourd Cost Price</th>\n",
       "      <th>Select Quantity of Bottle Gourd</th>\n",
       "      <th>Drumsticks</th>\n",
       "      <th>Drumsticks Price</th>\n",
       "      <th>Drumsticks Cost Price</th>\n",
       "      <th>Select Quantity of Drumsticks</th>\n",
       "      <th>Capsicum</th>\n",
       "      <th>Capsicum Price</th>\n",
       "      <th>Capsicum Cost Price</th>\n",
       "      <th>Select Quantity of Capsicum</th>\n",
       "      <th>Gawar/Cluster Beans</th>\n",
       "      <th>Gawar/Cluster Beans Price</th>\n",
       "      <th>Gawar/Cluster Beans Cost Price</th>\n",
       "      <th>Select Quantity of Gawar/Cluster Beans</th>\n",
       "      <th>French Beans</th>\n",
       "      <th>French Beans Price</th>\n",
       "      <th>French Beans Cost Price</th>\n",
       "      <th>Select Quantity of French Beans</th>\n",
       "      <th>Baby Corn</th>\n",
       "      <th>Baby Corn Price</th>\n",
       "      <th>Baby Corn Cost Price</th>\n",
       "      <th>Select Quantity of Baby Corn</th>\n",
       "      <th>Tomato</th>\n",
       "      <th>Tomato Price</th>\n",
       "      <th>Tomato Cost Price</th>\n",
       "      <th>Select Quantity of Tomato</th>\n",
       "      <th>Cherry Tomatoes</th>\n",
       "      <th>Cherry Tomato Price</th>\n",
       "      <th>Cherry Tomato Cost Price</th>\n",
       "      <th>Select Quantity of Cherry Tomatoes</th>\n",
       "      <th>Sweet Corn</th>\n",
       "      <th>Sweet Corn Price</th>\n",
       "      <th>Sweet Corn Cost Price</th>\n",
       "      <th>Select Quantity of Sweet Corn</th>\n",
       "      <th>Broccoli</th>\n",
       "      <th>Broccoli Price</th>\n",
       "      <th>Broccoli Cost Price</th>\n",
       "      <th>Select Quantity of Broccoli</th>\n",
       "      <th>Lettuce</th>\n",
       "      <th>Lettuce Price</th>\n",
       "      <th>Lettuce Cost Price</th>\n",
       "      <th>Select Quantity of Lettuce</th>\n",
       "      <th>Apples Washington Per Kg</th>\n",
       "      <th>Apples Washington Price</th>\n",
       "      <th>Apples Washington Cost Price</th>\n",
       "      <th>Select Quantity of Apples Washington</th>\n",
       "      <th>VNR Guava</th>\n",
       "      <th>VNR Guava Price</th>\n",
       "      <th>VNR Guava Cost Price</th>\n",
       "      <th>Select Quantity of VNR Guava</th>\n",
       "      <th>Orange Imported</th>\n",
       "      <th>Imported Oranges Price</th>\n",
       "      <th>Imported Oranges Cost Price</th>\n",
       "      <th>Select Quantity of Imported Oranges</th>\n",
       "      <th>Pineapple Whole</th>\n",
       "      <th>Pineapple Whole Price</th>\n",
       "      <th>Pineapple Whole Cost Price</th>\n",
       "      <th>Select Quantity of Pineapple Whole</th>\n",
       "      <th>Kiwi Zespri Imported</th>\n",
       "      <th>Kiwi Zespri Imported Price</th>\n",
       "      <th>Kiwi Zespri Imported Cost Price</th>\n",
       "      <th>Select Quantity of Kiwi Zespri Imported</th>\n",
       "      <th>Banana Regular</th>\n",
       "      <th>Banana Price</th>\n",
       "      <th>Banana Cost Price</th>\n",
       "      <th>Select Quantity of Banana</th>\n",
       "      <th>Garlic</th>\n",
       "      <th>Garlic Price</th>\n",
       "      <th>Garlic Cost Price</th>\n",
       "      <th>Select Quantity of Garlic</th>\n",
       "      <th>GInger</th>\n",
       "      <th>Ginger Price</th>\n",
       "      <th>Ginger Cost Price</th>\n",
       "      <th>Select Quantity of Ginger</th>\n",
       "      <th>Green Chilly</th>\n",
       "      <th>Green Chilly Price</th>\n",
       "      <th>Green Chilly Cost Price</th>\n",
       "      <th>Select Quantity of Green Chilly</th>\n",
       "      <th>Lemons</th>\n",
       "      <th>Lemons Price</th>\n",
       "      <th>Lemons Cost Price</th>\n",
       "      <th>Select Quantity of Lemons</th>\n",
       "      <th>Curry Leaves</th>\n",
       "      <th>Curry Leaves Price</th>\n",
       "      <th>Curry Leaves Cost Price</th>\n",
       "      <th>Select Quantity of Curry Leaves</th>\n",
       "      <th>Coriander Leaves</th>\n",
       "      <th>Coriander Leaves Price</th>\n",
       "      <th>Coriander Leaves Cost Price</th>\n",
       "      <th>Select Quantity of Coriander Leaves</th>\n",
       "      <th>Mint Leaves</th>\n",
       "      <th>Mint Leaves Price</th>\n",
       "      <th>Mint Leaves Cost Price</th>\n",
       "      <th>Select Quantity of Mint Leaves</th>\n",
       "      <th>Lemongrass</th>\n",
       "      <th>Lemongrass Price</th>\n",
       "      <th>Lemongrass Cost Price</th>\n",
       "      <th>Select Quantity of Lemongrass</th>\n",
       "      <th>Palak/Spinach</th>\n",
       "      <th>Palak/Spinach Price</th>\n",
       "      <th>Palak/Spinach Cost Price</th>\n",
       "      <th>Select Quantity of Palak/Spinach</th>\n",
       "      <th>Shepu/Dill Leaves</th>\n",
       "      <th>Shepu/Dill Leaves Price</th>\n",
       "      <th>Shepu/Dill Leaves Cost Price</th>\n",
       "      <th>Select Quantity of Shepu/Dill Leaves</th>\n",
       "      <th>Methi Leaves</th>\n",
       "      <th>Methi Leaves Price</th>\n",
       "      <th>Methi Leaves Cost Price</th>\n",
       "      <th>Select Quantity of Methi Leaves</th>\n",
       "      <th>Red/Yellow Bell Peppers</th>\n",
       "      <th>Red/Yellow Bell Peppers Price</th>\n",
       "      <th>Red/Yellow Bell Peppers Cost Price</th>\n",
       "      <th>Select Quantity of Red/Yellow Bell Peppers</th>\n",
       "      <th>Green Zucchini</th>\n",
       "      <th>Green Zucchini Price</th>\n",
       "      <th>Green Zucchini Cost Price</th>\n",
       "      <th>Select Quantity of Green Zucchini</th>\n",
       "      <th>Yellow Zucchini</th>\n",
       "      <th>Yellow Zucchini Price</th>\n",
       "      <th>Yellow Zucchini Cost Price</th>\n",
       "      <th>Select Quantity of Yellow Zucchini</th>\n",
       "      <th>Arbi Leaves</th>\n",
       "      <th>Arbi Leaves Price</th>\n",
       "      <th>Arbi Leaves Cost Price</th>\n",
       "      <th>Select Quantity of Arbi Leaves</th>\n",
       "      <th>Basil Leaves</th>\n",
       "      <th>Basil Leaves Price</th>\n",
       "      <th>Basil Leaves Cost Price</th>\n",
       "      <th>Select Quantity of Basil Leaves</th>\n",
       "      <th>Arbi/Colocasia</th>\n",
       "      <th>Arbi/Colocasia Price</th>\n",
       "      <th>Arbi/Colocasia Cost Price</th>\n",
       "      <th>Select Quantity of Arbi/Colocasia</th>\n",
       "      <th>Total Amount</th>\n",
       "      <th>Payment Amount</th>\n",
       "      <th>Payment Status</th>\n",
       "      <th>Payment Currency</th>\n",
       "      <th>Added Time</th>\n",
       "      <th>CRM Status</th>\n",
       "      <th>Referrer Name</th>\n",
       "      <th>Task Owner</th>\n",
       "      <th>key</th>\n",
       "      <th>building</th>\n",
       "    </tr>\n",
       "  </thead>\n",
       "  <tbody>\n",
       "    <tr>\n",
       "      <th>0</th>\n",
       "      <td>Aakanksha; Kaul</td>\n",
       "      <td>Ivory</td>\n",
       "      <td>Himalayan Heights</td>\n",
       "      <td>NaN</td>\n",
       "      <td>NaN</td>\n",
       "      <td>NaN</td>\n",
       "      <td>NaN</td>\n",
       "      <td>NaN</td>\n",
       "      <td>A Wing</td>\n",
       "      <td>1002</td>\n",
       "      <td>9099996666</td>\n",
       "      <td>vishaldlagad@gmail.com</td>\n",
       "      <td>Sunday Aug 23rd</td>\n",
       "      <td>NaN</td>\n",
       "      <td>36</td>\n",
       "      <td>28</td>\n",
       "      <td>2.0</td>\n",
       "      <td>NaN</td>\n",
       "      <td>18</td>\n",
       "      <td>12</td>\n",
       "      <td>2.0</td>\n",
       "      <td>NaN</td>\n",
       "      <td>45</td>\n",
       "      <td>25</td>\n",
       "      <td>3.0</td>\n",
       "      <td>NaN</td>\n",
       "      <td>24</td>\n",
       "      <td>11</td>\n",
       "      <td>NaN</td>\n",
       "      <td>NaN</td>\n",
       "      <td>28</td>\n",
       "      <td>13</td>\n",
       "      <td>3.0</td>\n",
       "      <td>NaN</td>\n",
       "      <td>20</td>\n",
       "      <td>6</td>\n",
       "      <td>3.0</td>\n",
       "      <td>NaN</td>\n",
       "      <td>35</td>\n",
       "      <td>15</td>\n",
       "      <td>NaN</td>\n",
       "      <td>NaN</td>\n",
       "      <td>24</td>\n",
       "      <td>9</td>\n",
       "      <td>NaN</td>\n",
       "      <td>NaN</td>\n",
       "      <td>25</td>\n",
       "      <td>12</td>\n",
       "      <td>NaN</td>\n",
       "      <td>NaN</td>\n",
       "      <td>17</td>\n",
       "      <td>8</td>\n",
       "      <td>NaN</td>\n",
       "      <td>NaN</td>\n",
       "      <td>25</td>\n",
       "      <td>13</td>\n",
       "      <td>2.0</td>\n",
       "      <td>NaN</td>\n",
       "      <td>20</td>\n",
       "      <td>9</td>\n",
       "      <td>NaN</td>\n",
       "      <td>NaN</td>\n",
       "      <td>14</td>\n",
       "      <td>7</td>\n",
       "      <td>2.0</td>\n",
       "      <td>NaN</td>\n",
       "      <td>60</td>\n",
       "      <td>30</td>\n",
       "      <td>3.0</td>\n",
       "      <td>NaN</td>\n",
       "      <td>25</td>\n",
       "      <td>8</td>\n",
       "      <td>NaN</td>\n",
       "      <td>NaN</td>\n",
       "      <td>28</td>\n",
       "      <td>10</td>\n",
       "      <td>3.0</td>\n",
       "      <td>NaN</td>\n",
       "      <td>25</td>\n",
       "      <td>15</td>\n",
       "      <td>NaN</td>\n",
       "      <td>NaN</td>\n",
       "      <td>40</td>\n",
       "      <td>20</td>\n",
       "      <td>3.0</td>\n",
       "      <td>NaN</td>\n",
       "      <td>17</td>\n",
       "      <td>10</td>\n",
       "      <td>NaN</td>\n",
       "      <td>NaN</td>\n",
       "      <td>40</td>\n",
       "      <td>18</td>\n",
       "      <td>3.0</td>\n",
       "      <td>NaN</td>\n",
       "      <td>60</td>\n",
       "      <td>33</td>\n",
       "      <td>NaN</td>\n",
       "      <td>NaN</td>\n",
       "      <td>45</td>\n",
       "      <td>30</td>\n",
       "      <td>3.0</td>\n",
       "      <td>NaN</td>\n",
       "      <td>40</td>\n",
       "      <td>16</td>\n",
       "      <td>NaN</td>\n",
       "      <td>NaN</td>\n",
       "      <td>35</td>\n",
       "      <td>11</td>\n",
       "      <td>NaN</td>\n",
       "      <td>NaN</td>\n",
       "      <td>85</td>\n",
       "      <td>53</td>\n",
       "      <td>2.0</td>\n",
       "      <td>NaN</td>\n",
       "      <td>35</td>\n",
       "      <td>18</td>\n",
       "      <td>NaN</td>\n",
       "      <td>NaN</td>\n",
       "      <td>250</td>\n",
       "      <td>205</td>\n",
       "      <td>NaN</td>\n",
       "      <td>NaN</td>\n",
       "      <td>120</td>\n",
       "      <td>65</td>\n",
       "      <td>NaN</td>\n",
       "      <td>NaN</td>\n",
       "      <td>180</td>\n",
       "      <td>114</td>\n",
       "      <td>NaN</td>\n",
       "      <td>NaN</td>\n",
       "      <td>85</td>\n",
       "      <td>50</td>\n",
       "      <td>NaN</td>\n",
       "      <td>NaN</td>\n",
       "      <td>95</td>\n",
       "      <td>78</td>\n",
       "      <td>NaN</td>\n",
       "      <td>NaN</td>\n",
       "      <td>22</td>\n",
       "      <td>10</td>\n",
       "      <td>NaN</td>\n",
       "      <td>NaN</td>\n",
       "      <td>50</td>\n",
       "      <td>28</td>\n",
       "      <td>NaN</td>\n",
       "      <td>NaN</td>\n",
       "      <td>32</td>\n",
       "      <td>23</td>\n",
       "      <td>NaN</td>\n",
       "      <td>NaN</td>\n",
       "      <td>20</td>\n",
       "      <td>7</td>\n",
       "      <td>NaN</td>\n",
       "      <td>NaN</td>\n",
       "      <td>15</td>\n",
       "      <td>4</td>\n",
       "      <td>3.0</td>\n",
       "      <td>NaN</td>\n",
       "      <td>5</td>\n",
       "      <td>5</td>\n",
       "      <td>NaN</td>\n",
       "      <td>NaN</td>\n",
       "      <td>40</td>\n",
       "      <td>32</td>\n",
       "      <td>3.0</td>\n",
       "      <td>NaN</td>\n",
       "      <td>10</td>\n",
       "      <td>5</td>\n",
       "      <td>NaN</td>\n",
       "      <td>NaN</td>\n",
       "      <td>10</td>\n",
       "      <td>4</td>\n",
       "      <td>3.0</td>\n",
       "      <td>NaN</td>\n",
       "      <td>30</td>\n",
       "      <td>17</td>\n",
       "      <td>2.0</td>\n",
       "      <td>NaN</td>\n",
       "      <td>28</td>\n",
       "      <td>10</td>\n",
       "      <td>NaN</td>\n",
       "      <td>NaN</td>\n",
       "      <td>48</td>\n",
       "      <td>33</td>\n",
       "      <td>2.0</td>\n",
       "      <td>NaN</td>\n",
       "      <td>130</td>\n",
       "      <td>92</td>\n",
       "      <td>NaN</td>\n",
       "      <td>NaN</td>\n",
       "      <td>30</td>\n",
       "      <td>10</td>\n",
       "      <td>NaN</td>\n",
       "      <td>NaN</td>\n",
       "      <td>30</td>\n",
       "      <td>14</td>\n",
       "      <td>NaN</td>\n",
       "      <td>NaN</td>\n",
       "      <td>20</td>\n",
       "      <td>5</td>\n",
       "      <td>NaN</td>\n",
       "      <td>NaN</td>\n",
       "      <td>40</td>\n",
       "      <td>16</td>\n",
       "      <td>NaN</td>\n",
       "      <td>NaN</td>\n",
       "      <td>40</td>\n",
       "      <td>16</td>\n",
       "      <td>NaN</td>\n",
       "      <td>1625</td>\n",
       "      <td>1625</td>\n",
       "      <td>Completed</td>\n",
       "      <td>INR</td>\n",
       "      <td>2020-08-19 00:15:58</td>\n",
       "      <td>NaN</td>\n",
       "      <td>NaN</td>\n",
       "      <td>sudeep@systematiq.in</td>\n",
       "      <td>Aakanksha; Kaul 2020-08-19 00:15:58</td>\n",
       "      <td>Himalayan Heights</td>\n",
       "    </tr>\n",
       "    <tr>\n",
       "      <th>1</th>\n",
       "      <td>Aakanksha; Singh</td>\n",
       "      <td>Ivory</td>\n",
       "      <td>Girnar Heights</td>\n",
       "      <td>NaN</td>\n",
       "      <td>NaN</td>\n",
       "      <td>NaN</td>\n",
       "      <td>NaN</td>\n",
       "      <td>NaN</td>\n",
       "      <td>B Wing</td>\n",
       "      <td>403</td>\n",
       "      <td>9999914917</td>\n",
       "      <td>karolia.aakanksha@gmail.com</td>\n",
       "      <td>Mon Aug 24th</td>\n",
       "      <td>NaN</td>\n",
       "      <td>36</td>\n",
       "      <td>28</td>\n",
       "      <td>NaN</td>\n",
       "      <td>NaN</td>\n",
       "      <td>18</td>\n",
       "      <td>12</td>\n",
       "      <td>NaN</td>\n",
       "      <td>NaN</td>\n",
       "      <td>45</td>\n",
       "      <td>25</td>\n",
       "      <td>NaN</td>\n",
       "      <td>NaN</td>\n",
       "      <td>24</td>\n",
       "      <td>11</td>\n",
       "      <td>NaN</td>\n",
       "      <td>NaN</td>\n",
       "      <td>28</td>\n",
       "      <td>13</td>\n",
       "      <td>NaN</td>\n",
       "      <td>NaN</td>\n",
       "      <td>20</td>\n",
       "      <td>6</td>\n",
       "      <td>NaN</td>\n",
       "      <td>NaN</td>\n",
       "      <td>35</td>\n",
       "      <td>15</td>\n",
       "      <td>NaN</td>\n",
       "      <td>NaN</td>\n",
       "      <td>24</td>\n",
       "      <td>9</td>\n",
       "      <td>NaN</td>\n",
       "      <td>NaN</td>\n",
       "      <td>25</td>\n",
       "      <td>12</td>\n",
       "      <td>NaN</td>\n",
       "      <td>NaN</td>\n",
       "      <td>17</td>\n",
       "      <td>8</td>\n",
       "      <td>NaN</td>\n",
       "      <td>NaN</td>\n",
       "      <td>25</td>\n",
       "      <td>13</td>\n",
       "      <td>NaN</td>\n",
       "      <td>NaN</td>\n",
       "      <td>20</td>\n",
       "      <td>9</td>\n",
       "      <td>NaN</td>\n",
       "      <td>NaN</td>\n",
       "      <td>14</td>\n",
       "      <td>7</td>\n",
       "      <td>NaN</td>\n",
       "      <td>NaN</td>\n",
       "      <td>60</td>\n",
       "      <td>30</td>\n",
       "      <td>NaN</td>\n",
       "      <td>NaN</td>\n",
       "      <td>25</td>\n",
       "      <td>8</td>\n",
       "      <td>NaN</td>\n",
       "      <td>NaN</td>\n",
       "      <td>28</td>\n",
       "      <td>10</td>\n",
       "      <td>NaN</td>\n",
       "      <td>NaN</td>\n",
       "      <td>25</td>\n",
       "      <td>15</td>\n",
       "      <td>NaN</td>\n",
       "      <td>NaN</td>\n",
       "      <td>40</td>\n",
       "      <td>20</td>\n",
       "      <td>NaN</td>\n",
       "      <td>NaN</td>\n",
       "      <td>17</td>\n",
       "      <td>10</td>\n",
       "      <td>NaN</td>\n",
       "      <td>NaN</td>\n",
       "      <td>40</td>\n",
       "      <td>18</td>\n",
       "      <td>NaN</td>\n",
       "      <td>NaN</td>\n",
       "      <td>60</td>\n",
       "      <td>33</td>\n",
       "      <td>NaN</td>\n",
       "      <td>NaN</td>\n",
       "      <td>45</td>\n",
       "      <td>30</td>\n",
       "      <td>NaN</td>\n",
       "      <td>NaN</td>\n",
       "      <td>40</td>\n",
       "      <td>16</td>\n",
       "      <td>NaN</td>\n",
       "      <td>NaN</td>\n",
       "      <td>35</td>\n",
       "      <td>11</td>\n",
       "      <td>1.0</td>\n",
       "      <td>NaN</td>\n",
       "      <td>85</td>\n",
       "      <td>53</td>\n",
       "      <td>NaN</td>\n",
       "      <td>NaN</td>\n",
       "      <td>35</td>\n",
       "      <td>18</td>\n",
       "      <td>NaN</td>\n",
       "      <td>NaN</td>\n",
       "      <td>250</td>\n",
       "      <td>205</td>\n",
       "      <td>NaN</td>\n",
       "      <td>NaN</td>\n",
       "      <td>120</td>\n",
       "      <td>65</td>\n",
       "      <td>NaN</td>\n",
       "      <td>NaN</td>\n",
       "      <td>180</td>\n",
       "      <td>114</td>\n",
       "      <td>1.0</td>\n",
       "      <td>NaN</td>\n",
       "      <td>85</td>\n",
       "      <td>50</td>\n",
       "      <td>NaN</td>\n",
       "      <td>NaN</td>\n",
       "      <td>95</td>\n",
       "      <td>78</td>\n",
       "      <td>NaN</td>\n",
       "      <td>NaN</td>\n",
       "      <td>22</td>\n",
       "      <td>10</td>\n",
       "      <td>NaN</td>\n",
       "      <td>NaN</td>\n",
       "      <td>50</td>\n",
       "      <td>28</td>\n",
       "      <td>NaN</td>\n",
       "      <td>NaN</td>\n",
       "      <td>32</td>\n",
       "      <td>23</td>\n",
       "      <td>NaN</td>\n",
       "      <td>NaN</td>\n",
       "      <td>20</td>\n",
       "      <td>7</td>\n",
       "      <td>NaN</td>\n",
       "      <td>NaN</td>\n",
       "      <td>15</td>\n",
       "      <td>4</td>\n",
       "      <td>1.0</td>\n",
       "      <td>NaN</td>\n",
       "      <td>5</td>\n",
       "      <td>5</td>\n",
       "      <td>NaN</td>\n",
       "      <td>NaN</td>\n",
       "      <td>40</td>\n",
       "      <td>32</td>\n",
       "      <td>1.0</td>\n",
       "      <td>NaN</td>\n",
       "      <td>10</td>\n",
       "      <td>5</td>\n",
       "      <td>1.0</td>\n",
       "      <td>NaN</td>\n",
       "      <td>10</td>\n",
       "      <td>4</td>\n",
       "      <td>NaN</td>\n",
       "      <td>NaN</td>\n",
       "      <td>30</td>\n",
       "      <td>17</td>\n",
       "      <td>1.0</td>\n",
       "      <td>NaN</td>\n",
       "      <td>28</td>\n",
       "      <td>10</td>\n",
       "      <td>NaN</td>\n",
       "      <td>NaN</td>\n",
       "      <td>48</td>\n",
       "      <td>33</td>\n",
       "      <td>1.0</td>\n",
       "      <td>NaN</td>\n",
       "      <td>130</td>\n",
       "      <td>92</td>\n",
       "      <td>NaN</td>\n",
       "      <td>NaN</td>\n",
       "      <td>30</td>\n",
       "      <td>10</td>\n",
       "      <td>NaN</td>\n",
       "      <td>NaN</td>\n",
       "      <td>30</td>\n",
       "      <td>14</td>\n",
       "      <td>NaN</td>\n",
       "      <td>NaN</td>\n",
       "      <td>20</td>\n",
       "      <td>5</td>\n",
       "      <td>NaN</td>\n",
       "      <td>NaN</td>\n",
       "      <td>40</td>\n",
       "      <td>16</td>\n",
       "      <td>NaN</td>\n",
       "      <td>NaN</td>\n",
       "      <td>40</td>\n",
       "      <td>16</td>\n",
       "      <td>NaN</td>\n",
       "      <td>358</td>\n",
       "      <td>358</td>\n",
       "      <td>Completed</td>\n",
       "      <td>INR</td>\n",
       "      <td>2020-08-22 16:31:05</td>\n",
       "      <td>New Record  -  Record added</td>\n",
       "      <td>NaN</td>\n",
       "      <td>sudeep@systematiq.in</td>\n",
       "      <td>Aakanksha; Singh 2020-08-22 16:31:05</td>\n",
       "      <td>Girnar Heights</td>\n",
       "    </tr>\n",
       "    <tr>\n",
       "      <th>2</th>\n",
       "      <td>Aarti; Baliga</td>\n",
       "      <td>Sector 1/2</td>\n",
       "      <td>NaN</td>\n",
       "      <td>NaN</td>\n",
       "      <td>NaN</td>\n",
       "      <td>NaN</td>\n",
       "      <td>Emerald</td>\n",
       "      <td>NaN</td>\n",
       "      <td>Not Applicable</td>\n",
       "      <td>303</td>\n",
       "      <td>9833568843</td>\n",
       "      <td>anbaliga@gmail.com</td>\n",
       "      <td>Sunday Aug 23rd</td>\n",
       "      <td>NaN</td>\n",
       "      <td>36</td>\n",
       "      <td>28</td>\n",
       "      <td>NaN</td>\n",
       "      <td>NaN</td>\n",
       "      <td>18</td>\n",
       "      <td>12</td>\n",
       "      <td>2.0</td>\n",
       "      <td>NaN</td>\n",
       "      <td>45</td>\n",
       "      <td>25</td>\n",
       "      <td>1.0</td>\n",
       "      <td>NaN</td>\n",
       "      <td>24</td>\n",
       "      <td>11</td>\n",
       "      <td>NaN</td>\n",
       "      <td>NaN</td>\n",
       "      <td>28</td>\n",
       "      <td>13</td>\n",
       "      <td>1.0</td>\n",
       "      <td>NaN</td>\n",
       "      <td>20</td>\n",
       "      <td>6</td>\n",
       "      <td>NaN</td>\n",
       "      <td>NaN</td>\n",
       "      <td>35</td>\n",
       "      <td>15</td>\n",
       "      <td>NaN</td>\n",
       "      <td>NaN</td>\n",
       "      <td>24</td>\n",
       "      <td>9</td>\n",
       "      <td>NaN</td>\n",
       "      <td>NaN</td>\n",
       "      <td>25</td>\n",
       "      <td>12</td>\n",
       "      <td>NaN</td>\n",
       "      <td>NaN</td>\n",
       "      <td>17</td>\n",
       "      <td>8</td>\n",
       "      <td>2.0</td>\n",
       "      <td>NaN</td>\n",
       "      <td>25</td>\n",
       "      <td>13</td>\n",
       "      <td>NaN</td>\n",
       "      <td>NaN</td>\n",
       "      <td>20</td>\n",
       "      <td>9</td>\n",
       "      <td>NaN</td>\n",
       "      <td>NaN</td>\n",
       "      <td>14</td>\n",
       "      <td>7</td>\n",
       "      <td>NaN</td>\n",
       "      <td>NaN</td>\n",
       "      <td>60</td>\n",
       "      <td>30</td>\n",
       "      <td>NaN</td>\n",
       "      <td>NaN</td>\n",
       "      <td>25</td>\n",
       "      <td>8</td>\n",
       "      <td>1.0</td>\n",
       "      <td>NaN</td>\n",
       "      <td>28</td>\n",
       "      <td>10</td>\n",
       "      <td>NaN</td>\n",
       "      <td>NaN</td>\n",
       "      <td>25</td>\n",
       "      <td>15</td>\n",
       "      <td>NaN</td>\n",
       "      <td>NaN</td>\n",
       "      <td>40</td>\n",
       "      <td>20</td>\n",
       "      <td>NaN</td>\n",
       "      <td>NaN</td>\n",
       "      <td>17</td>\n",
       "      <td>10</td>\n",
       "      <td>NaN</td>\n",
       "      <td>NaN</td>\n",
       "      <td>40</td>\n",
       "      <td>18</td>\n",
       "      <td>1.0</td>\n",
       "      <td>NaN</td>\n",
       "      <td>60</td>\n",
       "      <td>33</td>\n",
       "      <td>NaN</td>\n",
       "      <td>NaN</td>\n",
       "      <td>45</td>\n",
       "      <td>30</td>\n",
       "      <td>3.0</td>\n",
       "      <td>NaN</td>\n",
       "      <td>40</td>\n",
       "      <td>16</td>\n",
       "      <td>NaN</td>\n",
       "      <td>NaN</td>\n",
       "      <td>35</td>\n",
       "      <td>11</td>\n",
       "      <td>NaN</td>\n",
       "      <td>NaN</td>\n",
       "      <td>85</td>\n",
       "      <td>53</td>\n",
       "      <td>1.0</td>\n",
       "      <td>NaN</td>\n",
       "      <td>35</td>\n",
       "      <td>18</td>\n",
       "      <td>3.0</td>\n",
       "      <td>NaN</td>\n",
       "      <td>250</td>\n",
       "      <td>205</td>\n",
       "      <td>NaN</td>\n",
       "      <td>NaN</td>\n",
       "      <td>120</td>\n",
       "      <td>65</td>\n",
       "      <td>NaN</td>\n",
       "      <td>NaN</td>\n",
       "      <td>180</td>\n",
       "      <td>114</td>\n",
       "      <td>NaN</td>\n",
       "      <td>NaN</td>\n",
       "      <td>85</td>\n",
       "      <td>50</td>\n",
       "      <td>NaN</td>\n",
       "      <td>NaN</td>\n",
       "      <td>95</td>\n",
       "      <td>78</td>\n",
       "      <td>NaN</td>\n",
       "      <td>NaN</td>\n",
       "      <td>22</td>\n",
       "      <td>10</td>\n",
       "      <td>NaN</td>\n",
       "      <td>NaN</td>\n",
       "      <td>50</td>\n",
       "      <td>28</td>\n",
       "      <td>NaN</td>\n",
       "      <td>NaN</td>\n",
       "      <td>32</td>\n",
       "      <td>23</td>\n",
       "      <td>NaN</td>\n",
       "      <td>NaN</td>\n",
       "      <td>20</td>\n",
       "      <td>7</td>\n",
       "      <td>NaN</td>\n",
       "      <td>NaN</td>\n",
       "      <td>15</td>\n",
       "      <td>4</td>\n",
       "      <td>NaN</td>\n",
       "      <td>NaN</td>\n",
       "      <td>5</td>\n",
       "      <td>5</td>\n",
       "      <td>NaN</td>\n",
       "      <td>NaN</td>\n",
       "      <td>40</td>\n",
       "      <td>32</td>\n",
       "      <td>1.0</td>\n",
       "      <td>NaN</td>\n",
       "      <td>10</td>\n",
       "      <td>5</td>\n",
       "      <td>NaN</td>\n",
       "      <td>NaN</td>\n",
       "      <td>10</td>\n",
       "      <td>4</td>\n",
       "      <td>NaN</td>\n",
       "      <td>NaN</td>\n",
       "      <td>30</td>\n",
       "      <td>17</td>\n",
       "      <td>1.0</td>\n",
       "      <td>NaN</td>\n",
       "      <td>28</td>\n",
       "      <td>10</td>\n",
       "      <td>NaN</td>\n",
       "      <td>NaN</td>\n",
       "      <td>48</td>\n",
       "      <td>33</td>\n",
       "      <td>NaN</td>\n",
       "      <td>NaN</td>\n",
       "      <td>130</td>\n",
       "      <td>92</td>\n",
       "      <td>NaN</td>\n",
       "      <td>NaN</td>\n",
       "      <td>30</td>\n",
       "      <td>10</td>\n",
       "      <td>NaN</td>\n",
       "      <td>NaN</td>\n",
       "      <td>30</td>\n",
       "      <td>14</td>\n",
       "      <td>NaN</td>\n",
       "      <td>NaN</td>\n",
       "      <td>20</td>\n",
       "      <td>5</td>\n",
       "      <td>NaN</td>\n",
       "      <td>NaN</td>\n",
       "      <td>40</td>\n",
       "      <td>16</td>\n",
       "      <td>NaN</td>\n",
       "      <td>NaN</td>\n",
       "      <td>40</td>\n",
       "      <td>16</td>\n",
       "      <td>NaN</td>\n",
       "      <td>603</td>\n",
       "      <td>603</td>\n",
       "      <td>Completed</td>\n",
       "      <td>INR</td>\n",
       "      <td>2020-08-19 20:22:14</td>\n",
       "      <td>New Record  -  Record added</td>\n",
       "      <td>NaN</td>\n",
       "      <td>sudeep@systematiq.in</td>\n",
       "      <td>Aarti; Baliga 2020-08-19 20:22:14</td>\n",
       "      <td>Emerald</td>\n",
       "    </tr>\n",
       "  </tbody>\n",
       "</table>\n",
       "</div>"
      ],
      "text/plain": [
       "               Name Select Drop Point Select Building Ivory  \\\n",
       "0   Aakanksha; Kaul             Ivory     Himalayan Heights   \n",
       "1  Aakanksha; Singh             Ivory        Girnar Heights   \n",
       "2     Aarti; Baliga        Sector 1/2                   NaN   \n",
       "\n",
       "   Select Building Wellness Forever Select Building NCP  \\\n",
       "0                               NaN                 NaN   \n",
       "1                               NaN                 NaN   \n",
       "2                               NaN                 NaN   \n",
       "\n",
       "  Select Building Ajmera iLand Select Building Sector 1/2  \\\n",
       "0                          NaN                        NaN   \n",
       "1                          NaN                        NaN   \n",
       "2                          NaN                    Emerald   \n",
       "\n",
       "  Select Building Cosmic     Select Wing Flat No       Phone  \\\n",
       "0                    NaN          A Wing    1002  9099996666   \n",
       "1                    NaN          B Wing     403  9999914917   \n",
       "2                    NaN  Not Applicable     303  9833568843   \n",
       "\n",
       "                         Email Select Delivery Date  Potatoes  Potato Price  \\\n",
       "0       vishaldlagad@gmail.com      Sunday Aug 23rd       NaN            36   \n",
       "1  karolia.aakanksha@gmail.com         Mon Aug 24th       NaN            36   \n",
       "2           anbaliga@gmail.com      Sunday Aug 23rd       NaN            36   \n",
       "\n",
       "   Potato Cost Price  Select Quantity of Potatoes  Red Onions  \\\n",
       "0                 28                          2.0         NaN   \n",
       "1                 28                          NaN         NaN   \n",
       "2                 28                          NaN         NaN   \n",
       "\n",
       "   Red Onions Price  Red Onions Cost Price  Select Quantity of Red Onions  \\\n",
       "0                18                     12                            2.0   \n",
       "1                18                     12                            NaN   \n",
       "2                18                     12                            2.0   \n",
       "\n",
       "   Cauliflower  Cauliflower Price  Cauliflower Cost Price  \\\n",
       "0          NaN                 45                      25   \n",
       "1          NaN                 45                      25   \n",
       "2          NaN                 45                      25   \n",
       "\n",
       "   Select Quantity of Cauliflower  Cabbage  Cabbage Price  Cabbage Cost Price  \\\n",
       "0                             3.0      NaN             24                  11   \n",
       "1                             NaN      NaN             24                  11   \n",
       "2                             1.0      NaN             24                  11   \n",
       "\n",
       "   Select Quantity of Cabbage  Brinjal Bharta  Brinjal Bharta Price  \\\n",
       "0                         NaN             NaN                    28   \n",
       "1                         NaN             NaN                    28   \n",
       "2                         NaN             NaN                    28   \n",
       "\n",
       "   Brinjal Bharta Cost Price  Select Quantity of Brinjal Bharta  Pumpkin  \\\n",
       "0                         13                                3.0      NaN   \n",
       "1                         13                                NaN      NaN   \n",
       "2                         13                                1.0      NaN   \n",
       "\n",
       "   Pumpkin Price  Pumpkin Cost Price  Select Quantity of Pumpkin  \\\n",
       "0             20                   6                         3.0   \n",
       "1             20                   6                         NaN   \n",
       "2             20                   6                         NaN   \n",
       "\n",
       "   Brinjal Kateri  Brinjal Kateri Price  Brinjal Kateri Cost Price  \\\n",
       "0             NaN                    35                         15   \n",
       "1             NaN                    35                         15   \n",
       "2             NaN                    35                         15   \n",
       "\n",
       "   Select Quantity of Brinjal Kateri  Cucumber  Cucumber Price  \\\n",
       "0                                NaN       NaN              24   \n",
       "1                                NaN       NaN              24   \n",
       "2                                NaN       NaN              24   \n",
       "\n",
       "   Cucumber Cost Price  Select Quantity of Cucumber  Bhindi/Lady's Finger  \\\n",
       "0                    9                          NaN                   NaN   \n",
       "1                    9                          NaN                   NaN   \n",
       "2                    9                          NaN                   NaN   \n",
       "\n",
       "   Bhindi/Lady's Finger Price  Bhindi/Lady's Finger Cost Price  \\\n",
       "0                          25                               12   \n",
       "1                          25                               12   \n",
       "2                          25                               12   \n",
       "\n",
       "   Select Quantity of Bhindi/Lady's Finger  Bitter Gourd  Bitter Gourd Price  \\\n",
       "0                                      NaN           NaN                  17   \n",
       "1                                      NaN           NaN                  17   \n",
       "2                                      NaN           NaN                  17   \n",
       "\n",
       "   Bitter Gourd Cost Price  Select Quantity of Bitter Gourd  Sponge Gourd  \\\n",
       "0                        8                              NaN           NaN   \n",
       "1                        8                              NaN           NaN   \n",
       "2                        8                              2.0           NaN   \n",
       "\n",
       "   Sponge Gourd Price  Sponge Gourd Cost Price  \\\n",
       "0                  25                       13   \n",
       "1                  25                       13   \n",
       "2                  25                       13   \n",
       "\n",
       "   Select Quantity of Sponge Gourd  Beetroot  Beetroot Price  \\\n",
       "0                              2.0       NaN              20   \n",
       "1                              NaN       NaN              20   \n",
       "2                              NaN       NaN              20   \n",
       "\n",
       "   Beetroot Cost Price  Select Quantity of Beetroot  Tondli  Tondli Price  \\\n",
       "0                    9                          NaN     NaN            14   \n",
       "1                    9                          NaN     NaN            14   \n",
       "2                    9                          NaN     NaN            14   \n",
       "\n",
       "   Tondli Cost Price  Select Quantity of Tondli  Button Mushrooms  \\\n",
       "0                  7                        2.0               NaN   \n",
       "1                  7                        NaN               NaN   \n",
       "2                  7                        NaN               NaN   \n",
       "\n",
       "   Button Mushroom Price  Button Mushroom Cost Price  \\\n",
       "0                     60                          30   \n",
       "1                     60                          30   \n",
       "2                     60                          30   \n",
       "\n",
       "   Select Quantity of Button Mushroom  Raw Banana  Raw Banana Price  \\\n",
       "0                                 3.0         NaN                25   \n",
       "1                                 NaN         NaN                25   \n",
       "2                                 NaN         NaN                25   \n",
       "\n",
       "   Raw Banana Cost Price  Select Quantity of Raw Banana  Bottle Gourd  \\\n",
       "0                      8                            NaN           NaN   \n",
       "1                      8                            NaN           NaN   \n",
       "2                      8                            1.0           NaN   \n",
       "\n",
       "   Bottle Gourd Price  Bottle Gourd Cost Price  \\\n",
       "0                  28                       10   \n",
       "1                  28                       10   \n",
       "2                  28                       10   \n",
       "\n",
       "   Select Quantity of Bottle Gourd  Drumsticks  Drumsticks Price  \\\n",
       "0                              3.0         NaN                25   \n",
       "1                              NaN         NaN                25   \n",
       "2                              NaN         NaN                25   \n",
       "\n",
       "   Drumsticks Cost Price  Select Quantity of Drumsticks  Capsicum  \\\n",
       "0                     15                            NaN       NaN   \n",
       "1                     15                            NaN       NaN   \n",
       "2                     15                            NaN       NaN   \n",
       "\n",
       "   Capsicum Price  Capsicum Cost Price  Select Quantity of Capsicum  \\\n",
       "0              40                   20                          3.0   \n",
       "1              40                   20                          NaN   \n",
       "2              40                   20                          NaN   \n",
       "\n",
       "   Gawar/Cluster Beans  Gawar/Cluster Beans Price  \\\n",
       "0                  NaN                         17   \n",
       "1                  NaN                         17   \n",
       "2                  NaN                         17   \n",
       "\n",
       "   Gawar/Cluster Beans Cost Price  Select Quantity of Gawar/Cluster Beans  \\\n",
       "0                              10                                     NaN   \n",
       "1                              10                                     NaN   \n",
       "2                              10                                     NaN   \n",
       "\n",
       "   French Beans  French Beans Price  French Beans Cost Price  \\\n",
       "0           NaN                  40                       18   \n",
       "1           NaN                  40                       18   \n",
       "2           NaN                  40                       18   \n",
       "\n",
       "   Select Quantity of French Beans  Baby Corn  Baby Corn Price  \\\n",
       "0                              3.0        NaN               60   \n",
       "1                              NaN        NaN               60   \n",
       "2                              1.0        NaN               60   \n",
       "\n",
       "   Baby Corn Cost Price  Select Quantity of Baby Corn  Tomato  Tomato Price  \\\n",
       "0                    33                           NaN     NaN            45   \n",
       "1                    33                           NaN     NaN            45   \n",
       "2                    33                           NaN     NaN            45   \n",
       "\n",
       "   Tomato Cost Price  Select Quantity of Tomato  Cherry Tomatoes  \\\n",
       "0                 30                        3.0              NaN   \n",
       "1                 30                        NaN              NaN   \n",
       "2                 30                        3.0              NaN   \n",
       "\n",
       "   Cherry Tomato Price  Cherry Tomato Cost Price  \\\n",
       "0                   40                        16   \n",
       "1                   40                        16   \n",
       "2                   40                        16   \n",
       "\n",
       "   Select Quantity of Cherry Tomatoes  Sweet Corn  Sweet Corn Price  \\\n",
       "0                                 NaN         NaN                35   \n",
       "1                                 NaN         NaN                35   \n",
       "2                                 NaN         NaN                35   \n",
       "\n",
       "   Sweet Corn Cost Price  Select Quantity of Sweet Corn  Broccoli  \\\n",
       "0                     11                            NaN       NaN   \n",
       "1                     11                            1.0       NaN   \n",
       "2                     11                            NaN       NaN   \n",
       "\n",
       "   Broccoli Price  Broccoli Cost Price  Select Quantity of Broccoli  Lettuce  \\\n",
       "0              85                   53                          2.0      NaN   \n",
       "1              85                   53                          NaN      NaN   \n",
       "2              85                   53                          1.0      NaN   \n",
       "\n",
       "   Lettuce Price  Lettuce Cost Price  Select Quantity of Lettuce  \\\n",
       "0             35                  18                         NaN   \n",
       "1             35                  18                         NaN   \n",
       "2             35                  18                         3.0   \n",
       "\n",
       "   Apples Washington Per Kg  Apples Washington Price  \\\n",
       "0                       NaN                      250   \n",
       "1                       NaN                      250   \n",
       "2                       NaN                      250   \n",
       "\n",
       "   Apples Washington Cost Price  Select Quantity of Apples Washington  \\\n",
       "0                           205                                   NaN   \n",
       "1                           205                                   NaN   \n",
       "2                           205                                   NaN   \n",
       "\n",
       "   VNR Guava  VNR Guava Price  VNR Guava Cost Price  \\\n",
       "0        NaN              120                    65   \n",
       "1        NaN              120                    65   \n",
       "2        NaN              120                    65   \n",
       "\n",
       "   Select Quantity of VNR Guava  Orange Imported  Imported Oranges Price  \\\n",
       "0                           NaN              NaN                     180   \n",
       "1                           NaN              NaN                     180   \n",
       "2                           NaN              NaN                     180   \n",
       "\n",
       "   Imported Oranges Cost Price  Select Quantity of Imported Oranges  \\\n",
       "0                          114                                  NaN   \n",
       "1                          114                                  1.0   \n",
       "2                          114                                  NaN   \n",
       "\n",
       "   Pineapple Whole  Pineapple Whole Price  Pineapple Whole Cost Price  \\\n",
       "0              NaN                     85                          50   \n",
       "1              NaN                     85                          50   \n",
       "2              NaN                     85                          50   \n",
       "\n",
       "   Select Quantity of Pineapple Whole  Kiwi Zespri Imported  \\\n",
       "0                                 NaN                   NaN   \n",
       "1                                 NaN                   NaN   \n",
       "2                                 NaN                   NaN   \n",
       "\n",
       "   Kiwi Zespri Imported Price  Kiwi Zespri Imported Cost Price  \\\n",
       "0                          95                               78   \n",
       "1                          95                               78   \n",
       "2                          95                               78   \n",
       "\n",
       "   Select Quantity of Kiwi Zespri Imported  Banana Regular  Banana Price  \\\n",
       "0                                      NaN             NaN            22   \n",
       "1                                      NaN             NaN            22   \n",
       "2                                      NaN             NaN            22   \n",
       "\n",
       "   Banana Cost Price  Select Quantity of Banana  Garlic  Garlic Price  \\\n",
       "0                 10                        NaN     NaN            50   \n",
       "1                 10                        NaN     NaN            50   \n",
       "2                 10                        NaN     NaN            50   \n",
       "\n",
       "   Garlic Cost Price  Select Quantity of Garlic  GInger  Ginger Price  \\\n",
       "0                 28                        NaN     NaN            32   \n",
       "1                 28                        NaN     NaN            32   \n",
       "2                 28                        NaN     NaN            32   \n",
       "\n",
       "   Ginger Cost Price  Select Quantity of Ginger  Green Chilly  \\\n",
       "0                 23                        NaN           NaN   \n",
       "1                 23                        NaN           NaN   \n",
       "2                 23                        NaN           NaN   \n",
       "\n",
       "   Green Chilly Price  Green Chilly Cost Price  \\\n",
       "0                  20                        7   \n",
       "1                  20                        7   \n",
       "2                  20                        7   \n",
       "\n",
       "   Select Quantity of Green Chilly  Lemons  Lemons Price  Lemons Cost Price  \\\n",
       "0                              NaN     NaN            15                  4   \n",
       "1                              NaN     NaN            15                  4   \n",
       "2                              NaN     NaN            15                  4   \n",
       "\n",
       "   Select Quantity of Lemons  Curry Leaves  Curry Leaves Price  \\\n",
       "0                        3.0           NaN                   5   \n",
       "1                        1.0           NaN                   5   \n",
       "2                        NaN           NaN                   5   \n",
       "\n",
       "   Curry Leaves Cost Price  Select Quantity of Curry Leaves  Coriander Leaves  \\\n",
       "0                        5                              NaN               NaN   \n",
       "1                        5                              NaN               NaN   \n",
       "2                        5                              NaN               NaN   \n",
       "\n",
       "   Coriander Leaves Price  Coriander Leaves Cost Price  \\\n",
       "0                      40                           32   \n",
       "1                      40                           32   \n",
       "2                      40                           32   \n",
       "\n",
       "   Select Quantity of Coriander Leaves  Mint Leaves  Mint Leaves Price  \\\n",
       "0                                  3.0          NaN                 10   \n",
       "1                                  1.0          NaN                 10   \n",
       "2                                  1.0          NaN                 10   \n",
       "\n",
       "   Mint Leaves Cost Price  Select Quantity of Mint Leaves  Lemongrass  \\\n",
       "0                       5                             NaN         NaN   \n",
       "1                       5                             1.0         NaN   \n",
       "2                       5                             NaN         NaN   \n",
       "\n",
       "   Lemongrass Price  Lemongrass Cost Price  Select Quantity of Lemongrass  \\\n",
       "0                10                      4                            3.0   \n",
       "1                10                      4                            NaN   \n",
       "2                10                      4                            NaN   \n",
       "\n",
       "   Palak/Spinach  Palak/Spinach Price  Palak/Spinach Cost Price  \\\n",
       "0            NaN                   30                        17   \n",
       "1            NaN                   30                        17   \n",
       "2            NaN                   30                        17   \n",
       "\n",
       "   Select Quantity of Palak/Spinach  Shepu/Dill Leaves  \\\n",
       "0                               2.0                NaN   \n",
       "1                               1.0                NaN   \n",
       "2                               1.0                NaN   \n",
       "\n",
       "   Shepu/Dill Leaves Price  Shepu/Dill Leaves Cost Price  \\\n",
       "0                       28                            10   \n",
       "1                       28                            10   \n",
       "2                       28                            10   \n",
       "\n",
       "   Select Quantity of Shepu/Dill Leaves  Methi Leaves  Methi Leaves Price  \\\n",
       "0                                   NaN           NaN                  48   \n",
       "1                                   NaN           NaN                  48   \n",
       "2                                   NaN           NaN                  48   \n",
       "\n",
       "   Methi Leaves Cost Price  Select Quantity of Methi Leaves  \\\n",
       "0                       33                              2.0   \n",
       "1                       33                              1.0   \n",
       "2                       33                              NaN   \n",
       "\n",
       "   Red/Yellow Bell Peppers  Red/Yellow Bell Peppers Price  \\\n",
       "0                      NaN                            130   \n",
       "1                      NaN                            130   \n",
       "2                      NaN                            130   \n",
       "\n",
       "   Red/Yellow Bell Peppers Cost Price  \\\n",
       "0                                  92   \n",
       "1                                  92   \n",
       "2                                  92   \n",
       "\n",
       "   Select Quantity of Red/Yellow Bell Peppers  Green Zucchini  \\\n",
       "0                                         NaN             NaN   \n",
       "1                                         NaN             NaN   \n",
       "2                                         NaN             NaN   \n",
       "\n",
       "   Green Zucchini Price  Green Zucchini Cost Price  \\\n",
       "0                    30                         10   \n",
       "1                    30                         10   \n",
       "2                    30                         10   \n",
       "\n",
       "   Select Quantity of Green Zucchini  Yellow Zucchini  Yellow Zucchini Price  \\\n",
       "0                                NaN              NaN                     30   \n",
       "1                                NaN              NaN                     30   \n",
       "2                                NaN              NaN                     30   \n",
       "\n",
       "   Yellow Zucchini Cost Price  Select Quantity of Yellow Zucchini  \\\n",
       "0                          14                                 NaN   \n",
       "1                          14                                 NaN   \n",
       "2                          14                                 NaN   \n",
       "\n",
       "   Arbi Leaves  Arbi Leaves Price  Arbi Leaves Cost Price  \\\n",
       "0          NaN                 20                       5   \n",
       "1          NaN                 20                       5   \n",
       "2          NaN                 20                       5   \n",
       "\n",
       "   Select Quantity of Arbi Leaves  Basil Leaves  Basil Leaves Price  \\\n",
       "0                             NaN           NaN                  40   \n",
       "1                             NaN           NaN                  40   \n",
       "2                             NaN           NaN                  40   \n",
       "\n",
       "   Basil Leaves Cost Price  Select Quantity of Basil Leaves  Arbi/Colocasia  \\\n",
       "0                       16                              NaN             NaN   \n",
       "1                       16                              NaN             NaN   \n",
       "2                       16                              NaN             NaN   \n",
       "\n",
       "   Arbi/Colocasia Price  Arbi/Colocasia Cost Price  \\\n",
       "0                    40                         16   \n",
       "1                    40                         16   \n",
       "2                    40                         16   \n",
       "\n",
       "   Select Quantity of Arbi/Colocasia  Total Amount  Payment Amount  \\\n",
       "0                                NaN          1625            1625   \n",
       "1                                NaN           358             358   \n",
       "2                                NaN           603             603   \n",
       "\n",
       "  Payment Status Payment Currency          Added Time  \\\n",
       "0      Completed              INR 2020-08-19 00:15:58   \n",
       "1      Completed              INR 2020-08-22 16:31:05   \n",
       "2      Completed              INR 2020-08-19 20:22:14   \n",
       "\n",
       "                    CRM Status  Referrer Name            Task Owner  \\\n",
       "0                          NaN            NaN  sudeep@systematiq.in   \n",
       "1  New Record  -  Record added            NaN  sudeep@systematiq.in   \n",
       "2  New Record  -  Record added            NaN  sudeep@systematiq.in   \n",
       "\n",
       "                                    key           building  \n",
       "0   Aakanksha; Kaul 2020-08-19 00:15:58  Himalayan Heights  \n",
       "1  Aakanksha; Singh 2020-08-22 16:31:05     Girnar Heights  \n",
       "2     Aarti; Baliga 2020-08-19 20:22:14            Emerald  "
      ]
     },
     "execution_count": 205,
     "metadata": {},
     "output_type": "execute_result"
    }
   ],
   "source": [
    "df.head(3)"
   ]
  },
  {
   "cell_type": "markdown",
   "metadata": {},
   "source": [
    "## Add indexing key"
   ]
  },
  {
   "cell_type": "code",
   "execution_count": 70,
   "metadata": {
    "ExecuteTime": {
     "end_time": "2020-08-23T18:57:38.048054Z",
     "start_time": "2020-08-23T18:57:38.042103Z"
    }
   },
   "outputs": [],
   "source": [
    "df['key'] = df['Name'] + ' ' + df['Added Time'].astype(str)"
   ]
  },
  {
   "cell_type": "markdown",
   "metadata": {},
   "source": [
    "## Pull out the Select Building columns"
   ]
  },
  {
   "cell_type": "code",
   "execution_count": 71,
   "metadata": {
    "ExecuteTime": {
     "end_time": "2020-08-23T18:58:52.222947Z",
     "start_time": "2020-08-23T18:58:52.217961Z"
    }
   },
   "outputs": [],
   "source": [
    "bldg_cols = []\n",
    "\n",
    "for col in df.columns:\n",
    "    if 'select building' in col.lower():\n",
    "        bldg_cols.append(col)\n",
    "\n",
    "df['building'] = df[bldg_cols].fillna('').sum(axis=1)"
   ]
  },
  {
   "cell_type": "markdown",
   "metadata": {},
   "source": [
    "## Subset only successfully paid orders"
   ]
  },
  {
   "cell_type": "code",
   "execution_count": 11,
   "metadata": {
    "ExecuteTime": {
     "end_time": "2020-08-23T17:51:25.027412Z",
     "start_time": "2020-08-23T17:51:25.021426Z"
    }
   },
   "outputs": [
    {
     "data": {
      "text/plain": [
       "array(['Completed', 'Network Error'], dtype=object)"
      ]
     },
     "execution_count": 11,
     "metadata": {},
     "output_type": "execute_result"
    }
   ],
   "source": [
    "df['Payment Status'].unique()"
   ]
  },
  {
   "cell_type": "code",
   "execution_count": 76,
   "metadata": {
    "ExecuteTime": {
     "end_time": "2020-08-23T19:00:57.323130Z",
     "start_time": "2020-08-23T19:00:57.315170Z"
    }
   },
   "outputs": [],
   "source": [
    "df = df[df['Payment Status'].isin(STATUSES2PROCESS)]"
   ]
  },
  {
   "cell_type": "code",
   "execution_count": 78,
   "metadata": {
    "ExecuteTime": {
     "end_time": "2020-08-23T19:01:06.179745Z",
     "start_time": "2020-08-23T19:01:06.173760Z"
    }
   },
   "outputs": [
    {
     "data": {
      "text/plain": [
       "array(['Completed', 'Network Error'], dtype=object)"
      ]
     },
     "execution_count": 78,
     "metadata": {},
     "output_type": "execute_result"
    }
   ],
   "source": [
    "# verification\n",
    "df['Payment Status'].unique()"
   ]
  },
  {
   "cell_type": "markdown",
   "metadata": {},
   "source": [
    "## Generating Tokens"
   ]
  },
  {
   "cell_type": "markdown",
   "metadata": {},
   "source": [
    "Sort by Drop Point, Building, Wing and then generate Token Values."
   ]
  },
  {
   "cell_type": "code",
   "execution_count": 210,
   "metadata": {
    "ExecuteTime": {
     "end_time": "2020-08-23T21:06:40.470323Z",
     "start_time": "2020-08-23T21:06:40.461316Z"
    }
   },
   "outputs": [],
   "source": [
    "df = df.sort_values(['Select Drop Point', 'building', 'Select Wing'])\n",
    "df['Token No'] = range(1, len(df)+1)"
   ]
  },
  {
   "cell_type": "markdown",
   "metadata": {},
   "source": [
    "## Check for duplicate entries"
   ]
  },
  {
   "cell_type": "code",
   "execution_count": 15,
   "metadata": {
    "ExecuteTime": {
     "end_time": "2020-08-23T17:51:32.705438Z",
     "start_time": "2020-08-23T17:51:32.700425Z"
    }
   },
   "outputs": [],
   "source": [
    "assert len(df) == len(df['key'].unique())"
   ]
  },
  {
   "cell_type": "markdown",
   "metadata": {
    "ExecuteTime": {
     "end_time": "2020-08-17T19:31:54.383744Z",
     "start_time": "2020-08-17T19:31:54.379755Z"
    }
   },
   "source": [
    "## Build Items Dictionary"
   ]
  },
  {
   "cell_type": "markdown",
   "metadata": {},
   "source": [
    "    orders dictionary, one record looks like:\n",
    "\n",
    "    {\n",
    "        key:\n",
    "        {\n",
    "            name : str,\n",
    "            drop_point : str,\n",
    "            building : str,\n",
    "            wing : str,\n",
    "            flat : str,\n",
    "            phone : numeric,\n",
    "            email : str,\n",
    "            delivery_date : datetime,\n",
    "            order : dict,\n",
    "            total_amount : float,\n",
    "            payment_status : str\n",
    "        }\n",
    "    }\n",
    "\n",
    "\n",
    "    items_dict:\n",
    "\n",
    "    {\n",
    "        item_name : \n",
    "        {\n",
    "            sell_price : float,\n",
    "            cost_price : float,\n",
    "            packing_size : // to be read from another excel\n",
    "        }\n",
    "    }"
   ]
  },
  {
   "cell_type": "markdown",
   "metadata": {},
   "source": [
    "If 'quantity of' occurs in column header, leave the first three words and extract the rest as your item key."
   ]
  },
  {
   "cell_type": "code",
   "execution_count": 80,
   "metadata": {
    "ExecuteTime": {
     "end_time": "2020-08-23T19:05:14.158708Z",
     "start_time": "2020-08-23T19:05:14.153731Z"
    }
   },
   "outputs": [],
   "source": [
    "# extremely naive, needs a fix\n",
    "all_items = [\" \".join(i.split()[3:]) for i in df.columns if 'quantity of' in i.lower()]"
   ]
  },
  {
   "cell_type": "code",
   "execution_count": 82,
   "metadata": {
    "ExecuteTime": {
     "end_time": "2020-08-23T19:05:59.347462Z",
     "start_time": "2020-08-23T19:05:59.343506Z"
    }
   },
   "outputs": [],
   "source": [
    "items_dict = {}"
   ]
  },
  {
   "cell_type": "code",
   "execution_count": 83,
   "metadata": {
    "ExecuteTime": {
     "end_time": "2020-08-23T19:05:59.571724Z",
     "start_time": "2020-08-23T19:05:59.566705Z"
    }
   },
   "outputs": [],
   "source": [
    "def get_sell_price(item):\n",
    "    val = df[item + ' ' + 'Price'].values[0]\n",
    "    return val\n",
    "\n",
    "def get_cost_price(item):\n",
    "    val = df[item + ' ' + 'Cost Price'].values[0]\n",
    "    return val"
   ]
  },
  {
   "cell_type": "code",
   "execution_count": 84,
   "metadata": {
    "ExecuteTime": {
     "end_time": "2020-08-23T19:06:05.470895Z",
     "start_time": "2020-08-23T19:06:05.459895Z"
    }
   },
   "outputs": [],
   "source": [
    "df_psize = pd.read_csv(\"C:/Playground/bhaiya-orders/zoho-bhor-farms/database/Packing Size.csv\")\n",
    "psize_dict = df_psize.set_index('Item').to_dict(orient='index')"
   ]
  },
  {
   "cell_type": "code",
   "execution_count": 85,
   "metadata": {
    "ExecuteTime": {
     "end_time": "2020-08-23T19:06:12.541765Z",
     "start_time": "2020-08-23T19:06:12.537777Z"
    }
   },
   "outputs": [],
   "source": [
    "def get_packing_size(item):\n",
    "#     if item in psize_dict.keys():\n",
    "    return psize_dict[item]['Size']\n",
    "#     return 1\n",
    "\n",
    "def get_unit(item):\n",
    "#     if item in psize_dict.keys():\n",
    "    return psize_dict[item]['Unit']\n",
    "#     return 1"
   ]
  },
  {
   "cell_type": "code",
   "execution_count": 87,
   "metadata": {
    "ExecuteTime": {
     "end_time": "2020-08-23T19:06:28.411024Z",
     "start_time": "2020-08-23T19:06:28.399028Z"
    }
   },
   "outputs": [],
   "source": [
    "for item in all_items:\n",
    "    dct = {}\n",
    "    dct['packing_size'] = get_packing_size(item)\n",
    "    dct['unit'] = get_unit(item)\n",
    "#     if item == 'Cherry Tomatoes': item = 'Cherry Tomato'\n",
    "#     if item == 'Potatoes': item = 'Potato'\n",
    "    \n",
    "    dct['sell_price'] = get_sell_price(item)\n",
    "    dct['cost_price'] = get_cost_price(item)\n",
    "    items_dict[item] = dct"
   ]
  },
  {
   "cell_type": "markdown",
   "metadata": {},
   "source": [
    "## Build Master Dictionary"
   ]
  },
  {
   "cell_type": "code",
   "execution_count": 28,
   "metadata": {
    "ExecuteTime": {
     "end_time": "2020-08-23T17:52:46.736615Z",
     "start_time": "2020-08-23T17:52:46.732630Z"
    }
   },
   "outputs": [],
   "source": [
    "# # because few flats were not captured\n",
    "# df['Flat No'] = df['Flat No'].fillna('NOT CAPTURED')"
   ]
  },
  {
   "cell_type": "code",
   "execution_count": 29,
   "metadata": {
    "ExecuteTime": {
     "end_time": "2020-08-23T17:52:47.467962Z",
     "start_time": "2020-08-23T17:52:47.460971Z"
    }
   },
   "outputs": [],
   "source": [
    "df.fillna(0, inplace=True)"
   ]
  },
  {
   "cell_type": "code",
   "execution_count": 30,
   "metadata": {
    "ExecuteTime": {
     "end_time": "2020-08-23T17:52:48.065609Z",
     "start_time": "2020-08-23T17:52:48.043671Z"
    }
   },
   "outputs": [],
   "source": [
    "# create a mapping from item_id to the corresponding column to make sure no item goes unmapped\n",
    "\n",
    "item2dropdowncol = {i : '' for i in all_items}\n",
    "\n",
    "for index, row in df.iterrows():\n",
    "    for col in df.columns:\n",
    "        if 'quantity of' in col.lower():\n",
    "            item2dropdowncol[\" \".join(col.split()[3:])] = col\n",
    "            \n",
    "assert len(item2dropdowncol) == len(all_items)\n",
    "for k, v in item2dropdowncol.items():\n",
    "    assert len(v) > 3"
   ]
  },
  {
   "cell_type": "markdown",
   "metadata": {},
   "source": [
    "\n",
    "    {\n",
    "        key:\n",
    "        {\n",
    "            name : str,\n",
    "            drop_point : str,\n",
    "            building : str,\n",
    "            wing : str,\n",
    "            flat : str,\n",
    "            phone : numeric,\n",
    "            email : str,\n",
    "            delivery_date : datetime,\n",
    "            order : dict,\n",
    "            total_amount : float,\n",
    "            payment_status : str\n",
    "        }\n",
    "    }"
   ]
  },
  {
   "cell_type": "code",
   "execution_count": 31,
   "metadata": {
    "ExecuteTime": {
     "end_time": "2020-08-23T17:52:49.506791Z",
     "start_time": "2020-08-23T17:52:49.501804Z"
    }
   },
   "outputs": [],
   "source": [
    "def get_order(row):\n",
    "    o = {}\n",
    "    for item, qty_col in item2dropdowncol.items():\n",
    "#         try:\n",
    "        if row[qty_col] > 0:\n",
    "            o[item] = row[qty_col]\n",
    "#         except:\n",
    "#             i = 'hello'\n",
    "            \n",
    "    return o"
   ]
  },
  {
   "cell_type": "code",
   "execution_count": 213,
   "metadata": {
    "ExecuteTime": {
     "end_time": "2020-08-23T21:07:31.110889Z",
     "start_time": "2020-08-23T21:07:31.105905Z"
    }
   },
   "outputs": [],
   "source": [
    "def get_total_cost_price(order):\n",
    "    totalcp = 0\n",
    "    for item, qty in order.items():\n",
    "        if item == 'Cherry Tomatoes': item = 'Cherry Tomato'\n",
    "        if item == 'Potatoes': item = 'Potato'\n",
    "        totalcp += qty * get_cost_price(item)\n",
    "    return totalcp"
   ]
  },
  {
   "cell_type": "code",
   "execution_count": 216,
   "metadata": {
    "ExecuteTime": {
     "end_time": "2020-08-23T21:08:10.670920Z",
     "start_time": "2020-08-23T21:08:10.588141Z"
    }
   },
   "outputs": [],
   "source": [
    "orders_dict = {}\n",
    "\n",
    "for index, row in df.iterrows():\n",
    "    dct = {}\n",
    "    dct['name'] = row['Name']\n",
    "    dct['drop_point'] = row['Select Drop Point']\n",
    "    dct['building'] = row['building']\n",
    "    dct['wing'] = row['Select Wing']\n",
    "    dct['flat_no'] = row['Flat No']\n",
    "    dct['phone_no'] = row['Phone']\n",
    "    dct['email'] = row['Email']\n",
    "    dct['delivery_date'] = row['Select Delivery Date']\n",
    "    dct['total_amount'] = row['Total Amount']\n",
    "    dct['payment_status'] = row['Payment Status']\n",
    "    dct['order'] = get_order(row)\n",
    "    dct['total_cost_price'] = get_total_cost_price(dct['order'])\n",
    "    dct['profit'] = dct['total_amount'] - dct['total_cost_price']\n",
    "    orders_dict[row['Token No']] = dct"
   ]
  },
  {
   "cell_type": "markdown",
   "metadata": {},
   "source": [
    "# Subset Items : To Process Refunds"
   ]
  },
  {
   "cell_type": "code",
   "execution_count": 96,
   "metadata": {
    "ExecuteTime": {
     "end_time": "2020-08-23T19:19:51.127380Z",
     "start_time": "2020-08-23T19:19:51.124357Z"
    }
   },
   "outputs": [],
   "source": [
    "# execute only if items2subset > 0"
   ]
  },
  {
   "cell_type": "code",
   "execution_count": 88,
   "metadata": {
    "ExecuteTime": {
     "end_time": "2020-08-23T19:10:58.269346Z",
     "start_time": "2020-08-23T19:10:58.259375Z"
    }
   },
   "outputs": [],
   "source": [
    "rows_list = []\n",
    "\n",
    "for token, o in orders_dict.items():\n",
    "    for item in items2subset:\n",
    "        if item in o['order'].keys():\n",
    "            dct = {}\n",
    "            dct['name'] = o['name']\n",
    "            dct['phone_no'] = o['phone_no']\n",
    "            dct['email'] = o['email']\n",
    "            dct['item_name'] = item\n",
    "            dct['item_qty'] = o['order'][item]\n",
    "            dct['item_price_per_unit'] = items_dict[item]['sell_price']\n",
    "            dct['item_amount'] = items_dict[item]['sell_price'] * dct['item_qty']\n",
    "            dct['amount_paid'] = o['total_amount']\n",
    "            dct['payment_status'] = o['payment_status']\n",
    "            \n",
    "            rows_list.append(dct)"
   ]
  },
  {
   "cell_type": "code",
   "execution_count": 89,
   "metadata": {
    "ExecuteTime": {
     "end_time": "2020-08-23T19:12:08.456905Z",
     "start_time": "2020-08-23T19:12:08.450920Z"
    }
   },
   "outputs": [],
   "source": [
    "subset_df = pd.DataFrame(rows_list)"
   ]
  },
  {
   "cell_type": "code",
   "execution_count": 56,
   "metadata": {
    "ExecuteTime": {
     "end_time": "2020-08-23T18:10:56.576527Z",
     "start_time": "2020-08-23T18:10:56.568550Z"
    }
   },
   "outputs": [],
   "source": [
    "amount2refund = subset_df.groupby('name').sum()['item_amount'].to_dict()"
   ]
  },
  {
   "cell_type": "code",
   "execution_count": 90,
   "metadata": {
    "ExecuteTime": {
     "end_time": "2020-08-23T19:12:44.964181Z",
     "start_time": "2020-08-23T19:12:44.959196Z"
    }
   },
   "outputs": [],
   "source": [
    "subset_df['amount_to_refund'] = subset_df.name.apply(lambda x: amount2refund[x])"
   ]
  },
  {
   "cell_type": "code",
   "execution_count": 93,
   "metadata": {
    "ExecuteTime": {
     "end_time": "2020-08-23T19:16:05.528045Z",
     "start_time": "2020-08-23T19:16:05.524082Z"
    }
   },
   "outputs": [],
   "source": [
    "fname = save_pth/('unavl-'+FILE.stem+'.xlsx')"
   ]
  },
  {
   "cell_type": "code",
   "execution_count": 94,
   "metadata": {
    "ExecuteTime": {
     "end_time": "2020-08-23T19:16:05.757582Z",
     "start_time": "2020-08-23T19:16:05.661841Z"
    }
   },
   "outputs": [],
   "source": [
    "with pd.ExcelWriter(fname) as writer:\n",
    "    subset_df.to_excel(writer, sheet_name='itemwise')\n",
    "    (subset_df.groupby(['name', 'phone_no'])\n",
    "        .first()[['email', 'amount_paid', 'amount_to_refund']]\n",
    "        .to_excel(writer, sheet_name='refund_amount_agg'))"
   ]
  },
  {
   "cell_type": "markdown",
   "metadata": {
    "ExecuteTime": {
     "end_time": "2020-08-17T20:58:05.930841Z",
     "start_time": "2020-08-17T20:58:05.926849Z"
    }
   },
   "source": [
    "# Create Listified File"
   ]
  },
  {
   "cell_type": "code",
   "execution_count": 43,
   "metadata": {
    "ExecuteTime": {
     "end_time": "2020-08-22T15:02:58.261158Z",
     "start_time": "2020-08-22T15:02:58.257133Z"
    }
   },
   "outputs": [],
   "source": [
    "dict_listified = {i : 0 for i in all_items}"
   ]
  },
  {
   "cell_type": "code",
   "execution_count": 45,
   "metadata": {
    "ExecuteTime": {
     "end_time": "2020-08-22T15:03:07.856268Z",
     "start_time": "2020-08-22T15:03:07.851277Z"
    }
   },
   "outputs": [],
   "source": [
    "for key, value in orders_dict.items():\n",
    "    for item, qty in value['order'].items():\n",
    "        dict_listified[item] += qty"
   ]
  },
  {
   "cell_type": "code",
   "execution_count": 46,
   "metadata": {
    "ExecuteTime": {
     "end_time": "2020-08-22T15:03:10.686089Z",
     "start_time": "2020-08-22T15:03:10.675119Z"
    }
   },
   "outputs": [],
   "source": [
    "df_listified = pd.DataFrame()\n",
    "\n",
    "df_listified['item'] = all_items\n",
    "df_listified['packing_size'] = df_listified['item'].apply(lambda x: psize_dict[x]['Size'])\n",
    "df_listified['num_units'] = df_listified['item'].apply(lambda x: dict_listified[x])\n",
    "df_listified['weight'] = df_listified.packing_size * df_listified.num_units\n",
    "df_listified['unit'] = df_listified['item'].apply(lambda x: psize_dict[x]['Unit'])"
   ]
  },
  {
   "cell_type": "code",
   "execution_count": 47,
   "metadata": {
    "ExecuteTime": {
     "end_time": "2020-08-22T15:03:12.763182Z",
     "start_time": "2020-08-22T15:03:12.742697Z"
    }
   },
   "outputs": [
    {
     "data": {
      "text/html": [
       "<div>\n",
       "<style scoped>\n",
       "    .dataframe tbody tr th:only-of-type {\n",
       "        vertical-align: middle;\n",
       "    }\n",
       "\n",
       "    .dataframe tbody tr th {\n",
       "        vertical-align: top;\n",
       "    }\n",
       "\n",
       "    .dataframe thead th {\n",
       "        text-align: right;\n",
       "    }\n",
       "</style>\n",
       "<table border=\"1\" class=\"dataframe\">\n",
       "  <thead>\n",
       "    <tr style=\"text-align: right;\">\n",
       "      <th></th>\n",
       "      <th>item</th>\n",
       "      <th>packing_size</th>\n",
       "      <th>num_units</th>\n",
       "      <th>weight</th>\n",
       "      <th>unit</th>\n",
       "    </tr>\n",
       "  </thead>\n",
       "  <tbody>\n",
       "    <tr>\n",
       "      <th>0</th>\n",
       "      <td>Potatoes</td>\n",
       "      <td>1.00</td>\n",
       "      <td>81.0</td>\n",
       "      <td>81.00</td>\n",
       "      <td>Kg</td>\n",
       "    </tr>\n",
       "    <tr>\n",
       "      <th>1</th>\n",
       "      <td>Red Onions</td>\n",
       "      <td>1.00</td>\n",
       "      <td>99.0</td>\n",
       "      <td>99.00</td>\n",
       "      <td>Kg</td>\n",
       "    </tr>\n",
       "    <tr>\n",
       "      <th>2</th>\n",
       "      <td>Cauliflower</td>\n",
       "      <td>1.00</td>\n",
       "      <td>50.0</td>\n",
       "      <td>50.00</td>\n",
       "      <td>Pieces</td>\n",
       "    </tr>\n",
       "    <tr>\n",
       "      <th>3</th>\n",
       "      <td>Cabbage</td>\n",
       "      <td>1.00</td>\n",
       "      <td>24.0</td>\n",
       "      <td>24.00</td>\n",
       "      <td>Pieces</td>\n",
       "    </tr>\n",
       "    <tr>\n",
       "      <th>4</th>\n",
       "      <td>Brinjal Bharta</td>\n",
       "      <td>1.00</td>\n",
       "      <td>45.0</td>\n",
       "      <td>45.00</td>\n",
       "      <td>Pieces</td>\n",
       "    </tr>\n",
       "    <tr>\n",
       "      <th>5</th>\n",
       "      <td>Pumpkin</td>\n",
       "      <td>0.50</td>\n",
       "      <td>37.0</td>\n",
       "      <td>18.50</td>\n",
       "      <td>Kg</td>\n",
       "    </tr>\n",
       "    <tr>\n",
       "      <th>6</th>\n",
       "      <td>Brinjal Kateri</td>\n",
       "      <td>0.50</td>\n",
       "      <td>18.0</td>\n",
       "      <td>9.00</td>\n",
       "      <td>Kg</td>\n",
       "    </tr>\n",
       "    <tr>\n",
       "      <th>7</th>\n",
       "      <td>Cucumber</td>\n",
       "      <td>0.50</td>\n",
       "      <td>68.0</td>\n",
       "      <td>34.00</td>\n",
       "      <td>Kg</td>\n",
       "    </tr>\n",
       "    <tr>\n",
       "      <th>8</th>\n",
       "      <td>Bhindi/Lady's Finger</td>\n",
       "      <td>0.50</td>\n",
       "      <td>60.0</td>\n",
       "      <td>30.00</td>\n",
       "      <td>Kg</td>\n",
       "    </tr>\n",
       "    <tr>\n",
       "      <th>9</th>\n",
       "      <td>Bitter Gourd</td>\n",
       "      <td>0.30</td>\n",
       "      <td>37.0</td>\n",
       "      <td>11.10</td>\n",
       "      <td>Kg</td>\n",
       "    </tr>\n",
       "    <tr>\n",
       "      <th>10</th>\n",
       "      <td>Sponge Gourd</td>\n",
       "      <td>0.50</td>\n",
       "      <td>30.0</td>\n",
       "      <td>15.00</td>\n",
       "      <td>Kg</td>\n",
       "    </tr>\n",
       "    <tr>\n",
       "      <th>11</th>\n",
       "      <td>Beetroot</td>\n",
       "      <td>0.50</td>\n",
       "      <td>34.0</td>\n",
       "      <td>17.00</td>\n",
       "      <td>Kg</td>\n",
       "    </tr>\n",
       "    <tr>\n",
       "      <th>12</th>\n",
       "      <td>Tondli</td>\n",
       "      <td>0.50</td>\n",
       "      <td>28.0</td>\n",
       "      <td>14.00</td>\n",
       "      <td>Kg</td>\n",
       "    </tr>\n",
       "    <tr>\n",
       "      <th>13</th>\n",
       "      <td>Button Mushroom</td>\n",
       "      <td>0.20</td>\n",
       "      <td>39.0</td>\n",
       "      <td>7.80</td>\n",
       "      <td>Kg</td>\n",
       "    </tr>\n",
       "    <tr>\n",
       "      <th>14</th>\n",
       "      <td>Raw Banana</td>\n",
       "      <td>0.50</td>\n",
       "      <td>16.0</td>\n",
       "      <td>8.00</td>\n",
       "      <td>Kg</td>\n",
       "    </tr>\n",
       "    <tr>\n",
       "      <th>15</th>\n",
       "      <td>Bottle Gourd</td>\n",
       "      <td>1.00</td>\n",
       "      <td>56.0</td>\n",
       "      <td>56.00</td>\n",
       "      <td>Pieces</td>\n",
       "    </tr>\n",
       "    <tr>\n",
       "      <th>16</th>\n",
       "      <td>Drumsticks</td>\n",
       "      <td>0.25</td>\n",
       "      <td>22.0</td>\n",
       "      <td>5.50</td>\n",
       "      <td>Kg</td>\n",
       "    </tr>\n",
       "    <tr>\n",
       "      <th>17</th>\n",
       "      <td>Capsicum</td>\n",
       "      <td>0.50</td>\n",
       "      <td>50.0</td>\n",
       "      <td>25.00</td>\n",
       "      <td>Kg</td>\n",
       "    </tr>\n",
       "    <tr>\n",
       "      <th>18</th>\n",
       "      <td>Gawar/Cluster Beans</td>\n",
       "      <td>0.30</td>\n",
       "      <td>19.0</td>\n",
       "      <td>5.70</td>\n",
       "      <td>kg</td>\n",
       "    </tr>\n",
       "    <tr>\n",
       "      <th>19</th>\n",
       "      <td>French Beans</td>\n",
       "      <td>0.50</td>\n",
       "      <td>39.0</td>\n",
       "      <td>19.50</td>\n",
       "      <td>Kg</td>\n",
       "    </tr>\n",
       "    <tr>\n",
       "      <th>20</th>\n",
       "      <td>Baby Corn</td>\n",
       "      <td>0.30</td>\n",
       "      <td>13.0</td>\n",
       "      <td>3.90</td>\n",
       "      <td>Kg</td>\n",
       "    </tr>\n",
       "    <tr>\n",
       "      <th>21</th>\n",
       "      <td>Tomato</td>\n",
       "      <td>1.00</td>\n",
       "      <td>91.0</td>\n",
       "      <td>91.00</td>\n",
       "      <td>Kg</td>\n",
       "    </tr>\n",
       "    <tr>\n",
       "      <th>22</th>\n",
       "      <td>Cherry Tomatoes</td>\n",
       "      <td>0.25</td>\n",
       "      <td>9.0</td>\n",
       "      <td>2.25</td>\n",
       "      <td>Kg</td>\n",
       "    </tr>\n",
       "    <tr>\n",
       "      <th>23</th>\n",
       "      <td>Sweet Corn</td>\n",
       "      <td>2.00</td>\n",
       "      <td>35.0</td>\n",
       "      <td>70.00</td>\n",
       "      <td>Pieces</td>\n",
       "    </tr>\n",
       "    <tr>\n",
       "      <th>24</th>\n",
       "      <td>Broccoli</td>\n",
       "      <td>0.25</td>\n",
       "      <td>33.0</td>\n",
       "      <td>8.25</td>\n",
       "      <td>Kg</td>\n",
       "    </tr>\n",
       "    <tr>\n",
       "      <th>25</th>\n",
       "      <td>Lettuce</td>\n",
       "      <td>0.25</td>\n",
       "      <td>15.0</td>\n",
       "      <td>3.75</td>\n",
       "      <td>Kg</td>\n",
       "    </tr>\n",
       "    <tr>\n",
       "      <th>26</th>\n",
       "      <td>Apples Washington</td>\n",
       "      <td>1.00</td>\n",
       "      <td>24.0</td>\n",
       "      <td>24.00</td>\n",
       "      <td>Kg</td>\n",
       "    </tr>\n",
       "    <tr>\n",
       "      <th>27</th>\n",
       "      <td>VNR Guava</td>\n",
       "      <td>1.00</td>\n",
       "      <td>33.0</td>\n",
       "      <td>33.00</td>\n",
       "      <td>Kg</td>\n",
       "    </tr>\n",
       "    <tr>\n",
       "      <th>28</th>\n",
       "      <td>Imported Oranges</td>\n",
       "      <td>4.00</td>\n",
       "      <td>14.0</td>\n",
       "      <td>56.00</td>\n",
       "      <td>Pieces</td>\n",
       "    </tr>\n",
       "    <tr>\n",
       "      <th>29</th>\n",
       "      <td>Pineapple Whole</td>\n",
       "      <td>1.00</td>\n",
       "      <td>10.0</td>\n",
       "      <td>10.00</td>\n",
       "      <td>Pieces</td>\n",
       "    </tr>\n",
       "    <tr>\n",
       "      <th>30</th>\n",
       "      <td>Kiwi Zespri Imported</td>\n",
       "      <td>3.00</td>\n",
       "      <td>11.0</td>\n",
       "      <td>33.00</td>\n",
       "      <td>Pieces</td>\n",
       "    </tr>\n",
       "    <tr>\n",
       "      <th>31</th>\n",
       "      <td>Banana</td>\n",
       "      <td>6.00</td>\n",
       "      <td>33.0</td>\n",
       "      <td>198.00</td>\n",
       "      <td>Pieces</td>\n",
       "    </tr>\n",
       "    <tr>\n",
       "      <th>32</th>\n",
       "      <td>Garlic</td>\n",
       "      <td>0.25</td>\n",
       "      <td>20.0</td>\n",
       "      <td>5.00</td>\n",
       "      <td>Kg</td>\n",
       "    </tr>\n",
       "    <tr>\n",
       "      <th>33</th>\n",
       "      <td>Ginger</td>\n",
       "      <td>0.25</td>\n",
       "      <td>43.0</td>\n",
       "      <td>10.75</td>\n",
       "      <td>kg</td>\n",
       "    </tr>\n",
       "    <tr>\n",
       "      <th>34</th>\n",
       "      <td>Green Chilly</td>\n",
       "      <td>0.20</td>\n",
       "      <td>25.0</td>\n",
       "      <td>5.00</td>\n",
       "      <td>kg</td>\n",
       "    </tr>\n",
       "    <tr>\n",
       "      <th>35</th>\n",
       "      <td>Lemons</td>\n",
       "      <td>5.00</td>\n",
       "      <td>79.0</td>\n",
       "      <td>395.00</td>\n",
       "      <td>Pieces</td>\n",
       "    </tr>\n",
       "    <tr>\n",
       "      <th>36</th>\n",
       "      <td>Curry Leaves</td>\n",
       "      <td>1.00</td>\n",
       "      <td>34.0</td>\n",
       "      <td>34.00</td>\n",
       "      <td>Bunch</td>\n",
       "    </tr>\n",
       "    <tr>\n",
       "      <th>37</th>\n",
       "      <td>Coriander Leaves</td>\n",
       "      <td>0.25</td>\n",
       "      <td>58.0</td>\n",
       "      <td>14.50</td>\n",
       "      <td>Kg</td>\n",
       "    </tr>\n",
       "    <tr>\n",
       "      <th>38</th>\n",
       "      <td>Mint Leaves</td>\n",
       "      <td>1.00</td>\n",
       "      <td>28.0</td>\n",
       "      <td>28.00</td>\n",
       "      <td>Bunch</td>\n",
       "    </tr>\n",
       "    <tr>\n",
       "      <th>39</th>\n",
       "      <td>Lemongrass</td>\n",
       "      <td>1.00</td>\n",
       "      <td>23.0</td>\n",
       "      <td>23.00</td>\n",
       "      <td>Bunch</td>\n",
       "    </tr>\n",
       "    <tr>\n",
       "      <th>40</th>\n",
       "      <td>Palak/Spinach</td>\n",
       "      <td>1.00</td>\n",
       "      <td>54.0</td>\n",
       "      <td>54.00</td>\n",
       "      <td>Bunch</td>\n",
       "    </tr>\n",
       "    <tr>\n",
       "      <th>41</th>\n",
       "      <td>Shepu/Dill Leaves</td>\n",
       "      <td>1.00</td>\n",
       "      <td>4.0</td>\n",
       "      <td>4.00</td>\n",
       "      <td>Bunch</td>\n",
       "    </tr>\n",
       "    <tr>\n",
       "      <th>42</th>\n",
       "      <td>Methi Leaves</td>\n",
       "      <td>0.35</td>\n",
       "      <td>28.0</td>\n",
       "      <td>9.80</td>\n",
       "      <td>kg</td>\n",
       "    </tr>\n",
       "    <tr>\n",
       "      <th>43</th>\n",
       "      <td>Red/Yellow Bell Peppers</td>\n",
       "      <td>4.00</td>\n",
       "      <td>21.0</td>\n",
       "      <td>84.00</td>\n",
       "      <td>Pieces</td>\n",
       "    </tr>\n",
       "    <tr>\n",
       "      <th>44</th>\n",
       "      <td>Green Zucchini</td>\n",
       "      <td>1.00</td>\n",
       "      <td>11.0</td>\n",
       "      <td>11.00</td>\n",
       "      <td>Pieces</td>\n",
       "    </tr>\n",
       "    <tr>\n",
       "      <th>45</th>\n",
       "      <td>Yellow Zucchini</td>\n",
       "      <td>1.00</td>\n",
       "      <td>9.0</td>\n",
       "      <td>9.00</td>\n",
       "      <td>Pieces</td>\n",
       "    </tr>\n",
       "    <tr>\n",
       "      <th>46</th>\n",
       "      <td>Arbi Leaves</td>\n",
       "      <td>6.00</td>\n",
       "      <td>10.0</td>\n",
       "      <td>60.00</td>\n",
       "      <td>Pieces</td>\n",
       "    </tr>\n",
       "    <tr>\n",
       "      <th>47</th>\n",
       "      <td>Basil Leaves</td>\n",
       "      <td>0.20</td>\n",
       "      <td>7.0</td>\n",
       "      <td>1.40</td>\n",
       "      <td>Kg</td>\n",
       "    </tr>\n",
       "    <tr>\n",
       "      <th>48</th>\n",
       "      <td>Arbi/Colocasia</td>\n",
       "      <td>0.50</td>\n",
       "      <td>21.0</td>\n",
       "      <td>10.50</td>\n",
       "      <td>Kg</td>\n",
       "    </tr>\n",
       "  </tbody>\n",
       "</table>\n",
       "</div>"
      ],
      "text/plain": [
       "                       item  packing_size  num_units  weight    unit\n",
       "0                  Potatoes          1.00       81.0   81.00      Kg\n",
       "1                Red Onions          1.00       99.0   99.00      Kg\n",
       "2               Cauliflower          1.00       50.0   50.00  Pieces\n",
       "3                   Cabbage          1.00       24.0   24.00  Pieces\n",
       "4            Brinjal Bharta          1.00       45.0   45.00  Pieces\n",
       "5                   Pumpkin          0.50       37.0   18.50      Kg\n",
       "6            Brinjal Kateri          0.50       18.0    9.00      Kg\n",
       "7                  Cucumber          0.50       68.0   34.00      Kg\n",
       "8      Bhindi/Lady's Finger          0.50       60.0   30.00      Kg\n",
       "9              Bitter Gourd          0.30       37.0   11.10      Kg\n",
       "10             Sponge Gourd          0.50       30.0   15.00      Kg\n",
       "11                 Beetroot          0.50       34.0   17.00      Kg\n",
       "12                   Tondli          0.50       28.0   14.00      Kg\n",
       "13          Button Mushroom          0.20       39.0    7.80      Kg\n",
       "14               Raw Banana          0.50       16.0    8.00      Kg\n",
       "15             Bottle Gourd          1.00       56.0   56.00  Pieces\n",
       "16               Drumsticks          0.25       22.0    5.50      Kg\n",
       "17                 Capsicum          0.50       50.0   25.00      Kg\n",
       "18      Gawar/Cluster Beans          0.30       19.0    5.70      kg\n",
       "19             French Beans          0.50       39.0   19.50      Kg\n",
       "20                Baby Corn          0.30       13.0    3.90      Kg\n",
       "21                   Tomato          1.00       91.0   91.00      Kg\n",
       "22          Cherry Tomatoes          0.25        9.0    2.25      Kg\n",
       "23               Sweet Corn          2.00       35.0   70.00  Pieces\n",
       "24                 Broccoli          0.25       33.0    8.25      Kg\n",
       "25                  Lettuce          0.25       15.0    3.75      Kg\n",
       "26        Apples Washington          1.00       24.0   24.00      Kg\n",
       "27                VNR Guava          1.00       33.0   33.00      Kg\n",
       "28         Imported Oranges          4.00       14.0   56.00  Pieces\n",
       "29          Pineapple Whole          1.00       10.0   10.00  Pieces\n",
       "30     Kiwi Zespri Imported          3.00       11.0   33.00  Pieces\n",
       "31                   Banana          6.00       33.0  198.00  Pieces\n",
       "32                   Garlic          0.25       20.0    5.00      Kg\n",
       "33                   Ginger          0.25       43.0   10.75      kg\n",
       "34             Green Chilly          0.20       25.0    5.00      kg\n",
       "35                   Lemons          5.00       79.0  395.00  Pieces\n",
       "36             Curry Leaves          1.00       34.0   34.00   Bunch\n",
       "37         Coriander Leaves          0.25       58.0   14.50      Kg\n",
       "38              Mint Leaves          1.00       28.0   28.00   Bunch\n",
       "39               Lemongrass          1.00       23.0   23.00   Bunch\n",
       "40            Palak/Spinach          1.00       54.0   54.00   Bunch\n",
       "41        Shepu/Dill Leaves          1.00        4.0    4.00   Bunch\n",
       "42             Methi Leaves          0.35       28.0    9.80      kg\n",
       "43  Red/Yellow Bell Peppers          4.00       21.0   84.00  Pieces\n",
       "44           Green Zucchini          1.00       11.0   11.00  Pieces\n",
       "45          Yellow Zucchini          1.00        9.0    9.00  Pieces\n",
       "46              Arbi Leaves          6.00       10.0   60.00  Pieces\n",
       "47             Basil Leaves          0.20        7.0    1.40      Kg\n",
       "48           Arbi/Colocasia          0.50       21.0   10.50      Kg"
      ]
     },
     "execution_count": 47,
     "metadata": {},
     "output_type": "execute_result"
    }
   ],
   "source": [
    "df_listified = df_listified[df_listified.num_units > 0]; df_listified"
   ]
  },
  {
   "cell_type": "code",
   "execution_count": 49,
   "metadata": {
    "ExecuteTime": {
     "end_time": "2020-08-22T15:03:46.642028Z",
     "start_time": "2020-08-22T15:03:46.638008Z"
    }
   },
   "outputs": [],
   "source": [
    "fname = save_pth/('quantity-' + str(FILE.stem) + '.csv')"
   ]
  },
  {
   "cell_type": "code",
   "execution_count": 50,
   "metadata": {
    "ExecuteTime": {
     "end_time": "2020-08-22T15:03:47.294025Z",
     "start_time": "2020-08-22T15:03:47.285737Z"
    }
   },
   "outputs": [],
   "source": [
    "df_listified[df_listified.num_units>0].to_csv(fname, index=False)"
   ]
  },
  {
   "cell_type": "markdown",
   "metadata": {},
   "source": [
    "# Customerwise"
   ]
  },
  {
   "cell_type": "code",
   "execution_count": 98,
   "metadata": {
    "ExecuteTime": {
     "end_time": "2020-08-23T19:21:54.396747Z",
     "start_time": "2020-08-23T19:21:54.392757Z"
    }
   },
   "outputs": [],
   "source": [
    "items = ['coconut', 'kiwi']"
   ]
  },
  {
   "cell_type": "code",
   "execution_count": 99,
   "metadata": {
    "ExecuteTime": {
     "end_time": "2020-08-23T19:21:54.608767Z",
     "start_time": "2020-08-23T19:21:54.579814Z"
    }
   },
   "outputs": [],
   "source": [
    "df_trans = pd.read_excel(\"C:/Playground/bhaiya-orders/zoho-bhor-farms/database/translations.xlsx\")"
   ]
  },
  {
   "cell_type": "code",
   "execution_count": 100,
   "metadata": {
    "ExecuteTime": {
     "end_time": "2020-08-23T19:21:54.761142Z",
     "start_time": "2020-08-23T19:21:54.735211Z"
    }
   },
   "outputs": [],
   "source": [
    "from fuzzywuzzy import fuzz\n",
    "\n",
    "def get_match(x, thresh=65):\n",
    "    x = x.lower()\n",
    "    rmax = -1\n",
    "    for k in items: \n",
    "        if fuzz.partial_ratio(k, x) > rmax:\n",
    "            rmax = fuzz.partial_ratio(k, x)\n",
    "\n",
    "    return rmax > thresh"
   ]
  },
  {
   "cell_type": "code",
   "execution_count": 101,
   "metadata": {
    "ExecuteTime": {
     "end_time": "2020-08-23T19:21:55.382029Z",
     "start_time": "2020-08-23T19:21:55.371056Z"
    }
   },
   "outputs": [
    {
     "data": {
      "text/plain": [
       "array(['Coconut', 'Kiwi Imported', 'Coconut Mangalore Small',\n",
       "       'Kiwi Imported', ' Coconut Mangalore Big',\n",
       "       ' Coconut Mangalore Medium', 'Kiwi Imported - Zespri Green'],\n",
       "      dtype=object)"
      ]
     },
     "execution_count": 101,
     "metadata": {},
     "output_type": "execute_result"
    }
   ],
   "source": [
    "keys2drop = df_trans[df_trans['Final Item Name'].apply(get_match)]['Final Item Name'].values; keys2drop"
   ]
  },
  {
   "cell_type": "code",
   "execution_count": 102,
   "metadata": {
    "ExecuteTime": {
     "end_time": "2020-08-23T19:21:55.876620Z",
     "start_time": "2020-08-23T19:21:55.868643Z"
    }
   },
   "outputs": [],
   "source": [
    "df_trans = df_trans.set_index('Final Item Name').drop(keys2drop).reset_index()\n",
    "eng2marathi = df_trans.set_index('Final Item Name').to_dict()['Final Marathi Name']\n",
    "marathi2eng = df_trans.set_index('Final Marathi Name').to_dict()['Final Item Name']\n",
    "marathi2eng[np.nan] = ''"
   ]
  },
  {
   "cell_type": "code",
   "execution_count": 103,
   "metadata": {
    "ExecuteTime": {
     "end_time": "2020-08-23T19:21:56.455802Z",
     "start_time": "2020-08-23T19:21:56.450814Z"
    }
   },
   "outputs": [],
   "source": [
    "def get_trans(x, thresh=85):\n",
    "    rmax = -1\n",
    "    trans = ''\n",
    "    for k in eng2marathi.keys():\n",
    "        if fuzz.ratio(k, x) > rmax:\n",
    "            rmax = fuzz.ratio(k, x)\n",
    "            trans = eng2marathi[k]\n",
    "\n",
    "    if rmax > thresh:\n",
    "        return trans\n",
    "    return np.nan"
   ]
  },
  {
   "cell_type": "code",
   "execution_count": 104,
   "metadata": {
    "ExecuteTime": {
     "end_time": "2020-08-23T19:21:57.049768Z",
     "start_time": "2020-08-23T19:21:56.655902Z"
    }
   },
   "outputs": [],
   "source": [
    "rows_list = []\n",
    "for token, o in orders_dict.items():\n",
    "    for item, qty in o['order'].items():\n",
    "        row_dct = {}\n",
    "        row_dct['token_no'] = token\n",
    "        row_dct['name'] = o['name']\n",
    "        row_dct['delivery_date'] = o['delivery_date']\n",
    "        row_dct['item_name'] = item\n",
    "        row_dct['marathi_name'] = get_trans(item)\n",
    "        row_dct['num_packets'] = qty\n",
    "        row_dct['packing_size'] = psize_dict[item]['Size']\n",
    "        row_dct['final_weight'] = row_dct['num_packets'] * row_dct['packing_size']\n",
    "        row_dct['unit'] = psize_dict[item]['Unit']\n",
    "        row_dct['total_amt'] = o['total_amount']\n",
    "        \n",
    "        rows_list.append(row_dct)"
   ]
  },
  {
   "cell_type": "code",
   "execution_count": 105,
   "metadata": {
    "ExecuteTime": {
     "end_time": "2020-08-23T19:21:57.248315Z",
     "start_time": "2020-08-23T19:21:57.240309Z"
    }
   },
   "outputs": [],
   "source": [
    "df_customerwise = pd.DataFrame(rows_list)"
   ]
  },
  {
   "cell_type": "code",
   "execution_count": 106,
   "metadata": {
    "ExecuteTime": {
     "end_time": "2020-08-23T19:21:57.533919Z",
     "start_time": "2020-08-23T19:21:57.519956Z"
    }
   },
   "outputs": [
    {
     "data": {
      "text/html": [
       "<div>\n",
       "<style scoped>\n",
       "    .dataframe tbody tr th:only-of-type {\n",
       "        vertical-align: middle;\n",
       "    }\n",
       "\n",
       "    .dataframe tbody tr th {\n",
       "        vertical-align: top;\n",
       "    }\n",
       "\n",
       "    .dataframe thead th {\n",
       "        text-align: right;\n",
       "    }\n",
       "</style>\n",
       "<table border=\"1\" class=\"dataframe\">\n",
       "  <thead>\n",
       "    <tr style=\"text-align: right;\">\n",
       "      <th></th>\n",
       "      <th>token_no</th>\n",
       "      <th>name</th>\n",
       "      <th>delivery_date</th>\n",
       "      <th>item_name</th>\n",
       "      <th>marathi_name</th>\n",
       "      <th>num_packets</th>\n",
       "      <th>packing_size</th>\n",
       "      <th>final_weight</th>\n",
       "      <th>unit</th>\n",
       "      <th>total_amt</th>\n",
       "    </tr>\n",
       "  </thead>\n",
       "  <tbody>\n",
       "    <tr>\n",
       "      <th>0</th>\n",
       "      <td>1</td>\n",
       "      <td>Rashmita; Sundaram</td>\n",
       "      <td>Mon Aug 24th</td>\n",
       "      <td>Red Onions</td>\n",
       "      <td>कांदा लाल</td>\n",
       "      <td>1.0</td>\n",
       "      <td>1.0</td>\n",
       "      <td>1.0</td>\n",
       "      <td>Kg</td>\n",
       "      <td>437</td>\n",
       "    </tr>\n",
       "    <tr>\n",
       "      <th>1</th>\n",
       "      <td>1</td>\n",
       "      <td>Rashmita; Sundaram</td>\n",
       "      <td>Mon Aug 24th</td>\n",
       "      <td>Tondli</td>\n",
       "      <td>तोंडली</td>\n",
       "      <td>1.0</td>\n",
       "      <td>0.5</td>\n",
       "      <td>0.5</td>\n",
       "      <td>Kg</td>\n",
       "      <td>437</td>\n",
       "    </tr>\n",
       "    <tr>\n",
       "      <th>2</th>\n",
       "      <td>1</td>\n",
       "      <td>Rashmita; Sundaram</td>\n",
       "      <td>Mon Aug 24th</td>\n",
       "      <td>Button Mushroom</td>\n",
       "      <td>बटण मशरूम</td>\n",
       "      <td>1.0</td>\n",
       "      <td>0.2</td>\n",
       "      <td>0.2</td>\n",
       "      <td>Kg</td>\n",
       "      <td>437</td>\n",
       "    </tr>\n",
       "    <tr>\n",
       "      <th>3</th>\n",
       "      <td>1</td>\n",
       "      <td>Rashmita; Sundaram</td>\n",
       "      <td>Mon Aug 24th</td>\n",
       "      <td>Bottle Gourd</td>\n",
       "      <td>दुध्या भोपळा</td>\n",
       "      <td>1.0</td>\n",
       "      <td>1.0</td>\n",
       "      <td>1.0</td>\n",
       "      <td>Pieces</td>\n",
       "      <td>437</td>\n",
       "    </tr>\n",
       "    <tr>\n",
       "      <th>4</th>\n",
       "      <td>1</td>\n",
       "      <td>Rashmita; Sundaram</td>\n",
       "      <td>Mon Aug 24th</td>\n",
       "      <td>Baby Corn</td>\n",
       "      <td>बेबी कॉर्न</td>\n",
       "      <td>1.0</td>\n",
       "      <td>0.3</td>\n",
       "      <td>0.3</td>\n",
       "      <td>Kg</td>\n",
       "      <td>437</td>\n",
       "    </tr>\n",
       "  </tbody>\n",
       "</table>\n",
       "</div>"
      ],
      "text/plain": [
       "   token_no                name delivery_date        item_name  marathi_name  \\\n",
       "0         1  Rashmita; Sundaram  Mon Aug 24th       Red Onions     कांदा लाल   \n",
       "1         1  Rashmita; Sundaram  Mon Aug 24th           Tondli        तोंडली   \n",
       "2         1  Rashmita; Sundaram  Mon Aug 24th  Button Mushroom     बटण मशरूम   \n",
       "3         1  Rashmita; Sundaram  Mon Aug 24th     Bottle Gourd  दुध्या भोपळा   \n",
       "4         1  Rashmita; Sundaram  Mon Aug 24th        Baby Corn    बेबी कॉर्न   \n",
       "\n",
       "   num_packets  packing_size  final_weight    unit  total_amt  \n",
       "0          1.0           1.0           1.0      Kg        437  \n",
       "1          1.0           0.5           0.5      Kg        437  \n",
       "2          1.0           0.2           0.2      Kg        437  \n",
       "3          1.0           1.0           1.0  Pieces        437  \n",
       "4          1.0           0.3           0.3      Kg        437  "
      ]
     },
     "execution_count": 106,
     "metadata": {},
     "output_type": "execute_result"
    }
   ],
   "source": [
    "df_customerwise.head()"
   ]
  },
  {
   "cell_type": "code",
   "execution_count": 107,
   "metadata": {
    "ExecuteTime": {
     "end_time": "2020-08-23T19:21:59.881724Z",
     "start_time": "2020-08-23T19:21:59.874762Z"
    }
   },
   "outputs": [
    {
     "data": {
      "text/plain": [
       "array(['Kiwi Zespri Imported'], dtype=object)"
      ]
     },
     "execution_count": 107,
     "metadata": {},
     "output_type": "execute_result"
    }
   ],
   "source": [
    "notranslist = df_customerwise[df_customerwise.marathi_name.isna()].item_name.unique(); notranslist"
   ]
  },
  {
   "cell_type": "markdown",
   "metadata": {},
   "source": [
    "## Kiwi, Coconut Alag Se"
   ]
  },
  {
   "cell_type": "code",
   "execution_count": 109,
   "metadata": {
    "ExecuteTime": {
     "end_time": "2020-08-23T19:22:40.676703Z",
     "start_time": "2020-08-23T19:22:40.670721Z"
    }
   },
   "outputs": [
    {
     "data": {
      "text/plain": [
       "'kiwi-Final+Download+Final 24th'"
      ]
     },
     "execution_count": 109,
     "metadata": {},
     "output_type": "execute_result"
    }
   ],
   "source": [
    "ids = set([i.lower()[:4] for i in notranslist])\n",
    "prefix = \"\".join(ids)\n",
    "\n",
    "notrans_pth = save_pth/f'{prefix}-{str(FILE.stem)}.csv'; notrans_pth.stem"
   ]
  },
  {
   "cell_type": "code",
   "execution_count": 110,
   "metadata": {
    "ExecuteTime": {
     "end_time": "2020-08-23T19:22:49.754215Z",
     "start_time": "2020-08-23T19:22:49.745240Z"
    }
   },
   "outputs": [],
   "source": [
    "(df_customerwise[df_customerwise.marathi_name.isna()]\n",
    "    .drop(columns=['marathi_name', 'total_amt'])\n",
    "    .to_csv(notrans_pth, index=False))"
   ]
  },
  {
   "cell_type": "markdown",
   "metadata": {},
   "source": [
    "## Drop items whose translations are absent from the Customerwise File"
   ]
  },
  {
   "cell_type": "code",
   "execution_count": 111,
   "metadata": {
    "ExecuteTime": {
     "end_time": "2020-08-23T19:23:20.582928Z",
     "start_time": "2020-08-23T19:23:20.574948Z"
    }
   },
   "outputs": [],
   "source": [
    "df_customerwise.dropna(subset=['marathi_name'], inplace=True)"
   ]
  },
  {
   "cell_type": "markdown",
   "metadata": {
    "ExecuteTime": {
     "end_time": "2020-08-17T22:49:59.355030Z",
     "start_time": "2020-08-17T22:49:59.351040Z"
    }
   },
   "source": [
    "## Build Excel Savefile"
   ]
  },
  {
   "cell_type": "code",
   "execution_count": 113,
   "metadata": {
    "ExecuteTime": {
     "end_time": "2020-08-23T19:24:53.130361Z",
     "start_time": "2020-08-23T19:24:53.125373Z"
    }
   },
   "outputs": [],
   "source": [
    "highlight_col = 'num_packets'"
   ]
  },
  {
   "cell_type": "code",
   "execution_count": 114,
   "metadata": {
    "ExecuteTime": {
     "end_time": "2020-08-23T19:24:53.328984Z",
     "start_time": "2020-08-23T19:24:53.321994Z"
    }
   },
   "outputs": [],
   "source": [
    "custs = df_customerwise.name + '_' + df_customerwise.token_no.astype(str)\n",
    "custs = custs.unique()"
   ]
  },
  {
   "cell_type": "code",
   "execution_count": 115,
   "metadata": {
    "ExecuteTime": {
     "end_time": "2020-08-23T19:24:53.489516Z",
     "start_time": "2020-08-23T19:24:53.484530Z"
    }
   },
   "outputs": [],
   "source": [
    "def f(x):\n",
    "    col = highlight_col\n",
    "    r = 'background-color: none'\n",
    "    g = 'background-color: #37FDFC'\n",
    "    c = np.where(x[col] > 1, g, r)\n",
    "    y = pd.DataFrame('', index=x.index, columns=x.columns)\n",
    "    for h in all_cols:\n",
    "        y[h] = c\n",
    "    \n",
    "    return y"
   ]
  },
  {
   "cell_type": "code",
   "execution_count": 116,
   "metadata": {
    "ExecuteTime": {
     "end_time": "2020-08-23T19:24:54.197114Z",
     "start_time": "2020-08-23T19:24:54.191133Z"
    }
   },
   "outputs": [],
   "source": [
    "def boldify(x):\n",
    "    col = 'total_amt'\n",
    "    n = 'font-weight: normal'\n",
    "    b = 'font-weight: bold'\n",
    "    c = np.where(x[col] >= 1000.0, b, n)\n",
    "    y = pd.DataFrame('', index=x.index, columns=x.columns)\n",
    "    for h in all_cols:\n",
    "        y[h] = c\n",
    "    \n",
    "    return y"
   ]
  },
  {
   "cell_type": "code",
   "execution_count": 117,
   "metadata": {
    "ExecuteTime": {
     "end_time": "2020-08-23T19:24:54.393588Z",
     "start_time": "2020-08-23T19:24:54.389600Z"
    }
   },
   "outputs": [],
   "source": [
    "all_cols = df_customerwise.columns"
   ]
  },
  {
   "cell_type": "code",
   "execution_count": 118,
   "metadata": {
    "ExecuteTime": {
     "end_time": "2020-08-23T19:24:55.001307Z",
     "start_time": "2020-08-23T19:24:54.998292Z"
    }
   },
   "outputs": [],
   "source": [
    "def get_sum_packets(token):\n",
    "    return sum(orders_dict[token]['order'].values())"
   ]
  },
  {
   "cell_type": "code",
   "execution_count": 119,
   "metadata": {
    "ExecuteTime": {
     "end_time": "2020-08-23T19:24:55.215663Z",
     "start_time": "2020-08-23T19:24:55.211672Z"
    }
   },
   "outputs": [],
   "source": [
    "fname = save_pth/('customerwise-' + str(FILE.stem) + '.xlsx')"
   ]
  },
  {
   "cell_type": "code",
   "execution_count": 120,
   "metadata": {
    "ExecuteTime": {
     "end_time": "2020-08-23T19:25:03.644896Z",
     "start_time": "2020-08-23T19:24:55.768765Z"
    }
   },
   "outputs": [],
   "source": [
    "all_data = 0\n",
    "\n",
    "with pd.ExcelWriter(fname) as writer:\n",
    "    for cust in custs:\n",
    "        data = df_customerwise[df_customerwise.name == cust.split('_')[0]]\n",
    "        data = data[data.token_no == int(cust.split('_')[1])]\n",
    "        all_data += len(data.index)\n",
    "\n",
    "        data = data.append({'marathi_name': 'TOTAL PACKETS', 'num_packets': get_sum_packets(\n",
    "            int(cust.split('_')[1]))}, ignore_index=True)\n",
    "        styled = data.style.apply(f, axis=None)\n",
    "        styled = styled.apply(boldify, axis=None)\n",
    "        styled.to_excel(writer, columns=['token_no', 'name', 'delivery_date', 'item_name', 'marathi_name',\n",
    "                                         'num_packets', 'packing_size', 'final_weight', 'unit'], sheet_name=cust[:31], engine='openpyxl', index=False)\n",
    "\n",
    "assert all_data == len(df_customerwise)"
   ]
  },
  {
   "cell_type": "markdown",
   "metadata": {},
   "source": [
    "## Build PDF Savefile"
   ]
  },
  {
   "cell_type": "code",
   "execution_count": 187,
   "metadata": {
    "ExecuteTime": {
     "end_time": "2020-08-23T20:13:14.266486Z",
     "start_time": "2020-08-23T20:13:14.249530Z"
    }
   },
   "outputs": [],
   "source": [
    "from reportlab.lib.pagesizes import letter, landscape\n",
    "from reportlab.pdfbase.ttfonts import TTFont  \n",
    "from reportlab.pdfbase import pdfmetrics\n",
    "from reportlab.platypus import Table, TableStyle, PageBreak, SimpleDocTemplate\n",
    "from reportlab.lib import colors\n",
    "\n",
    "pdfmetrics.registerFont(TTFont(\"mangal\", \"font/Lohit-Devanagari.ttf\"))"
   ]
  },
  {
   "cell_type": "code",
   "execution_count": 163,
   "metadata": {
    "ExecuteTime": {
     "end_time": "2020-08-23T20:03:17.395405Z",
     "start_time": "2020-08-23T20:03:17.390419Z"
    }
   },
   "outputs": [],
   "source": [
    "df_customerwise.drop(columns=['delivery_date', 'total_amt'], inplace=True)"
   ]
  },
  {
   "cell_type": "code",
   "execution_count": 199,
   "metadata": {
    "ExecuteTime": {
     "end_time": "2020-08-23T20:15:15.770155Z",
     "start_time": "2020-08-23T20:15:15.765168Z"
    }
   },
   "outputs": [],
   "source": [
    "# get index of num_packets, marathi_name\n",
    "for i, col in enumerate(df_customerwise.columns): \n",
    "    if col == highlight_col: qty_index = i\n",
    "    if col == 'marathi_name': marathi_index = i"
   ]
  },
  {
   "cell_type": "code",
   "execution_count": 200,
   "metadata": {
    "ExecuteTime": {
     "end_time": "2020-08-23T20:15:35.392020Z",
     "start_time": "2020-08-23T20:15:35.380081Z"
    }
   },
   "outputs": [],
   "source": [
    "def create_pdf(data):\n",
    "    \n",
    "    pdfy_data = data.to_numpy().tolist()\n",
    "    pdfy_data.insert(0, data.columns.values.tolist())\n",
    "\n",
    "#     pdf = SimpleDocTemplate(\n",
    "#         fname,\n",
    "#         pagesize=landscape(letter),\n",
    "#     #     font='mangal'\n",
    "#     )\n",
    "\n",
    "    table = Table(pdfy_data)\n",
    "\n",
    "    style = TableStyle([\n",
    "    #     ('BACKGROUND', (0,0), (3,0), colors.green),\n",
    "    #     ('TEXTCOLOR',(0,0),(-1,0),colors.whitesmoke),\n",
    "\n",
    "        ('ALIGN',(0,0),(-1,-1),'CENTER'),\n",
    "    #     ('FONTNAME', (0,0), (-1,0), 'Courier-Bold'),\n",
    "        ('FONTSIZE', (0,0), (-1,0), 10),\n",
    "        ('BOTTOMPADDING', (0,0), (-1,0), 12),\n",
    "        ('FONTNAME',(marathi_index,1),(marathi_index,-1),'mangal'),\n",
    "        ('BACKGROUND',(0,0),(-1,0),colors.burlywood),\n",
    "        ('BACKGROUND',(qty_index,-1),(qty_index,-1),colors.springgreen)\n",
    "    ])\n",
    "    \n",
    "    table.setStyle(style)\n",
    "\n",
    "    rowNumb = len(pdfy_data)\n",
    "    for i in range(1, rowNumb-1):\n",
    "        if pdfy_data[i][qty_index] > 1:\n",
    "            bc = colors.aqua\n",
    "        else:\n",
    "            bc = colors.white\n",
    "        ts = TableStyle(\n",
    "            [('BACKGROUND', (0,i),(-1,i), bc)]\n",
    "        )\n",
    "        table.setStyle(ts)\n",
    "\n",
    "    # 3) Add borders\n",
    "    ts = TableStyle(\n",
    "        [\n",
    "    #     ('BOX',(0,0),(-1,-1),2,colors.black),\n",
    "\n",
    "    #     ('LINEBEFORE',(2,1),(2,-1),2,colors.red),\n",
    "    #     ('LINEABOVE',(0,2),(-1,2),2,colors.green),\n",
    "\n",
    "        ('GRID',(0,0),(-1,-2),2,colors.black),\n",
    "        ]\n",
    "    )\n",
    "    table.setStyle(ts)\n",
    "\n",
    "#     elems = []\n",
    "    elems.append(table)\n",
    "    elems.append(PageBreak())\n",
    "    \n",
    "#     pdf.build(elems)"
   ]
  },
  {
   "cell_type": "code",
   "execution_count": 201,
   "metadata": {
    "ExecuteTime": {
     "end_time": "2020-08-23T20:15:36.063721Z",
     "start_time": "2020-08-23T20:15:36.059748Z"
    }
   },
   "outputs": [],
   "source": [
    "fname = str(PDF_DIR/('customerwise-' + str(FILE.stem) + '.pdf'))"
   ]
  },
  {
   "cell_type": "code",
   "execution_count": 202,
   "metadata": {
    "ExecuteTime": {
     "end_time": "2020-08-23T20:15:36.450424Z",
     "start_time": "2020-08-23T20:15:36.445430Z"
    }
   },
   "outputs": [],
   "source": [
    "pdf = SimpleDocTemplate(\n",
    "        fname,\n",
    "        pagesize=landscape(letter),\n",
    "    #     font='mangal'\n",
    "    )\n",
    "\n",
    "elems = []"
   ]
  },
  {
   "cell_type": "code",
   "execution_count": 203,
   "metadata": {
    "ExecuteTime": {
     "end_time": "2020-08-23T20:15:37.679488Z",
     "start_time": "2020-08-23T20:15:37.059881Z"
    }
   },
   "outputs": [],
   "source": [
    "all_data = 0\n",
    "\n",
    "for cust in custs:\n",
    "    data = df_customerwise[df_customerwise.name == cust.split('_')[0]]\n",
    "    data = data[data.token_no == int(cust.split('_')[1])]\n",
    "    all_data += len(data.index)\n",
    "    \n",
    "    data = data.append({'num_packets': get_sum_packets(\n",
    "        int(cust.split('_')[1]))}, ignore_index=True)\n",
    "\n",
    "    data = data.fillna('')\n",
    "    create_pdf(data)\n",
    "\n",
    "assert all_data == len(df_customerwise)"
   ]
  },
  {
   "cell_type": "code",
   "execution_count": 204,
   "metadata": {
    "ExecuteTime": {
     "end_time": "2020-08-23T20:15:38.450225Z",
     "start_time": "2020-08-23T20:15:37.988890Z"
    }
   },
   "outputs": [],
   "source": [
    "pdf.build(elems)"
   ]
  },
  {
   "cell_type": "code",
   "execution_count": null,
   "metadata": {},
   "outputs": [],
   "source": []
  },
  {
   "cell_type": "code",
   "execution_count": null,
   "metadata": {},
   "outputs": [],
   "source": []
  },
  {
   "cell_type": "code",
   "execution_count": null,
   "metadata": {},
   "outputs": [],
   "source": []
  },
  {
   "cell_type": "markdown",
   "metadata": {},
   "source": [
    "# Printout File"
   ]
  },
  {
   "cell_type": "code",
   "execution_count": 76,
   "metadata": {
    "ExecuteTime": {
     "end_time": "2020-08-22T15:05:44.837908Z",
     "start_time": "2020-08-22T15:05:44.833919Z"
    }
   },
   "outputs": [],
   "source": [
    "# decision for vegetables vs seasonal fruits"
   ]
  },
  {
   "cell_type": "code",
   "execution_count": 221,
   "metadata": {
    "ExecuteTime": {
     "end_time": "2020-08-23T21:09:12.083711Z",
     "start_time": "2020-08-23T21:09:12.078724Z"
    }
   },
   "outputs": [],
   "source": [
    "def is_trans(x, thresh=85):\n",
    "    rmax = -1\n",
    "    trans = ''\n",
    "    for k in eng2marathi.keys():\n",
    "        if fuzz.ratio(k, x) > rmax:\n",
    "            rmax = fuzz.ratio(k, x)\n",
    "            trans = eng2marathi[k]\n",
    "\n",
    "    return rmax > thresh"
   ]
  },
  {
   "cell_type": "code",
   "execution_count": 220,
   "metadata": {
    "ExecuteTime": {
     "end_time": "2020-08-23T21:09:09.655079Z",
     "start_time": "2020-08-23T21:09:09.640114Z"
    }
   },
   "outputs": [
    {
     "ename": "NameError",
     "evalue": "name 'is_trans' is not defined",
     "output_type": "error",
     "traceback": [
      "\u001b[1;31m---------------------------------------------------------------------------\u001b[0m",
      "\u001b[1;31mNameError\u001b[0m                                 Traceback (most recent call last)",
      "\u001b[1;32m<ipython-input-220-dee62977f5dc>\u001b[0m in \u001b[0;36m<module>\u001b[1;34m\u001b[0m\n\u001b[1;32m----> 1\u001b[1;33m \u001b[0mtranslations\u001b[0m \u001b[1;33m=\u001b[0m \u001b[1;33m[\u001b[0m\u001b[0mis_trans\u001b[0m\u001b[1;33m(\u001b[0m\u001b[0mi\u001b[0m\u001b[1;33m)\u001b[0m \u001b[1;32mfor\u001b[0m \u001b[0mi\u001b[0m \u001b[1;32min\u001b[0m \u001b[0mall_items\u001b[0m\u001b[1;33m]\u001b[0m\u001b[1;33m\u001b[0m\u001b[1;33m\u001b[0m\u001b[0m\n\u001b[0m",
      "\u001b[1;32m<ipython-input-220-dee62977f5dc>\u001b[0m in \u001b[0;36m<listcomp>\u001b[1;34m(.0)\u001b[0m\n\u001b[1;32m----> 1\u001b[1;33m \u001b[0mtranslations\u001b[0m \u001b[1;33m=\u001b[0m \u001b[1;33m[\u001b[0m\u001b[0mis_trans\u001b[0m\u001b[1;33m(\u001b[0m\u001b[0mi\u001b[0m\u001b[1;33m)\u001b[0m \u001b[1;32mfor\u001b[0m \u001b[0mi\u001b[0m \u001b[1;32min\u001b[0m \u001b[0mall_items\u001b[0m\u001b[1;33m]\u001b[0m\u001b[1;33m\u001b[0m\u001b[1;33m\u001b[0m\u001b[0m\n\u001b[0m",
      "\u001b[1;31mNameError\u001b[0m: name 'is_trans' is not defined"
     ]
    }
   ],
   "source": [
    "translations = [is_trans(i) for i in all_items]"
   ]
  },
  {
   "cell_type": "code",
   "execution_count": 219,
   "metadata": {
    "ExecuteTime": {
     "end_time": "2020-08-23T21:09:07.301049Z",
     "start_time": "2020-08-23T21:09:07.290077Z"
    }
   },
   "outputs": [
    {
     "ename": "NameError",
     "evalue": "name 'translations' is not defined",
     "output_type": "error",
     "traceback": [
      "\u001b[1;31m---------------------------------------------------------------------------\u001b[0m",
      "\u001b[1;31mNameError\u001b[0m                                 Traceback (most recent call last)",
      "\u001b[1;32m<ipython-input-219-84c7e3c0457b>\u001b[0m in \u001b[0;36m<module>\u001b[1;34m\u001b[0m\n\u001b[1;32m----> 1\u001b[1;33m \u001b[0mpipe_separated\u001b[0m \u001b[1;33m=\u001b[0m \u001b[0msum\u001b[0m\u001b[1;33m(\u001b[0m\u001b[0mtranslations\u001b[0m\u001b[1;33m)\u001b[0m\u001b[1;33m/\u001b[0m\u001b[0mlen\u001b[0m\u001b[1;33m(\u001b[0m\u001b[0mtranslations\u001b[0m\u001b[1;33m)\u001b[0m \u001b[1;33m<\u001b[0m \u001b[1;36m0.4\u001b[0m \u001b[1;31m# less than 40% translations are present\u001b[0m\u001b[1;33m\u001b[0m\u001b[1;33m\u001b[0m\u001b[0m\n\u001b[0m",
      "\u001b[1;31mNameError\u001b[0m: name 'translations' is not defined"
     ]
    }
   ],
   "source": [
    "pipe_separated = sum(translations)/len(translations) < 0.4 # less than 40% translations are present"
   ]
  },
  {
   "cell_type": "code",
   "execution_count": 222,
   "metadata": {
    "ExecuteTime": {
     "end_time": "2020-08-23T21:09:18.725757Z",
     "start_time": "2020-08-23T21:09:18.721769Z"
    }
   },
   "outputs": [],
   "source": [
    "pipe_separated = False"
   ]
  },
  {
   "cell_type": "markdown",
   "metadata": {},
   "source": [
    "## Sudeep"
   ]
  },
  {
   "cell_type": "code",
   "execution_count": 223,
   "metadata": {
    "ExecuteTime": {
     "end_time": "2020-08-23T21:09:20.093496Z",
     "start_time": "2020-08-23T21:09:20.087512Z"
    }
   },
   "outputs": [],
   "source": [
    "def get_pipe_separated(token):\n",
    "    order = orders_dict[token]['order']\n",
    "    s=[]\n",
    "    for k, v in order.items():\n",
    "        s.append(k + ': ' + str(int(v)))\n",
    "    \n",
    "    return ' | '.join(s)"
   ]
  },
  {
   "cell_type": "code",
   "execution_count": 224,
   "metadata": {
    "ExecuteTime": {
     "end_time": "2020-08-23T21:09:20.498791Z",
     "start_time": "2020-08-23T21:09:20.490814Z"
    }
   },
   "outputs": [],
   "source": [
    "rows_list_sudeep = []\n",
    "for token, o in orders_dict.items():\n",
    "    row_dct = {}\n",
    "    row_dct['token_no'] = token\n",
    "    row_dct['name'] = o['name']\n",
    "    row_dct['drop_point'] = o['drop_point']\n",
    "    row_dct['building'] = o['building']\n",
    "    row_dct['wing'] = o['wing']\n",
    "    row_dct['flat_no'] = o['flat_no']\n",
    "    row_dct['phone_no'] = o['phone_no']\n",
    "    row_dct['email'] = o['email']\n",
    "    \n",
    "    if pipe_separated: row_dct['items'] = get_pipe_separated(token)\n",
    "    else: row_dct['num_packets'] = get_sum_packets(token)\n",
    "    \n",
    "    row_dct['total_amount'] = o['total_amount']\n",
    "    row_dct['total_cp'] = o['total_cost_price']\n",
    "    row_dct['profit'] = o['profit']\n",
    "    \n",
    "    \n",
    "    rows_list_sudeep.append(row_dct)"
   ]
  },
  {
   "cell_type": "code",
   "execution_count": 225,
   "metadata": {
    "ExecuteTime": {
     "end_time": "2020-08-23T21:09:24.021164Z",
     "start_time": "2020-08-23T21:09:24.015180Z"
    }
   },
   "outputs": [],
   "source": [
    "df_print_sudeep = pd.DataFrame(rows_list_sudeep)"
   ]
  },
  {
   "cell_type": "code",
   "execution_count": 226,
   "metadata": {
    "ExecuteTime": {
     "end_time": "2020-08-23T21:09:24.290927Z",
     "start_time": "2020-08-23T21:09:24.271979Z"
    }
   },
   "outputs": [
    {
     "data": {
      "text/html": [
       "<div>\n",
       "<style scoped>\n",
       "    .dataframe tbody tr th:only-of-type {\n",
       "        vertical-align: middle;\n",
       "    }\n",
       "\n",
       "    .dataframe tbody tr th {\n",
       "        vertical-align: top;\n",
       "    }\n",
       "\n",
       "    .dataframe thead th {\n",
       "        text-align: right;\n",
       "    }\n",
       "</style>\n",
       "<table border=\"1\" class=\"dataframe\">\n",
       "  <thead>\n",
       "    <tr style=\"text-align: right;\">\n",
       "      <th></th>\n",
       "      <th>token_no</th>\n",
       "      <th>name</th>\n",
       "      <th>drop_point</th>\n",
       "      <th>building</th>\n",
       "      <th>wing</th>\n",
       "      <th>flat_no</th>\n",
       "      <th>phone_no</th>\n",
       "      <th>email</th>\n",
       "      <th>num_packets</th>\n",
       "      <th>total_amount</th>\n",
       "      <th>total_cp</th>\n",
       "      <th>profit</th>\n",
       "    </tr>\n",
       "  </thead>\n",
       "  <tbody>\n",
       "    <tr>\n",
       "      <th>0</th>\n",
       "      <td>1</td>\n",
       "      <td>Rashmita; Sundaram</td>\n",
       "      <td>Ajmera iLand</td>\n",
       "      <td>Aeon</td>\n",
       "      <td>A Wing</td>\n",
       "      <td>1202</td>\n",
       "      <td>9004913659</td>\n",
       "      <td>Rashmita.sundaram@gmail.com</td>\n",
       "      <td>9.0</td>\n",
       "      <td>437</td>\n",
       "      <td>252.0</td>\n",
       "      <td>185.0</td>\n",
       "    </tr>\n",
       "    <tr>\n",
       "      <th>1</th>\n",
       "      <td>2</td>\n",
       "      <td>Preety; Agarwal</td>\n",
       "      <td>Ajmera iLand</td>\n",
       "      <td>Aeon</td>\n",
       "      <td>B Wing</td>\n",
       "      <td>803</td>\n",
       "      <td>9921001132</td>\n",
       "      <td>preetyanil@yahoo.co.in</td>\n",
       "      <td>16.0</td>\n",
       "      <td>557</td>\n",
       "      <td>324.0</td>\n",
       "      <td>233.0</td>\n",
       "    </tr>\n",
       "    <tr>\n",
       "      <th>2</th>\n",
       "      <td>3</td>\n",
       "      <td>Trisha; Chatterji</td>\n",
       "      <td>Ajmera iLand</td>\n",
       "      <td>Aeon</td>\n",
       "      <td>B Wing</td>\n",
       "      <td>1903</td>\n",
       "      <td>9004659863</td>\n",
       "      <td>Trisha.chatterji@gmail.com</td>\n",
       "      <td>23.0</td>\n",
       "      <td>673</td>\n",
       "      <td>402.0</td>\n",
       "      <td>271.0</td>\n",
       "    </tr>\n",
       "    <tr>\n",
       "      <th>3</th>\n",
       "      <td>4</td>\n",
       "      <td>Arundhati; Bhosale</td>\n",
       "      <td>Ajmera iLand</td>\n",
       "      <td>Zeon</td>\n",
       "      <td>A Wing</td>\n",
       "      <td>904</td>\n",
       "      <td>7799888777</td>\n",
       "      <td>arbh62@gmail.com</td>\n",
       "      <td>43.0</td>\n",
       "      <td>2290</td>\n",
       "      <td>1487.0</td>\n",
       "      <td>803.0</td>\n",
       "    </tr>\n",
       "    <tr>\n",
       "      <th>4</th>\n",
       "      <td>5</td>\n",
       "      <td>Gita; Makhijani</td>\n",
       "      <td>Ajmera iLand</td>\n",
       "      <td>Zeon</td>\n",
       "      <td>A Wing</td>\n",
       "      <td>2104</td>\n",
       "      <td>9930014369</td>\n",
       "      <td>gitamakhijani23@gmail.com</td>\n",
       "      <td>15.0</td>\n",
       "      <td>672</td>\n",
       "      <td>391.0</td>\n",
       "      <td>281.0</td>\n",
       "    </tr>\n",
       "  </tbody>\n",
       "</table>\n",
       "</div>"
      ],
      "text/plain": [
       "   token_no                name    drop_point building    wing flat_no  \\\n",
       "0         1  Rashmita; Sundaram  Ajmera iLand     Aeon  A Wing    1202   \n",
       "1         2     Preety; Agarwal  Ajmera iLand     Aeon  B Wing     803   \n",
       "2         3   Trisha; Chatterji  Ajmera iLand     Aeon  B Wing    1903   \n",
       "3         4  Arundhati; Bhosale  Ajmera iLand     Zeon  A Wing     904   \n",
       "4         5     Gita; Makhijani  Ajmera iLand     Zeon  A Wing    2104   \n",
       "\n",
       "     phone_no                        email  num_packets  total_amount  \\\n",
       "0  9004913659  Rashmita.sundaram@gmail.com          9.0           437   \n",
       "1  9921001132       preetyanil@yahoo.co.in         16.0           557   \n",
       "2  9004659863   Trisha.chatterji@gmail.com         23.0           673   \n",
       "3  7799888777             arbh62@gmail.com         43.0          2290   \n",
       "4  9930014369    gitamakhijani23@gmail.com         15.0           672   \n",
       "\n",
       "   total_cp  profit  \n",
       "0     252.0   185.0  \n",
       "1     324.0   233.0  \n",
       "2     402.0   271.0  \n",
       "3    1487.0   803.0  \n",
       "4     391.0   281.0  "
      ]
     },
     "execution_count": 226,
     "metadata": {},
     "output_type": "execute_result"
    }
   ],
   "source": [
    "df_print_sudeep.head()"
   ]
  },
  {
   "cell_type": "code",
   "execution_count": 87,
   "metadata": {
    "ExecuteTime": {
     "end_time": "2020-08-22T15:06:51.681989Z",
     "start_time": "2020-08-22T15:06:51.676975Z"
    }
   },
   "outputs": [
    {
     "data": {
      "text/plain": [
       "WindowsPath('output/Final+Download+Final 24th')"
      ]
     },
     "execution_count": 87,
     "metadata": {},
     "output_type": "execute_result"
    }
   ],
   "source": [
    "save_pth"
   ]
  },
  {
   "cell_type": "code",
   "execution_count": 88,
   "metadata": {
    "ExecuteTime": {
     "end_time": "2020-08-22T15:06:55.122973Z",
     "start_time": "2020-08-22T15:06:55.114015Z"
    }
   },
   "outputs": [],
   "source": [
    "df_print_sudeep.to_csv(save_pth/'print-sudeep.csv', index=False)"
   ]
  },
  {
   "cell_type": "markdown",
   "metadata": {},
   "source": [
    "## Vishal"
   ]
  },
  {
   "cell_type": "code",
   "execution_count": 89,
   "metadata": {
    "ExecuteTime": {
     "end_time": "2020-08-22T15:06:59.696147Z",
     "start_time": "2020-08-22T15:06:59.690164Z"
    }
   },
   "outputs": [],
   "source": [
    "rows_list_vishal = []\n",
    "for token, o in orders_dict.items():\n",
    "    row_dct = {}\n",
    "    row_dct['token_no'] = token\n",
    "    row_dct['name'] = o['name']\n",
    "    row_dct['drop_point'] = o['drop_point']\n",
    "    row_dct['building'] = o['building']\n",
    "    row_dct['wing'] = o['wing']\n",
    "    row_dct['flat_no'] = o['flat_no']\n",
    "#     row_dct['phone_no'] = o['phone_no']\n",
    "#     row_dct['email'] = o['email']\n",
    "\n",
    "    if pipe_separated: row_dct['items'] = get_pipe_separated(token)\n",
    "    else: row_dct['num_packets'] = get_sum_packets(token)    \n",
    "    \n",
    "    if 'total_amount' in o.keys():\n",
    "        row_dct['total_amount'] = o['total_amount']\n",
    "    \n",
    "    rows_list_vishal.append(row_dct)"
   ]
  },
  {
   "cell_type": "code",
   "execution_count": 90,
   "metadata": {
    "ExecuteTime": {
     "end_time": "2020-08-22T15:07:00.562013Z",
     "start_time": "2020-08-22T15:07:00.556001Z"
    }
   },
   "outputs": [],
   "source": [
    "df_print_vishal = pd.DataFrame(rows_list_vishal)"
   ]
  },
  {
   "cell_type": "code",
   "execution_count": 91,
   "metadata": {
    "ExecuteTime": {
     "end_time": "2020-08-22T15:07:00.957338Z",
     "start_time": "2020-08-22T15:07:00.943349Z"
    }
   },
   "outputs": [
    {
     "data": {
      "text/html": [
       "<div>\n",
       "<style scoped>\n",
       "    .dataframe tbody tr th:only-of-type {\n",
       "        vertical-align: middle;\n",
       "    }\n",
       "\n",
       "    .dataframe tbody tr th {\n",
       "        vertical-align: top;\n",
       "    }\n",
       "\n",
       "    .dataframe thead th {\n",
       "        text-align: right;\n",
       "    }\n",
       "</style>\n",
       "<table border=\"1\" class=\"dataframe\">\n",
       "  <thead>\n",
       "    <tr style=\"text-align: right;\">\n",
       "      <th></th>\n",
       "      <th>token_no</th>\n",
       "      <th>name</th>\n",
       "      <th>drop_point</th>\n",
       "      <th>building</th>\n",
       "      <th>wing</th>\n",
       "      <th>flat_no</th>\n",
       "      <th>num_packets</th>\n",
       "      <th>total_amount</th>\n",
       "    </tr>\n",
       "  </thead>\n",
       "  <tbody>\n",
       "    <tr>\n",
       "      <th>0</th>\n",
       "      <td>1</td>\n",
       "      <td>Rashmita; Sundaram</td>\n",
       "      <td>Ajmera iLand</td>\n",
       "      <td>Aeon</td>\n",
       "      <td>A Wing</td>\n",
       "      <td>1202</td>\n",
       "      <td>9.0</td>\n",
       "      <td>437</td>\n",
       "    </tr>\n",
       "    <tr>\n",
       "      <th>1</th>\n",
       "      <td>2</td>\n",
       "      <td>Preety; Agarwal</td>\n",
       "      <td>Ajmera iLand</td>\n",
       "      <td>Aeon</td>\n",
       "      <td>B Wing</td>\n",
       "      <td>803</td>\n",
       "      <td>16.0</td>\n",
       "      <td>557</td>\n",
       "    </tr>\n",
       "    <tr>\n",
       "      <th>2</th>\n",
       "      <td>3</td>\n",
       "      <td>Trisha; Chatterji</td>\n",
       "      <td>Ajmera iLand</td>\n",
       "      <td>Aeon</td>\n",
       "      <td>B Wing</td>\n",
       "      <td>1903</td>\n",
       "      <td>23.0</td>\n",
       "      <td>673</td>\n",
       "    </tr>\n",
       "    <tr>\n",
       "      <th>3</th>\n",
       "      <td>4</td>\n",
       "      <td>Arundhati; Bhosale</td>\n",
       "      <td>Ajmera iLand</td>\n",
       "      <td>Zeon</td>\n",
       "      <td>A Wing</td>\n",
       "      <td>904</td>\n",
       "      <td>43.0</td>\n",
       "      <td>2290</td>\n",
       "    </tr>\n",
       "    <tr>\n",
       "      <th>4</th>\n",
       "      <td>5</td>\n",
       "      <td>Gita; Makhijani</td>\n",
       "      <td>Ajmera iLand</td>\n",
       "      <td>Zeon</td>\n",
       "      <td>A Wing</td>\n",
       "      <td>2104</td>\n",
       "      <td>15.0</td>\n",
       "      <td>672</td>\n",
       "    </tr>\n",
       "  </tbody>\n",
       "</table>\n",
       "</div>"
      ],
      "text/plain": [
       "   token_no                name    drop_point building    wing flat_no  \\\n",
       "0         1  Rashmita; Sundaram  Ajmera iLand     Aeon  A Wing    1202   \n",
       "1         2     Preety; Agarwal  Ajmera iLand     Aeon  B Wing     803   \n",
       "2         3   Trisha; Chatterji  Ajmera iLand     Aeon  B Wing    1903   \n",
       "3         4  Arundhati; Bhosale  Ajmera iLand     Zeon  A Wing     904   \n",
       "4         5     Gita; Makhijani  Ajmera iLand     Zeon  A Wing    2104   \n",
       "\n",
       "   num_packets  total_amount  \n",
       "0          9.0           437  \n",
       "1         16.0           557  \n",
       "2         23.0           673  \n",
       "3         43.0          2290  \n",
       "4         15.0           672  "
      ]
     },
     "execution_count": 91,
     "metadata": {},
     "output_type": "execute_result"
    }
   ],
   "source": [
    "df_print_vishal.head()"
   ]
  },
  {
   "cell_type": "code",
   "execution_count": 92,
   "metadata": {
    "ExecuteTime": {
     "end_time": "2020-08-22T15:07:02.684911Z",
     "start_time": "2020-08-22T15:07:02.677930Z"
    }
   },
   "outputs": [],
   "source": [
    "df_print_vishal.to_csv(save_pth/'print-vishal.csv', index=False)"
   ]
  },
  {
   "cell_type": "markdown",
   "metadata": {},
   "source": [
    "## Dropwise "
   ]
  },
  {
   "cell_type": "code",
   "execution_count": 93,
   "metadata": {
    "ExecuteTime": {
     "end_time": "2020-08-22T15:07:03.946604Z",
     "start_time": "2020-08-22T15:07:03.942650Z"
    }
   },
   "outputs": [],
   "source": [
    "drops = df_print_vishal.drop_point.unique()"
   ]
  },
  {
   "cell_type": "code",
   "execution_count": 94,
   "metadata": {
    "ExecuteTime": {
     "end_time": "2020-08-22T15:08:00.824921Z",
     "start_time": "2020-08-22T15:08:00.820930Z"
    }
   },
   "outputs": [],
   "source": [
    "# fname = save_pth/\"dropwise-phool.xlsx\"\n",
    "fname = save_pth/('dropwise-' + str(FILE.stem) + '.xlsx')"
   ]
  },
  {
   "cell_type": "code",
   "execution_count": 95,
   "metadata": {
    "ExecuteTime": {
     "end_time": "2020-08-22T15:08:06.103614Z",
     "start_time": "2020-08-22T15:08:05.938943Z"
    }
   },
   "outputs": [],
   "source": [
    "all_data = 0\n",
    "\n",
    "with pd.ExcelWriter(fname) as writer:\n",
    "    for drop in drops:\n",
    "        data = df_print_vishal[df_print_vishal.drop_point == drop]\n",
    "        all_data += len(data.index)\n",
    "\n",
    "        invalid_chars = '[]:*?/\\\\'\n",
    "        for c in invalid_chars: drop = drop.replace(c, '')\n",
    "        \n",
    "        data.to_excel(writer, sheet_name=drop, index=False)\n",
    "    \n",
    "assert all_data == len(df_print_vishal)"
   ]
  },
  {
   "cell_type": "markdown",
   "metadata": {},
   "source": [
    "## Tokens"
   ]
  },
  {
   "cell_type": "code",
   "execution_count": 96,
   "metadata": {
    "ExecuteTime": {
     "end_time": "2020-08-22T15:08:08.754304Z",
     "start_time": "2020-08-22T15:08:08.750317Z"
    }
   },
   "outputs": [],
   "source": [
    "subset_cols = ['name', 'token_no', 'building', 'wing', 'flat_no']"
   ]
  },
  {
   "cell_type": "code",
   "execution_count": 97,
   "metadata": {
    "ExecuteTime": {
     "end_time": "2020-08-22T15:08:09.887892Z",
     "start_time": "2020-08-22T15:08:09.882878Z"
    }
   },
   "outputs": [],
   "source": [
    "df_tokens = df_print_vishal[subset_cols]"
   ]
  },
  {
   "cell_type": "code",
   "execution_count": 98,
   "metadata": {
    "ExecuteTime": {
     "end_time": "2020-08-22T15:08:11.203122Z",
     "start_time": "2020-08-22T15:08:11.199133Z"
    }
   },
   "outputs": [],
   "source": [
    "drops = df_print_vishal.drop_point.unique()"
   ]
  },
  {
   "cell_type": "code",
   "execution_count": 99,
   "metadata": {
    "ExecuteTime": {
     "end_time": "2020-08-22T15:08:28.543007Z",
     "start_time": "2020-08-22T15:08:28.539053Z"
    }
   },
   "outputs": [],
   "source": [
    "# fname = save_pth/\"tokens-phool.xlsx\"\n",
    "fname = save_pth/('tokens-' + str(FILE.stem) + '.xlsx')"
   ]
  },
  {
   "cell_type": "code",
   "execution_count": 100,
   "metadata": {
    "ExecuteTime": {
     "end_time": "2020-08-22T15:08:30.473920Z",
     "start_time": "2020-08-22T15:08:30.295204Z"
    }
   },
   "outputs": [],
   "source": [
    "all_data = 0\n",
    "\n",
    "with pd.ExcelWriter(fname) as writer:\n",
    "    for drop in drops:\n",
    "        data = df_print_vishal[df_print_vishal.drop_point == drop]\n",
    "        all_data += len(data.index)\n",
    "        \n",
    "        invalid_chars = '[]:*?/\\\\'\n",
    "        for c in invalid_chars: drop = drop.replace(c, '')\n",
    "        \n",
    "        data.to_excel(writer, sheet_name=drop, columns=subset_cols, index=False)\n",
    "    \n",
    "assert all_data == len(df_print_vishal)"
   ]
  },
  {
   "cell_type": "markdown",
   "metadata": {},
   "source": [
    "# Dropwise Count"
   ]
  },
  {
   "cell_type": "code",
   "execution_count": 101,
   "metadata": {
    "ExecuteTime": {
     "end_time": "2020-08-22T15:08:47.525708Z",
     "start_time": "2020-08-22T15:08:47.518730Z"
    }
   },
   "outputs": [],
   "source": [
    "rows_list = []\n",
    "for token, order in orders_dict.items():\n",
    "    for item, count in order['order'].items():\n",
    "        row_dct = {}\n",
    "        row_dct['drop_point'] = order['drop_point']\n",
    "        row_dct['item_name'] = item\n",
    "        row_dct['num_packets'] = count\n",
    "        \n",
    "        rows_list.append(row_dct)"
   ]
  },
  {
   "cell_type": "code",
   "execution_count": 102,
   "metadata": {
    "ExecuteTime": {
     "end_time": "2020-08-22T15:08:49.376873Z",
     "start_time": "2020-08-22T15:08:49.369889Z"
    }
   },
   "outputs": [],
   "source": [
    "df_dropwise = pd.DataFrame(rows_list)"
   ]
  },
  {
   "cell_type": "code",
   "execution_count": 103,
   "metadata": {
    "ExecuteTime": {
     "end_time": "2020-08-22T15:08:50.590070Z",
     "start_time": "2020-08-22T15:08:50.578189Z"
    }
   },
   "outputs": [
    {
     "data": {
      "text/html": [
       "<div>\n",
       "<style scoped>\n",
       "    .dataframe tbody tr th:only-of-type {\n",
       "        vertical-align: middle;\n",
       "    }\n",
       "\n",
       "    .dataframe tbody tr th {\n",
       "        vertical-align: top;\n",
       "    }\n",
       "\n",
       "    .dataframe thead th {\n",
       "        text-align: right;\n",
       "    }\n",
       "</style>\n",
       "<table border=\"1\" class=\"dataframe\">\n",
       "  <thead>\n",
       "    <tr style=\"text-align: right;\">\n",
       "      <th></th>\n",
       "      <th>drop_point</th>\n",
       "      <th>item_name</th>\n",
       "      <th>num_packets</th>\n",
       "    </tr>\n",
       "  </thead>\n",
       "  <tbody>\n",
       "    <tr>\n",
       "      <th>0</th>\n",
       "      <td>Ajmera iLand</td>\n",
       "      <td>Red Onions</td>\n",
       "      <td>1.0</td>\n",
       "    </tr>\n",
       "    <tr>\n",
       "      <th>1</th>\n",
       "      <td>Ajmera iLand</td>\n",
       "      <td>Tondli</td>\n",
       "      <td>1.0</td>\n",
       "    </tr>\n",
       "    <tr>\n",
       "      <th>2</th>\n",
       "      <td>Ajmera iLand</td>\n",
       "      <td>Button Mushroom</td>\n",
       "      <td>1.0</td>\n",
       "    </tr>\n",
       "    <tr>\n",
       "      <th>3</th>\n",
       "      <td>Ajmera iLand</td>\n",
       "      <td>Bottle Gourd</td>\n",
       "      <td>1.0</td>\n",
       "    </tr>\n",
       "    <tr>\n",
       "      <th>4</th>\n",
       "      <td>Ajmera iLand</td>\n",
       "      <td>Baby Corn</td>\n",
       "      <td>1.0</td>\n",
       "    </tr>\n",
       "    <tr>\n",
       "      <th>...</th>\n",
       "      <td>...</td>\n",
       "      <td>...</td>\n",
       "      <td>...</td>\n",
       "    </tr>\n",
       "    <tr>\n",
       "      <th>1315</th>\n",
       "      <td>Sector 1/2</td>\n",
       "      <td>Bitter Gourd</td>\n",
       "      <td>1.0</td>\n",
       "    </tr>\n",
       "    <tr>\n",
       "      <th>1316</th>\n",
       "      <td>Sector 1/2</td>\n",
       "      <td>Button Mushroom</td>\n",
       "      <td>1.0</td>\n",
       "    </tr>\n",
       "    <tr>\n",
       "      <th>1317</th>\n",
       "      <td>Sector 1/2</td>\n",
       "      <td>Drumsticks</td>\n",
       "      <td>1.0</td>\n",
       "    </tr>\n",
       "    <tr>\n",
       "      <th>1318</th>\n",
       "      <td>Sector 1/2</td>\n",
       "      <td>Tomato</td>\n",
       "      <td>2.0</td>\n",
       "    </tr>\n",
       "    <tr>\n",
       "      <th>1319</th>\n",
       "      <td>Sector 1/2</td>\n",
       "      <td>Methi Leaves</td>\n",
       "      <td>1.0</td>\n",
       "    </tr>\n",
       "  </tbody>\n",
       "</table>\n",
       "<p>1320 rows × 3 columns</p>\n",
       "</div>"
      ],
      "text/plain": [
       "        drop_point        item_name  num_packets\n",
       "0     Ajmera iLand       Red Onions          1.0\n",
       "1     Ajmera iLand           Tondli          1.0\n",
       "2     Ajmera iLand  Button Mushroom          1.0\n",
       "3     Ajmera iLand     Bottle Gourd          1.0\n",
       "4     Ajmera iLand        Baby Corn          1.0\n",
       "...            ...              ...          ...\n",
       "1315    Sector 1/2     Bitter Gourd          1.0\n",
       "1316    Sector 1/2  Button Mushroom          1.0\n",
       "1317    Sector 1/2       Drumsticks          1.0\n",
       "1318    Sector 1/2           Tomato          2.0\n",
       "1319    Sector 1/2     Methi Leaves          1.0\n",
       "\n",
       "[1320 rows x 3 columns]"
      ]
     },
     "execution_count": 103,
     "metadata": {},
     "output_type": "execute_result"
    }
   ],
   "source": [
    "df_dropwise"
   ]
  },
  {
   "cell_type": "code",
   "execution_count": 105,
   "metadata": {
    "ExecuteTime": {
     "end_time": "2020-08-22T15:10:26.555921Z",
     "start_time": "2020-08-22T15:10:26.551931Z"
    }
   },
   "outputs": [],
   "source": [
    "fname = save_pth/('dropwisecount-' + str(FILE.stem) + '.csv')"
   ]
  },
  {
   "cell_type": "code",
   "execution_count": 106,
   "metadata": {
    "ExecuteTime": {
     "end_time": "2020-08-22T15:10:33.911752Z",
     "start_time": "2020-08-22T15:10:33.894770Z"
    }
   },
   "outputs": [],
   "source": [
    "df_dropwise.groupby(['drop_point', 'item_name']).sum().reset_index().to_csv(fname, index=False)"
   ]
  },
  {
   "cell_type": "markdown",
   "metadata": {},
   "source": [
    "# End"
   ]
  },
  {
   "cell_type": "markdown",
   "metadata": {
    "heading_collapsed": true
   },
   "source": [
    "## Manually Adding Orders"
   ]
  },
  {
   "cell_type": "code",
   "execution_count": 56,
   "metadata": {
    "ExecuteTime": {
     "end_time": "2020-08-21T17:25:20.254291Z",
     "start_time": "2020-08-21T17:25:20.245315Z"
    },
    "hidden": true
   },
   "outputs": [
    {
     "name": "stdout",
     "output_type": "stream",
     "text": [
      "Haar 1\n",
      "Haar 2\n",
      "Jhendu/Marigold\n",
      "Druva\n",
      "Tulsi\n",
      "Pack of 5 leaves\n",
      "Betelnut\n",
      "Banana Leaves with Stem\n",
      "Pack of 5 Fruits\n",
      "Assorted Flowers\n",
      "Hibiscus\n"
     ]
    }
   ],
   "source": [
    "for a in all_items: print(a)"
   ]
  },
  {
   "cell_type": "code",
   "execution_count": 57,
   "metadata": {
    "ExecuteTime": {
     "end_time": "2020-08-21T17:25:28.913018Z",
     "start_time": "2020-08-21T17:25:28.897063Z"
    },
    "hidden": true
   },
   "outputs": [],
   "source": [
    "new_orders = pd.read_csv('yelofile/additions.csv')"
   ]
  },
  {
   "cell_type": "code",
   "execution_count": 58,
   "metadata": {
    "ExecuteTime": {
     "end_time": "2020-08-21T17:25:32.642401Z",
     "start_time": "2020-08-21T17:25:32.637414Z"
    },
    "hidden": true
   },
   "outputs": [],
   "source": [
    "keys1 = ['name', 'drop_point', 'building', 'wing', 'flat_no', 'phone_no', 'email', 'delivery_date', 'total_amount', 'order']"
   ]
  },
  {
   "cell_type": "code",
   "execution_count": 59,
   "metadata": {
    "ExecuteTime": {
     "end_time": "2020-08-21T17:25:35.560779Z",
     "start_time": "2020-08-21T17:25:35.554534Z"
    },
    "hidden": true
   },
   "outputs": [],
   "source": [
    "new_orders.dropna(inplace=True)"
   ]
  },
  {
   "cell_type": "code",
   "execution_count": 60,
   "metadata": {
    "ExecuteTime": {
     "end_time": "2020-08-21T17:25:40.204523Z",
     "start_time": "2020-08-21T17:25:40.193549Z"
    },
    "hidden": true
   },
   "outputs": [
    {
     "data": {
      "text/html": [
       "<div>\n",
       "<style scoped>\n",
       "    .dataframe tbody tr th:only-of-type {\n",
       "        vertical-align: middle;\n",
       "    }\n",
       "\n",
       "    .dataframe tbody tr th {\n",
       "        vertical-align: top;\n",
       "    }\n",
       "\n",
       "    .dataframe thead th {\n",
       "        text-align: right;\n",
       "    }\n",
       "</style>\n",
       "<table border=\"1\" class=\"dataframe\">\n",
       "  <thead>\n",
       "    <tr style=\"text-align: right;\">\n",
       "      <th></th>\n",
       "      <th>index</th>\n",
       "      <th>Haar 1</th>\n",
       "      <th>Haar 2</th>\n",
       "      <th>Jhendu/Marigold</th>\n",
       "      <th>Rajnigandha</th>\n",
       "      <th>Druva</th>\n",
       "      <th>Tulsi</th>\n",
       "      <th>Pack of 5 leaves</th>\n",
       "      <th>Betelnut</th>\n",
       "      <th>Banana Leaves with Stem</th>\n",
       "      <th>Banana Leaves</th>\n",
       "      <th>Pack of 5 Fruits</th>\n",
       "      <th>Assorted Flowers</th>\n",
       "      <th>Hibiscus</th>\n",
       "    </tr>\n",
       "  </thead>\n",
       "  <tbody>\n",
       "  </tbody>\n",
       "</table>\n",
       "</div>"
      ],
      "text/plain": [
       "Empty DataFrame\n",
       "Columns: [index, Haar 1, Haar 2, Jhendu/Marigold, Rajnigandha, Druva, Tulsi, Pack of 5 leaves, Betelnut, Banana Leaves with Stem, Banana Leaves, Pack of 5 Fruits, Assorted Flowers, Hibiscus]\n",
       "Index: []"
      ]
     },
     "execution_count": 60,
     "metadata": {},
     "output_type": "execute_result"
    }
   ],
   "source": [
    "new_orders"
   ]
  },
  {
   "cell_type": "code",
   "execution_count": 133,
   "metadata": {
    "ExecuteTime": {
     "end_time": "2020-08-20T18:40:00.519896Z",
     "start_time": "2020-08-20T18:40:00.515906Z"
    },
    "hidden": true
   },
   "outputs": [],
   "source": [
    "to_append = new_orders.to_dict(orient='records')"
   ]
  },
  {
   "cell_type": "code",
   "execution_count": 134,
   "metadata": {
    "ExecuteTime": {
     "end_time": "2020-08-20T18:40:21.697350Z",
     "start_time": "2020-08-20T18:40:21.686407Z"
    },
    "hidden": true
   },
   "outputs": [],
   "source": [
    "orders_very_very_new = pd.read_csv('yelofile/additions.csv')\n",
    "orders_very_very_new.set_index('index', inplace=True)\n",
    "orders_very_very_new.fillna(0, inplace=True)"
   ]
  },
  {
   "cell_type": "code",
   "execution_count": 137,
   "metadata": {
    "ExecuteTime": {
     "end_time": "2020-08-20T18:41:03.646115Z",
     "start_time": "2020-08-20T18:41:03.643123Z"
    },
    "hidden": true
   },
   "outputs": [],
   "source": [
    "for i in to_append:\n",
    "    i['order'] = new_items[i['name']]"
   ]
  },
  {
   "cell_type": "code",
   "execution_count": 61,
   "metadata": {
    "ExecuteTime": {
     "end_time": "2020-08-21T17:26:56.635340Z",
     "start_time": "2020-08-21T17:26:56.611404Z"
    },
    "hidden": true
   },
   "outputs": [],
   "source": [
    "to_append = [{'name': 'Suchitra;Narale',\n",
    "  'drop_point': 'Cosmic',\n",
    "  'building': 'Cosmic Heights',\n",
    "  'wing': 'B Wing',\n",
    "  'flat_no': 2603.0,\n",
    "  'phone_no': 9833567340.0,\n",
    "  'email': 'suchitrahate@gmail.com',\n",
    "  'order': {'Haar 1': 1.0,\n",
    "   'Haar 2': 0.0,\n",
    "   'Jhendu/Marigold': 1.0,\n",
    "   'Rajnigandha': 0.0,\n",
    "   'Druva': 1.0,\n",
    "   'Tulsi': 0.0,\n",
    "   'Pack of 5 leaves': 0.0,\n",
    "   'Betelnut': 0.0,\n",
    "   'Banana Leaves with Stem': 0.0,\n",
    "   'Banana Leaves': 0.0,\n",
    "   'Pack of 5 Fruits': 1.0,\n",
    "   'Assorted Flowers': 1,\n",
    "   'Hibiscus': 0.0}},\n",
    " {'name': 'Ritu;Sharda',\n",
    "  'drop_point': 'Cosmic',\n",
    "  'building': 'Cosmic Heights',\n",
    "  'wing': 'B Wing',\n",
    "  'flat_no': 2101.0,\n",
    "  'phone_no': 9820844319.0,\n",
    "  'email': 'shardaritu@hotmail.com',\n",
    "  'order': {'Haar 1': 0.0,\n",
    "   'Haar 2': 0.0,\n",
    "   'Jhendu/Marigold': 2.0,\n",
    "   'Rajnigandha': 0.0,\n",
    "   'Druva': 1.0,\n",
    "   'Tulsi': 0.0,\n",
    "   'Pack of 5 leaves': 0.0,\n",
    "   'Betelnut': 1.0,\n",
    "   'Banana Leaves with Stem': 0.0,\n",
    "   'Banana Leaves': 1.0,\n",
    "   'Pack of 5 Fruits': 0.0,\n",
    "   'Assorted Flowers': 1,\n",
    "   'Hibiscus': 0.0}},\n",
    " {'name': 'Nisha;Narale',\n",
    "  'drop_point': 'Cosmic',\n",
    "  'building': 'Cosmic Heights',\n",
    "  'wing': 'A Wing',\n",
    "  'flat_no': 2505.0,\n",
    "  'phone_no': 9930390994.0,\n",
    "  'email': 'nishashetti@gmail.com',\n",
    "  'order': {'Haar 1': 1.0,\n",
    "   'Haar 2': 1.0,\n",
    "   'Jhendu/Marigold': 0.0,\n",
    "   'Rajnigandha': 0.0,\n",
    "   'Druva': 1.0,\n",
    "   'Tulsi': 1.0,\n",
    "   'Pack of 5 leaves': 0.0,\n",
    "   'Betelnut': 1.0,\n",
    "   'Banana Leaves with Stem': 0.0,\n",
    "   'Banana Leaves': 1.0,\n",
    "   'Pack of 5 Fruits': 2.0,\n",
    "   'Assorted Flowers': 3,\n",
    "   'Hibiscus': 1.0}},\n",
    " {'name': 'Padmaja;Kakkera',\n",
    "  'drop_point': 'Lodha NCP',\n",
    "  'building': 'Tower 4',\n",
    "  'wing': 'B Wing',\n",
    "  'flat_no': 202.0,\n",
    "  'phone_no': 9900065600.0,\n",
    "  'email': 'padmaja.kakkera@gmail.com',\n",
    "  'order': {'Haar 1': 0.0,\n",
    "   'Haar 2': 0.0,\n",
    "   'Jhendu/Marigold': 0.0,\n",
    "   'Rajnigandha': 0.0,\n",
    "   'Druva': 1.0,\n",
    "   'Tulsi': 1.0,\n",
    "   'Pack of 5 leaves': 1.0,\n",
    "   'Betelnut': 1.0,\n",
    "   'Banana Leaves with Stem': 0.0,\n",
    "   'Banana Leaves': 0.0,\n",
    "   'Pack of 5 Fruits': 1.0,\n",
    "   'Assorted Flowers': 1,\n",
    "   'Hibiscus': 1.0}},\n",
    " {'name': 'Shalini;Memani',\n",
    "  'drop_point': 'Lodha NCP',\n",
    "  'building': 'Tower 6',\n",
    "  'wing': 'A Wing',\n",
    "  'flat_no': 2503.0,\n",
    "  'phone_no': 9323134454.0,\n",
    "  'email': 'shalini_depura@yahoo.co.in',\n",
    "  'order': {'Haar 1': 2.0,\n",
    "   'Haar 2': 0.0,\n",
    "   'Jhendu/Marigold': 0.0,\n",
    "   'Rajnigandha': 0.0,\n",
    "   'Druva': 2.0,\n",
    "   'Tulsi': 0.0,\n",
    "   'Pack of 5 leaves': 0.0,\n",
    "   'Betelnut': 1.0,\n",
    "   'Banana Leaves with Stem': 0.0,\n",
    "   'Banana Leaves': 2.0,\n",
    "   'Pack of 5 Fruits': 0.0,\n",
    "   'Assorted Flowers': 1,\n",
    "   'Hibiscus': 3.0}},\n",
    " {'name': 'Ila Panchakshari',\n",
    "  'drop_point': 'Ivory',\n",
    "  'building': 'Himalayan Heights',\n",
    "  'wing': 'A Wing',\n",
    "  'flat_no': 1003.0,\n",
    "  'phone_no': 8286125928.0,\n",
    "  'email': 'ilahp78@gmail.com',\n",
    "  'order': {'Haar 1': 0.0,\n",
    "   'Haar 2': 0.0,\n",
    "   'Jhendu/Marigold': 0.0,\n",
    "   'Rajnigandha': 0.0,\n",
    "   'Druva': 5.0,\n",
    "   'Tulsi': 0.0,\n",
    "   'Pack of 5 leaves': 0.0,\n",
    "   'Betelnut': 1.0,\n",
    "   'Banana Leaves with Stem': 0.0,\n",
    "   'Banana Leaves': 0.0,\n",
    "   'Pack of 5 Fruits': 0.0,\n",
    "   'Assorted Flowers': 1,\n",
    "   'Hibiscus': 1.0}},\n",
    " {'name': 'Swati;Madhukar',\n",
    "  'drop_point': 'Lodha NCP',\n",
    "  'building': 'Tower 6',\n",
    "  'wing': 'A Wing',\n",
    "  'flat_no': 4002.0,\n",
    "  'phone_no': 9167853838.0,\n",
    "  'email': 'swati.chaudhary90@yahoo.com',\n",
    "  'order': {'Haar 1': 8.0,\n",
    "   'Haar 2': 2.0,\n",
    "   'Jhendu/Marigold': 0.0,\n",
    "   'Rajnigandha': 0.0,\n",
    "   'Druva': 0.0,\n",
    "   'Tulsi': 0.0,\n",
    "   'Pack of 5 leaves': 0.0,\n",
    "   'Betelnut': 5.0,\n",
    "   'Banana Leaves with Stem': 0.0,\n",
    "   'Banana Leaves': 0.0,\n",
    "   'Pack of 5 Fruits': 0.0,\n",
    "   'Assorted Flowers': 1,\n",
    "   'Hibiscus': 0.0}}]"
   ]
  },
  {
   "cell_type": "code",
   "execution_count": 68,
   "metadata": {
    "ExecuteTime": {
     "end_time": "2020-08-21T17:38:55.746640Z",
     "start_time": "2020-08-21T17:38:55.740656Z"
    },
    "hidden": true
   },
   "outputs": [],
   "source": [
    "new_orders_dict = {}\n",
    "i = 178\n",
    "\n",
    "for row in to_append:\n",
    "    dct = {}\n",
    "    dct['name'] = row['name']\n",
    "#     dct['drop_point'] = row['Select Drop Point']\n",
    "#     dct['building'] = row['building']\n",
    "#     dct['wing'] = row['Select Wing']\n",
    "#     dct['flat_no'] = row['Flat No']\n",
    "    dct['phone_no'] = row['phone_no']\n",
    "    dct['email'] = row['email']\n",
    "#     dct['delivery_date'] = row['Select Delivery Date']\n",
    "#     dct['total_amount'] = row['Total Amount']\n",
    "#     dct['total_amount'] = \n",
    "#     dct['payment_status'] = row['Payment Status']\n",
    "    dct['order'] = get_order(row)\n",
    "    dct['total_amount'] = get_total_amt(dct['order'])\n",
    "    \n",
    "    new_orders_dict[i] = dct\n",
    "    i+=1"
   ]
  },
  {
   "cell_type": "code",
   "execution_count": 70,
   "metadata": {
    "ExecuteTime": {
     "end_time": "2020-08-21T17:46:21.746635Z",
     "start_time": "2020-08-21T17:46:21.741647Z"
    },
    "hidden": true
   },
   "outputs": [
    {
     "data": {
      "text/plain": [
       "426"
      ]
     },
     "execution_count": 70,
     "metadata": {},
     "output_type": "execute_result"
    }
   ],
   "source": [
    "60+100+15+130+121"
   ]
  },
  {
   "cell_type": "code",
   "execution_count": 71,
   "metadata": {
    "ExecuteTime": {
     "end_time": "2020-08-21T17:46:53.801386Z",
     "start_time": "2020-08-21T17:46:53.796371Z"
    },
    "hidden": true
   },
   "outputs": [
    {
     "data": {
      "text/plain": [
       "876"
      ]
     },
     "execution_count": 71,
     "metadata": {},
     "output_type": "execute_result"
    }
   ],
   "source": [
    "480+200+25+50+121"
   ]
  },
  {
   "cell_type": "code",
   "execution_count": 73,
   "metadata": {
    "ExecuteTime": {
     "end_time": "2020-08-21T17:47:33.908986Z",
     "start_time": "2020-08-21T17:47:33.903004Z"
    },
    "hidden": true
   },
   "outputs": [
    {
     "data": {
      "text/plain": [
       "296"
      ]
     },
     "execution_count": 73,
     "metadata": {},
     "output_type": "execute_result"
    }
   ],
   "source": [
    "120+30+25+121"
   ]
  },
  {
   "cell_type": "code",
   "execution_count": 80,
   "metadata": {
    "ExecuteTime": {
     "end_time": "2020-08-21T17:56:45.536902Z",
     "start_time": "2020-08-21T17:56:45.530921Z"
    },
    "hidden": true
   },
   "outputs": [
    {
     "data": {
      "text/plain": [
       "{'Haar 1': {'packing_size': 1, 'unit': 1, 'sell_price': 60},\n",
       " 'Haar 2': {'packing_size': 1, 'unit': 1, 'sell_price': 100},\n",
       " 'Jhendu/Marigold': {'packing_size': 1, 'unit': 1, 'sell_price': 100},\n",
       " 'Druva': {'packing_size': 1, 'unit': 1, 'sell_price': 15},\n",
       " 'Tulsi': {'packing_size': 1, 'unit': 1, 'sell_price': 20},\n",
       " 'Pack of 5 leaves': {'packing_size': 1, 'unit': 1, 'sell_price': 25},\n",
       " 'Betelnut': {'packing_size': 1, 'unit': 1, 'sell_price': 25},\n",
       " 'Banana Leaves with Stem': {'packing_size': 1, 'unit': 1, 'sell_price': 100},\n",
       " 'Pack of 5 Fruits': {'packing_size': 1, 'unit': 1, 'sell_price': 130},\n",
       " 'Assorted Flowers': {'packing_size': 1, 'unit': 1, 'sell_price': 121},\n",
       " 'Hibiscus': {'packing_size': 1, 'unit': 1, 'sell_price': 20}}"
      ]
     },
     "execution_count": 80,
     "metadata": {},
     "output_type": "execute_result"
    }
   ],
   "source": [
    "items_dict"
   ]
  },
  {
   "cell_type": "code",
   "execution_count": null,
   "metadata": {
    "ExecuteTime": {
     "end_time": "2020-08-21T17:51:16.989784Z",
     "start_time": "2020-08-21T17:51:16.983799Z"
    },
    "hidden": true
   },
   "outputs": [],
   "source": []
  },
  {
   "cell_type": "code",
   "execution_count": null,
   "metadata": {
    "hidden": true
   },
   "outputs": [],
   "source": []
  },
  {
   "cell_type": "code",
   "execution_count": null,
   "metadata": {
    "hidden": true
   },
   "outputs": [],
   "source": []
  },
  {
   "cell_type": "code",
   "execution_count": null,
   "metadata": {
    "hidden": true
   },
   "outputs": [],
   "source": []
  },
  {
   "cell_type": "code",
   "execution_count": 138,
   "metadata": {
    "ExecuteTime": {
     "end_time": "2020-08-20T18:41:12.220702Z",
     "start_time": "2020-08-20T18:41:12.213597Z"
    },
    "hidden": true,
    "scrolled": false
   },
   "outputs": [
    {
     "data": {
      "text/plain": [
       "[{'name': 'Suchitra;Narale',\n",
       "  'drop_point': 'Cosmic',\n",
       "  'building': 'Cosmic Heights',\n",
       "  'wing': 'B Wing',\n",
       "  'flat_no': 2603.0,\n",
       "  'phone_no': 9833567340.0,\n",
       "  'email': 'suchitrahate@gmail.com',\n",
       "  'order': {'Haar 1': 1.0,\n",
       "   'Haar 2': 0.0,\n",
       "   'Jhendu/Marigold': 1.0,\n",
       "   'Rajnigandha': 0.0,\n",
       "   'Druva': 1.0,\n",
       "   'Tulsi': 0.0,\n",
       "   'Pack of 5 leaves': 0.0,\n",
       "   'Betelnut': 0.0,\n",
       "   'Banana Leaves with Stem': 0.0,\n",
       "   'Banana Leaves': 0.0,\n",
       "   'Pack of 5 Fruits': 1.0,\n",
       "   'Assorted Flowers': 1,\n",
       "   'Hibiscus': 0.0}},\n",
       " {'name': 'Ritu;Sharda',\n",
       "  'drop_point': 'Cosmic',\n",
       "  'building': 'Cosmic Heights',\n",
       "  'wing': 'B Wing',\n",
       "  'flat_no': 2101.0,\n",
       "  'phone_no': 9820844319.0,\n",
       "  'email': 'shardaritu@hotmail.com',\n",
       "  'order': {'Haar 1': 0.0,\n",
       "   'Haar 2': 0.0,\n",
       "   'Jhendu/Marigold': 2.0,\n",
       "   'Rajnigandha': 0.0,\n",
       "   'Druva': 1.0,\n",
       "   'Tulsi': 0.0,\n",
       "   'Pack of 5 leaves': 0.0,\n",
       "   'Betelnut': 1.0,\n",
       "   'Banana Leaves with Stem': 0.0,\n",
       "   'Banana Leaves': 1.0,\n",
       "   'Pack of 5 Fruits': 0.0,\n",
       "   'Assorted Flowers': 1,\n",
       "   'Hibiscus': 0.0}},\n",
       " {'name': 'Nisha;Narale',\n",
       "  'drop_point': 'Cosmic',\n",
       "  'building': 'Cosmic Heights',\n",
       "  'wing': 'A Wing',\n",
       "  'flat_no': 2505.0,\n",
       "  'phone_no': 9930390994.0,\n",
       "  'email': 'nishashetti@gmail.com',\n",
       "  'order': {'Haar 1': 1.0,\n",
       "   'Haar 2': 1.0,\n",
       "   'Jhendu/Marigold': 0.0,\n",
       "   'Rajnigandha': 0.0,\n",
       "   'Druva': 1.0,\n",
       "   'Tulsi': 1.0,\n",
       "   'Pack of 5 leaves': 0.0,\n",
       "   'Betelnut': 1.0,\n",
       "   'Banana Leaves with Stem': 0.0,\n",
       "   'Banana Leaves': 1.0,\n",
       "   'Pack of 5 Fruits': 2.0,\n",
       "   'Assorted Flowers': 3,\n",
       "   'Hibiscus': 1.0}},\n",
       " {'name': 'Padmaja;Kakkera',\n",
       "  'drop_point': 'Lodha NCP',\n",
       "  'building': 'Tower 4',\n",
       "  'wing': 'B Wing',\n",
       "  'flat_no': 202.0,\n",
       "  'phone_no': 9900065600.0,\n",
       "  'email': 'padmaja.kakkera@gmail.com',\n",
       "  'order': {'Haar 1': 0.0,\n",
       "   'Haar 2': 0.0,\n",
       "   'Jhendu/Marigold': 0.0,\n",
       "   'Rajnigandha': 0.0,\n",
       "   'Druva': 1.0,\n",
       "   'Tulsi': 1.0,\n",
       "   'Pack of 5 leaves': 1.0,\n",
       "   'Betelnut': 1.0,\n",
       "   'Banana Leaves with Stem': 0.0,\n",
       "   'Banana Leaves': 0.0,\n",
       "   'Pack of 5 Fruits': 1.0,\n",
       "   'Assorted Flowers': 1,\n",
       "   'Hibiscus': 1.0}},\n",
       " {'name': 'Shalini;Memani',\n",
       "  'drop_point': 'Lodha NCP',\n",
       "  'building': 'Tower 6',\n",
       "  'wing': 'A Wing',\n",
       "  'flat_no': 2503.0,\n",
       "  'phone_no': 9323134454.0,\n",
       "  'email': 'shalini_depura@yahoo.co.in',\n",
       "  'order': {'Haar 1': 2.0,\n",
       "   'Haar 2': 0.0,\n",
       "   'Jhendu/Marigold': 0.0,\n",
       "   'Rajnigandha': 0.0,\n",
       "   'Druva': 2.0,\n",
       "   'Tulsi': 0.0,\n",
       "   'Pack of 5 leaves': 0.0,\n",
       "   'Betelnut': 1.0,\n",
       "   'Banana Leaves with Stem': 0.0,\n",
       "   'Banana Leaves': 2.0,\n",
       "   'Pack of 5 Fruits': 0.0,\n",
       "   'Assorted Flowers': 1,\n",
       "   'Hibiscus': 3.0}},\n",
       " {'name': 'Ila Panchakshari',\n",
       "  'drop_point': 'Ivory',\n",
       "  'building': 'Himalayan Heights',\n",
       "  'wing': 'A Wing',\n",
       "  'flat_no': 1003.0,\n",
       "  'phone_no': 8286125928.0,\n",
       "  'email': 'ilahp78@gmail.com',\n",
       "  'order': {'Haar 1': 0.0,\n",
       "   'Haar 2': 0.0,\n",
       "   'Jhendu/Marigold': 0.0,\n",
       "   'Rajnigandha': 0.0,\n",
       "   'Druva': 5.0,\n",
       "   'Tulsi': 0.0,\n",
       "   'Pack of 5 leaves': 0.0,\n",
       "   'Betelnut': 1.0,\n",
       "   'Banana Leaves with Stem': 0.0,\n",
       "   'Banana Leaves': 0.0,\n",
       "   'Pack of 5 Fruits': 0.0,\n",
       "   'Assorted Flowers': 1,\n",
       "   'Hibiscus': 1.0}},\n",
       " {'name': 'Swati;Madhukar',\n",
       "  'drop_point': 'Lodha NCP',\n",
       "  'building': 'Tower 6',\n",
       "  'wing': 'A Wing',\n",
       "  'flat_no': 4002.0,\n",
       "  'phone_no': 9167853838.0,\n",
       "  'email': 'swati.chaudhary90@yahoo.com',\n",
       "  'order': {'Haar 1': 8.0,\n",
       "   'Haar 2': 2.0,\n",
       "   'Jhendu/Marigold': 0.0,\n",
       "   'Rajnigandha': 0.0,\n",
       "   'Druva': 0.0,\n",
       "   'Tulsi': 0.0,\n",
       "   'Pack of 5 leaves': 0.0,\n",
       "   'Betelnut': 5.0,\n",
       "   'Banana Leaves with Stem': 0.0,\n",
       "   'Banana Leaves': 0.0,\n",
       "   'Pack of 5 Fruits': 0.0,\n",
       "   'Assorted Flowers': 1,\n",
       "   'Hibiscus': 0.0}}]"
      ]
     },
     "execution_count": 138,
     "metadata": {},
     "output_type": "execute_result"
    }
   ],
   "source": [
    "to_append"
   ]
  },
  {
   "cell_type": "code",
   "execution_count": null,
   "metadata": {
    "hidden": true
   },
   "outputs": [],
   "source": [
    "for k in to_a"
   ]
  },
  {
   "cell_type": "code",
   "execution_count": null,
   "metadata": {
    "hidden": true
   },
   "outputs": [],
   "source": []
  },
  {
   "cell_type": "code",
   "execution_count": null,
   "metadata": {
    "hidden": true
   },
   "outputs": [],
   "source": []
  },
  {
   "cell_type": "code",
   "execution_count": null,
   "metadata": {
    "hidden": true
   },
   "outputs": [],
   "source": []
  },
  {
   "cell_type": "code",
   "execution_count": null,
   "metadata": {
    "hidden": true
   },
   "outputs": [],
   "source": []
  },
  {
   "cell_type": "code",
   "execution_count": 136,
   "metadata": {
    "ExecuteTime": {
     "end_time": "2020-08-20T18:40:52.067056Z",
     "start_time": "2020-08-20T18:40:52.062063Z"
    },
    "hidden": true
   },
   "outputs": [],
   "source": [
    "new_items = orders_very_very_new.to_dict(orient='index')"
   ]
  },
  {
   "cell_type": "code",
   "execution_count": 74,
   "metadata": {
    "ExecuteTime": {
     "end_time": "2020-08-20T17:52:45.418968Z",
     "start_time": "2020-08-20T17:52:45.415974Z"
    },
    "hidden": true
   },
   "outputs": [],
   "source": [
    "keys2 = ['Haar 2', 'Druva', 'Tulsi', 'Pack of 5 leaves', 'Betelnut', 'Banana Leaves with Stem', 'Banana Leaves', 'Pack of 5 Fruits', 'Assorted Flowers']"
   ]
  },
  {
   "cell_type": "code",
   "execution_count": 86,
   "metadata": {
    "ExecuteTime": {
     "end_time": "2020-08-20T18:11:49.955955Z",
     "start_time": "2020-08-20T18:11:49.948972Z"
    },
    "hidden": true
   },
   "outputs": [
    {
     "name": "stdout",
     "output_type": "stream",
     "text": [
      "Haar 2\n",
      "Druva\n",
      "Tulsi\n",
      "Pack of 5 leaves\n",
      "Betelnut\n",
      "Banana Leaves with Stem\n",
      "Banana Leaves\n",
      "Pack of 5 Fruits\n",
      "Assorted Flowers\n"
     ]
    }
   ],
   "source": [
    "for k in keys2:\n",
    "    print (k)"
   ]
  },
  {
   "cell_type": "code",
   "execution_count": null,
   "metadata": {
    "hidden": true
   },
   "outputs": [],
   "source": []
  },
  {
   "cell_type": "code",
   "execution_count": null,
   "metadata": {
    "hidden": true
   },
   "outputs": [],
   "source": []
  },
  {
   "cell_type": "code",
   "execution_count": null,
   "metadata": {
    "hidden": true
   },
   "outputs": [],
   "source": []
  },
  {
   "cell_type": "code",
   "execution_count": null,
   "metadata": {
    "hidden": true
   },
   "outputs": [],
   "source": []
  },
  {
   "cell_type": "code",
   "execution_count": null,
   "metadata": {
    "hidden": true
   },
   "outputs": [],
   "source": []
  },
  {
   "cell_type": "code",
   "execution_count": 66,
   "metadata": {
    "ExecuteTime": {
     "end_time": "2020-08-20T17:15:38.050300Z",
     "start_time": "2020-08-20T17:15:38.032343Z"
    },
    "hidden": true
   },
   "outputs": [
    {
     "data": {
      "text/html": [
       "<div>\n",
       "<style scoped>\n",
       "    .dataframe tbody tr th:only-of-type {\n",
       "        vertical-align: middle;\n",
       "    }\n",
       "\n",
       "    .dataframe tbody tr th {\n",
       "        vertical-align: top;\n",
       "    }\n",
       "\n",
       "    .dataframe thead th {\n",
       "        text-align: right;\n",
       "    }\n",
       "</style>\n",
       "<table border=\"1\" class=\"dataframe\">\n",
       "  <thead>\n",
       "    <tr style=\"text-align: right;\">\n",
       "      <th></th>\n",
       "      <th></th>\n",
       "      <th>num_packets</th>\n",
       "    </tr>\n",
       "    <tr>\n",
       "      <th>drop_point</th>\n",
       "      <th>item_name</th>\n",
       "      <th></th>\n",
       "    </tr>\n",
       "  </thead>\n",
       "  <tbody>\n",
       "    <tr>\n",
       "      <th rowspan=\"5\" valign=\"top\">Ajmera iLand</th>\n",
       "      <th>Assorted Flowers</th>\n",
       "      <td>12.0</td>\n",
       "    </tr>\n",
       "    <tr>\n",
       "      <th>Banana Leaves</th>\n",
       "      <td>6.0</td>\n",
       "    </tr>\n",
       "    <tr>\n",
       "      <th>Banana Leaves with Stem</th>\n",
       "      <td>6.0</td>\n",
       "    </tr>\n",
       "    <tr>\n",
       "      <th>Betelnut</th>\n",
       "      <td>7.0</td>\n",
       "    </tr>\n",
       "    <tr>\n",
       "      <th>Druva</th>\n",
       "      <td>20.0</td>\n",
       "    </tr>\n",
       "    <tr>\n",
       "      <th>...</th>\n",
       "      <th>...</th>\n",
       "      <td>...</td>\n",
       "    </tr>\n",
       "    <tr>\n",
       "      <th rowspan=\"5\" valign=\"top\">Sector 1/2</th>\n",
       "      <th>Jhendu/Marigold</th>\n",
       "      <td>7.0</td>\n",
       "    </tr>\n",
       "    <tr>\n",
       "      <th>Pack of 5 Fruits</th>\n",
       "      <td>10.0</td>\n",
       "    </tr>\n",
       "    <tr>\n",
       "      <th>Pack of 5 leaves</th>\n",
       "      <td>6.0</td>\n",
       "    </tr>\n",
       "    <tr>\n",
       "      <th>Rajnigandha</th>\n",
       "      <td>1.0</td>\n",
       "    </tr>\n",
       "    <tr>\n",
       "      <th>Tulsi</th>\n",
       "      <td>4.0</td>\n",
       "    </tr>\n",
       "  </tbody>\n",
       "</table>\n",
       "<p>62 rows × 1 columns</p>\n",
       "</div>"
      ],
      "text/plain": [
       "                                      num_packets\n",
       "drop_point   item_name                           \n",
       "Ajmera iLand Assorted Flowers                12.0\n",
       "             Banana Leaves                    6.0\n",
       "             Banana Leaves with Stem          6.0\n",
       "             Betelnut                         7.0\n",
       "             Druva                           20.0\n",
       "...                                           ...\n",
       "Sector 1/2   Jhendu/Marigold                  7.0\n",
       "             Pack of 5 Fruits                10.0\n",
       "             Pack of 5 leaves                 6.0\n",
       "             Rajnigandha                      1.0\n",
       "             Tulsi                            4.0\n",
       "\n",
       "[62 rows x 1 columns]"
      ]
     },
     "execution_count": 66,
     "metadata": {},
     "output_type": "execute_result"
    }
   ],
   "source": [
    "df_dropwise.groupby(['drop_point', 'item_name']).sum()"
   ]
  },
  {
   "cell_type": "code",
   "execution_count": 67,
   "metadata": {
    "ExecuteTime": {
     "end_time": "2020-08-20T17:15:59.368309Z",
     "start_time": "2020-08-20T17:15:59.356309Z"
    },
    "hidden": true
   },
   "outputs": [],
   "source": []
  },
  {
   "cell_type": "code",
   "execution_count": null,
   "metadata": {
    "hidden": true
   },
   "outputs": [],
   "source": []
  },
  {
   "cell_type": "code",
   "execution_count": null,
   "metadata": {
    "hidden": true
   },
   "outputs": [],
   "source": []
  },
  {
   "cell_type": "code",
   "execution_count": null,
   "metadata": {
    "hidden": true
   },
   "outputs": [],
   "source": []
  },
  {
   "cell_type": "code",
   "execution_count": null,
   "metadata": {
    "hidden": true
   },
   "outputs": [],
   "source": []
  },
  {
   "cell_type": "code",
   "execution_count": null,
   "metadata": {
    "hidden": true
   },
   "outputs": [],
   "source": []
  },
  {
   "cell_type": "code",
   "execution_count": 62,
   "metadata": {
    "ExecuteTime": {
     "end_time": "2020-08-21T17:27:48.469410Z",
     "start_time": "2020-08-21T17:27:48.465619Z"
    },
    "hidden": true
   },
   "outputs": [],
   "source": [
    "for token in range(178, 178+len(to_append)):\n",
    "    orders_dict[token] = to_append[178-token]"
   ]
  },
  {
   "cell_type": "code",
   "execution_count": null,
   "metadata": {
    "hidden": true
   },
   "outputs": [],
   "source": []
  }
 ],
 "metadata": {
  "kernelspec": {
   "display_name": "Python 3",
   "language": "python",
   "name": "python3"
  },
  "language_info": {
   "codemirror_mode": {
    "name": "ipython",
    "version": 3
   },
   "file_extension": ".py",
   "mimetype": "text/x-python",
   "name": "python",
   "nbconvert_exporter": "python",
   "pygments_lexer": "ipython3",
   "version": "3.6.9"
  },
  "toc": {
   "base_numbering": 1,
   "nav_menu": {},
   "number_sections": true,
   "sideBar": true,
   "skip_h1_title": false,
   "title_cell": "Table of Contents",
   "title_sidebar": "Contents",
   "toc_cell": false,
   "toc_position": {
    "height": "calc(100% - 180px)",
    "left": "10px",
    "top": "150px",
    "width": "380px"
   },
   "toc_section_display": true,
   "toc_window_display": true
  }
 },
 "nbformat": 4,
 "nbformat_minor": 2
}
