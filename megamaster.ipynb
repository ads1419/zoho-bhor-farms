{
 "cells": [
  {
   "cell_type": "markdown",
   "metadata": {},
   "source": [
    "# Megamaster"
   ]
  },
  {
   "cell_type": "code",
   "execution_count": 1,
   "metadata": {
    "ExecuteTime": {
     "end_time": "2020-08-25T19:40:20.552808Z",
     "start_time": "2020-08-25T19:40:19.777270Z"
    }
   },
   "outputs": [],
   "source": [
    "import pandas as pd\n",
    "import re\n",
    "from pathlib import Path\n",
    "import os\n",
    "import numpy as np\n",
    "\n",
    "pd.set_option('display.max_columns', 500)"
   ]
  },
  {
   "cell_type": "code",
   "execution_count": 2,
   "metadata": {
    "ExecuteTime": {
     "end_time": "2020-08-25T19:40:20.671517Z",
     "start_time": "2020-08-25T19:40:20.554802Z"
    }
   },
   "outputs": [
    {
     "data": {
      "application/vnd.jupyter.widget-view+json": {
       "model_id": "d7ed3e0bc6844dc8bd2c24c1ef57212e",
       "version_major": 2,
       "version_minor": 0
      },
      "text/plain": [
       "FileChooser(path='C:/Playground/bhaiya-orders/zoho-bhor-farms/inputs/', filename='', show_hidden='False')"
      ]
     },
     "metadata": {},
     "output_type": "display_data"
    }
   ],
   "source": [
    "from ipyfilechooser import FileChooser\n",
    "\n",
    "fc = FileChooser(\"C:/Playground/bhaiya-orders/zoho-bhor-farms/inputs/\")\n",
    "fc.use_dir_icons = True\n",
    "display(fc)"
   ]
  },
  {
   "cell_type": "code",
   "execution_count": 3,
   "metadata": {
    "ExecuteTime": {
     "end_time": "2020-08-25T19:40:24.192391Z",
     "start_time": "2020-08-25T19:40:24.188377Z"
    }
   },
   "outputs": [],
   "source": [
    "FILE = Path(fc.selected)"
   ]
  },
  {
   "cell_type": "code",
   "execution_count": 4,
   "metadata": {
    "ExecuteTime": {
     "end_time": "2020-08-25T19:40:24.483181Z",
     "start_time": "2020-08-25T19:40:24.479194Z"
    }
   },
   "outputs": [],
   "source": [
    "OUTPUT_DIR = Path(\"C:/Playground/bhaiya-orders/zoho-bhor-farms/outputs/\")\n",
    "\n",
    "save_pth = Path(OUTPUT_DIR/str(FILE.stem)); save_pth\n",
    "os.makedirs(save_pth, exist_ok=True)\n",
    "\n",
    "PDF_DIR = save_pth/'customerwise-pdfs'\n",
    "os.makedirs(PDF_DIR, exist_ok=True)"
   ]
  },
  {
   "cell_type": "code",
   "execution_count": 5,
   "metadata": {
    "ExecuteTime": {
     "end_time": "2020-08-25T19:40:24.635428Z",
     "start_time": "2020-08-25T19:40:24.631438Z"
    }
   },
   "outputs": [],
   "source": [
    "# items2subset = ['Gawar/Cluster Beans', 'Mint Leaves', 'Sponge Gourd',  'Tondli', 'VNR Guava', ]\n",
    "items2subset = None\n",
    "STATUSES2PROCESS = ['Completed', 'Network Error']"
   ]
  },
  {
   "cell_type": "code",
   "execution_count": 6,
   "metadata": {
    "ExecuteTime": {
     "end_time": "2020-08-25T19:40:25.052045Z",
     "start_time": "2020-08-25T19:40:24.762817Z"
    }
   },
   "outputs": [],
   "source": [
    "try:\n",
    "    if 'csv' in FILE.suffix: df = pd.read_csv(FILE)\n",
    "    else: \n",
    "        df = pd.read_excel(FILE)\n",
    "        if len(pd.ExcelFile(FILE).sheet_names) > 1:\n",
    "            print(\"WARNING: MORE THAN ONE SHEETS PRESENT IN FILE\")\n",
    "            \n",
    "except OSError:\n",
    "    print(\"Error occured, invalid file!\")"
   ]
  },
  {
   "cell_type": "code",
   "execution_count": 7,
   "metadata": {
    "ExecuteTime": {
     "end_time": "2020-08-25T19:40:25.168732Z",
     "start_time": "2020-08-25T19:40:25.054039Z"
    }
   },
   "outputs": [
    {
     "data": {
      "text/html": [
       "<div>\n",
       "<style scoped>\n",
       "    .dataframe tbody tr th:only-of-type {\n",
       "        vertical-align: middle;\n",
       "    }\n",
       "\n",
       "    .dataframe tbody tr th {\n",
       "        vertical-align: top;\n",
       "    }\n",
       "\n",
       "    .dataframe thead th {\n",
       "        text-align: right;\n",
       "    }\n",
       "</style>\n",
       "<table border=\"1\" class=\"dataframe\">\n",
       "  <thead>\n",
       "    <tr style=\"text-align: right;\">\n",
       "      <th></th>\n",
       "      <th>Name</th>\n",
       "      <th>Select Drop Point</th>\n",
       "      <th>Select Building Ivory</th>\n",
       "      <th>Select Building Wellness Forever</th>\n",
       "      <th>Select Building NCP</th>\n",
       "      <th>Select Building Ajmera iLand</th>\n",
       "      <th>Select Building Sector 1/2</th>\n",
       "      <th>Select Building Cosmic</th>\n",
       "      <th>Select Wing</th>\n",
       "      <th>Flat No</th>\n",
       "      <th>Phone</th>\n",
       "      <th>Email</th>\n",
       "      <th>Select Delivery Date</th>\n",
       "      <th>Potatoes</th>\n",
       "      <th>Potatoes Price</th>\n",
       "      <th>Potatoes Cost Price</th>\n",
       "      <th>Select Quantity of Potatoes</th>\n",
       "      <th>Red Onions</th>\n",
       "      <th>Red Onions Price</th>\n",
       "      <th>Red Onions Cost Price</th>\n",
       "      <th>Select Quantity of Red Onions</th>\n",
       "      <th>Cauliflower</th>\n",
       "      <th>Cauliflower Price</th>\n",
       "      <th>Cauliflower Cost Price</th>\n",
       "      <th>Select Quantity of Cauliflower</th>\n",
       "      <th>Cabbage</th>\n",
       "      <th>Cabbage Price</th>\n",
       "      <th>Cabbage Cost Price</th>\n",
       "      <th>Select Quantity of Cabbage</th>\n",
       "      <th>Brinjal Bharta</th>\n",
       "      <th>Brinjal Bharta Price</th>\n",
       "      <th>Brinjal Bharta Cost Price</th>\n",
       "      <th>Select Quantity of Brinjal Bharta</th>\n",
       "      <th>Pumpkin</th>\n",
       "      <th>Pumpkin Price</th>\n",
       "      <th>Pumpkin Cost Price</th>\n",
       "      <th>Select Quantity of Pumpkin</th>\n",
       "      <th>Brinjal Kateri</th>\n",
       "      <th>Brinjal Kateri Price</th>\n",
       "      <th>Brinjal Kateri Cost Price</th>\n",
       "      <th>Select Quantity of Brinjal Kateri</th>\n",
       "      <th>Cucumber</th>\n",
       "      <th>Cucumber Price</th>\n",
       "      <th>Cucumber Cost Price</th>\n",
       "      <th>Select Quantity of Cucumber</th>\n",
       "      <th>Bhindi/Lady's Finger</th>\n",
       "      <th>Bhindi/Lady's Finger Price</th>\n",
       "      <th>Bhindi/Lady's Finger Cost Price</th>\n",
       "      <th>Select Quantity of Bhindi/Lady's Finger</th>\n",
       "      <th>Bitter Gourd</th>\n",
       "      <th>Bitter Gourd Price</th>\n",
       "      <th>Bitter Gourd Cost Price</th>\n",
       "      <th>Select Quantity of Bitter Gourd</th>\n",
       "      <th>Ridge Gourd</th>\n",
       "      <th>Ridge Gourd Price</th>\n",
       "      <th>Ridge Gourd Cost Price</th>\n",
       "      <th>Select Quantity of Ridge Gourd</th>\n",
       "      <th>Beetroot</th>\n",
       "      <th>Beetroot Price</th>\n",
       "      <th>Beetroot Cost Price</th>\n",
       "      <th>Select Quantity of Beetroot</th>\n",
       "      <th>Button Mushrooms</th>\n",
       "      <th>Button Mushroom Price</th>\n",
       "      <th>Button Mushroom Cost Price</th>\n",
       "      <th>Select Quantity of Button Mushroom</th>\n",
       "      <th>Bottle Gourd</th>\n",
       "      <th>Bottle Gourd Price</th>\n",
       "      <th>Bottle Gourd Cost Price</th>\n",
       "      <th>Select Quantity of Bottle Gourd</th>\n",
       "      <th>Drumsticks</th>\n",
       "      <th>Drumsticks Price</th>\n",
       "      <th>Drumsticks Cost Price</th>\n",
       "      <th>Select Quantity of Drumsticks</th>\n",
       "      <th>Capsicum</th>\n",
       "      <th>Capsicum Price</th>\n",
       "      <th>Capsicum Cost Price</th>\n",
       "      <th>Select Quantity of Capsicum</th>\n",
       "      <th>Gawar/Cluster Beans</th>\n",
       "      <th>Gawar/Cluster Beans Price</th>\n",
       "      <th>Gawar/Cluster Beans Cost Price</th>\n",
       "      <th>Select Quantity of Gawar/Cluster Beans</th>\n",
       "      <th>French Beans</th>\n",
       "      <th>French Beans Price</th>\n",
       "      <th>French Beans Cost Price</th>\n",
       "      <th>Select Quantity of French Beans</th>\n",
       "      <th>Tomato</th>\n",
       "      <th>Tomato Price</th>\n",
       "      <th>Tomato Cost Price</th>\n",
       "      <th>Select Quantity of Tomato</th>\n",
       "      <th>Sweet Corn</th>\n",
       "      <th>Sweet Corn Price</th>\n",
       "      <th>Sweet Corn Cost Price</th>\n",
       "      <th>Select Quantity of Sweet Corn</th>\n",
       "      <th>Broccoli</th>\n",
       "      <th>Broccoli Price</th>\n",
       "      <th>Broccoli Cost Price</th>\n",
       "      <th>Select Quantity of Broccoli</th>\n",
       "      <th>Lettuce</th>\n",
       "      <th>Lettuce Price</th>\n",
       "      <th>Lettuce Cost Price</th>\n",
       "      <th>Select Quantity of Lettuce</th>\n",
       "      <th>Kiwi Zespri Imported</th>\n",
       "      <th>Kiwi Zespri Imported Price</th>\n",
       "      <th>Kiwi Zespri Imported Cost Price</th>\n",
       "      <th>Select Quantity of Kiwi Zespri Imported</th>\n",
       "      <th>Banana Regular</th>\n",
       "      <th>Banana Price</th>\n",
       "      <th>Banana Cost Price</th>\n",
       "      <th>Select Quantity of Banana</th>\n",
       "      <th>Garlic</th>\n",
       "      <th>Garlic Price</th>\n",
       "      <th>Garlic Cost Price</th>\n",
       "      <th>Select Quantity of Garlic</th>\n",
       "      <th>Ginger</th>\n",
       "      <th>Ginger Price</th>\n",
       "      <th>Ginger Cost Price</th>\n",
       "      <th>Select Quantity of Ginger</th>\n",
       "      <th>Green Chilly</th>\n",
       "      <th>Green Chilly Price</th>\n",
       "      <th>Green Chilly Cost Price</th>\n",
       "      <th>Select Quantity of Green Chilly</th>\n",
       "      <th>Lemons</th>\n",
       "      <th>Lemons Price</th>\n",
       "      <th>Lemons Cost Price</th>\n",
       "      <th>Select Quantity of Lemons</th>\n",
       "      <th>Curry Leaves</th>\n",
       "      <th>Curry Leaves Price</th>\n",
       "      <th>Curry Leaves Cost Price</th>\n",
       "      <th>Select Quantity of Curry Leaves</th>\n",
       "      <th>Coriander Leaves</th>\n",
       "      <th>Coriander Leaves Price</th>\n",
       "      <th>Coriander Leaves Cost Price</th>\n",
       "      <th>Select Quantity of Coriander Leaves</th>\n",
       "      <th>Mint Leaves</th>\n",
       "      <th>Mint Leaves Price</th>\n",
       "      <th>Mint Leaves Cost Price</th>\n",
       "      <th>Select Quantity of Mint Leaves</th>\n",
       "      <th>Palak/Spinach</th>\n",
       "      <th>Palak/Spinach Price</th>\n",
       "      <th>Palak/Spinach Cost Price</th>\n",
       "      <th>Select Quantity of Palak/Spinach</th>\n",
       "      <th>Shepu/Dill Leaves</th>\n",
       "      <th>Shepu/Dill Leaves Price</th>\n",
       "      <th>Shepu/Dill Leaves Cost Price</th>\n",
       "      <th>Select Quantity of Shepu/Dill Leaves</th>\n",
       "      <th>Methi Leaves</th>\n",
       "      <th>Methi Leaves Price</th>\n",
       "      <th>Methi Leaves Cost Price</th>\n",
       "      <th>Select Quantity of Methi Leaves</th>\n",
       "      <th>Red/Yellow Bell Peppers</th>\n",
       "      <th>Red/Yellow Bell Peppers Price</th>\n",
       "      <th>Red/Yellow Bell Peppers Cost Price</th>\n",
       "      <th>Select Quantity of Red/Yellow Bell Peppers</th>\n",
       "      <th>Carrots</th>\n",
       "      <th>Carrots Price</th>\n",
       "      <th>Carrots Cost Price</th>\n",
       "      <th>Select Quantity of Carrots</th>\n",
       "      <th>Radish/Muli</th>\n",
       "      <th>Radish/Muli Price</th>\n",
       "      <th>Radish/Muli Cost Price</th>\n",
       "      <th>Select Quantity of Radish/Muli</th>\n",
       "      <th>Green Peas</th>\n",
       "      <th>Green Peas Price</th>\n",
       "      <th>Green Peas Cost Price</th>\n",
       "      <th>Select Quantity of Green Peas</th>\n",
       "      <th>Lal Math/Amaranthus Leaves</th>\n",
       "      <th>Lal Math/Amaranthus Price</th>\n",
       "      <th>Lal Math/Amaranthus Cost Price</th>\n",
       "      <th>Select Quantity of Lal Math/Amaranthus</th>\n",
       "      <th>Total Amount</th>\n",
       "      <th>Payment Amount</th>\n",
       "      <th>Payment Status</th>\n",
       "      <th>Payment Currency</th>\n",
       "      <th>Added Time</th>\n",
       "      <th>CRM Status</th>\n",
       "      <th>Referrer Name</th>\n",
       "      <th>Task Owner</th>\n",
       "    </tr>\n",
       "  </thead>\n",
       "  <tbody>\n",
       "    <tr>\n",
       "      <th>0</th>\n",
       "      <td>anjana; dubey</td>\n",
       "      <td>Lodha NCP</td>\n",
       "      <td>NaN</td>\n",
       "      <td>NaN</td>\n",
       "      <td>Tower 6</td>\n",
       "      <td>NaN</td>\n",
       "      <td>NaN</td>\n",
       "      <td>NaN</td>\n",
       "      <td>B Wing</td>\n",
       "      <td>3004</td>\n",
       "      <td>7739401733</td>\n",
       "      <td>dubey.anjana81@gmail.com</td>\n",
       "      <td>Thu Aug 27th</td>\n",
       "      <td>NaN</td>\n",
       "      <td>40</td>\n",
       "      <td>34</td>\n",
       "      <td>2.0</td>\n",
       "      <td>NaN</td>\n",
       "      <td>23</td>\n",
       "      <td>17</td>\n",
       "      <td>2.0</td>\n",
       "      <td>NaN</td>\n",
       "      <td>45</td>\n",
       "      <td>29</td>\n",
       "      <td>NaN</td>\n",
       "      <td>NaN</td>\n",
       "      <td>30</td>\n",
       "      <td>19</td>\n",
       "      <td>1.0</td>\n",
       "      <td>NaN</td>\n",
       "      <td>32</td>\n",
       "      <td>19</td>\n",
       "      <td>NaN</td>\n",
       "      <td>NaN</td>\n",
       "      <td>20</td>\n",
       "      <td>11</td>\n",
       "      <td>NaN</td>\n",
       "      <td>NaN</td>\n",
       "      <td>35</td>\n",
       "      <td>21</td>\n",
       "      <td>NaN</td>\n",
       "      <td>NaN</td>\n",
       "      <td>24</td>\n",
       "      <td>11</td>\n",
       "      <td>3.0</td>\n",
       "      <td>NaN</td>\n",
       "      <td>30</td>\n",
       "      <td>18</td>\n",
       "      <td>1.0</td>\n",
       "      <td>NaN</td>\n",
       "      <td>20</td>\n",
       "      <td>8</td>\n",
       "      <td>NaN</td>\n",
       "      <td>NaN</td>\n",
       "      <td>50</td>\n",
       "      <td>30</td>\n",
       "      <td>1.0</td>\n",
       "      <td>NaN</td>\n",
       "      <td>20</td>\n",
       "      <td>13</td>\n",
       "      <td>NaN</td>\n",
       "      <td>NaN</td>\n",
       "      <td>60</td>\n",
       "      <td>38</td>\n",
       "      <td>NaN</td>\n",
       "      <td>NaN</td>\n",
       "      <td>30</td>\n",
       "      <td>13</td>\n",
       "      <td>1.0</td>\n",
       "      <td>NaN</td>\n",
       "      <td>25</td>\n",
       "      <td>20</td>\n",
       "      <td>NaN</td>\n",
       "      <td>NaN</td>\n",
       "      <td>40</td>\n",
       "      <td>26</td>\n",
       "      <td>1.0</td>\n",
       "      <td>NaN</td>\n",
       "      <td>25</td>\n",
       "      <td>20</td>\n",
       "      <td>NaN</td>\n",
       "      <td>NaN</td>\n",
       "      <td>40</td>\n",
       "      <td>21</td>\n",
       "      <td>1.0</td>\n",
       "      <td>NaN</td>\n",
       "      <td>45</td>\n",
       "      <td>32</td>\n",
       "      <td>1.0</td>\n",
       "      <td>NaN</td>\n",
       "      <td>35</td>\n",
       "      <td>11</td>\n",
       "      <td>NaN</td>\n",
       "      <td>NaN</td>\n",
       "      <td>120</td>\n",
       "      <td>95</td>\n",
       "      <td>NaN</td>\n",
       "      <td>NaN</td>\n",
       "      <td>35</td>\n",
       "      <td>18</td>\n",
       "      <td>NaN</td>\n",
       "      <td>NaN</td>\n",
       "      <td>95</td>\n",
       "      <td>78</td>\n",
       "      <td>NaN</td>\n",
       "      <td>NaN</td>\n",
       "      <td>22</td>\n",
       "      <td>15</td>\n",
       "      <td>NaN</td>\n",
       "      <td>NaN</td>\n",
       "      <td>50</td>\n",
       "      <td>33</td>\n",
       "      <td>NaN</td>\n",
       "      <td>NaN</td>\n",
       "      <td>32</td>\n",
       "      <td>16</td>\n",
       "      <td>NaN</td>\n",
       "      <td>NaN</td>\n",
       "      <td>20</td>\n",
       "      <td>14</td>\n",
       "      <td>NaN</td>\n",
       "      <td>NaN</td>\n",
       "      <td>15</td>\n",
       "      <td>5</td>\n",
       "      <td>NaN</td>\n",
       "      <td>NaN</td>\n",
       "      <td>5</td>\n",
       "      <td>3</td>\n",
       "      <td>NaN</td>\n",
       "      <td>NaN</td>\n",
       "      <td>40</td>\n",
       "      <td>25</td>\n",
       "      <td>1.0</td>\n",
       "      <td>NaN</td>\n",
       "      <td>10</td>\n",
       "      <td>6</td>\n",
       "      <td>NaN</td>\n",
       "      <td>NaN</td>\n",
       "      <td>30</td>\n",
       "      <td>12</td>\n",
       "      <td>NaN</td>\n",
       "      <td>NaN</td>\n",
       "      <td>25</td>\n",
       "      <td>11</td>\n",
       "      <td>NaN</td>\n",
       "      <td>NaN</td>\n",
       "      <td>38</td>\n",
       "      <td>22</td>\n",
       "      <td>NaN</td>\n",
       "      <td>NaN</td>\n",
       "      <td>130</td>\n",
       "      <td>100</td>\n",
       "      <td>NaN</td>\n",
       "      <td>NaN</td>\n",
       "      <td>40</td>\n",
       "      <td>18</td>\n",
       "      <td>1.0</td>\n",
       "      <td>NaN</td>\n",
       "      <td>20</td>\n",
       "      <td>10</td>\n",
       "      <td>1.0</td>\n",
       "      <td>NaN</td>\n",
       "      <td>65</td>\n",
       "      <td>50</td>\n",
       "      <td>2.0</td>\n",
       "      <td>NaN</td>\n",
       "      <td>30</td>\n",
       "      <td>9</td>\n",
       "      <td>NaN</td>\n",
       "      <td>693</td>\n",
       "      <td>693.0</td>\n",
       "      <td>Completed</td>\n",
       "      <td>INR</td>\n",
       "      <td>2020-08-25 19:01:37</td>\n",
       "      <td>NaN</td>\n",
       "      <td>NaN</td>\n",
       "      <td>sudeep@systematiq.in</td>\n",
       "    </tr>\n",
       "    <tr>\n",
       "      <th>1</th>\n",
       "      <td>Ayush; Tibrewal</td>\n",
       "      <td>Lodha NCP</td>\n",
       "      <td>NaN</td>\n",
       "      <td>NaN</td>\n",
       "      <td>Tower 6</td>\n",
       "      <td>NaN</td>\n",
       "      <td>NaN</td>\n",
       "      <td>NaN</td>\n",
       "      <td>B Wing</td>\n",
       "      <td>1303</td>\n",
       "      <td>9820045047</td>\n",
       "      <td>tibrewal.ayush@gmail.com</td>\n",
       "      <td>Thu Aug 27th</td>\n",
       "      <td>NaN</td>\n",
       "      <td>40</td>\n",
       "      <td>34</td>\n",
       "      <td>2.0</td>\n",
       "      <td>NaN</td>\n",
       "      <td>23</td>\n",
       "      <td>17</td>\n",
       "      <td>NaN</td>\n",
       "      <td>NaN</td>\n",
       "      <td>45</td>\n",
       "      <td>29</td>\n",
       "      <td>1.0</td>\n",
       "      <td>NaN</td>\n",
       "      <td>30</td>\n",
       "      <td>19</td>\n",
       "      <td>NaN</td>\n",
       "      <td>NaN</td>\n",
       "      <td>32</td>\n",
       "      <td>19</td>\n",
       "      <td>NaN</td>\n",
       "      <td>NaN</td>\n",
       "      <td>20</td>\n",
       "      <td>11</td>\n",
       "      <td>1.0</td>\n",
       "      <td>NaN</td>\n",
       "      <td>35</td>\n",
       "      <td>21</td>\n",
       "      <td>NaN</td>\n",
       "      <td>NaN</td>\n",
       "      <td>24</td>\n",
       "      <td>11</td>\n",
       "      <td>NaN</td>\n",
       "      <td>NaN</td>\n",
       "      <td>30</td>\n",
       "      <td>18</td>\n",
       "      <td>1.0</td>\n",
       "      <td>NaN</td>\n",
       "      <td>20</td>\n",
       "      <td>8</td>\n",
       "      <td>1.0</td>\n",
       "      <td>NaN</td>\n",
       "      <td>50</td>\n",
       "      <td>30</td>\n",
       "      <td>1.0</td>\n",
       "      <td>NaN</td>\n",
       "      <td>20</td>\n",
       "      <td>13</td>\n",
       "      <td>NaN</td>\n",
       "      <td>NaN</td>\n",
       "      <td>60</td>\n",
       "      <td>38</td>\n",
       "      <td>1.0</td>\n",
       "      <td>NaN</td>\n",
       "      <td>30</td>\n",
       "      <td>13</td>\n",
       "      <td>NaN</td>\n",
       "      <td>NaN</td>\n",
       "      <td>25</td>\n",
       "      <td>20</td>\n",
       "      <td>NaN</td>\n",
       "      <td>NaN</td>\n",
       "      <td>40</td>\n",
       "      <td>26</td>\n",
       "      <td>NaN</td>\n",
       "      <td>NaN</td>\n",
       "      <td>25</td>\n",
       "      <td>20</td>\n",
       "      <td>NaN</td>\n",
       "      <td>NaN</td>\n",
       "      <td>40</td>\n",
       "      <td>21</td>\n",
       "      <td>1.0</td>\n",
       "      <td>NaN</td>\n",
       "      <td>45</td>\n",
       "      <td>32</td>\n",
       "      <td>1.0</td>\n",
       "      <td>NaN</td>\n",
       "      <td>35</td>\n",
       "      <td>11</td>\n",
       "      <td>NaN</td>\n",
       "      <td>NaN</td>\n",
       "      <td>120</td>\n",
       "      <td>95</td>\n",
       "      <td>1.0</td>\n",
       "      <td>NaN</td>\n",
       "      <td>35</td>\n",
       "      <td>18</td>\n",
       "      <td>NaN</td>\n",
       "      <td>NaN</td>\n",
       "      <td>95</td>\n",
       "      <td>78</td>\n",
       "      <td>NaN</td>\n",
       "      <td>NaN</td>\n",
       "      <td>22</td>\n",
       "      <td>15</td>\n",
       "      <td>1.0</td>\n",
       "      <td>NaN</td>\n",
       "      <td>50</td>\n",
       "      <td>33</td>\n",
       "      <td>1.0</td>\n",
       "      <td>NaN</td>\n",
       "      <td>32</td>\n",
       "      <td>16</td>\n",
       "      <td>NaN</td>\n",
       "      <td>NaN</td>\n",
       "      <td>20</td>\n",
       "      <td>14</td>\n",
       "      <td>NaN</td>\n",
       "      <td>NaN</td>\n",
       "      <td>15</td>\n",
       "      <td>5</td>\n",
       "      <td>NaN</td>\n",
       "      <td>NaN</td>\n",
       "      <td>5</td>\n",
       "      <td>3</td>\n",
       "      <td>NaN</td>\n",
       "      <td>NaN</td>\n",
       "      <td>40</td>\n",
       "      <td>25</td>\n",
       "      <td>1.0</td>\n",
       "      <td>NaN</td>\n",
       "      <td>10</td>\n",
       "      <td>6</td>\n",
       "      <td>NaN</td>\n",
       "      <td>NaN</td>\n",
       "      <td>30</td>\n",
       "      <td>12</td>\n",
       "      <td>1.0</td>\n",
       "      <td>NaN</td>\n",
       "      <td>25</td>\n",
       "      <td>11</td>\n",
       "      <td>NaN</td>\n",
       "      <td>NaN</td>\n",
       "      <td>38</td>\n",
       "      <td>22</td>\n",
       "      <td>NaN</td>\n",
       "      <td>NaN</td>\n",
       "      <td>130</td>\n",
       "      <td>100</td>\n",
       "      <td>NaN</td>\n",
       "      <td>NaN</td>\n",
       "      <td>40</td>\n",
       "      <td>18</td>\n",
       "      <td>NaN</td>\n",
       "      <td>NaN</td>\n",
       "      <td>20</td>\n",
       "      <td>10</td>\n",
       "      <td>1.0</td>\n",
       "      <td>NaN</td>\n",
       "      <td>65</td>\n",
       "      <td>50</td>\n",
       "      <td>1.0</td>\n",
       "      <td>NaN</td>\n",
       "      <td>30</td>\n",
       "      <td>9</td>\n",
       "      <td>NaN</td>\n",
       "      <td>737</td>\n",
       "      <td>737.0</td>\n",
       "      <td>Completed</td>\n",
       "      <td>INR</td>\n",
       "      <td>2020-08-25 18:41:14</td>\n",
       "      <td>New Record  -  Record added</td>\n",
       "      <td>NaN</td>\n",
       "      <td>sudeep@systematiq.in</td>\n",
       "    </tr>\n",
       "    <tr>\n",
       "      <th>2</th>\n",
       "      <td>Vijay; Verma</td>\n",
       "      <td>Lodha NCP</td>\n",
       "      <td>NaN</td>\n",
       "      <td>NaN</td>\n",
       "      <td>Tower 5</td>\n",
       "      <td>NaN</td>\n",
       "      <td>NaN</td>\n",
       "      <td>NaN</td>\n",
       "      <td>A Wing</td>\n",
       "      <td>1601</td>\n",
       "      <td>9892487318</td>\n",
       "      <td>Vijayverma.ca@gmail.com</td>\n",
       "      <td>Thu Aug 27th</td>\n",
       "      <td>NaN</td>\n",
       "      <td>40</td>\n",
       "      <td>34</td>\n",
       "      <td>1.0</td>\n",
       "      <td>NaN</td>\n",
       "      <td>23</td>\n",
       "      <td>17</td>\n",
       "      <td>1.0</td>\n",
       "      <td>NaN</td>\n",
       "      <td>45</td>\n",
       "      <td>29</td>\n",
       "      <td>NaN</td>\n",
       "      <td>NaN</td>\n",
       "      <td>30</td>\n",
       "      <td>19</td>\n",
       "      <td>NaN</td>\n",
       "      <td>NaN</td>\n",
       "      <td>32</td>\n",
       "      <td>19</td>\n",
       "      <td>NaN</td>\n",
       "      <td>NaN</td>\n",
       "      <td>20</td>\n",
       "      <td>11</td>\n",
       "      <td>NaN</td>\n",
       "      <td>NaN</td>\n",
       "      <td>35</td>\n",
       "      <td>21</td>\n",
       "      <td>NaN</td>\n",
       "      <td>NaN</td>\n",
       "      <td>24</td>\n",
       "      <td>11</td>\n",
       "      <td>NaN</td>\n",
       "      <td>NaN</td>\n",
       "      <td>30</td>\n",
       "      <td>18</td>\n",
       "      <td>NaN</td>\n",
       "      <td>NaN</td>\n",
       "      <td>20</td>\n",
       "      <td>8</td>\n",
       "      <td>NaN</td>\n",
       "      <td>NaN</td>\n",
       "      <td>50</td>\n",
       "      <td>30</td>\n",
       "      <td>NaN</td>\n",
       "      <td>NaN</td>\n",
       "      <td>20</td>\n",
       "      <td>13</td>\n",
       "      <td>NaN</td>\n",
       "      <td>NaN</td>\n",
       "      <td>60</td>\n",
       "      <td>38</td>\n",
       "      <td>NaN</td>\n",
       "      <td>NaN</td>\n",
       "      <td>30</td>\n",
       "      <td>13</td>\n",
       "      <td>2.0</td>\n",
       "      <td>NaN</td>\n",
       "      <td>25</td>\n",
       "      <td>20</td>\n",
       "      <td>NaN</td>\n",
       "      <td>NaN</td>\n",
       "      <td>40</td>\n",
       "      <td>26</td>\n",
       "      <td>NaN</td>\n",
       "      <td>NaN</td>\n",
       "      <td>25</td>\n",
       "      <td>20</td>\n",
       "      <td>NaN</td>\n",
       "      <td>NaN</td>\n",
       "      <td>40</td>\n",
       "      <td>21</td>\n",
       "      <td>NaN</td>\n",
       "      <td>NaN</td>\n",
       "      <td>45</td>\n",
       "      <td>32</td>\n",
       "      <td>2.0</td>\n",
       "      <td>NaN</td>\n",
       "      <td>35</td>\n",
       "      <td>11</td>\n",
       "      <td>NaN</td>\n",
       "      <td>NaN</td>\n",
       "      <td>120</td>\n",
       "      <td>95</td>\n",
       "      <td>NaN</td>\n",
       "      <td>NaN</td>\n",
       "      <td>35</td>\n",
       "      <td>18</td>\n",
       "      <td>NaN</td>\n",
       "      <td>NaN</td>\n",
       "      <td>95</td>\n",
       "      <td>78</td>\n",
       "      <td>NaN</td>\n",
       "      <td>NaN</td>\n",
       "      <td>22</td>\n",
       "      <td>15</td>\n",
       "      <td>2.0</td>\n",
       "      <td>NaN</td>\n",
       "      <td>50</td>\n",
       "      <td>33</td>\n",
       "      <td>NaN</td>\n",
       "      <td>NaN</td>\n",
       "      <td>32</td>\n",
       "      <td>16</td>\n",
       "      <td>NaN</td>\n",
       "      <td>NaN</td>\n",
       "      <td>20</td>\n",
       "      <td>14</td>\n",
       "      <td>NaN</td>\n",
       "      <td>NaN</td>\n",
       "      <td>15</td>\n",
       "      <td>5</td>\n",
       "      <td>NaN</td>\n",
       "      <td>NaN</td>\n",
       "      <td>5</td>\n",
       "      <td>3</td>\n",
       "      <td>NaN</td>\n",
       "      <td>NaN</td>\n",
       "      <td>40</td>\n",
       "      <td>25</td>\n",
       "      <td>NaN</td>\n",
       "      <td>NaN</td>\n",
       "      <td>10</td>\n",
       "      <td>6</td>\n",
       "      <td>NaN</td>\n",
       "      <td>NaN</td>\n",
       "      <td>30</td>\n",
       "      <td>12</td>\n",
       "      <td>NaN</td>\n",
       "      <td>NaN</td>\n",
       "      <td>25</td>\n",
       "      <td>11</td>\n",
       "      <td>NaN</td>\n",
       "      <td>NaN</td>\n",
       "      <td>38</td>\n",
       "      <td>22</td>\n",
       "      <td>NaN</td>\n",
       "      <td>NaN</td>\n",
       "      <td>130</td>\n",
       "      <td>100</td>\n",
       "      <td>NaN</td>\n",
       "      <td>NaN</td>\n",
       "      <td>40</td>\n",
       "      <td>18</td>\n",
       "      <td>NaN</td>\n",
       "      <td>NaN</td>\n",
       "      <td>20</td>\n",
       "      <td>10</td>\n",
       "      <td>NaN</td>\n",
       "      <td>NaN</td>\n",
       "      <td>65</td>\n",
       "      <td>50</td>\n",
       "      <td>NaN</td>\n",
       "      <td>NaN</td>\n",
       "      <td>30</td>\n",
       "      <td>9</td>\n",
       "      <td>NaN</td>\n",
       "      <td>257</td>\n",
       "      <td>257.0</td>\n",
       "      <td>Completed</td>\n",
       "      <td>INR</td>\n",
       "      <td>2020-08-25 18:36:12</td>\n",
       "      <td>New Record  -  Record added</td>\n",
       "      <td>NaN</td>\n",
       "      <td>sudeep@systematiq.in</td>\n",
       "    </tr>\n",
       "  </tbody>\n",
       "</table>\n",
       "</div>"
      ],
      "text/plain": [
       "              Name Select Drop Point Select Building Ivory  \\\n",
       "0    anjana; dubey         Lodha NCP                   NaN   \n",
       "1  Ayush; Tibrewal         Lodha NCP                   NaN   \n",
       "2     Vijay; Verma         Lodha NCP                   NaN   \n",
       "\n",
       "   Select Building Wellness Forever Select Building NCP  \\\n",
       "0                               NaN             Tower 6   \n",
       "1                               NaN             Tower 6   \n",
       "2                               NaN             Tower 5   \n",
       "\n",
       "  Select Building Ajmera iLand Select Building Sector 1/2  \\\n",
       "0                          NaN                        NaN   \n",
       "1                          NaN                        NaN   \n",
       "2                          NaN                        NaN   \n",
       "\n",
       "  Select Building Cosmic Select Wing Flat No       Phone  \\\n",
       "0                    NaN      B Wing    3004  7739401733   \n",
       "1                    NaN      B Wing    1303  9820045047   \n",
       "2                    NaN      A Wing    1601  9892487318   \n",
       "\n",
       "                      Email Select Delivery Date  Potatoes  Potatoes Price  \\\n",
       "0  dubey.anjana81@gmail.com         Thu Aug 27th       NaN              40   \n",
       "1  tibrewal.ayush@gmail.com         Thu Aug 27th       NaN              40   \n",
       "2   Vijayverma.ca@gmail.com         Thu Aug 27th       NaN              40   \n",
       "\n",
       "   Potatoes Cost Price  Select Quantity of Potatoes  Red Onions  \\\n",
       "0                   34                          2.0         NaN   \n",
       "1                   34                          2.0         NaN   \n",
       "2                   34                          1.0         NaN   \n",
       "\n",
       "   Red Onions Price  Red Onions Cost Price  Select Quantity of Red Onions  \\\n",
       "0                23                     17                            2.0   \n",
       "1                23                     17                            NaN   \n",
       "2                23                     17                            1.0   \n",
       "\n",
       "   Cauliflower  Cauliflower Price  Cauliflower Cost Price  \\\n",
       "0          NaN                 45                      29   \n",
       "1          NaN                 45                      29   \n",
       "2          NaN                 45                      29   \n",
       "\n",
       "   Select Quantity of Cauliflower  Cabbage  Cabbage Price  Cabbage Cost Price  \\\n",
       "0                             NaN      NaN             30                  19   \n",
       "1                             1.0      NaN             30                  19   \n",
       "2                             NaN      NaN             30                  19   \n",
       "\n",
       "   Select Quantity of Cabbage  Brinjal Bharta  Brinjal Bharta Price  \\\n",
       "0                         1.0             NaN                    32   \n",
       "1                         NaN             NaN                    32   \n",
       "2                         NaN             NaN                    32   \n",
       "\n",
       "   Brinjal Bharta Cost Price  Select Quantity of Brinjal Bharta  Pumpkin  \\\n",
       "0                         19                                NaN      NaN   \n",
       "1                         19                                NaN      NaN   \n",
       "2                         19                                NaN      NaN   \n",
       "\n",
       "   Pumpkin Price  Pumpkin Cost Price  Select Quantity of Pumpkin  \\\n",
       "0             20                  11                         NaN   \n",
       "1             20                  11                         1.0   \n",
       "2             20                  11                         NaN   \n",
       "\n",
       "   Brinjal Kateri  Brinjal Kateri Price  Brinjal Kateri Cost Price  \\\n",
       "0             NaN                    35                         21   \n",
       "1             NaN                    35                         21   \n",
       "2             NaN                    35                         21   \n",
       "\n",
       "   Select Quantity of Brinjal Kateri  Cucumber  Cucumber Price  \\\n",
       "0                                NaN       NaN              24   \n",
       "1                                NaN       NaN              24   \n",
       "2                                NaN       NaN              24   \n",
       "\n",
       "   Cucumber Cost Price  Select Quantity of Cucumber  Bhindi/Lady's Finger  \\\n",
       "0                   11                          3.0                   NaN   \n",
       "1                   11                          NaN                   NaN   \n",
       "2                   11                          NaN                   NaN   \n",
       "\n",
       "   Bhindi/Lady's Finger Price  Bhindi/Lady's Finger Cost Price  \\\n",
       "0                          30                               18   \n",
       "1                          30                               18   \n",
       "2                          30                               18   \n",
       "\n",
       "   Select Quantity of Bhindi/Lady's Finger  Bitter Gourd  Bitter Gourd Price  \\\n",
       "0                                      1.0           NaN                  20   \n",
       "1                                      1.0           NaN                  20   \n",
       "2                                      NaN           NaN                  20   \n",
       "\n",
       "   Bitter Gourd Cost Price  Select Quantity of Bitter Gourd  Ridge Gourd  \\\n",
       "0                        8                              NaN          NaN   \n",
       "1                        8                              1.0          NaN   \n",
       "2                        8                              NaN          NaN   \n",
       "\n",
       "   Ridge Gourd Price  Ridge Gourd Cost Price  Select Quantity of Ridge Gourd  \\\n",
       "0                 50                      30                             1.0   \n",
       "1                 50                      30                             1.0   \n",
       "2                 50                      30                             NaN   \n",
       "\n",
       "   Beetroot  Beetroot Price  Beetroot Cost Price  Select Quantity of Beetroot  \\\n",
       "0       NaN              20                   13                          NaN   \n",
       "1       NaN              20                   13                          NaN   \n",
       "2       NaN              20                   13                          NaN   \n",
       "\n",
       "   Button Mushrooms  Button Mushroom Price  Button Mushroom Cost Price  \\\n",
       "0               NaN                     60                          38   \n",
       "1               NaN                     60                          38   \n",
       "2               NaN                     60                          38   \n",
       "\n",
       "   Select Quantity of Button Mushroom  Bottle Gourd  Bottle Gourd Price  \\\n",
       "0                                 NaN           NaN                  30   \n",
       "1                                 1.0           NaN                  30   \n",
       "2                                 NaN           NaN                  30   \n",
       "\n",
       "   Bottle Gourd Cost Price  Select Quantity of Bottle Gourd  Drumsticks  \\\n",
       "0                       13                              1.0         NaN   \n",
       "1                       13                              NaN         NaN   \n",
       "2                       13                              2.0         NaN   \n",
       "\n",
       "   Drumsticks Price  Drumsticks Cost Price  Select Quantity of Drumsticks  \\\n",
       "0                25                     20                            NaN   \n",
       "1                25                     20                            NaN   \n",
       "2                25                     20                            NaN   \n",
       "\n",
       "   Capsicum  Capsicum Price  Capsicum Cost Price  Select Quantity of Capsicum  \\\n",
       "0       NaN              40                   26                          1.0   \n",
       "1       NaN              40                   26                          NaN   \n",
       "2       NaN              40                   26                          NaN   \n",
       "\n",
       "   Gawar/Cluster Beans  Gawar/Cluster Beans Price  \\\n",
       "0                  NaN                         25   \n",
       "1                  NaN                         25   \n",
       "2                  NaN                         25   \n",
       "\n",
       "   Gawar/Cluster Beans Cost Price  Select Quantity of Gawar/Cluster Beans  \\\n",
       "0                              20                                     NaN   \n",
       "1                              20                                     NaN   \n",
       "2                              20                                     NaN   \n",
       "\n",
       "   French Beans  French Beans Price  French Beans Cost Price  \\\n",
       "0           NaN                  40                       21   \n",
       "1           NaN                  40                       21   \n",
       "2           NaN                  40                       21   \n",
       "\n",
       "   Select Quantity of French Beans  Tomato  Tomato Price  Tomato Cost Price  \\\n",
       "0                              1.0     NaN            45                 32   \n",
       "1                              1.0     NaN            45                 32   \n",
       "2                              NaN     NaN            45                 32   \n",
       "\n",
       "   Select Quantity of Tomato  Sweet Corn  Sweet Corn Price  \\\n",
       "0                        1.0         NaN                35   \n",
       "1                        1.0         NaN                35   \n",
       "2                        2.0         NaN                35   \n",
       "\n",
       "   Sweet Corn Cost Price  Select Quantity of Sweet Corn  Broccoli  \\\n",
       "0                     11                            NaN       NaN   \n",
       "1                     11                            NaN       NaN   \n",
       "2                     11                            NaN       NaN   \n",
       "\n",
       "   Broccoli Price  Broccoli Cost Price  Select Quantity of Broccoli  Lettuce  \\\n",
       "0             120                   95                          NaN      NaN   \n",
       "1             120                   95                          1.0      NaN   \n",
       "2             120                   95                          NaN      NaN   \n",
       "\n",
       "   Lettuce Price  Lettuce Cost Price  Select Quantity of Lettuce  \\\n",
       "0             35                  18                         NaN   \n",
       "1             35                  18                         NaN   \n",
       "2             35                  18                         NaN   \n",
       "\n",
       "   Kiwi Zespri Imported  Kiwi Zespri Imported Price  \\\n",
       "0                   NaN                          95   \n",
       "1                   NaN                          95   \n",
       "2                   NaN                          95   \n",
       "\n",
       "   Kiwi Zespri Imported Cost Price  Select Quantity of Kiwi Zespri Imported  \\\n",
       "0                               78                                      NaN   \n",
       "1                               78                                      NaN   \n",
       "2                               78                                      NaN   \n",
       "\n",
       "   Banana Regular  Banana Price  Banana Cost Price  Select Quantity of Banana  \\\n",
       "0             NaN            22                 15                        NaN   \n",
       "1             NaN            22                 15                        1.0   \n",
       "2             NaN            22                 15                        2.0   \n",
       "\n",
       "   Garlic  Garlic Price  Garlic Cost Price  Select Quantity of Garlic  Ginger  \\\n",
       "0     NaN            50                 33                        NaN     NaN   \n",
       "1     NaN            50                 33                        1.0     NaN   \n",
       "2     NaN            50                 33                        NaN     NaN   \n",
       "\n",
       "   Ginger Price  Ginger Cost Price  Select Quantity of Ginger  Green Chilly  \\\n",
       "0            32                 16                        NaN           NaN   \n",
       "1            32                 16                        NaN           NaN   \n",
       "2            32                 16                        NaN           NaN   \n",
       "\n",
       "   Green Chilly Price  Green Chilly Cost Price  \\\n",
       "0                  20                       14   \n",
       "1                  20                       14   \n",
       "2                  20                       14   \n",
       "\n",
       "   Select Quantity of Green Chilly  Lemons  Lemons Price  Lemons Cost Price  \\\n",
       "0                              NaN     NaN            15                  5   \n",
       "1                              NaN     NaN            15                  5   \n",
       "2                              NaN     NaN            15                  5   \n",
       "\n",
       "   Select Quantity of Lemons  Curry Leaves  Curry Leaves Price  \\\n",
       "0                        NaN           NaN                   5   \n",
       "1                        NaN           NaN                   5   \n",
       "2                        NaN           NaN                   5   \n",
       "\n",
       "   Curry Leaves Cost Price  Select Quantity of Curry Leaves  Coriander Leaves  \\\n",
       "0                        3                              NaN               NaN   \n",
       "1                        3                              NaN               NaN   \n",
       "2                        3                              NaN               NaN   \n",
       "\n",
       "   Coriander Leaves Price  Coriander Leaves Cost Price  \\\n",
       "0                      40                           25   \n",
       "1                      40                           25   \n",
       "2                      40                           25   \n",
       "\n",
       "   Select Quantity of Coriander Leaves  Mint Leaves  Mint Leaves Price  \\\n",
       "0                                  1.0          NaN                 10   \n",
       "1                                  1.0          NaN                 10   \n",
       "2                                  NaN          NaN                 10   \n",
       "\n",
       "   Mint Leaves Cost Price  Select Quantity of Mint Leaves  Palak/Spinach  \\\n",
       "0                       6                             NaN            NaN   \n",
       "1                       6                             NaN            NaN   \n",
       "2                       6                             NaN            NaN   \n",
       "\n",
       "   Palak/Spinach Price  Palak/Spinach Cost Price  \\\n",
       "0                   30                        12   \n",
       "1                   30                        12   \n",
       "2                   30                        12   \n",
       "\n",
       "   Select Quantity of Palak/Spinach  Shepu/Dill Leaves  \\\n",
       "0                               NaN                NaN   \n",
       "1                               1.0                NaN   \n",
       "2                               NaN                NaN   \n",
       "\n",
       "   Shepu/Dill Leaves Price  Shepu/Dill Leaves Cost Price  \\\n",
       "0                       25                            11   \n",
       "1                       25                            11   \n",
       "2                       25                            11   \n",
       "\n",
       "   Select Quantity of Shepu/Dill Leaves  Methi Leaves  Methi Leaves Price  \\\n",
       "0                                   NaN           NaN                  38   \n",
       "1                                   NaN           NaN                  38   \n",
       "2                                   NaN           NaN                  38   \n",
       "\n",
       "   Methi Leaves Cost Price  Select Quantity of Methi Leaves  \\\n",
       "0                       22                              NaN   \n",
       "1                       22                              NaN   \n",
       "2                       22                              NaN   \n",
       "\n",
       "   Red/Yellow Bell Peppers  Red/Yellow Bell Peppers Price  \\\n",
       "0                      NaN                            130   \n",
       "1                      NaN                            130   \n",
       "2                      NaN                            130   \n",
       "\n",
       "   Red/Yellow Bell Peppers Cost Price  \\\n",
       "0                                 100   \n",
       "1                                 100   \n",
       "2                                 100   \n",
       "\n",
       "   Select Quantity of Red/Yellow Bell Peppers  Carrots  Carrots Price  \\\n",
       "0                                         NaN      NaN             40   \n",
       "1                                         NaN      NaN             40   \n",
       "2                                         NaN      NaN             40   \n",
       "\n",
       "   Carrots Cost Price  Select Quantity of Carrots  Radish/Muli  \\\n",
       "0                  18                         1.0          NaN   \n",
       "1                  18                         NaN          NaN   \n",
       "2                  18                         NaN          NaN   \n",
       "\n",
       "   Radish/Muli Price  Radish/Muli Cost Price  Select Quantity of Radish/Muli  \\\n",
       "0                 20                      10                             1.0   \n",
       "1                 20                      10                             1.0   \n",
       "2                 20                      10                             NaN   \n",
       "\n",
       "   Green Peas  Green Peas Price  Green Peas Cost Price  \\\n",
       "0         NaN                65                     50   \n",
       "1         NaN                65                     50   \n",
       "2         NaN                65                     50   \n",
       "\n",
       "   Select Quantity of Green Peas  Lal Math/Amaranthus Leaves  \\\n",
       "0                            2.0                         NaN   \n",
       "1                            1.0                         NaN   \n",
       "2                            NaN                         NaN   \n",
       "\n",
       "   Lal Math/Amaranthus Price  Lal Math/Amaranthus Cost Price  \\\n",
       "0                         30                               9   \n",
       "1                         30                               9   \n",
       "2                         30                               9   \n",
       "\n",
       "   Select Quantity of Lal Math/Amaranthus  Total Amount  Payment Amount  \\\n",
       "0                                     NaN           693           693.0   \n",
       "1                                     NaN           737           737.0   \n",
       "2                                     NaN           257           257.0   \n",
       "\n",
       "  Payment Status Payment Currency          Added Time  \\\n",
       "0      Completed              INR 2020-08-25 19:01:37   \n",
       "1      Completed              INR 2020-08-25 18:41:14   \n",
       "2      Completed              INR 2020-08-25 18:36:12   \n",
       "\n",
       "                    CRM Status  Referrer Name            Task Owner  \n",
       "0                          NaN            NaN  sudeep@systematiq.in  \n",
       "1  New Record  -  Record added            NaN  sudeep@systematiq.in  \n",
       "2  New Record  -  Record added            NaN  sudeep@systematiq.in  "
      ]
     },
     "execution_count": 7,
     "metadata": {},
     "output_type": "execute_result"
    }
   ],
   "source": [
    "df.head(3)"
   ]
  },
  {
   "cell_type": "markdown",
   "metadata": {},
   "source": [
    "## Add indexing key"
   ]
  },
  {
   "cell_type": "code",
   "execution_count": 8,
   "metadata": {
    "ExecuteTime": {
     "end_time": "2020-08-25T19:40:25.193666Z",
     "start_time": "2020-08-25T19:40:25.171724Z"
    }
   },
   "outputs": [],
   "source": [
    "df['key'] = df['Name'] + ' ' + df['Added Time'].astype(str)"
   ]
  },
  {
   "cell_type": "markdown",
   "metadata": {},
   "source": [
    "## Pull out the Select Building columns"
   ]
  },
  {
   "cell_type": "code",
   "execution_count": 9,
   "metadata": {
    "ExecuteTime": {
     "end_time": "2020-08-25T19:40:25.410339Z",
     "start_time": "2020-08-25T19:40:25.399493Z"
    }
   },
   "outputs": [],
   "source": [
    "bldg_cols = []\n",
    "\n",
    "for col in df.columns:\n",
    "    if 'select building' in col.lower():\n",
    "        bldg_cols.append(col)\n",
    "\n",
    "df['building'] = df[bldg_cols].fillna('').sum(axis=1)"
   ]
  },
  {
   "cell_type": "markdown",
   "metadata": {},
   "source": [
    "## Subset only successfully paid orders"
   ]
  },
  {
   "cell_type": "code",
   "execution_count": 10,
   "metadata": {
    "ExecuteTime": {
     "end_time": "2020-08-25T19:40:26.083432Z",
     "start_time": "2020-08-25T19:40:26.076460Z"
    }
   },
   "outputs": [
    {
     "data": {
      "text/plain": [
       "array(['Completed', 'Network Error'], dtype=object)"
      ]
     },
     "execution_count": 10,
     "metadata": {},
     "output_type": "execute_result"
    }
   ],
   "source": [
    "df['Payment Status'].unique()"
   ]
  },
  {
   "cell_type": "code",
   "execution_count": 11,
   "metadata": {
    "ExecuteTime": {
     "end_time": "2020-08-25T19:40:26.233979Z",
     "start_time": "2020-08-25T19:40:26.227960Z"
    }
   },
   "outputs": [],
   "source": [
    "df = df[df['Payment Status'].isin(STATUSES2PROCESS)]"
   ]
  },
  {
   "cell_type": "code",
   "execution_count": 12,
   "metadata": {
    "ExecuteTime": {
     "end_time": "2020-08-25T19:40:26.361078Z",
     "start_time": "2020-08-25T19:40:26.354121Z"
    }
   },
   "outputs": [
    {
     "data": {
      "text/plain": [
       "array(['Completed', 'Network Error'], dtype=object)"
      ]
     },
     "execution_count": 12,
     "metadata": {},
     "output_type": "execute_result"
    }
   ],
   "source": [
    "# verification\n",
    "df['Payment Status'].unique()"
   ]
  },
  {
   "cell_type": "markdown",
   "metadata": {},
   "source": [
    "## Generating Tokens"
   ]
  },
  {
   "cell_type": "markdown",
   "metadata": {},
   "source": [
    "Sort by Drop Point, Building, Wing and then generate Token Values."
   ]
  },
  {
   "cell_type": "code",
   "execution_count": 13,
   "metadata": {
    "ExecuteTime": {
     "end_time": "2020-08-25T19:40:26.770334Z",
     "start_time": "2020-08-25T19:40:26.761364Z"
    }
   },
   "outputs": [],
   "source": [
    "df = df.sort_values(['Select Drop Point', 'building', 'Select Wing'])\n",
    "df['Token No'] = range(1, len(df)+1)"
   ]
  },
  {
   "cell_type": "markdown",
   "metadata": {},
   "source": [
    "## Check for duplicate entries"
   ]
  },
  {
   "cell_type": "code",
   "execution_count": 14,
   "metadata": {
    "ExecuteTime": {
     "end_time": "2020-08-25T19:40:27.048681Z",
     "start_time": "2020-08-25T19:40:27.043690Z"
    }
   },
   "outputs": [],
   "source": [
    "assert len(df) == len(df['key'].unique())"
   ]
  },
  {
   "cell_type": "markdown",
   "metadata": {
    "ExecuteTime": {
     "end_time": "2020-08-17T19:31:54.383744Z",
     "start_time": "2020-08-17T19:31:54.379755Z"
    }
   },
   "source": [
    "## Build Items Dictionary"
   ]
  },
  {
   "cell_type": "markdown",
   "metadata": {},
   "source": [
    "    orders dictionary, one record looks like:\n",
    "\n",
    "    {\n",
    "        key:\n",
    "        {\n",
    "            name : str,\n",
    "            drop_point : str,\n",
    "            building : str,\n",
    "            wing : str,\n",
    "            flat : str,\n",
    "            phone : numeric,\n",
    "            email : str,\n",
    "            delivery_date : datetime,\n",
    "            order : dict,\n",
    "            total_amount : float,\n",
    "            payment_status : str\n",
    "        }\n",
    "    }\n",
    "\n",
    "\n",
    "    items_dict:\n",
    "\n",
    "    {\n",
    "        item_name : \n",
    "        {\n",
    "            sell_price : float,\n",
    "            cost_price : float,\n",
    "            packing_size : // to be read from another excel\n",
    "        }\n",
    "    }"
   ]
  },
  {
   "cell_type": "markdown",
   "metadata": {},
   "source": [
    "If 'quantity of' occurs in column header, leave the first three words and extract the rest as your item key."
   ]
  },
  {
   "cell_type": "code",
   "execution_count": 15,
   "metadata": {
    "ExecuteTime": {
     "end_time": "2020-08-25T19:40:27.997005Z",
     "start_time": "2020-08-25T19:40:27.991046Z"
    }
   },
   "outputs": [],
   "source": [
    "# extremely naive, needs a fix\n",
    "all_items = [\" \".join(i.split()[3:]) for i in df.columns if 'quantity of' in i.lower()]"
   ]
  },
  {
   "cell_type": "code",
   "execution_count": 16,
   "metadata": {
    "ExecuteTime": {
     "end_time": "2020-08-25T19:40:28.215812Z",
     "start_time": "2020-08-25T19:40:28.211823Z"
    }
   },
   "outputs": [],
   "source": [
    "items_dict = {}"
   ]
  },
  {
   "cell_type": "code",
   "execution_count": 17,
   "metadata": {
    "ExecuteTime": {
     "end_time": "2020-08-25T19:40:28.443215Z",
     "start_time": "2020-08-25T19:40:28.438229Z"
    }
   },
   "outputs": [],
   "source": [
    "def get_sell_price(item):\n",
    "    val = df[item + ' ' + 'Price'].values[0]\n",
    "    return val\n",
    "\n",
    "def get_cost_price(item):\n",
    "    val = df[item + ' ' + 'Cost Price'].values[0]\n",
    "    return val"
   ]
  },
  {
   "cell_type": "code",
   "execution_count": 18,
   "metadata": {
    "ExecuteTime": {
     "end_time": "2020-08-25T19:40:28.955455Z",
     "start_time": "2020-08-25T19:40:28.943471Z"
    }
   },
   "outputs": [],
   "source": [
    "df_psize = pd.read_csv(\"C:/Playground/bhaiya-orders/zoho-bhor-farms/database/Packing Size.csv\")\n",
    "psize_dict = df_psize.set_index('Item').to_dict(orient='index')"
   ]
  },
  {
   "cell_type": "code",
   "execution_count": 19,
   "metadata": {
    "ExecuteTime": {
     "end_time": "2020-08-25T19:40:29.194355Z",
     "start_time": "2020-08-25T19:40:29.189369Z"
    }
   },
   "outputs": [],
   "source": [
    "def get_packing_size(item):\n",
    "#     if item in psize_dict.keys():\n",
    "    return psize_dict[item]['Size']\n",
    "#     return 1\n",
    "\n",
    "def get_unit(item):\n",
    "#     if item in psize_dict.keys():\n",
    "    return psize_dict[item]['Unit']\n",
    "#     return 1"
   ]
  },
  {
   "cell_type": "code",
   "execution_count": 20,
   "metadata": {
    "ExecuteTime": {
     "end_time": "2020-08-25T19:40:29.433769Z",
     "start_time": "2020-08-25T19:40:29.426761Z"
    }
   },
   "outputs": [],
   "source": [
    "for item in all_items:\n",
    "    dct = {}\n",
    "    dct['packing_size'] = get_packing_size(item)\n",
    "    dct['unit'] = get_unit(item)\n",
    "#     if item == 'Cherry Tomatoes': item = 'Cherry Tomato'\n",
    "#     if item == 'Potatoes': item = 'Potato'\n",
    "    \n",
    "    dct['sell_price'] = get_sell_price(item)\n",
    "    dct['cost_price'] = get_cost_price(item)\n",
    "    items_dict[item] = dct"
   ]
  },
  {
   "cell_type": "markdown",
   "metadata": {},
   "source": [
    "## Build Master Dictionary"
   ]
  },
  {
   "cell_type": "code",
   "execution_count": 21,
   "metadata": {
    "ExecuteTime": {
     "end_time": "2020-08-25T19:40:29.924148Z",
     "start_time": "2020-08-25T19:40:29.921131Z"
    }
   },
   "outputs": [],
   "source": [
    "# # because few flats were not captured\n",
    "df['Flat No'] = df['Flat No'].fillna('NOT CAPTURED')"
   ]
  },
  {
   "cell_type": "code",
   "execution_count": 22,
   "metadata": {
    "ExecuteTime": {
     "end_time": "2020-08-25T19:40:30.194429Z",
     "start_time": "2020-08-25T19:40:30.185453Z"
    }
   },
   "outputs": [],
   "source": [
    "df.fillna(0, inplace=True)"
   ]
  },
  {
   "cell_type": "code",
   "execution_count": 23,
   "metadata": {
    "ExecuteTime": {
     "end_time": "2020-08-25T19:40:30.710495Z",
     "start_time": "2020-08-25T19:40:30.683577Z"
    }
   },
   "outputs": [],
   "source": [
    "# create a mapping from item_id to the corresponding column to make sure no item goes unmapped\n",
    "\n",
    "item2dropdowncol = {i : '' for i in all_items}\n",
    "\n",
    "for index, row in df.iterrows():\n",
    "    for col in df.columns:\n",
    "        if 'quantity of' in col.lower():\n",
    "            item2dropdowncol[\" \".join(col.split()[3:])] = col\n",
    "            \n",
    "assert len(item2dropdowncol) == len(all_items)\n",
    "for k, v in item2dropdowncol.items():\n",
    "    assert len(v) > 3"
   ]
  },
  {
   "cell_type": "markdown",
   "metadata": {},
   "source": [
    "\n",
    "    {\n",
    "        key:\n",
    "        {\n",
    "            name : str,\n",
    "            drop_point : str,\n",
    "            building : str,\n",
    "            wing : str,\n",
    "            flat : str,\n",
    "            phone : numeric,\n",
    "            email : str,\n",
    "            delivery_date : datetime,\n",
    "            order : dict,\n",
    "            total_amount : float,\n",
    "            payment_status : str\n",
    "        }\n",
    "    }"
   ]
  },
  {
   "cell_type": "code",
   "execution_count": 24,
   "metadata": {
    "ExecuteTime": {
     "end_time": "2020-08-25T19:40:31.238279Z",
     "start_time": "2020-08-25T19:40:31.233264Z"
    }
   },
   "outputs": [],
   "source": [
    "def get_order(row):\n",
    "    o = {}\n",
    "    for item, qty_col in item2dropdowncol.items():\n",
    "#         try:\n",
    "        if row[qty_col] > 0:\n",
    "            o[item] = row[qty_col]\n",
    "#         except:\n",
    "#             i = 'hello'\n",
    "            \n",
    "    return o"
   ]
  },
  {
   "cell_type": "code",
   "execution_count": 25,
   "metadata": {
    "ExecuteTime": {
     "end_time": "2020-08-25T19:40:31.467636Z",
     "start_time": "2020-08-25T19:40:31.463648Z"
    }
   },
   "outputs": [],
   "source": [
    "def get_total_cost_price(order):\n",
    "    totalcp = 0\n",
    "    for item, qty in order.items():\n",
    "#         if item == 'Cherry Tomatoes': item = 'Cherry Tomato'\n",
    "#         if item == 'Potatoes': item = 'Potato'\n",
    "        totalcp += qty * get_cost_price(item)\n",
    "    return totalcp"
   ]
  },
  {
   "cell_type": "code",
   "execution_count": 26,
   "metadata": {
    "ExecuteTime": {
     "end_time": "2020-08-25T19:40:31.742019Z",
     "start_time": "2020-08-25T19:40:31.666210Z"
    }
   },
   "outputs": [],
   "source": [
    "orders_dict = {}\n",
    "\n",
    "for index, row in df.iterrows():\n",
    "    dct = {}\n",
    "    dct['name'] = row['Name']\n",
    "    dct['drop_point'] = row['Select Drop Point']\n",
    "    dct['building'] = row['building']\n",
    "    dct['wing'] = row['Select Wing']\n",
    "    dct['flat_no'] = row['Flat No']\n",
    "    dct['phone_no'] = row['Phone']\n",
    "    dct['email'] = row['Email']\n",
    "    dct['delivery_date'] = row['Select Delivery Date']\n",
    "    dct['total_amount'] = row['Total Amount']\n",
    "    dct['payment_status'] = row['Payment Status']\n",
    "    dct['order'] = get_order(row)\n",
    "    dct['total_cost_price'] = get_total_cost_price(dct['order'])\n",
    "    dct['profit'] = dct['total_amount'] - dct['total_cost_price']\n",
    "    orders_dict[row['Token No']] = dct"
   ]
  },
  {
   "cell_type": "markdown",
   "metadata": {
    "heading_collapsed": true
   },
   "source": [
    "# Subset Items : To Process Refunds"
   ]
  },
  {
   "cell_type": "code",
   "execution_count": 27,
   "metadata": {
    "ExecuteTime": {
     "end_time": "2020-08-25T19:40:32.097793Z",
     "start_time": "2020-08-25T19:40:32.093797Z"
    },
    "hidden": true
   },
   "outputs": [],
   "source": [
    "# execute only if items2subset > 0"
   ]
  },
  {
   "cell_type": "code",
   "execution_count": 28,
   "metadata": {
    "ExecuteTime": {
     "end_time": "2020-08-25T19:37:39.402769Z",
     "start_time": "2020-08-25T19:37:39.317971Z"
    },
    "hidden": true
   },
   "outputs": [
    {
     "ename": "TypeError",
     "evalue": "'NoneType' object is not iterable",
     "output_type": "error",
     "traceback": [
      "\u001b[1;31m---------------------------------------------------------------------------\u001b[0m",
      "\u001b[1;31mTypeError\u001b[0m                                 Traceback (most recent call last)",
      "\u001b[1;32m<ipython-input-28-5d47566025b1>\u001b[0m in \u001b[0;36m<module>\u001b[1;34m\u001b[0m\n\u001b[0;32m      2\u001b[0m \u001b[1;33m\u001b[0m\u001b[0m\n\u001b[0;32m      3\u001b[0m \u001b[1;32mfor\u001b[0m \u001b[0mtoken\u001b[0m\u001b[1;33m,\u001b[0m \u001b[0mo\u001b[0m \u001b[1;32min\u001b[0m \u001b[0morders_dict\u001b[0m\u001b[1;33m.\u001b[0m\u001b[0mitems\u001b[0m\u001b[1;33m(\u001b[0m\u001b[1;33m)\u001b[0m\u001b[1;33m:\u001b[0m\u001b[1;33m\u001b[0m\u001b[1;33m\u001b[0m\u001b[0m\n\u001b[1;32m----> 4\u001b[1;33m     \u001b[1;32mfor\u001b[0m \u001b[0mitem\u001b[0m \u001b[1;32min\u001b[0m \u001b[0mitems2subset\u001b[0m\u001b[1;33m:\u001b[0m\u001b[1;33m\u001b[0m\u001b[1;33m\u001b[0m\u001b[0m\n\u001b[0m\u001b[0;32m      5\u001b[0m         \u001b[1;32mif\u001b[0m \u001b[0mitem\u001b[0m \u001b[1;32min\u001b[0m \u001b[0mo\u001b[0m\u001b[1;33m[\u001b[0m\u001b[1;34m'order'\u001b[0m\u001b[1;33m]\u001b[0m\u001b[1;33m.\u001b[0m\u001b[0mkeys\u001b[0m\u001b[1;33m(\u001b[0m\u001b[1;33m)\u001b[0m\u001b[1;33m:\u001b[0m\u001b[1;33m\u001b[0m\u001b[1;33m\u001b[0m\u001b[0m\n\u001b[0;32m      6\u001b[0m             \u001b[0mdct\u001b[0m \u001b[1;33m=\u001b[0m \u001b[1;33m{\u001b[0m\u001b[1;33m}\u001b[0m\u001b[1;33m\u001b[0m\u001b[1;33m\u001b[0m\u001b[0m\n",
      "\u001b[1;31mTypeError\u001b[0m: 'NoneType' object is not iterable"
     ]
    }
   ],
   "source": [
    "rows_list = []\n",
    "\n",
    "for token, o in orders_dict.items():\n",
    "    for item in items2subset:\n",
    "        if item in o['order'].keys():\n",
    "            dct = {}\n",
    "            dct['name'] = o['name']\n",
    "            dct['phone_no'] = o['phone_no']\n",
    "            dct['email'] = o['email']\n",
    "            dct['item_name'] = item\n",
    "            dct['item_qty'] = o['order'][item]\n",
    "            dct['item_price_per_unit'] = items_dict[item]['sell_price']\n",
    "            dct['item_amount'] = items_dict[item]['sell_price'] * dct['item_qty']\n",
    "            dct['amount_paid'] = o['total_amount']\n",
    "            dct['payment_status'] = o['payment_status']\n",
    "            \n",
    "            rows_list.append(dct)"
   ]
  },
  {
   "cell_type": "code",
   "execution_count": 89,
   "metadata": {
    "ExecuteTime": {
     "end_time": "2020-08-23T19:12:08.456905Z",
     "start_time": "2020-08-23T19:12:08.450920Z"
    },
    "hidden": true
   },
   "outputs": [],
   "source": [
    "subset_df = pd.DataFrame(rows_list)"
   ]
  },
  {
   "cell_type": "code",
   "execution_count": 56,
   "metadata": {
    "ExecuteTime": {
     "end_time": "2020-08-23T18:10:56.576527Z",
     "start_time": "2020-08-23T18:10:56.568550Z"
    },
    "hidden": true
   },
   "outputs": [],
   "source": [
    "amount2refund = subset_df.groupby('name').sum()['item_amount'].to_dict()"
   ]
  },
  {
   "cell_type": "code",
   "execution_count": 90,
   "metadata": {
    "ExecuteTime": {
     "end_time": "2020-08-23T19:12:44.964181Z",
     "start_time": "2020-08-23T19:12:44.959196Z"
    },
    "hidden": true
   },
   "outputs": [],
   "source": [
    "subset_df['amount_to_refund'] = subset_df.name.apply(lambda x: amount2refund[x])"
   ]
  },
  {
   "cell_type": "code",
   "execution_count": 93,
   "metadata": {
    "ExecuteTime": {
     "end_time": "2020-08-23T19:16:05.528045Z",
     "start_time": "2020-08-23T19:16:05.524082Z"
    },
    "hidden": true
   },
   "outputs": [],
   "source": [
    "fname = save_pth/('unavl-'+FILE.stem+'.xlsx')"
   ]
  },
  {
   "cell_type": "code",
   "execution_count": 94,
   "metadata": {
    "ExecuteTime": {
     "end_time": "2020-08-23T19:16:05.757582Z",
     "start_time": "2020-08-23T19:16:05.661841Z"
    },
    "hidden": true
   },
   "outputs": [],
   "source": [
    "with pd.ExcelWriter(fname) as writer:\n",
    "    subset_df.to_excel(writer, sheet_name='itemwise')\n",
    "    (subset_df.groupby(['name', 'phone_no'])\n",
    "        .first()[['email', 'amount_paid', 'amount_to_refund']]\n",
    "        .to_excel(writer, sheet_name='refund_amount_agg'))"
   ]
  },
  {
   "cell_type": "markdown",
   "metadata": {
    "ExecuteTime": {
     "end_time": "2020-08-17T20:58:05.930841Z",
     "start_time": "2020-08-17T20:58:05.926849Z"
    }
   },
   "source": [
    "# Create Listified File"
   ]
  },
  {
   "cell_type": "code",
   "execution_count": 28,
   "metadata": {
    "ExecuteTime": {
     "end_time": "2020-08-25T19:40:34.898662Z",
     "start_time": "2020-08-25T19:40:34.894674Z"
    }
   },
   "outputs": [],
   "source": [
    "dict_listified = {i : 0 for i in all_items}"
   ]
  },
  {
   "cell_type": "code",
   "execution_count": 29,
   "metadata": {
    "ExecuteTime": {
     "end_time": "2020-08-25T19:40:35.099129Z",
     "start_time": "2020-08-25T19:40:35.094140Z"
    }
   },
   "outputs": [],
   "source": [
    "for key, value in orders_dict.items():\n",
    "    for item, qty in value['order'].items():\n",
    "        dict_listified[item] += qty"
   ]
  },
  {
   "cell_type": "code",
   "execution_count": 30,
   "metadata": {
    "ExecuteTime": {
     "end_time": "2020-08-25T19:40:35.305600Z",
     "start_time": "2020-08-25T19:40:35.294638Z"
    }
   },
   "outputs": [],
   "source": [
    "df_listified = pd.DataFrame()\n",
    "\n",
    "df_listified['item'] = all_items\n",
    "df_listified['packing_size'] = df_listified['item'].apply(lambda x: get_packing_size(x))\n",
    "df_listified['num_units'] = df_listified['item'].apply(lambda x: dict_listified[x])\n",
    "df_listified['weight'] = df_listified.packing_size * df_listified.num_units\n",
    "df_listified['unit'] = df_listified['item'].apply(lambda x: get_unit(x))"
   ]
  },
  {
   "cell_type": "code",
   "execution_count": 31,
   "metadata": {
    "ExecuteTime": {
     "end_time": "2020-08-25T19:40:35.511302Z",
     "start_time": "2020-08-25T19:40:35.493383Z"
    }
   },
   "outputs": [
    {
     "data": {
      "text/html": [
       "<div>\n",
       "<style scoped>\n",
       "    .dataframe tbody tr th:only-of-type {\n",
       "        vertical-align: middle;\n",
       "    }\n",
       "\n",
       "    .dataframe tbody tr th {\n",
       "        vertical-align: top;\n",
       "    }\n",
       "\n",
       "    .dataframe thead th {\n",
       "        text-align: right;\n",
       "    }\n",
       "</style>\n",
       "<table border=\"1\" class=\"dataframe\">\n",
       "  <thead>\n",
       "    <tr style=\"text-align: right;\">\n",
       "      <th></th>\n",
       "      <th>item</th>\n",
       "      <th>packing_size</th>\n",
       "      <th>num_units</th>\n",
       "      <th>weight</th>\n",
       "      <th>unit</th>\n",
       "    </tr>\n",
       "  </thead>\n",
       "  <tbody>\n",
       "    <tr>\n",
       "      <th>0</th>\n",
       "      <td>Potatoes</td>\n",
       "      <td>1.00</td>\n",
       "      <td>65.0</td>\n",
       "      <td>65.00</td>\n",
       "      <td>Kg</td>\n",
       "    </tr>\n",
       "    <tr>\n",
       "      <th>1</th>\n",
       "      <td>Red Onions</td>\n",
       "      <td>1.00</td>\n",
       "      <td>78.0</td>\n",
       "      <td>78.00</td>\n",
       "      <td>Kg</td>\n",
       "    </tr>\n",
       "    <tr>\n",
       "      <th>2</th>\n",
       "      <td>Cauliflower</td>\n",
       "      <td>1.00</td>\n",
       "      <td>41.0</td>\n",
       "      <td>41.00</td>\n",
       "      <td>Pieces</td>\n",
       "    </tr>\n",
       "    <tr>\n",
       "      <th>3</th>\n",
       "      <td>Cabbage</td>\n",
       "      <td>1.00</td>\n",
       "      <td>19.0</td>\n",
       "      <td>19.00</td>\n",
       "      <td>Pieces</td>\n",
       "    </tr>\n",
       "    <tr>\n",
       "      <th>4</th>\n",
       "      <td>Brinjal Bharta</td>\n",
       "      <td>1.00</td>\n",
       "      <td>28.0</td>\n",
       "      <td>28.00</td>\n",
       "      <td>Pieces</td>\n",
       "    </tr>\n",
       "    <tr>\n",
       "      <th>5</th>\n",
       "      <td>Pumpkin</td>\n",
       "      <td>0.50</td>\n",
       "      <td>19.0</td>\n",
       "      <td>9.50</td>\n",
       "      <td>Kg</td>\n",
       "    </tr>\n",
       "    <tr>\n",
       "      <th>7</th>\n",
       "      <td>Cucumber</td>\n",
       "      <td>0.50</td>\n",
       "      <td>64.0</td>\n",
       "      <td>32.00</td>\n",
       "      <td>Kg</td>\n",
       "    </tr>\n",
       "    <tr>\n",
       "      <th>8</th>\n",
       "      <td>Bhindi/Lady's Finger</td>\n",
       "      <td>0.50</td>\n",
       "      <td>53.0</td>\n",
       "      <td>26.50</td>\n",
       "      <td>Kg</td>\n",
       "    </tr>\n",
       "    <tr>\n",
       "      <th>9</th>\n",
       "      <td>Bitter Gourd</td>\n",
       "      <td>0.30</td>\n",
       "      <td>28.0</td>\n",
       "      <td>8.40</td>\n",
       "      <td>Kg</td>\n",
       "    </tr>\n",
       "    <tr>\n",
       "      <th>10</th>\n",
       "      <td>Ridge Gourd</td>\n",
       "      <td>0.50</td>\n",
       "      <td>33.0</td>\n",
       "      <td>16.50</td>\n",
       "      <td>Kg</td>\n",
       "    </tr>\n",
       "    <tr>\n",
       "      <th>11</th>\n",
       "      <td>Beetroot</td>\n",
       "      <td>0.50</td>\n",
       "      <td>22.0</td>\n",
       "      <td>11.00</td>\n",
       "      <td>Kg</td>\n",
       "    </tr>\n",
       "    <tr>\n",
       "      <th>12</th>\n",
       "      <td>Button Mushroom</td>\n",
       "      <td>0.20</td>\n",
       "      <td>14.0</td>\n",
       "      <td>2.80</td>\n",
       "      <td>Kg</td>\n",
       "    </tr>\n",
       "    <tr>\n",
       "      <th>13</th>\n",
       "      <td>Bottle Gourd</td>\n",
       "      <td>1.00</td>\n",
       "      <td>47.0</td>\n",
       "      <td>47.00</td>\n",
       "      <td>Pieces</td>\n",
       "    </tr>\n",
       "    <tr>\n",
       "      <th>14</th>\n",
       "      <td>Drumsticks</td>\n",
       "      <td>0.25</td>\n",
       "      <td>23.0</td>\n",
       "      <td>5.75</td>\n",
       "      <td>Kg</td>\n",
       "    </tr>\n",
       "    <tr>\n",
       "      <th>15</th>\n",
       "      <td>Capsicum</td>\n",
       "      <td>0.50</td>\n",
       "      <td>38.0</td>\n",
       "      <td>19.00</td>\n",
       "      <td>Kg</td>\n",
       "    </tr>\n",
       "    <tr>\n",
       "      <th>16</th>\n",
       "      <td>Gawar/Cluster Beans</td>\n",
       "      <td>0.30</td>\n",
       "      <td>17.0</td>\n",
       "      <td>5.10</td>\n",
       "      <td>kg</td>\n",
       "    </tr>\n",
       "    <tr>\n",
       "      <th>17</th>\n",
       "      <td>French Beans</td>\n",
       "      <td>0.50</td>\n",
       "      <td>31.0</td>\n",
       "      <td>15.50</td>\n",
       "      <td>Kg</td>\n",
       "    </tr>\n",
       "    <tr>\n",
       "      <th>18</th>\n",
       "      <td>Tomato</td>\n",
       "      <td>1.00</td>\n",
       "      <td>81.0</td>\n",
       "      <td>81.00</td>\n",
       "      <td>Kg</td>\n",
       "    </tr>\n",
       "    <tr>\n",
       "      <th>19</th>\n",
       "      <td>Sweet Corn</td>\n",
       "      <td>2.00</td>\n",
       "      <td>33.0</td>\n",
       "      <td>66.00</td>\n",
       "      <td>Pieces</td>\n",
       "    </tr>\n",
       "    <tr>\n",
       "      <th>20</th>\n",
       "      <td>Broccoli</td>\n",
       "      <td>0.25</td>\n",
       "      <td>19.0</td>\n",
       "      <td>4.75</td>\n",
       "      <td>Kg</td>\n",
       "    </tr>\n",
       "    <tr>\n",
       "      <th>22</th>\n",
       "      <td>Kiwi Zespri Imported</td>\n",
       "      <td>3.00</td>\n",
       "      <td>7.0</td>\n",
       "      <td>21.00</td>\n",
       "      <td>Pieces</td>\n",
       "    </tr>\n",
       "    <tr>\n",
       "      <th>23</th>\n",
       "      <td>Banana</td>\n",
       "      <td>6.00</td>\n",
       "      <td>36.0</td>\n",
       "      <td>216.00</td>\n",
       "      <td>Pieces</td>\n",
       "    </tr>\n",
       "    <tr>\n",
       "      <th>24</th>\n",
       "      <td>Garlic</td>\n",
       "      <td>0.25</td>\n",
       "      <td>28.0</td>\n",
       "      <td>7.00</td>\n",
       "      <td>Kg</td>\n",
       "    </tr>\n",
       "    <tr>\n",
       "      <th>25</th>\n",
       "      <td>Ginger</td>\n",
       "      <td>0.25</td>\n",
       "      <td>32.0</td>\n",
       "      <td>8.00</td>\n",
       "      <td>kg</td>\n",
       "    </tr>\n",
       "    <tr>\n",
       "      <th>26</th>\n",
       "      <td>Green Chilly</td>\n",
       "      <td>0.20</td>\n",
       "      <td>29.0</td>\n",
       "      <td>5.80</td>\n",
       "      <td>kg</td>\n",
       "    </tr>\n",
       "    <tr>\n",
       "      <th>27</th>\n",
       "      <td>Lemons</td>\n",
       "      <td>5.00</td>\n",
       "      <td>64.0</td>\n",
       "      <td>320.00</td>\n",
       "      <td>Pieces</td>\n",
       "    </tr>\n",
       "    <tr>\n",
       "      <th>28</th>\n",
       "      <td>Curry Leaves</td>\n",
       "      <td>1.00</td>\n",
       "      <td>23.0</td>\n",
       "      <td>23.00</td>\n",
       "      <td>Bunch</td>\n",
       "    </tr>\n",
       "    <tr>\n",
       "      <th>29</th>\n",
       "      <td>Coriander Leaves</td>\n",
       "      <td>0.25</td>\n",
       "      <td>44.0</td>\n",
       "      <td>11.00</td>\n",
       "      <td>Kg</td>\n",
       "    </tr>\n",
       "    <tr>\n",
       "      <th>30</th>\n",
       "      <td>Mint Leaves</td>\n",
       "      <td>1.00</td>\n",
       "      <td>22.0</td>\n",
       "      <td>22.00</td>\n",
       "      <td>Bunch</td>\n",
       "    </tr>\n",
       "    <tr>\n",
       "      <th>31</th>\n",
       "      <td>Palak/Spinach</td>\n",
       "      <td>1.00</td>\n",
       "      <td>47.0</td>\n",
       "      <td>47.00</td>\n",
       "      <td>Bunch</td>\n",
       "    </tr>\n",
       "    <tr>\n",
       "      <th>32</th>\n",
       "      <td>Shepu/Dill Leaves</td>\n",
       "      <td>1.00</td>\n",
       "      <td>8.0</td>\n",
       "      <td>8.00</td>\n",
       "      <td>Bunch</td>\n",
       "    </tr>\n",
       "    <tr>\n",
       "      <th>33</th>\n",
       "      <td>Methi Leaves</td>\n",
       "      <td>0.35</td>\n",
       "      <td>28.0</td>\n",
       "      <td>9.80</td>\n",
       "      <td>kg</td>\n",
       "    </tr>\n",
       "    <tr>\n",
       "      <th>34</th>\n",
       "      <td>Red/Yellow Bell Peppers</td>\n",
       "      <td>4.00</td>\n",
       "      <td>16.0</td>\n",
       "      <td>64.00</td>\n",
       "      <td>Pieces</td>\n",
       "    </tr>\n",
       "    <tr>\n",
       "      <th>35</th>\n",
       "      <td>Carrots</td>\n",
       "      <td>0.50</td>\n",
       "      <td>68.0</td>\n",
       "      <td>34.00</td>\n",
       "      <td>Kg</td>\n",
       "    </tr>\n",
       "    <tr>\n",
       "      <th>36</th>\n",
       "      <td>Radish/Muli</td>\n",
       "      <td>2.00</td>\n",
       "      <td>58.0</td>\n",
       "      <td>116.00</td>\n",
       "      <td>Pieces</td>\n",
       "    </tr>\n",
       "    <tr>\n",
       "      <th>37</th>\n",
       "      <td>Green Peas</td>\n",
       "      <td>0.50</td>\n",
       "      <td>54.0</td>\n",
       "      <td>27.00</td>\n",
       "      <td>Kg</td>\n",
       "    </tr>\n",
       "    <tr>\n",
       "      <th>38</th>\n",
       "      <td>Lal Math/Amaranthus</td>\n",
       "      <td>1.00</td>\n",
       "      <td>28.0</td>\n",
       "      <td>28.00</td>\n",
       "      <td>Bunch</td>\n",
       "    </tr>\n",
       "  </tbody>\n",
       "</table>\n",
       "</div>"
      ],
      "text/plain": [
       "                       item  packing_size  num_units  weight    unit\n",
       "0                  Potatoes          1.00       65.0   65.00      Kg\n",
       "1                Red Onions          1.00       78.0   78.00      Kg\n",
       "2               Cauliflower          1.00       41.0   41.00  Pieces\n",
       "3                   Cabbage          1.00       19.0   19.00  Pieces\n",
       "4            Brinjal Bharta          1.00       28.0   28.00  Pieces\n",
       "5                   Pumpkin          0.50       19.0    9.50      Kg\n",
       "7                  Cucumber          0.50       64.0   32.00      Kg\n",
       "8      Bhindi/Lady's Finger          0.50       53.0   26.50      Kg\n",
       "9              Bitter Gourd          0.30       28.0    8.40      Kg\n",
       "10              Ridge Gourd          0.50       33.0   16.50      Kg\n",
       "11                 Beetroot          0.50       22.0   11.00      Kg\n",
       "12          Button Mushroom          0.20       14.0    2.80      Kg\n",
       "13             Bottle Gourd          1.00       47.0   47.00  Pieces\n",
       "14               Drumsticks          0.25       23.0    5.75      Kg\n",
       "15                 Capsicum          0.50       38.0   19.00      Kg\n",
       "16      Gawar/Cluster Beans          0.30       17.0    5.10      kg\n",
       "17             French Beans          0.50       31.0   15.50      Kg\n",
       "18                   Tomato          1.00       81.0   81.00      Kg\n",
       "19               Sweet Corn          2.00       33.0   66.00  Pieces\n",
       "20                 Broccoli          0.25       19.0    4.75      Kg\n",
       "22     Kiwi Zespri Imported          3.00        7.0   21.00  Pieces\n",
       "23                   Banana          6.00       36.0  216.00  Pieces\n",
       "24                   Garlic          0.25       28.0    7.00      Kg\n",
       "25                   Ginger          0.25       32.0    8.00      kg\n",
       "26             Green Chilly          0.20       29.0    5.80      kg\n",
       "27                   Lemons          5.00       64.0  320.00  Pieces\n",
       "28             Curry Leaves          1.00       23.0   23.00   Bunch\n",
       "29         Coriander Leaves          0.25       44.0   11.00      Kg\n",
       "30              Mint Leaves          1.00       22.0   22.00   Bunch\n",
       "31            Palak/Spinach          1.00       47.0   47.00   Bunch\n",
       "32        Shepu/Dill Leaves          1.00        8.0    8.00   Bunch\n",
       "33             Methi Leaves          0.35       28.0    9.80      kg\n",
       "34  Red/Yellow Bell Peppers          4.00       16.0   64.00  Pieces\n",
       "35                  Carrots          0.50       68.0   34.00      Kg\n",
       "36              Radish/Muli          2.00       58.0  116.00  Pieces\n",
       "37               Green Peas          0.50       54.0   27.00      Kg\n",
       "38      Lal Math/Amaranthus          1.00       28.0   28.00   Bunch"
      ]
     },
     "execution_count": 31,
     "metadata": {},
     "output_type": "execute_result"
    }
   ],
   "source": [
    "df_listified = df_listified[df_listified.num_units > 0]; df_listified"
   ]
  },
  {
   "cell_type": "code",
   "execution_count": 32,
   "metadata": {
    "ExecuteTime": {
     "end_time": "2020-08-25T19:40:35.683084Z",
     "start_time": "2020-08-25T19:40:35.680073Z"
    }
   },
   "outputs": [],
   "source": [
    "fname = save_pth/('quantity-' + str(FILE.stem) + '.csv')"
   ]
  },
  {
   "cell_type": "code",
   "execution_count": 33,
   "metadata": {
    "ExecuteTime": {
     "end_time": "2020-08-25T19:40:35.867618Z",
     "start_time": "2020-08-25T19:40:35.858597Z"
    }
   },
   "outputs": [],
   "source": [
    "df_listified[df_listified.num_units>0].to_csv(fname, index=False)"
   ]
  },
  {
   "cell_type": "markdown",
   "metadata": {},
   "source": [
    "# Customerwise"
   ]
  },
  {
   "cell_type": "code",
   "execution_count": 34,
   "metadata": {
    "ExecuteTime": {
     "end_time": "2020-08-25T19:40:36.213279Z",
     "start_time": "2020-08-25T19:40:36.209291Z"
    }
   },
   "outputs": [],
   "source": [
    "items = ['coconut', 'kiwi']"
   ]
  },
  {
   "cell_type": "code",
   "execution_count": 35,
   "metadata": {
    "ExecuteTime": {
     "end_time": "2020-08-25T19:40:36.396121Z",
     "start_time": "2020-08-25T19:40:36.378193Z"
    }
   },
   "outputs": [],
   "source": [
    "df_trans = pd.read_excel(\"C:/Playground/bhaiya-orders/zoho-bhor-farms/database/translations.xlsx\")"
   ]
  },
  {
   "cell_type": "code",
   "execution_count": 36,
   "metadata": {
    "ExecuteTime": {
     "end_time": "2020-08-25T19:40:36.565872Z",
     "start_time": "2020-08-25T19:40:36.549883Z"
    }
   },
   "outputs": [],
   "source": [
    "from fuzzywuzzy import fuzz\n",
    "\n",
    "def get_match(x, thresh=65):\n",
    "    x = x.lower()\n",
    "    rmax = -1\n",
    "    for k in items: \n",
    "        if fuzz.partial_ratio(k, x) > rmax:\n",
    "            rmax = fuzz.partial_ratio(k, x)\n",
    "\n",
    "    return rmax > thresh"
   ]
  },
  {
   "cell_type": "code",
   "execution_count": 37,
   "metadata": {
    "ExecuteTime": {
     "end_time": "2020-08-25T19:40:36.739800Z",
     "start_time": "2020-08-25T19:40:36.728806Z"
    }
   },
   "outputs": [
    {
     "data": {
      "text/plain": [
       "array(['Coconut', 'Kiwi Imported', 'Coconut Mangalore Small',\n",
       "       'Kiwi Imported', ' Coconut Mangalore Big',\n",
       "       ' Coconut Mangalore Medium', 'Kiwi Imported - Zespri Green'],\n",
       "      dtype=object)"
      ]
     },
     "execution_count": 37,
     "metadata": {},
     "output_type": "execute_result"
    }
   ],
   "source": [
    "keys2drop = df_trans[df_trans['Final Item Name'].apply(get_match)]['Final Item Name'].values; keys2drop"
   ]
  },
  {
   "cell_type": "code",
   "execution_count": 38,
   "metadata": {
    "ExecuteTime": {
     "end_time": "2020-08-25T19:40:36.908514Z",
     "start_time": "2020-08-25T19:40:36.898514Z"
    }
   },
   "outputs": [],
   "source": [
    "df_trans = df_trans.set_index('Final Item Name').drop(keys2drop).reset_index()\n",
    "eng2marathi = df_trans.set_index('Final Item Name').to_dict()['Final Marathi Name']\n",
    "marathi2eng = df_trans.set_index('Final Marathi Name').to_dict()['Final Item Name']\n",
    "marathi2eng[np.nan] = ''"
   ]
  },
  {
   "cell_type": "code",
   "execution_count": 39,
   "metadata": {
    "ExecuteTime": {
     "end_time": "2020-08-25T19:40:37.073172Z",
     "start_time": "2020-08-25T19:40:37.067189Z"
    }
   },
   "outputs": [],
   "source": [
    "def get_trans(x, thresh=85):\n",
    "    rmax = -1\n",
    "    trans = ''\n",
    "    for k in eng2marathi.keys():\n",
    "        if fuzz.ratio(k, x) > rmax:\n",
    "            rmax = fuzz.ratio(k, x)\n",
    "            trans = eng2marathi[k]\n",
    "\n",
    "    if rmax > thresh:\n",
    "        return trans\n",
    "    return np.nan"
   ]
  },
  {
   "cell_type": "code",
   "execution_count": 40,
   "metadata": {
    "ExecuteTime": {
     "end_time": "2020-08-25T19:40:37.592635Z",
     "start_time": "2020-08-25T19:40:37.229590Z"
    }
   },
   "outputs": [],
   "source": [
    "rows_list = []\n",
    "for token, o in orders_dict.items():\n",
    "    for item, qty in o['order'].items():\n",
    "        row_dct = {}\n",
    "        row_dct['token_no'] = token\n",
    "        row_dct['name'] = o['name']\n",
    "        row_dct['delivery_date'] = o['delivery_date']\n",
    "        row_dct['item_name'] = item\n",
    "        row_dct['marathi_name'] = get_trans(item)\n",
    "        row_dct['num_packets'] = qty\n",
    "        row_dct['packing_size'] = get_packing_size(item)\n",
    "        row_dct['final_weight'] = row_dct['num_packets'] * row_dct['packing_size']\n",
    "        row_dct['unit'] = get_unit(item)\n",
    "        row_dct['total_amt'] = o['total_amount']\n",
    "        \n",
    "        rows_list.append(row_dct)"
   ]
  },
  {
   "cell_type": "code",
   "execution_count": 41,
   "metadata": {
    "ExecuteTime": {
     "end_time": "2020-08-25T19:40:37.602595Z",
     "start_time": "2020-08-25T19:40:37.593650Z"
    }
   },
   "outputs": [],
   "source": [
    "df_customerwise = pd.DataFrame(rows_list)"
   ]
  },
  {
   "cell_type": "code",
   "execution_count": 42,
   "metadata": {
    "ExecuteTime": {
     "end_time": "2020-08-25T19:40:37.699358Z",
     "start_time": "2020-08-25T19:40:37.684373Z"
    }
   },
   "outputs": [
    {
     "data": {
      "text/html": [
       "<div>\n",
       "<style scoped>\n",
       "    .dataframe tbody tr th:only-of-type {\n",
       "        vertical-align: middle;\n",
       "    }\n",
       "\n",
       "    .dataframe tbody tr th {\n",
       "        vertical-align: top;\n",
       "    }\n",
       "\n",
       "    .dataframe thead th {\n",
       "        text-align: right;\n",
       "    }\n",
       "</style>\n",
       "<table border=\"1\" class=\"dataframe\">\n",
       "  <thead>\n",
       "    <tr style=\"text-align: right;\">\n",
       "      <th></th>\n",
       "      <th>token_no</th>\n",
       "      <th>name</th>\n",
       "      <th>delivery_date</th>\n",
       "      <th>item_name</th>\n",
       "      <th>marathi_name</th>\n",
       "      <th>num_packets</th>\n",
       "      <th>packing_size</th>\n",
       "      <th>final_weight</th>\n",
       "      <th>unit</th>\n",
       "      <th>total_amt</th>\n",
       "    </tr>\n",
       "  </thead>\n",
       "  <tbody>\n",
       "    <tr>\n",
       "      <th>0</th>\n",
       "      <td>1</td>\n",
       "      <td>Rashmita; Sundaram</td>\n",
       "      <td>Thu Aug 27th</td>\n",
       "      <td>Bitter Gourd</td>\n",
       "      <td>कारले</td>\n",
       "      <td>2.0</td>\n",
       "      <td>0.30</td>\n",
       "      <td>0.60</td>\n",
       "      <td>Kg</td>\n",
       "      <td>257</td>\n",
       "    </tr>\n",
       "    <tr>\n",
       "      <th>1</th>\n",
       "      <td>1</td>\n",
       "      <td>Rashmita; Sundaram</td>\n",
       "      <td>Thu Aug 27th</td>\n",
       "      <td>Ridge Gourd</td>\n",
       "      <td>दोडका</td>\n",
       "      <td>1.0</td>\n",
       "      <td>0.50</td>\n",
       "      <td>0.50</td>\n",
       "      <td>Kg</td>\n",
       "      <td>257</td>\n",
       "    </tr>\n",
       "    <tr>\n",
       "      <th>2</th>\n",
       "      <td>1</td>\n",
       "      <td>Rashmita; Sundaram</td>\n",
       "      <td>Thu Aug 27th</td>\n",
       "      <td>Drumsticks</td>\n",
       "      <td>शेवगा</td>\n",
       "      <td>1.0</td>\n",
       "      <td>0.25</td>\n",
       "      <td>0.25</td>\n",
       "      <td>Kg</td>\n",
       "      <td>257</td>\n",
       "    </tr>\n",
       "    <tr>\n",
       "      <th>3</th>\n",
       "      <td>1</td>\n",
       "      <td>Rashmita; Sundaram</td>\n",
       "      <td>Thu Aug 27th</td>\n",
       "      <td>Banana</td>\n",
       "      <td>केळी</td>\n",
       "      <td>1.0</td>\n",
       "      <td>6.00</td>\n",
       "      <td>6.00</td>\n",
       "      <td>Pieces</td>\n",
       "      <td>257</td>\n",
       "    </tr>\n",
       "    <tr>\n",
       "      <th>4</th>\n",
       "      <td>1</td>\n",
       "      <td>Rashmita; Sundaram</td>\n",
       "      <td>Thu Aug 27th</td>\n",
       "      <td>Green Chilly</td>\n",
       "      <td>हिरवी मिरची</td>\n",
       "      <td>1.0</td>\n",
       "      <td>0.20</td>\n",
       "      <td>0.20</td>\n",
       "      <td>kg</td>\n",
       "      <td>257</td>\n",
       "    </tr>\n",
       "  </tbody>\n",
       "</table>\n",
       "</div>"
      ],
      "text/plain": [
       "   token_no                name delivery_date     item_name marathi_name  \\\n",
       "0         1  Rashmita; Sundaram  Thu Aug 27th  Bitter Gourd        कारले   \n",
       "1         1  Rashmita; Sundaram  Thu Aug 27th   Ridge Gourd        दोडका   \n",
       "2         1  Rashmita; Sundaram  Thu Aug 27th    Drumsticks        शेवगा   \n",
       "3         1  Rashmita; Sundaram  Thu Aug 27th        Banana         केळी   \n",
       "4         1  Rashmita; Sundaram  Thu Aug 27th  Green Chilly  हिरवी मिरची   \n",
       "\n",
       "   num_packets  packing_size  final_weight    unit  total_amt  \n",
       "0          2.0          0.30          0.60      Kg        257  \n",
       "1          1.0          0.50          0.50      Kg        257  \n",
       "2          1.0          0.25          0.25      Kg        257  \n",
       "3          1.0          6.00          6.00  Pieces        257  \n",
       "4          1.0          0.20          0.20      kg        257  "
      ]
     },
     "execution_count": 42,
     "metadata": {},
     "output_type": "execute_result"
    }
   ],
   "source": [
    "df_customerwise.head()"
   ]
  },
  {
   "cell_type": "code",
   "execution_count": 43,
   "metadata": {
    "ExecuteTime": {
     "end_time": "2020-08-25T19:40:37.915786Z",
     "start_time": "2020-08-25T19:40:37.908774Z"
    }
   },
   "outputs": [
    {
     "data": {
      "text/plain": [
       "array(['Kiwi Zespri Imported'], dtype=object)"
      ]
     },
     "execution_count": 43,
     "metadata": {},
     "output_type": "execute_result"
    }
   ],
   "source": [
    "notranslist = df_customerwise[df_customerwise.marathi_name.isna()].item_name.unique(); notranslist"
   ]
  },
  {
   "cell_type": "markdown",
   "metadata": {},
   "source": [
    "## Kiwi, Coconut Alag Se"
   ]
  },
  {
   "cell_type": "code",
   "execution_count": 44,
   "metadata": {
    "ExecuteTime": {
     "end_time": "2020-08-25T19:40:38.311333Z",
     "start_time": "2020-08-25T19:40:38.304352Z"
    }
   },
   "outputs": [
    {
     "data": {
      "text/plain": [
       "'kiwi-27th Aug Vegetables Final'"
      ]
     },
     "execution_count": 44,
     "metadata": {},
     "output_type": "execute_result"
    }
   ],
   "source": [
    "ids = set([i.lower()[:4] for i in notranslist])\n",
    "prefix = \"\".join(ids)\n",
    "\n",
    "notrans_pth = save_pth/f'{prefix}-{str(FILE.stem)}.csv'; notrans_pth.stem"
   ]
  },
  {
   "cell_type": "code",
   "execution_count": 45,
   "metadata": {
    "ExecuteTime": {
     "end_time": "2020-08-25T19:40:38.526159Z",
     "start_time": "2020-08-25T19:40:38.517165Z"
    }
   },
   "outputs": [],
   "source": [
    "(df_customerwise[df_customerwise.marathi_name.isna()]\n",
    "    .drop(columns=['marathi_name', 'total_amt'])\n",
    "    .to_csv(notrans_pth, index=False))"
   ]
  },
  {
   "cell_type": "markdown",
   "metadata": {},
   "source": [
    "## Drop items whose translations are absent from the Customerwise File"
   ]
  },
  {
   "cell_type": "code",
   "execution_count": 46,
   "metadata": {
    "ExecuteTime": {
     "end_time": "2020-08-25T19:40:38.933512Z",
     "start_time": "2020-08-25T19:40:38.929523Z"
    }
   },
   "outputs": [],
   "source": [
    "df_customerwise.marathi_name = df_customerwise.marathi_name.fillna('')"
   ]
  },
  {
   "cell_type": "code",
   "execution_count": 47,
   "metadata": {
    "ExecuteTime": {
     "end_time": "2020-08-25T19:40:39.155950Z",
     "start_time": "2020-08-25T19:40:39.151960Z"
    }
   },
   "outputs": [],
   "source": [
    "# df_customerwise.dropna(subset=['marathi_name'], inplace=True)"
   ]
  },
  {
   "cell_type": "markdown",
   "metadata": {
    "ExecuteTime": {
     "end_time": "2020-08-17T22:49:59.355030Z",
     "start_time": "2020-08-17T22:49:59.351040Z"
    }
   },
   "source": [
    "## Build Excel Savefile"
   ]
  },
  {
   "cell_type": "code",
   "execution_count": 48,
   "metadata": {
    "ExecuteTime": {
     "end_time": "2020-08-25T19:40:39.572137Z",
     "start_time": "2020-08-25T19:40:39.568149Z"
    }
   },
   "outputs": [],
   "source": [
    "highlight_col = 'num_packets'"
   ]
  },
  {
   "cell_type": "code",
   "execution_count": 49,
   "metadata": {
    "ExecuteTime": {
     "end_time": "2020-08-25T19:40:39.798021Z",
     "start_time": "2020-08-25T19:40:39.792036Z"
    }
   },
   "outputs": [],
   "source": [
    "custs = df_customerwise.name + '_' + df_customerwise.token_no.astype(str)\n",
    "custs = custs.unique()"
   ]
  },
  {
   "cell_type": "code",
   "execution_count": 50,
   "metadata": {
    "ExecuteTime": {
     "end_time": "2020-08-25T19:40:40.016764Z",
     "start_time": "2020-08-25T19:40:40.010760Z"
    }
   },
   "outputs": [],
   "source": [
    "def f(x):\n",
    "    col = highlight_col\n",
    "    r = 'background-color: none'\n",
    "    g = 'background-color: #37FDFC'\n",
    "    c = np.where(x[col] > 1, g, r)\n",
    "    y = pd.DataFrame('', index=x.index, columns=x.columns)\n",
    "    for h in all_cols:\n",
    "        y[h] = c\n",
    "    \n",
    "    return y"
   ]
  },
  {
   "cell_type": "code",
   "execution_count": 51,
   "metadata": {
    "ExecuteTime": {
     "end_time": "2020-08-25T19:40:40.348932Z",
     "start_time": "2020-08-25T19:40:40.344910Z"
    }
   },
   "outputs": [],
   "source": [
    "def boldify(x):\n",
    "    col = 'total_amt'\n",
    "    n = 'font-weight: normal'\n",
    "    b = 'font-weight: bold'\n",
    "    c = np.where(x[col] >= 1000.0, b, n)\n",
    "    y = pd.DataFrame('', index=x.index, columns=x.columns)\n",
    "    for h in all_cols:\n",
    "        y[h] = c\n",
    "    \n",
    "    return y"
   ]
  },
  {
   "cell_type": "code",
   "execution_count": 52,
   "metadata": {
    "ExecuteTime": {
     "end_time": "2020-08-25T19:40:40.842804Z",
     "start_time": "2020-08-25T19:40:40.838815Z"
    }
   },
   "outputs": [],
   "source": [
    "all_cols = df_customerwise.columns"
   ]
  },
  {
   "cell_type": "code",
   "execution_count": 53,
   "metadata": {
    "ExecuteTime": {
     "end_time": "2020-08-25T19:40:41.133280Z",
     "start_time": "2020-08-25T19:40:41.128295Z"
    }
   },
   "outputs": [],
   "source": [
    "def get_sum_packets(token):\n",
    "    return sum(orders_dict[token]['order'].values())"
   ]
  },
  {
   "cell_type": "code",
   "execution_count": 54,
   "metadata": {
    "ExecuteTime": {
     "end_time": "2020-08-25T19:40:41.385910Z",
     "start_time": "2020-08-25T19:40:41.381923Z"
    }
   },
   "outputs": [],
   "source": [
    "fname = save_pth/('customerwise-' + str(FILE.stem) + '.xlsx')"
   ]
  },
  {
   "cell_type": "code",
   "execution_count": 55,
   "metadata": {
    "ExecuteTime": {
     "end_time": "2020-08-25T19:40:48.466600Z",
     "start_time": "2020-08-25T19:40:41.661507Z"
    }
   },
   "outputs": [],
   "source": [
    "all_data = 0\n",
    "\n",
    "with pd.ExcelWriter(fname) as writer:\n",
    "    for cust in custs:\n",
    "        data = df_customerwise[df_customerwise.name == cust.split('_')[0]]\n",
    "        data = data[data.token_no == int(cust.split('_')[1])]\n",
    "        all_data += len(data.index)\n",
    "\n",
    "        data = data.append({'marathi_name': 'TOTAL PACKETS', 'num_packets': get_sum_packets(\n",
    "            int(cust.split('_')[1]))}, ignore_index=True)\n",
    "        styled = data.style.apply(f, axis=None)\n",
    "        styled = styled.apply(boldify, axis=None)\n",
    "        styled.to_excel(writer, columns=['token_no', 'name', 'delivery_date', 'item_name', 'marathi_name',\n",
    "                                         'num_packets', 'packing_size', 'final_weight', 'unit'], sheet_name=cust[:31], engine='openpyxl', index=False)\n",
    "\n",
    "assert all_data == len(df_customerwise)"
   ]
  },
  {
   "cell_type": "markdown",
   "metadata": {},
   "source": [
    "## Build PDF Savefile"
   ]
  },
  {
   "cell_type": "code",
   "execution_count": 56,
   "metadata": {
    "ExecuteTime": {
     "end_time": "2020-08-25T19:40:48.689037Z",
     "start_time": "2020-08-25T19:40:48.468558Z"
    }
   },
   "outputs": [],
   "source": [
    "from reportlab.lib.pagesizes import letter, landscape\n",
    "from reportlab.pdfbase.ttfonts import TTFont  \n",
    "from reportlab.pdfbase import pdfmetrics\n",
    "from reportlab.platypus import Table, TableStyle, PageBreak, SimpleDocTemplate\n",
    "from reportlab.lib import colors\n",
    "\n",
    "pdfmetrics.registerFont(TTFont(\"mangal\", \"font/Lohit-Devanagari.ttf\"))"
   ]
  },
  {
   "cell_type": "code",
   "execution_count": 57,
   "metadata": {
    "ExecuteTime": {
     "end_time": "2020-08-25T19:40:48.695952Z",
     "start_time": "2020-08-25T19:40:48.690975Z"
    }
   },
   "outputs": [],
   "source": [
    "df_customerwise.drop(columns=['delivery_date', 'total_amt'], inplace=True)"
   ]
  },
  {
   "cell_type": "code",
   "execution_count": 58,
   "metadata": {
    "ExecuteTime": {
     "end_time": "2020-08-25T19:40:48.724869Z",
     "start_time": "2020-08-25T19:40:48.698942Z"
    }
   },
   "outputs": [],
   "source": [
    "# get index of num_packets, marathi_name\n",
    "for i, col in enumerate(df_customerwise.columns): \n",
    "    if col == highlight_col: qty_index = i\n",
    "    if col == 'marathi_name': marathi_index = i"
   ]
  },
  {
   "cell_type": "code",
   "execution_count": 59,
   "metadata": {
    "ExecuteTime": {
     "end_time": "2020-08-25T19:40:48.739809Z",
     "start_time": "2020-08-25T19:40:48.726845Z"
    }
   },
   "outputs": [],
   "source": [
    "def create_pdf(data):\n",
    "    \n",
    "    pdfy_data = data.to_numpy().tolist()\n",
    "    pdfy_data.insert(0, data.columns.values.tolist())\n",
    "\n",
    "#     pdf = SimpleDocTemplate(\n",
    "#         fname,\n",
    "#         pagesize=landscape(letter),\n",
    "#     #     font='mangal'\n",
    "#     )\n",
    "\n",
    "    table = Table(pdfy_data)\n",
    "\n",
    "    style = TableStyle([\n",
    "    #     ('BACKGROUND', (0,0), (3,0), colors.green),\n",
    "    #     ('TEXTCOLOR',(0,0),(-1,0),colors.whitesmoke),\n",
    "\n",
    "        ('ALIGN',(0,0),(-1,-1),'CENTER'),\n",
    "    #     ('FONTNAME', (0,0), (-1,0), 'Courier-Bold'),\n",
    "        ('FONTSIZE', (0,0), (-1,0), 10),\n",
    "        ('BOTTOMPADDING', (0,0), (-1,0), 12),\n",
    "        ('FONTNAME',(marathi_index,1),(marathi_index,-1),'mangal'),\n",
    "        ('BACKGROUND',(0,0),(-1,0),colors.burlywood),\n",
    "        ('BACKGROUND',(qty_index,-1),(qty_index,-1),colors.springgreen)\n",
    "    ])\n",
    "    \n",
    "    table.setStyle(style)\n",
    "\n",
    "    rowNumb = len(pdfy_data)\n",
    "    for i in range(1, rowNumb-1):\n",
    "        if pdfy_data[i][qty_index] > 1:\n",
    "            bc = colors.aqua\n",
    "        else:\n",
    "            bc = colors.white\n",
    "        ts = TableStyle(\n",
    "            [('BACKGROUND', (0,i),(-1,i), bc)]\n",
    "        )\n",
    "        table.setStyle(ts)\n",
    "\n",
    "    # 3) Add borders\n",
    "    ts = TableStyle(\n",
    "        [\n",
    "    #     ('BOX',(0,0),(-1,-1),2,colors.black),\n",
    "\n",
    "    #     ('LINEBEFORE',(2,1),(2,-1),2,colors.red),\n",
    "    #     ('LINEABOVE',(0,2),(-1,2),2,colors.green),\n",
    "\n",
    "        ('GRID',(0,0),(-1,-2),2,colors.black),\n",
    "        ]\n",
    "    )\n",
    "    table.setStyle(ts)\n",
    "\n",
    "#     elems = []\n",
    "    elems.append(table)\n",
    "    elems.append(PageBreak())\n",
    "    \n",
    "#     pdf.build(elems)"
   ]
  },
  {
   "cell_type": "code",
   "execution_count": 60,
   "metadata": {
    "ExecuteTime": {
     "end_time": "2020-08-25T19:40:48.750812Z",
     "start_time": "2020-08-25T19:40:48.741804Z"
    }
   },
   "outputs": [],
   "source": [
    "fname = str(PDF_DIR/('customerwise-' + str(FILE.stem) + '.pdf'))"
   ]
  },
  {
   "cell_type": "code",
   "execution_count": 61,
   "metadata": {
    "ExecuteTime": {
     "end_time": "2020-08-25T19:40:48.761757Z",
     "start_time": "2020-08-25T19:40:48.752784Z"
    }
   },
   "outputs": [],
   "source": [
    "pdf = SimpleDocTemplate(\n",
    "        fname,\n",
    "        pagesize=landscape(letter),\n",
    "    #     font='mangal'\n",
    "    )\n",
    "\n",
    "elems = []"
   ]
  },
  {
   "cell_type": "code",
   "execution_count": 62,
   "metadata": {
    "ExecuteTime": {
     "end_time": "2020-08-25T19:40:49.566130Z",
     "start_time": "2020-08-25T19:40:48.764742Z"
    }
   },
   "outputs": [],
   "source": [
    "all_data = 0\n",
    "\n",
    "for cust in custs:\n",
    "    data = df_customerwise[df_customerwise.name == cust.split('_')[0]]\n",
    "    data = data[data.token_no == int(cust.split('_')[1])]\n",
    "    \n",
    "    data.token_no = data.token_no.astype(int)\n",
    "    data.num_packets = data.num_packets.astype(int)\n",
    "    \n",
    "    all_data += len(data.index)\n",
    "    \n",
    "    data = data.append({'num_packets': get_sum_packets(\n",
    "        int(cust.split('_')[1]))}, ignore_index=True)\n",
    "\n",
    "    data = data.fillna('')\n",
    "    create_pdf(data)\n",
    "\n",
    "assert all_data == len(df_customerwise)"
   ]
  },
  {
   "cell_type": "code",
   "execution_count": 63,
   "metadata": {
    "ExecuteTime": {
     "end_time": "2020-08-25T19:40:50.848006Z",
     "start_time": "2020-08-25T19:40:50.439428Z"
    }
   },
   "outputs": [],
   "source": [
    "pdf.build(elems)"
   ]
  },
  {
   "cell_type": "code",
   "execution_count": null,
   "metadata": {},
   "outputs": [],
   "source": []
  },
  {
   "cell_type": "code",
   "execution_count": null,
   "metadata": {},
   "outputs": [],
   "source": []
  },
  {
   "cell_type": "code",
   "execution_count": null,
   "metadata": {},
   "outputs": [],
   "source": []
  },
  {
   "cell_type": "markdown",
   "metadata": {},
   "source": [
    "# Printout File"
   ]
  },
  {
   "cell_type": "code",
   "execution_count": 64,
   "metadata": {
    "ExecuteTime": {
     "end_time": "2020-08-25T19:40:53.024912Z",
     "start_time": "2020-08-25T19:40:53.020924Z"
    }
   },
   "outputs": [],
   "source": [
    "# decision for vegetables vs seasonal fruits"
   ]
  },
  {
   "cell_type": "code",
   "execution_count": 65,
   "metadata": {
    "ExecuteTime": {
     "end_time": "2020-08-25T19:40:53.447393Z",
     "start_time": "2020-08-25T19:40:53.441409Z"
    }
   },
   "outputs": [],
   "source": [
    "def is_trans(x, thresh=85):\n",
    "    rmax = -1\n",
    "    trans = ''\n",
    "    for k in eng2marathi.keys():\n",
    "        if fuzz.ratio(k, x) > rmax:\n",
    "            rmax = fuzz.ratio(k, x)\n",
    "            trans = eng2marathi[k]\n",
    "\n",
    "    return rmax > thresh"
   ]
  },
  {
   "cell_type": "code",
   "execution_count": 66,
   "metadata": {
    "ExecuteTime": {
     "end_time": "2020-08-25T19:40:53.760432Z",
     "start_time": "2020-08-25T19:40:53.739458Z"
    }
   },
   "outputs": [],
   "source": [
    "translations = [is_trans(i) for i in all_items]"
   ]
  },
  {
   "cell_type": "code",
   "execution_count": 67,
   "metadata": {
    "ExecuteTime": {
     "end_time": "2020-08-25T19:40:54.045716Z",
     "start_time": "2020-08-25T19:40:54.040728Z"
    }
   },
   "outputs": [],
   "source": [
    "pipe_separated = sum(translations)/len(translations) < 0.4 # less than 40% translations are present"
   ]
  },
  {
   "cell_type": "code",
   "execution_count": 68,
   "metadata": {
    "ExecuteTime": {
     "end_time": "2020-08-25T19:40:54.408509Z",
     "start_time": "2020-08-25T19:40:54.403524Z"
    }
   },
   "outputs": [
    {
     "data": {
      "text/plain": [
       "False"
      ]
     },
     "execution_count": 68,
     "metadata": {},
     "output_type": "execute_result"
    }
   ],
   "source": [
    "pipe_separated"
   ]
  },
  {
   "cell_type": "markdown",
   "metadata": {},
   "source": [
    "## Sudeep"
   ]
  },
  {
   "cell_type": "code",
   "execution_count": 69,
   "metadata": {
    "ExecuteTime": {
     "end_time": "2020-08-25T19:40:55.476758Z",
     "start_time": "2020-08-25T19:40:55.471772Z"
    }
   },
   "outputs": [],
   "source": [
    "def get_pipe_separated(token):\n",
    "    order = orders_dict[token]['order']\n",
    "    s=[]\n",
    "    for k, v in order.items():\n",
    "        s.append(k + ': ' + str(int(v)))\n",
    "    \n",
    "    return ' | '.join(s)"
   ]
  },
  {
   "cell_type": "code",
   "execution_count": 70,
   "metadata": {
    "ExecuteTime": {
     "end_time": "2020-08-25T19:40:55.856380Z",
     "start_time": "2020-08-25T19:40:55.849397Z"
    }
   },
   "outputs": [],
   "source": [
    "rows_list_sudeep = []\n",
    "for token, o in orders_dict.items():\n",
    "    row_dct = {}\n",
    "    row_dct['token_no'] = token\n",
    "    row_dct['name'] = o['name']\n",
    "    row_dct['drop_point'] = o['drop_point']\n",
    "    row_dct['building'] = o['building']\n",
    "    row_dct['wing'] = o['wing']\n",
    "    row_dct['flat_no'] = o['flat_no']\n",
    "    row_dct['phone_no'] = o['phone_no']\n",
    "    row_dct['email'] = o['email']\n",
    "    \n",
    "    if pipe_separated: row_dct['items'] = get_pipe_separated(token)\n",
    "    else: row_dct['num_packets'] = get_sum_packets(token)\n",
    "    \n",
    "    row_dct['total_amount'] = o['total_amount']\n",
    "    row_dct['total_cp'] = o['total_cost_price']\n",
    "    row_dct['profit'] = o['profit']\n",
    "    \n",
    "    \n",
    "    rows_list_sudeep.append(row_dct)"
   ]
  },
  {
   "cell_type": "code",
   "execution_count": 71,
   "metadata": {
    "ExecuteTime": {
     "end_time": "2020-08-25T19:40:56.639358Z",
     "start_time": "2020-08-25T19:40:56.633375Z"
    }
   },
   "outputs": [],
   "source": [
    "df_print_sudeep = pd.DataFrame(rows_list_sudeep)"
   ]
  },
  {
   "cell_type": "code",
   "execution_count": 72,
   "metadata": {
    "ExecuteTime": {
     "end_time": "2020-08-25T19:40:56.874342Z",
     "start_time": "2020-08-25T19:40:56.855393Z"
    }
   },
   "outputs": [
    {
     "data": {
      "text/html": [
       "<div>\n",
       "<style scoped>\n",
       "    .dataframe tbody tr th:only-of-type {\n",
       "        vertical-align: middle;\n",
       "    }\n",
       "\n",
       "    .dataframe tbody tr th {\n",
       "        vertical-align: top;\n",
       "    }\n",
       "\n",
       "    .dataframe thead th {\n",
       "        text-align: right;\n",
       "    }\n",
       "</style>\n",
       "<table border=\"1\" class=\"dataframe\">\n",
       "  <thead>\n",
       "    <tr style=\"text-align: right;\">\n",
       "      <th></th>\n",
       "      <th>token_no</th>\n",
       "      <th>name</th>\n",
       "      <th>drop_point</th>\n",
       "      <th>building</th>\n",
       "      <th>wing</th>\n",
       "      <th>flat_no</th>\n",
       "      <th>phone_no</th>\n",
       "      <th>email</th>\n",
       "      <th>num_packets</th>\n",
       "      <th>total_amount</th>\n",
       "      <th>total_cp</th>\n",
       "      <th>profit</th>\n",
       "    </tr>\n",
       "  </thead>\n",
       "  <tbody>\n",
       "    <tr>\n",
       "      <th>0</th>\n",
       "      <td>1</td>\n",
       "      <td>Rashmita; Sundaram</td>\n",
       "      <td>Ajmera iLand</td>\n",
       "      <td>Aeon</td>\n",
       "      <td>A Wing</td>\n",
       "      <td>1202</td>\n",
       "      <td>9004913659</td>\n",
       "      <td>Rashmita.sundaram@gmail.com</td>\n",
       "      <td>11.0</td>\n",
       "      <td>257</td>\n",
       "      <td>143.0</td>\n",
       "      <td>114.0</td>\n",
       "    </tr>\n",
       "    <tr>\n",
       "      <th>1</th>\n",
       "      <td>2</td>\n",
       "      <td>Kumkum; Jain</td>\n",
       "      <td>Ajmera iLand</td>\n",
       "      <td>Aeon</td>\n",
       "      <td>A Wing</td>\n",
       "      <td>302</td>\n",
       "      <td>9930160637</td>\n",
       "      <td>Jainkmkm@gmail.com</td>\n",
       "      <td>20.0</td>\n",
       "      <td>635</td>\n",
       "      <td>378.0</td>\n",
       "      <td>257.0</td>\n",
       "    </tr>\n",
       "    <tr>\n",
       "      <th>2</th>\n",
       "      <td>3</td>\n",
       "      <td>Preety; Agarwal</td>\n",
       "      <td>Ajmera iLand</td>\n",
       "      <td>Aeon</td>\n",
       "      <td>B Wing</td>\n",
       "      <td>803</td>\n",
       "      <td>9921001132</td>\n",
       "      <td>preetyanil@yahoo.co.in</td>\n",
       "      <td>11.0</td>\n",
       "      <td>480</td>\n",
       "      <td>314.0</td>\n",
       "      <td>166.0</td>\n",
       "    </tr>\n",
       "    <tr>\n",
       "      <th>3</th>\n",
       "      <td>4</td>\n",
       "      <td>Madhavi; Ravuri</td>\n",
       "      <td>Ajmera iLand</td>\n",
       "      <td>Zeon</td>\n",
       "      <td>A Wing</td>\n",
       "      <td>803</td>\n",
       "      <td>9820157581</td>\n",
       "      <td>ravurimadhavi@ymail.com</td>\n",
       "      <td>21.0</td>\n",
       "      <td>778</td>\n",
       "      <td>484.0</td>\n",
       "      <td>294.0</td>\n",
       "    </tr>\n",
       "    <tr>\n",
       "      <th>4</th>\n",
       "      <td>5</td>\n",
       "      <td>Minakshi; Jaiswal</td>\n",
       "      <td>Ajmera iLand</td>\n",
       "      <td>Zeon</td>\n",
       "      <td>A Wing</td>\n",
       "      <td>604</td>\n",
       "      <td>9867041235</td>\n",
       "      <td>minakshi.jaiswal09@gmail.com</td>\n",
       "      <td>12.0</td>\n",
       "      <td>375</td>\n",
       "      <td>244.0</td>\n",
       "      <td>131.0</td>\n",
       "    </tr>\n",
       "  </tbody>\n",
       "</table>\n",
       "</div>"
      ],
      "text/plain": [
       "   token_no                name    drop_point building    wing flat_no  \\\n",
       "0         1  Rashmita; Sundaram  Ajmera iLand     Aeon  A Wing    1202   \n",
       "1         2        Kumkum; Jain  Ajmera iLand     Aeon  A Wing     302   \n",
       "2         3     Preety; Agarwal  Ajmera iLand     Aeon  B Wing     803   \n",
       "3         4     Madhavi; Ravuri  Ajmera iLand     Zeon  A Wing     803   \n",
       "4         5   Minakshi; Jaiswal  Ajmera iLand     Zeon  A Wing     604   \n",
       "\n",
       "     phone_no                         email  num_packets  total_amount  \\\n",
       "0  9004913659   Rashmita.sundaram@gmail.com         11.0           257   \n",
       "1  9930160637            Jainkmkm@gmail.com         20.0           635   \n",
       "2  9921001132        preetyanil@yahoo.co.in         11.0           480   \n",
       "3  9820157581       ravurimadhavi@ymail.com         21.0           778   \n",
       "4  9867041235  minakshi.jaiswal09@gmail.com         12.0           375   \n",
       "\n",
       "   total_cp  profit  \n",
       "0     143.0   114.0  \n",
       "1     378.0   257.0  \n",
       "2     314.0   166.0  \n",
       "3     484.0   294.0  \n",
       "4     244.0   131.0  "
      ]
     },
     "execution_count": 72,
     "metadata": {},
     "output_type": "execute_result"
    }
   ],
   "source": [
    "df_print_sudeep.head()"
   ]
  },
  {
   "cell_type": "code",
   "execution_count": 73,
   "metadata": {
    "ExecuteTime": {
     "end_time": "2020-08-25T19:40:57.090790Z",
     "start_time": "2020-08-25T19:40:57.084782Z"
    }
   },
   "outputs": [
    {
     "data": {
      "text/plain": [
       "WindowsPath('C:/Playground/bhaiya-orders/zoho-bhor-farms/outputs/27th Aug Vegetables Final')"
      ]
     },
     "execution_count": 73,
     "metadata": {},
     "output_type": "execute_result"
    }
   ],
   "source": [
    "save_pth"
   ]
  },
  {
   "cell_type": "code",
   "execution_count": 74,
   "metadata": {
    "ExecuteTime": {
     "end_time": "2020-08-25T19:40:57.845014Z",
     "start_time": "2020-08-25T19:40:57.839005Z"
    }
   },
   "outputs": [],
   "source": [
    "df_print_sudeep.to_csv(save_pth/'print-sudeep.csv', index=False)"
   ]
  },
  {
   "cell_type": "markdown",
   "metadata": {},
   "source": [
    "## Vishal"
   ]
  },
  {
   "cell_type": "code",
   "execution_count": 75,
   "metadata": {
    "ExecuteTime": {
     "end_time": "2020-08-25T19:40:58.736350Z",
     "start_time": "2020-08-25T19:40:58.729369Z"
    }
   },
   "outputs": [],
   "source": [
    "rows_list_vishal = []\n",
    "for token, o in orders_dict.items():\n",
    "    row_dct = {}\n",
    "    row_dct['token_no'] = token\n",
    "    row_dct['name'] = o['name']\n",
    "    row_dct['drop_point'] = o['drop_point']\n",
    "    row_dct['building'] = o['building']\n",
    "    row_dct['wing'] = o['wing']\n",
    "    row_dct['flat_no'] = o['flat_no']\n",
    "#     row_dct['phone_no'] = o['phone_no']\n",
    "#     row_dct['email'] = o['email']\n",
    "\n",
    "    if pipe_separated: row_dct['items'] = get_pipe_separated(token)\n",
    "    else: row_dct['num_packets'] = get_sum_packets(token)    \n",
    "    \n",
    "    if 'total_amount' in o.keys():\n",
    "        row_dct['total_amount'] = o['total_amount']\n",
    "    \n",
    "    rows_list_vishal.append(row_dct)"
   ]
  },
  {
   "cell_type": "code",
   "execution_count": 76,
   "metadata": {
    "ExecuteTime": {
     "end_time": "2020-08-25T19:40:58.953919Z",
     "start_time": "2020-08-25T19:40:58.945936Z"
    }
   },
   "outputs": [],
   "source": [
    "df_print_vishal = pd.DataFrame(rows_list_vishal)"
   ]
  },
  {
   "cell_type": "code",
   "execution_count": 77,
   "metadata": {
    "ExecuteTime": {
     "end_time": "2020-08-25T19:40:59.663369Z",
     "start_time": "2020-08-25T19:40:59.650404Z"
    }
   },
   "outputs": [
    {
     "data": {
      "text/html": [
       "<div>\n",
       "<style scoped>\n",
       "    .dataframe tbody tr th:only-of-type {\n",
       "        vertical-align: middle;\n",
       "    }\n",
       "\n",
       "    .dataframe tbody tr th {\n",
       "        vertical-align: top;\n",
       "    }\n",
       "\n",
       "    .dataframe thead th {\n",
       "        text-align: right;\n",
       "    }\n",
       "</style>\n",
       "<table border=\"1\" class=\"dataframe\">\n",
       "  <thead>\n",
       "    <tr style=\"text-align: right;\">\n",
       "      <th></th>\n",
       "      <th>token_no</th>\n",
       "      <th>name</th>\n",
       "      <th>drop_point</th>\n",
       "      <th>building</th>\n",
       "      <th>wing</th>\n",
       "      <th>flat_no</th>\n",
       "      <th>num_packets</th>\n",
       "      <th>total_amount</th>\n",
       "    </tr>\n",
       "  </thead>\n",
       "  <tbody>\n",
       "    <tr>\n",
       "      <th>0</th>\n",
       "      <td>1</td>\n",
       "      <td>Rashmita; Sundaram</td>\n",
       "      <td>Ajmera iLand</td>\n",
       "      <td>Aeon</td>\n",
       "      <td>A Wing</td>\n",
       "      <td>1202</td>\n",
       "      <td>11.0</td>\n",
       "      <td>257</td>\n",
       "    </tr>\n",
       "    <tr>\n",
       "      <th>1</th>\n",
       "      <td>2</td>\n",
       "      <td>Kumkum; Jain</td>\n",
       "      <td>Ajmera iLand</td>\n",
       "      <td>Aeon</td>\n",
       "      <td>A Wing</td>\n",
       "      <td>302</td>\n",
       "      <td>20.0</td>\n",
       "      <td>635</td>\n",
       "    </tr>\n",
       "    <tr>\n",
       "      <th>2</th>\n",
       "      <td>3</td>\n",
       "      <td>Preety; Agarwal</td>\n",
       "      <td>Ajmera iLand</td>\n",
       "      <td>Aeon</td>\n",
       "      <td>B Wing</td>\n",
       "      <td>803</td>\n",
       "      <td>11.0</td>\n",
       "      <td>480</td>\n",
       "    </tr>\n",
       "    <tr>\n",
       "      <th>3</th>\n",
       "      <td>4</td>\n",
       "      <td>Madhavi; Ravuri</td>\n",
       "      <td>Ajmera iLand</td>\n",
       "      <td>Zeon</td>\n",
       "      <td>A Wing</td>\n",
       "      <td>803</td>\n",
       "      <td>21.0</td>\n",
       "      <td>778</td>\n",
       "    </tr>\n",
       "    <tr>\n",
       "      <th>4</th>\n",
       "      <td>5</td>\n",
       "      <td>Minakshi; Jaiswal</td>\n",
       "      <td>Ajmera iLand</td>\n",
       "      <td>Zeon</td>\n",
       "      <td>A Wing</td>\n",
       "      <td>604</td>\n",
       "      <td>12.0</td>\n",
       "      <td>375</td>\n",
       "    </tr>\n",
       "  </tbody>\n",
       "</table>\n",
       "</div>"
      ],
      "text/plain": [
       "   token_no                name    drop_point building    wing flat_no  \\\n",
       "0         1  Rashmita; Sundaram  Ajmera iLand     Aeon  A Wing    1202   \n",
       "1         2        Kumkum; Jain  Ajmera iLand     Aeon  A Wing     302   \n",
       "2         3     Preety; Agarwal  Ajmera iLand     Aeon  B Wing     803   \n",
       "3         4     Madhavi; Ravuri  Ajmera iLand     Zeon  A Wing     803   \n",
       "4         5   Minakshi; Jaiswal  Ajmera iLand     Zeon  A Wing     604   \n",
       "\n",
       "   num_packets  total_amount  \n",
       "0         11.0           257  \n",
       "1         20.0           635  \n",
       "2         11.0           480  \n",
       "3         21.0           778  \n",
       "4         12.0           375  "
      ]
     },
     "execution_count": 77,
     "metadata": {},
     "output_type": "execute_result"
    }
   ],
   "source": [
    "df_print_vishal.head()"
   ]
  },
  {
   "cell_type": "code",
   "execution_count": 78,
   "metadata": {
    "ExecuteTime": {
     "end_time": "2020-08-25T19:41:00.555892Z",
     "start_time": "2020-08-25T19:41:00.547914Z"
    }
   },
   "outputs": [],
   "source": [
    "df_print_vishal.to_csv(save_pth/'print-vishal.csv', index=False)"
   ]
  },
  {
   "cell_type": "markdown",
   "metadata": {},
   "source": [
    "## Dropwise "
   ]
  },
  {
   "cell_type": "code",
   "execution_count": 79,
   "metadata": {
    "ExecuteTime": {
     "end_time": "2020-08-25T19:41:01.002115Z",
     "start_time": "2020-08-25T19:41:00.997130Z"
    }
   },
   "outputs": [],
   "source": [
    "drops = df_print_vishal.drop_point.unique()"
   ]
  },
  {
   "cell_type": "code",
   "execution_count": 80,
   "metadata": {
    "ExecuteTime": {
     "end_time": "2020-08-25T19:41:01.227028Z",
     "start_time": "2020-08-25T19:41:01.222040Z"
    }
   },
   "outputs": [],
   "source": [
    "# fname = save_pth/\"dropwise-phool.xlsx\"\n",
    "fname = save_pth/('dropwise-' + str(FILE.stem) + '.xlsx')"
   ]
  },
  {
   "cell_type": "code",
   "execution_count": 81,
   "metadata": {
    "ExecuteTime": {
     "end_time": "2020-08-25T19:41:01.981797Z",
     "start_time": "2020-08-25T19:41:01.867037Z"
    }
   },
   "outputs": [],
   "source": [
    "all_data = 0\n",
    "\n",
    "with pd.ExcelWriter(fname) as writer:\n",
    "    for drop in drops:\n",
    "        data = df_print_vishal[df_print_vishal.drop_point == drop]\n",
    "        all_data += len(data.index)\n",
    "\n",
    "        invalid_chars = '[]:*?/\\\\'\n",
    "        for c in invalid_chars: drop = drop.replace(c, '')\n",
    "        \n",
    "        data.to_excel(writer, sheet_name=drop, index=False)\n",
    "    \n",
    "assert all_data == len(df_print_vishal)"
   ]
  },
  {
   "cell_type": "markdown",
   "metadata": {},
   "source": [
    "## Tokens"
   ]
  },
  {
   "cell_type": "code",
   "execution_count": 82,
   "metadata": {
    "ExecuteTime": {
     "end_time": "2020-08-25T19:41:02.386364Z",
     "start_time": "2020-08-25T19:41:02.382376Z"
    }
   },
   "outputs": [],
   "source": [
    "subset_cols = ['name', 'token_no', 'building', 'wing', 'flat_no']"
   ]
  },
  {
   "cell_type": "code",
   "execution_count": 83,
   "metadata": {
    "ExecuteTime": {
     "end_time": "2020-08-25T19:41:03.019202Z",
     "start_time": "2020-08-25T19:41:03.012222Z"
    }
   },
   "outputs": [],
   "source": [
    "df_tokens = df_print_vishal[subset_cols]"
   ]
  },
  {
   "cell_type": "code",
   "execution_count": 84,
   "metadata": {
    "ExecuteTime": {
     "end_time": "2020-08-25T19:41:03.259055Z",
     "start_time": "2020-08-25T19:41:03.254069Z"
    }
   },
   "outputs": [],
   "source": [
    "drops = df_print_vishal.drop_point.unique()"
   ]
  },
  {
   "cell_type": "code",
   "execution_count": 85,
   "metadata": {
    "ExecuteTime": {
     "end_time": "2020-08-25T19:41:03.466118Z",
     "start_time": "2020-08-25T19:41:03.462130Z"
    }
   },
   "outputs": [],
   "source": [
    "# fname = save_pth/\"tokens-phool.xlsx\"\n",
    "fname = save_pth/('tokens-' + str(FILE.stem) + '.xlsx')"
   ]
  },
  {
   "cell_type": "code",
   "execution_count": 86,
   "metadata": {
    "ExecuteTime": {
     "end_time": "2020-08-25T19:41:04.160928Z",
     "start_time": "2020-08-25T19:41:04.046202Z"
    }
   },
   "outputs": [],
   "source": [
    "all_data = 0\n",
    "\n",
    "with pd.ExcelWriter(fname) as writer:\n",
    "    for drop in drops:\n",
    "        data = df_print_vishal[df_print_vishal.drop_point == drop]\n",
    "        all_data += len(data.index)\n",
    "        \n",
    "        invalid_chars = '[]:*?/\\\\'\n",
    "        for c in invalid_chars: drop = drop.replace(c, '')\n",
    "        \n",
    "        data.to_excel(writer, sheet_name=drop, columns=subset_cols, index=False)\n",
    "    \n",
    "assert all_data == len(df_print_vishal)"
   ]
  },
  {
   "cell_type": "markdown",
   "metadata": {},
   "source": [
    "# Dropwise Count"
   ]
  },
  {
   "cell_type": "code",
   "execution_count": 87,
   "metadata": {
    "ExecuteTime": {
     "end_time": "2020-08-25T19:41:05.054052Z",
     "start_time": "2020-08-25T19:41:05.046074Z"
    }
   },
   "outputs": [],
   "source": [
    "rows_list = []\n",
    "for token, order in orders_dict.items():\n",
    "    for item, count in order['order'].items():\n",
    "        row_dct = {}\n",
    "        row_dct['drop_point'] = order['drop_point']\n",
    "        row_dct['item_name'] = item\n",
    "        row_dct['num_packets'] = count\n",
    "        \n",
    "        rows_list.append(row_dct)"
   ]
  },
  {
   "cell_type": "code",
   "execution_count": 88,
   "metadata": {
    "ExecuteTime": {
     "end_time": "2020-08-25T19:41:05.316078Z",
     "start_time": "2020-08-25T19:41:05.310067Z"
    }
   },
   "outputs": [],
   "source": [
    "df_dropwise = pd.DataFrame(rows_list)"
   ]
  },
  {
   "cell_type": "code",
   "execution_count": 89,
   "metadata": {
    "ExecuteTime": {
     "end_time": "2020-08-25T19:41:05.582345Z",
     "start_time": "2020-08-25T19:41:05.568385Z"
    }
   },
   "outputs": [
    {
     "data": {
      "text/html": [
       "<div>\n",
       "<style scoped>\n",
       "    .dataframe tbody tr th:only-of-type {\n",
       "        vertical-align: middle;\n",
       "    }\n",
       "\n",
       "    .dataframe tbody tr th {\n",
       "        vertical-align: top;\n",
       "    }\n",
       "\n",
       "    .dataframe thead th {\n",
       "        text-align: right;\n",
       "    }\n",
       "</style>\n",
       "<table border=\"1\" class=\"dataframe\">\n",
       "  <thead>\n",
       "    <tr style=\"text-align: right;\">\n",
       "      <th></th>\n",
       "      <th>drop_point</th>\n",
       "      <th>item_name</th>\n",
       "      <th>num_packets</th>\n",
       "    </tr>\n",
       "  </thead>\n",
       "  <tbody>\n",
       "    <tr>\n",
       "      <th>0</th>\n",
       "      <td>Ajmera iLand</td>\n",
       "      <td>Bitter Gourd</td>\n",
       "      <td>2.0</td>\n",
       "    </tr>\n",
       "    <tr>\n",
       "      <th>1</th>\n",
       "      <td>Ajmera iLand</td>\n",
       "      <td>Ridge Gourd</td>\n",
       "      <td>1.0</td>\n",
       "    </tr>\n",
       "    <tr>\n",
       "      <th>2</th>\n",
       "      <td>Ajmera iLand</td>\n",
       "      <td>Drumsticks</td>\n",
       "      <td>1.0</td>\n",
       "    </tr>\n",
       "    <tr>\n",
       "      <th>3</th>\n",
       "      <td>Ajmera iLand</td>\n",
       "      <td>Banana</td>\n",
       "      <td>1.0</td>\n",
       "    </tr>\n",
       "    <tr>\n",
       "      <th>4</th>\n",
       "      <td>Ajmera iLand</td>\n",
       "      <td>Green Chilly</td>\n",
       "      <td>1.0</td>\n",
       "    </tr>\n",
       "    <tr>\n",
       "      <th>...</th>\n",
       "      <td>...</td>\n",
       "      <td>...</td>\n",
       "      <td>...</td>\n",
       "    </tr>\n",
       "    <tr>\n",
       "      <th>1107</th>\n",
       "      <td>Sector 1/2</td>\n",
       "      <td>French Beans</td>\n",
       "      <td>1.0</td>\n",
       "    </tr>\n",
       "    <tr>\n",
       "      <th>1108</th>\n",
       "      <td>Sector 1/2</td>\n",
       "      <td>Tomato</td>\n",
       "      <td>3.0</td>\n",
       "    </tr>\n",
       "    <tr>\n",
       "      <th>1109</th>\n",
       "      <td>Sector 1/2</td>\n",
       "      <td>Sweet Corn</td>\n",
       "      <td>2.0</td>\n",
       "    </tr>\n",
       "    <tr>\n",
       "      <th>1110</th>\n",
       "      <td>Sector 1/2</td>\n",
       "      <td>Lemons</td>\n",
       "      <td>1.0</td>\n",
       "    </tr>\n",
       "    <tr>\n",
       "      <th>1111</th>\n",
       "      <td>Sector 1/2</td>\n",
       "      <td>Carrots</td>\n",
       "      <td>2.0</td>\n",
       "    </tr>\n",
       "  </tbody>\n",
       "</table>\n",
       "<p>1112 rows × 3 columns</p>\n",
       "</div>"
      ],
      "text/plain": [
       "        drop_point     item_name  num_packets\n",
       "0     Ajmera iLand  Bitter Gourd          2.0\n",
       "1     Ajmera iLand   Ridge Gourd          1.0\n",
       "2     Ajmera iLand    Drumsticks          1.0\n",
       "3     Ajmera iLand        Banana          1.0\n",
       "4     Ajmera iLand  Green Chilly          1.0\n",
       "...            ...           ...          ...\n",
       "1107    Sector 1/2  French Beans          1.0\n",
       "1108    Sector 1/2        Tomato          3.0\n",
       "1109    Sector 1/2    Sweet Corn          2.0\n",
       "1110    Sector 1/2        Lemons          1.0\n",
       "1111    Sector 1/2       Carrots          2.0\n",
       "\n",
       "[1112 rows x 3 columns]"
      ]
     },
     "execution_count": 89,
     "metadata": {},
     "output_type": "execute_result"
    }
   ],
   "source": [
    "df_dropwise"
   ]
  },
  {
   "cell_type": "code",
   "execution_count": 90,
   "metadata": {
    "ExecuteTime": {
     "end_time": "2020-08-25T19:41:06.491741Z",
     "start_time": "2020-08-25T19:41:06.486756Z"
    }
   },
   "outputs": [],
   "source": [
    "fname = save_pth/('dropwisecount-' + str(FILE.stem) + '.csv')"
   ]
  },
  {
   "cell_type": "code",
   "execution_count": 91,
   "metadata": {
    "ExecuteTime": {
     "end_time": "2020-08-25T19:41:06.798816Z",
     "start_time": "2020-08-25T19:41:06.785824Z"
    }
   },
   "outputs": [],
   "source": [
    "df_dropwise.groupby(['drop_point', 'item_name']).sum().reset_index().to_csv(fname, index=False)"
   ]
  },
  {
   "cell_type": "markdown",
   "metadata": {},
   "source": [
    "# End"
   ]
  },
  {
   "cell_type": "markdown",
   "metadata": {
    "heading_collapsed": true
   },
   "source": [
    "## Manually Adding Orders"
   ]
  },
  {
   "cell_type": "code",
   "execution_count": 56,
   "metadata": {
    "ExecuteTime": {
     "end_time": "2020-08-21T17:25:20.254291Z",
     "start_time": "2020-08-21T17:25:20.245315Z"
    },
    "hidden": true
   },
   "outputs": [
    {
     "name": "stdout",
     "output_type": "stream",
     "text": [
      "Haar 1\n",
      "Haar 2\n",
      "Jhendu/Marigold\n",
      "Druva\n",
      "Tulsi\n",
      "Pack of 5 leaves\n",
      "Betelnut\n",
      "Banana Leaves with Stem\n",
      "Pack of 5 Fruits\n",
      "Assorted Flowers\n",
      "Hibiscus\n"
     ]
    }
   ],
   "source": [
    "for a in all_items: print(a)"
   ]
  },
  {
   "cell_type": "code",
   "execution_count": 57,
   "metadata": {
    "ExecuteTime": {
     "end_time": "2020-08-21T17:25:28.913018Z",
     "start_time": "2020-08-21T17:25:28.897063Z"
    },
    "hidden": true
   },
   "outputs": [],
   "source": [
    "new_orders = pd.read_csv('yelofile/additions.csv')"
   ]
  },
  {
   "cell_type": "code",
   "execution_count": 58,
   "metadata": {
    "ExecuteTime": {
     "end_time": "2020-08-21T17:25:32.642401Z",
     "start_time": "2020-08-21T17:25:32.637414Z"
    },
    "hidden": true
   },
   "outputs": [],
   "source": [
    "keys1 = ['name', 'drop_point', 'building', 'wing', 'flat_no', 'phone_no', 'email', 'delivery_date', 'total_amount', 'order']"
   ]
  },
  {
   "cell_type": "code",
   "execution_count": 59,
   "metadata": {
    "ExecuteTime": {
     "end_time": "2020-08-21T17:25:35.560779Z",
     "start_time": "2020-08-21T17:25:35.554534Z"
    },
    "hidden": true
   },
   "outputs": [],
   "source": [
    "new_orders.dropna(inplace=True)"
   ]
  },
  {
   "cell_type": "code",
   "execution_count": 60,
   "metadata": {
    "ExecuteTime": {
     "end_time": "2020-08-21T17:25:40.204523Z",
     "start_time": "2020-08-21T17:25:40.193549Z"
    },
    "hidden": true
   },
   "outputs": [
    {
     "data": {
      "text/html": [
       "<div>\n",
       "<style scoped>\n",
       "    .dataframe tbody tr th:only-of-type {\n",
       "        vertical-align: middle;\n",
       "    }\n",
       "\n",
       "    .dataframe tbody tr th {\n",
       "        vertical-align: top;\n",
       "    }\n",
       "\n",
       "    .dataframe thead th {\n",
       "        text-align: right;\n",
       "    }\n",
       "</style>\n",
       "<table border=\"1\" class=\"dataframe\">\n",
       "  <thead>\n",
       "    <tr style=\"text-align: right;\">\n",
       "      <th></th>\n",
       "      <th>index</th>\n",
       "      <th>Haar 1</th>\n",
       "      <th>Haar 2</th>\n",
       "      <th>Jhendu/Marigold</th>\n",
       "      <th>Rajnigandha</th>\n",
       "      <th>Druva</th>\n",
       "      <th>Tulsi</th>\n",
       "      <th>Pack of 5 leaves</th>\n",
       "      <th>Betelnut</th>\n",
       "      <th>Banana Leaves with Stem</th>\n",
       "      <th>Banana Leaves</th>\n",
       "      <th>Pack of 5 Fruits</th>\n",
       "      <th>Assorted Flowers</th>\n",
       "      <th>Hibiscus</th>\n",
       "    </tr>\n",
       "  </thead>\n",
       "  <tbody>\n",
       "  </tbody>\n",
       "</table>\n",
       "</div>"
      ],
      "text/plain": [
       "Empty DataFrame\n",
       "Columns: [index, Haar 1, Haar 2, Jhendu/Marigold, Rajnigandha, Druva, Tulsi, Pack of 5 leaves, Betelnut, Banana Leaves with Stem, Banana Leaves, Pack of 5 Fruits, Assorted Flowers, Hibiscus]\n",
       "Index: []"
      ]
     },
     "execution_count": 60,
     "metadata": {},
     "output_type": "execute_result"
    }
   ],
   "source": [
    "new_orders"
   ]
  },
  {
   "cell_type": "code",
   "execution_count": 133,
   "metadata": {
    "ExecuteTime": {
     "end_time": "2020-08-20T18:40:00.519896Z",
     "start_time": "2020-08-20T18:40:00.515906Z"
    },
    "hidden": true
   },
   "outputs": [],
   "source": [
    "to_append = new_orders.to_dict(orient='records')"
   ]
  },
  {
   "cell_type": "code",
   "execution_count": 134,
   "metadata": {
    "ExecuteTime": {
     "end_time": "2020-08-20T18:40:21.697350Z",
     "start_time": "2020-08-20T18:40:21.686407Z"
    },
    "hidden": true
   },
   "outputs": [],
   "source": [
    "orders_very_very_new = pd.read_csv('yelofile/additions.csv')\n",
    "orders_very_very_new.set_index('index', inplace=True)\n",
    "orders_very_very_new.fillna(0, inplace=True)"
   ]
  },
  {
   "cell_type": "code",
   "execution_count": 137,
   "metadata": {
    "ExecuteTime": {
     "end_time": "2020-08-20T18:41:03.646115Z",
     "start_time": "2020-08-20T18:41:03.643123Z"
    },
    "hidden": true
   },
   "outputs": [],
   "source": [
    "for i in to_append:\n",
    "    i['order'] = new_items[i['name']]"
   ]
  },
  {
   "cell_type": "code",
   "execution_count": 61,
   "metadata": {
    "ExecuteTime": {
     "end_time": "2020-08-21T17:26:56.635340Z",
     "start_time": "2020-08-21T17:26:56.611404Z"
    },
    "hidden": true
   },
   "outputs": [],
   "source": [
    "to_append = [{'name': 'Suchitra;Narale',\n",
    "  'drop_point': 'Cosmic',\n",
    "  'building': 'Cosmic Heights',\n",
    "  'wing': 'B Wing',\n",
    "  'flat_no': 2603.0,\n",
    "  'phone_no': 9833567340.0,\n",
    "  'email': 'suchitrahate@gmail.com',\n",
    "  'order': {'Haar 1': 1.0,\n",
    "   'Haar 2': 0.0,\n",
    "   'Jhendu/Marigold': 1.0,\n",
    "   'Rajnigandha': 0.0,\n",
    "   'Druva': 1.0,\n",
    "   'Tulsi': 0.0,\n",
    "   'Pack of 5 leaves': 0.0,\n",
    "   'Betelnut': 0.0,\n",
    "   'Banana Leaves with Stem': 0.0,\n",
    "   'Banana Leaves': 0.0,\n",
    "   'Pack of 5 Fruits': 1.0,\n",
    "   'Assorted Flowers': 1,\n",
    "   'Hibiscus': 0.0}},\n",
    " {'name': 'Ritu;Sharda',\n",
    "  'drop_point': 'Cosmic',\n",
    "  'building': 'Cosmic Heights',\n",
    "  'wing': 'B Wing',\n",
    "  'flat_no': 2101.0,\n",
    "  'phone_no': 9820844319.0,\n",
    "  'email': 'shardaritu@hotmail.com',\n",
    "  'order': {'Haar 1': 0.0,\n",
    "   'Haar 2': 0.0,\n",
    "   'Jhendu/Marigold': 2.0,\n",
    "   'Rajnigandha': 0.0,\n",
    "   'Druva': 1.0,\n",
    "   'Tulsi': 0.0,\n",
    "   'Pack of 5 leaves': 0.0,\n",
    "   'Betelnut': 1.0,\n",
    "   'Banana Leaves with Stem': 0.0,\n",
    "   'Banana Leaves': 1.0,\n",
    "   'Pack of 5 Fruits': 0.0,\n",
    "   'Assorted Flowers': 1,\n",
    "   'Hibiscus': 0.0}},\n",
    " {'name': 'Nisha;Narale',\n",
    "  'drop_point': 'Cosmic',\n",
    "  'building': 'Cosmic Heights',\n",
    "  'wing': 'A Wing',\n",
    "  'flat_no': 2505.0,\n",
    "  'phone_no': 9930390994.0,\n",
    "  'email': 'nishashetti@gmail.com',\n",
    "  'order': {'Haar 1': 1.0,\n",
    "   'Haar 2': 1.0,\n",
    "   'Jhendu/Marigold': 0.0,\n",
    "   'Rajnigandha': 0.0,\n",
    "   'Druva': 1.0,\n",
    "   'Tulsi': 1.0,\n",
    "   'Pack of 5 leaves': 0.0,\n",
    "   'Betelnut': 1.0,\n",
    "   'Banana Leaves with Stem': 0.0,\n",
    "   'Banana Leaves': 1.0,\n",
    "   'Pack of 5 Fruits': 2.0,\n",
    "   'Assorted Flowers': 3,\n",
    "   'Hibiscus': 1.0}},\n",
    " {'name': 'Padmaja;Kakkera',\n",
    "  'drop_point': 'Lodha NCP',\n",
    "  'building': 'Tower 4',\n",
    "  'wing': 'B Wing',\n",
    "  'flat_no': 202.0,\n",
    "  'phone_no': 9900065600.0,\n",
    "  'email': 'padmaja.kakkera@gmail.com',\n",
    "  'order': {'Haar 1': 0.0,\n",
    "   'Haar 2': 0.0,\n",
    "   'Jhendu/Marigold': 0.0,\n",
    "   'Rajnigandha': 0.0,\n",
    "   'Druva': 1.0,\n",
    "   'Tulsi': 1.0,\n",
    "   'Pack of 5 leaves': 1.0,\n",
    "   'Betelnut': 1.0,\n",
    "   'Banana Leaves with Stem': 0.0,\n",
    "   'Banana Leaves': 0.0,\n",
    "   'Pack of 5 Fruits': 1.0,\n",
    "   'Assorted Flowers': 1,\n",
    "   'Hibiscus': 1.0}},\n",
    " {'name': 'Shalini;Memani',\n",
    "  'drop_point': 'Lodha NCP',\n",
    "  'building': 'Tower 6',\n",
    "  'wing': 'A Wing',\n",
    "  'flat_no': 2503.0,\n",
    "  'phone_no': 9323134454.0,\n",
    "  'email': 'shalini_depura@yahoo.co.in',\n",
    "  'order': {'Haar 1': 2.0,\n",
    "   'Haar 2': 0.0,\n",
    "   'Jhendu/Marigold': 0.0,\n",
    "   'Rajnigandha': 0.0,\n",
    "   'Druva': 2.0,\n",
    "   'Tulsi': 0.0,\n",
    "   'Pack of 5 leaves': 0.0,\n",
    "   'Betelnut': 1.0,\n",
    "   'Banana Leaves with Stem': 0.0,\n",
    "   'Banana Leaves': 2.0,\n",
    "   'Pack of 5 Fruits': 0.0,\n",
    "   'Assorted Flowers': 1,\n",
    "   'Hibiscus': 3.0}},\n",
    " {'name': 'Ila Panchakshari',\n",
    "  'drop_point': 'Ivory',\n",
    "  'building': 'Himalayan Heights',\n",
    "  'wing': 'A Wing',\n",
    "  'flat_no': 1003.0,\n",
    "  'phone_no': 8286125928.0,\n",
    "  'email': 'ilahp78@gmail.com',\n",
    "  'order': {'Haar 1': 0.0,\n",
    "   'Haar 2': 0.0,\n",
    "   'Jhendu/Marigold': 0.0,\n",
    "   'Rajnigandha': 0.0,\n",
    "   'Druva': 5.0,\n",
    "   'Tulsi': 0.0,\n",
    "   'Pack of 5 leaves': 0.0,\n",
    "   'Betelnut': 1.0,\n",
    "   'Banana Leaves with Stem': 0.0,\n",
    "   'Banana Leaves': 0.0,\n",
    "   'Pack of 5 Fruits': 0.0,\n",
    "   'Assorted Flowers': 1,\n",
    "   'Hibiscus': 1.0}},\n",
    " {'name': 'Swati;Madhukar',\n",
    "  'drop_point': 'Lodha NCP',\n",
    "  'building': 'Tower 6',\n",
    "  'wing': 'A Wing',\n",
    "  'flat_no': 4002.0,\n",
    "  'phone_no': 9167853838.0,\n",
    "  'email': 'swati.chaudhary90@yahoo.com',\n",
    "  'order': {'Haar 1': 8.0,\n",
    "   'Haar 2': 2.0,\n",
    "   'Jhendu/Marigold': 0.0,\n",
    "   'Rajnigandha': 0.0,\n",
    "   'Druva': 0.0,\n",
    "   'Tulsi': 0.0,\n",
    "   'Pack of 5 leaves': 0.0,\n",
    "   'Betelnut': 5.0,\n",
    "   'Banana Leaves with Stem': 0.0,\n",
    "   'Banana Leaves': 0.0,\n",
    "   'Pack of 5 Fruits': 0.0,\n",
    "   'Assorted Flowers': 1,\n",
    "   'Hibiscus': 0.0}}]"
   ]
  },
  {
   "cell_type": "code",
   "execution_count": 68,
   "metadata": {
    "ExecuteTime": {
     "end_time": "2020-08-21T17:38:55.746640Z",
     "start_time": "2020-08-21T17:38:55.740656Z"
    },
    "hidden": true
   },
   "outputs": [],
   "source": [
    "new_orders_dict = {}\n",
    "i = 178\n",
    "\n",
    "for row in to_append:\n",
    "    dct = {}\n",
    "    dct['name'] = row['name']\n",
    "#     dct['drop_point'] = row['Select Drop Point']\n",
    "#     dct['building'] = row['building']\n",
    "#     dct['wing'] = row['Select Wing']\n",
    "#     dct['flat_no'] = row['Flat No']\n",
    "    dct['phone_no'] = row['phone_no']\n",
    "    dct['email'] = row['email']\n",
    "#     dct['delivery_date'] = row['Select Delivery Date']\n",
    "#     dct['total_amount'] = row['Total Amount']\n",
    "#     dct['total_amount'] = \n",
    "#     dct['payment_status'] = row['Payment Status']\n",
    "    dct['order'] = get_order(row)\n",
    "    dct['total_amount'] = get_total_amt(dct['order'])\n",
    "    \n",
    "    new_orders_dict[i] = dct\n",
    "    i+=1"
   ]
  },
  {
   "cell_type": "code",
   "execution_count": 70,
   "metadata": {
    "ExecuteTime": {
     "end_time": "2020-08-21T17:46:21.746635Z",
     "start_time": "2020-08-21T17:46:21.741647Z"
    },
    "hidden": true
   },
   "outputs": [
    {
     "data": {
      "text/plain": [
       "426"
      ]
     },
     "execution_count": 70,
     "metadata": {},
     "output_type": "execute_result"
    }
   ],
   "source": [
    "60+100+15+130+121"
   ]
  },
  {
   "cell_type": "code",
   "execution_count": 71,
   "metadata": {
    "ExecuteTime": {
     "end_time": "2020-08-21T17:46:53.801386Z",
     "start_time": "2020-08-21T17:46:53.796371Z"
    },
    "hidden": true
   },
   "outputs": [
    {
     "data": {
      "text/plain": [
       "876"
      ]
     },
     "execution_count": 71,
     "metadata": {},
     "output_type": "execute_result"
    }
   ],
   "source": [
    "480+200+25+50+121"
   ]
  },
  {
   "cell_type": "code",
   "execution_count": 73,
   "metadata": {
    "ExecuteTime": {
     "end_time": "2020-08-21T17:47:33.908986Z",
     "start_time": "2020-08-21T17:47:33.903004Z"
    },
    "hidden": true
   },
   "outputs": [
    {
     "data": {
      "text/plain": [
       "296"
      ]
     },
     "execution_count": 73,
     "metadata": {},
     "output_type": "execute_result"
    }
   ],
   "source": [
    "120+30+25+121"
   ]
  },
  {
   "cell_type": "code",
   "execution_count": 80,
   "metadata": {
    "ExecuteTime": {
     "end_time": "2020-08-21T17:56:45.536902Z",
     "start_time": "2020-08-21T17:56:45.530921Z"
    },
    "hidden": true
   },
   "outputs": [
    {
     "data": {
      "text/plain": [
       "{'Haar 1': {'packing_size': 1, 'unit': 1, 'sell_price': 60},\n",
       " 'Haar 2': {'packing_size': 1, 'unit': 1, 'sell_price': 100},\n",
       " 'Jhendu/Marigold': {'packing_size': 1, 'unit': 1, 'sell_price': 100},\n",
       " 'Druva': {'packing_size': 1, 'unit': 1, 'sell_price': 15},\n",
       " 'Tulsi': {'packing_size': 1, 'unit': 1, 'sell_price': 20},\n",
       " 'Pack of 5 leaves': {'packing_size': 1, 'unit': 1, 'sell_price': 25},\n",
       " 'Betelnut': {'packing_size': 1, 'unit': 1, 'sell_price': 25},\n",
       " 'Banana Leaves with Stem': {'packing_size': 1, 'unit': 1, 'sell_price': 100},\n",
       " 'Pack of 5 Fruits': {'packing_size': 1, 'unit': 1, 'sell_price': 130},\n",
       " 'Assorted Flowers': {'packing_size': 1, 'unit': 1, 'sell_price': 121},\n",
       " 'Hibiscus': {'packing_size': 1, 'unit': 1, 'sell_price': 20}}"
      ]
     },
     "execution_count": 80,
     "metadata": {},
     "output_type": "execute_result"
    }
   ],
   "source": [
    "items_dict"
   ]
  },
  {
   "cell_type": "code",
   "execution_count": null,
   "metadata": {
    "ExecuteTime": {
     "end_time": "2020-08-21T17:51:16.989784Z",
     "start_time": "2020-08-21T17:51:16.983799Z"
    },
    "hidden": true
   },
   "outputs": [],
   "source": []
  },
  {
   "cell_type": "code",
   "execution_count": null,
   "metadata": {
    "hidden": true
   },
   "outputs": [],
   "source": []
  },
  {
   "cell_type": "code",
   "execution_count": null,
   "metadata": {
    "hidden": true
   },
   "outputs": [],
   "source": []
  },
  {
   "cell_type": "code",
   "execution_count": null,
   "metadata": {
    "hidden": true
   },
   "outputs": [],
   "source": []
  },
  {
   "cell_type": "code",
   "execution_count": 138,
   "metadata": {
    "ExecuteTime": {
     "end_time": "2020-08-20T18:41:12.220702Z",
     "start_time": "2020-08-20T18:41:12.213597Z"
    },
    "hidden": true,
    "scrolled": false
   },
   "outputs": [
    {
     "data": {
      "text/plain": [
       "[{'name': 'Suchitra;Narale',\n",
       "  'drop_point': 'Cosmic',\n",
       "  'building': 'Cosmic Heights',\n",
       "  'wing': 'B Wing',\n",
       "  'flat_no': 2603.0,\n",
       "  'phone_no': 9833567340.0,\n",
       "  'email': 'suchitrahate@gmail.com',\n",
       "  'order': {'Haar 1': 1.0,\n",
       "   'Haar 2': 0.0,\n",
       "   'Jhendu/Marigold': 1.0,\n",
       "   'Rajnigandha': 0.0,\n",
       "   'Druva': 1.0,\n",
       "   'Tulsi': 0.0,\n",
       "   'Pack of 5 leaves': 0.0,\n",
       "   'Betelnut': 0.0,\n",
       "   'Banana Leaves with Stem': 0.0,\n",
       "   'Banana Leaves': 0.0,\n",
       "   'Pack of 5 Fruits': 1.0,\n",
       "   'Assorted Flowers': 1,\n",
       "   'Hibiscus': 0.0}},\n",
       " {'name': 'Ritu;Sharda',\n",
       "  'drop_point': 'Cosmic',\n",
       "  'building': 'Cosmic Heights',\n",
       "  'wing': 'B Wing',\n",
       "  'flat_no': 2101.0,\n",
       "  'phone_no': 9820844319.0,\n",
       "  'email': 'shardaritu@hotmail.com',\n",
       "  'order': {'Haar 1': 0.0,\n",
       "   'Haar 2': 0.0,\n",
       "   'Jhendu/Marigold': 2.0,\n",
       "   'Rajnigandha': 0.0,\n",
       "   'Druva': 1.0,\n",
       "   'Tulsi': 0.0,\n",
       "   'Pack of 5 leaves': 0.0,\n",
       "   'Betelnut': 1.0,\n",
       "   'Banana Leaves with Stem': 0.0,\n",
       "   'Banana Leaves': 1.0,\n",
       "   'Pack of 5 Fruits': 0.0,\n",
       "   'Assorted Flowers': 1,\n",
       "   'Hibiscus': 0.0}},\n",
       " {'name': 'Nisha;Narale',\n",
       "  'drop_point': 'Cosmic',\n",
       "  'building': 'Cosmic Heights',\n",
       "  'wing': 'A Wing',\n",
       "  'flat_no': 2505.0,\n",
       "  'phone_no': 9930390994.0,\n",
       "  'email': 'nishashetti@gmail.com',\n",
       "  'order': {'Haar 1': 1.0,\n",
       "   'Haar 2': 1.0,\n",
       "   'Jhendu/Marigold': 0.0,\n",
       "   'Rajnigandha': 0.0,\n",
       "   'Druva': 1.0,\n",
       "   'Tulsi': 1.0,\n",
       "   'Pack of 5 leaves': 0.0,\n",
       "   'Betelnut': 1.0,\n",
       "   'Banana Leaves with Stem': 0.0,\n",
       "   'Banana Leaves': 1.0,\n",
       "   'Pack of 5 Fruits': 2.0,\n",
       "   'Assorted Flowers': 3,\n",
       "   'Hibiscus': 1.0}},\n",
       " {'name': 'Padmaja;Kakkera',\n",
       "  'drop_point': 'Lodha NCP',\n",
       "  'building': 'Tower 4',\n",
       "  'wing': 'B Wing',\n",
       "  'flat_no': 202.0,\n",
       "  'phone_no': 9900065600.0,\n",
       "  'email': 'padmaja.kakkera@gmail.com',\n",
       "  'order': {'Haar 1': 0.0,\n",
       "   'Haar 2': 0.0,\n",
       "   'Jhendu/Marigold': 0.0,\n",
       "   'Rajnigandha': 0.0,\n",
       "   'Druva': 1.0,\n",
       "   'Tulsi': 1.0,\n",
       "   'Pack of 5 leaves': 1.0,\n",
       "   'Betelnut': 1.0,\n",
       "   'Banana Leaves with Stem': 0.0,\n",
       "   'Banana Leaves': 0.0,\n",
       "   'Pack of 5 Fruits': 1.0,\n",
       "   'Assorted Flowers': 1,\n",
       "   'Hibiscus': 1.0}},\n",
       " {'name': 'Shalini;Memani',\n",
       "  'drop_point': 'Lodha NCP',\n",
       "  'building': 'Tower 6',\n",
       "  'wing': 'A Wing',\n",
       "  'flat_no': 2503.0,\n",
       "  'phone_no': 9323134454.0,\n",
       "  'email': 'shalini_depura@yahoo.co.in',\n",
       "  'order': {'Haar 1': 2.0,\n",
       "   'Haar 2': 0.0,\n",
       "   'Jhendu/Marigold': 0.0,\n",
       "   'Rajnigandha': 0.0,\n",
       "   'Druva': 2.0,\n",
       "   'Tulsi': 0.0,\n",
       "   'Pack of 5 leaves': 0.0,\n",
       "   'Betelnut': 1.0,\n",
       "   'Banana Leaves with Stem': 0.0,\n",
       "   'Banana Leaves': 2.0,\n",
       "   'Pack of 5 Fruits': 0.0,\n",
       "   'Assorted Flowers': 1,\n",
       "   'Hibiscus': 3.0}},\n",
       " {'name': 'Ila Panchakshari',\n",
       "  'drop_point': 'Ivory',\n",
       "  'building': 'Himalayan Heights',\n",
       "  'wing': 'A Wing',\n",
       "  'flat_no': 1003.0,\n",
       "  'phone_no': 8286125928.0,\n",
       "  'email': 'ilahp78@gmail.com',\n",
       "  'order': {'Haar 1': 0.0,\n",
       "   'Haar 2': 0.0,\n",
       "   'Jhendu/Marigold': 0.0,\n",
       "   'Rajnigandha': 0.0,\n",
       "   'Druva': 5.0,\n",
       "   'Tulsi': 0.0,\n",
       "   'Pack of 5 leaves': 0.0,\n",
       "   'Betelnut': 1.0,\n",
       "   'Banana Leaves with Stem': 0.0,\n",
       "   'Banana Leaves': 0.0,\n",
       "   'Pack of 5 Fruits': 0.0,\n",
       "   'Assorted Flowers': 1,\n",
       "   'Hibiscus': 1.0}},\n",
       " {'name': 'Swati;Madhukar',\n",
       "  'drop_point': 'Lodha NCP',\n",
       "  'building': 'Tower 6',\n",
       "  'wing': 'A Wing',\n",
       "  'flat_no': 4002.0,\n",
       "  'phone_no': 9167853838.0,\n",
       "  'email': 'swati.chaudhary90@yahoo.com',\n",
       "  'order': {'Haar 1': 8.0,\n",
       "   'Haar 2': 2.0,\n",
       "   'Jhendu/Marigold': 0.0,\n",
       "   'Rajnigandha': 0.0,\n",
       "   'Druva': 0.0,\n",
       "   'Tulsi': 0.0,\n",
       "   'Pack of 5 leaves': 0.0,\n",
       "   'Betelnut': 5.0,\n",
       "   'Banana Leaves with Stem': 0.0,\n",
       "   'Banana Leaves': 0.0,\n",
       "   'Pack of 5 Fruits': 0.0,\n",
       "   'Assorted Flowers': 1,\n",
       "   'Hibiscus': 0.0}}]"
      ]
     },
     "execution_count": 138,
     "metadata": {},
     "output_type": "execute_result"
    }
   ],
   "source": [
    "to_append"
   ]
  },
  {
   "cell_type": "code",
   "execution_count": null,
   "metadata": {
    "hidden": true
   },
   "outputs": [],
   "source": [
    "for k in to_a"
   ]
  },
  {
   "cell_type": "code",
   "execution_count": null,
   "metadata": {
    "hidden": true
   },
   "outputs": [],
   "source": []
  },
  {
   "cell_type": "code",
   "execution_count": null,
   "metadata": {
    "hidden": true
   },
   "outputs": [],
   "source": []
  },
  {
   "cell_type": "code",
   "execution_count": null,
   "metadata": {
    "hidden": true
   },
   "outputs": [],
   "source": []
  },
  {
   "cell_type": "code",
   "execution_count": null,
   "metadata": {
    "hidden": true
   },
   "outputs": [],
   "source": []
  },
  {
   "cell_type": "code",
   "execution_count": 136,
   "metadata": {
    "ExecuteTime": {
     "end_time": "2020-08-20T18:40:52.067056Z",
     "start_time": "2020-08-20T18:40:52.062063Z"
    },
    "hidden": true
   },
   "outputs": [],
   "source": [
    "new_items = orders_very_very_new.to_dict(orient='index')"
   ]
  },
  {
   "cell_type": "code",
   "execution_count": 74,
   "metadata": {
    "ExecuteTime": {
     "end_time": "2020-08-20T17:52:45.418968Z",
     "start_time": "2020-08-20T17:52:45.415974Z"
    },
    "hidden": true
   },
   "outputs": [],
   "source": [
    "keys2 = ['Haar 2', 'Druva', 'Tulsi', 'Pack of 5 leaves', 'Betelnut', 'Banana Leaves with Stem', 'Banana Leaves', 'Pack of 5 Fruits', 'Assorted Flowers']"
   ]
  },
  {
   "cell_type": "code",
   "execution_count": 86,
   "metadata": {
    "ExecuteTime": {
     "end_time": "2020-08-20T18:11:49.955955Z",
     "start_time": "2020-08-20T18:11:49.948972Z"
    },
    "hidden": true
   },
   "outputs": [
    {
     "name": "stdout",
     "output_type": "stream",
     "text": [
      "Haar 2\n",
      "Druva\n",
      "Tulsi\n",
      "Pack of 5 leaves\n",
      "Betelnut\n",
      "Banana Leaves with Stem\n",
      "Banana Leaves\n",
      "Pack of 5 Fruits\n",
      "Assorted Flowers\n"
     ]
    }
   ],
   "source": [
    "for k in keys2:\n",
    "    print (k)"
   ]
  },
  {
   "cell_type": "code",
   "execution_count": null,
   "metadata": {
    "hidden": true
   },
   "outputs": [],
   "source": []
  },
  {
   "cell_type": "code",
   "execution_count": null,
   "metadata": {
    "hidden": true
   },
   "outputs": [],
   "source": []
  },
  {
   "cell_type": "code",
   "execution_count": null,
   "metadata": {
    "hidden": true
   },
   "outputs": [],
   "source": []
  },
  {
   "cell_type": "code",
   "execution_count": null,
   "metadata": {
    "hidden": true
   },
   "outputs": [],
   "source": []
  },
  {
   "cell_type": "code",
   "execution_count": null,
   "metadata": {
    "hidden": true
   },
   "outputs": [],
   "source": []
  },
  {
   "cell_type": "code",
   "execution_count": 66,
   "metadata": {
    "ExecuteTime": {
     "end_time": "2020-08-20T17:15:38.050300Z",
     "start_time": "2020-08-20T17:15:38.032343Z"
    },
    "hidden": true
   },
   "outputs": [
    {
     "data": {
      "text/html": [
       "<div>\n",
       "<style scoped>\n",
       "    .dataframe tbody tr th:only-of-type {\n",
       "        vertical-align: middle;\n",
       "    }\n",
       "\n",
       "    .dataframe tbody tr th {\n",
       "        vertical-align: top;\n",
       "    }\n",
       "\n",
       "    .dataframe thead th {\n",
       "        text-align: right;\n",
       "    }\n",
       "</style>\n",
       "<table border=\"1\" class=\"dataframe\">\n",
       "  <thead>\n",
       "    <tr style=\"text-align: right;\">\n",
       "      <th></th>\n",
       "      <th></th>\n",
       "      <th>num_packets</th>\n",
       "    </tr>\n",
       "    <tr>\n",
       "      <th>drop_point</th>\n",
       "      <th>item_name</th>\n",
       "      <th></th>\n",
       "    </tr>\n",
       "  </thead>\n",
       "  <tbody>\n",
       "    <tr>\n",
       "      <th rowspan=\"5\" valign=\"top\">Ajmera iLand</th>\n",
       "      <th>Assorted Flowers</th>\n",
       "      <td>12.0</td>\n",
       "    </tr>\n",
       "    <tr>\n",
       "      <th>Banana Leaves</th>\n",
       "      <td>6.0</td>\n",
       "    </tr>\n",
       "    <tr>\n",
       "      <th>Banana Leaves with Stem</th>\n",
       "      <td>6.0</td>\n",
       "    </tr>\n",
       "    <tr>\n",
       "      <th>Betelnut</th>\n",
       "      <td>7.0</td>\n",
       "    </tr>\n",
       "    <tr>\n",
       "      <th>Druva</th>\n",
       "      <td>20.0</td>\n",
       "    </tr>\n",
       "    <tr>\n",
       "      <th>...</th>\n",
       "      <th>...</th>\n",
       "      <td>...</td>\n",
       "    </tr>\n",
       "    <tr>\n",
       "      <th rowspan=\"5\" valign=\"top\">Sector 1/2</th>\n",
       "      <th>Jhendu/Marigold</th>\n",
       "      <td>7.0</td>\n",
       "    </tr>\n",
       "    <tr>\n",
       "      <th>Pack of 5 Fruits</th>\n",
       "      <td>10.0</td>\n",
       "    </tr>\n",
       "    <tr>\n",
       "      <th>Pack of 5 leaves</th>\n",
       "      <td>6.0</td>\n",
       "    </tr>\n",
       "    <tr>\n",
       "      <th>Rajnigandha</th>\n",
       "      <td>1.0</td>\n",
       "    </tr>\n",
       "    <tr>\n",
       "      <th>Tulsi</th>\n",
       "      <td>4.0</td>\n",
       "    </tr>\n",
       "  </tbody>\n",
       "</table>\n",
       "<p>62 rows × 1 columns</p>\n",
       "</div>"
      ],
      "text/plain": [
       "                                      num_packets\n",
       "drop_point   item_name                           \n",
       "Ajmera iLand Assorted Flowers                12.0\n",
       "             Banana Leaves                    6.0\n",
       "             Banana Leaves with Stem          6.0\n",
       "             Betelnut                         7.0\n",
       "             Druva                           20.0\n",
       "...                                           ...\n",
       "Sector 1/2   Jhendu/Marigold                  7.0\n",
       "             Pack of 5 Fruits                10.0\n",
       "             Pack of 5 leaves                 6.0\n",
       "             Rajnigandha                      1.0\n",
       "             Tulsi                            4.0\n",
       "\n",
       "[62 rows x 1 columns]"
      ]
     },
     "execution_count": 66,
     "metadata": {},
     "output_type": "execute_result"
    }
   ],
   "source": [
    "df_dropwise.groupby(['drop_point', 'item_name']).sum()"
   ]
  },
  {
   "cell_type": "code",
   "execution_count": 67,
   "metadata": {
    "ExecuteTime": {
     "end_time": "2020-08-20T17:15:59.368309Z",
     "start_time": "2020-08-20T17:15:59.356309Z"
    },
    "hidden": true
   },
   "outputs": [],
   "source": []
  },
  {
   "cell_type": "code",
   "execution_count": null,
   "metadata": {
    "hidden": true
   },
   "outputs": [],
   "source": []
  },
  {
   "cell_type": "code",
   "execution_count": null,
   "metadata": {
    "hidden": true
   },
   "outputs": [],
   "source": []
  },
  {
   "cell_type": "code",
   "execution_count": null,
   "metadata": {
    "hidden": true
   },
   "outputs": [],
   "source": []
  },
  {
   "cell_type": "code",
   "execution_count": null,
   "metadata": {
    "hidden": true
   },
   "outputs": [],
   "source": []
  },
  {
   "cell_type": "code",
   "execution_count": null,
   "metadata": {
    "hidden": true
   },
   "outputs": [],
   "source": []
  },
  {
   "cell_type": "code",
   "execution_count": 62,
   "metadata": {
    "ExecuteTime": {
     "end_time": "2020-08-21T17:27:48.469410Z",
     "start_time": "2020-08-21T17:27:48.465619Z"
    },
    "hidden": true
   },
   "outputs": [],
   "source": [
    "for token in range(178, 178+len(to_append)):\n",
    "    orders_dict[token] = to_append[178-token]"
   ]
  },
  {
   "cell_type": "code",
   "execution_count": null,
   "metadata": {
    "hidden": true
   },
   "outputs": [],
   "source": []
  }
 ],
 "metadata": {
  "kernelspec": {
   "display_name": "Python 3",
   "language": "python",
   "name": "python3"
  },
  "language_info": {
   "codemirror_mode": {
    "name": "ipython",
    "version": 3
   },
   "file_extension": ".py",
   "mimetype": "text/x-python",
   "name": "python",
   "nbconvert_exporter": "python",
   "pygments_lexer": "ipython3",
   "version": "3.6.9"
  },
  "toc": {
   "base_numbering": 1,
   "nav_menu": {},
   "number_sections": true,
   "sideBar": true,
   "skip_h1_title": false,
   "title_cell": "Table of Contents",
   "title_sidebar": "Contents",
   "toc_cell": false,
   "toc_position": {
    "height": "calc(100% - 180px)",
    "left": "10px",
    "top": "150px",
    "width": "380px"
   },
   "toc_section_display": true,
   "toc_window_display": true
  }
 },
 "nbformat": 4,
 "nbformat_minor": 2
}
