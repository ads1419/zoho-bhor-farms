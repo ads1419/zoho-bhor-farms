{
 "cells": [
  {
   "cell_type": "markdown",
   "metadata": {},
   "source": [
    "# Megamaster"
   ]
  },
  {
   "cell_type": "code",
   "execution_count": 1,
   "metadata": {
    "ExecuteTime": {
     "end_time": "2020-10-27T16:21:25.891147Z",
     "start_time": "2020-10-27T16:21:22.138963Z"
    }
   },
   "outputs": [],
   "source": [
    "import pandas as pd\n",
    "import re\n",
    "from pathlib import Path\n",
    "import os\n",
    "import numpy as np\n",
    "\n",
    "pd.set_option('display.max_columns', 500)"
   ]
  },
  {
   "cell_type": "code",
   "execution_count": 2,
   "metadata": {
    "ExecuteTime": {
     "end_time": "2020-10-27T16:21:26.309734Z",
     "start_time": "2020-10-27T16:21:25.896144Z"
    }
   },
   "outputs": [
    {
     "data": {
      "application/vnd.jupyter.widget-view+json": {
       "model_id": "1edd91dd00dd49caae5c67b1e3d45c54",
       "version_major": 2,
       "version_minor": 0
      },
      "text/plain": [
       "FileChooser(path='C:/Playground/bhaiya-orders/zoho-bhor-farms/inputs/', filename='', show_hidden='False')"
      ]
     },
     "metadata": {},
     "output_type": "display_data"
    }
   ],
   "source": [
    "from ipyfilechooser import FileChooser\n",
    "\n",
    "fc = FileChooser(\"C:/Playground/bhaiya-orders/zoho-bhor-farms/inputs/\")\n",
    "fc.use_dir_icons = True\n",
    "display(fc)"
   ]
  },
  {
   "cell_type": "code",
   "execution_count": 3,
   "metadata": {
    "ExecuteTime": {
     "end_time": "2020-10-27T16:21:57.120189Z",
     "start_time": "2020-10-27T16:21:57.108223Z"
    }
   },
   "outputs": [],
   "source": [
    "FILE = Path(fc.selected)"
   ]
  },
  {
   "cell_type": "code",
   "execution_count": 4,
   "metadata": {
    "ExecuteTime": {
     "end_time": "2020-10-27T16:21:58.648132Z",
     "start_time": "2020-10-27T16:21:58.627693Z"
    }
   },
   "outputs": [],
   "source": [
    "OUTPUT_DIR = Path(\"C:/Playground/bhaiya-orders/zoho-bhor-farms/outputs/\")\n",
    "\n",
    "save_pth = Path(OUTPUT_DIR/str(FILE.stem)); save_pth\n",
    "os.makedirs(save_pth, exist_ok=True)\n",
    "\n",
    "PDF_DIR = save_pth/'customerwise-pdfs'\n",
    "os.makedirs(PDF_DIR, exist_ok=True)"
   ]
  },
  {
   "cell_type": "code",
   "execution_count": 5,
   "metadata": {
    "ExecuteTime": {
     "end_time": "2020-10-27T16:21:59.621695Z",
     "start_time": "2020-10-27T16:21:59.604664Z"
    }
   },
   "outputs": [],
   "source": [
    "# items2subset = ['Gawar/Cluster Beans', 'Mint Leaves', 'Sponge Gourd',  'Tondli', 'VNR Guava', ]\n",
    "items2subset = None\n",
    "STATUSES2PROCESS = ['Completed', 'Network Error']"
   ]
  },
  {
   "cell_type": "code",
   "execution_count": 6,
   "metadata": {
    "ExecuteTime": {
     "end_time": "2020-10-27T16:22:01.181865Z",
     "start_time": "2020-10-27T16:22:00.721368Z"
    }
   },
   "outputs": [],
   "source": [
    "try:\n",
    "    if 'csv' in FILE.suffix: df = pd.read_csv(FILE)\n",
    "    else: \n",
    "        df = pd.read_excel(FILE)\n",
    "        if len(pd.ExcelFile(FILE).sheet_names) > 1:\n",
    "            print(\"WARNING: MORE THAN ONE SHEETS PRESENT IN FILE\")\n",
    "            \n",
    "except OSError:\n",
    "    print(\"Error occured, invalid file!\")"
   ]
  },
  {
   "cell_type": "code",
   "execution_count": 7,
   "metadata": {
    "ExecuteTime": {
     "end_time": "2020-10-27T16:22:01.926769Z",
     "start_time": "2020-10-27T16:22:01.635322Z"
    }
   },
   "outputs": [
    {
     "data": {
      "text/html": [
       "<div>\n",
       "<style scoped>\n",
       "    .dataframe tbody tr th:only-of-type {\n",
       "        vertical-align: middle;\n",
       "    }\n",
       "\n",
       "    .dataframe tbody tr th {\n",
       "        vertical-align: top;\n",
       "    }\n",
       "\n",
       "    .dataframe thead th {\n",
       "        text-align: right;\n",
       "    }\n",
       "</style>\n",
       "<table border=\"1\" class=\"dataframe\">\n",
       "  <thead>\n",
       "    <tr style=\"text-align: right;\">\n",
       "      <th></th>\n",
       "      <th>Name</th>\n",
       "      <th>Select Drop Point</th>\n",
       "      <th>Enter Building Dosti</th>\n",
       "      <th>Select Building Ivory</th>\n",
       "      <th>Select Building Wellness Forever</th>\n",
       "      <th>Select Building NCP</th>\n",
       "      <th>Select Building Ajmera iLand</th>\n",
       "      <th>Select Building Sector 1/2</th>\n",
       "      <th>Select Building Cosmic</th>\n",
       "      <th>Select Building R2</th>\n",
       "      <th>Select Building R12</th>\n",
       "      <th>Select Building R1</th>\n",
       "      <th>Select Wing</th>\n",
       "      <th>Flat No</th>\n",
       "      <th>Phone</th>\n",
       "      <th>Email</th>\n",
       "      <th>Select Delivery Date</th>\n",
       "      <th>Opt in for Doorstep Delivery @ Rs 25</th>\n",
       "      <th>Potatoes</th>\n",
       "      <th>Potatoes Price</th>\n",
       "      <th>Select Quantity of Potatoes</th>\n",
       "      <th>Red Onions</th>\n",
       "      <th>Red Onions Price</th>\n",
       "      <th>Select Quantity of Red Onions</th>\n",
       "      <th>Cauliflower</th>\n",
       "      <th>Cauliflower Price</th>\n",
       "      <th>Select Quantity of Cauliflower</th>\n",
       "      <th>Cabbage</th>\n",
       "      <th>Cabbage Price</th>\n",
       "      <th>Select Quantity of Cabbage</th>\n",
       "      <th>Brinjal Bharta</th>\n",
       "      <th>Brinjal Bharta Price</th>\n",
       "      <th>Select Quantity of Brinjal Bharta</th>\n",
       "      <th>Pumpkin</th>\n",
       "      <th>Pumpkin Price</th>\n",
       "      <th>Select Quantity of Pumpkin</th>\n",
       "      <th>Brinjal Kateri</th>\n",
       "      <th>Brinjal Kateri Price</th>\n",
       "      <th>Select Quantity of Brinjal Kateri</th>\n",
       "      <th>Cucumber</th>\n",
       "      <th>Cucumber Price</th>\n",
       "      <th>Select Quantity of Cucumber</th>\n",
       "      <th>Bhindi/Lady's Finger</th>\n",
       "      <th>Bhindi/Lady's Finger Price</th>\n",
       "      <th>Select Quantity of Bhindi/Lady's Finger</th>\n",
       "      <th>Bitter Gourd</th>\n",
       "      <th>Bitter Gourd Price</th>\n",
       "      <th>Select Quantity of Bitter Gourd</th>\n",
       "      <th>Ridge Gourd</th>\n",
       "      <th>Ridge Gourd Price</th>\n",
       "      <th>Select Quantity of Ridge Gourd</th>\n",
       "      <th>Beetroot</th>\n",
       "      <th>Beetroot Price</th>\n",
       "      <th>Select Quantity of Beetroot</th>\n",
       "      <th>Button Mushrooms</th>\n",
       "      <th>Button Mushroom Price</th>\n",
       "      <th>Select Quantity of Button Mushroom</th>\n",
       "      <th>Bottle Gourd</th>\n",
       "      <th>Bottle Gourd Price</th>\n",
       "      <th>Select Quantity of Bottle Gourd</th>\n",
       "      <th>Drumsticks</th>\n",
       "      <th>Drumsticks Price</th>\n",
       "      <th>Select Quantity of Drumsticks</th>\n",
       "      <th>Capsicum</th>\n",
       "      <th>Capsicum Price</th>\n",
       "      <th>Select Quantity of Capsicum</th>\n",
       "      <th>Gawar/Cluster Beans</th>\n",
       "      <th>Gawar/Cluster Beans Price</th>\n",
       "      <th>Select Quantity of Gawar/Cluster Beans</th>\n",
       "      <th>French Beans</th>\n",
       "      <th>French Beans Price</th>\n",
       "      <th>Select Quantity of French Beans</th>\n",
       "      <th>Tomato</th>\n",
       "      <th>Tomato Price</th>\n",
       "      <th>Select Quantity of Tomato</th>\n",
       "      <th>Sweet Corn</th>\n",
       "      <th>Sweet Corn Price</th>\n",
       "      <th>Select Quantity of Sweet Corn</th>\n",
       "      <th>Broccoli</th>\n",
       "      <th>Broccoli Price</th>\n",
       "      <th>Select Quantity of Broccoli</th>\n",
       "      <th>Lettuce</th>\n",
       "      <th>Lettuce Price</th>\n",
       "      <th>Select Quantity of Lettuce</th>\n",
       "      <th>Kiwi Zespri Imported</th>\n",
       "      <th>Kiwi Zespri Imported Price</th>\n",
       "      <th>Select Quantity of Kiwi Zespri Imported</th>\n",
       "      <th>Banana Regular</th>\n",
       "      <th>Banana Price</th>\n",
       "      <th>Select Quantity of Banana</th>\n",
       "      <th>Garlic</th>\n",
       "      <th>Garlic Price</th>\n",
       "      <th>Select Quantity of Garlic</th>\n",
       "      <th>Ginger</th>\n",
       "      <th>Ginger Price</th>\n",
       "      <th>Select Quantity of Ginger</th>\n",
       "      <th>Green Chilly</th>\n",
       "      <th>Green Chilly Price</th>\n",
       "      <th>Select Quantity of Green Chilly</th>\n",
       "      <th>Lemons</th>\n",
       "      <th>Lemons Price</th>\n",
       "      <th>Select Quantity of Lemons</th>\n",
       "      <th>Curry Leaves</th>\n",
       "      <th>Curry Leaves Price</th>\n",
       "      <th>Select Quantity of Curry Leaves</th>\n",
       "      <th>Coriander Leaves</th>\n",
       "      <th>Coriander Leaves Price</th>\n",
       "      <th>Select Quantity of Coriander Leaves</th>\n",
       "      <th>Mint Leaves</th>\n",
       "      <th>Mint Leaves Price</th>\n",
       "      <th>Select Quantity of Mint Leaves</th>\n",
       "      <th>Palak/Spinach</th>\n",
       "      <th>Palak/Spinach Price</th>\n",
       "      <th>Select Quantity of Palak/Spinach</th>\n",
       "      <th>Shepu/Dill Leaves</th>\n",
       "      <th>Shepu/Dill Leaves Price</th>\n",
       "      <th>Select Quantity of Shepu/Dill Leaves</th>\n",
       "      <th>Methi Leaves</th>\n",
       "      <th>Methi Leaves Price</th>\n",
       "      <th>Select Quantity of Methi Leaves</th>\n",
       "      <th>Red/Yellow Bell Peppers</th>\n",
       "      <th>Red/Yellow Bell Peppers Price</th>\n",
       "      <th>Select Quantity of Red/Yellow Bell Peppers</th>\n",
       "      <th>Carrots</th>\n",
       "      <th>Carrots Price</th>\n",
       "      <th>Select Quantity of Carrots</th>\n",
       "      <th>Radish/Muli</th>\n",
       "      <th>Radish/Muli Price</th>\n",
       "      <th>Select Quantity of Radish/Muli</th>\n",
       "      <th>Green Peas</th>\n",
       "      <th>Green Peas Price</th>\n",
       "      <th>Select Quantity of Green Peas</th>\n",
       "      <th>Lal Math/Amaranthus Leaves</th>\n",
       "      <th>Lal Math/Amaranthus Price</th>\n",
       "      <th>Select Quantity of Lal Math/Amaranthus</th>\n",
       "      <th>Arbi Leaves</th>\n",
       "      <th>Arbi Leaves Price</th>\n",
       "      <th>Select Quantity of Arbi Leaves</th>\n",
       "      <th>Arbi/Colocasia</th>\n",
       "      <th>Arbi/Colocasia Price</th>\n",
       "      <th>Select Quantity of Arbi/Colocasia</th>\n",
       "      <th>Babycorn</th>\n",
       "      <th>Babycorn Price</th>\n",
       "      <th>Select Quantity of Babycorn</th>\n",
       "      <th>Raw Banana</th>\n",
       "      <th>Raw Banana Price</th>\n",
       "      <th>Select Quantity of Raw Banana</th>\n",
       "      <th>Lemongrass</th>\n",
       "      <th>Lemongrass Price</th>\n",
       "      <th>Select Quantity of Lemongrass</th>\n",
       "      <th>Sponge Gourd</th>\n",
       "      <th>Sponge Gourd Price</th>\n",
       "      <th>Select Quantity of Sponge Gourd</th>\n",
       "      <th>Peeled Garlic</th>\n",
       "      <th>Peeled Garlic Price</th>\n",
       "      <th>Select Quantity of Peeled Garlic</th>\n",
       "      <th>Green Zucchini</th>\n",
       "      <th>Green Zucchini Price</th>\n",
       "      <th>Select Quantity of Green Zucchini</th>\n",
       "      <th>Yellow Zucchini</th>\n",
       "      <th>Yellow Zucchini Price</th>\n",
       "      <th>Select Quantity of Yellow Zucchini</th>\n",
       "      <th>Indian Avacado</th>\n",
       "      <th>Indian Avacado Price</th>\n",
       "      <th>Select Quantity of Indian Avacado</th>\n",
       "      <th>Apple Ber</th>\n",
       "      <th>Apple Ber Price</th>\n",
       "      <th>Select Quantity of Apple Ber</th>\n",
       "      <th>Papaya</th>\n",
       "      <th>Papaya Price</th>\n",
       "      <th>Select Quantity of Papaya</th>\n",
       "      <th>Jaggery</th>\n",
       "      <th>Jaggery Price</th>\n",
       "      <th>Select Quantity of Jaggery</th>\n",
       "      <th>Desi Peru</th>\n",
       "      <th>Desi Peru Price</th>\n",
       "      <th>Select Quantity of Desi Peru</th>\n",
       "      <th>Basil Leaves</th>\n",
       "      <th>Basil Leaves Price</th>\n",
       "      <th>Select Quantity of Basil Leaves</th>\n",
       "      <th>Total Amount</th>\n",
       "      <th>Payment Amount</th>\n",
       "      <th>Payment Status</th>\n",
       "      <th>Payment Currency</th>\n",
       "      <th>Added Time</th>\n",
       "      <th>CRM Status</th>\n",
       "      <th>Referrer Name</th>\n",
       "      <th>Task Owner</th>\n",
       "    </tr>\n",
       "  </thead>\n",
       "  <tbody>\n",
       "    <tr>\n",
       "      <th>0</th>\n",
       "      <td>Nisha; Jain</td>\n",
       "      <td>R2</td>\n",
       "      <td>NaN</td>\n",
       "      <td>NaN</td>\n",
       "      <td>NaN</td>\n",
       "      <td>NaN</td>\n",
       "      <td>NaN</td>\n",
       "      <td>NaN</td>\n",
       "      <td>NaN</td>\n",
       "      <td>Zinnia</td>\n",
       "      <td>NaN</td>\n",
       "      <td>NaN</td>\n",
       "      <td>NaN</td>\n",
       "      <td>902</td>\n",
       "      <td>9167306223</td>\n",
       "      <td>Prof.dr.nisha@gmail.com</td>\n",
       "      <td>Thu Oct 29th</td>\n",
       "      <td>NaN</td>\n",
       "      <td>NaN</td>\n",
       "      <td>46</td>\n",
       "      <td>NaN</td>\n",
       "      <td>NaN</td>\n",
       "      <td>82</td>\n",
       "      <td>1.0</td>\n",
       "      <td>NaN</td>\n",
       "      <td>48</td>\n",
       "      <td>1.0</td>\n",
       "      <td>NaN</td>\n",
       "      <td>42</td>\n",
       "      <td>NaN</td>\n",
       "      <td>NaN</td>\n",
       "      <td>45</td>\n",
       "      <td>NaN</td>\n",
       "      <td>NaN</td>\n",
       "      <td>22</td>\n",
       "      <td>1.0</td>\n",
       "      <td>NaN</td>\n",
       "      <td>37</td>\n",
       "      <td>NaN</td>\n",
       "      <td>NaN</td>\n",
       "      <td>25</td>\n",
       "      <td>1.0</td>\n",
       "      <td>NaN</td>\n",
       "      <td>40</td>\n",
       "      <td>1.0</td>\n",
       "      <td>NaN</td>\n",
       "      <td>25</td>\n",
       "      <td>NaN</td>\n",
       "      <td>NaN</td>\n",
       "      <td>45</td>\n",
       "      <td>1.0</td>\n",
       "      <td>NaN</td>\n",
       "      <td>33</td>\n",
       "      <td>NaN</td>\n",
       "      <td>NaN</td>\n",
       "      <td>55</td>\n",
       "      <td>NaN</td>\n",
       "      <td>NaN</td>\n",
       "      <td>30</td>\n",
       "      <td>NaN</td>\n",
       "      <td>NaN</td>\n",
       "      <td>40</td>\n",
       "      <td>NaN</td>\n",
       "      <td>NaN</td>\n",
       "      <td>45</td>\n",
       "      <td>NaN</td>\n",
       "      <td>NaN</td>\n",
       "      <td>35</td>\n",
       "      <td>NaN</td>\n",
       "      <td>NaN</td>\n",
       "      <td>58</td>\n",
       "      <td>NaN</td>\n",
       "      <td>NaN</td>\n",
       "      <td>40</td>\n",
       "      <td>NaN</td>\n",
       "      <td>NaN</td>\n",
       "      <td>33</td>\n",
       "      <td>NaN</td>\n",
       "      <td>NaN</td>\n",
       "      <td>75</td>\n",
       "      <td>NaN</td>\n",
       "      <td>NaN</td>\n",
       "      <td>75</td>\n",
       "      <td>NaN</td>\n",
       "      <td>NaN</td>\n",
       "      <td>95</td>\n",
       "      <td>NaN</td>\n",
       "      <td>NaN</td>\n",
       "      <td>22</td>\n",
       "      <td>NaN</td>\n",
       "      <td>NaN</td>\n",
       "      <td>50</td>\n",
       "      <td>NaN</td>\n",
       "      <td>NaN</td>\n",
       "      <td>32</td>\n",
       "      <td>NaN</td>\n",
       "      <td>NaN</td>\n",
       "      <td>20</td>\n",
       "      <td>NaN</td>\n",
       "      <td>NaN</td>\n",
       "      <td>15</td>\n",
       "      <td>NaN</td>\n",
       "      <td>NaN</td>\n",
       "      <td>0</td>\n",
       "      <td>1.0</td>\n",
       "      <td>NaN</td>\n",
       "      <td>35</td>\n",
       "      <td>NaN</td>\n",
       "      <td>NaN</td>\n",
       "      <td>10</td>\n",
       "      <td>NaN</td>\n",
       "      <td>NaN</td>\n",
       "      <td>35</td>\n",
       "      <td>NaN</td>\n",
       "      <td>NaN</td>\n",
       "      <td>25</td>\n",
       "      <td>NaN</td>\n",
       "      <td>NaN</td>\n",
       "      <td>38</td>\n",
       "      <td>NaN</td>\n",
       "      <td>NaN</td>\n",
       "      <td>115</td>\n",
       "      <td>NaN</td>\n",
       "      <td>NaN</td>\n",
       "      <td>30</td>\n",
       "      <td>NaN</td>\n",
       "      <td>NaN</td>\n",
       "      <td>24</td>\n",
       "      <td>NaN</td>\n",
       "      <td>NaN</td>\n",
       "      <td>70</td>\n",
       "      <td>NaN</td>\n",
       "      <td>NaN</td>\n",
       "      <td>30</td>\n",
       "      <td>NaN</td>\n",
       "      <td>NaN</td>\n",
       "      <td>20</td>\n",
       "      <td>NaN</td>\n",
       "      <td>NaN</td>\n",
       "      <td>37</td>\n",
       "      <td>NaN</td>\n",
       "      <td>NaN</td>\n",
       "      <td>50</td>\n",
       "      <td>NaN</td>\n",
       "      <td>NaN</td>\n",
       "      <td>25</td>\n",
       "      <td>NaN</td>\n",
       "      <td>NaN</td>\n",
       "      <td>10</td>\n",
       "      <td>NaN</td>\n",
       "      <td>NaN</td>\n",
       "      <td>38</td>\n",
       "      <td>NaN</td>\n",
       "      <td>NaN</td>\n",
       "      <td>30</td>\n",
       "      <td>NaN</td>\n",
       "      <td>NaN</td>\n",
       "      <td>90</td>\n",
       "      <td>NaN</td>\n",
       "      <td>NaN</td>\n",
       "      <td>90</td>\n",
       "      <td>NaN</td>\n",
       "      <td>NaN</td>\n",
       "      <td>145</td>\n",
       "      <td>NaN</td>\n",
       "      <td>NaN</td>\n",
       "      <td>60</td>\n",
       "      <td>NaN</td>\n",
       "      <td>NaN</td>\n",
       "      <td>55</td>\n",
       "      <td>NaN</td>\n",
       "      <td>NaN</td>\n",
       "      <td>110</td>\n",
       "      <td>NaN</td>\n",
       "      <td>NaN</td>\n",
       "      <td>80</td>\n",
       "      <td>NaN</td>\n",
       "      <td>NaN</td>\n",
       "      <td>30</td>\n",
       "      <td>NaN</td>\n",
       "      <td>262</td>\n",
       "      <td>262</td>\n",
       "      <td>Completed</td>\n",
       "      <td>INR</td>\n",
       "      <td>2020-10-27 19:20:00</td>\n",
       "      <td>New Record  -  Record added</td>\n",
       "      <td>NaN</td>\n",
       "      <td>sudeep@systematiq.in</td>\n",
       "    </tr>\n",
       "    <tr>\n",
       "      <th>1</th>\n",
       "      <td>Anju; Sharma</td>\n",
       "      <td>R1</td>\n",
       "      <td>NaN</td>\n",
       "      <td>NaN</td>\n",
       "      <td>NaN</td>\n",
       "      <td>NaN</td>\n",
       "      <td>NaN</td>\n",
       "      <td>NaN</td>\n",
       "      <td>NaN</td>\n",
       "      <td>NaN</td>\n",
       "      <td>NaN</td>\n",
       "      <td>Magnolia</td>\n",
       "      <td>D Wing</td>\n",
       "      <td>701</td>\n",
       "      <td>9820614040</td>\n",
       "      <td>ghlpowai@gmail.com</td>\n",
       "      <td>Thu Oct 29th</td>\n",
       "      <td>NaN</td>\n",
       "      <td>NaN</td>\n",
       "      <td>46</td>\n",
       "      <td>2.0</td>\n",
       "      <td>NaN</td>\n",
       "      <td>82</td>\n",
       "      <td>5.0</td>\n",
       "      <td>NaN</td>\n",
       "      <td>48</td>\n",
       "      <td>1.0</td>\n",
       "      <td>NaN</td>\n",
       "      <td>42</td>\n",
       "      <td>1.0</td>\n",
       "      <td>NaN</td>\n",
       "      <td>45</td>\n",
       "      <td>NaN</td>\n",
       "      <td>NaN</td>\n",
       "      <td>22</td>\n",
       "      <td>1.0</td>\n",
       "      <td>NaN</td>\n",
       "      <td>37</td>\n",
       "      <td>NaN</td>\n",
       "      <td>NaN</td>\n",
       "      <td>25</td>\n",
       "      <td>2.0</td>\n",
       "      <td>NaN</td>\n",
       "      <td>40</td>\n",
       "      <td>NaN</td>\n",
       "      <td>NaN</td>\n",
       "      <td>25</td>\n",
       "      <td>NaN</td>\n",
       "      <td>NaN</td>\n",
       "      <td>45</td>\n",
       "      <td>NaN</td>\n",
       "      <td>NaN</td>\n",
       "      <td>33</td>\n",
       "      <td>2.0</td>\n",
       "      <td>NaN</td>\n",
       "      <td>55</td>\n",
       "      <td>NaN</td>\n",
       "      <td>NaN</td>\n",
       "      <td>30</td>\n",
       "      <td>3.0</td>\n",
       "      <td>NaN</td>\n",
       "      <td>40</td>\n",
       "      <td>NaN</td>\n",
       "      <td>NaN</td>\n",
       "      <td>45</td>\n",
       "      <td>NaN</td>\n",
       "      <td>NaN</td>\n",
       "      <td>35</td>\n",
       "      <td>NaN</td>\n",
       "      <td>NaN</td>\n",
       "      <td>58</td>\n",
       "      <td>NaN</td>\n",
       "      <td>NaN</td>\n",
       "      <td>40</td>\n",
       "      <td>3.0</td>\n",
       "      <td>NaN</td>\n",
       "      <td>33</td>\n",
       "      <td>NaN</td>\n",
       "      <td>NaN</td>\n",
       "      <td>75</td>\n",
       "      <td>1.0</td>\n",
       "      <td>NaN</td>\n",
       "      <td>75</td>\n",
       "      <td>NaN</td>\n",
       "      <td>NaN</td>\n",
       "      <td>95</td>\n",
       "      <td>NaN</td>\n",
       "      <td>NaN</td>\n",
       "      <td>22</td>\n",
       "      <td>NaN</td>\n",
       "      <td>NaN</td>\n",
       "      <td>50</td>\n",
       "      <td>NaN</td>\n",
       "      <td>NaN</td>\n",
       "      <td>32</td>\n",
       "      <td>3.0</td>\n",
       "      <td>NaN</td>\n",
       "      <td>20</td>\n",
       "      <td>NaN</td>\n",
       "      <td>NaN</td>\n",
       "      <td>15</td>\n",
       "      <td>3.0</td>\n",
       "      <td>NaN</td>\n",
       "      <td>0</td>\n",
       "      <td>1.0</td>\n",
       "      <td>NaN</td>\n",
       "      <td>35</td>\n",
       "      <td>2.0</td>\n",
       "      <td>NaN</td>\n",
       "      <td>10</td>\n",
       "      <td>2.0</td>\n",
       "      <td>NaN</td>\n",
       "      <td>35</td>\n",
       "      <td>3.0</td>\n",
       "      <td>NaN</td>\n",
       "      <td>25</td>\n",
       "      <td>2.0</td>\n",
       "      <td>NaN</td>\n",
       "      <td>38</td>\n",
       "      <td>1.0</td>\n",
       "      <td>NaN</td>\n",
       "      <td>115</td>\n",
       "      <td>NaN</td>\n",
       "      <td>NaN</td>\n",
       "      <td>30</td>\n",
       "      <td>3.0</td>\n",
       "      <td>NaN</td>\n",
       "      <td>24</td>\n",
       "      <td>2.0</td>\n",
       "      <td>NaN</td>\n",
       "      <td>70</td>\n",
       "      <td>NaN</td>\n",
       "      <td>NaN</td>\n",
       "      <td>30</td>\n",
       "      <td>NaN</td>\n",
       "      <td>NaN</td>\n",
       "      <td>20</td>\n",
       "      <td>NaN</td>\n",
       "      <td>NaN</td>\n",
       "      <td>37</td>\n",
       "      <td>NaN</td>\n",
       "      <td>NaN</td>\n",
       "      <td>50</td>\n",
       "      <td>NaN</td>\n",
       "      <td>NaN</td>\n",
       "      <td>25</td>\n",
       "      <td>NaN</td>\n",
       "      <td>NaN</td>\n",
       "      <td>10</td>\n",
       "      <td>NaN</td>\n",
       "      <td>NaN</td>\n",
       "      <td>38</td>\n",
       "      <td>NaN</td>\n",
       "      <td>NaN</td>\n",
       "      <td>30</td>\n",
       "      <td>NaN</td>\n",
       "      <td>NaN</td>\n",
       "      <td>90</td>\n",
       "      <td>NaN</td>\n",
       "      <td>NaN</td>\n",
       "      <td>90</td>\n",
       "      <td>NaN</td>\n",
       "      <td>NaN</td>\n",
       "      <td>145</td>\n",
       "      <td>NaN</td>\n",
       "      <td>NaN</td>\n",
       "      <td>60</td>\n",
       "      <td>NaN</td>\n",
       "      <td>NaN</td>\n",
       "      <td>55</td>\n",
       "      <td>NaN</td>\n",
       "      <td>NaN</td>\n",
       "      <td>110</td>\n",
       "      <td>NaN</td>\n",
       "      <td>NaN</td>\n",
       "      <td>80</td>\n",
       "      <td>NaN</td>\n",
       "      <td>NaN</td>\n",
       "      <td>30</td>\n",
       "      <td>NaN</td>\n",
       "      <td>1577</td>\n",
       "      <td>1577</td>\n",
       "      <td>Completed</td>\n",
       "      <td>INR</td>\n",
       "      <td>2020-10-27 17:35:29</td>\n",
       "      <td>New Record  -  Record added</td>\n",
       "      <td>NaN</td>\n",
       "      <td>sudeep@systematiq.in</td>\n",
       "    </tr>\n",
       "    <tr>\n",
       "      <th>2</th>\n",
       "      <td>Richard; Anderson</td>\n",
       "      <td>R12</td>\n",
       "      <td>NaN</td>\n",
       "      <td>NaN</td>\n",
       "      <td>NaN</td>\n",
       "      <td>NaN</td>\n",
       "      <td>NaN</td>\n",
       "      <td>NaN</td>\n",
       "      <td>NaN</td>\n",
       "      <td>NaN</td>\n",
       "      <td>Yucca</td>\n",
       "      <td>NaN</td>\n",
       "      <td>NaN</td>\n",
       "      <td>901</td>\n",
       "      <td>9769282332</td>\n",
       "      <td>Anderson.richard1978@gmail.com</td>\n",
       "      <td>Thu Oct 29th</td>\n",
       "      <td>NaN</td>\n",
       "      <td>NaN</td>\n",
       "      <td>46</td>\n",
       "      <td>1.0</td>\n",
       "      <td>NaN</td>\n",
       "      <td>82</td>\n",
       "      <td>1.0</td>\n",
       "      <td>NaN</td>\n",
       "      <td>48</td>\n",
       "      <td>NaN</td>\n",
       "      <td>NaN</td>\n",
       "      <td>42</td>\n",
       "      <td>NaN</td>\n",
       "      <td>NaN</td>\n",
       "      <td>45</td>\n",
       "      <td>NaN</td>\n",
       "      <td>NaN</td>\n",
       "      <td>22</td>\n",
       "      <td>NaN</td>\n",
       "      <td>NaN</td>\n",
       "      <td>37</td>\n",
       "      <td>NaN</td>\n",
       "      <td>NaN</td>\n",
       "      <td>25</td>\n",
       "      <td>1.0</td>\n",
       "      <td>NaN</td>\n",
       "      <td>40</td>\n",
       "      <td>NaN</td>\n",
       "      <td>NaN</td>\n",
       "      <td>25</td>\n",
       "      <td>NaN</td>\n",
       "      <td>NaN</td>\n",
       "      <td>45</td>\n",
       "      <td>NaN</td>\n",
       "      <td>NaN</td>\n",
       "      <td>33</td>\n",
       "      <td>NaN</td>\n",
       "      <td>NaN</td>\n",
       "      <td>55</td>\n",
       "      <td>1.0</td>\n",
       "      <td>NaN</td>\n",
       "      <td>30</td>\n",
       "      <td>1.0</td>\n",
       "      <td>NaN</td>\n",
       "      <td>40</td>\n",
       "      <td>NaN</td>\n",
       "      <td>NaN</td>\n",
       "      <td>45</td>\n",
       "      <td>NaN</td>\n",
       "      <td>NaN</td>\n",
       "      <td>35</td>\n",
       "      <td>NaN</td>\n",
       "      <td>NaN</td>\n",
       "      <td>58</td>\n",
       "      <td>NaN</td>\n",
       "      <td>NaN</td>\n",
       "      <td>40</td>\n",
       "      <td>1.0</td>\n",
       "      <td>NaN</td>\n",
       "      <td>33</td>\n",
       "      <td>NaN</td>\n",
       "      <td>NaN</td>\n",
       "      <td>75</td>\n",
       "      <td>NaN</td>\n",
       "      <td>NaN</td>\n",
       "      <td>75</td>\n",
       "      <td>1.0</td>\n",
       "      <td>NaN</td>\n",
       "      <td>95</td>\n",
       "      <td>NaN</td>\n",
       "      <td>NaN</td>\n",
       "      <td>22</td>\n",
       "      <td>NaN</td>\n",
       "      <td>NaN</td>\n",
       "      <td>50</td>\n",
       "      <td>1.0</td>\n",
       "      <td>NaN</td>\n",
       "      <td>32</td>\n",
       "      <td>NaN</td>\n",
       "      <td>NaN</td>\n",
       "      <td>20</td>\n",
       "      <td>NaN</td>\n",
       "      <td>NaN</td>\n",
       "      <td>15</td>\n",
       "      <td>NaN</td>\n",
       "      <td>NaN</td>\n",
       "      <td>0</td>\n",
       "      <td>1.0</td>\n",
       "      <td>NaN</td>\n",
       "      <td>35</td>\n",
       "      <td>2.0</td>\n",
       "      <td>NaN</td>\n",
       "      <td>10</td>\n",
       "      <td>NaN</td>\n",
       "      <td>NaN</td>\n",
       "      <td>35</td>\n",
       "      <td>NaN</td>\n",
       "      <td>NaN</td>\n",
       "      <td>25</td>\n",
       "      <td>1.0</td>\n",
       "      <td>NaN</td>\n",
       "      <td>38</td>\n",
       "      <td>NaN</td>\n",
       "      <td>NaN</td>\n",
       "      <td>115</td>\n",
       "      <td>1.0</td>\n",
       "      <td>NaN</td>\n",
       "      <td>30</td>\n",
       "      <td>NaN</td>\n",
       "      <td>NaN</td>\n",
       "      <td>24</td>\n",
       "      <td>NaN</td>\n",
       "      <td>NaN</td>\n",
       "      <td>70</td>\n",
       "      <td>NaN</td>\n",
       "      <td>NaN</td>\n",
       "      <td>30</td>\n",
       "      <td>NaN</td>\n",
       "      <td>NaN</td>\n",
       "      <td>20</td>\n",
       "      <td>NaN</td>\n",
       "      <td>NaN</td>\n",
       "      <td>37</td>\n",
       "      <td>NaN</td>\n",
       "      <td>NaN</td>\n",
       "      <td>50</td>\n",
       "      <td>NaN</td>\n",
       "      <td>NaN</td>\n",
       "      <td>25</td>\n",
       "      <td>NaN</td>\n",
       "      <td>NaN</td>\n",
       "      <td>10</td>\n",
       "      <td>1.0</td>\n",
       "      <td>NaN</td>\n",
       "      <td>38</td>\n",
       "      <td>NaN</td>\n",
       "      <td>NaN</td>\n",
       "      <td>30</td>\n",
       "      <td>NaN</td>\n",
       "      <td>NaN</td>\n",
       "      <td>90</td>\n",
       "      <td>1.0</td>\n",
       "      <td>NaN</td>\n",
       "      <td>90</td>\n",
       "      <td>NaN</td>\n",
       "      <td>NaN</td>\n",
       "      <td>145</td>\n",
       "      <td>NaN</td>\n",
       "      <td>NaN</td>\n",
       "      <td>60</td>\n",
       "      <td>NaN</td>\n",
       "      <td>NaN</td>\n",
       "      <td>55</td>\n",
       "      <td>NaN</td>\n",
       "      <td>NaN</td>\n",
       "      <td>110</td>\n",
       "      <td>NaN</td>\n",
       "      <td>NaN</td>\n",
       "      <td>80</td>\n",
       "      <td>NaN</td>\n",
       "      <td>NaN</td>\n",
       "      <td>30</td>\n",
       "      <td>1.0</td>\n",
       "      <td>743</td>\n",
       "      <td>743</td>\n",
       "      <td>Completed</td>\n",
       "      <td>INR</td>\n",
       "      <td>2020-10-27 15:22:29</td>\n",
       "      <td>New Record  -  Record added</td>\n",
       "      <td>https://forms.zohopublic.in/BhorFarms/form/Pow...</td>\n",
       "      <td>sudeep@systematiq.in</td>\n",
       "    </tr>\n",
       "  </tbody>\n",
       "</table>\n",
       "</div>"
      ],
      "text/plain": [
       "                Name Select Drop Point Enter Building Dosti  \\\n",
       "0        Nisha; Jain                R2                  NaN   \n",
       "1       Anju; Sharma                R1                  NaN   \n",
       "2  Richard; Anderson               R12                  NaN   \n",
       "\n",
       "  Select Building Ivory  Select Building Wellness Forever Select Building NCP  \\\n",
       "0                   NaN                               NaN                 NaN   \n",
       "1                   NaN                               NaN                 NaN   \n",
       "2                   NaN                               NaN                 NaN   \n",
       "\n",
       "  Select Building Ajmera iLand Select Building Sector 1/2  \\\n",
       "0                          NaN                        NaN   \n",
       "1                          NaN                        NaN   \n",
       "2                          NaN                        NaN   \n",
       "\n",
       "  Select Building Cosmic Select Building R2 Select Building R12  \\\n",
       "0                    NaN             Zinnia                 NaN   \n",
       "1                    NaN                NaN                 NaN   \n",
       "2                    NaN                NaN               Yucca   \n",
       "\n",
       "  Select Building R1 Select Wing Flat No       Phone  \\\n",
       "0                NaN         NaN     902  9167306223   \n",
       "1           Magnolia      D Wing     701  9820614040   \n",
       "2                NaN         NaN     901  9769282332   \n",
       "\n",
       "                            Email Select Delivery Date  \\\n",
       "0         Prof.dr.nisha@gmail.com         Thu Oct 29th   \n",
       "1              ghlpowai@gmail.com         Thu Oct 29th   \n",
       "2  Anderson.richard1978@gmail.com         Thu Oct 29th   \n",
       "\n",
       "   Opt in for Doorstep Delivery @ Rs 25  Potatoes  Potatoes Price  \\\n",
       "0                                   NaN       NaN              46   \n",
       "1                                   NaN       NaN              46   \n",
       "2                                   NaN       NaN              46   \n",
       "\n",
       "   Select Quantity of Potatoes  Red Onions  Red Onions Price  \\\n",
       "0                          NaN         NaN                82   \n",
       "1                          2.0         NaN                82   \n",
       "2                          1.0         NaN                82   \n",
       "\n",
       "   Select Quantity of Red Onions  Cauliflower  Cauliflower Price  \\\n",
       "0                            1.0          NaN                 48   \n",
       "1                            5.0          NaN                 48   \n",
       "2                            1.0          NaN                 48   \n",
       "\n",
       "   Select Quantity of Cauliflower  Cabbage  Cabbage Price  \\\n",
       "0                             1.0      NaN             42   \n",
       "1                             1.0      NaN             42   \n",
       "2                             NaN      NaN             42   \n",
       "\n",
       "   Select Quantity of Cabbage  Brinjal Bharta  Brinjal Bharta Price  \\\n",
       "0                         NaN             NaN                    45   \n",
       "1                         1.0             NaN                    45   \n",
       "2                         NaN             NaN                    45   \n",
       "\n",
       "   Select Quantity of Brinjal Bharta  Pumpkin  Pumpkin Price  \\\n",
       "0                                NaN      NaN             22   \n",
       "1                                NaN      NaN             22   \n",
       "2                                NaN      NaN             22   \n",
       "\n",
       "   Select Quantity of Pumpkin  Brinjal Kateri  Brinjal Kateri Price  \\\n",
       "0                         1.0             NaN                    37   \n",
       "1                         1.0             NaN                    37   \n",
       "2                         NaN             NaN                    37   \n",
       "\n",
       "   Select Quantity of Brinjal Kateri  Cucumber  Cucumber Price  \\\n",
       "0                                NaN       NaN              25   \n",
       "1                                NaN       NaN              25   \n",
       "2                                NaN       NaN              25   \n",
       "\n",
       "   Select Quantity of Cucumber  Bhindi/Lady's Finger  \\\n",
       "0                          1.0                   NaN   \n",
       "1                          2.0                   NaN   \n",
       "2                          1.0                   NaN   \n",
       "\n",
       "   Bhindi/Lady's Finger Price  Select Quantity of Bhindi/Lady's Finger  \\\n",
       "0                          40                                      1.0   \n",
       "1                          40                                      NaN   \n",
       "2                          40                                      NaN   \n",
       "\n",
       "   Bitter Gourd  Bitter Gourd Price  Select Quantity of Bitter Gourd  \\\n",
       "0           NaN                  25                              NaN   \n",
       "1           NaN                  25                              NaN   \n",
       "2           NaN                  25                              NaN   \n",
       "\n",
       "   Ridge Gourd  Ridge Gourd Price  Select Quantity of Ridge Gourd  Beetroot  \\\n",
       "0          NaN                 45                             1.0       NaN   \n",
       "1          NaN                 45                             NaN       NaN   \n",
       "2          NaN                 45                             NaN       NaN   \n",
       "\n",
       "   Beetroot Price  Select Quantity of Beetroot  Button Mushrooms  \\\n",
       "0              33                          NaN               NaN   \n",
       "1              33                          2.0               NaN   \n",
       "2              33                          NaN               NaN   \n",
       "\n",
       "   Button Mushroom Price  Select Quantity of Button Mushroom  Bottle Gourd  \\\n",
       "0                     55                                 NaN           NaN   \n",
       "1                     55                                 NaN           NaN   \n",
       "2                     55                                 1.0           NaN   \n",
       "\n",
       "   Bottle Gourd Price  Select Quantity of Bottle Gourd  Drumsticks  \\\n",
       "0                  30                              NaN         NaN   \n",
       "1                  30                              3.0         NaN   \n",
       "2                  30                              1.0         NaN   \n",
       "\n",
       "   Drumsticks Price  Select Quantity of Drumsticks  Capsicum  Capsicum Price  \\\n",
       "0                40                            NaN       NaN              45   \n",
       "1                40                            NaN       NaN              45   \n",
       "2                40                            NaN       NaN              45   \n",
       "\n",
       "   Select Quantity of Capsicum  Gawar/Cluster Beans  \\\n",
       "0                          NaN                  NaN   \n",
       "1                          NaN                  NaN   \n",
       "2                          NaN                  NaN   \n",
       "\n",
       "   Gawar/Cluster Beans Price  Select Quantity of Gawar/Cluster Beans  \\\n",
       "0                         35                                     NaN   \n",
       "1                         35                                     NaN   \n",
       "2                         35                                     NaN   \n",
       "\n",
       "   French Beans  French Beans Price  Select Quantity of French Beans  Tomato  \\\n",
       "0           NaN                  58                              NaN     NaN   \n",
       "1           NaN                  58                              NaN     NaN   \n",
       "2           NaN                  58                              NaN     NaN   \n",
       "\n",
       "   Tomato Price  Select Quantity of Tomato  Sweet Corn  Sweet Corn Price  \\\n",
       "0            40                        NaN         NaN                33   \n",
       "1            40                        3.0         NaN                33   \n",
       "2            40                        1.0         NaN                33   \n",
       "\n",
       "   Select Quantity of Sweet Corn  Broccoli  Broccoli Price  \\\n",
       "0                            NaN       NaN              75   \n",
       "1                            NaN       NaN              75   \n",
       "2                            NaN       NaN              75   \n",
       "\n",
       "   Select Quantity of Broccoli  Lettuce  Lettuce Price  \\\n",
       "0                          NaN      NaN             75   \n",
       "1                          1.0      NaN             75   \n",
       "2                          NaN      NaN             75   \n",
       "\n",
       "   Select Quantity of Lettuce  Kiwi Zespri Imported  \\\n",
       "0                         NaN                   NaN   \n",
       "1                         NaN                   NaN   \n",
       "2                         1.0                   NaN   \n",
       "\n",
       "   Kiwi Zespri Imported Price  Select Quantity of Kiwi Zespri Imported  \\\n",
       "0                          95                                      NaN   \n",
       "1                          95                                      NaN   \n",
       "2                          95                                      NaN   \n",
       "\n",
       "   Banana Regular  Banana Price  Select Quantity of Banana  Garlic  \\\n",
       "0             NaN            22                        NaN     NaN   \n",
       "1             NaN            22                        NaN     NaN   \n",
       "2             NaN            22                        NaN     NaN   \n",
       "\n",
       "   Garlic Price  Select Quantity of Garlic  Ginger  Ginger Price  \\\n",
       "0            50                        NaN     NaN            32   \n",
       "1            50                        NaN     NaN            32   \n",
       "2            50                        1.0     NaN            32   \n",
       "\n",
       "   Select Quantity of Ginger  Green Chilly  Green Chilly Price  \\\n",
       "0                        NaN           NaN                  20   \n",
       "1                        3.0           NaN                  20   \n",
       "2                        NaN           NaN                  20   \n",
       "\n",
       "   Select Quantity of Green Chilly  Lemons  Lemons Price  \\\n",
       "0                              NaN     NaN            15   \n",
       "1                              NaN     NaN            15   \n",
       "2                              NaN     NaN            15   \n",
       "\n",
       "   Select Quantity of Lemons  Curry Leaves  Curry Leaves Price  \\\n",
       "0                        NaN           NaN                   0   \n",
       "1                        3.0           NaN                   0   \n",
       "2                        NaN           NaN                   0   \n",
       "\n",
       "   Select Quantity of Curry Leaves  Coriander Leaves  Coriander Leaves Price  \\\n",
       "0                              1.0               NaN                      35   \n",
       "1                              1.0               NaN                      35   \n",
       "2                              1.0               NaN                      35   \n",
       "\n",
       "   Select Quantity of Coriander Leaves  Mint Leaves  Mint Leaves Price  \\\n",
       "0                                  NaN          NaN                 10   \n",
       "1                                  2.0          NaN                 10   \n",
       "2                                  2.0          NaN                 10   \n",
       "\n",
       "   Select Quantity of Mint Leaves  Palak/Spinach  Palak/Spinach Price  \\\n",
       "0                             NaN            NaN                   35   \n",
       "1                             2.0            NaN                   35   \n",
       "2                             NaN            NaN                   35   \n",
       "\n",
       "   Select Quantity of Palak/Spinach  Shepu/Dill Leaves  \\\n",
       "0                               NaN                NaN   \n",
       "1                               3.0                NaN   \n",
       "2                               NaN                NaN   \n",
       "\n",
       "   Shepu/Dill Leaves Price  Select Quantity of Shepu/Dill Leaves  \\\n",
       "0                       25                                   NaN   \n",
       "1                       25                                   2.0   \n",
       "2                       25                                   1.0   \n",
       "\n",
       "   Methi Leaves  Methi Leaves Price  Select Quantity of Methi Leaves  \\\n",
       "0           NaN                  38                              NaN   \n",
       "1           NaN                  38                              1.0   \n",
       "2           NaN                  38                              NaN   \n",
       "\n",
       "   Red/Yellow Bell Peppers  Red/Yellow Bell Peppers Price  \\\n",
       "0                      NaN                            115   \n",
       "1                      NaN                            115   \n",
       "2                      NaN                            115   \n",
       "\n",
       "   Select Quantity of Red/Yellow Bell Peppers  Carrots  Carrots Price  \\\n",
       "0                                         NaN      NaN             30   \n",
       "1                                         NaN      NaN             30   \n",
       "2                                         1.0      NaN             30   \n",
       "\n",
       "   Select Quantity of Carrots  Radish/Muli  Radish/Muli Price  \\\n",
       "0                         NaN          NaN                 24   \n",
       "1                         3.0          NaN                 24   \n",
       "2                         NaN          NaN                 24   \n",
       "\n",
       "   Select Quantity of Radish/Muli  Green Peas  Green Peas Price  \\\n",
       "0                             NaN         NaN                70   \n",
       "1                             2.0         NaN                70   \n",
       "2                             NaN         NaN                70   \n",
       "\n",
       "   Select Quantity of Green Peas  Lal Math/Amaranthus Leaves  \\\n",
       "0                            NaN                         NaN   \n",
       "1                            NaN                         NaN   \n",
       "2                            NaN                         NaN   \n",
       "\n",
       "   Lal Math/Amaranthus Price  Select Quantity of Lal Math/Amaranthus  \\\n",
       "0                         30                                     NaN   \n",
       "1                         30                                     NaN   \n",
       "2                         30                                     NaN   \n",
       "\n",
       "   Arbi Leaves  Arbi Leaves Price  Select Quantity of Arbi Leaves  \\\n",
       "0          NaN                 20                             NaN   \n",
       "1          NaN                 20                             NaN   \n",
       "2          NaN                 20                             NaN   \n",
       "\n",
       "   Arbi/Colocasia  Arbi/Colocasia Price  Select Quantity of Arbi/Colocasia  \\\n",
       "0             NaN                    37                                NaN   \n",
       "1             NaN                    37                                NaN   \n",
       "2             NaN                    37                                NaN   \n",
       "\n",
       "   Babycorn  Babycorn Price  Select Quantity of Babycorn  Raw Banana  \\\n",
       "0       NaN              50                          NaN         NaN   \n",
       "1       NaN              50                          NaN         NaN   \n",
       "2       NaN              50                          NaN         NaN   \n",
       "\n",
       "   Raw Banana Price  Select Quantity of Raw Banana  Lemongrass  \\\n",
       "0                25                            NaN         NaN   \n",
       "1                25                            NaN         NaN   \n",
       "2                25                            NaN         NaN   \n",
       "\n",
       "   Lemongrass Price  Select Quantity of Lemongrass  Sponge Gourd  \\\n",
       "0                10                            NaN           NaN   \n",
       "1                10                            NaN           NaN   \n",
       "2                10                            1.0           NaN   \n",
       "\n",
       "   Sponge Gourd Price  Select Quantity of Sponge Gourd  Peeled Garlic  \\\n",
       "0                  38                              NaN            NaN   \n",
       "1                  38                              NaN            NaN   \n",
       "2                  38                              NaN            NaN   \n",
       "\n",
       "   Peeled Garlic Price  Select Quantity of Peeled Garlic  Green Zucchini  \\\n",
       "0                   30                               NaN             NaN   \n",
       "1                   30                               NaN             NaN   \n",
       "2                   30                               NaN             NaN   \n",
       "\n",
       "   Green Zucchini Price  Select Quantity of Green Zucchini  Yellow Zucchini  \\\n",
       "0                    90                                NaN              NaN   \n",
       "1                    90                                NaN              NaN   \n",
       "2                    90                                1.0              NaN   \n",
       "\n",
       "   Yellow Zucchini Price  Select Quantity of Yellow Zucchini  Indian Avacado  \\\n",
       "0                     90                                 NaN             NaN   \n",
       "1                     90                                 NaN             NaN   \n",
       "2                     90                                 NaN             NaN   \n",
       "\n",
       "   Indian Avacado Price  Select Quantity of Indian Avacado  Apple Ber  \\\n",
       "0                   145                                NaN        NaN   \n",
       "1                   145                                NaN        NaN   \n",
       "2                   145                                NaN        NaN   \n",
       "\n",
       "   Apple Ber Price  Select Quantity of Apple Ber  Papaya  Papaya Price  \\\n",
       "0               60                           NaN     NaN            55   \n",
       "1               60                           NaN     NaN            55   \n",
       "2               60                           NaN     NaN            55   \n",
       "\n",
       "   Select Quantity of Papaya  Jaggery  Jaggery Price  \\\n",
       "0                        NaN      NaN            110   \n",
       "1                        NaN      NaN            110   \n",
       "2                        NaN      NaN            110   \n",
       "\n",
       "   Select Quantity of Jaggery  Desi Peru  Desi Peru Price  \\\n",
       "0                         NaN        NaN               80   \n",
       "1                         NaN        NaN               80   \n",
       "2                         NaN        NaN               80   \n",
       "\n",
       "   Select Quantity of Desi Peru  Basil Leaves  Basil Leaves Price  \\\n",
       "0                           NaN           NaN                  30   \n",
       "1                           NaN           NaN                  30   \n",
       "2                           NaN           NaN                  30   \n",
       "\n",
       "   Select Quantity of Basil Leaves  Total Amount  Payment Amount  \\\n",
       "0                              NaN           262             262   \n",
       "1                              NaN          1577            1577   \n",
       "2                              1.0           743             743   \n",
       "\n",
       "  Payment Status Payment Currency          Added Time  \\\n",
       "0      Completed              INR 2020-10-27 19:20:00   \n",
       "1      Completed              INR 2020-10-27 17:35:29   \n",
       "2      Completed              INR 2020-10-27 15:22:29   \n",
       "\n",
       "                    CRM Status  \\\n",
       "0  New Record  -  Record added   \n",
       "1  New Record  -  Record added   \n",
       "2  New Record  -  Record added   \n",
       "\n",
       "                                       Referrer Name            Task Owner  \n",
       "0                                                NaN  sudeep@systematiq.in  \n",
       "1                                                NaN  sudeep@systematiq.in  \n",
       "2  https://forms.zohopublic.in/BhorFarms/form/Pow...  sudeep@systematiq.in  "
      ]
     },
     "execution_count": 7,
     "metadata": {},
     "output_type": "execute_result"
    }
   ],
   "source": [
    "df.head(3)"
   ]
  },
  {
   "cell_type": "code",
   "execution_count": 8,
   "metadata": {
    "ExecuteTime": {
     "end_time": "2020-10-27T16:22:03.046610Z",
     "start_time": "2020-10-27T16:22:03.028694Z"
    }
   },
   "outputs": [
    {
     "data": {
      "text/plain": [
       "79"
      ]
     },
     "execution_count": 8,
     "metadata": {},
     "output_type": "execute_result"
    }
   ],
   "source": [
    "len(df)"
   ]
  },
  {
   "cell_type": "code",
   "execution_count": 9,
   "metadata": {
    "ExecuteTime": {
     "end_time": "2020-10-27T16:22:04.039136Z",
     "start_time": "2020-10-27T16:22:04.035638Z"
    }
   },
   "outputs": [],
   "source": [
    "# df.tail(10)"
   ]
  },
  {
   "cell_type": "code",
   "execution_count": 10,
   "metadata": {
    "ExecuteTime": {
     "end_time": "2020-10-27T16:22:04.209307Z",
     "start_time": "2020-10-27T16:22:04.194518Z"
    }
   },
   "outputs": [
    {
     "data": {
      "text/plain": [
       "array(['Thu Oct 29th'], dtype=object)"
      ]
     },
     "execution_count": 10,
     "metadata": {},
     "output_type": "execute_result"
    }
   ],
   "source": [
    "df['Select Delivery Date'].unique()"
   ]
  },
  {
   "cell_type": "code",
   "execution_count": 11,
   "metadata": {
    "ExecuteTime": {
     "end_time": "2020-10-27T16:22:05.027963Z",
     "start_time": "2020-10-27T16:22:05.023691Z"
    }
   },
   "outputs": [],
   "source": [
    "# df = df[df['Select Delivery Date'] == 'Tue Oct 13th']"
   ]
  },
  {
   "cell_type": "code",
   "execution_count": 12,
   "metadata": {
    "ExecuteTime": {
     "end_time": "2020-10-27T16:22:05.199731Z",
     "start_time": "2020-10-27T16:22:05.195125Z"
    }
   },
   "outputs": [],
   "source": [
    "assert len(df['Select Delivery Date'].unique()) == 1"
   ]
  },
  {
   "cell_type": "code",
   "execution_count": 13,
   "metadata": {
    "ExecuteTime": {
     "end_time": "2020-10-27T16:22:05.435107Z",
     "start_time": "2020-10-27T16:22:05.406824Z"
    }
   },
   "outputs": [
    {
     "data": {
      "text/plain": [
       "Thu Oct 29th    79\n",
       "Name: Select Delivery Date, dtype: int64"
      ]
     },
     "execution_count": 13,
     "metadata": {},
     "output_type": "execute_result"
    }
   ],
   "source": [
    "df['Select Delivery Date'].value_counts()"
   ]
  },
  {
   "cell_type": "markdown",
   "metadata": {},
   "source": [
    "## Add indexing key"
   ]
  },
  {
   "cell_type": "code",
   "execution_count": 14,
   "metadata": {
    "ExecuteTime": {
     "end_time": "2020-10-27T16:22:06.570400Z",
     "start_time": "2020-10-27T16:22:06.426213Z"
    }
   },
   "outputs": [],
   "source": [
    "df['key'] = df['Name'] + ' ' + df['Added Time'].astype(str)"
   ]
  },
  {
   "cell_type": "markdown",
   "metadata": {},
   "source": [
    "## Pull out the Select Building columns"
   ]
  },
  {
   "cell_type": "code",
   "execution_count": 15,
   "metadata": {
    "ExecuteTime": {
     "end_time": "2020-10-27T16:22:06.803487Z",
     "start_time": "2020-10-27T16:22:06.766615Z"
    }
   },
   "outputs": [],
   "source": [
    "bldg_cols = []\n",
    "\n",
    "for col in df.columns:\n",
    "    if 'select building' in col.lower() or 'enter building' in col.lower():\n",
    "        bldg_cols.append(col)\n",
    "\n",
    "df['building'] = df[bldg_cols].fillna('').sum(axis=1)"
   ]
  },
  {
   "cell_type": "code",
   "execution_count": 16,
   "metadata": {
    "ExecuteTime": {
     "end_time": "2020-10-27T16:22:07.562642Z",
     "start_time": "2020-10-27T16:22:07.544689Z"
    }
   },
   "outputs": [],
   "source": [
    "# df['building'] = df['Enter Name of Building'].fillna('')"
   ]
  },
  {
   "cell_type": "markdown",
   "metadata": {},
   "source": [
    "## Subset only successfully paid orders"
   ]
  },
  {
   "cell_type": "code",
   "execution_count": 17,
   "metadata": {
    "ExecuteTime": {
     "end_time": "2020-10-27T16:22:08.111669Z",
     "start_time": "2020-10-27T16:22:08.100693Z"
    }
   },
   "outputs": [
    {
     "data": {
      "text/plain": [
       "array(['Completed', 'Processing', 'Failed'], dtype=object)"
      ]
     },
     "execution_count": 17,
     "metadata": {},
     "output_type": "execute_result"
    }
   ],
   "source": [
    "df['Payment Status'].unique()"
   ]
  },
  {
   "cell_type": "code",
   "execution_count": 18,
   "metadata": {
    "ExecuteTime": {
     "end_time": "2020-10-27T16:22:08.311763Z",
     "start_time": "2020-10-27T16:22:08.297478Z"
    }
   },
   "outputs": [],
   "source": [
    "# df = df[df['Payment Status'].isin(STATUSES2PROCESS)]"
   ]
  },
  {
   "cell_type": "code",
   "execution_count": 19,
   "metadata": {
    "ExecuteTime": {
     "end_time": "2020-10-27T16:22:08.484079Z",
     "start_time": "2020-10-27T16:22:08.466558Z"
    }
   },
   "outputs": [
    {
     "data": {
      "text/plain": [
       "array(['Completed', 'Processing', 'Failed'], dtype=object)"
      ]
     },
     "execution_count": 19,
     "metadata": {},
     "output_type": "execute_result"
    }
   ],
   "source": [
    "# verification\n",
    "df['Payment Status'].unique()"
   ]
  },
  {
   "cell_type": "markdown",
   "metadata": {},
   "source": [
    "## Generating Tokens"
   ]
  },
  {
   "cell_type": "markdown",
   "metadata": {},
   "source": [
    "Sort by Drop Point, Building, Wing and then generate Token Values."
   ]
  },
  {
   "cell_type": "code",
   "execution_count": 20,
   "metadata": {
    "ExecuteTime": {
     "end_time": "2020-10-27T16:22:09.586834Z",
     "start_time": "2020-10-27T16:22:09.559396Z"
    }
   },
   "outputs": [],
   "source": [
    "df = df.sort_values(['Select Drop Point', 'building', 'Select Wing'])\n",
    "# df = df.sort_values('building')\n",
    "df['Token No'] = range(1, len(df)+1)"
   ]
  },
  {
   "cell_type": "markdown",
   "metadata": {},
   "source": [
    "## Check for duplicate entries"
   ]
  },
  {
   "cell_type": "code",
   "execution_count": 21,
   "metadata": {
    "ExecuteTime": {
     "end_time": "2020-10-27T16:22:10.255919Z",
     "start_time": "2020-10-27T16:22:10.236941Z"
    }
   },
   "outputs": [],
   "source": [
    "assert len(df) == len(df['key'].unique())"
   ]
  },
  {
   "cell_type": "markdown",
   "metadata": {
    "ExecuteTime": {
     "end_time": "2020-08-17T19:31:54.383744Z",
     "start_time": "2020-08-17T19:31:54.379755Z"
    }
   },
   "source": [
    "## Build Items Dictionary"
   ]
  },
  {
   "cell_type": "markdown",
   "metadata": {},
   "source": [
    "    orders dictionary, one record looks like:\n",
    "\n",
    "    {\n",
    "        key:\n",
    "        {\n",
    "            name : str,\n",
    "            drop_point : str,\n",
    "            building : str,\n",
    "            wing : str,\n",
    "            flat : str,\n",
    "            phone : numeric,\n",
    "            email : str,\n",
    "            delivery_date : datetime,\n",
    "            order : dict,\n",
    "            total_amount : float,\n",
    "            payment_status : str\n",
    "        }\n",
    "    }\n",
    "\n",
    "\n",
    "    items_dict:\n",
    "\n",
    "    {\n",
    "        item_name : \n",
    "        {\n",
    "            sell_price : float,\n",
    "            cost_price : float,\n",
    "            packing_size : // to be read from another excel\n",
    "        }\n",
    "    }"
   ]
  },
  {
   "cell_type": "markdown",
   "metadata": {},
   "source": [
    "If 'quantity of' occurs in column header, leave the first three words and extract the rest as your item key."
   ]
  },
  {
   "cell_type": "code",
   "execution_count": 22,
   "metadata": {
    "ExecuteTime": {
     "end_time": "2020-10-27T16:22:12.884368Z",
     "start_time": "2020-10-27T16:22:12.874684Z"
    }
   },
   "outputs": [],
   "source": [
    "# extremely naive, needs a fix\n",
    "all_items = [\" \".join(i.split()[3:]) for i in df.columns if ('quantity of' in i.lower() or 'quantity for' in i.lower())]"
   ]
  },
  {
   "cell_type": "code",
   "execution_count": 23,
   "metadata": {
    "ExecuteTime": {
     "end_time": "2020-10-27T16:22:13.785699Z",
     "start_time": "2020-10-27T16:22:13.776723Z"
    }
   },
   "outputs": [],
   "source": [
    "items_dict = {}"
   ]
  },
  {
   "cell_type": "code",
   "execution_count": 24,
   "metadata": {
    "ExecuteTime": {
     "end_time": "2020-10-27T16:22:20.602241Z",
     "start_time": "2020-10-27T16:22:20.584319Z"
    }
   },
   "outputs": [],
   "source": [
    "def get_sell_price(item):\n",
    "    try:\n",
    "        if 'juice' in item.lower():\n",
    "            val = df['Yoga Pulp Juice Price'].values[0]\n",
    "        else:\n",
    "            val = df[item + ' ' + 'Price'].values[0]\n",
    "        return val\n",
    "    \n",
    "    except Exception as e:\n",
    "        print(e)\n",
    "        return 1\n",
    "\n",
    "def get_cost_price(item):\n",
    "    try:\n",
    "        if 'juice' in item.lower():\n",
    "            val = df['Yoga Pulp Juice Cost Price'].values[0]\n",
    "        else:\n",
    "            val = df[item + ' ' + 'Cost Price'].values[0]\n",
    "        return val\n",
    "    \n",
    "    except:\n",
    "        return 1"
   ]
  },
  {
   "cell_type": "code",
   "execution_count": 25,
   "metadata": {
    "ExecuteTime": {
     "end_time": "2020-10-27T16:22:22.122849Z",
     "start_time": "2020-10-27T16:22:22.087734Z"
    }
   },
   "outputs": [],
   "source": [
    "df_psize = pd.read_csv(\"C:/Playground/bhaiya-orders/zoho-bhor-farms/database/Packing Size.csv\")\n",
    "psize_dict = df_psize.set_index('Item').to_dict(orient='index')"
   ]
  },
  {
   "cell_type": "code",
   "execution_count": 26,
   "metadata": {
    "ExecuteTime": {
     "end_time": "2020-10-27T16:22:23.163998Z",
     "start_time": "2020-10-27T16:22:23.157709Z"
    }
   },
   "outputs": [],
   "source": [
    "def get_packing_size(item):\n",
    "    if item in psize_dict.keys():\n",
    "        return psize_dict[item]['Size']\n",
    "    return 1\n",
    "\n",
    "def get_unit(item):\n",
    "    if item in psize_dict.keys():\n",
    "        return psize_dict[item]['Unit']\n",
    "    return 1"
   ]
  },
  {
   "cell_type": "code",
   "execution_count": 27,
   "metadata": {
    "ExecuteTime": {
     "end_time": "2020-10-27T16:22:23.521667Z",
     "start_time": "2020-10-27T16:22:23.507675Z"
    }
   },
   "outputs": [],
   "source": [
    "for item in all_items:\n",
    "    dct = {}\n",
    "    dct['packing_size'] = get_packing_size(item)\n",
    "    dct['unit'] = get_unit(item)\n",
    "#     if item == 'Cherry Tomatoes': item = 'Cherry Tomato'\n",
    "#     if item == 'Potatoes': item = 'Potato'\n",
    "    \n",
    "    dct['sell_price'] = get_sell_price(item)\n",
    "    dct['cost_price'] = get_cost_price(item)\n",
    "    items_dict[item] = dct"
   ]
  },
  {
   "cell_type": "markdown",
   "metadata": {},
   "source": [
    "## Build Master Dictionary"
   ]
  },
  {
   "cell_type": "code",
   "execution_count": 28,
   "metadata": {
    "ExecuteTime": {
     "end_time": "2020-10-27T16:22:27.095732Z",
     "start_time": "2020-10-27T16:22:27.086415Z"
    }
   },
   "outputs": [],
   "source": [
    "# # because few flats were not captured\n",
    "df['Flat No'] = df['Flat No'].fillna('NOT CAPTURED')"
   ]
  },
  {
   "cell_type": "code",
   "execution_count": 29,
   "metadata": {
    "ExecuteTime": {
     "end_time": "2020-10-27T16:22:28.030205Z",
     "start_time": "2020-10-27T16:22:28.011285Z"
    }
   },
   "outputs": [],
   "source": [
    "df.fillna(0, inplace=True)"
   ]
  },
  {
   "cell_type": "code",
   "execution_count": 30,
   "metadata": {
    "ExecuteTime": {
     "end_time": "2020-10-27T16:22:28.293014Z",
     "start_time": "2020-10-27T16:22:28.246168Z"
    }
   },
   "outputs": [],
   "source": [
    "# create a mapping from item_id to the corresponding column to make sure no item goes unmapped\n",
    "\n",
    "item2dropdowncol = {i : '' for i in all_items}\n",
    "\n",
    "for index, row in df.iterrows():\n",
    "    for col in df.columns:\n",
    "        if 'quantity of' in col.lower() or 'quantity for' in col.lower():\n",
    "            item2dropdowncol[\" \".join(col.split()[3:])] = col\n",
    "            \n",
    "assert len(item2dropdowncol) == len(all_items)\n",
    "for k, v in item2dropdowncol.items():\n",
    "    assert len(v) > 3"
   ]
  },
  {
   "cell_type": "markdown",
   "metadata": {},
   "source": [
    "\n",
    "    {\n",
    "        key:\n",
    "        {\n",
    "            name : str,\n",
    "            drop_point : str,\n",
    "            building : str,\n",
    "            wing : str,\n",
    "            flat : str,\n",
    "            phone : numeric,\n",
    "            email : str,\n",
    "            delivery_date : datetime,\n",
    "            order : dict,\n",
    "            total_amount : float,\n",
    "            payment_status : str\n",
    "        }\n",
    "    }"
   ]
  },
  {
   "cell_type": "code",
   "execution_count": 31,
   "metadata": {
    "ExecuteTime": {
     "end_time": "2020-10-27T16:22:29.595659Z",
     "start_time": "2020-10-27T16:22:29.586683Z"
    }
   },
   "outputs": [],
   "source": [
    "def get_order(row):\n",
    "    o = {}\n",
    "    for item, qty_col in item2dropdowncol.items():\n",
    "#         try:\n",
    "        if row[qty_col] > 0:\n",
    "            o[item] = row[qty_col]\n",
    "#         except:\n",
    "#             i = 'hello'\n",
    "            \n",
    "    return o"
   ]
  },
  {
   "cell_type": "code",
   "execution_count": 32,
   "metadata": {
    "ExecuteTime": {
     "end_time": "2020-10-27T16:22:30.571050Z",
     "start_time": "2020-10-27T16:22:30.561076Z"
    }
   },
   "outputs": [],
   "source": [
    "def get_total_cost_price(order):\n",
    "    totalcp = 0\n",
    "    for item, qty in order.items():\n",
    "#         if item == 'Cherry Tomatoes': item = 'Cherry Tomato'\n",
    "#         if item == 'Potatoes': item = 'Potato'\n",
    "        totalcp += qty * get_cost_price(item)\n",
    "    return totalcp"
   ]
  },
  {
   "cell_type": "code",
   "execution_count": 33,
   "metadata": {
    "ExecuteTime": {
     "end_time": "2020-10-27T16:22:35.387367Z",
     "start_time": "2020-10-27T16:22:35.253707Z"
    }
   },
   "outputs": [],
   "source": [
    "orders_dict = {}\n",
    "\n",
    "for index, row in df.iterrows():\n",
    "    dct = {}\n",
    "    dct['name'] = row['Name']\n",
    "    dct['drop_point'] = row['Select Drop Point']\n",
    "    dct['building'] = row['building']\n",
    "    dct['wing'] = row['Select Wing']\n",
    "    dct['flat_no'] = row['Flat No']\n",
    "    dct['phone_no'] = row['Phone']\n",
    "    dct['email'] = row['Email']\n",
    "    dct['delivery_date'] = row['Select Delivery Date']\n",
    "    dct['total_amount'] = row['Total Amount']\n",
    "    dct['payment_status'] = row['Payment Status']\n",
    "    dct['order'] = get_order(row)\n",
    "    dct['total_cost_price'] = get_total_cost_price(dct['order'])\n",
    "    dct['profit'] = dct['total_amount'] - dct['total_cost_price']\n",
    "    orders_dict[row['Token No']] = dct"
   ]
  },
  {
   "cell_type": "markdown",
   "metadata": {
    "heading_collapsed": true
   },
   "source": [
    "# Subset Items : To Process Refunds"
   ]
  },
  {
   "cell_type": "code",
   "execution_count": 54,
   "metadata": {
    "ExecuteTime": {
     "end_time": "2020-10-20T01:48:31.606012Z",
     "start_time": "2020-10-20T01:48:31.597062Z"
    },
    "hidden": true
   },
   "outputs": [],
   "source": [
    "# execute only if items2subset > 0"
   ]
  },
  {
   "cell_type": "code",
   "execution_count": 34,
   "metadata": {
    "ExecuteTime": {
     "end_time": "2020-10-12T20:56:46.226650Z",
     "start_time": "2020-10-12T20:56:46.212686Z"
    },
    "hidden": true
   },
   "outputs": [],
   "source": [
    "# sorted(items_dict.keys())"
   ]
  },
  {
   "cell_type": "code",
   "execution_count": 112,
   "metadata": {
    "ExecuteTime": {
     "end_time": "2020-09-19T19:32:41.316697Z",
     "start_time": "2020-09-19T19:32:41.312630Z"
    },
    "hidden": true
   },
   "outputs": [],
   "source": [
    "items2subset = [ 'Drumsticks', 'French Beans',]"
   ]
  },
  {
   "cell_type": "code",
   "execution_count": 113,
   "metadata": {
    "ExecuteTime": {
     "end_time": "2020-09-19T19:32:41.480414Z",
     "start_time": "2020-09-19T19:32:41.473421Z"
    },
    "hidden": true
   },
   "outputs": [],
   "source": [
    "rows_list = []\n",
    "\n",
    "for token, o in orders_dict.items():\n",
    "    for item in items2subset:\n",
    "        if item in o['order'].keys():\n",
    "            dct = {}\n",
    "            dct['token'] = token\n",
    "            dct['name'] = o['name']\n",
    "            dct['phone_no'] = o['phone_no']\n",
    "            dct['email'] = o['email']\n",
    "            dct['item_name'] = item\n",
    "            dct['item_qty'] = o['order'][item]\n",
    "            dct['item_price_per_unit'] = items_dict[item]['sell_price']\n",
    "            dct['item_amount'] = items_dict[item]['sell_price'] * dct['item_qty']\n",
    "            dct['amount_paid'] = o['total_amount']\n",
    "            dct['payment_status'] = o['payment_status']\n",
    "            \n",
    "            rows_list.append(dct)"
   ]
  },
  {
   "cell_type": "code",
   "execution_count": 114,
   "metadata": {
    "ExecuteTime": {
     "end_time": "2020-09-19T19:32:41.650120Z",
     "start_time": "2020-09-19T19:32:41.644016Z"
    },
    "hidden": true
   },
   "outputs": [],
   "source": [
    "subset_df = pd.DataFrame(rows_list)"
   ]
  },
  {
   "cell_type": "code",
   "execution_count": 115,
   "metadata": {
    "ExecuteTime": {
     "end_time": "2020-09-19T19:32:41.795679Z",
     "start_time": "2020-09-19T19:32:41.790570Z"
    },
    "hidden": true
   },
   "outputs": [
    {
     "data": {
      "text/plain": [
       "array(['Drumsticks', 'French Beans'], dtype=object)"
      ]
     },
     "execution_count": 115,
     "metadata": {},
     "output_type": "execute_result"
    }
   ],
   "source": [
    "subset_df.item_name.unique()"
   ]
  },
  {
   "cell_type": "code",
   "execution_count": 116,
   "metadata": {
    "ExecuteTime": {
     "end_time": "2020-09-19T19:32:42.351714Z",
     "start_time": "2020-09-19T19:32:42.342760Z"
    },
    "hidden": true
   },
   "outputs": [],
   "source": [
    "amount2refund = subset_df.groupby('name').sum()['item_amount'].to_dict()"
   ]
  },
  {
   "cell_type": "code",
   "execution_count": 117,
   "metadata": {
    "ExecuteTime": {
     "end_time": "2020-09-19T19:32:42.508952Z",
     "start_time": "2020-09-19T19:32:42.503908Z"
    },
    "hidden": true
   },
   "outputs": [],
   "source": [
    "subset_df['amount_to_refund'] = subset_df.name.apply(lambda x: amount2refund[x])"
   ]
  },
  {
   "cell_type": "code",
   "execution_count": 118,
   "metadata": {
    "ExecuteTime": {
     "end_time": "2020-09-19T19:32:42.735916Z",
     "start_time": "2020-09-19T19:32:42.733404Z"
    },
    "hidden": true
   },
   "outputs": [],
   "source": [
    "fname = save_pth/('unavl-'+FILE.stem+'.xlsx')"
   ]
  },
  {
   "cell_type": "code",
   "execution_count": 119,
   "metadata": {
    "ExecuteTime": {
     "end_time": "2020-09-19T19:32:43.117459Z",
     "start_time": "2020-09-19T19:32:43.039693Z"
    },
    "hidden": true
   },
   "outputs": [],
   "source": [
    "with pd.ExcelWriter(fname) as writer:\n",
    "    subset_df.to_excel(writer, sheet_name='itemwise', index=False)\n",
    "    (subset_df.groupby(['name', 'phone_no'])\n",
    "        .first()[['email', 'amount_paid', 'amount_to_refund']]\n",
    "        .to_excel(writer, sheet_name='refund_amount_agg'))"
   ]
  },
  {
   "cell_type": "markdown",
   "metadata": {
    "ExecuteTime": {
     "end_time": "2020-08-17T20:58:05.930841Z",
     "start_time": "2020-08-17T20:58:05.926849Z"
    }
   },
   "source": [
    "# Create Listified File"
   ]
  },
  {
   "cell_type": "code",
   "execution_count": 34,
   "metadata": {
    "ExecuteTime": {
     "end_time": "2020-10-27T16:22:37.087689Z",
     "start_time": "2020-10-27T16:22:37.072673Z"
    }
   },
   "outputs": [],
   "source": [
    "dict_listified = {i : 0 for i in all_items}"
   ]
  },
  {
   "cell_type": "code",
   "execution_count": 35,
   "metadata": {
    "ExecuteTime": {
     "end_time": "2020-10-27T16:22:37.382671Z",
     "start_time": "2020-10-27T16:22:37.375295Z"
    }
   },
   "outputs": [],
   "source": [
    "for key, value in orders_dict.items():\n",
    "    for item, qty in value['order'].items():\n",
    "        dict_listified[item] += qty"
   ]
  },
  {
   "cell_type": "code",
   "execution_count": 36,
   "metadata": {
    "ExecuteTime": {
     "end_time": "2020-10-27T16:22:37.648606Z",
     "start_time": "2020-10-27T16:22:37.633648Z"
    }
   },
   "outputs": [],
   "source": [
    "df_listified = pd.DataFrame()\n",
    "\n",
    "df_listified['item'] = all_items\n",
    "df_listified['packing_size'] = df_listified['item'].apply(lambda x: get_packing_size(x))\n",
    "df_listified['num_units'] = df_listified['item'].apply(lambda x: dict_listified[x])\n",
    "df_listified['weight'] = df_listified.packing_size * df_listified.num_units\n",
    "df_listified['unit'] = df_listified['item'].apply(lambda x: get_unit(x))"
   ]
  },
  {
   "cell_type": "code",
   "execution_count": 37,
   "metadata": {
    "ExecuteTime": {
     "end_time": "2020-10-27T16:22:38.784135Z",
     "start_time": "2020-10-27T16:22:38.747706Z"
    }
   },
   "outputs": [
    {
     "data": {
      "text/html": [
       "<div>\n",
       "<style scoped>\n",
       "    .dataframe tbody tr th:only-of-type {\n",
       "        vertical-align: middle;\n",
       "    }\n",
       "\n",
       "    .dataframe tbody tr th {\n",
       "        vertical-align: top;\n",
       "    }\n",
       "\n",
       "    .dataframe thead th {\n",
       "        text-align: right;\n",
       "    }\n",
       "</style>\n",
       "<table border=\"1\" class=\"dataframe\">\n",
       "  <thead>\n",
       "    <tr style=\"text-align: right;\">\n",
       "      <th></th>\n",
       "      <th>item</th>\n",
       "      <th>packing_size</th>\n",
       "      <th>num_units</th>\n",
       "      <th>weight</th>\n",
       "      <th>unit</th>\n",
       "    </tr>\n",
       "  </thead>\n",
       "  <tbody>\n",
       "    <tr>\n",
       "      <th>0</th>\n",
       "      <td>Potatoes</td>\n",
       "      <td>1.00</td>\n",
       "      <td>66.0</td>\n",
       "      <td>66.00</td>\n",
       "      <td>Kg</td>\n",
       "    </tr>\n",
       "    <tr>\n",
       "      <th>1</th>\n",
       "      <td>Red Onions</td>\n",
       "      <td>1.00</td>\n",
       "      <td>69.0</td>\n",
       "      <td>69.00</td>\n",
       "      <td>Kg</td>\n",
       "    </tr>\n",
       "    <tr>\n",
       "      <th>2</th>\n",
       "      <td>Cauliflower</td>\n",
       "      <td>1.00</td>\n",
       "      <td>48.0</td>\n",
       "      <td>48.00</td>\n",
       "      <td>Pieces</td>\n",
       "    </tr>\n",
       "    <tr>\n",
       "      <th>3</th>\n",
       "      <td>Cabbage</td>\n",
       "      <td>1.00</td>\n",
       "      <td>23.0</td>\n",
       "      <td>23.00</td>\n",
       "      <td>Pieces</td>\n",
       "    </tr>\n",
       "    <tr>\n",
       "      <th>4</th>\n",
       "      <td>Brinjal Bharta</td>\n",
       "      <td>0.50</td>\n",
       "      <td>20.0</td>\n",
       "      <td>10.00</td>\n",
       "      <td>Kg</td>\n",
       "    </tr>\n",
       "    <tr>\n",
       "      <th>5</th>\n",
       "      <td>Pumpkin</td>\n",
       "      <td>0.50</td>\n",
       "      <td>31.0</td>\n",
       "      <td>15.50</td>\n",
       "      <td>Kg</td>\n",
       "    </tr>\n",
       "    <tr>\n",
       "      <th>6</th>\n",
       "      <td>Brinjal Kateri</td>\n",
       "      <td>0.50</td>\n",
       "      <td>14.0</td>\n",
       "      <td>7.00</td>\n",
       "      <td>Kg</td>\n",
       "    </tr>\n",
       "    <tr>\n",
       "      <th>7</th>\n",
       "      <td>Cucumber</td>\n",
       "      <td>0.50</td>\n",
       "      <td>55.0</td>\n",
       "      <td>27.50</td>\n",
       "      <td>Kg</td>\n",
       "    </tr>\n",
       "    <tr>\n",
       "      <th>8</th>\n",
       "      <td>Bhindi/Lady's Finger</td>\n",
       "      <td>0.50</td>\n",
       "      <td>45.0</td>\n",
       "      <td>22.50</td>\n",
       "      <td>Kg</td>\n",
       "    </tr>\n",
       "    <tr>\n",
       "      <th>9</th>\n",
       "      <td>Bitter Gourd</td>\n",
       "      <td>0.30</td>\n",
       "      <td>16.0</td>\n",
       "      <td>4.80</td>\n",
       "      <td>Kg</td>\n",
       "    </tr>\n",
       "    <tr>\n",
       "      <th>10</th>\n",
       "      <td>Ridge Gourd</td>\n",
       "      <td>0.50</td>\n",
       "      <td>17.0</td>\n",
       "      <td>8.50</td>\n",
       "      <td>Kg</td>\n",
       "    </tr>\n",
       "    <tr>\n",
       "      <th>11</th>\n",
       "      <td>Beetroot</td>\n",
       "      <td>0.50</td>\n",
       "      <td>21.0</td>\n",
       "      <td>10.50</td>\n",
       "      <td>Kg</td>\n",
       "    </tr>\n",
       "    <tr>\n",
       "      <th>12</th>\n",
       "      <td>Button Mushroom</td>\n",
       "      <td>0.20</td>\n",
       "      <td>21.0</td>\n",
       "      <td>4.20</td>\n",
       "      <td>Kg</td>\n",
       "    </tr>\n",
       "    <tr>\n",
       "      <th>13</th>\n",
       "      <td>Bottle Gourd</td>\n",
       "      <td>1.00</td>\n",
       "      <td>45.0</td>\n",
       "      <td>45.00</td>\n",
       "      <td>Pieces</td>\n",
       "    </tr>\n",
       "    <tr>\n",
       "      <th>14</th>\n",
       "      <td>Drumsticks</td>\n",
       "      <td>0.25</td>\n",
       "      <td>8.0</td>\n",
       "      <td>2.00</td>\n",
       "      <td>Kg</td>\n",
       "    </tr>\n",
       "    <tr>\n",
       "      <th>15</th>\n",
       "      <td>Capsicum</td>\n",
       "      <td>0.50</td>\n",
       "      <td>27.0</td>\n",
       "      <td>13.50</td>\n",
       "      <td>Kg</td>\n",
       "    </tr>\n",
       "    <tr>\n",
       "      <th>16</th>\n",
       "      <td>Gawar/Cluster Beans</td>\n",
       "      <td>0.30</td>\n",
       "      <td>20.0</td>\n",
       "      <td>6.00</td>\n",
       "      <td>kg</td>\n",
       "    </tr>\n",
       "    <tr>\n",
       "      <th>17</th>\n",
       "      <td>French Beans</td>\n",
       "      <td>0.50</td>\n",
       "      <td>20.0</td>\n",
       "      <td>10.00</td>\n",
       "      <td>Kg</td>\n",
       "    </tr>\n",
       "    <tr>\n",
       "      <th>18</th>\n",
       "      <td>Tomato</td>\n",
       "      <td>1.00</td>\n",
       "      <td>77.0</td>\n",
       "      <td>77.00</td>\n",
       "      <td>Kg</td>\n",
       "    </tr>\n",
       "    <tr>\n",
       "      <th>19</th>\n",
       "      <td>Sweet Corn</td>\n",
       "      <td>2.00</td>\n",
       "      <td>17.0</td>\n",
       "      <td>34.00</td>\n",
       "      <td>Pieces</td>\n",
       "    </tr>\n",
       "    <tr>\n",
       "      <th>20</th>\n",
       "      <td>Broccoli</td>\n",
       "      <td>0.25</td>\n",
       "      <td>14.0</td>\n",
       "      <td>3.50</td>\n",
       "      <td>Kg</td>\n",
       "    </tr>\n",
       "    <tr>\n",
       "      <th>21</th>\n",
       "      <td>Lettuce</td>\n",
       "      <td>0.25</td>\n",
       "      <td>7.0</td>\n",
       "      <td>1.75</td>\n",
       "      <td>Kg</td>\n",
       "    </tr>\n",
       "    <tr>\n",
       "      <th>22</th>\n",
       "      <td>Kiwi Zespri Imported</td>\n",
       "      <td>3.00</td>\n",
       "      <td>2.0</td>\n",
       "      <td>6.00</td>\n",
       "      <td>Pieces</td>\n",
       "    </tr>\n",
       "    <tr>\n",
       "      <th>24</th>\n",
       "      <td>Garlic</td>\n",
       "      <td>0.25</td>\n",
       "      <td>17.0</td>\n",
       "      <td>4.25</td>\n",
       "      <td>Kg</td>\n",
       "    </tr>\n",
       "    <tr>\n",
       "      <th>25</th>\n",
       "      <td>Ginger</td>\n",
       "      <td>0.25</td>\n",
       "      <td>36.0</td>\n",
       "      <td>9.00</td>\n",
       "      <td>kg</td>\n",
       "    </tr>\n",
       "    <tr>\n",
       "      <th>26</th>\n",
       "      <td>Green Chilly</td>\n",
       "      <td>0.20</td>\n",
       "      <td>24.0</td>\n",
       "      <td>4.80</td>\n",
       "      <td>kg</td>\n",
       "    </tr>\n",
       "    <tr>\n",
       "      <th>27</th>\n",
       "      <td>Lemons</td>\n",
       "      <td>5.00</td>\n",
       "      <td>53.0</td>\n",
       "      <td>265.00</td>\n",
       "      <td>Pieces</td>\n",
       "    </tr>\n",
       "    <tr>\n",
       "      <th>28</th>\n",
       "      <td>Curry Leaves</td>\n",
       "      <td>1.00</td>\n",
       "      <td>65.0</td>\n",
       "      <td>65.00</td>\n",
       "      <td>Bunch</td>\n",
       "    </tr>\n",
       "    <tr>\n",
       "      <th>29</th>\n",
       "      <td>Coriander Leaves</td>\n",
       "      <td>0.25</td>\n",
       "      <td>52.0</td>\n",
       "      <td>13.00</td>\n",
       "      <td>Kg</td>\n",
       "    </tr>\n",
       "    <tr>\n",
       "      <th>30</th>\n",
       "      <td>Mint Leaves</td>\n",
       "      <td>1.00</td>\n",
       "      <td>23.0</td>\n",
       "      <td>23.00</td>\n",
       "      <td>Bunch</td>\n",
       "    </tr>\n",
       "    <tr>\n",
       "      <th>31</th>\n",
       "      <td>Palak/Spinach</td>\n",
       "      <td>1.00</td>\n",
       "      <td>32.0</td>\n",
       "      <td>32.00</td>\n",
       "      <td>Bunch</td>\n",
       "    </tr>\n",
       "    <tr>\n",
       "      <th>32</th>\n",
       "      <td>Shepu/Dill Leaves</td>\n",
       "      <td>1.00</td>\n",
       "      <td>4.0</td>\n",
       "      <td>4.00</td>\n",
       "      <td>Bunch</td>\n",
       "    </tr>\n",
       "    <tr>\n",
       "      <th>33</th>\n",
       "      <td>Methi Leaves</td>\n",
       "      <td>0.35</td>\n",
       "      <td>25.0</td>\n",
       "      <td>8.75</td>\n",
       "      <td>kg</td>\n",
       "    </tr>\n",
       "    <tr>\n",
       "      <th>34</th>\n",
       "      <td>Red/Yellow Bell Peppers</td>\n",
       "      <td>0.50</td>\n",
       "      <td>14.0</td>\n",
       "      <td>7.00</td>\n",
       "      <td>Kg</td>\n",
       "    </tr>\n",
       "    <tr>\n",
       "      <th>35</th>\n",
       "      <td>Carrots</td>\n",
       "      <td>0.50</td>\n",
       "      <td>44.0</td>\n",
       "      <td>22.00</td>\n",
       "      <td>Kg</td>\n",
       "    </tr>\n",
       "    <tr>\n",
       "      <th>36</th>\n",
       "      <td>Radish/Muli</td>\n",
       "      <td>2.00</td>\n",
       "      <td>23.0</td>\n",
       "      <td>46.00</td>\n",
       "      <td>Pieces</td>\n",
       "    </tr>\n",
       "    <tr>\n",
       "      <th>38</th>\n",
       "      <td>Lal Math/Amaranthus</td>\n",
       "      <td>1.00</td>\n",
       "      <td>8.0</td>\n",
       "      <td>8.00</td>\n",
       "      <td>Bunch</td>\n",
       "    </tr>\n",
       "    <tr>\n",
       "      <th>39</th>\n",
       "      <td>Arbi Leaves</td>\n",
       "      <td>6.00</td>\n",
       "      <td>3.0</td>\n",
       "      <td>18.00</td>\n",
       "      <td>Pieces</td>\n",
       "    </tr>\n",
       "    <tr>\n",
       "      <th>41</th>\n",
       "      <td>Babycorn</td>\n",
       "      <td>0.20</td>\n",
       "      <td>4.0</td>\n",
       "      <td>0.80</td>\n",
       "      <td>Kg</td>\n",
       "    </tr>\n",
       "    <tr>\n",
       "      <th>42</th>\n",
       "      <td>Raw Banana</td>\n",
       "      <td>0.50</td>\n",
       "      <td>14.0</td>\n",
       "      <td>7.00</td>\n",
       "      <td>Kg</td>\n",
       "    </tr>\n",
       "    <tr>\n",
       "      <th>43</th>\n",
       "      <td>Lemongrass</td>\n",
       "      <td>1.00</td>\n",
       "      <td>13.0</td>\n",
       "      <td>13.00</td>\n",
       "      <td>Bunch</td>\n",
       "    </tr>\n",
       "    <tr>\n",
       "      <th>44</th>\n",
       "      <td>Sponge Gourd</td>\n",
       "      <td>0.50</td>\n",
       "      <td>18.0</td>\n",
       "      <td>9.00</td>\n",
       "      <td>Kg</td>\n",
       "    </tr>\n",
       "    <tr>\n",
       "      <th>45</th>\n",
       "      <td>Peeled Garlic</td>\n",
       "      <td>0.10</td>\n",
       "      <td>7.0</td>\n",
       "      <td>0.70</td>\n",
       "      <td>Kg</td>\n",
       "    </tr>\n",
       "    <tr>\n",
       "      <th>46</th>\n",
       "      <td>Green Zucchini</td>\n",
       "      <td>0.50</td>\n",
       "      <td>2.0</td>\n",
       "      <td>1.00</td>\n",
       "      <td>Kg</td>\n",
       "    </tr>\n",
       "    <tr>\n",
       "      <th>47</th>\n",
       "      <td>Yellow Zucchini</td>\n",
       "      <td>0.50</td>\n",
       "      <td>1.0</td>\n",
       "      <td>0.50</td>\n",
       "      <td>Kg</td>\n",
       "    </tr>\n",
       "    <tr>\n",
       "      <th>48</th>\n",
       "      <td>Indian Avacado</td>\n",
       "      <td>0.50</td>\n",
       "      <td>5.0</td>\n",
       "      <td>2.50</td>\n",
       "      <td>Kg</td>\n",
       "    </tr>\n",
       "    <tr>\n",
       "      <th>53</th>\n",
       "      <td>Basil Leaves</td>\n",
       "      <td>0.20</td>\n",
       "      <td>4.0</td>\n",
       "      <td>0.80</td>\n",
       "      <td>Kg</td>\n",
       "    </tr>\n",
       "  </tbody>\n",
       "</table>\n",
       "</div>"
      ],
      "text/plain": [
       "                       item  packing_size  num_units  weight    unit\n",
       "0                  Potatoes          1.00       66.0   66.00      Kg\n",
       "1                Red Onions          1.00       69.0   69.00      Kg\n",
       "2               Cauliflower          1.00       48.0   48.00  Pieces\n",
       "3                   Cabbage          1.00       23.0   23.00  Pieces\n",
       "4            Brinjal Bharta          0.50       20.0   10.00      Kg\n",
       "5                   Pumpkin          0.50       31.0   15.50      Kg\n",
       "6            Brinjal Kateri          0.50       14.0    7.00      Kg\n",
       "7                  Cucumber          0.50       55.0   27.50      Kg\n",
       "8      Bhindi/Lady's Finger          0.50       45.0   22.50      Kg\n",
       "9              Bitter Gourd          0.30       16.0    4.80      Kg\n",
       "10              Ridge Gourd          0.50       17.0    8.50      Kg\n",
       "11                 Beetroot          0.50       21.0   10.50      Kg\n",
       "12          Button Mushroom          0.20       21.0    4.20      Kg\n",
       "13             Bottle Gourd          1.00       45.0   45.00  Pieces\n",
       "14               Drumsticks          0.25        8.0    2.00      Kg\n",
       "15                 Capsicum          0.50       27.0   13.50      Kg\n",
       "16      Gawar/Cluster Beans          0.30       20.0    6.00      kg\n",
       "17             French Beans          0.50       20.0   10.00      Kg\n",
       "18                   Tomato          1.00       77.0   77.00      Kg\n",
       "19               Sweet Corn          2.00       17.0   34.00  Pieces\n",
       "20                 Broccoli          0.25       14.0    3.50      Kg\n",
       "21                  Lettuce          0.25        7.0    1.75      Kg\n",
       "22     Kiwi Zespri Imported          3.00        2.0    6.00  Pieces\n",
       "24                   Garlic          0.25       17.0    4.25      Kg\n",
       "25                   Ginger          0.25       36.0    9.00      kg\n",
       "26             Green Chilly          0.20       24.0    4.80      kg\n",
       "27                   Lemons          5.00       53.0  265.00  Pieces\n",
       "28             Curry Leaves          1.00       65.0   65.00   Bunch\n",
       "29         Coriander Leaves          0.25       52.0   13.00      Kg\n",
       "30              Mint Leaves          1.00       23.0   23.00   Bunch\n",
       "31            Palak/Spinach          1.00       32.0   32.00   Bunch\n",
       "32        Shepu/Dill Leaves          1.00        4.0    4.00   Bunch\n",
       "33             Methi Leaves          0.35       25.0    8.75      kg\n",
       "34  Red/Yellow Bell Peppers          0.50       14.0    7.00      Kg\n",
       "35                  Carrots          0.50       44.0   22.00      Kg\n",
       "36              Radish/Muli          2.00       23.0   46.00  Pieces\n",
       "38      Lal Math/Amaranthus          1.00        8.0    8.00   Bunch\n",
       "39              Arbi Leaves          6.00        3.0   18.00  Pieces\n",
       "41                 Babycorn          0.20        4.0    0.80      Kg\n",
       "42               Raw Banana          0.50       14.0    7.00      Kg\n",
       "43               Lemongrass          1.00       13.0   13.00   Bunch\n",
       "44             Sponge Gourd          0.50       18.0    9.00      Kg\n",
       "45            Peeled Garlic          0.10        7.0    0.70      Kg\n",
       "46           Green Zucchini          0.50        2.0    1.00      Kg\n",
       "47          Yellow Zucchini          0.50        1.0    0.50      Kg\n",
       "48           Indian Avacado          0.50        5.0    2.50      Kg\n",
       "53             Basil Leaves          0.20        4.0    0.80      Kg"
      ]
     },
     "execution_count": 37,
     "metadata": {},
     "output_type": "execute_result"
    }
   ],
   "source": [
    "df_listified = df_listified[df_listified.num_units > 0]; df_listified"
   ]
  },
  {
   "cell_type": "code",
   "execution_count": 38,
   "metadata": {
    "ExecuteTime": {
     "end_time": "2020-10-27T16:22:41.368534Z",
     "start_time": "2020-10-27T16:22:41.355403Z"
    }
   },
   "outputs": [],
   "source": [
    "fname = save_pth/('quantity-' + str(FILE.stem) + '.csv')"
   ]
  },
  {
   "cell_type": "code",
   "execution_count": 39,
   "metadata": {
    "ExecuteTime": {
     "end_time": "2020-10-27T16:22:41.787237Z",
     "start_time": "2020-10-27T16:22:41.769317Z"
    }
   },
   "outputs": [],
   "source": [
    "df_listified[df_listified.num_units>0].to_csv(fname, index=False)"
   ]
  },
  {
   "cell_type": "markdown",
   "metadata": {},
   "source": [
    "# Customerwise"
   ]
  },
  {
   "cell_type": "code",
   "execution_count": 40,
   "metadata": {
    "ExecuteTime": {
     "end_time": "2020-10-27T16:22:42.968719Z",
     "start_time": "2020-10-27T16:22:42.962680Z"
    }
   },
   "outputs": [],
   "source": [
    "items = ['coconut', 'kiwi']"
   ]
  },
  {
   "cell_type": "code",
   "execution_count": 41,
   "metadata": {
    "ExecuteTime": {
     "end_time": "2020-10-27T16:22:43.233223Z",
     "start_time": "2020-10-27T16:22:43.190376Z"
    }
   },
   "outputs": [],
   "source": [
    "df_trans = pd.read_excel(\"C:/Playground/bhaiya-orders/zoho-bhor-farms/database/translations.xlsx\")"
   ]
  },
  {
   "cell_type": "code",
   "execution_count": 42,
   "metadata": {
    "ExecuteTime": {
     "end_time": "2020-10-27T16:22:43.621787Z",
     "start_time": "2020-10-27T16:22:43.577884Z"
    }
   },
   "outputs": [],
   "source": [
    "from fuzzywuzzy import fuzz\n",
    "\n",
    "def get_match(x, thresh=65):\n",
    "    x = x.lower()\n",
    "    rmax = -1\n",
    "    for k in items: \n",
    "        if fuzz.partial_ratio(k, x) > rmax:\n",
    "            rmax = fuzz.partial_ratio(k, x)\n",
    "\n",
    "    return rmax > thresh"
   ]
  },
  {
   "cell_type": "code",
   "execution_count": 43,
   "metadata": {
    "ExecuteTime": {
     "end_time": "2020-10-27T16:22:44.504080Z",
     "start_time": "2020-10-27T16:22:44.488073Z"
    }
   },
   "outputs": [
    {
     "data": {
      "text/plain": [
       "array(['Coconut', 'Kiwi Imported', 'Coconut Mangalore Small',\n",
       "       'Kiwi Imported', ' Coconut Mangalore Big',\n",
       "       ' Coconut Mangalore Medium', 'Kiwi Imported - Zespri Green'],\n",
       "      dtype=object)"
      ]
     },
     "execution_count": 43,
     "metadata": {},
     "output_type": "execute_result"
    }
   ],
   "source": [
    "keys2drop = df_trans[df_trans['Final Item Name'].apply(get_match)]['Final Item Name'].values; keys2drop"
   ]
  },
  {
   "cell_type": "code",
   "execution_count": 44,
   "metadata": {
    "ExecuteTime": {
     "end_time": "2020-10-27T16:22:44.920600Z",
     "start_time": "2020-10-27T16:22:44.896632Z"
    }
   },
   "outputs": [],
   "source": [
    "df_trans = df_trans.set_index('Final Item Name').drop(keys2drop).reset_index()\n",
    "eng2marathi = df_trans.set_index('Final Item Name').to_dict()['Final Marathi Name']\n",
    "marathi2eng = df_trans.set_index('Final Marathi Name').to_dict()['Final Item Name']\n",
    "marathi2eng[np.nan] = ''"
   ]
  },
  {
   "cell_type": "code",
   "execution_count": 45,
   "metadata": {
    "ExecuteTime": {
     "end_time": "2020-10-27T16:22:45.203687Z",
     "start_time": "2020-10-27T16:22:45.190083Z"
    }
   },
   "outputs": [],
   "source": [
    "def get_trans(x, thresh=85):\n",
    "    rmax = -1\n",
    "    trans = ''\n",
    "    for k in eng2marathi.keys():\n",
    "        if fuzz.ratio(k, x) > rmax:\n",
    "            rmax = fuzz.ratio(k, x)\n",
    "            trans = eng2marathi[k]\n",
    "\n",
    "    if rmax > thresh:\n",
    "        return trans\n",
    "    return np.nan"
   ]
  },
  {
   "cell_type": "code",
   "execution_count": 46,
   "metadata": {
    "ExecuteTime": {
     "end_time": "2020-10-27T16:22:46.816632Z",
     "start_time": "2020-10-27T16:22:46.283353Z"
    }
   },
   "outputs": [],
   "source": [
    "rows_list = []\n",
    "for token, o in orders_dict.items():\n",
    "    for item, qty in o['order'].items():\n",
    "        row_dct = {}\n",
    "        row_dct['token_no'] = token\n",
    "        row_dct['name'] = o['name']\n",
    "        row_dct['delivery_date'] = o['delivery_date']\n",
    "        row_dct['item_name'] = item\n",
    "        row_dct['marathi_name'] = get_trans(item)\n",
    "        row_dct['num_packets'] = qty\n",
    "        row_dct['packing_size'] = get_packing_size(item)\n",
    "        row_dct['final_weight'] = row_dct['num_packets'] * row_dct['packing_size']\n",
    "        row_dct['unit'] = get_unit(item)\n",
    "        row_dct['total_amt'] = o['total_amount']\n",
    "        \n",
    "        rows_list.append(row_dct)"
   ]
  },
  {
   "cell_type": "code",
   "execution_count": 47,
   "metadata": {
    "ExecuteTime": {
     "end_time": "2020-10-27T16:22:46.847555Z",
     "start_time": "2020-10-27T16:22:46.821625Z"
    }
   },
   "outputs": [],
   "source": [
    "df_customerwise = pd.DataFrame(rows_list)"
   ]
  },
  {
   "cell_type": "code",
   "execution_count": 48,
   "metadata": {
    "ExecuteTime": {
     "end_time": "2020-10-27T16:22:47.545608Z",
     "start_time": "2020-10-27T16:22:47.519174Z"
    }
   },
   "outputs": [
    {
     "data": {
      "text/html": [
       "<div>\n",
       "<style scoped>\n",
       "    .dataframe tbody tr th:only-of-type {\n",
       "        vertical-align: middle;\n",
       "    }\n",
       "\n",
       "    .dataframe tbody tr th {\n",
       "        vertical-align: top;\n",
       "    }\n",
       "\n",
       "    .dataframe thead th {\n",
       "        text-align: right;\n",
       "    }\n",
       "</style>\n",
       "<table border=\"1\" class=\"dataframe\">\n",
       "  <thead>\n",
       "    <tr style=\"text-align: right;\">\n",
       "      <th></th>\n",
       "      <th>token_no</th>\n",
       "      <th>name</th>\n",
       "      <th>delivery_date</th>\n",
       "      <th>item_name</th>\n",
       "      <th>marathi_name</th>\n",
       "      <th>num_packets</th>\n",
       "      <th>packing_size</th>\n",
       "      <th>final_weight</th>\n",
       "      <th>unit</th>\n",
       "      <th>total_amt</th>\n",
       "    </tr>\n",
       "  </thead>\n",
       "  <tbody>\n",
       "    <tr>\n",
       "      <th>0</th>\n",
       "      <td>1</td>\n",
       "      <td>Kumkum; Jain</td>\n",
       "      <td>Thu Oct 29th</td>\n",
       "      <td>Potatoes</td>\n",
       "      <td>बटाटा</td>\n",
       "      <td>2.0</td>\n",
       "      <td>1.0</td>\n",
       "      <td>2.0</td>\n",
       "      <td>Kg</td>\n",
       "      <td>791</td>\n",
       "    </tr>\n",
       "    <tr>\n",
       "      <th>1</th>\n",
       "      <td>1</td>\n",
       "      <td>Kumkum; Jain</td>\n",
       "      <td>Thu Oct 29th</td>\n",
       "      <td>Cauliflower</td>\n",
       "      <td>फ्लॉवर</td>\n",
       "      <td>1.0</td>\n",
       "      <td>1.0</td>\n",
       "      <td>1.0</td>\n",
       "      <td>Pieces</td>\n",
       "      <td>791</td>\n",
       "    </tr>\n",
       "    <tr>\n",
       "      <th>2</th>\n",
       "      <td>1</td>\n",
       "      <td>Kumkum; Jain</td>\n",
       "      <td>Thu Oct 29th</td>\n",
       "      <td>Cabbage</td>\n",
       "      <td>कोबी</td>\n",
       "      <td>1.0</td>\n",
       "      <td>1.0</td>\n",
       "      <td>1.0</td>\n",
       "      <td>Pieces</td>\n",
       "      <td>791</td>\n",
       "    </tr>\n",
       "    <tr>\n",
       "      <th>3</th>\n",
       "      <td>1</td>\n",
       "      <td>Kumkum; Jain</td>\n",
       "      <td>Thu Oct 29th</td>\n",
       "      <td>Brinjal Bharta</td>\n",
       "      <td>भरता वांगे</td>\n",
       "      <td>1.0</td>\n",
       "      <td>0.5</td>\n",
       "      <td>0.5</td>\n",
       "      <td>Kg</td>\n",
       "      <td>791</td>\n",
       "    </tr>\n",
       "    <tr>\n",
       "      <th>4</th>\n",
       "      <td>1</td>\n",
       "      <td>Kumkum; Jain</td>\n",
       "      <td>Thu Oct 29th</td>\n",
       "      <td>Cucumber</td>\n",
       "      <td>काकडी</td>\n",
       "      <td>2.0</td>\n",
       "      <td>0.5</td>\n",
       "      <td>1.0</td>\n",
       "      <td>Kg</td>\n",
       "      <td>791</td>\n",
       "    </tr>\n",
       "  </tbody>\n",
       "</table>\n",
       "</div>"
      ],
      "text/plain": [
       "   token_no          name delivery_date       item_name marathi_name  \\\n",
       "0         1  Kumkum; Jain  Thu Oct 29th        Potatoes        बटाटा   \n",
       "1         1  Kumkum; Jain  Thu Oct 29th     Cauliflower       फ्लॉवर   \n",
       "2         1  Kumkum; Jain  Thu Oct 29th         Cabbage         कोबी   \n",
       "3         1  Kumkum; Jain  Thu Oct 29th  Brinjal Bharta   भरता वांगे   \n",
       "4         1  Kumkum; Jain  Thu Oct 29th        Cucumber        काकडी   \n",
       "\n",
       "   num_packets  packing_size  final_weight    unit  total_amt  \n",
       "0          2.0           1.0           2.0      Kg        791  \n",
       "1          1.0           1.0           1.0  Pieces        791  \n",
       "2          1.0           1.0           1.0  Pieces        791  \n",
       "3          1.0           0.5           0.5      Kg        791  \n",
       "4          2.0           0.5           1.0      Kg        791  "
      ]
     },
     "execution_count": 48,
     "metadata": {},
     "output_type": "execute_result"
    }
   ],
   "source": [
    "df_customerwise.head()"
   ]
  },
  {
   "cell_type": "code",
   "execution_count": 49,
   "metadata": {
    "ExecuteTime": {
     "end_time": "2020-10-27T16:22:47.762468Z",
     "start_time": "2020-10-27T16:22:47.742552Z"
    }
   },
   "outputs": [
    {
     "data": {
      "text/plain": [
       "array(['Kiwi Zespri Imported', 'Indian Avacado'], dtype=object)"
      ]
     },
     "execution_count": 49,
     "metadata": {},
     "output_type": "execute_result"
    }
   ],
   "source": [
    "notranslist = df_customerwise[df_customerwise.marathi_name.isna()].item_name.unique(); notranslist"
   ]
  },
  {
   "cell_type": "markdown",
   "metadata": {},
   "source": [
    "## Filter Out Exotics"
   ]
  },
  {
   "cell_type": "code",
   "execution_count": 50,
   "metadata": {
    "ExecuteTime": {
     "end_time": "2020-10-27T16:22:49.250712Z",
     "start_time": "2020-10-27T16:22:49.243702Z"
    }
   },
   "outputs": [],
   "source": [
    "notranslist = ['Button Mushroom',\n",
    "    'Broccoli',\n",
    "    'Lettuce',\n",
    "    'Kiwi Zespri Imported',\n",
    "    'Babycorn',\n",
    "    'Peeled Garlic',\n",
    "    'Green Zucchini',\n",
    "    'Yellow Zucchini',\n",
    "    'Pumpkin',\n",
    "    'Red/Yellow Bell Peppers',\n",
    "    'Indian Avacado',\n",
    "    ]"
   ]
  },
  {
   "cell_type": "code",
   "execution_count": 51,
   "metadata": {
    "ExecuteTime": {
     "end_time": "2020-10-27T16:22:50.046700Z",
     "start_time": "2020-10-27T16:22:50.025675Z"
    }
   },
   "outputs": [
    {
     "data": {
      "text/plain": [
       "'grkilereinbuyepepubrba-Final Input 29th Veg'"
      ]
     },
     "execution_count": 51,
     "metadata": {},
     "output_type": "execute_result"
    }
   ],
   "source": [
    "ids = set([i.lower()[:2] for i in notranslist])\n",
    "prefix = \"\".join(ids)\n",
    "prefix = prefix.replace('/', '')\n",
    "\n",
    "notrans_pth = save_pth/f'{prefix}-{str(FILE.stem)}.csv'; notrans_pth.stem"
   ]
  },
  {
   "cell_type": "code",
   "execution_count": 52,
   "metadata": {
    "ExecuteTime": {
     "end_time": "2020-10-27T16:22:50.250548Z",
     "start_time": "2020-10-27T16:22:50.238573Z"
    }
   },
   "outputs": [],
   "source": [
    "df_customerwise[df_customerwise.item_name.isin(notranslist)].to_csv(notrans_pth, index=False)"
   ]
  },
  {
   "cell_type": "code",
   "execution_count": 53,
   "metadata": {
    "ExecuteTime": {
     "end_time": "2020-10-27T16:22:51.025668Z",
     "start_time": "2020-10-27T16:22:51.014698Z"
    }
   },
   "outputs": [],
   "source": [
    "# (df_customerwise[df_customerwise.marathi_name.isna()]\n",
    "#     .drop(columns=['marathi_name', 'total_amt'])\n",
    "#     .to_csv(notrans_pth, index=False))"
   ]
  },
  {
   "cell_type": "markdown",
   "metadata": {},
   "source": [
    "## Drop items whose translations are absent from the Customerwise File"
   ]
  },
  {
   "cell_type": "code",
   "execution_count": 54,
   "metadata": {
    "ExecuteTime": {
     "end_time": "2020-10-27T16:22:51.399624Z",
     "start_time": "2020-10-27T16:22:51.382736Z"
    }
   },
   "outputs": [],
   "source": [
    "df_customerwise.marathi_name = df_customerwise.marathi_name.fillna('')"
   ]
  },
  {
   "cell_type": "code",
   "execution_count": 55,
   "metadata": {
    "ExecuteTime": {
     "end_time": "2020-10-27T16:22:51.553966Z",
     "start_time": "2020-10-27T16:22:51.549418Z"
    }
   },
   "outputs": [],
   "source": [
    "# df_customerwise.dropna(subset=['marathi_name'], inplace=True)"
   ]
  },
  {
   "cell_type": "code",
   "execution_count": 56,
   "metadata": {
    "ExecuteTime": {
     "end_time": "2020-10-27T16:22:52.141462Z",
     "start_time": "2020-10-27T16:22:52.119444Z"
    }
   },
   "outputs": [],
   "source": [
    "df_customerwise.to_csv(save_pth/'full-customerwise.csv', index=False)"
   ]
  },
  {
   "cell_type": "markdown",
   "metadata": {
    "ExecuteTime": {
     "end_time": "2020-08-17T22:49:59.355030Z",
     "start_time": "2020-08-17T22:49:59.351040Z"
    }
   },
   "source": [
    "## Build Excel Savefile"
   ]
  },
  {
   "cell_type": "code",
   "execution_count": 57,
   "metadata": {
    "ExecuteTime": {
     "end_time": "2020-10-27T16:22:52.533348Z",
     "start_time": "2020-10-27T16:22:52.529360Z"
    }
   },
   "outputs": [],
   "source": [
    "highlight_col = 'num_packets'"
   ]
  },
  {
   "cell_type": "code",
   "execution_count": 58,
   "metadata": {
    "ExecuteTime": {
     "end_time": "2020-10-27T16:22:52.704950Z",
     "start_time": "2020-10-27T16:22:52.686245Z"
    }
   },
   "outputs": [],
   "source": [
    "custs = df_customerwise.name + '_' + df_customerwise.token_no.astype(str)\n",
    "custs = custs.unique()"
   ]
  },
  {
   "cell_type": "code",
   "execution_count": 59,
   "metadata": {
    "ExecuteTime": {
     "end_time": "2020-10-27T16:22:52.878050Z",
     "start_time": "2020-10-27T16:22:52.869017Z"
    }
   },
   "outputs": [],
   "source": [
    "def f(x):\n",
    "    col = highlight_col\n",
    "    r = 'background-color: none'\n",
    "    g = 'background-color: #37FDFC'\n",
    "    c = np.where(x[col] > 1, g, r)\n",
    "    y = pd.DataFrame('', index=x.index, columns=x.columns)\n",
    "    for h in all_cols:\n",
    "        y[h] = c\n",
    "    \n",
    "    return y"
   ]
  },
  {
   "cell_type": "code",
   "execution_count": 60,
   "metadata": {
    "ExecuteTime": {
     "end_time": "2020-10-27T16:22:53.050496Z",
     "start_time": "2020-10-27T16:22:53.042512Z"
    }
   },
   "outputs": [],
   "source": [
    "def boldify(x):\n",
    "    col = 'total_amt'\n",
    "    n = 'font-weight: normal'\n",
    "    b = 'font-weight: bold'\n",
    "    c = np.where(x[col] >= 1000.0, b, n)\n",
    "    y = pd.DataFrame('', index=x.index, columns=x.columns)\n",
    "    for h in all_cols:\n",
    "        y[h] = c\n",
    "    \n",
    "    return y"
   ]
  },
  {
   "cell_type": "code",
   "execution_count": 61,
   "metadata": {
    "ExecuteTime": {
     "end_time": "2020-10-27T16:22:53.224089Z",
     "start_time": "2020-10-27T16:22:53.217109Z"
    }
   },
   "outputs": [],
   "source": [
    "all_cols = df_customerwise.columns"
   ]
  },
  {
   "cell_type": "code",
   "execution_count": 62,
   "metadata": {
    "ExecuteTime": {
     "end_time": "2020-10-27T16:22:53.938491Z",
     "start_time": "2020-10-27T16:22:53.926700Z"
    }
   },
   "outputs": [],
   "source": [
    "def get_sum_packets(token):\n",
    "    return sum(orders_dict[token]['order'].values())"
   ]
  },
  {
   "cell_type": "code",
   "execution_count": 63,
   "metadata": {
    "ExecuteTime": {
     "end_time": "2020-10-27T16:22:54.154542Z",
     "start_time": "2020-10-27T16:22:54.140578Z"
    }
   },
   "outputs": [],
   "source": [
    "fname = save_pth/('customerwise-' + str(FILE.stem) + '.xlsx')"
   ]
  },
  {
   "cell_type": "code",
   "execution_count": 64,
   "metadata": {
    "ExecuteTime": {
     "end_time": "2020-10-27T16:23:11.686233Z",
     "start_time": "2020-10-27T16:22:54.322771Z"
    }
   },
   "outputs": [],
   "source": [
    "all_data = 0\n",
    "\n",
    "with pd.ExcelWriter(fname) as writer:\n",
    "    for cust in custs:\n",
    "        data = df_customerwise[df_customerwise.name == cust.split('_')[0]]\n",
    "        data = data[data.token_no == int(cust.split('_')[1])]\n",
    "        all_data += len(data.index)\n",
    "\n",
    "        data = data.append({'marathi_name': 'TOTAL PACKETS', 'num_packets': get_sum_packets(\n",
    "            int(cust.split('_')[1]))}, ignore_index=True)\n",
    "        styled = data.style.apply(f, axis=None)\n",
    "        styled = styled.apply(boldify, axis=None)\n",
    "        styled.to_excel(writer, columns=['token_no', 'name', 'delivery_date', 'item_name', 'marathi_name',\n",
    "                                         'num_packets', 'packing_size', 'final_weight', 'unit'], sheet_name=cust[:31], engine='openpyxl', index=False)\n",
    "\n",
    "assert all_data == len(df_customerwise)"
   ]
  },
  {
   "cell_type": "markdown",
   "metadata": {},
   "source": [
    "## Build PDF Savefile"
   ]
  },
  {
   "cell_type": "code",
   "execution_count": 65,
   "metadata": {
    "ExecuteTime": {
     "end_time": "2020-10-27T16:23:12.375092Z",
     "start_time": "2020-10-27T16:23:11.692217Z"
    }
   },
   "outputs": [],
   "source": [
    "from reportlab.lib.pagesizes import letter, landscape\n",
    "from reportlab.pdfbase.ttfonts import TTFont  \n",
    "from reportlab.pdfbase import pdfmetrics\n",
    "from reportlab.platypus import Table, TableStyle, PageBreak, SimpleDocTemplate\n",
    "from reportlab.lib import colors\n",
    "\n",
    "pdfmetrics.registerFont(TTFont(\"mangal\", \"font/Lohit-Devanagari.ttf\"))"
   ]
  },
  {
   "cell_type": "code",
   "execution_count": 66,
   "metadata": {
    "ExecuteTime": {
     "end_time": "2020-10-27T16:23:12.390803Z",
     "start_time": "2020-10-27T16:23:12.379832Z"
    }
   },
   "outputs": [],
   "source": [
    "df_customerwise.drop(columns=['delivery_date', 'total_amt'], inplace=True)"
   ]
  },
  {
   "cell_type": "code",
   "execution_count": 67,
   "metadata": {
    "ExecuteTime": {
     "end_time": "2020-10-27T16:23:12.406761Z",
     "start_time": "2020-10-27T16:23:12.397898Z"
    }
   },
   "outputs": [],
   "source": [
    "# get index of num_packets, marathi_name\n",
    "for i, col in enumerate(df_customerwise.columns): \n",
    "    if col == highlight_col: qty_index = i\n",
    "    if col == 'marathi_name': marathi_index = i"
   ]
  },
  {
   "cell_type": "code",
   "execution_count": 68,
   "metadata": {
    "ExecuteTime": {
     "end_time": "2020-10-27T16:23:12.453684Z",
     "start_time": "2020-10-27T16:23:12.412745Z"
    }
   },
   "outputs": [],
   "source": [
    "def create_pdf(data):\n",
    "    \n",
    "    pdfy_data = data.to_numpy().tolist()\n",
    "    pdfy_data.insert(0, data.columns.values.tolist())\n",
    "\n",
    "#     pdf = SimpleDocTemplate(\n",
    "#         fname,\n",
    "#         pagesize=landscape(letter),\n",
    "#     #     font='mangal'\n",
    "#     )\n",
    "\n",
    "    table = Table(pdfy_data)\n",
    "\n",
    "    style = TableStyle([\n",
    "    #     ('BACKGROUND', (0,0), (3,0), colors.green),\n",
    "    #     ('TEXTCOLOR',(0,0),(-1,0),colors.whitesmoke),\n",
    "\n",
    "        ('ALIGN',(0,0),(-1,-1),'CENTER'),\n",
    "    #     ('FONTNAME', (0,0), (-1,0), 'Courier-Bold'),\n",
    "        ('FONTSIZE', (0,0), (-1,0), 10),\n",
    "        ('BOTTOMPADDING', (0,0), (-1,0), 12),\n",
    "        ('FONTNAME',(marathi_index,1),(marathi_index,-1),'mangal'),\n",
    "        ('BACKGROUND',(0,0),(-1,0),colors.burlywood),\n",
    "        ('BACKGROUND',(qty_index,-1),(qty_index,-1),colors.springgreen)\n",
    "    ])\n",
    "    \n",
    "    table.setStyle(style)\n",
    "\n",
    "    rowNumb = len(pdfy_data)\n",
    "    for i in range(1, rowNumb-1):\n",
    "        if pdfy_data[i][qty_index] > 1:\n",
    "            bc = colors.aqua\n",
    "        else:\n",
    "            bc = colors.white\n",
    "        ts = TableStyle(\n",
    "            [('BACKGROUND', (0,i),(-1,i), bc)]\n",
    "        )\n",
    "        table.setStyle(ts)\n",
    "\n",
    "    # 3) Add borders\n",
    "    ts = TableStyle(\n",
    "        [\n",
    "    #     ('BOX',(0,0),(-1,-1),2,colors.black),\n",
    "\n",
    "    #     ('LINEBEFORE',(2,1),(2,-1),2,colors.red),\n",
    "    #     ('LINEABOVE',(0,2),(-1,2),2,colors.green),\n",
    "\n",
    "        ('GRID',(0,0),(-1,-2),2,colors.black),\n",
    "        ]\n",
    "    )\n",
    "    table.setStyle(ts)\n",
    "\n",
    "#     elems = []\n",
    "    elems.append(table)\n",
    "    elems.append(PageBreak())\n",
    "    \n",
    "#     pdf.build(elems)"
   ]
  },
  {
   "cell_type": "code",
   "execution_count": 69,
   "metadata": {
    "ExecuteTime": {
     "end_time": "2020-10-27T16:23:12.484223Z",
     "start_time": "2020-10-27T16:23:12.460620Z"
    }
   },
   "outputs": [],
   "source": [
    "fname = str(PDF_DIR/('customerwise-' + str(FILE.stem) + '.pdf'))"
   ]
  },
  {
   "cell_type": "code",
   "execution_count": 70,
   "metadata": {
    "ExecuteTime": {
     "end_time": "2020-10-27T16:23:12.593910Z",
     "start_time": "2020-10-27T16:23:12.491922Z"
    }
   },
   "outputs": [],
   "source": [
    "pdf = SimpleDocTemplate(\n",
    "        fname,\n",
    "        pagesize=landscape(letter),\n",
    "    #     font='mangal'\n",
    "    )\n",
    "\n",
    "elems = []"
   ]
  },
  {
   "cell_type": "code",
   "execution_count": 71,
   "metadata": {
    "ExecuteTime": {
     "end_time": "2020-10-27T16:23:14.374233Z",
     "start_time": "2020-10-27T16:23:12.598637Z"
    }
   },
   "outputs": [],
   "source": [
    "all_data = 0\n",
    "\n",
    "for cust in custs:\n",
    "    data = df_customerwise[df_customerwise.name == cust.split('_')[0]]\n",
    "    data = data[data.token_no == int(cust.split('_')[1])]\n",
    "    \n",
    "    data.token_no = data.token_no.astype(int)\n",
    "    data.num_packets = data.num_packets.astype(int)\n",
    "    \n",
    "    all_data += len(data.index)\n",
    "    \n",
    "    data = data.append({'num_packets': get_sum_packets(\n",
    "        int(cust.split('_')[1]))}, ignore_index=True)\n",
    "\n",
    "    data = data.fillna('')\n",
    "    create_pdf(data)\n",
    "\n",
    "assert all_data == len(df_customerwise)"
   ]
  },
  {
   "cell_type": "code",
   "execution_count": 72,
   "metadata": {
    "ExecuteTime": {
     "end_time": "2020-10-27T16:23:15.514933Z",
     "start_time": "2020-10-27T16:23:14.380218Z"
    }
   },
   "outputs": [],
   "source": [
    "pdf.build(elems)"
   ]
  },
  {
   "cell_type": "code",
   "execution_count": null,
   "metadata": {},
   "outputs": [],
   "source": []
  },
  {
   "cell_type": "code",
   "execution_count": null,
   "metadata": {},
   "outputs": [],
   "source": []
  },
  {
   "cell_type": "code",
   "execution_count": null,
   "metadata": {},
   "outputs": [],
   "source": []
  },
  {
   "cell_type": "markdown",
   "metadata": {},
   "source": [
    "# Printout File"
   ]
  },
  {
   "cell_type": "code",
   "execution_count": 108,
   "metadata": {
    "ExecuteTime": {
     "end_time": "2020-10-26T18:03:25.740401Z",
     "start_time": "2020-10-26T18:03:25.730425Z"
    }
   },
   "outputs": [],
   "source": [
    "# decision for vegetables vs seasonal fruits"
   ]
  },
  {
   "cell_type": "code",
   "execution_count": 73,
   "metadata": {
    "ExecuteTime": {
     "end_time": "2020-10-27T16:23:15.546089Z",
     "start_time": "2020-10-27T16:23:15.521878Z"
    }
   },
   "outputs": [],
   "source": [
    "def is_trans(x, thresh=85):\n",
    "    rmax = -1\n",
    "    trans = ''\n",
    "    for k in eng2marathi.keys():\n",
    "        if fuzz.ratio(k, x) > rmax:\n",
    "            rmax = fuzz.ratio(k, x)\n",
    "            trans = eng2marathi[k]\n",
    "\n",
    "    return rmax > thresh"
   ]
  },
  {
   "cell_type": "code",
   "execution_count": 74,
   "metadata": {
    "ExecuteTime": {
     "end_time": "2020-10-27T16:23:15.746708Z",
     "start_time": "2020-10-27T16:23:15.553792Z"
    }
   },
   "outputs": [],
   "source": [
    "translations = [is_trans(i) for i in all_items]"
   ]
  },
  {
   "cell_type": "code",
   "execution_count": 75,
   "metadata": {
    "ExecuteTime": {
     "end_time": "2020-10-27T16:23:15.872461Z",
     "start_time": "2020-10-27T16:23:15.751304Z"
    }
   },
   "outputs": [],
   "source": [
    "pipe_separated = sum(translations)/len(translations) < 0.4 # less than 40% translations are present"
   ]
  },
  {
   "cell_type": "code",
   "execution_count": 76,
   "metadata": {
    "ExecuteTime": {
     "end_time": "2020-10-27T16:23:15.902377Z",
     "start_time": "2020-10-27T16:23:15.879439Z"
    }
   },
   "outputs": [
    {
     "data": {
      "text/plain": [
       "False"
      ]
     },
     "execution_count": 76,
     "metadata": {},
     "output_type": "execute_result"
    }
   ],
   "source": [
    "pipe_separated"
   ]
  },
  {
   "cell_type": "markdown",
   "metadata": {},
   "source": [
    "## Sudeep"
   ]
  },
  {
   "cell_type": "code",
   "execution_count": 77,
   "metadata": {
    "ExecuteTime": {
     "end_time": "2020-10-27T16:23:17.236933Z",
     "start_time": "2020-10-27T16:23:17.225647Z"
    }
   },
   "outputs": [],
   "source": [
    "def get_pipe_separated(token):\n",
    "    order = orders_dict[token]['order']\n",
    "    s=[]\n",
    "    for k, v in order.items():\n",
    "        s.append(k + ': ' + str(int(v)))\n",
    "    \n",
    "    return ' | '.join(s)"
   ]
  },
  {
   "cell_type": "code",
   "execution_count": 78,
   "metadata": {
    "ExecuteTime": {
     "end_time": "2020-10-27T16:23:17.455324Z",
     "start_time": "2020-10-27T16:23:17.444271Z"
    }
   },
   "outputs": [],
   "source": [
    "rows_list_sudeep = []\n",
    "for token, o in orders_dict.items():\n",
    "    row_dct = {}\n",
    "    row_dct['token_no'] = token\n",
    "    row_dct['name'] = o['name']\n",
    "    row_dct['drop_point'] = o['drop_point']\n",
    "    row_dct['building'] = o['building']\n",
    "    row_dct['wing'] = o['wing']\n",
    "    row_dct['flat_no'] = o['flat_no']\n",
    "    row_dct['phone_no'] = o['phone_no']\n",
    "    row_dct['email'] = o['email']\n",
    "    \n",
    "    if pipe_separated: row_dct['items'] = get_pipe_separated(token)\n",
    "    else: row_dct['num_packets'] = get_sum_packets(token)\n",
    "    \n",
    "    row_dct['total_amount'] = o['total_amount']\n",
    "    row_dct['total_cp'] = o['total_cost_price']\n",
    "    row_dct['profit'] = o['profit']\n",
    "    \n",
    "    \n",
    "    rows_list_sudeep.append(row_dct)"
   ]
  },
  {
   "cell_type": "code",
   "execution_count": 79,
   "metadata": {
    "ExecuteTime": {
     "end_time": "2020-10-27T16:23:17.614124Z",
     "start_time": "2020-10-27T16:23:17.605178Z"
    }
   },
   "outputs": [],
   "source": [
    "df_print_sudeep = pd.DataFrame(rows_list_sudeep)"
   ]
  },
  {
   "cell_type": "code",
   "execution_count": 80,
   "metadata": {
    "ExecuteTime": {
     "end_time": "2020-10-27T16:23:18.393604Z",
     "start_time": "2020-10-27T16:23:18.368147Z"
    }
   },
   "outputs": [
    {
     "data": {
      "text/html": [
       "<div>\n",
       "<style scoped>\n",
       "    .dataframe tbody tr th:only-of-type {\n",
       "        vertical-align: middle;\n",
       "    }\n",
       "\n",
       "    .dataframe tbody tr th {\n",
       "        vertical-align: top;\n",
       "    }\n",
       "\n",
       "    .dataframe thead th {\n",
       "        text-align: right;\n",
       "    }\n",
       "</style>\n",
       "<table border=\"1\" class=\"dataframe\">\n",
       "  <thead>\n",
       "    <tr style=\"text-align: right;\">\n",
       "      <th></th>\n",
       "      <th>token_no</th>\n",
       "      <th>name</th>\n",
       "      <th>drop_point</th>\n",
       "      <th>building</th>\n",
       "      <th>wing</th>\n",
       "      <th>flat_no</th>\n",
       "      <th>phone_no</th>\n",
       "      <th>email</th>\n",
       "      <th>num_packets</th>\n",
       "      <th>total_amount</th>\n",
       "      <th>total_cp</th>\n",
       "      <th>profit</th>\n",
       "    </tr>\n",
       "  </thead>\n",
       "  <tbody>\n",
       "    <tr>\n",
       "      <th>0</th>\n",
       "      <td>1</td>\n",
       "      <td>Kumkum; Jain</td>\n",
       "      <td>Ajmera iLand</td>\n",
       "      <td>Aeon</td>\n",
       "      <td>A Wing</td>\n",
       "      <td>302</td>\n",
       "      <td>9930160637</td>\n",
       "      <td>Jainkmkm@gmail.com</td>\n",
       "      <td>26.0</td>\n",
       "      <td>791</td>\n",
       "      <td>26.0</td>\n",
       "      <td>765.0</td>\n",
       "    </tr>\n",
       "    <tr>\n",
       "      <th>1</th>\n",
       "      <td>2</td>\n",
       "      <td>Rashmita; Sundaram</td>\n",
       "      <td>Ajmera iLand</td>\n",
       "      <td>Aeon</td>\n",
       "      <td>A Wing</td>\n",
       "      <td>1202</td>\n",
       "      <td>9004913659</td>\n",
       "      <td>Rashmita.sundaram@gmail.com</td>\n",
       "      <td>11.0</td>\n",
       "      <td>412</td>\n",
       "      <td>11.0</td>\n",
       "      <td>401.0</td>\n",
       "    </tr>\n",
       "    <tr>\n",
       "      <th>2</th>\n",
       "      <td>3</td>\n",
       "      <td>Neha; Aggarwal</td>\n",
       "      <td>Ajmera iLand</td>\n",
       "      <td>Aeon</td>\n",
       "      <td>A Wing</td>\n",
       "      <td>101</td>\n",
       "      <td>9999488247</td>\n",
       "      <td>Naggdce@gmail.com</td>\n",
       "      <td>25.0</td>\n",
       "      <td>877</td>\n",
       "      <td>25.0</td>\n",
       "      <td>852.0</td>\n",
       "    </tr>\n",
       "    <tr>\n",
       "      <th>3</th>\n",
       "      <td>4</td>\n",
       "      <td>Ruchi; Mundhra</td>\n",
       "      <td>Ajmera iLand</td>\n",
       "      <td>Treon</td>\n",
       "      <td>A Wing</td>\n",
       "      <td>1603</td>\n",
       "      <td>919920748892</td>\n",
       "      <td>mundhra.ruchi72@gmail.com</td>\n",
       "      <td>8.0</td>\n",
       "      <td>266</td>\n",
       "      <td>8.0</td>\n",
       "      <td>258.0</td>\n",
       "    </tr>\n",
       "    <tr>\n",
       "      <th>4</th>\n",
       "      <td>5</td>\n",
       "      <td>Prerna; Jain</td>\n",
       "      <td>Ajmera iLand</td>\n",
       "      <td>Zeon</td>\n",
       "      <td>A Wing</td>\n",
       "      <td>2403</td>\n",
       "      <td>9920579019</td>\n",
       "      <td>prerna206@gmail.com</td>\n",
       "      <td>39.0</td>\n",
       "      <td>1567</td>\n",
       "      <td>39.0</td>\n",
       "      <td>1528.0</td>\n",
       "    </tr>\n",
       "  </tbody>\n",
       "</table>\n",
       "</div>"
      ],
      "text/plain": [
       "   token_no                name    drop_point building    wing flat_no  \\\n",
       "0         1        Kumkum; Jain  Ajmera iLand     Aeon  A Wing     302   \n",
       "1         2  Rashmita; Sundaram  Ajmera iLand     Aeon  A Wing    1202   \n",
       "2         3      Neha; Aggarwal  Ajmera iLand     Aeon  A Wing     101   \n",
       "3         4      Ruchi; Mundhra  Ajmera iLand    Treon  A Wing    1603   \n",
       "4         5        Prerna; Jain  Ajmera iLand     Zeon  A Wing    2403   \n",
       "\n",
       "       phone_no                        email  num_packets  total_amount  \\\n",
       "0    9930160637           Jainkmkm@gmail.com         26.0           791   \n",
       "1    9004913659  Rashmita.sundaram@gmail.com         11.0           412   \n",
       "2    9999488247            Naggdce@gmail.com         25.0           877   \n",
       "3  919920748892    mundhra.ruchi72@gmail.com          8.0           266   \n",
       "4    9920579019          prerna206@gmail.com         39.0          1567   \n",
       "\n",
       "   total_cp  profit  \n",
       "0      26.0   765.0  \n",
       "1      11.0   401.0  \n",
       "2      25.0   852.0  \n",
       "3       8.0   258.0  \n",
       "4      39.0  1528.0  "
      ]
     },
     "execution_count": 80,
     "metadata": {},
     "output_type": "execute_result"
    }
   ],
   "source": [
    "df_print_sudeep.head()"
   ]
  },
  {
   "cell_type": "code",
   "execution_count": 81,
   "metadata": {
    "ExecuteTime": {
     "end_time": "2020-10-27T16:23:18.595136Z",
     "start_time": "2020-10-27T16:23:18.576561Z"
    }
   },
   "outputs": [
    {
     "data": {
      "text/plain": [
       "WindowsPath('C:/Playground/bhaiya-orders/zoho-bhor-farms/outputs/Final Input 29th Veg')"
      ]
     },
     "execution_count": 81,
     "metadata": {},
     "output_type": "execute_result"
    }
   ],
   "source": [
    "save_pth"
   ]
  },
  {
   "cell_type": "code",
   "execution_count": 82,
   "metadata": {
    "ExecuteTime": {
     "end_time": "2020-10-27T16:23:19.374609Z",
     "start_time": "2020-10-27T16:23:19.352668Z"
    }
   },
   "outputs": [],
   "source": [
    "df_print_sudeep.to_csv(save_pth/'print-sudeep.csv', index=False)"
   ]
  },
  {
   "cell_type": "markdown",
   "metadata": {},
   "source": [
    "## Vishal"
   ]
  },
  {
   "cell_type": "code",
   "execution_count": 83,
   "metadata": {
    "ExecuteTime": {
     "end_time": "2020-10-27T16:23:19.762417Z",
     "start_time": "2020-10-27T16:23:19.746460Z"
    }
   },
   "outputs": [],
   "source": [
    "rows_list_vishal = []\n",
    "for token, o in orders_dict.items():\n",
    "    row_dct = {}\n",
    "    row_dct['token_no'] = token\n",
    "    row_dct['name'] = o['name']\n",
    "    row_dct['drop_point'] = o['drop_point']\n",
    "    row_dct['building'] = o['building']\n",
    "    row_dct['wing'] = o['wing']\n",
    "    row_dct['flat_no'] = o['flat_no']\n",
    "#     row_dct['phone_no'] = o['phone_no']\n",
    "#     row_dct['email'] = o['email']\n",
    "\n",
    "    if pipe_separated: row_dct['items'] = get_pipe_separated(token)\n",
    "    else: row_dct['num_packets'] = get_sum_packets(token)    \n",
    "    \n",
    "    if 'total_amount' in o.keys():\n",
    "        row_dct['total_amount'] = o['total_amount']\n",
    "    \n",
    "    rows_list_vishal.append(row_dct)"
   ]
  },
  {
   "cell_type": "code",
   "execution_count": 84,
   "metadata": {
    "ExecuteTime": {
     "end_time": "2020-10-27T16:23:20.381899Z",
     "start_time": "2020-10-27T16:23:20.363221Z"
    }
   },
   "outputs": [],
   "source": [
    "df_print_vishal = pd.DataFrame(rows_list_vishal)"
   ]
  },
  {
   "cell_type": "code",
   "execution_count": 85,
   "metadata": {
    "ExecuteTime": {
     "end_time": "2020-10-27T16:23:20.613894Z",
     "start_time": "2020-10-27T16:23:20.589873Z"
    }
   },
   "outputs": [
    {
     "data": {
      "text/html": [
       "<div>\n",
       "<style scoped>\n",
       "    .dataframe tbody tr th:only-of-type {\n",
       "        vertical-align: middle;\n",
       "    }\n",
       "\n",
       "    .dataframe tbody tr th {\n",
       "        vertical-align: top;\n",
       "    }\n",
       "\n",
       "    .dataframe thead th {\n",
       "        text-align: right;\n",
       "    }\n",
       "</style>\n",
       "<table border=\"1\" class=\"dataframe\">\n",
       "  <thead>\n",
       "    <tr style=\"text-align: right;\">\n",
       "      <th></th>\n",
       "      <th>token_no</th>\n",
       "      <th>name</th>\n",
       "      <th>drop_point</th>\n",
       "      <th>building</th>\n",
       "      <th>wing</th>\n",
       "      <th>flat_no</th>\n",
       "      <th>num_packets</th>\n",
       "      <th>total_amount</th>\n",
       "    </tr>\n",
       "  </thead>\n",
       "  <tbody>\n",
       "    <tr>\n",
       "      <th>0</th>\n",
       "      <td>1</td>\n",
       "      <td>Kumkum; Jain</td>\n",
       "      <td>Ajmera iLand</td>\n",
       "      <td>Aeon</td>\n",
       "      <td>A Wing</td>\n",
       "      <td>302</td>\n",
       "      <td>26.0</td>\n",
       "      <td>791</td>\n",
       "    </tr>\n",
       "    <tr>\n",
       "      <th>1</th>\n",
       "      <td>2</td>\n",
       "      <td>Rashmita; Sundaram</td>\n",
       "      <td>Ajmera iLand</td>\n",
       "      <td>Aeon</td>\n",
       "      <td>A Wing</td>\n",
       "      <td>1202</td>\n",
       "      <td>11.0</td>\n",
       "      <td>412</td>\n",
       "    </tr>\n",
       "    <tr>\n",
       "      <th>2</th>\n",
       "      <td>3</td>\n",
       "      <td>Neha; Aggarwal</td>\n",
       "      <td>Ajmera iLand</td>\n",
       "      <td>Aeon</td>\n",
       "      <td>A Wing</td>\n",
       "      <td>101</td>\n",
       "      <td>25.0</td>\n",
       "      <td>877</td>\n",
       "    </tr>\n",
       "    <tr>\n",
       "      <th>3</th>\n",
       "      <td>4</td>\n",
       "      <td>Ruchi; Mundhra</td>\n",
       "      <td>Ajmera iLand</td>\n",
       "      <td>Treon</td>\n",
       "      <td>A Wing</td>\n",
       "      <td>1603</td>\n",
       "      <td>8.0</td>\n",
       "      <td>266</td>\n",
       "    </tr>\n",
       "    <tr>\n",
       "      <th>4</th>\n",
       "      <td>5</td>\n",
       "      <td>Prerna; Jain</td>\n",
       "      <td>Ajmera iLand</td>\n",
       "      <td>Zeon</td>\n",
       "      <td>A Wing</td>\n",
       "      <td>2403</td>\n",
       "      <td>39.0</td>\n",
       "      <td>1567</td>\n",
       "    </tr>\n",
       "  </tbody>\n",
       "</table>\n",
       "</div>"
      ],
      "text/plain": [
       "   token_no                name    drop_point building    wing flat_no  \\\n",
       "0         1        Kumkum; Jain  Ajmera iLand     Aeon  A Wing     302   \n",
       "1         2  Rashmita; Sundaram  Ajmera iLand     Aeon  A Wing    1202   \n",
       "2         3      Neha; Aggarwal  Ajmera iLand     Aeon  A Wing     101   \n",
       "3         4      Ruchi; Mundhra  Ajmera iLand    Treon  A Wing    1603   \n",
       "4         5        Prerna; Jain  Ajmera iLand     Zeon  A Wing    2403   \n",
       "\n",
       "   num_packets  total_amount  \n",
       "0         26.0           791  \n",
       "1         11.0           412  \n",
       "2         25.0           877  \n",
       "3          8.0           266  \n",
       "4         39.0          1567  "
      ]
     },
     "execution_count": 85,
     "metadata": {},
     "output_type": "execute_result"
    }
   ],
   "source": [
    "df_print_vishal.head()"
   ]
  },
  {
   "cell_type": "code",
   "execution_count": 86,
   "metadata": {
    "ExecuteTime": {
     "end_time": "2020-10-27T16:23:20.784799Z",
     "start_time": "2020-10-27T16:23:20.774767Z"
    }
   },
   "outputs": [],
   "source": [
    "df_print_vishal.to_csv(save_pth/'print-vishal.csv', index=False)"
   ]
  },
  {
   "cell_type": "markdown",
   "metadata": {},
   "source": [
    "## Dropwise "
   ]
  },
  {
   "cell_type": "code",
   "execution_count": 87,
   "metadata": {
    "ExecuteTime": {
     "end_time": "2020-10-27T16:23:21.643481Z",
     "start_time": "2020-10-27T16:23:21.626204Z"
    }
   },
   "outputs": [],
   "source": [
    "df_print_vishal.drop_point = df_print_vishal.drop_point.fillna('')"
   ]
  },
  {
   "cell_type": "code",
   "execution_count": 88,
   "metadata": {
    "ExecuteTime": {
     "end_time": "2020-10-27T16:23:21.799135Z",
     "start_time": "2020-10-27T16:23:21.794524Z"
    }
   },
   "outputs": [],
   "source": [
    "drops = df_print_vishal.drop_point.unique()"
   ]
  },
  {
   "cell_type": "code",
   "execution_count": 89,
   "metadata": {
    "ExecuteTime": {
     "end_time": "2020-10-27T16:23:21.986433Z",
     "start_time": "2020-10-27T16:23:21.968377Z"
    }
   },
   "outputs": [],
   "source": [
    "# fname = save_pth/\"dropwise-phool.xlsx\"\n",
    "fname = save_pth/('dropwise-' + str(FILE.stem) + '.xlsx')"
   ]
  },
  {
   "cell_type": "code",
   "execution_count": 90,
   "metadata": {
    "ExecuteTime": {
     "end_time": "2020-10-27T16:23:22.143284Z",
     "start_time": "2020-10-27T16:23:22.129293Z"
    }
   },
   "outputs": [
    {
     "data": {
      "text/plain": [
       "array(['Ajmera iLand', 'Cosmic', 'Dosti Acres', 'Ivory', 'Lodha NCP',\n",
       "       'R1', 'R12', 'R2', 'Sector 1/2'], dtype=object)"
      ]
     },
     "execution_count": 90,
     "metadata": {},
     "output_type": "execute_result"
    }
   ],
   "source": [
    "drops"
   ]
  },
  {
   "cell_type": "code",
   "execution_count": 91,
   "metadata": {
    "ExecuteTime": {
     "end_time": "2020-10-27T16:23:22.747898Z",
     "start_time": "2020-10-27T16:23:22.726835Z"
    }
   },
   "outputs": [
    {
     "data": {
      "text/html": [
       "<div>\n",
       "<style scoped>\n",
       "    .dataframe tbody tr th:only-of-type {\n",
       "        vertical-align: middle;\n",
       "    }\n",
       "\n",
       "    .dataframe tbody tr th {\n",
       "        vertical-align: top;\n",
       "    }\n",
       "\n",
       "    .dataframe thead th {\n",
       "        text-align: right;\n",
       "    }\n",
       "</style>\n",
       "<table border=\"1\" class=\"dataframe\">\n",
       "  <thead>\n",
       "    <tr style=\"text-align: right;\">\n",
       "      <th></th>\n",
       "      <th>token_no</th>\n",
       "      <th>name</th>\n",
       "      <th>drop_point</th>\n",
       "      <th>building</th>\n",
       "      <th>wing</th>\n",
       "      <th>flat_no</th>\n",
       "      <th>phone_no</th>\n",
       "      <th>email</th>\n",
       "      <th>num_packets</th>\n",
       "      <th>total_amount</th>\n",
       "      <th>total_cp</th>\n",
       "      <th>profit</th>\n",
       "    </tr>\n",
       "  </thead>\n",
       "  <tbody>\n",
       "  </tbody>\n",
       "</table>\n",
       "</div>"
      ],
      "text/plain": [
       "Empty DataFrame\n",
       "Columns: [token_no, name, drop_point, building, wing, flat_no, phone_no, email, num_packets, total_amount, total_cp, profit]\n",
       "Index: []"
      ]
     },
     "execution_count": 91,
     "metadata": {},
     "output_type": "execute_result"
    }
   ],
   "source": [
    "df_print_sudeep.loc[df_print_sudeep.drop_point == 0]"
   ]
  },
  {
   "cell_type": "code",
   "execution_count": 92,
   "metadata": {
    "ExecuteTime": {
     "end_time": "2020-10-27T16:23:22.933699Z",
     "start_time": "2020-10-27T16:23:22.925720Z"
    }
   },
   "outputs": [],
   "source": [
    "df_print_sudeep.loc[df_print_sudeep.drop_point == 0, 'drop_point'] = ['']"
   ]
  },
  {
   "cell_type": "code",
   "execution_count": 93,
   "metadata": {
    "ExecuteTime": {
     "end_time": "2020-10-27T16:23:25.222239Z",
     "start_time": "2020-10-27T16:23:24.966660Z"
    }
   },
   "outputs": [],
   "source": [
    "all_data = 0\n",
    "\n",
    "with pd.ExcelWriter(fname) as writer:\n",
    "    for drop in drops:\n",
    "        data = df_print_vishal[df_print_vishal.drop_point == drop]\n",
    "        all_data += len(data.index)\n",
    "\n",
    "        invalid_chars = '[]:*?/\\\\'\n",
    "        for c in invalid_chars: drop = drop.replace(c, '')\n",
    "        \n",
    "        data.to_excel(writer, sheet_name=drop, index=False)\n",
    "    \n",
    "assert all_data == len(df_print_vishal)"
   ]
  },
  {
   "cell_type": "markdown",
   "metadata": {},
   "source": [
    "## Tokens"
   ]
  },
  {
   "cell_type": "code",
   "execution_count": 94,
   "metadata": {
    "ExecuteTime": {
     "end_time": "2020-10-27T16:23:26.050358Z",
     "start_time": "2020-10-27T16:23:26.043350Z"
    }
   },
   "outputs": [],
   "source": [
    "subset_cols = ['name', 'token_no', 'building', 'wing', 'flat_no']"
   ]
  },
  {
   "cell_type": "code",
   "execution_count": 95,
   "metadata": {
    "ExecuteTime": {
     "end_time": "2020-10-27T16:23:26.255642Z",
     "start_time": "2020-10-27T16:23:26.237619Z"
    }
   },
   "outputs": [],
   "source": [
    "df_tokens = df_print_vishal[subset_cols]"
   ]
  },
  {
   "cell_type": "code",
   "execution_count": 96,
   "metadata": {
    "ExecuteTime": {
     "end_time": "2020-10-27T16:23:26.426264Z",
     "start_time": "2020-10-27T16:23:26.410795Z"
    }
   },
   "outputs": [],
   "source": [
    "drops = df_print_vishal.drop_point.unique()"
   ]
  },
  {
   "cell_type": "code",
   "execution_count": 97,
   "metadata": {
    "ExecuteTime": {
     "end_time": "2020-10-27T16:23:27.066495Z",
     "start_time": "2020-10-27T16:23:27.060924Z"
    }
   },
   "outputs": [],
   "source": [
    "# fname = save_pth/\"tokens-phool.xlsx\"\n",
    "fname = save_pth/('tokens-' + str(FILE.stem) + '.xlsx')"
   ]
  },
  {
   "cell_type": "code",
   "execution_count": 98,
   "metadata": {
    "ExecuteTime": {
     "end_time": "2020-10-27T16:23:27.517106Z",
     "start_time": "2020-10-27T16:23:27.262052Z"
    }
   },
   "outputs": [],
   "source": [
    "all_data = 0\n",
    "\n",
    "with pd.ExcelWriter(fname) as writer:\n",
    "    for drop in drops:\n",
    "        data = df_print_vishal[df_print_vishal.drop_point == drop]\n",
    "        all_data += len(data.index)\n",
    "        \n",
    "        invalid_chars = '[]:*?/\\\\'\n",
    "        for c in invalid_chars: drop = drop.replace(c, '')\n",
    "        \n",
    "        data.to_excel(writer, sheet_name=drop, columns=subset_cols, index=False)\n",
    "    \n",
    "assert all_data == len(df_print_vishal)"
   ]
  },
  {
   "cell_type": "markdown",
   "metadata": {},
   "source": [
    "# Dropwise Count"
   ]
  },
  {
   "cell_type": "code",
   "execution_count": 99,
   "metadata": {
    "ExecuteTime": {
     "end_time": "2020-10-27T16:23:28.123077Z",
     "start_time": "2020-10-27T16:23:28.111339Z"
    }
   },
   "outputs": [],
   "source": [
    "rows_list = []\n",
    "for token, order in orders_dict.items():\n",
    "    for item, count in order['order'].items():\n",
    "        row_dct = {}\n",
    "        row_dct['drop_point'] = order['drop_point']\n",
    "        row_dct['item_name'] = item\n",
    "        row_dct['num_packets'] = count\n",
    "        \n",
    "        rows_list.append(row_dct)"
   ]
  },
  {
   "cell_type": "code",
   "execution_count": 100,
   "metadata": {
    "ExecuteTime": {
     "end_time": "2020-10-27T16:23:28.294209Z",
     "start_time": "2020-10-27T16:23:28.280215Z"
    }
   },
   "outputs": [],
   "source": [
    "df_dropwise = pd.DataFrame(rows_list)"
   ]
  },
  {
   "cell_type": "code",
   "execution_count": 101,
   "metadata": {
    "ExecuteTime": {
     "end_time": "2020-10-27T16:23:28.872704Z",
     "start_time": "2020-10-27T16:23:28.849691Z"
    }
   },
   "outputs": [
    {
     "data": {
      "text/html": [
       "<div>\n",
       "<style scoped>\n",
       "    .dataframe tbody tr th:only-of-type {\n",
       "        vertical-align: middle;\n",
       "    }\n",
       "\n",
       "    .dataframe tbody tr th {\n",
       "        vertical-align: top;\n",
       "    }\n",
       "\n",
       "    .dataframe thead th {\n",
       "        text-align: right;\n",
       "    }\n",
       "</style>\n",
       "<table border=\"1\" class=\"dataframe\">\n",
       "  <thead>\n",
       "    <tr style=\"text-align: right;\">\n",
       "      <th></th>\n",
       "      <th>drop_point</th>\n",
       "      <th>item_name</th>\n",
       "      <th>num_packets</th>\n",
       "    </tr>\n",
       "  </thead>\n",
       "  <tbody>\n",
       "    <tr>\n",
       "      <th>0</th>\n",
       "      <td>Ajmera iLand</td>\n",
       "      <td>Potatoes</td>\n",
       "      <td>2.0</td>\n",
       "    </tr>\n",
       "    <tr>\n",
       "      <th>1</th>\n",
       "      <td>Ajmera iLand</td>\n",
       "      <td>Cauliflower</td>\n",
       "      <td>1.0</td>\n",
       "    </tr>\n",
       "    <tr>\n",
       "      <th>2</th>\n",
       "      <td>Ajmera iLand</td>\n",
       "      <td>Cabbage</td>\n",
       "      <td>1.0</td>\n",
       "    </tr>\n",
       "    <tr>\n",
       "      <th>3</th>\n",
       "      <td>Ajmera iLand</td>\n",
       "      <td>Brinjal Bharta</td>\n",
       "      <td>1.0</td>\n",
       "    </tr>\n",
       "    <tr>\n",
       "      <th>4</th>\n",
       "      <td>Ajmera iLand</td>\n",
       "      <td>Cucumber</td>\n",
       "      <td>2.0</td>\n",
       "    </tr>\n",
       "    <tr>\n",
       "      <th>...</th>\n",
       "      <td>...</td>\n",
       "      <td>...</td>\n",
       "      <td>...</td>\n",
       "    </tr>\n",
       "    <tr>\n",
       "      <th>985</th>\n",
       "      <td>Sector 1/2</td>\n",
       "      <td>Lemons</td>\n",
       "      <td>1.0</td>\n",
       "    </tr>\n",
       "    <tr>\n",
       "      <th>986</th>\n",
       "      <td>Sector 1/2</td>\n",
       "      <td>Curry Leaves</td>\n",
       "      <td>1.0</td>\n",
       "    </tr>\n",
       "    <tr>\n",
       "      <th>987</th>\n",
       "      <td>Sector 1/2</td>\n",
       "      <td>Coriander Leaves</td>\n",
       "      <td>1.0</td>\n",
       "    </tr>\n",
       "    <tr>\n",
       "      <th>988</th>\n",
       "      <td>Sector 1/2</td>\n",
       "      <td>Carrots</td>\n",
       "      <td>1.0</td>\n",
       "    </tr>\n",
       "    <tr>\n",
       "      <th>989</th>\n",
       "      <td>Sector 1/2</td>\n",
       "      <td>Radish/Muli</td>\n",
       "      <td>1.0</td>\n",
       "    </tr>\n",
       "  </tbody>\n",
       "</table>\n",
       "<p>990 rows × 3 columns</p>\n",
       "</div>"
      ],
      "text/plain": [
       "       drop_point         item_name  num_packets\n",
       "0    Ajmera iLand          Potatoes          2.0\n",
       "1    Ajmera iLand       Cauliflower          1.0\n",
       "2    Ajmera iLand           Cabbage          1.0\n",
       "3    Ajmera iLand    Brinjal Bharta          1.0\n",
       "4    Ajmera iLand          Cucumber          2.0\n",
       "..            ...               ...          ...\n",
       "985    Sector 1/2            Lemons          1.0\n",
       "986    Sector 1/2      Curry Leaves          1.0\n",
       "987    Sector 1/2  Coriander Leaves          1.0\n",
       "988    Sector 1/2           Carrots          1.0\n",
       "989    Sector 1/2       Radish/Muli          1.0\n",
       "\n",
       "[990 rows x 3 columns]"
      ]
     },
     "execution_count": 101,
     "metadata": {},
     "output_type": "execute_result"
    }
   ],
   "source": [
    "df_dropwise"
   ]
  },
  {
   "cell_type": "code",
   "execution_count": 102,
   "metadata": {
    "ExecuteTime": {
     "end_time": "2020-10-27T16:23:29.059493Z",
     "start_time": "2020-10-27T16:23:29.046360Z"
    }
   },
   "outputs": [],
   "source": [
    "fname = save_pth/('dropwisecount-' + str(FILE.stem) + '.csv')"
   ]
  },
  {
   "cell_type": "code",
   "execution_count": 103,
   "metadata": {
    "ExecuteTime": {
     "end_time": "2020-10-27T16:23:29.274161Z",
     "start_time": "2020-10-27T16:23:29.241281Z"
    }
   },
   "outputs": [],
   "source": [
    "df_dropwise.groupby(['drop_point', 'item_name']).sum().reset_index().to_csv(fname, index=False)"
   ]
  },
  {
   "cell_type": "code",
   "execution_count": 104,
   "metadata": {
    "ExecuteTime": {
     "end_time": "2020-10-27T16:23:30.519237Z",
     "start_time": "2020-10-27T16:23:29.983480Z"
    }
   },
   "outputs": [],
   "source": [
    "!explorer C:/Playground/bhaiya-orders/zoho-bhor-farms/outputs/"
   ]
  },
  {
   "cell_type": "markdown",
   "metadata": {},
   "source": [
    "# Send Message Alerts"
   ]
  },
  {
   "cell_type": "code",
   "execution_count": 105,
   "metadata": {
    "ExecuteTime": {
     "end_time": "2020-10-27T16:23:31.658359Z",
     "start_time": "2020-10-27T16:23:30.525218Z"
    }
   },
   "outputs": [],
   "source": [
    "import http.client\n",
    "conn = http.client.HTTPSConnection(\"api.msg91.com\")"
   ]
  },
  {
   "cell_type": "code",
   "execution_count": 106,
   "metadata": {
    "ExecuteTime": {
     "end_time": "2020-10-27T16:23:31.673321Z",
     "start_time": "2020-10-27T16:23:31.661352Z"
    }
   },
   "outputs": [],
   "source": [
    "df.Phone = df.Phone.astype(str).apply(lambda x: x[-10:])"
   ]
  },
  {
   "cell_type": "code",
   "execution_count": 107,
   "metadata": {
    "ExecuteTime": {
     "end_time": "2020-10-27T16:24:22.049811Z",
     "start_time": "2020-10-27T16:24:22.042672Z"
    }
   },
   "outputs": [],
   "source": [
    "headers = {\n",
    "    'authkey': \"329435AXayMy78QG5f914544P1\",\n",
    "    'content-type': \"application/json\"\n",
    "    }"
   ]
  },
  {
   "cell_type": "code",
   "execution_count": 109,
   "metadata": {
    "ExecuteTime": {
     "end_time": "2020-10-27T16:26:53.099531Z",
     "start_time": "2020-10-27T16:26:53.081491Z"
    }
   },
   "outputs": [
    {
     "data": {
      "text/plain": [
       "False"
      ]
     },
     "execution_count": 109,
     "metadata": {},
     "output_type": "execute_result"
    }
   ],
   "source": [
    "pipe_separated"
   ]
  },
  {
   "cell_type": "code",
   "execution_count": 112,
   "metadata": {
    "ExecuteTime": {
     "end_time": "2020-10-27T16:29:20.682968Z",
     "start_time": "2020-10-27T16:29:20.662528Z"
    }
   },
   "outputs": [],
   "source": [
    "def get_message(first_name, token, amount, mobile, payment_status, date, decision):\n",
    "    if decision: product = 'Fruits/Dry Fruits'\n",
    "    else: product = 'Vegetables'\n",
    "    \n",
    "    unsuccessful_message = f\"Hi {first_name},\\nYour {product} order with Token no {int(token)} from Bhor Farms is confirmed and will be delivered to your lobby by the evening of {date}.\\nYour bill amount is Rs {amount}. Please check your SMS/Email for payment link.\\nCall 6203507070 for any queries.\"\n",
    "    successful_message = f\"Hi {first_name},\\nYour {product} order with Token no {int(token)} from Bhor Farms is confirmed and will be delivered to your lobby by the evening of {date}.\\nCall 6203507070 for any queries.\"\n",
    "    \n",
    "    if payment_status == 'Completed':\n",
    "        msg_json = { \"sender\": \"BHRFMS\", \n",
    "                     \"route\": \"4\", \n",
    "                     \"country\": \"91\", \n",
    "                     \"sms\": [ \n",
    "                         { \"message\": successful_message, \n",
    "                          \"to\": [f\"{mobile}\"] } ] }\n",
    "        \n",
    "    else:\n",
    "        msg_json = { \"sender\": \"BHRFMS\", \n",
    "                     \"route\": \"4\", \n",
    "                     \"country\": \"91\", \n",
    "                     \"sms\": [ \n",
    "                         { \"message\": unsuccessful_message, \n",
    "                          \"to\": [f\"{mobile}\"] } ] }\n",
    "        \n",
    "    return str(msg_json).replace('\\'', '\\\"')"
   ]
  },
  {
   "cell_type": "code",
   "execution_count": 113,
   "metadata": {
    "ExecuteTime": {
     "end_time": "2020-10-27T16:29:40.229975Z",
     "start_time": "2020-10-27T16:29:24.319503Z"
    }
   },
   "outputs": [],
   "source": [
    "responses = {}\n",
    "\n",
    "for index, row in df.iterrows():\n",
    "    message = get_message(row['Name'].split(';')[0].capitalize(), \n",
    "                          row['Token No'], \n",
    "                          row['Total Amount'], \n",
    "                          row['Phone'], \n",
    "                          row['Payment Status'],\n",
    "                          row['Select Delivery Date'],\n",
    "                          pipe_separated\n",
    "                         )\n",
    "    \n",
    "    conn.request(\"POST\", \"/api/v2/sendsms\", message, headers)\n",
    "    res = conn.getresponse()\n",
    "    data = res.read()\n",
    "    responses[row['Phone']] = data.decode(\"utf-8\")"
   ]
  },
  {
   "cell_type": "code",
   "execution_count": 114,
   "metadata": {
    "ExecuteTime": {
     "end_time": "2020-10-27T16:29:40.260718Z",
     "start_time": "2020-10-27T16:29:40.237707Z"
    }
   },
   "outputs": [
    {
     "data": {
      "text/plain": [
       "{'9930160637': '{\"message\":\"5f984ae5d6fc053017177616\",\"type\":\"success\"}',\n",
       " '9004913659': '{\"message\":\"5f984ae5d6fc052ecc3c4c6b\",\"type\":\"success\"}',\n",
       " '9999488247': '{\"message\":\"5f984ae6d6fc0556233e4222\",\"type\":\"success\"}',\n",
       " '9920748892': '{\"message\":\"5f984ae6d6fc05113671986b\",\"type\":\"success\"}',\n",
       " '9920579019': '{\"message\":\"5f984ae6d6fc057f4f7f4732\",\"type\":\"success\"}',\n",
       " '9820157581': '{\"message\":\"5f984ae6d6fc05461d1a1e58\",\"type\":\"success\"}',\n",
       " '9422212171': '{\"message\":\"5f984ae6d6fc05588b7cb5c4\",\"type\":\"success\"}',\n",
       " '9867041235': '{\"message\":\"5f984ae6d6fc053293578be4\",\"type\":\"success\"}',\n",
       " '9769656431': '{\"message\":\"5f984ae7d6fc053bc1508b6f\",\"type\":\"success\"}',\n",
       " '9930014369': '{\"message\":\"5f984ae7d6fc05112d357ac9\",\"type\":\"success\"}',\n",
       " '9930851066': '{\"message\":\"5f984ae7d6fc054405514045\",\"type\":\"success\"}',\n",
       " '9599219896': '{\"message\":\"5f984ae7d6fc055e1f6c5b51\",\"type\":\"success\"}',\n",
       " '9821026234': '{\"message\":\"5f984ae7d6fc0518b45cb23b\",\"type\":\"success\"}',\n",
       " '9967716023': '{\"message\":\"5f984ae8d6fc051d9b7d0d67\",\"type\":\"success\"}',\n",
       " '9930184202': '{\"message\":\"5f984ae8d6fc050b8506d45c\",\"type\":\"success\"}',\n",
       " '9930390994': '{\"message\":\"5f984ae8d6fc05056a702a02\",\"type\":\"success\"}',\n",
       " '8087862649': '{\"message\":\"5f984ae8d6fc05592c768903\",\"type\":\"success\"}',\n",
       " '9820000543': '{\"message\":\"5f984ae8d6fc0509fc39db2a\",\"type\":\"success\"}',\n",
       " '7710850626': '{\"message\":\"5f984ae9d6fc0536ce6a6b6e\",\"type\":\"success\"}',\n",
       " '9322380393': '{\"message\":\"5f984ae9d6fc055f1d158b0f\",\"type\":\"success\"}',\n",
       " '9833943550': '{\"message\":\"5f984ae9d6fc05557b28d5e5\",\"type\":\"success\"}',\n",
       " '7738947771': '{\"message\":\"5f984ae9d6fc05070b35b978\",\"type\":\"success\"}',\n",
       " '9769950869': '{\"message\":\"5f984ae9d6fc0542f415acfe\",\"type\":\"success\"}',\n",
       " '9930967815': '{\"message\":\"5f984aead6fc055075188800\",\"type\":\"success\"}',\n",
       " '8655281981': '{\"message\":\"5f984aead6fc055fba0898dd\",\"type\":\"success\"}',\n",
       " '9820646235': '{\"message\":\"5f984aead6fc0560fe5029a2\",\"type\":\"success\"}',\n",
       " '9999914917': '{\"message\":\"5f984aead6fc0512b34faf00\",\"type\":\"success\"}',\n",
       " '9987009929': '{\"message\":\"5f984aead6fc051eb756c37a\",\"type\":\"success\"}',\n",
       " '9820282594': '{\"message\":\"5f984aead6fc0515743dde3c\",\"type\":\"success\"}',\n",
       " '9820491112': '{\"message\":\"5f984aebd6fc05567f3c2bf2\",\"type\":\"success\"}',\n",
       " '9552723710': '{\"message\":\"5f984aebd6fc05644d718cf3\",\"type\":\"success\"}',\n",
       " '9820035305': '{\"message\":\"5f984aebd6fc052f87635a2f\",\"type\":\"success\"}',\n",
       " '9819662554': '{\"message\":\"5f984aebd6fc0505f00401ae\",\"type\":\"success\"}',\n",
       " '9833498705': '{\"message\":\"5f984aebd6fc053c3624d024\",\"type\":\"success\"}',\n",
       " '8550991241': '{\"message\":\"5f984aebd6fc0552a12509c3\",\"type\":\"success\"}',\n",
       " '9004017970': '{\"message\":\"5f984aecd6fc053a7f67bf22\",\"type\":\"success\"}',\n",
       " '9819292840': '{\"message\":\"5f984aecd6fc054801190918\",\"type\":\"success\"}',\n",
       " '9769599374': '{\"message\":\"5f984aecd6fc05314c16e08c\",\"type\":\"success\"}',\n",
       " '9717097949': '{\"message\":\"5f984aecd6fc050eaf6071fc\",\"type\":\"success\"}',\n",
       " '8870648607': '{\"message\":\"5f984aecd6fc0556bf623b42\",\"type\":\"success\"}',\n",
       " '9833689926': '{\"message\":\"5f984aedd6fc0534fa3c2ccc\",\"type\":\"success\"}',\n",
       " '9867490700': '{\"message\":\"5f984aedd6fc0503cc1c63dc\",\"type\":\"success\"}',\n",
       " '9324541688': '{\"message\":\"5f984aedd6fc05686d3b9678\",\"type\":\"success\"}',\n",
       " '9323134454': '{\"message\":\"5f984aedd6fc0555732d1d80\",\"type\":\"success\"}',\n",
       " '9167853838': '{\"message\":\"5f984aedd6fc056da13057af\",\"type\":\"success\"}',\n",
       " '9892328078': '{\"message\":\"5f984aeed6fc0563d22ed375\",\"type\":\"success\"}',\n",
       " '8420304769': '{\"message\":\"5f984aeed6fc0562be1bb1b7\",\"type\":\"success\"}',\n",
       " '9930856928': '{\"message\":\"5f984aeed6fc0550a439cf32\",\"type\":\"success\"}',\n",
       " '9819616373': '{\"message\":\"5f984aeed6fc052f89343498\",\"type\":\"success\"}',\n",
       " '9163070807': '{\"message\":\"5f984aefd6fc0543517b37d5\",\"type\":\"success\"}',\n",
       " '9819016611': '{\"message\":\"5f984aefd6fc050cde265c4b\",\"type\":\"success\"}',\n",
       " '9820614040': '{\"message\":\"5f984aefd6fc051dcd1d3a7e\",\"type\":\"success\"}',\n",
       " '7738264289': '{\"message\":\"5f984aefd6fc055b332323b4\",\"type\":\"success\"}',\n",
       " '9167236619': '{\"message\":\"5f984aefd6fc0540a85993ab\",\"type\":\"success\"}',\n",
       " '9004440829': '{\"message\":\"5f984aefd6fc05069c0f209e\",\"type\":\"success\"}',\n",
       " '9711399456': '{\"message\":\"5f984af0d6fc054e1853eea8\",\"type\":\"success\"}',\n",
       " '9819900868': '{\"message\":\"5f984af0d6fc0558da2c23f6\",\"type\":\"success\"}',\n",
       " '9769282332': '{\"message\":\"5f984af0d6fc05451a5d266e\",\"type\":\"success\"}',\n",
       " '9833619111': '{\"message\":\"5f984af0d6fc0508b64d1829\",\"type\":\"success\"}',\n",
       " '9167038116': '{\"message\":\"5f984af0d6fc0542c42c51f1\",\"type\":\"success\"}',\n",
       " '9820201029': '{\"message\":\"5f984af0d6fc05146a3cc28b\",\"type\":\"success\"}',\n",
       " '7878820318': '{\"message\":\"5f984af1d6fc05598e7e998f\",\"type\":\"success\"}',\n",
       " '9820260210': '{\"message\":\"5f984af1d6fc056d5431cf33\",\"type\":\"success\"}',\n",
       " '9930834720': '{\"message\":\"5f984af1d6fc051c4906d55a\",\"type\":\"success\"}',\n",
       " '9619667223': '{\"message\":\"5f984af1d6fc0568f614ad32\",\"type\":\"success\"}',\n",
       " '9869349410': '{\"message\":\"5f984af2d6fc05472443f6a3\",\"type\":\"success\"}',\n",
       " '9167306223': '{\"message\":\"5f984af2d6fc0517b90b8f05\",\"type\":\"success\"}',\n",
       " '8452947155': '{\"message\":\"5f984af2d6fc05567f3c2bf3\",\"type\":\"success\"}',\n",
       " '9821692848': '{\"message\":\"5f984af2d6fc057c7c1b648f\",\"type\":\"success\"}',\n",
       " '9819071204': '{\"message\":\"5f984af2d6fc055117014add\",\"type\":\"success\"}',\n",
       " '9819305599': '{\"message\":\"5f984af3d6fc0560b648562c\",\"type\":\"success\"}',\n",
       " '9920888765': '{\"message\":\"5f984af3d6fc05759a3e0b9e\",\"type\":\"success\"}',\n",
       " '9819152888': '{\"message\":\"5f984af3d6fc05461d1a1e5a\",\"type\":\"success\"}',\n",
       " '9820233351': '{\"message\":\"5f984af3d6fc0550d1751de5\",\"type\":\"success\"}',\n",
       " '9920360111': '{\"message\":\"5f984af3d6fc054a3a735d87\",\"type\":\"success\"}',\n",
       " '9820007469': '{\"message\":\"5f984af4d6fc0569f56d3e62\",\"type\":\"success\"}',\n",
       " '9833442555': '{\"message\":\"5f984af4d6fc0572580cb40f\",\"type\":\"success\"}',\n",
       " '9987044422': '{\"message\":\"5f984af4d6fc056559480ab6\",\"type\":\"success\"}',\n",
       " '9821901596': '{\"message\":\"5f984af4d6fc05422333db11\",\"type\":\"success\"}'}"
      ]
     },
     "execution_count": 114,
     "metadata": {},
     "output_type": "execute_result"
    }
   ],
   "source": [
    "responses"
   ]
  },
  {
   "cell_type": "code",
   "execution_count": 115,
   "metadata": {
    "ExecuteTime": {
     "end_time": "2020-10-27T16:29:44.580510Z",
     "start_time": "2020-10-27T16:29:44.564506Z"
    }
   },
   "outputs": [
    {
     "data": {
      "text/plain": [
       "'{\"sender\": \"BHRFMS\", \"route\": \"4\", \"country\": \"91\", \"sms\": [{\"message\": \"Hi Sheeba,\\\\nYour Vegetables order with Token no 79 from Bhor Farms is confirmed and will be delivered to your lobby by the evening of Thu Oct 29th.\\\\nCall 6203507070 for any queries.\", \"to\": [\"9821901596\"]}]}'"
      ]
     },
     "execution_count": 115,
     "metadata": {},
     "output_type": "execute_result"
    }
   ],
   "source": [
    "message"
   ]
  },
  {
   "cell_type": "markdown",
   "metadata": {
    "heading_collapsed": true
   },
   "source": [
    "# End"
   ]
  },
  {
   "cell_type": "markdown",
   "metadata": {
    "hidden": true
   },
   "source": [
    "## Manually Adding Orders"
   ]
  },
  {
   "cell_type": "code",
   "execution_count": 125,
   "metadata": {
    "ExecuteTime": {
     "end_time": "2020-10-20T01:49:01.329737Z",
     "start_time": "2020-10-20T01:49:01.306785Z"
    },
    "hidden": true
   },
   "outputs": [
    {
     "name": "stdout",
     "output_type": "stream",
     "text": [
      "Apples New Zealand\n",
      "Indian Pear\n",
      "Imported Green Pear\n",
      "VNR Guava\n",
      "Mosambi\n",
      "Sitaphal\n",
      "Assorted Mango Box\n",
      "Muskmelon\n",
      "Elaichi Banana Regular\n",
      "Elaichi Banana Premium\n",
      "Kiwi Zespri\n",
      "Pomegranate Premium\n",
      "Pomegranate Regular\n",
      "Langra Mangoes\n",
      "Chausa Mangoes\n",
      "Papaya\n",
      "Watermelon\n",
      "Amla\n",
      "Haldi/Turmeric Powder\n",
      "Premium Long Raisins\n",
      "Coconut Mangalore Small\n",
      "Coconut Mangalore Medium\n",
      "Coconut Mangalore Large\n",
      "Dragon Fruit White Flesh\n",
      "Himachal Apples\n",
      "Imported Oranges\n",
      "Imported Plum\n",
      "Pure Kashmiri Sidr Honey\n",
      "Alphonso Mango Pulp Frozen\n",
      "Premium Imported Apricots\n",
      "Cashew W320\n",
      "Cashew W240\n",
      "Cashew W210\n",
      "Peri Peri Cashew\n",
      "Broken Cashew\n",
      "Standard Walnuts\n",
      "Premium Walnuts\n",
      "Salted Pista Standard\n",
      "Salted Pista Premium\n",
      "Anjeer Premium\n",
      "Anjeer Super Premium\n",
      "Mix Dry Fruits\n",
      "Mamra Badam Medium\n",
      "Kishmish Round\n",
      "Kishmish Long\n",
      "Munakka Indian\n",
      "Imported Munakka Afgan\n",
      "Jardalu/Dried Apricots\n",
      "Kimia Dates\n",
      "Kashmiri Qahwah Tea\n",
      "Litchi Juice\n",
      "7 Fruits Juice\n",
      "Guava Juice\n",
      "Kharbooja Juice\n",
      "Strawberry Juice\n",
      "Pineapple Juice\n",
      "Anaar Juice\n",
      "Orange Juice\n",
      "Kiwi Juice\n"
     ]
    }
   ],
   "source": [
    "for a in all_items: print(a)"
   ]
  },
  {
   "cell_type": "code",
   "execution_count": 57,
   "metadata": {
    "ExecuteTime": {
     "end_time": "2020-08-21T17:25:28.913018Z",
     "start_time": "2020-08-21T17:25:28.897063Z"
    },
    "hidden": true
   },
   "outputs": [],
   "source": [
    "new_orders = pd.read_csv('yelofile/additions.csv')"
   ]
  },
  {
   "cell_type": "code",
   "execution_count": 58,
   "metadata": {
    "ExecuteTime": {
     "end_time": "2020-08-21T17:25:32.642401Z",
     "start_time": "2020-08-21T17:25:32.637414Z"
    },
    "hidden": true
   },
   "outputs": [],
   "source": [
    "keys1 = ['name', 'drop_point', 'building', 'wing', 'flat_no', 'phone_no', 'email', 'delivery_date', 'total_amount', 'order']"
   ]
  },
  {
   "cell_type": "code",
   "execution_count": 59,
   "metadata": {
    "ExecuteTime": {
     "end_time": "2020-08-21T17:25:35.560779Z",
     "start_time": "2020-08-21T17:25:35.554534Z"
    },
    "hidden": true
   },
   "outputs": [],
   "source": [
    "new_orders.dropna(inplace=True)"
   ]
  },
  {
   "cell_type": "code",
   "execution_count": 60,
   "metadata": {
    "ExecuteTime": {
     "end_time": "2020-08-21T17:25:40.204523Z",
     "start_time": "2020-08-21T17:25:40.193549Z"
    },
    "hidden": true
   },
   "outputs": [
    {
     "data": {
      "text/html": [
       "<div>\n",
       "<style scoped>\n",
       "    .dataframe tbody tr th:only-of-type {\n",
       "        vertical-align: middle;\n",
       "    }\n",
       "\n",
       "    .dataframe tbody tr th {\n",
       "        vertical-align: top;\n",
       "    }\n",
       "\n",
       "    .dataframe thead th {\n",
       "        text-align: right;\n",
       "    }\n",
       "</style>\n",
       "<table border=\"1\" class=\"dataframe\">\n",
       "  <thead>\n",
       "    <tr style=\"text-align: right;\">\n",
       "      <th></th>\n",
       "      <th>index</th>\n",
       "      <th>Haar 1</th>\n",
       "      <th>Haar 2</th>\n",
       "      <th>Jhendu/Marigold</th>\n",
       "      <th>Rajnigandha</th>\n",
       "      <th>Druva</th>\n",
       "      <th>Tulsi</th>\n",
       "      <th>Pack of 5 leaves</th>\n",
       "      <th>Betelnut</th>\n",
       "      <th>Banana Leaves with Stem</th>\n",
       "      <th>Banana Leaves</th>\n",
       "      <th>Pack of 5 Fruits</th>\n",
       "      <th>Assorted Flowers</th>\n",
       "      <th>Hibiscus</th>\n",
       "    </tr>\n",
       "  </thead>\n",
       "  <tbody>\n",
       "  </tbody>\n",
       "</table>\n",
       "</div>"
      ],
      "text/plain": [
       "Empty DataFrame\n",
       "Columns: [index, Haar 1, Haar 2, Jhendu/Marigold, Rajnigandha, Druva, Tulsi, Pack of 5 leaves, Betelnut, Banana Leaves with Stem, Banana Leaves, Pack of 5 Fruits, Assorted Flowers, Hibiscus]\n",
       "Index: []"
      ]
     },
     "execution_count": 60,
     "metadata": {},
     "output_type": "execute_result"
    }
   ],
   "source": [
    "new_orders"
   ]
  },
  {
   "cell_type": "code",
   "execution_count": 133,
   "metadata": {
    "ExecuteTime": {
     "end_time": "2020-08-20T18:40:00.519896Z",
     "start_time": "2020-08-20T18:40:00.515906Z"
    },
    "hidden": true
   },
   "outputs": [],
   "source": [
    "to_append = new_orders.to_dict(orient='records')"
   ]
  },
  {
   "cell_type": "code",
   "execution_count": 134,
   "metadata": {
    "ExecuteTime": {
     "end_time": "2020-08-20T18:40:21.697350Z",
     "start_time": "2020-08-20T18:40:21.686407Z"
    },
    "hidden": true
   },
   "outputs": [],
   "source": [
    "orders_very_very_new = pd.read_csv('yelofile/additions.csv')\n",
    "orders_very_very_new.set_index('index', inplace=True)\n",
    "orders_very_very_new.fillna(0, inplace=True)"
   ]
  },
  {
   "cell_type": "code",
   "execution_count": 137,
   "metadata": {
    "ExecuteTime": {
     "end_time": "2020-08-20T18:41:03.646115Z",
     "start_time": "2020-08-20T18:41:03.643123Z"
    },
    "hidden": true
   },
   "outputs": [],
   "source": [
    "for i in to_append:\n",
    "    i['order'] = new_items[i['name']]"
   ]
  },
  {
   "cell_type": "code",
   "execution_count": 61,
   "metadata": {
    "ExecuteTime": {
     "end_time": "2020-08-21T17:26:56.635340Z",
     "start_time": "2020-08-21T17:26:56.611404Z"
    },
    "hidden": true
   },
   "outputs": [],
   "source": [
    "to_append = [{'name': 'Suchitra;Narale',\n",
    "  'drop_point': 'Cosmic',\n",
    "  'building': 'Cosmic Heights',\n",
    "  'wing': 'B Wing',\n",
    "  'flat_no': 2603.0,\n",
    "  'phone_no': 9833567340.0,\n",
    "  'email': 'suchitrahate@gmail.com',\n",
    "  'order': {'Haar 1': 1.0,\n",
    "   'Haar 2': 0.0,\n",
    "   'Jhendu/Marigold': 1.0,\n",
    "   'Rajnigandha': 0.0,\n",
    "   'Druva': 1.0,\n",
    "   'Tulsi': 0.0,\n",
    "   'Pack of 5 leaves': 0.0,\n",
    "   'Betelnut': 0.0,\n",
    "   'Banana Leaves with Stem': 0.0,\n",
    "   'Banana Leaves': 0.0,\n",
    "   'Pack of 5 Fruits': 1.0,\n",
    "   'Assorted Flowers': 1,\n",
    "   'Hibiscus': 0.0}},\n",
    " {'name': 'Ritu;Sharda',\n",
    "  'drop_point': 'Cosmic',\n",
    "  'building': 'Cosmic Heights',\n",
    "  'wing': 'B Wing',\n",
    "  'flat_no': 2101.0,\n",
    "  'phone_no': 9820844319.0,\n",
    "  'email': 'shardaritu@hotmail.com',\n",
    "  'order': {'Haar 1': 0.0,\n",
    "   'Haar 2': 0.0,\n",
    "   'Jhendu/Marigold': 2.0,\n",
    "   'Rajnigandha': 0.0,\n",
    "   'Druva': 1.0,\n",
    "   'Tulsi': 0.0,\n",
    "   'Pack of 5 leaves': 0.0,\n",
    "   'Betelnut': 1.0,\n",
    "   'Banana Leaves with Stem': 0.0,\n",
    "   'Banana Leaves': 1.0,\n",
    "   'Pack of 5 Fruits': 0.0,\n",
    "   'Assorted Flowers': 1,\n",
    "   'Hibiscus': 0.0}},\n",
    " {'name': 'Nisha;Narale',\n",
    "  'drop_point': 'Cosmic',\n",
    "  'building': 'Cosmic Heights',\n",
    "  'wing': 'A Wing',\n",
    "  'flat_no': 2505.0,\n",
    "  'phone_no': 9930390994.0,\n",
    "  'email': 'nishashetti@gmail.com',\n",
    "  'order': {'Haar 1': 1.0,\n",
    "   'Haar 2': 1.0,\n",
    "   'Jhendu/Marigold': 0.0,\n",
    "   'Rajnigandha': 0.0,\n",
    "   'Druva': 1.0,\n",
    "   'Tulsi': 1.0,\n",
    "   'Pack of 5 leaves': 0.0,\n",
    "   'Betelnut': 1.0,\n",
    "   'Banana Leaves with Stem': 0.0,\n",
    "   'Banana Leaves': 1.0,\n",
    "   'Pack of 5 Fruits': 2.0,\n",
    "   'Assorted Flowers': 3,\n",
    "   'Hibiscus': 1.0}},\n",
    " {'name': 'Padmaja;Kakkera',\n",
    "  'drop_point': 'Lodha NCP',\n",
    "  'building': 'Tower 4',\n",
    "  'wing': 'B Wing',\n",
    "  'flat_no': 202.0,\n",
    "  'phone_no': 9900065600.0,\n",
    "  'email': 'padmaja.kakkera@gmail.com',\n",
    "  'order': {'Haar 1': 0.0,\n",
    "   'Haar 2': 0.0,\n",
    "   'Jhendu/Marigold': 0.0,\n",
    "   'Rajnigandha': 0.0,\n",
    "   'Druva': 1.0,\n",
    "   'Tulsi': 1.0,\n",
    "   'Pack of 5 leaves': 1.0,\n",
    "   'Betelnut': 1.0,\n",
    "   'Banana Leaves with Stem': 0.0,\n",
    "   'Banana Leaves': 0.0,\n",
    "   'Pack of 5 Fruits': 1.0,\n",
    "   'Assorted Flowers': 1,\n",
    "   'Hibiscus': 1.0}},\n",
    " {'name': 'Shalini;Memani',\n",
    "  'drop_point': 'Lodha NCP',\n",
    "  'building': 'Tower 6',\n",
    "  'wing': 'A Wing',\n",
    "  'flat_no': 2503.0,\n",
    "  'phone_no': 9323134454.0,\n",
    "  'email': 'shalini_depura@yahoo.co.in',\n",
    "  'order': {'Haar 1': 2.0,\n",
    "   'Haar 2': 0.0,\n",
    "   'Jhendu/Marigold': 0.0,\n",
    "   'Rajnigandha': 0.0,\n",
    "   'Druva': 2.0,\n",
    "   'Tulsi': 0.0,\n",
    "   'Pack of 5 leaves': 0.0,\n",
    "   'Betelnut': 1.0,\n",
    "   'Banana Leaves with Stem': 0.0,\n",
    "   'Banana Leaves': 2.0,\n",
    "   'Pack of 5 Fruits': 0.0,\n",
    "   'Assorted Flowers': 1,\n",
    "   'Hibiscus': 3.0}},\n",
    " {'name': 'Ila Panchakshari',\n",
    "  'drop_point': 'Ivory',\n",
    "  'building': 'Himalayan Heights',\n",
    "  'wing': 'A Wing',\n",
    "  'flat_no': 1003.0,\n",
    "  'phone_no': 8286125928.0,\n",
    "  'email': 'ilahp78@gmail.com',\n",
    "  'order': {'Haar 1': 0.0,\n",
    "   'Haar 2': 0.0,\n",
    "   'Jhendu/Marigold': 0.0,\n",
    "   'Rajnigandha': 0.0,\n",
    "   'Druva': 5.0,\n",
    "   'Tulsi': 0.0,\n",
    "   'Pack of 5 leaves': 0.0,\n",
    "   'Betelnut': 1.0,\n",
    "   'Banana Leaves with Stem': 0.0,\n",
    "   'Banana Leaves': 0.0,\n",
    "   'Pack of 5 Fruits': 0.0,\n",
    "   'Assorted Flowers': 1,\n",
    "   'Hibiscus': 1.0}},\n",
    " {'name': 'Swati;Madhukar',\n",
    "  'drop_point': 'Lodha NCP',\n",
    "  'building': 'Tower 6',\n",
    "  'wing': 'A Wing',\n",
    "  'flat_no': 4002.0,\n",
    "  'phone_no': 9167853838.0,\n",
    "  'email': 'swati.chaudhary90@yahoo.com',\n",
    "  'order': {'Haar 1': 8.0,\n",
    "   'Haar 2': 2.0,\n",
    "   'Jhendu/Marigold': 0.0,\n",
    "   'Rajnigandha': 0.0,\n",
    "   'Druva': 0.0,\n",
    "   'Tulsi': 0.0,\n",
    "   'Pack of 5 leaves': 0.0,\n",
    "   'Betelnut': 5.0,\n",
    "   'Banana Leaves with Stem': 0.0,\n",
    "   'Banana Leaves': 0.0,\n",
    "   'Pack of 5 Fruits': 0.0,\n",
    "   'Assorted Flowers': 1,\n",
    "   'Hibiscus': 0.0}}]"
   ]
  },
  {
   "cell_type": "code",
   "execution_count": 68,
   "metadata": {
    "ExecuteTime": {
     "end_time": "2020-08-21T17:38:55.746640Z",
     "start_time": "2020-08-21T17:38:55.740656Z"
    },
    "hidden": true
   },
   "outputs": [],
   "source": [
    "new_orders_dict = {}\n",
    "i = 178\n",
    "\n",
    "for row in to_append:\n",
    "    dct = {}\n",
    "    dct['name'] = row['name']\n",
    "#     dct['drop_point'] = row['Select Drop Point']\n",
    "#     dct['building'] = row['building']\n",
    "#     dct['wing'] = row['Select Wing']\n",
    "#     dct['flat_no'] = row['Flat No']\n",
    "    dct['phone_no'] = row['phone_no']\n",
    "    dct['email'] = row['email']\n",
    "#     dct['delivery_date'] = row['Select Delivery Date']\n",
    "#     dct['total_amount'] = row['Total Amount']\n",
    "#     dct['total_amount'] = \n",
    "#     dct['payment_status'] = row['Payment Status']\n",
    "    dct['order'] = get_order(row)\n",
    "    dct['total_amount'] = get_total_amt(dct['order'])\n",
    "    \n",
    "    new_orders_dict[i] = dct\n",
    "    i+=1"
   ]
  },
  {
   "cell_type": "code",
   "execution_count": 70,
   "metadata": {
    "ExecuteTime": {
     "end_time": "2020-08-21T17:46:21.746635Z",
     "start_time": "2020-08-21T17:46:21.741647Z"
    },
    "hidden": true
   },
   "outputs": [
    {
     "data": {
      "text/plain": [
       "426"
      ]
     },
     "execution_count": 70,
     "metadata": {},
     "output_type": "execute_result"
    }
   ],
   "source": [
    "60+100+15+130+121"
   ]
  },
  {
   "cell_type": "code",
   "execution_count": 71,
   "metadata": {
    "ExecuteTime": {
     "end_time": "2020-08-21T17:46:53.801386Z",
     "start_time": "2020-08-21T17:46:53.796371Z"
    },
    "hidden": true
   },
   "outputs": [
    {
     "data": {
      "text/plain": [
       "876"
      ]
     },
     "execution_count": 71,
     "metadata": {},
     "output_type": "execute_result"
    }
   ],
   "source": [
    "480+200+25+50+121"
   ]
  },
  {
   "cell_type": "code",
   "execution_count": 73,
   "metadata": {
    "ExecuteTime": {
     "end_time": "2020-08-21T17:47:33.908986Z",
     "start_time": "2020-08-21T17:47:33.903004Z"
    },
    "hidden": true
   },
   "outputs": [
    {
     "data": {
      "text/plain": [
       "296"
      ]
     },
     "execution_count": 73,
     "metadata": {},
     "output_type": "execute_result"
    }
   ],
   "source": [
    "120+30+25+121"
   ]
  },
  {
   "cell_type": "code",
   "execution_count": 80,
   "metadata": {
    "ExecuteTime": {
     "end_time": "2020-08-21T17:56:45.536902Z",
     "start_time": "2020-08-21T17:56:45.530921Z"
    },
    "hidden": true
   },
   "outputs": [
    {
     "data": {
      "text/plain": [
       "{'Haar 1': {'packing_size': 1, 'unit': 1, 'sell_price': 60},\n",
       " 'Haar 2': {'packing_size': 1, 'unit': 1, 'sell_price': 100},\n",
       " 'Jhendu/Marigold': {'packing_size': 1, 'unit': 1, 'sell_price': 100},\n",
       " 'Druva': {'packing_size': 1, 'unit': 1, 'sell_price': 15},\n",
       " 'Tulsi': {'packing_size': 1, 'unit': 1, 'sell_price': 20},\n",
       " 'Pack of 5 leaves': {'packing_size': 1, 'unit': 1, 'sell_price': 25},\n",
       " 'Betelnut': {'packing_size': 1, 'unit': 1, 'sell_price': 25},\n",
       " 'Banana Leaves with Stem': {'packing_size': 1, 'unit': 1, 'sell_price': 100},\n",
       " 'Pack of 5 Fruits': {'packing_size': 1, 'unit': 1, 'sell_price': 130},\n",
       " 'Assorted Flowers': {'packing_size': 1, 'unit': 1, 'sell_price': 121},\n",
       " 'Hibiscus': {'packing_size': 1, 'unit': 1, 'sell_price': 20}}"
      ]
     },
     "execution_count": 80,
     "metadata": {},
     "output_type": "execute_result"
    }
   ],
   "source": [
    "items_dict"
   ]
  },
  {
   "cell_type": "code",
   "execution_count": null,
   "metadata": {
    "ExecuteTime": {
     "end_time": "2020-08-21T17:51:16.989784Z",
     "start_time": "2020-08-21T17:51:16.983799Z"
    },
    "hidden": true
   },
   "outputs": [],
   "source": []
  },
  {
   "cell_type": "code",
   "execution_count": null,
   "metadata": {
    "hidden": true
   },
   "outputs": [],
   "source": []
  },
  {
   "cell_type": "code",
   "execution_count": null,
   "metadata": {
    "hidden": true
   },
   "outputs": [],
   "source": []
  },
  {
   "cell_type": "code",
   "execution_count": null,
   "metadata": {
    "hidden": true
   },
   "outputs": [],
   "source": []
  },
  {
   "cell_type": "code",
   "execution_count": 138,
   "metadata": {
    "ExecuteTime": {
     "end_time": "2020-08-20T18:41:12.220702Z",
     "start_time": "2020-08-20T18:41:12.213597Z"
    },
    "hidden": true,
    "scrolled": false
   },
   "outputs": [
    {
     "data": {
      "text/plain": [
       "[{'name': 'Suchitra;Narale',\n",
       "  'drop_point': 'Cosmic',\n",
       "  'building': 'Cosmic Heights',\n",
       "  'wing': 'B Wing',\n",
       "  'flat_no': 2603.0,\n",
       "  'phone_no': 9833567340.0,\n",
       "  'email': 'suchitrahate@gmail.com',\n",
       "  'order': {'Haar 1': 1.0,\n",
       "   'Haar 2': 0.0,\n",
       "   'Jhendu/Marigold': 1.0,\n",
       "   'Rajnigandha': 0.0,\n",
       "   'Druva': 1.0,\n",
       "   'Tulsi': 0.0,\n",
       "   'Pack of 5 leaves': 0.0,\n",
       "   'Betelnut': 0.0,\n",
       "   'Banana Leaves with Stem': 0.0,\n",
       "   'Banana Leaves': 0.0,\n",
       "   'Pack of 5 Fruits': 1.0,\n",
       "   'Assorted Flowers': 1,\n",
       "   'Hibiscus': 0.0}},\n",
       " {'name': 'Ritu;Sharda',\n",
       "  'drop_point': 'Cosmic',\n",
       "  'building': 'Cosmic Heights',\n",
       "  'wing': 'B Wing',\n",
       "  'flat_no': 2101.0,\n",
       "  'phone_no': 9820844319.0,\n",
       "  'email': 'shardaritu@hotmail.com',\n",
       "  'order': {'Haar 1': 0.0,\n",
       "   'Haar 2': 0.0,\n",
       "   'Jhendu/Marigold': 2.0,\n",
       "   'Rajnigandha': 0.0,\n",
       "   'Druva': 1.0,\n",
       "   'Tulsi': 0.0,\n",
       "   'Pack of 5 leaves': 0.0,\n",
       "   'Betelnut': 1.0,\n",
       "   'Banana Leaves with Stem': 0.0,\n",
       "   'Banana Leaves': 1.0,\n",
       "   'Pack of 5 Fruits': 0.0,\n",
       "   'Assorted Flowers': 1,\n",
       "   'Hibiscus': 0.0}},\n",
       " {'name': 'Nisha;Narale',\n",
       "  'drop_point': 'Cosmic',\n",
       "  'building': 'Cosmic Heights',\n",
       "  'wing': 'A Wing',\n",
       "  'flat_no': 2505.0,\n",
       "  'phone_no': 9930390994.0,\n",
       "  'email': 'nishashetti@gmail.com',\n",
       "  'order': {'Haar 1': 1.0,\n",
       "   'Haar 2': 1.0,\n",
       "   'Jhendu/Marigold': 0.0,\n",
       "   'Rajnigandha': 0.0,\n",
       "   'Druva': 1.0,\n",
       "   'Tulsi': 1.0,\n",
       "   'Pack of 5 leaves': 0.0,\n",
       "   'Betelnut': 1.0,\n",
       "   'Banana Leaves with Stem': 0.0,\n",
       "   'Banana Leaves': 1.0,\n",
       "   'Pack of 5 Fruits': 2.0,\n",
       "   'Assorted Flowers': 3,\n",
       "   'Hibiscus': 1.0}},\n",
       " {'name': 'Padmaja;Kakkera',\n",
       "  'drop_point': 'Lodha NCP',\n",
       "  'building': 'Tower 4',\n",
       "  'wing': 'B Wing',\n",
       "  'flat_no': 202.0,\n",
       "  'phone_no': 9900065600.0,\n",
       "  'email': 'padmaja.kakkera@gmail.com',\n",
       "  'order': {'Haar 1': 0.0,\n",
       "   'Haar 2': 0.0,\n",
       "   'Jhendu/Marigold': 0.0,\n",
       "   'Rajnigandha': 0.0,\n",
       "   'Druva': 1.0,\n",
       "   'Tulsi': 1.0,\n",
       "   'Pack of 5 leaves': 1.0,\n",
       "   'Betelnut': 1.0,\n",
       "   'Banana Leaves with Stem': 0.0,\n",
       "   'Banana Leaves': 0.0,\n",
       "   'Pack of 5 Fruits': 1.0,\n",
       "   'Assorted Flowers': 1,\n",
       "   'Hibiscus': 1.0}},\n",
       " {'name': 'Shalini;Memani',\n",
       "  'drop_point': 'Lodha NCP',\n",
       "  'building': 'Tower 6',\n",
       "  'wing': 'A Wing',\n",
       "  'flat_no': 2503.0,\n",
       "  'phone_no': 9323134454.0,\n",
       "  'email': 'shalini_depura@yahoo.co.in',\n",
       "  'order': {'Haar 1': 2.0,\n",
       "   'Haar 2': 0.0,\n",
       "   'Jhendu/Marigold': 0.0,\n",
       "   'Rajnigandha': 0.0,\n",
       "   'Druva': 2.0,\n",
       "   'Tulsi': 0.0,\n",
       "   'Pack of 5 leaves': 0.0,\n",
       "   'Betelnut': 1.0,\n",
       "   'Banana Leaves with Stem': 0.0,\n",
       "   'Banana Leaves': 2.0,\n",
       "   'Pack of 5 Fruits': 0.0,\n",
       "   'Assorted Flowers': 1,\n",
       "   'Hibiscus': 3.0}},\n",
       " {'name': 'Ila Panchakshari',\n",
       "  'drop_point': 'Ivory',\n",
       "  'building': 'Himalayan Heights',\n",
       "  'wing': 'A Wing',\n",
       "  'flat_no': 1003.0,\n",
       "  'phone_no': 8286125928.0,\n",
       "  'email': 'ilahp78@gmail.com',\n",
       "  'order': {'Haar 1': 0.0,\n",
       "   'Haar 2': 0.0,\n",
       "   'Jhendu/Marigold': 0.0,\n",
       "   'Rajnigandha': 0.0,\n",
       "   'Druva': 5.0,\n",
       "   'Tulsi': 0.0,\n",
       "   'Pack of 5 leaves': 0.0,\n",
       "   'Betelnut': 1.0,\n",
       "   'Banana Leaves with Stem': 0.0,\n",
       "   'Banana Leaves': 0.0,\n",
       "   'Pack of 5 Fruits': 0.0,\n",
       "   'Assorted Flowers': 1,\n",
       "   'Hibiscus': 1.0}},\n",
       " {'name': 'Swati;Madhukar',\n",
       "  'drop_point': 'Lodha NCP',\n",
       "  'building': 'Tower 6',\n",
       "  'wing': 'A Wing',\n",
       "  'flat_no': 4002.0,\n",
       "  'phone_no': 9167853838.0,\n",
       "  'email': 'swati.chaudhary90@yahoo.com',\n",
       "  'order': {'Haar 1': 8.0,\n",
       "   'Haar 2': 2.0,\n",
       "   'Jhendu/Marigold': 0.0,\n",
       "   'Rajnigandha': 0.0,\n",
       "   'Druva': 0.0,\n",
       "   'Tulsi': 0.0,\n",
       "   'Pack of 5 leaves': 0.0,\n",
       "   'Betelnut': 5.0,\n",
       "   'Banana Leaves with Stem': 0.0,\n",
       "   'Banana Leaves': 0.0,\n",
       "   'Pack of 5 Fruits': 0.0,\n",
       "   'Assorted Flowers': 1,\n",
       "   'Hibiscus': 0.0}}]"
      ]
     },
     "execution_count": 138,
     "metadata": {},
     "output_type": "execute_result"
    }
   ],
   "source": [
    "to_append"
   ]
  },
  {
   "cell_type": "code",
   "execution_count": null,
   "metadata": {
    "hidden": true
   },
   "outputs": [],
   "source": [
    "for k in to_a"
   ]
  },
  {
   "cell_type": "code",
   "execution_count": null,
   "metadata": {
    "hidden": true
   },
   "outputs": [],
   "source": []
  },
  {
   "cell_type": "code",
   "execution_count": null,
   "metadata": {
    "hidden": true
   },
   "outputs": [],
   "source": []
  },
  {
   "cell_type": "code",
   "execution_count": null,
   "metadata": {
    "hidden": true
   },
   "outputs": [],
   "source": []
  },
  {
   "cell_type": "code",
   "execution_count": null,
   "metadata": {
    "hidden": true
   },
   "outputs": [],
   "source": []
  },
  {
   "cell_type": "code",
   "execution_count": 136,
   "metadata": {
    "ExecuteTime": {
     "end_time": "2020-08-20T18:40:52.067056Z",
     "start_time": "2020-08-20T18:40:52.062063Z"
    },
    "hidden": true
   },
   "outputs": [],
   "source": [
    "new_items = orders_very_very_new.to_dict(orient='index')"
   ]
  },
  {
   "cell_type": "code",
   "execution_count": 74,
   "metadata": {
    "ExecuteTime": {
     "end_time": "2020-08-20T17:52:45.418968Z",
     "start_time": "2020-08-20T17:52:45.415974Z"
    },
    "hidden": true
   },
   "outputs": [],
   "source": [
    "keys2 = ['Haar 2', 'Druva', 'Tulsi', 'Pack of 5 leaves', 'Betelnut', 'Banana Leaves with Stem', 'Banana Leaves', 'Pack of 5 Fruits', 'Assorted Flowers']"
   ]
  },
  {
   "cell_type": "code",
   "execution_count": 86,
   "metadata": {
    "ExecuteTime": {
     "end_time": "2020-08-20T18:11:49.955955Z",
     "start_time": "2020-08-20T18:11:49.948972Z"
    },
    "hidden": true
   },
   "outputs": [
    {
     "name": "stdout",
     "output_type": "stream",
     "text": [
      "Haar 2\n",
      "Druva\n",
      "Tulsi\n",
      "Pack of 5 leaves\n",
      "Betelnut\n",
      "Banana Leaves with Stem\n",
      "Banana Leaves\n",
      "Pack of 5 Fruits\n",
      "Assorted Flowers\n"
     ]
    }
   ],
   "source": [
    "for k in keys2:\n",
    "    print (k)"
   ]
  },
  {
   "cell_type": "code",
   "execution_count": null,
   "metadata": {
    "hidden": true
   },
   "outputs": [],
   "source": []
  },
  {
   "cell_type": "code",
   "execution_count": null,
   "metadata": {
    "hidden": true
   },
   "outputs": [],
   "source": []
  },
  {
   "cell_type": "code",
   "execution_count": null,
   "metadata": {
    "hidden": true
   },
   "outputs": [],
   "source": []
  },
  {
   "cell_type": "code",
   "execution_count": null,
   "metadata": {
    "hidden": true
   },
   "outputs": [],
   "source": []
  },
  {
   "cell_type": "code",
   "execution_count": null,
   "metadata": {
    "hidden": true
   },
   "outputs": [],
   "source": []
  },
  {
   "cell_type": "code",
   "execution_count": 66,
   "metadata": {
    "ExecuteTime": {
     "end_time": "2020-08-20T17:15:38.050300Z",
     "start_time": "2020-08-20T17:15:38.032343Z"
    },
    "hidden": true
   },
   "outputs": [
    {
     "data": {
      "text/html": [
       "<div>\n",
       "<style scoped>\n",
       "    .dataframe tbody tr th:only-of-type {\n",
       "        vertical-align: middle;\n",
       "    }\n",
       "\n",
       "    .dataframe tbody tr th {\n",
       "        vertical-align: top;\n",
       "    }\n",
       "\n",
       "    .dataframe thead th {\n",
       "        text-align: right;\n",
       "    }\n",
       "</style>\n",
       "<table border=\"1\" class=\"dataframe\">\n",
       "  <thead>\n",
       "    <tr style=\"text-align: right;\">\n",
       "      <th></th>\n",
       "      <th></th>\n",
       "      <th>num_packets</th>\n",
       "    </tr>\n",
       "    <tr>\n",
       "      <th>drop_point</th>\n",
       "      <th>item_name</th>\n",
       "      <th></th>\n",
       "    </tr>\n",
       "  </thead>\n",
       "  <tbody>\n",
       "    <tr>\n",
       "      <th rowspan=\"5\" valign=\"top\">Ajmera iLand</th>\n",
       "      <th>Assorted Flowers</th>\n",
       "      <td>12.0</td>\n",
       "    </tr>\n",
       "    <tr>\n",
       "      <th>Banana Leaves</th>\n",
       "      <td>6.0</td>\n",
       "    </tr>\n",
       "    <tr>\n",
       "      <th>Banana Leaves with Stem</th>\n",
       "      <td>6.0</td>\n",
       "    </tr>\n",
       "    <tr>\n",
       "      <th>Betelnut</th>\n",
       "      <td>7.0</td>\n",
       "    </tr>\n",
       "    <tr>\n",
       "      <th>Druva</th>\n",
       "      <td>20.0</td>\n",
       "    </tr>\n",
       "    <tr>\n",
       "      <th>...</th>\n",
       "      <th>...</th>\n",
       "      <td>...</td>\n",
       "    </tr>\n",
       "    <tr>\n",
       "      <th rowspan=\"5\" valign=\"top\">Sector 1/2</th>\n",
       "      <th>Jhendu/Marigold</th>\n",
       "      <td>7.0</td>\n",
       "    </tr>\n",
       "    <tr>\n",
       "      <th>Pack of 5 Fruits</th>\n",
       "      <td>10.0</td>\n",
       "    </tr>\n",
       "    <tr>\n",
       "      <th>Pack of 5 leaves</th>\n",
       "      <td>6.0</td>\n",
       "    </tr>\n",
       "    <tr>\n",
       "      <th>Rajnigandha</th>\n",
       "      <td>1.0</td>\n",
       "    </tr>\n",
       "    <tr>\n",
       "      <th>Tulsi</th>\n",
       "      <td>4.0</td>\n",
       "    </tr>\n",
       "  </tbody>\n",
       "</table>\n",
       "<p>62 rows × 1 columns</p>\n",
       "</div>"
      ],
      "text/plain": [
       "                                      num_packets\n",
       "drop_point   item_name                           \n",
       "Ajmera iLand Assorted Flowers                12.0\n",
       "             Banana Leaves                    6.0\n",
       "             Banana Leaves with Stem          6.0\n",
       "             Betelnut                         7.0\n",
       "             Druva                           20.0\n",
       "...                                           ...\n",
       "Sector 1/2   Jhendu/Marigold                  7.0\n",
       "             Pack of 5 Fruits                10.0\n",
       "             Pack of 5 leaves                 6.0\n",
       "             Rajnigandha                      1.0\n",
       "             Tulsi                            4.0\n",
       "\n",
       "[62 rows x 1 columns]"
      ]
     },
     "execution_count": 66,
     "metadata": {},
     "output_type": "execute_result"
    }
   ],
   "source": [
    "df_dropwise.groupby(['drop_point', 'item_name']).sum()"
   ]
  },
  {
   "cell_type": "code",
   "execution_count": 67,
   "metadata": {
    "ExecuteTime": {
     "end_time": "2020-08-20T17:15:59.368309Z",
     "start_time": "2020-08-20T17:15:59.356309Z"
    },
    "hidden": true
   },
   "outputs": [],
   "source": []
  },
  {
   "cell_type": "code",
   "execution_count": null,
   "metadata": {
    "hidden": true
   },
   "outputs": [],
   "source": []
  },
  {
   "cell_type": "code",
   "execution_count": null,
   "metadata": {
    "hidden": true
   },
   "outputs": [],
   "source": []
  },
  {
   "cell_type": "code",
   "execution_count": null,
   "metadata": {
    "hidden": true
   },
   "outputs": [],
   "source": []
  },
  {
   "cell_type": "code",
   "execution_count": null,
   "metadata": {
    "hidden": true
   },
   "outputs": [],
   "source": []
  },
  {
   "cell_type": "code",
   "execution_count": null,
   "metadata": {
    "hidden": true
   },
   "outputs": [],
   "source": []
  },
  {
   "cell_type": "code",
   "execution_count": 62,
   "metadata": {
    "ExecuteTime": {
     "end_time": "2020-08-21T17:27:48.469410Z",
     "start_time": "2020-08-21T17:27:48.465619Z"
    },
    "hidden": true
   },
   "outputs": [],
   "source": [
    "for token in range(178, 178+len(to_append)):\n",
    "    orders_dict[token] = to_append[178-token]"
   ]
  },
  {
   "cell_type": "markdown",
   "metadata": {
    "hidden": true
   },
   "source": [
    "## Pipe Separated Tatkaal"
   ]
  },
  {
   "cell_type": "code",
   "execution_count": 4,
   "metadata": {
    "ExecuteTime": {
     "end_time": "2020-09-13T06:58:33.578695Z",
     "start_time": "2020-09-13T06:58:33.574571Z"
    },
    "hidden": true
   },
   "outputs": [],
   "source": [
    "file = Path(fc.selected)"
   ]
  },
  {
   "cell_type": "code",
   "execution_count": 6,
   "metadata": {
    "ExecuteTime": {
     "end_time": "2020-09-13T06:58:48.478959Z",
     "start_time": "2020-09-13T06:58:48.345317Z"
    },
    "hidden": true
   },
   "outputs": [],
   "source": [
    "df = pd.read_excel(file)"
   ]
  },
  {
   "cell_type": "code",
   "execution_count": 14,
   "metadata": {
    "ExecuteTime": {
     "end_time": "2020-09-13T07:00:18.834004Z",
     "start_time": "2020-09-13T07:00:18.829917Z"
    },
    "hidden": true
   },
   "outputs": [],
   "source": [
    "# CHANGE MANUALLY EVERYTIME\n",
    "allcols = df.columns[9:-2]"
   ]
  },
  {
   "cell_type": "code",
   "execution_count": 15,
   "metadata": {
    "ExecuteTime": {
     "end_time": "2020-09-13T07:00:20.129472Z",
     "start_time": "2020-09-13T07:00:20.114548Z"
    },
    "hidden": true
   },
   "outputs": [],
   "source": [
    "df.fillna('', inplace=True)"
   ]
  },
  {
   "cell_type": "code",
   "execution_count": 16,
   "metadata": {
    "ExecuteTime": {
     "end_time": "2020-09-13T07:00:21.957948Z",
     "start_time": "2020-09-13T07:00:21.952934Z"
    },
    "hidden": true
   },
   "outputs": [],
   "source": [
    "df['piped'] = ''"
   ]
  },
  {
   "cell_type": "code",
   "execution_count": 18,
   "metadata": {
    "ExecuteTime": {
     "end_time": "2020-09-13T07:00:57.923642Z",
     "start_time": "2020-09-13T07:00:57.906959Z"
    },
    "hidden": true
   },
   "outputs": [],
   "source": [
    "piped = []\n",
    "for _, row in df.iterrows():\n",
    "    tmp = []\n",
    "#     print(row[df.columns[11:-2]])\n",
    "#     break\n",
    "    for col in allcols: \n",
    "        if(row[col] != ''):\n",
    "            tmp.append(row[col])\n",
    "#             tmp.append(col + ' ' + str(int(row[col])))\n",
    "    \n",
    "    piped.append(\" | \".join(tmp))"
   ]
  },
  {
   "cell_type": "code",
   "execution_count": 19,
   "metadata": {
    "ExecuteTime": {
     "end_time": "2020-09-13T07:00:59.673989Z",
     "start_time": "2020-09-13T07:00:59.669998Z"
    },
    "hidden": true
   },
   "outputs": [],
   "source": [
    "df.piped = piped"
   ]
  },
  {
   "cell_type": "code",
   "execution_count": 20,
   "metadata": {
    "ExecuteTime": {
     "end_time": "2020-09-13T07:01:04.768093Z",
     "start_time": "2020-09-13T07:01:04.727228Z"
    },
    "hidden": true
   },
   "outputs": [
    {
     "data": {
      "text/html": [
       "<div>\n",
       "<style scoped>\n",
       "    .dataframe tbody tr th:only-of-type {\n",
       "        vertical-align: middle;\n",
       "    }\n",
       "\n",
       "    .dataframe tbody tr th {\n",
       "        vertical-align: top;\n",
       "    }\n",
       "\n",
       "    .dataframe thead th {\n",
       "        text-align: right;\n",
       "    }\n",
       "</style>\n",
       "<table border=\"1\" class=\"dataframe\">\n",
       "  <thead>\n",
       "    <tr style=\"text-align: right;\">\n",
       "      <th></th>\n",
       "      <th>Submission Date</th>\n",
       "      <th>Order Number#</th>\n",
       "      <th>First Name</th>\n",
       "      <th>Last Name</th>\n",
       "      <th>Select Drop Point and then Building</th>\n",
       "      <th>Select Wing</th>\n",
       "      <th>Flat No</th>\n",
       "      <th>Phone Number</th>\n",
       "      <th>Email</th>\n",
       "      <th>Cucumber</th>\n",
       "      <th>Lemon</th>\n",
       "      <th>Capsicum</th>\n",
       "      <th>Ginger</th>\n",
       "      <th>Lady's Finger/Bhindi</th>\n",
       "      <th>Garlic</th>\n",
       "      <th>Baingan Bharta</th>\n",
       "      <th>Carrots</th>\n",
       "      <th>French Beans</th>\n",
       "      <th>Tomato</th>\n",
       "      <th>Bottle Gourd</th>\n",
       "      <th>Bitter Gourd</th>\n",
       "      <th>Cabbage</th>\n",
       "      <th>Mushrooms</th>\n",
       "      <th>Cauliflower</th>\n",
       "      <th>Lal Math/Amaranthus Leaves</th>\n",
       "      <th>Sweet Corn</th>\n",
       "      <th>Lemongrass</th>\n",
       "      <th>Sponge Gourd</th>\n",
       "      <th>Coriander</th>\n",
       "      <th>Shepu/Dill Leaves</th>\n",
       "      <th>Pudina/Mint Leaves</th>\n",
       "      <th>Palak</th>\n",
       "      <th>Broccoli</th>\n",
       "      <th>Premium Sitaphal</th>\n",
       "      <th>Total Amount</th>\n",
       "      <th>Any pending unadjusted credit from previous orders?</th>\n",
       "      <th>piped</th>\n",
       "    </tr>\n",
       "  </thead>\n",
       "  <tbody>\n",
       "    <tr>\n",
       "      <th>0</th>\n",
       "      <td>2020-09-13 11:04:37</td>\n",
       "      <td>BHORD-0165</td>\n",
       "      <td>Gunjan</td>\n",
       "      <td>Churiwal</td>\n",
       "      <td>Ivory - Julian Alps</td>\n",
       "      <td>B Wing</td>\n",
       "      <td>403</td>\n",
       "      <td>9821902333</td>\n",
       "      <td>higunjan2002@gmail.com</td>\n",
       "      <td></td>\n",
       "      <td></td>\n",
       "      <td></td>\n",
       "      <td></td>\n",
       "      <td></td>\n",
       "      <td></td>\n",
       "      <td></td>\n",
       "      <td></td>\n",
       "      <td></td>\n",
       "      <td></td>\n",
       "      <td></td>\n",
       "      <td></td>\n",
       "      <td></td>\n",
       "      <td></td>\n",
       "      <td></td>\n",
       "      <td></td>\n",
       "      <td></td>\n",
       "      <td></td>\n",
       "      <td></td>\n",
       "      <td></td>\n",
       "      <td></td>\n",
       "      <td></td>\n",
       "      <td></td>\n",
       "      <td></td>\n",
       "      <td>Premium Sitaphal : 1</td>\n",
       "      <td>150</td>\n",
       "      <td></td>\n",
       "      <td>Premium Sitaphal : 1</td>\n",
       "    </tr>\n",
       "    <tr>\n",
       "      <th>1</th>\n",
       "      <td>2020-09-13 11:03:22</td>\n",
       "      <td>BHORD-0164</td>\n",
       "      <td>Priyanka</td>\n",
       "      <td>Chordia</td>\n",
       "      <td>NCP - Tower 4</td>\n",
       "      <td>B Wing</td>\n",
       "      <td>3603</td>\n",
       "      <td>9819984779</td>\n",
       "      <td>priyanka.chordia2886@gmail.com</td>\n",
       "      <td></td>\n",
       "      <td></td>\n",
       "      <td></td>\n",
       "      <td></td>\n",
       "      <td></td>\n",
       "      <td>Garlic : 1</td>\n",
       "      <td></td>\n",
       "      <td></td>\n",
       "      <td></td>\n",
       "      <td>Tomato : 1</td>\n",
       "      <td></td>\n",
       "      <td></td>\n",
       "      <td></td>\n",
       "      <td></td>\n",
       "      <td></td>\n",
       "      <td></td>\n",
       "      <td></td>\n",
       "      <td></td>\n",
       "      <td></td>\n",
       "      <td></td>\n",
       "      <td></td>\n",
       "      <td></td>\n",
       "      <td></td>\n",
       "      <td></td>\n",
       "      <td></td>\n",
       "      <td>95</td>\n",
       "      <td></td>\n",
       "      <td>Garlic : 1 | Tomato : 1</td>\n",
       "    </tr>\n",
       "    <tr>\n",
       "      <th>2</th>\n",
       "      <td>2020-09-13 11:02:20</td>\n",
       "      <td>BHORD-0163</td>\n",
       "      <td>Sonal</td>\n",
       "      <td>Akkara</td>\n",
       "      <td>NCP - Tower 5</td>\n",
       "      <td>B Wing</td>\n",
       "      <td>4002</td>\n",
       "      <td>9560374999</td>\n",
       "      <td>sosh982@yahoo.com</td>\n",
       "      <td></td>\n",
       "      <td></td>\n",
       "      <td></td>\n",
       "      <td></td>\n",
       "      <td></td>\n",
       "      <td></td>\n",
       "      <td></td>\n",
       "      <td></td>\n",
       "      <td></td>\n",
       "      <td></td>\n",
       "      <td></td>\n",
       "      <td></td>\n",
       "      <td></td>\n",
       "      <td></td>\n",
       "      <td></td>\n",
       "      <td></td>\n",
       "      <td></td>\n",
       "      <td></td>\n",
       "      <td></td>\n",
       "      <td></td>\n",
       "      <td></td>\n",
       "      <td></td>\n",
       "      <td></td>\n",
       "      <td></td>\n",
       "      <td>Premium Sitaphal : 1</td>\n",
       "      <td>150</td>\n",
       "      <td></td>\n",
       "      <td>Premium Sitaphal : 1</td>\n",
       "    </tr>\n",
       "    <tr>\n",
       "      <th>3</th>\n",
       "      <td>2020-09-13 10:56:37</td>\n",
       "      <td>BHORD-0162</td>\n",
       "      <td>Amlan</td>\n",
       "      <td>Chaudhuri</td>\n",
       "      <td>NCP - Tower 6</td>\n",
       "      <td>B Wing</td>\n",
       "      <td>2804</td>\n",
       "      <td>9820475334</td>\n",
       "      <td>chaudhuri.amlan@gmail.com</td>\n",
       "      <td></td>\n",
       "      <td></td>\n",
       "      <td></td>\n",
       "      <td></td>\n",
       "      <td></td>\n",
       "      <td></td>\n",
       "      <td></td>\n",
       "      <td></td>\n",
       "      <td></td>\n",
       "      <td></td>\n",
       "      <td></td>\n",
       "      <td></td>\n",
       "      <td></td>\n",
       "      <td></td>\n",
       "      <td></td>\n",
       "      <td></td>\n",
       "      <td></td>\n",
       "      <td></td>\n",
       "      <td></td>\n",
       "      <td></td>\n",
       "      <td></td>\n",
       "      <td></td>\n",
       "      <td></td>\n",
       "      <td></td>\n",
       "      <td>Premium Sitaphal : 1</td>\n",
       "      <td>150</td>\n",
       "      <td></td>\n",
       "      <td>Premium Sitaphal : 1</td>\n",
       "    </tr>\n",
       "    <tr>\n",
       "      <th>4</th>\n",
       "      <td>2020-09-13 10:55:44</td>\n",
       "      <td>BHORD-0161</td>\n",
       "      <td>Praveen</td>\n",
       "      <td>Sangal</td>\n",
       "      <td>NCP - Tower 7</td>\n",
       "      <td>B Wing</td>\n",
       "      <td>1504</td>\n",
       "      <td>9820974386</td>\n",
       "      <td>praveensangal@gmail.com</td>\n",
       "      <td></td>\n",
       "      <td></td>\n",
       "      <td></td>\n",
       "      <td></td>\n",
       "      <td></td>\n",
       "      <td></td>\n",
       "      <td></td>\n",
       "      <td></td>\n",
       "      <td></td>\n",
       "      <td></td>\n",
       "      <td></td>\n",
       "      <td></td>\n",
       "      <td></td>\n",
       "      <td></td>\n",
       "      <td></td>\n",
       "      <td></td>\n",
       "      <td></td>\n",
       "      <td></td>\n",
       "      <td></td>\n",
       "      <td></td>\n",
       "      <td></td>\n",
       "      <td></td>\n",
       "      <td></td>\n",
       "      <td></td>\n",
       "      <td>Premium Sitaphal : 1</td>\n",
       "      <td>150</td>\n",
       "      <td></td>\n",
       "      <td>Premium Sitaphal : 1</td>\n",
       "    </tr>\n",
       "  </tbody>\n",
       "</table>\n",
       "</div>"
      ],
      "text/plain": [
       "      Submission Date Order Number# First Name  Last Name  \\\n",
       "0 2020-09-13 11:04:37    BHORD-0165     Gunjan   Churiwal   \n",
       "1 2020-09-13 11:03:22    BHORD-0164   Priyanka    Chordia   \n",
       "2 2020-09-13 11:02:20    BHORD-0163      Sonal     Akkara   \n",
       "3 2020-09-13 10:56:37    BHORD-0162      Amlan  Chaudhuri   \n",
       "4 2020-09-13 10:55:44    BHORD-0161    Praveen     Sangal   \n",
       "\n",
       "  Select Drop Point and then Building Select Wing Flat No  Phone Number  \\\n",
       "0                 Ivory - Julian Alps      B Wing     403    9821902333   \n",
       "1                       NCP - Tower 4      B Wing    3603    9819984779   \n",
       "2                       NCP - Tower 5      B Wing    4002    9560374999   \n",
       "3                       NCP - Tower 6      B Wing    2804    9820475334   \n",
       "4                       NCP - Tower 7      B Wing    1504    9820974386   \n",
       "\n",
       "                            Email Cucumber Lemon Capsicum Ginger  \\\n",
       "0          higunjan2002@gmail.com                                  \n",
       "1  priyanka.chordia2886@gmail.com                                  \n",
       "2               sosh982@yahoo.com                                  \n",
       "3       chaudhuri.amlan@gmail.com                                  \n",
       "4         praveensangal@gmail.com                                  \n",
       "\n",
       "  Lady's Finger/Bhindi      Garlic Baingan Bharta Carrots French Beans  \\\n",
       "0                                                                        \n",
       "1                       Garlic : 1                                       \n",
       "2                                                                        \n",
       "3                                                                        \n",
       "4                                                                        \n",
       "\n",
       "       Tomato Bottle Gourd Bitter Gourd Cabbage Mushrooms Cauliflower  \\\n",
       "0                                                                       \n",
       "1  Tomato : 1                                                           \n",
       "2                                                                       \n",
       "3                                                                       \n",
       "4                                                                       \n",
       "\n",
       "  Lal Math/Amaranthus Leaves Sweet Corn Lemongrass Sponge Gourd Coriander  \\\n",
       "0                                                                           \n",
       "1                                                                           \n",
       "2                                                                           \n",
       "3                                                                           \n",
       "4                                                                           \n",
       "\n",
       "  Shepu/Dill Leaves Pudina/Mint Leaves Palak Broccoli      Premium Sitaphal  \\\n",
       "0                                                      Premium Sitaphal : 1   \n",
       "1                                                                             \n",
       "2                                                      Premium Sitaphal : 1   \n",
       "3                                                      Premium Sitaphal : 1   \n",
       "4                                                      Premium Sitaphal : 1   \n",
       "\n",
       "   Total Amount Any pending unadjusted credit from previous orders?  \\\n",
       "0           150                                                       \n",
       "1            95                                                       \n",
       "2           150                                                       \n",
       "3           150                                                       \n",
       "4           150                                                       \n",
       "\n",
       "                     piped  \n",
       "0     Premium Sitaphal : 1  \n",
       "1  Garlic : 1 | Tomato : 1  \n",
       "2     Premium Sitaphal : 1  \n",
       "3     Premium Sitaphal : 1  \n",
       "4     Premium Sitaphal : 1  "
      ]
     },
     "execution_count": 20,
     "metadata": {},
     "output_type": "execute_result"
    }
   ],
   "source": [
    "df.head()"
   ]
  },
  {
   "cell_type": "code",
   "execution_count": 38,
   "metadata": {
    "ExecuteTime": {
     "end_time": "2020-09-11T05:55:39.805141Z",
     "start_time": "2020-09-11T05:55:39.795137Z"
    },
    "hidden": true
   },
   "outputs": [],
   "source": [
    "df.to_csv('piped-tatkaal.csv', index=False)"
   ]
  },
  {
   "cell_type": "code",
   "execution_count": null,
   "metadata": {
    "hidden": true
   },
   "outputs": [],
   "source": []
  }
 ],
 "metadata": {
  "kernelspec": {
   "display_name": "Python 3",
   "language": "python",
   "name": "python3"
  },
  "language_info": {
   "codemirror_mode": {
    "name": "ipython",
    "version": 3
   },
   "file_extension": ".py",
   "mimetype": "text/x-python",
   "name": "python",
   "nbconvert_exporter": "python",
   "pygments_lexer": "ipython3",
   "version": "3.6.9"
  },
  "toc": {
   "base_numbering": 1,
   "nav_menu": {},
   "number_sections": true,
   "sideBar": true,
   "skip_h1_title": false,
   "title_cell": "Table of Contents",
   "title_sidebar": "Contents",
   "toc_cell": false,
   "toc_position": {
    "height": "calc(100% - 180px)",
    "left": "10px",
    "top": "150px",
    "width": "165px"
   },
   "toc_section_display": true,
   "toc_window_display": false
  }
 },
 "nbformat": 4,
 "nbformat_minor": 2
}
