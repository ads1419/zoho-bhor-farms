{
 "cells": [
  {
   "cell_type": "markdown",
   "metadata": {},
   "source": [
    "# Megamaster"
   ]
  },
  {
   "cell_type": "code",
   "execution_count": 1,
   "metadata": {
    "ExecuteTime": {
     "end_time": "2020-10-29T11:54:02.523066Z",
     "start_time": "2020-10-29T11:54:01.193386Z"
    }
   },
   "outputs": [],
   "source": [
    "import pandas as pd\n",
    "import re\n",
    "from pathlib import Path\n",
    "import os\n",
    "import numpy as np\n",
    "\n",
    "pd.set_option('display.max_columns', 500)"
   ]
  },
  {
   "cell_type": "code",
   "execution_count": 2,
   "metadata": {
    "ExecuteTime": {
     "end_time": "2020-10-29T11:54:02.697324Z",
     "start_time": "2020-10-29T11:54:02.527092Z"
    }
   },
   "outputs": [
    {
     "data": {
      "application/vnd.jupyter.widget-view+json": {
       "model_id": "766bc2c79ec04cad951e58645401ee7b",
       "version_major": 2,
       "version_minor": 0
      },
      "text/plain": [
       "FileChooser(path='C:/Playground/bhaiya-orders/zoho-bhor-farms/inputs/', filename='', show_hidden='False')"
      ]
     },
     "metadata": {},
     "output_type": "display_data"
    }
   ],
   "source": [
    "from ipyfilechooser import FileChooser\n",
    "\n",
    "fc = FileChooser(\"C:/Playground/bhaiya-orders/zoho-bhor-farms/inputs/\")\n",
    "fc.use_dir_icons = True\n",
    "display(fc)"
   ]
  },
  {
   "cell_type": "code",
   "execution_count": 195,
   "metadata": {
    "ExecuteTime": {
     "end_time": "2020-10-29T12:15:08.690879Z",
     "start_time": "2020-10-29T12:15:08.683928Z"
    }
   },
   "outputs": [],
   "source": [
    "FILE = Path(fc.selected)"
   ]
  },
  {
   "cell_type": "code",
   "execution_count": 196,
   "metadata": {
    "ExecuteTime": {
     "end_time": "2020-10-29T12:15:09.589878Z",
     "start_time": "2020-10-29T12:15:09.575914Z"
    }
   },
   "outputs": [],
   "source": [
    "OUTPUT_DIR = Path(\"C:/Playground/bhaiya-orders/zoho-bhor-farms/outputs/\")\n",
    "\n",
    "save_pth = Path(OUTPUT_DIR/str(FILE.stem)); save_pth\n",
    "os.makedirs(save_pth, exist_ok=True)\n",
    "\n",
    "PDF_DIR = save_pth/'customerwise-pdfs'\n",
    "os.makedirs(PDF_DIR, exist_ok=True)"
   ]
  },
  {
   "cell_type": "code",
   "execution_count": 197,
   "metadata": {
    "ExecuteTime": {
     "end_time": "2020-10-29T12:15:10.199112Z",
     "start_time": "2020-10-29T12:15:10.190138Z"
    }
   },
   "outputs": [],
   "source": [
    "# items2subset = ['Gawar/Cluster Beans', 'Mint Leaves', 'Sponge Gourd',  'Tondli', 'VNR Guava', ]\n",
    "items2subset = None\n",
    "STATUSES2PROCESS = ['Completed', 'Network Error']"
   ]
  },
  {
   "cell_type": "code",
   "execution_count": 198,
   "metadata": {
    "ExecuteTime": {
     "end_time": "2020-10-29T12:15:10.664743Z",
     "start_time": "2020-10-29T12:15:10.436745Z"
    }
   },
   "outputs": [
    {
     "name": "stdout",
     "output_type": "stream",
     "text": [
      "WARNING: MORE THAN ONE SHEETS PRESENT IN FILE\n"
     ]
    }
   ],
   "source": [
    "try:\n",
    "    if 'csv' in FILE.suffix: df = pd.read_csv(FILE)\n",
    "    else: \n",
    "        df = pd.read_excel(FILE)\n",
    "        if len(pd.ExcelFile(FILE).sheet_names) > 1:\n",
    "            print(\"WARNING: MORE THAN ONE SHEETS PRESENT IN FILE\")\n",
    "            \n",
    "except OSError:\n",
    "    print(\"Error occured, invalid file!\")"
   ]
  },
  {
   "cell_type": "code",
   "execution_count": 199,
   "metadata": {
    "ExecuteTime": {
     "end_time": "2020-10-29T12:15:17.612834Z",
     "start_time": "2020-10-29T12:15:17.491393Z"
    }
   },
   "outputs": [
    {
     "data": {
      "text/html": [
       "<div>\n",
       "<style scoped>\n",
       "    .dataframe tbody tr th:only-of-type {\n",
       "        vertical-align: middle;\n",
       "    }\n",
       "\n",
       "    .dataframe tbody tr th {\n",
       "        vertical-align: top;\n",
       "    }\n",
       "\n",
       "    .dataframe thead th {\n",
       "        text-align: right;\n",
       "    }\n",
       "</style>\n",
       "<table border=\"1\" class=\"dataframe\">\n",
       "  <thead>\n",
       "    <tr style=\"text-align: right;\">\n",
       "      <th></th>\n",
       "      <th>Name</th>\n",
       "      <th>Select Drop Point</th>\n",
       "      <th>Enter Building Dosti</th>\n",
       "      <th>Select Building Ivory</th>\n",
       "      <th>Select Building Wellness Forever</th>\n",
       "      <th>Select Building NCP</th>\n",
       "      <th>Select Building Ajmera iLand</th>\n",
       "      <th>Select Building Sector 1/2</th>\n",
       "      <th>Select Building Cosmic</th>\n",
       "      <th>Select Building R2</th>\n",
       "      <th>Select Building R12</th>\n",
       "      <th>Select Building Raheja</th>\n",
       "      <th>Select Building Lake Homes</th>\n",
       "      <th>Select Wing</th>\n",
       "      <th>Flat No</th>\n",
       "      <th>Phone</th>\n",
       "      <th>Email</th>\n",
       "      <th>Select Delivery Date</th>\n",
       "      <th>Opt in for Doorstep Delivery @ Rs 25</th>\n",
       "      <th>Potatoes</th>\n",
       "      <th>Potatoes Price</th>\n",
       "      <th>Select Quantity of Potatoes</th>\n",
       "      <th>Red Onions</th>\n",
       "      <th>Red Onions Price</th>\n",
       "      <th>Select Quantity of Red Onions</th>\n",
       "      <th>Cauliflower</th>\n",
       "      <th>Cauliflower Price</th>\n",
       "      <th>Select Quantity of Cauliflower</th>\n",
       "      <th>Cabbage</th>\n",
       "      <th>Cabbage Price</th>\n",
       "      <th>Select Quantity of Cabbage</th>\n",
       "      <th>Brinjal Bharta</th>\n",
       "      <th>Brinjal Bharta Price</th>\n",
       "      <th>Select Quantity of Brinjal Bharta</th>\n",
       "      <th>Pumpkin</th>\n",
       "      <th>Pumpkin Price</th>\n",
       "      <th>Select Quantity of Pumpkin</th>\n",
       "      <th>Brinjal Kateri</th>\n",
       "      <th>Brinjal Kateri Price</th>\n",
       "      <th>Select Quantity of Brinjal Kateri</th>\n",
       "      <th>Cucumber</th>\n",
       "      <th>Cucumber Price</th>\n",
       "      <th>Select Quantity of Cucumber</th>\n",
       "      <th>Bhindi/Lady's Finger</th>\n",
       "      <th>Bhindi/Lady's Finger Price</th>\n",
       "      <th>Select Quantity of Bhindi/Lady's Finger</th>\n",
       "      <th>Bitter Gourd</th>\n",
       "      <th>Bitter Gourd Price</th>\n",
       "      <th>Select Quantity of Bitter Gourd</th>\n",
       "      <th>Ridge Gourd</th>\n",
       "      <th>Ridge Gourd Price</th>\n",
       "      <th>Select Quantity of Ridge Gourd</th>\n",
       "      <th>Beetroot</th>\n",
       "      <th>Beetroot Price</th>\n",
       "      <th>Select Quantity of Beetroot</th>\n",
       "      <th>Button Mushrooms</th>\n",
       "      <th>Button Mushroom Price</th>\n",
       "      <th>Select Quantity of Button Mushroom</th>\n",
       "      <th>Bottle Gourd</th>\n",
       "      <th>Bottle Gourd Price</th>\n",
       "      <th>Select Quantity of Bottle Gourd</th>\n",
       "      <th>Drumsticks</th>\n",
       "      <th>Drumsticks Price</th>\n",
       "      <th>Select Quantity of Drumsticks</th>\n",
       "      <th>Capsicum</th>\n",
       "      <th>Capsicum Price</th>\n",
       "      <th>Select Quantity of Capsicum</th>\n",
       "      <th>Gawar/Cluster Beans</th>\n",
       "      <th>Gawar/Cluster Beans Price</th>\n",
       "      <th>Select Quantity of Gawar/Cluster Beans</th>\n",
       "      <th>French Beans</th>\n",
       "      <th>French Beans Price</th>\n",
       "      <th>Select Quantity of French Beans</th>\n",
       "      <th>Tomato</th>\n",
       "      <th>Tomato Price</th>\n",
       "      <th>Select Quantity of Tomato</th>\n",
       "      <th>Sweet Corn</th>\n",
       "      <th>Sweet Corn Price</th>\n",
       "      <th>Select Quantity of Sweet Corn</th>\n",
       "      <th>Broccoli</th>\n",
       "      <th>Broccoli Price</th>\n",
       "      <th>Select Quantity of Broccoli</th>\n",
       "      <th>Lettuce</th>\n",
       "      <th>Lettuce Price</th>\n",
       "      <th>Select Quantity of Lettuce</th>\n",
       "      <th>Kiwi Zespri Imported</th>\n",
       "      <th>Kiwi Zespri Imported Price</th>\n",
       "      <th>Select Quantity of Kiwi Zespri Imported</th>\n",
       "      <th>Banana Regular</th>\n",
       "      <th>Banana Price</th>\n",
       "      <th>Select Quantity of Banana</th>\n",
       "      <th>Garlic</th>\n",
       "      <th>Garlic Price</th>\n",
       "      <th>Select Quantity of Garlic</th>\n",
       "      <th>Ginger</th>\n",
       "      <th>Ginger Price</th>\n",
       "      <th>Select Quantity of Ginger</th>\n",
       "      <th>Green Chilly</th>\n",
       "      <th>Green Chilly Price</th>\n",
       "      <th>Select Quantity of Green Chilly</th>\n",
       "      <th>Lemons</th>\n",
       "      <th>Lemons Price</th>\n",
       "      <th>Select Quantity of Lemons</th>\n",
       "      <th>Curry Leaves</th>\n",
       "      <th>Curry Leaves Price</th>\n",
       "      <th>Select Quantity of Curry Leaves</th>\n",
       "      <th>Coriander Leaves</th>\n",
       "      <th>Coriander Leaves Price</th>\n",
       "      <th>Select Quantity of Coriander Leaves</th>\n",
       "      <th>Mint Leaves</th>\n",
       "      <th>Mint Leaves Price</th>\n",
       "      <th>Select Quantity of Mint Leaves</th>\n",
       "      <th>Palak/Spinach</th>\n",
       "      <th>Palak/Spinach Price</th>\n",
       "      <th>Select Quantity of Palak/Spinach</th>\n",
       "      <th>Shepu/Dill Leaves</th>\n",
       "      <th>Shepu/Dill Leaves Price</th>\n",
       "      <th>Select Quantity of Shepu/Dill Leaves</th>\n",
       "      <th>Methi Leaves</th>\n",
       "      <th>Methi Leaves Price</th>\n",
       "      <th>Select Quantity of Methi Leaves</th>\n",
       "      <th>Red/Yellow Bell Peppers</th>\n",
       "      <th>Red/Yellow Bell Peppers Price</th>\n",
       "      <th>Select Quantity of Red/Yellow Bell Peppers</th>\n",
       "      <th>Carrots</th>\n",
       "      <th>Carrots Price</th>\n",
       "      <th>Select Quantity of Carrots</th>\n",
       "      <th>Radish/Muli</th>\n",
       "      <th>Radish/Muli Price</th>\n",
       "      <th>Select Quantity of Radish/Muli</th>\n",
       "      <th>Green Peas</th>\n",
       "      <th>Green Peas Price</th>\n",
       "      <th>Select Quantity of Green Peas</th>\n",
       "      <th>Lal Math/Amaranthus Leaves</th>\n",
       "      <th>Lal Math/Amaranthus Price</th>\n",
       "      <th>Select Quantity of Lal Math/Amaranthus</th>\n",
       "      <th>Arbi Leaves</th>\n",
       "      <th>Arbi Leaves Price</th>\n",
       "      <th>Select Quantity of Arbi Leaves</th>\n",
       "      <th>Arbi/Colocasia</th>\n",
       "      <th>Arbi/Colocasia Price</th>\n",
       "      <th>Select Quantity of Arbi/Colocasia</th>\n",
       "      <th>Babycorn</th>\n",
       "      <th>Babycorn Price</th>\n",
       "      <th>Select Quantity of Babycorn</th>\n",
       "      <th>Raw Banana</th>\n",
       "      <th>Raw Banana Price</th>\n",
       "      <th>Select Quantity of Raw Banana</th>\n",
       "      <th>Lemongrass</th>\n",
       "      <th>Lemongrass Price</th>\n",
       "      <th>Select Quantity of Lemongrass</th>\n",
       "      <th>Sponge Gourd</th>\n",
       "      <th>Sponge Gourd Price</th>\n",
       "      <th>Select Quantity of Sponge Gourd</th>\n",
       "      <th>Peeled Garlic</th>\n",
       "      <th>Peeled Garlic Price</th>\n",
       "      <th>Select Quantity of Peeled Garlic</th>\n",
       "      <th>Green Zucchini</th>\n",
       "      <th>Green Zucchini Price</th>\n",
       "      <th>Select Quantity of Green Zucchini</th>\n",
       "      <th>Yellow Zucchini</th>\n",
       "      <th>Yellow Zucchini Price</th>\n",
       "      <th>Select Quantity of Yellow Zucchini</th>\n",
       "      <th>Indian Avacado</th>\n",
       "      <th>Indian Avacado Price</th>\n",
       "      <th>Select Quantity of Indian Avacado</th>\n",
       "      <th>Apple Ber</th>\n",
       "      <th>Apple Ber Price</th>\n",
       "      <th>Select Quantity of Apple Ber</th>\n",
       "      <th>Papaya</th>\n",
       "      <th>Papaya Price</th>\n",
       "      <th>Select Quantity of Papaya</th>\n",
       "      <th>Jaggery</th>\n",
       "      <th>Jaggery Price</th>\n",
       "      <th>Select Quantity of Jaggery</th>\n",
       "      <th>Desi Peru</th>\n",
       "      <th>Desi Peru Price</th>\n",
       "      <th>Select Quantity of Desi Peru</th>\n",
       "      <th>Basil Leaves</th>\n",
       "      <th>Basil Leaves Price</th>\n",
       "      <th>Select Quantity of Basil Leaves</th>\n",
       "      <th>Total Amount</th>\n",
       "      <th>Payment Amount</th>\n",
       "      <th>Payment Status</th>\n",
       "      <th>Payment Currency</th>\n",
       "      <th>Added Time</th>\n",
       "      <th>CRM Status</th>\n",
       "      <th>Referrer Name</th>\n",
       "      <th>Task Owner</th>\n",
       "    </tr>\n",
       "  </thead>\n",
       "  <tbody>\n",
       "    <tr>\n",
       "      <th>0</th>\n",
       "      <td>Dev; Haria</td>\n",
       "      <td>Sector 1/2</td>\n",
       "      <td>NaN</td>\n",
       "      <td>NaN</td>\n",
       "      <td>NaN</td>\n",
       "      <td>NaN</td>\n",
       "      <td>NaN</td>\n",
       "      <td>Castle Rock</td>\n",
       "      <td>NaN</td>\n",
       "      <td>NaN</td>\n",
       "      <td>NaN</td>\n",
       "      <td>NaN</td>\n",
       "      <td>NaN</td>\n",
       "      <td>Not Applicable</td>\n",
       "      <td>501</td>\n",
       "      <td>9323179390</td>\n",
       "      <td>devharia@outlook.com</td>\n",
       "      <td>Fri Oct 30th</td>\n",
       "      <td>NaN</td>\n",
       "      <td>NaN</td>\n",
       "      <td>46</td>\n",
       "      <td>1.0</td>\n",
       "      <td>NaN</td>\n",
       "      <td>82</td>\n",
       "      <td>1.0</td>\n",
       "      <td>NaN</td>\n",
       "      <td>45</td>\n",
       "      <td>NaN</td>\n",
       "      <td>NaN</td>\n",
       "      <td>42</td>\n",
       "      <td>NaN</td>\n",
       "      <td>NaN</td>\n",
       "      <td>45</td>\n",
       "      <td>NaN</td>\n",
       "      <td>NaN</td>\n",
       "      <td>22</td>\n",
       "      <td>NaN</td>\n",
       "      <td>NaN</td>\n",
       "      <td>37</td>\n",
       "      <td>NaN</td>\n",
       "      <td>NaN</td>\n",
       "      <td>25</td>\n",
       "      <td>1.0</td>\n",
       "      <td>NaN</td>\n",
       "      <td>40</td>\n",
       "      <td>NaN</td>\n",
       "      <td>NaN</td>\n",
       "      <td>25</td>\n",
       "      <td>1.0</td>\n",
       "      <td>NaN</td>\n",
       "      <td>45</td>\n",
       "      <td>NaN</td>\n",
       "      <td>NaN</td>\n",
       "      <td>33</td>\n",
       "      <td>NaN</td>\n",
       "      <td>NaN</td>\n",
       "      <td>55</td>\n",
       "      <td>NaN</td>\n",
       "      <td>NaN</td>\n",
       "      <td>30</td>\n",
       "      <td>1.0</td>\n",
       "      <td>NaN</td>\n",
       "      <td>40</td>\n",
       "      <td>NaN</td>\n",
       "      <td>NaN</td>\n",
       "      <td>45</td>\n",
       "      <td>NaN</td>\n",
       "      <td>NaN</td>\n",
       "      <td>35</td>\n",
       "      <td>NaN</td>\n",
       "      <td>NaN</td>\n",
       "      <td>58</td>\n",
       "      <td>NaN</td>\n",
       "      <td>NaN</td>\n",
       "      <td>40</td>\n",
       "      <td>1.0</td>\n",
       "      <td>NaN</td>\n",
       "      <td>33</td>\n",
       "      <td>NaN</td>\n",
       "      <td>NaN</td>\n",
       "      <td>75</td>\n",
       "      <td>NaN</td>\n",
       "      <td>NaN</td>\n",
       "      <td>75</td>\n",
       "      <td>NaN</td>\n",
       "      <td>NaN</td>\n",
       "      <td>95</td>\n",
       "      <td>NaN</td>\n",
       "      <td>NaN</td>\n",
       "      <td>22</td>\n",
       "      <td>NaN</td>\n",
       "      <td>NaN</td>\n",
       "      <td>50</td>\n",
       "      <td>NaN</td>\n",
       "      <td>NaN</td>\n",
       "      <td>32</td>\n",
       "      <td>NaN</td>\n",
       "      <td>NaN</td>\n",
       "      <td>20</td>\n",
       "      <td>NaN</td>\n",
       "      <td>NaN</td>\n",
       "      <td>15</td>\n",
       "      <td>NaN</td>\n",
       "      <td>NaN</td>\n",
       "      <td>0</td>\n",
       "      <td>1.0</td>\n",
       "      <td>NaN</td>\n",
       "      <td>35</td>\n",
       "      <td>NaN</td>\n",
       "      <td>NaN</td>\n",
       "      <td>10</td>\n",
       "      <td>NaN</td>\n",
       "      <td>NaN</td>\n",
       "      <td>35</td>\n",
       "      <td>NaN</td>\n",
       "      <td>NaN</td>\n",
       "      <td>25</td>\n",
       "      <td>NaN</td>\n",
       "      <td>NaN</td>\n",
       "      <td>38</td>\n",
       "      <td>NaN</td>\n",
       "      <td>NaN</td>\n",
       "      <td>115</td>\n",
       "      <td>NaN</td>\n",
       "      <td>NaN</td>\n",
       "      <td>30</td>\n",
       "      <td>NaN</td>\n",
       "      <td>NaN</td>\n",
       "      <td>24</td>\n",
       "      <td>NaN</td>\n",
       "      <td>NaN</td>\n",
       "      <td>70</td>\n",
       "      <td>NaN</td>\n",
       "      <td>NaN</td>\n",
       "      <td>30</td>\n",
       "      <td>NaN</td>\n",
       "      <td>NaN</td>\n",
       "      <td>20</td>\n",
       "      <td>NaN</td>\n",
       "      <td>NaN</td>\n",
       "      <td>37</td>\n",
       "      <td>NaN</td>\n",
       "      <td>NaN</td>\n",
       "      <td>50</td>\n",
       "      <td>NaN</td>\n",
       "      <td>NaN</td>\n",
       "      <td>25</td>\n",
       "      <td>NaN</td>\n",
       "      <td>NaN</td>\n",
       "      <td>10</td>\n",
       "      <td>NaN</td>\n",
       "      <td>NaN</td>\n",
       "      <td>38</td>\n",
       "      <td>1.0</td>\n",
       "      <td>NaN</td>\n",
       "      <td>30</td>\n",
       "      <td>NaN</td>\n",
       "      <td>NaN</td>\n",
       "      <td>90</td>\n",
       "      <td>NaN</td>\n",
       "      <td>NaN</td>\n",
       "      <td>90</td>\n",
       "      <td>NaN</td>\n",
       "      <td>NaN</td>\n",
       "      <td>145</td>\n",
       "      <td>NaN</td>\n",
       "      <td>NaN</td>\n",
       "      <td>60</td>\n",
       "      <td>NaN</td>\n",
       "      <td>NaN</td>\n",
       "      <td>55</td>\n",
       "      <td>NaN</td>\n",
       "      <td>NaN</td>\n",
       "      <td>110</td>\n",
       "      <td>NaN</td>\n",
       "      <td>NaN</td>\n",
       "      <td>80</td>\n",
       "      <td>NaN</td>\n",
       "      <td>NaN</td>\n",
       "      <td>30</td>\n",
       "      <td>NaN</td>\n",
       "      <td>286</td>\n",
       "      <td>286</td>\n",
       "      <td>Completed</td>\n",
       "      <td>INR</td>\n",
       "      <td>2020-10-29 16:59:08</td>\n",
       "      <td>New Record  -  Record added</td>\n",
       "      <td>NaN</td>\n",
       "      <td>sudeep@systematiq.in</td>\n",
       "    </tr>\n",
       "    <tr>\n",
       "      <th>1</th>\n",
       "      <td>Rashmita; Sundaram</td>\n",
       "      <td>Ajmera iLand</td>\n",
       "      <td>NaN</td>\n",
       "      <td>NaN</td>\n",
       "      <td>NaN</td>\n",
       "      <td>NaN</td>\n",
       "      <td>Aeon</td>\n",
       "      <td>NaN</td>\n",
       "      <td>NaN</td>\n",
       "      <td>NaN</td>\n",
       "      <td>NaN</td>\n",
       "      <td>NaN</td>\n",
       "      <td>NaN</td>\n",
       "      <td>A Wing</td>\n",
       "      <td>1202</td>\n",
       "      <td>9004913659</td>\n",
       "      <td>Rashmita.sundaram@gmail.com</td>\n",
       "      <td>Fri Oct 30th</td>\n",
       "      <td>NaN</td>\n",
       "      <td>NaN</td>\n",
       "      <td>46</td>\n",
       "      <td>NaN</td>\n",
       "      <td>NaN</td>\n",
       "      <td>82</td>\n",
       "      <td>2.0</td>\n",
       "      <td>NaN</td>\n",
       "      <td>45</td>\n",
       "      <td>NaN</td>\n",
       "      <td>NaN</td>\n",
       "      <td>42</td>\n",
       "      <td>NaN</td>\n",
       "      <td>NaN</td>\n",
       "      <td>45</td>\n",
       "      <td>NaN</td>\n",
       "      <td>NaN</td>\n",
       "      <td>22</td>\n",
       "      <td>NaN</td>\n",
       "      <td>NaN</td>\n",
       "      <td>37</td>\n",
       "      <td>1.0</td>\n",
       "      <td>NaN</td>\n",
       "      <td>25</td>\n",
       "      <td>NaN</td>\n",
       "      <td>NaN</td>\n",
       "      <td>40</td>\n",
       "      <td>2.0</td>\n",
       "      <td>NaN</td>\n",
       "      <td>25</td>\n",
       "      <td>NaN</td>\n",
       "      <td>NaN</td>\n",
       "      <td>45</td>\n",
       "      <td>NaN</td>\n",
       "      <td>NaN</td>\n",
       "      <td>33</td>\n",
       "      <td>NaN</td>\n",
       "      <td>NaN</td>\n",
       "      <td>55</td>\n",
       "      <td>1.0</td>\n",
       "      <td>NaN</td>\n",
       "      <td>30</td>\n",
       "      <td>1.0</td>\n",
       "      <td>NaN</td>\n",
       "      <td>40</td>\n",
       "      <td>NaN</td>\n",
       "      <td>NaN</td>\n",
       "      <td>45</td>\n",
       "      <td>NaN</td>\n",
       "      <td>NaN</td>\n",
       "      <td>35</td>\n",
       "      <td>NaN</td>\n",
       "      <td>NaN</td>\n",
       "      <td>58</td>\n",
       "      <td>1.0</td>\n",
       "      <td>NaN</td>\n",
       "      <td>40</td>\n",
       "      <td>NaN</td>\n",
       "      <td>NaN</td>\n",
       "      <td>33</td>\n",
       "      <td>NaN</td>\n",
       "      <td>NaN</td>\n",
       "      <td>75</td>\n",
       "      <td>NaN</td>\n",
       "      <td>NaN</td>\n",
       "      <td>75</td>\n",
       "      <td>NaN</td>\n",
       "      <td>NaN</td>\n",
       "      <td>95</td>\n",
       "      <td>NaN</td>\n",
       "      <td>NaN</td>\n",
       "      <td>22</td>\n",
       "      <td>NaN</td>\n",
       "      <td>NaN</td>\n",
       "      <td>50</td>\n",
       "      <td>NaN</td>\n",
       "      <td>NaN</td>\n",
       "      <td>32</td>\n",
       "      <td>NaN</td>\n",
       "      <td>NaN</td>\n",
       "      <td>20</td>\n",
       "      <td>NaN</td>\n",
       "      <td>NaN</td>\n",
       "      <td>15</td>\n",
       "      <td>NaN</td>\n",
       "      <td>NaN</td>\n",
       "      <td>0</td>\n",
       "      <td>1.0</td>\n",
       "      <td>NaN</td>\n",
       "      <td>35</td>\n",
       "      <td>NaN</td>\n",
       "      <td>NaN</td>\n",
       "      <td>10</td>\n",
       "      <td>NaN</td>\n",
       "      <td>NaN</td>\n",
       "      <td>35</td>\n",
       "      <td>NaN</td>\n",
       "      <td>NaN</td>\n",
       "      <td>25</td>\n",
       "      <td>NaN</td>\n",
       "      <td>NaN</td>\n",
       "      <td>38</td>\n",
       "      <td>NaN</td>\n",
       "      <td>NaN</td>\n",
       "      <td>115</td>\n",
       "      <td>1.0</td>\n",
       "      <td>NaN</td>\n",
       "      <td>30</td>\n",
       "      <td>NaN</td>\n",
       "      <td>NaN</td>\n",
       "      <td>24</td>\n",
       "      <td>1.0</td>\n",
       "      <td>NaN</td>\n",
       "      <td>70</td>\n",
       "      <td>NaN</td>\n",
       "      <td>NaN</td>\n",
       "      <td>30</td>\n",
       "      <td>NaN</td>\n",
       "      <td>NaN</td>\n",
       "      <td>20</td>\n",
       "      <td>NaN</td>\n",
       "      <td>NaN</td>\n",
       "      <td>37</td>\n",
       "      <td>NaN</td>\n",
       "      <td>NaN</td>\n",
       "      <td>50</td>\n",
       "      <td>1.0</td>\n",
       "      <td>NaN</td>\n",
       "      <td>25</td>\n",
       "      <td>NaN</td>\n",
       "      <td>NaN</td>\n",
       "      <td>10</td>\n",
       "      <td>NaN</td>\n",
       "      <td>NaN</td>\n",
       "      <td>38</td>\n",
       "      <td>NaN</td>\n",
       "      <td>NaN</td>\n",
       "      <td>30</td>\n",
       "      <td>NaN</td>\n",
       "      <td>NaN</td>\n",
       "      <td>90</td>\n",
       "      <td>1.0</td>\n",
       "      <td>NaN</td>\n",
       "      <td>90</td>\n",
       "      <td>NaN</td>\n",
       "      <td>NaN</td>\n",
       "      <td>145</td>\n",
       "      <td>NaN</td>\n",
       "      <td>NaN</td>\n",
       "      <td>60</td>\n",
       "      <td>NaN</td>\n",
       "      <td>NaN</td>\n",
       "      <td>55</td>\n",
       "      <td>NaN</td>\n",
       "      <td>NaN</td>\n",
       "      <td>110</td>\n",
       "      <td>NaN</td>\n",
       "      <td>NaN</td>\n",
       "      <td>80</td>\n",
       "      <td>NaN</td>\n",
       "      <td>NaN</td>\n",
       "      <td>30</td>\n",
       "      <td>1.0</td>\n",
       "      <td>733</td>\n",
       "      <td>733</td>\n",
       "      <td>Completed</td>\n",
       "      <td>INR</td>\n",
       "      <td>2020-10-29 16:44:58</td>\n",
       "      <td>New Record  -  Record added</td>\n",
       "      <td>NaN</td>\n",
       "      <td>sudeep@systematiq.in</td>\n",
       "    </tr>\n",
       "    <tr>\n",
       "      <th>2</th>\n",
       "      <td>Sweety; Agarwalla</td>\n",
       "      <td>Ivory</td>\n",
       "      <td>NaN</td>\n",
       "      <td>Girnar Heights</td>\n",
       "      <td>NaN</td>\n",
       "      <td>NaN</td>\n",
       "      <td>NaN</td>\n",
       "      <td>NaN</td>\n",
       "      <td>NaN</td>\n",
       "      <td>NaN</td>\n",
       "      <td>NaN</td>\n",
       "      <td>NaN</td>\n",
       "      <td>NaN</td>\n",
       "      <td>B Wing</td>\n",
       "      <td>1602</td>\n",
       "      <td>9948006322</td>\n",
       "      <td>SWEETYAGARWAL.KSOM@GMAIL.COM</td>\n",
       "      <td>Fri Oct 30th</td>\n",
       "      <td>NaN</td>\n",
       "      <td>NaN</td>\n",
       "      <td>46</td>\n",
       "      <td>1.0</td>\n",
       "      <td>NaN</td>\n",
       "      <td>82</td>\n",
       "      <td>1.0</td>\n",
       "      <td>NaN</td>\n",
       "      <td>45</td>\n",
       "      <td>1.0</td>\n",
       "      <td>NaN</td>\n",
       "      <td>42</td>\n",
       "      <td>1.0</td>\n",
       "      <td>NaN</td>\n",
       "      <td>45</td>\n",
       "      <td>NaN</td>\n",
       "      <td>NaN</td>\n",
       "      <td>22</td>\n",
       "      <td>NaN</td>\n",
       "      <td>NaN</td>\n",
       "      <td>37</td>\n",
       "      <td>NaN</td>\n",
       "      <td>NaN</td>\n",
       "      <td>25</td>\n",
       "      <td>1.0</td>\n",
       "      <td>NaN</td>\n",
       "      <td>40</td>\n",
       "      <td>1.0</td>\n",
       "      <td>NaN</td>\n",
       "      <td>25</td>\n",
       "      <td>NaN</td>\n",
       "      <td>NaN</td>\n",
       "      <td>45</td>\n",
       "      <td>1.0</td>\n",
       "      <td>NaN</td>\n",
       "      <td>33</td>\n",
       "      <td>1.0</td>\n",
       "      <td>NaN</td>\n",
       "      <td>55</td>\n",
       "      <td>NaN</td>\n",
       "      <td>NaN</td>\n",
       "      <td>30</td>\n",
       "      <td>NaN</td>\n",
       "      <td>NaN</td>\n",
       "      <td>40</td>\n",
       "      <td>NaN</td>\n",
       "      <td>NaN</td>\n",
       "      <td>45</td>\n",
       "      <td>1.0</td>\n",
       "      <td>NaN</td>\n",
       "      <td>35</td>\n",
       "      <td>NaN</td>\n",
       "      <td>NaN</td>\n",
       "      <td>58</td>\n",
       "      <td>1.0</td>\n",
       "      <td>NaN</td>\n",
       "      <td>40</td>\n",
       "      <td>1.0</td>\n",
       "      <td>NaN</td>\n",
       "      <td>33</td>\n",
       "      <td>NaN</td>\n",
       "      <td>NaN</td>\n",
       "      <td>75</td>\n",
       "      <td>NaN</td>\n",
       "      <td>NaN</td>\n",
       "      <td>75</td>\n",
       "      <td>NaN</td>\n",
       "      <td>NaN</td>\n",
       "      <td>95</td>\n",
       "      <td>NaN</td>\n",
       "      <td>NaN</td>\n",
       "      <td>22</td>\n",
       "      <td>NaN</td>\n",
       "      <td>NaN</td>\n",
       "      <td>50</td>\n",
       "      <td>NaN</td>\n",
       "      <td>NaN</td>\n",
       "      <td>32</td>\n",
       "      <td>1.0</td>\n",
       "      <td>NaN</td>\n",
       "      <td>20</td>\n",
       "      <td>1.0</td>\n",
       "      <td>NaN</td>\n",
       "      <td>15</td>\n",
       "      <td>1.0</td>\n",
       "      <td>NaN</td>\n",
       "      <td>0</td>\n",
       "      <td>1.0</td>\n",
       "      <td>NaN</td>\n",
       "      <td>35</td>\n",
       "      <td>1.0</td>\n",
       "      <td>NaN</td>\n",
       "      <td>10</td>\n",
       "      <td>1.0</td>\n",
       "      <td>NaN</td>\n",
       "      <td>35</td>\n",
       "      <td>NaN</td>\n",
       "      <td>NaN</td>\n",
       "      <td>25</td>\n",
       "      <td>NaN</td>\n",
       "      <td>NaN</td>\n",
       "      <td>38</td>\n",
       "      <td>NaN</td>\n",
       "      <td>NaN</td>\n",
       "      <td>115</td>\n",
       "      <td>NaN</td>\n",
       "      <td>NaN</td>\n",
       "      <td>30</td>\n",
       "      <td>NaN</td>\n",
       "      <td>NaN</td>\n",
       "      <td>24</td>\n",
       "      <td>NaN</td>\n",
       "      <td>NaN</td>\n",
       "      <td>70</td>\n",
       "      <td>NaN</td>\n",
       "      <td>NaN</td>\n",
       "      <td>30</td>\n",
       "      <td>NaN</td>\n",
       "      <td>NaN</td>\n",
       "      <td>20</td>\n",
       "      <td>NaN</td>\n",
       "      <td>NaN</td>\n",
       "      <td>37</td>\n",
       "      <td>NaN</td>\n",
       "      <td>NaN</td>\n",
       "      <td>50</td>\n",
       "      <td>NaN</td>\n",
       "      <td>NaN</td>\n",
       "      <td>25</td>\n",
       "      <td>1.0</td>\n",
       "      <td>NaN</td>\n",
       "      <td>10</td>\n",
       "      <td>NaN</td>\n",
       "      <td>NaN</td>\n",
       "      <td>38</td>\n",
       "      <td>NaN</td>\n",
       "      <td>NaN</td>\n",
       "      <td>30</td>\n",
       "      <td>1.0</td>\n",
       "      <td>NaN</td>\n",
       "      <td>90</td>\n",
       "      <td>NaN</td>\n",
       "      <td>NaN</td>\n",
       "      <td>90</td>\n",
       "      <td>NaN</td>\n",
       "      <td>NaN</td>\n",
       "      <td>145</td>\n",
       "      <td>1.0</td>\n",
       "      <td>NaN</td>\n",
       "      <td>60</td>\n",
       "      <td>NaN</td>\n",
       "      <td>NaN</td>\n",
       "      <td>55</td>\n",
       "      <td>NaN</td>\n",
       "      <td>NaN</td>\n",
       "      <td>110</td>\n",
       "      <td>NaN</td>\n",
       "      <td>NaN</td>\n",
       "      <td>80</td>\n",
       "      <td>NaN</td>\n",
       "      <td>NaN</td>\n",
       "      <td>30</td>\n",
       "      <td>NaN</td>\n",
       "      <td>813</td>\n",
       "      <td>813</td>\n",
       "      <td>Completed</td>\n",
       "      <td>INR</td>\n",
       "      <td>2020-10-29 16:43:49</td>\n",
       "      <td>New Record  -  Record added</td>\n",
       "      <td>NaN</td>\n",
       "      <td>sudeep@systematiq.in</td>\n",
       "    </tr>\n",
       "  </tbody>\n",
       "</table>\n",
       "</div>"
      ],
      "text/plain": [
       "                 Name Select Drop Point Enter Building Dosti  \\\n",
       "0          Dev; Haria        Sector 1/2                  NaN   \n",
       "1  Rashmita; Sundaram      Ajmera iLand                  NaN   \n",
       "2   Sweety; Agarwalla             Ivory                  NaN   \n",
       "\n",
       "  Select Building Ivory  Select Building Wellness Forever Select Building NCP  \\\n",
       "0                   NaN                               NaN                 NaN   \n",
       "1                   NaN                               NaN                 NaN   \n",
       "2        Girnar Heights                               NaN                 NaN   \n",
       "\n",
       "  Select Building Ajmera iLand Select Building Sector 1/2  \\\n",
       "0                          NaN                Castle Rock   \n",
       "1                         Aeon                        NaN   \n",
       "2                          NaN                        NaN   \n",
       "\n",
       "  Select Building Cosmic Select Building R2 Select Building R12  \\\n",
       "0                    NaN                NaN                 NaN   \n",
       "1                    NaN                NaN                 NaN   \n",
       "2                    NaN                NaN                 NaN   \n",
       "\n",
       "  Select Building Raheja Select Building Lake Homes     Select Wing Flat No  \\\n",
       "0                    NaN                        NaN  Not Applicable     501   \n",
       "1                    NaN                        NaN          A Wing    1202   \n",
       "2                    NaN                        NaN          B Wing    1602   \n",
       "\n",
       "        Phone                         Email Select Delivery Date  \\\n",
       "0  9323179390          devharia@outlook.com         Fri Oct 30th   \n",
       "1  9004913659   Rashmita.sundaram@gmail.com         Fri Oct 30th   \n",
       "2  9948006322  SWEETYAGARWAL.KSOM@GMAIL.COM         Fri Oct 30th   \n",
       "\n",
       "   Opt in for Doorstep Delivery @ Rs 25  Potatoes  Potatoes Price  \\\n",
       "0                                   NaN       NaN              46   \n",
       "1                                   NaN       NaN              46   \n",
       "2                                   NaN       NaN              46   \n",
       "\n",
       "   Select Quantity of Potatoes  Red Onions  Red Onions Price  \\\n",
       "0                          1.0         NaN                82   \n",
       "1                          NaN         NaN                82   \n",
       "2                          1.0         NaN                82   \n",
       "\n",
       "   Select Quantity of Red Onions  Cauliflower  Cauliflower Price  \\\n",
       "0                            1.0          NaN                 45   \n",
       "1                            2.0          NaN                 45   \n",
       "2                            1.0          NaN                 45   \n",
       "\n",
       "   Select Quantity of Cauliflower  Cabbage  Cabbage Price  \\\n",
       "0                             NaN      NaN             42   \n",
       "1                             NaN      NaN             42   \n",
       "2                             1.0      NaN             42   \n",
       "\n",
       "   Select Quantity of Cabbage  Brinjal Bharta  Brinjal Bharta Price  \\\n",
       "0                         NaN             NaN                    45   \n",
       "1                         NaN             NaN                    45   \n",
       "2                         1.0             NaN                    45   \n",
       "\n",
       "   Select Quantity of Brinjal Bharta  Pumpkin  Pumpkin Price  \\\n",
       "0                                NaN      NaN             22   \n",
       "1                                NaN      NaN             22   \n",
       "2                                NaN      NaN             22   \n",
       "\n",
       "   Select Quantity of Pumpkin  Brinjal Kateri  Brinjal Kateri Price  \\\n",
       "0                         NaN             NaN                    37   \n",
       "1                         NaN             NaN                    37   \n",
       "2                         NaN             NaN                    37   \n",
       "\n",
       "   Select Quantity of Brinjal Kateri  Cucumber  Cucumber Price  \\\n",
       "0                                NaN       NaN              25   \n",
       "1                                1.0       NaN              25   \n",
       "2                                NaN       NaN              25   \n",
       "\n",
       "   Select Quantity of Cucumber  Bhindi/Lady's Finger  \\\n",
       "0                          1.0                   NaN   \n",
       "1                          NaN                   NaN   \n",
       "2                          1.0                   NaN   \n",
       "\n",
       "   Bhindi/Lady's Finger Price  Select Quantity of Bhindi/Lady's Finger  \\\n",
       "0                          40                                      NaN   \n",
       "1                          40                                      2.0   \n",
       "2                          40                                      1.0   \n",
       "\n",
       "   Bitter Gourd  Bitter Gourd Price  Select Quantity of Bitter Gourd  \\\n",
       "0           NaN                  25                              1.0   \n",
       "1           NaN                  25                              NaN   \n",
       "2           NaN                  25                              NaN   \n",
       "\n",
       "   Ridge Gourd  Ridge Gourd Price  Select Quantity of Ridge Gourd  Beetroot  \\\n",
       "0          NaN                 45                             NaN       NaN   \n",
       "1          NaN                 45                             NaN       NaN   \n",
       "2          NaN                 45                             1.0       NaN   \n",
       "\n",
       "   Beetroot Price  Select Quantity of Beetroot  Button Mushrooms  \\\n",
       "0              33                          NaN               NaN   \n",
       "1              33                          NaN               NaN   \n",
       "2              33                          1.0               NaN   \n",
       "\n",
       "   Button Mushroom Price  Select Quantity of Button Mushroom  Bottle Gourd  \\\n",
       "0                     55                                 NaN           NaN   \n",
       "1                     55                                 1.0           NaN   \n",
       "2                     55                                 NaN           NaN   \n",
       "\n",
       "   Bottle Gourd Price  Select Quantity of Bottle Gourd  Drumsticks  \\\n",
       "0                  30                              1.0         NaN   \n",
       "1                  30                              1.0         NaN   \n",
       "2                  30                              NaN         NaN   \n",
       "\n",
       "   Drumsticks Price  Select Quantity of Drumsticks  Capsicum  Capsicum Price  \\\n",
       "0                40                            NaN       NaN              45   \n",
       "1                40                            NaN       NaN              45   \n",
       "2                40                            NaN       NaN              45   \n",
       "\n",
       "   Select Quantity of Capsicum  Gawar/Cluster Beans  \\\n",
       "0                          NaN                  NaN   \n",
       "1                          NaN                  NaN   \n",
       "2                          1.0                  NaN   \n",
       "\n",
       "   Gawar/Cluster Beans Price  Select Quantity of Gawar/Cluster Beans  \\\n",
       "0                         35                                     NaN   \n",
       "1                         35                                     NaN   \n",
       "2                         35                                     NaN   \n",
       "\n",
       "   French Beans  French Beans Price  Select Quantity of French Beans  Tomato  \\\n",
       "0           NaN                  58                              NaN     NaN   \n",
       "1           NaN                  58                              1.0     NaN   \n",
       "2           NaN                  58                              1.0     NaN   \n",
       "\n",
       "   Tomato Price  Select Quantity of Tomato  Sweet Corn  Sweet Corn Price  \\\n",
       "0            40                        1.0         NaN                33   \n",
       "1            40                        NaN         NaN                33   \n",
       "2            40                        1.0         NaN                33   \n",
       "\n",
       "   Select Quantity of Sweet Corn  Broccoli  Broccoli Price  \\\n",
       "0                            NaN       NaN              75   \n",
       "1                            NaN       NaN              75   \n",
       "2                            NaN       NaN              75   \n",
       "\n",
       "   Select Quantity of Broccoli  Lettuce  Lettuce Price  \\\n",
       "0                          NaN      NaN             75   \n",
       "1                          NaN      NaN             75   \n",
       "2                          NaN      NaN             75   \n",
       "\n",
       "   Select Quantity of Lettuce  Kiwi Zespri Imported  \\\n",
       "0                         NaN                   NaN   \n",
       "1                         NaN                   NaN   \n",
       "2                         NaN                   NaN   \n",
       "\n",
       "   Kiwi Zespri Imported Price  Select Quantity of Kiwi Zespri Imported  \\\n",
       "0                          95                                      NaN   \n",
       "1                          95                                      NaN   \n",
       "2                          95                                      NaN   \n",
       "\n",
       "   Banana Regular  Banana Price  Select Quantity of Banana  Garlic  \\\n",
       "0             NaN            22                        NaN     NaN   \n",
       "1             NaN            22                        NaN     NaN   \n",
       "2             NaN            22                        NaN     NaN   \n",
       "\n",
       "   Garlic Price  Select Quantity of Garlic  Ginger  Ginger Price  \\\n",
       "0            50                        NaN     NaN            32   \n",
       "1            50                        NaN     NaN            32   \n",
       "2            50                        NaN     NaN            32   \n",
       "\n",
       "   Select Quantity of Ginger  Green Chilly  Green Chilly Price  \\\n",
       "0                        NaN           NaN                  20   \n",
       "1                        NaN           NaN                  20   \n",
       "2                        1.0           NaN                  20   \n",
       "\n",
       "   Select Quantity of Green Chilly  Lemons  Lemons Price  \\\n",
       "0                              NaN     NaN            15   \n",
       "1                              NaN     NaN            15   \n",
       "2                              1.0     NaN            15   \n",
       "\n",
       "   Select Quantity of Lemons  Curry Leaves  Curry Leaves Price  \\\n",
       "0                        NaN           NaN                   0   \n",
       "1                        NaN           NaN                   0   \n",
       "2                        1.0           NaN                   0   \n",
       "\n",
       "   Select Quantity of Curry Leaves  Coriander Leaves  Coriander Leaves Price  \\\n",
       "0                              1.0               NaN                      35   \n",
       "1                              1.0               NaN                      35   \n",
       "2                              1.0               NaN                      35   \n",
       "\n",
       "   Select Quantity of Coriander Leaves  Mint Leaves  Mint Leaves Price  \\\n",
       "0                                  NaN          NaN                 10   \n",
       "1                                  NaN          NaN                 10   \n",
       "2                                  1.0          NaN                 10   \n",
       "\n",
       "   Select Quantity of Mint Leaves  Palak/Spinach  Palak/Spinach Price  \\\n",
       "0                             NaN            NaN                   35   \n",
       "1                             NaN            NaN                   35   \n",
       "2                             1.0            NaN                   35   \n",
       "\n",
       "   Select Quantity of Palak/Spinach  Shepu/Dill Leaves  \\\n",
       "0                               NaN                NaN   \n",
       "1                               NaN                NaN   \n",
       "2                               NaN                NaN   \n",
       "\n",
       "   Shepu/Dill Leaves Price  Select Quantity of Shepu/Dill Leaves  \\\n",
       "0                       25                                   NaN   \n",
       "1                       25                                   NaN   \n",
       "2                       25                                   NaN   \n",
       "\n",
       "   Methi Leaves  Methi Leaves Price  Select Quantity of Methi Leaves  \\\n",
       "0           NaN                  38                              NaN   \n",
       "1           NaN                  38                              NaN   \n",
       "2           NaN                  38                              NaN   \n",
       "\n",
       "   Red/Yellow Bell Peppers  Red/Yellow Bell Peppers Price  \\\n",
       "0                      NaN                            115   \n",
       "1                      NaN                            115   \n",
       "2                      NaN                            115   \n",
       "\n",
       "   Select Quantity of Red/Yellow Bell Peppers  Carrots  Carrots Price  \\\n",
       "0                                         NaN      NaN             30   \n",
       "1                                         1.0      NaN             30   \n",
       "2                                         NaN      NaN             30   \n",
       "\n",
       "   Select Quantity of Carrots  Radish/Muli  Radish/Muli Price  \\\n",
       "0                         NaN          NaN                 24   \n",
       "1                         NaN          NaN                 24   \n",
       "2                         NaN          NaN                 24   \n",
       "\n",
       "   Select Quantity of Radish/Muli  Green Peas  Green Peas Price  \\\n",
       "0                             NaN         NaN                70   \n",
       "1                             1.0         NaN                70   \n",
       "2                             NaN         NaN                70   \n",
       "\n",
       "   Select Quantity of Green Peas  Lal Math/Amaranthus Leaves  \\\n",
       "0                            NaN                         NaN   \n",
       "1                            NaN                         NaN   \n",
       "2                            NaN                         NaN   \n",
       "\n",
       "   Lal Math/Amaranthus Price  Select Quantity of Lal Math/Amaranthus  \\\n",
       "0                         30                                     NaN   \n",
       "1                         30                                     NaN   \n",
       "2                         30                                     NaN   \n",
       "\n",
       "   Arbi Leaves  Arbi Leaves Price  Select Quantity of Arbi Leaves  \\\n",
       "0          NaN                 20                             NaN   \n",
       "1          NaN                 20                             NaN   \n",
       "2          NaN                 20                             NaN   \n",
       "\n",
       "   Arbi/Colocasia  Arbi/Colocasia Price  Select Quantity of Arbi/Colocasia  \\\n",
       "0             NaN                    37                                NaN   \n",
       "1             NaN                    37                                NaN   \n",
       "2             NaN                    37                                NaN   \n",
       "\n",
       "   Babycorn  Babycorn Price  Select Quantity of Babycorn  Raw Banana  \\\n",
       "0       NaN              50                          NaN         NaN   \n",
       "1       NaN              50                          1.0         NaN   \n",
       "2       NaN              50                          NaN         NaN   \n",
       "\n",
       "   Raw Banana Price  Select Quantity of Raw Banana  Lemongrass  \\\n",
       "0                25                            NaN         NaN   \n",
       "1                25                            NaN         NaN   \n",
       "2                25                            1.0         NaN   \n",
       "\n",
       "   Lemongrass Price  Select Quantity of Lemongrass  Sponge Gourd  \\\n",
       "0                10                            NaN           NaN   \n",
       "1                10                            NaN           NaN   \n",
       "2                10                            NaN           NaN   \n",
       "\n",
       "   Sponge Gourd Price  Select Quantity of Sponge Gourd  Peeled Garlic  \\\n",
       "0                  38                              1.0            NaN   \n",
       "1                  38                              NaN            NaN   \n",
       "2                  38                              NaN            NaN   \n",
       "\n",
       "   Peeled Garlic Price  Select Quantity of Peeled Garlic  Green Zucchini  \\\n",
       "0                   30                               NaN             NaN   \n",
       "1                   30                               NaN             NaN   \n",
       "2                   30                               1.0             NaN   \n",
       "\n",
       "   Green Zucchini Price  Select Quantity of Green Zucchini  Yellow Zucchini  \\\n",
       "0                    90                                NaN              NaN   \n",
       "1                    90                                1.0              NaN   \n",
       "2                    90                                NaN              NaN   \n",
       "\n",
       "   Yellow Zucchini Price  Select Quantity of Yellow Zucchini  Indian Avacado  \\\n",
       "0                     90                                 NaN             NaN   \n",
       "1                     90                                 NaN             NaN   \n",
       "2                     90                                 NaN             NaN   \n",
       "\n",
       "   Indian Avacado Price  Select Quantity of Indian Avacado  Apple Ber  \\\n",
       "0                   145                                NaN        NaN   \n",
       "1                   145                                NaN        NaN   \n",
       "2                   145                                1.0        NaN   \n",
       "\n",
       "   Apple Ber Price  Select Quantity of Apple Ber  Papaya  Papaya Price  \\\n",
       "0               60                           NaN     NaN            55   \n",
       "1               60                           NaN     NaN            55   \n",
       "2               60                           NaN     NaN            55   \n",
       "\n",
       "   Select Quantity of Papaya  Jaggery  Jaggery Price  \\\n",
       "0                        NaN      NaN            110   \n",
       "1                        NaN      NaN            110   \n",
       "2                        NaN      NaN            110   \n",
       "\n",
       "   Select Quantity of Jaggery  Desi Peru  Desi Peru Price  \\\n",
       "0                         NaN        NaN               80   \n",
       "1                         NaN        NaN               80   \n",
       "2                         NaN        NaN               80   \n",
       "\n",
       "   Select Quantity of Desi Peru  Basil Leaves  Basil Leaves Price  \\\n",
       "0                           NaN           NaN                  30   \n",
       "1                           NaN           NaN                  30   \n",
       "2                           NaN           NaN                  30   \n",
       "\n",
       "   Select Quantity of Basil Leaves  Total Amount  Payment Amount  \\\n",
       "0                              NaN           286             286   \n",
       "1                              1.0           733             733   \n",
       "2                              NaN           813             813   \n",
       "\n",
       "  Payment Status Payment Currency          Added Time  \\\n",
       "0      Completed              INR 2020-10-29 16:59:08   \n",
       "1      Completed              INR 2020-10-29 16:44:58   \n",
       "2      Completed              INR 2020-10-29 16:43:49   \n",
       "\n",
       "                    CRM Status Referrer Name            Task Owner  \n",
       "0  New Record  -  Record added           NaN  sudeep@systematiq.in  \n",
       "1  New Record  -  Record added           NaN  sudeep@systematiq.in  \n",
       "2  New Record  -  Record added           NaN  sudeep@systematiq.in  "
      ]
     },
     "execution_count": 199,
     "metadata": {},
     "output_type": "execute_result"
    }
   ],
   "source": [
    "df.head(3)"
   ]
  },
  {
   "cell_type": "code",
   "execution_count": 200,
   "metadata": {
    "ExecuteTime": {
     "end_time": "2020-10-29T12:15:19.371269Z",
     "start_time": "2020-10-29T12:15:19.352289Z"
    }
   },
   "outputs": [
    {
     "data": {
      "text/plain": [
       "82"
      ]
     },
     "execution_count": 200,
     "metadata": {},
     "output_type": "execute_result"
    }
   ],
   "source": [
    "len(df)"
   ]
  },
  {
   "cell_type": "code",
   "execution_count": 201,
   "metadata": {
    "ExecuteTime": {
     "end_time": "2020-10-29T12:15:24.175448Z",
     "start_time": "2020-10-29T12:15:24.160455Z"
    }
   },
   "outputs": [],
   "source": [
    "# df.tail(10)"
   ]
  },
  {
   "cell_type": "code",
   "execution_count": 202,
   "metadata": {
    "ExecuteTime": {
     "end_time": "2020-10-29T12:15:24.719509Z",
     "start_time": "2020-10-29T12:15:24.703525Z"
    }
   },
   "outputs": [
    {
     "data": {
      "text/plain": [
       "array(['Fri Oct 30th'], dtype=object)"
      ]
     },
     "execution_count": 202,
     "metadata": {},
     "output_type": "execute_result"
    }
   ],
   "source": [
    "df['Select Delivery Date'].unique()"
   ]
  },
  {
   "cell_type": "code",
   "execution_count": 203,
   "metadata": {
    "ExecuteTime": {
     "end_time": "2020-10-29T12:15:25.558955Z",
     "start_time": "2020-10-29T12:15:25.552970Z"
    }
   },
   "outputs": [],
   "source": [
    "# df = df[df['Select Delivery Date'] == 'Tue Oct 13th']"
   ]
  },
  {
   "cell_type": "code",
   "execution_count": 204,
   "metadata": {
    "ExecuteTime": {
     "end_time": "2020-10-29T12:15:25.792095Z",
     "start_time": "2020-10-29T12:15:25.775126Z"
    }
   },
   "outputs": [],
   "source": [
    "assert len(df['Select Delivery Date'].unique()) == 1"
   ]
  },
  {
   "cell_type": "code",
   "execution_count": 205,
   "metadata": {
    "ExecuteTime": {
     "end_time": "2020-10-29T12:15:26.238627Z",
     "start_time": "2020-10-29T12:15:26.228903Z"
    }
   },
   "outputs": [
    {
     "data": {
      "text/plain": [
       "Fri Oct 30th    82\n",
       "Name: Select Delivery Date, dtype: int64"
      ]
     },
     "execution_count": 205,
     "metadata": {},
     "output_type": "execute_result"
    }
   ],
   "source": [
    "df['Select Delivery Date'].value_counts()"
   ]
  },
  {
   "cell_type": "markdown",
   "metadata": {},
   "source": [
    "## Add indexing key"
   ]
  },
  {
   "cell_type": "code",
   "execution_count": 206,
   "metadata": {
    "ExecuteTime": {
     "end_time": "2020-10-29T12:15:33.377503Z",
     "start_time": "2020-10-29T12:15:33.364560Z"
    }
   },
   "outputs": [],
   "source": [
    "df['key'] = df['Name'] + ' ' + df['Added Time'].astype(str)"
   ]
  },
  {
   "cell_type": "markdown",
   "metadata": {},
   "source": [
    "## Pull out the Select Building columns"
   ]
  },
  {
   "cell_type": "code",
   "execution_count": 207,
   "metadata": {
    "ExecuteTime": {
     "end_time": "2020-10-29T12:15:34.249974Z",
     "start_time": "2020-10-29T12:15:34.238978Z"
    }
   },
   "outputs": [],
   "source": [
    "bldg_cols = []\n",
    "\n",
    "for col in df.columns:\n",
    "    if 'select building' in col.lower() or 'enter building' in col.lower():\n",
    "        bldg_cols.append(col)\n",
    "\n",
    "df['building'] = df[bldg_cols].fillna('').sum(axis=1)"
   ]
  },
  {
   "cell_type": "code",
   "execution_count": 208,
   "metadata": {
    "ExecuteTime": {
     "end_time": "2020-10-29T12:15:34.901471Z",
     "start_time": "2020-10-29T12:15:34.891498Z"
    }
   },
   "outputs": [],
   "source": [
    "# df['building'] = df['Enter Name of Building'].fillna('')"
   ]
  },
  {
   "cell_type": "markdown",
   "metadata": {},
   "source": [
    "## Subset only successfully paid orders"
   ]
  },
  {
   "cell_type": "code",
   "execution_count": 209,
   "metadata": {
    "ExecuteTime": {
     "end_time": "2020-10-29T12:15:35.303692Z",
     "start_time": "2020-10-29T12:15:35.294716Z"
    }
   },
   "outputs": [
    {
     "data": {
      "text/plain": [
       "array(['Completed', 'Failed', 'Processing', 'Network Error'], dtype=object)"
      ]
     },
     "execution_count": 209,
     "metadata": {},
     "output_type": "execute_result"
    }
   ],
   "source": [
    "df['Payment Status'].unique()"
   ]
  },
  {
   "cell_type": "code",
   "execution_count": 210,
   "metadata": {
    "ExecuteTime": {
     "end_time": "2020-10-29T12:15:35.938486Z",
     "start_time": "2020-10-29T12:15:35.933500Z"
    }
   },
   "outputs": [],
   "source": [
    "# df = df[df['Payment Status'].isin(STATUSES2PROCESS)]"
   ]
  },
  {
   "cell_type": "code",
   "execution_count": 211,
   "metadata": {
    "ExecuteTime": {
     "end_time": "2020-10-29T12:15:36.158661Z",
     "start_time": "2020-10-29T12:15:36.146694Z"
    }
   },
   "outputs": [
    {
     "data": {
      "text/plain": [
       "array(['Completed', 'Failed', 'Processing', 'Network Error'], dtype=object)"
      ]
     },
     "execution_count": 211,
     "metadata": {},
     "output_type": "execute_result"
    }
   ],
   "source": [
    "# verification\n",
    "df['Payment Status'].unique()"
   ]
  },
  {
   "cell_type": "markdown",
   "metadata": {},
   "source": [
    "## Generating Tokens"
   ]
  },
  {
   "cell_type": "markdown",
   "metadata": {},
   "source": [
    "Sort by Drop Point, Building, Wing and then generate Token Values."
   ]
  },
  {
   "cell_type": "code",
   "execution_count": 212,
   "metadata": {
    "ExecuteTime": {
     "end_time": "2020-10-29T12:15:37.064615Z",
     "start_time": "2020-10-29T12:15:37.043673Z"
    }
   },
   "outputs": [],
   "source": [
    "df = df.sort_values(['Select Drop Point', 'building', 'Select Wing'])\n",
    "# df = df.sort_values('building')\n",
    "df['Token No'] = range(1, len(df)+1)"
   ]
  },
  {
   "cell_type": "markdown",
   "metadata": {},
   "source": [
    "## Check for duplicate entries"
   ]
  },
  {
   "cell_type": "code",
   "execution_count": 213,
   "metadata": {
    "ExecuteTime": {
     "end_time": "2020-10-29T12:15:38.059313Z",
     "start_time": "2020-10-29T12:15:38.047317Z"
    }
   },
   "outputs": [],
   "source": [
    "assert len(df) == len(df['key'].unique())"
   ]
  },
  {
   "cell_type": "markdown",
   "metadata": {
    "ExecuteTime": {
     "end_time": "2020-08-17T19:31:54.383744Z",
     "start_time": "2020-08-17T19:31:54.379755Z"
    }
   },
   "source": [
    "## Build Items Dictionary"
   ]
  },
  {
   "cell_type": "markdown",
   "metadata": {},
   "source": [
    "    orders dictionary, one record looks like:\n",
    "\n",
    "    {\n",
    "        key:\n",
    "        {\n",
    "            name : str,\n",
    "            drop_point : str,\n",
    "            building : str,\n",
    "            wing : str,\n",
    "            flat : str,\n",
    "            phone : numeric,\n",
    "            email : str,\n",
    "            delivery_date : datetime,\n",
    "            order : dict,\n",
    "            total_amount : float,\n",
    "            payment_status : str\n",
    "        }\n",
    "    }\n",
    "\n",
    "\n",
    "    items_dict:\n",
    "\n",
    "    {\n",
    "        item_name : \n",
    "        {\n",
    "            sell_price : float,\n",
    "            cost_price : float,\n",
    "            packing_size : // to be read from another excel\n",
    "        }\n",
    "    }"
   ]
  },
  {
   "cell_type": "markdown",
   "metadata": {},
   "source": [
    "If 'quantity of' occurs in column header, leave the first three words and extract the rest as your item key."
   ]
  },
  {
   "cell_type": "code",
   "execution_count": 214,
   "metadata": {
    "ExecuteTime": {
     "end_time": "2020-10-29T12:15:39.655600Z",
     "start_time": "2020-10-29T12:15:39.637647Z"
    }
   },
   "outputs": [],
   "source": [
    "# extremely naive, needs a fix\n",
    "all_items = [\" \".join(i.split()[3:]) for i in df.columns if ('quantity of' in i.lower() or 'quantity for' in i.lower())]"
   ]
  },
  {
   "cell_type": "code",
   "execution_count": 215,
   "metadata": {
    "ExecuteTime": {
     "end_time": "2020-10-29T12:15:39.874899Z",
     "start_time": "2020-10-29T12:15:39.864928Z"
    }
   },
   "outputs": [],
   "source": [
    "items_dict = {}"
   ]
  },
  {
   "cell_type": "code",
   "execution_count": 216,
   "metadata": {
    "ExecuteTime": {
     "end_time": "2020-10-29T12:15:40.960511Z",
     "start_time": "2020-10-29T12:15:40.950538Z"
    }
   },
   "outputs": [],
   "source": [
    "def get_sell_price(item):\n",
    "    try:\n",
    "        if 'juice' in item.lower():\n",
    "            val = df['Yoga Pulp Juice Price'].values[0]\n",
    "        else:\n",
    "            val = df[item + ' ' + 'Price'].values[0]\n",
    "        return val\n",
    "    \n",
    "    except Exception as e:\n",
    "        print(e)\n",
    "        return 1\n",
    "\n",
    "def get_cost_price(item):\n",
    "    try:\n",
    "        if 'juice' in item.lower():\n",
    "            val = df['Yoga Pulp Juice Cost Price'].values[0]\n",
    "        else:\n",
    "            val = df[item + ' ' + 'Cost Price'].values[0]\n",
    "        return val\n",
    "    \n",
    "    except:\n",
    "        return 1"
   ]
  },
  {
   "cell_type": "code",
   "execution_count": 217,
   "metadata": {
    "ExecuteTime": {
     "end_time": "2020-10-29T12:15:41.537010Z",
     "start_time": "2020-10-29T12:15:41.516068Z"
    }
   },
   "outputs": [],
   "source": [
    "df_psize = pd.read_csv(\"C:/Playground/bhaiya-orders/zoho-bhor-farms/database/Packing Size.csv\")\n",
    "psize_dict = df_psize.set_index('Item').to_dict(orient='index')"
   ]
  },
  {
   "cell_type": "code",
   "execution_count": 218,
   "metadata": {
    "ExecuteTime": {
     "end_time": "2020-10-29T12:15:41.754640Z",
     "start_time": "2020-10-29T12:15:41.741694Z"
    }
   },
   "outputs": [],
   "source": [
    "def get_packing_size(item):\n",
    "    if item in psize_dict.keys():\n",
    "        return psize_dict[item]['Size']\n",
    "    return 1\n",
    "\n",
    "def get_unit(item):\n",
    "    if item in psize_dict.keys():\n",
    "        return psize_dict[item]['Unit']\n",
    "    return 1"
   ]
  },
  {
   "cell_type": "code",
   "execution_count": 219,
   "metadata": {
    "ExecuteTime": {
     "end_time": "2020-10-29T12:15:41.940568Z",
     "start_time": "2020-10-29T12:15:41.923614Z"
    }
   },
   "outputs": [],
   "source": [
    "for item in all_items:\n",
    "    dct = {}\n",
    "    dct['packing_size'] = get_packing_size(item)\n",
    "    dct['unit'] = get_unit(item)\n",
    "#     if item == 'Cherry Tomatoes': item = 'Cherry Tomato'\n",
    "#     if item == 'Potatoes': item = 'Potato'\n",
    "    \n",
    "    dct['sell_price'] = get_sell_price(item)\n",
    "    dct['cost_price'] = get_cost_price(item)\n",
    "    items_dict[item] = dct"
   ]
  },
  {
   "cell_type": "markdown",
   "metadata": {},
   "source": [
    "## Build Master Dictionary"
   ]
  },
  {
   "cell_type": "code",
   "execution_count": 220,
   "metadata": {
    "ExecuteTime": {
     "end_time": "2020-10-29T12:15:42.655963Z",
     "start_time": "2020-10-29T12:15:42.646015Z"
    }
   },
   "outputs": [],
   "source": [
    "# # because few flats were not captured\n",
    "df['Flat No'] = df['Flat No'].fillna('NOT CAPTURED')"
   ]
  },
  {
   "cell_type": "code",
   "execution_count": 221,
   "metadata": {
    "ExecuteTime": {
     "end_time": "2020-10-29T12:15:42.855237Z",
     "start_time": "2020-10-29T12:15:42.839044Z"
    }
   },
   "outputs": [],
   "source": [
    "df.fillna(0, inplace=True)"
   ]
  },
  {
   "cell_type": "code",
   "execution_count": 222,
   "metadata": {
    "ExecuteTime": {
     "end_time": "2020-10-29T12:15:43.070744Z",
     "start_time": "2020-10-29T12:15:43.036873Z"
    }
   },
   "outputs": [],
   "source": [
    "# create a mapping from item_id to the corresponding column to make sure no item goes unmapped\n",
    "\n",
    "item2dropdowncol = {i : '' for i in all_items}\n",
    "\n",
    "for index, row in df.iterrows():\n",
    "    for col in df.columns:\n",
    "        if 'quantity of' in col.lower() or 'quantity for' in col.lower():\n",
    "            item2dropdowncol[\" \".join(col.split()[3:])] = col\n",
    "            \n",
    "assert len(item2dropdowncol) == len(all_items)\n",
    "for k, v in item2dropdowncol.items():\n",
    "    assert len(v) > 3"
   ]
  },
  {
   "cell_type": "markdown",
   "metadata": {},
   "source": [
    "\n",
    "    {\n",
    "        key:\n",
    "        {\n",
    "            name : str,\n",
    "            drop_point : str,\n",
    "            building : str,\n",
    "            wing : str,\n",
    "            flat : str,\n",
    "            phone : numeric,\n",
    "            email : str,\n",
    "            delivery_date : datetime,\n",
    "            order : dict,\n",
    "            total_amount : float,\n",
    "            payment_status : str\n",
    "        }\n",
    "    }"
   ]
  },
  {
   "cell_type": "code",
   "execution_count": 223,
   "metadata": {
    "ExecuteTime": {
     "end_time": "2020-10-29T12:15:43.663844Z",
     "start_time": "2020-10-29T12:15:43.656867Z"
    }
   },
   "outputs": [],
   "source": [
    "def get_order(row):\n",
    "    o = {}\n",
    "    for item, qty_col in item2dropdowncol.items():\n",
    "#         try:\n",
    "        if row[qty_col] > 0:\n",
    "            o[item] = row[qty_col]\n",
    "#         except:\n",
    "#             i = 'hello'\n",
    "            \n",
    "    return o"
   ]
  },
  {
   "cell_type": "code",
   "execution_count": 224,
   "metadata": {
    "ExecuteTime": {
     "end_time": "2020-10-29T12:15:43.866751Z",
     "start_time": "2020-10-29T12:15:43.855800Z"
    }
   },
   "outputs": [],
   "source": [
    "def get_total_cost_price(order):\n",
    "    totalcp = 0\n",
    "    for item, qty in order.items():\n",
    "#         if item == 'Cherry Tomatoes': item = 'Cherry Tomato'\n",
    "#         if item == 'Potatoes': item = 'Potato'\n",
    "        totalcp += qty * get_cost_price(item)\n",
    "    return totalcp"
   ]
  },
  {
   "cell_type": "code",
   "execution_count": 225,
   "metadata": {
    "ExecuteTime": {
     "end_time": "2020-10-29T12:15:44.116951Z",
     "start_time": "2020-10-29T12:15:44.024746Z"
    }
   },
   "outputs": [],
   "source": [
    "orders_dict = {}\n",
    "\n",
    "for index, row in df.iterrows():\n",
    "    dct = {}\n",
    "    dct['name'] = row['Name']\n",
    "    dct['drop_point'] = row['Select Drop Point']\n",
    "    dct['building'] = row['building']\n",
    "    dct['wing'] = row['Select Wing']\n",
    "    dct['flat_no'] = row['Flat No']\n",
    "    dct['phone_no'] = row['Phone']\n",
    "    dct['email'] = row['Email']\n",
    "    dct['delivery_date'] = row['Select Delivery Date']\n",
    "    dct['total_amount'] = row['Total Amount']\n",
    "    dct['payment_status'] = row['Payment Status']\n",
    "    dct['order'] = get_order(row)\n",
    "    dct['total_cost_price'] = get_total_cost_price(dct['order'])\n",
    "    dct['profit'] = dct['total_amount'] - dct['total_cost_price']\n",
    "    orders_dict[row['Token No']] = dct"
   ]
  },
  {
   "cell_type": "markdown",
   "metadata": {
    "heading_collapsed": true
   },
   "source": [
    "# Subset Items : To Process Refunds"
   ]
  },
  {
   "cell_type": "code",
   "execution_count": 54,
   "metadata": {
    "ExecuteTime": {
     "end_time": "2020-10-20T01:48:31.606012Z",
     "start_time": "2020-10-20T01:48:31.597062Z"
    },
    "hidden": true
   },
   "outputs": [],
   "source": [
    "# execute only if items2subset > 0"
   ]
  },
  {
   "cell_type": "code",
   "execution_count": 34,
   "metadata": {
    "ExecuteTime": {
     "end_time": "2020-10-12T20:56:46.226650Z",
     "start_time": "2020-10-12T20:56:46.212686Z"
    },
    "hidden": true
   },
   "outputs": [],
   "source": [
    "# sorted(items_dict.keys())"
   ]
  },
  {
   "cell_type": "code",
   "execution_count": 112,
   "metadata": {
    "ExecuteTime": {
     "end_time": "2020-09-19T19:32:41.316697Z",
     "start_time": "2020-09-19T19:32:41.312630Z"
    },
    "hidden": true
   },
   "outputs": [],
   "source": [
    "items2subset = [ 'Drumsticks', 'French Beans',]"
   ]
  },
  {
   "cell_type": "code",
   "execution_count": 113,
   "metadata": {
    "ExecuteTime": {
     "end_time": "2020-09-19T19:32:41.480414Z",
     "start_time": "2020-09-19T19:32:41.473421Z"
    },
    "hidden": true
   },
   "outputs": [],
   "source": [
    "rows_list = []\n",
    "\n",
    "for token, o in orders_dict.items():\n",
    "    for item in items2subset:\n",
    "        if item in o['order'].keys():\n",
    "            dct = {}\n",
    "            dct['token'] = token\n",
    "            dct['name'] = o['name']\n",
    "            dct['phone_no'] = o['phone_no']\n",
    "            dct['email'] = o['email']\n",
    "            dct['item_name'] = item\n",
    "            dct['item_qty'] = o['order'][item]\n",
    "            dct['item_price_per_unit'] = items_dict[item]['sell_price']\n",
    "            dct['item_amount'] = items_dict[item]['sell_price'] * dct['item_qty']\n",
    "            dct['amount_paid'] = o['total_amount']\n",
    "            dct['payment_status'] = o['payment_status']\n",
    "            \n",
    "            rows_list.append(dct)"
   ]
  },
  {
   "cell_type": "code",
   "execution_count": 114,
   "metadata": {
    "ExecuteTime": {
     "end_time": "2020-09-19T19:32:41.650120Z",
     "start_time": "2020-09-19T19:32:41.644016Z"
    },
    "hidden": true
   },
   "outputs": [],
   "source": [
    "subset_df = pd.DataFrame(rows_list)"
   ]
  },
  {
   "cell_type": "code",
   "execution_count": 115,
   "metadata": {
    "ExecuteTime": {
     "end_time": "2020-09-19T19:32:41.795679Z",
     "start_time": "2020-09-19T19:32:41.790570Z"
    },
    "hidden": true
   },
   "outputs": [
    {
     "data": {
      "text/plain": [
       "array(['Drumsticks', 'French Beans'], dtype=object)"
      ]
     },
     "execution_count": 115,
     "metadata": {},
     "output_type": "execute_result"
    }
   ],
   "source": [
    "subset_df.item_name.unique()"
   ]
  },
  {
   "cell_type": "code",
   "execution_count": 116,
   "metadata": {
    "ExecuteTime": {
     "end_time": "2020-09-19T19:32:42.351714Z",
     "start_time": "2020-09-19T19:32:42.342760Z"
    },
    "hidden": true
   },
   "outputs": [],
   "source": [
    "amount2refund = subset_df.groupby('name').sum()['item_amount'].to_dict()"
   ]
  },
  {
   "cell_type": "code",
   "execution_count": 117,
   "metadata": {
    "ExecuteTime": {
     "end_time": "2020-09-19T19:32:42.508952Z",
     "start_time": "2020-09-19T19:32:42.503908Z"
    },
    "hidden": true
   },
   "outputs": [],
   "source": [
    "subset_df['amount_to_refund'] = subset_df.name.apply(lambda x: amount2refund[x])"
   ]
  },
  {
   "cell_type": "code",
   "execution_count": 118,
   "metadata": {
    "ExecuteTime": {
     "end_time": "2020-09-19T19:32:42.735916Z",
     "start_time": "2020-09-19T19:32:42.733404Z"
    },
    "hidden": true
   },
   "outputs": [],
   "source": [
    "fname = save_pth/('unavl-'+FILE.stem+'.xlsx')"
   ]
  },
  {
   "cell_type": "code",
   "execution_count": 119,
   "metadata": {
    "ExecuteTime": {
     "end_time": "2020-09-19T19:32:43.117459Z",
     "start_time": "2020-09-19T19:32:43.039693Z"
    },
    "hidden": true
   },
   "outputs": [],
   "source": [
    "with pd.ExcelWriter(fname) as writer:\n",
    "    subset_df.to_excel(writer, sheet_name='itemwise', index=False)\n",
    "    (subset_df.groupby(['name', 'phone_no'])\n",
    "        .first()[['email', 'amount_paid', 'amount_to_refund']]\n",
    "        .to_excel(writer, sheet_name='refund_amount_agg'))"
   ]
  },
  {
   "cell_type": "markdown",
   "metadata": {
    "ExecuteTime": {
     "end_time": "2020-08-17T20:58:05.930841Z",
     "start_time": "2020-08-17T20:58:05.926849Z"
    }
   },
   "source": [
    "# Create Listified File"
   ]
  },
  {
   "cell_type": "code",
   "execution_count": 226,
   "metadata": {
    "ExecuteTime": {
     "end_time": "2020-10-29T12:15:46.018196Z",
     "start_time": "2020-10-29T12:15:46.007226Z"
    }
   },
   "outputs": [],
   "source": [
    "dict_listified = {i : 0 for i in all_items}"
   ]
  },
  {
   "cell_type": "code",
   "execution_count": 227,
   "metadata": {
    "ExecuteTime": {
     "end_time": "2020-10-29T12:15:46.252236Z",
     "start_time": "2020-10-29T12:15:46.239203Z"
    }
   },
   "outputs": [],
   "source": [
    "for key, value in orders_dict.items():\n",
    "    for item, qty in value['order'].items():\n",
    "        dict_listified[item] += qty"
   ]
  },
  {
   "cell_type": "code",
   "execution_count": 228,
   "metadata": {
    "ExecuteTime": {
     "end_time": "2020-10-29T12:15:46.963930Z",
     "start_time": "2020-10-29T12:15:46.947968Z"
    }
   },
   "outputs": [],
   "source": [
    "df_listified = pd.DataFrame()\n",
    "\n",
    "df_listified['item'] = all_items\n",
    "df_listified['packing_size'] = df_listified['item'].apply(lambda x: get_packing_size(x))\n",
    "df_listified['num_units'] = df_listified['item'].apply(lambda x: dict_listified[x])\n",
    "df_listified['weight'] = df_listified.packing_size * df_listified.num_units\n",
    "df_listified['unit'] = df_listified['item'].apply(lambda x: get_unit(x))"
   ]
  },
  {
   "cell_type": "code",
   "execution_count": 229,
   "metadata": {
    "ExecuteTime": {
     "end_time": "2020-10-29T12:15:47.428429Z",
     "start_time": "2020-10-29T12:15:47.399473Z"
    }
   },
   "outputs": [
    {
     "data": {
      "text/html": [
       "<div>\n",
       "<style scoped>\n",
       "    .dataframe tbody tr th:only-of-type {\n",
       "        vertical-align: middle;\n",
       "    }\n",
       "\n",
       "    .dataframe tbody tr th {\n",
       "        vertical-align: top;\n",
       "    }\n",
       "\n",
       "    .dataframe thead th {\n",
       "        text-align: right;\n",
       "    }\n",
       "</style>\n",
       "<table border=\"1\" class=\"dataframe\">\n",
       "  <thead>\n",
       "    <tr style=\"text-align: right;\">\n",
       "      <th></th>\n",
       "      <th>item</th>\n",
       "      <th>packing_size</th>\n",
       "      <th>num_units</th>\n",
       "      <th>weight</th>\n",
       "      <th>unit</th>\n",
       "    </tr>\n",
       "  </thead>\n",
       "  <tbody>\n",
       "    <tr>\n",
       "      <th>0</th>\n",
       "      <td>Potatoes</td>\n",
       "      <td>1.00</td>\n",
       "      <td>74.0</td>\n",
       "      <td>74.00</td>\n",
       "      <td>Kg</td>\n",
       "    </tr>\n",
       "    <tr>\n",
       "      <th>1</th>\n",
       "      <td>Red Onions</td>\n",
       "      <td>1.00</td>\n",
       "      <td>90.0</td>\n",
       "      <td>90.00</td>\n",
       "      <td>Kg</td>\n",
       "    </tr>\n",
       "    <tr>\n",
       "      <th>2</th>\n",
       "      <td>Cauliflower</td>\n",
       "      <td>1.00</td>\n",
       "      <td>42.0</td>\n",
       "      <td>42.00</td>\n",
       "      <td>Pieces</td>\n",
       "    </tr>\n",
       "    <tr>\n",
       "      <th>3</th>\n",
       "      <td>Cabbage</td>\n",
       "      <td>1.00</td>\n",
       "      <td>27.0</td>\n",
       "      <td>27.00</td>\n",
       "      <td>Pieces</td>\n",
       "    </tr>\n",
       "    <tr>\n",
       "      <th>4</th>\n",
       "      <td>Brinjal Bharta</td>\n",
       "      <td>0.50</td>\n",
       "      <td>16.0</td>\n",
       "      <td>8.00</td>\n",
       "      <td>Kg</td>\n",
       "    </tr>\n",
       "    <tr>\n",
       "      <th>5</th>\n",
       "      <td>Pumpkin</td>\n",
       "      <td>0.50</td>\n",
       "      <td>21.0</td>\n",
       "      <td>10.50</td>\n",
       "      <td>Kg</td>\n",
       "    </tr>\n",
       "    <tr>\n",
       "      <th>6</th>\n",
       "      <td>Brinjal Kateri</td>\n",
       "      <td>0.50</td>\n",
       "      <td>14.0</td>\n",
       "      <td>7.00</td>\n",
       "      <td>Kg</td>\n",
       "    </tr>\n",
       "    <tr>\n",
       "      <th>7</th>\n",
       "      <td>Cucumber</td>\n",
       "      <td>0.50</td>\n",
       "      <td>64.0</td>\n",
       "      <td>32.00</td>\n",
       "      <td>Kg</td>\n",
       "    </tr>\n",
       "    <tr>\n",
       "      <th>8</th>\n",
       "      <td>Bhindi/Lady's Finger</td>\n",
       "      <td>0.50</td>\n",
       "      <td>47.0</td>\n",
       "      <td>23.50</td>\n",
       "      <td>Kg</td>\n",
       "    </tr>\n",
       "    <tr>\n",
       "      <th>9</th>\n",
       "      <td>Bitter Gourd</td>\n",
       "      <td>0.30</td>\n",
       "      <td>28.0</td>\n",
       "      <td>8.40</td>\n",
       "      <td>Kg</td>\n",
       "    </tr>\n",
       "    <tr>\n",
       "      <th>10</th>\n",
       "      <td>Ridge Gourd</td>\n",
       "      <td>0.50</td>\n",
       "      <td>19.0</td>\n",
       "      <td>9.50</td>\n",
       "      <td>Kg</td>\n",
       "    </tr>\n",
       "    <tr>\n",
       "      <th>11</th>\n",
       "      <td>Beetroot</td>\n",
       "      <td>0.50</td>\n",
       "      <td>17.0</td>\n",
       "      <td>8.50</td>\n",
       "      <td>Kg</td>\n",
       "    </tr>\n",
       "    <tr>\n",
       "      <th>12</th>\n",
       "      <td>Button Mushroom</td>\n",
       "      <td>0.20</td>\n",
       "      <td>32.0</td>\n",
       "      <td>6.40</td>\n",
       "      <td>Kg</td>\n",
       "    </tr>\n",
       "    <tr>\n",
       "      <th>13</th>\n",
       "      <td>Bottle Gourd</td>\n",
       "      <td>1.00</td>\n",
       "      <td>26.0</td>\n",
       "      <td>26.00</td>\n",
       "      <td>Pieces</td>\n",
       "    </tr>\n",
       "    <tr>\n",
       "      <th>14</th>\n",
       "      <td>Drumsticks</td>\n",
       "      <td>0.25</td>\n",
       "      <td>13.0</td>\n",
       "      <td>3.25</td>\n",
       "      <td>Kg</td>\n",
       "    </tr>\n",
       "    <tr>\n",
       "      <th>15</th>\n",
       "      <td>Capsicum</td>\n",
       "      <td>0.50</td>\n",
       "      <td>33.0</td>\n",
       "      <td>16.50</td>\n",
       "      <td>Kg</td>\n",
       "    </tr>\n",
       "    <tr>\n",
       "      <th>16</th>\n",
       "      <td>Gawar/Cluster Beans</td>\n",
       "      <td>0.30</td>\n",
       "      <td>13.0</td>\n",
       "      <td>3.90</td>\n",
       "      <td>kg</td>\n",
       "    </tr>\n",
       "    <tr>\n",
       "      <th>17</th>\n",
       "      <td>French Beans</td>\n",
       "      <td>0.50</td>\n",
       "      <td>29.0</td>\n",
       "      <td>14.50</td>\n",
       "      <td>Kg</td>\n",
       "    </tr>\n",
       "    <tr>\n",
       "      <th>18</th>\n",
       "      <td>Tomato</td>\n",
       "      <td>1.00</td>\n",
       "      <td>86.0</td>\n",
       "      <td>86.00</td>\n",
       "      <td>Kg</td>\n",
       "    </tr>\n",
       "    <tr>\n",
       "      <th>19</th>\n",
       "      <td>Sweet Corn</td>\n",
       "      <td>2.00</td>\n",
       "      <td>11.0</td>\n",
       "      <td>22.00</td>\n",
       "      <td>Pieces</td>\n",
       "    </tr>\n",
       "    <tr>\n",
       "      <th>20</th>\n",
       "      <td>Broccoli</td>\n",
       "      <td>0.25</td>\n",
       "      <td>18.0</td>\n",
       "      <td>4.50</td>\n",
       "      <td>Kg</td>\n",
       "    </tr>\n",
       "    <tr>\n",
       "      <th>21</th>\n",
       "      <td>Lettuce</td>\n",
       "      <td>0.25</td>\n",
       "      <td>9.0</td>\n",
       "      <td>2.25</td>\n",
       "      <td>Kg</td>\n",
       "    </tr>\n",
       "    <tr>\n",
       "      <th>22</th>\n",
       "      <td>Kiwi Zespri Imported</td>\n",
       "      <td>3.00</td>\n",
       "      <td>4.0</td>\n",
       "      <td>12.00</td>\n",
       "      <td>Pieces</td>\n",
       "    </tr>\n",
       "    <tr>\n",
       "      <th>24</th>\n",
       "      <td>Garlic</td>\n",
       "      <td>0.25</td>\n",
       "      <td>12.0</td>\n",
       "      <td>3.00</td>\n",
       "      <td>Kg</td>\n",
       "    </tr>\n",
       "    <tr>\n",
       "      <th>25</th>\n",
       "      <td>Ginger</td>\n",
       "      <td>0.25</td>\n",
       "      <td>22.0</td>\n",
       "      <td>5.50</td>\n",
       "      <td>kg</td>\n",
       "    </tr>\n",
       "    <tr>\n",
       "      <th>26</th>\n",
       "      <td>Green Chilly</td>\n",
       "      <td>0.20</td>\n",
       "      <td>24.0</td>\n",
       "      <td>4.80</td>\n",
       "      <td>kg</td>\n",
       "    </tr>\n",
       "    <tr>\n",
       "      <th>27</th>\n",
       "      <td>Lemons</td>\n",
       "      <td>5.00</td>\n",
       "      <td>51.0</td>\n",
       "      <td>255.00</td>\n",
       "      <td>Pieces</td>\n",
       "    </tr>\n",
       "    <tr>\n",
       "      <th>28</th>\n",
       "      <td>Curry Leaves</td>\n",
       "      <td>1.00</td>\n",
       "      <td>69.0</td>\n",
       "      <td>69.00</td>\n",
       "      <td>Bunch</td>\n",
       "    </tr>\n",
       "    <tr>\n",
       "      <th>29</th>\n",
       "      <td>Coriander Leaves</td>\n",
       "      <td>0.25</td>\n",
       "      <td>50.0</td>\n",
       "      <td>12.50</td>\n",
       "      <td>Kg</td>\n",
       "    </tr>\n",
       "    <tr>\n",
       "      <th>30</th>\n",
       "      <td>Mint Leaves</td>\n",
       "      <td>1.00</td>\n",
       "      <td>27.0</td>\n",
       "      <td>27.00</td>\n",
       "      <td>Bunch</td>\n",
       "    </tr>\n",
       "    <tr>\n",
       "      <th>31</th>\n",
       "      <td>Palak/Spinach</td>\n",
       "      <td>1.00</td>\n",
       "      <td>32.0</td>\n",
       "      <td>32.00</td>\n",
       "      <td>Bunch</td>\n",
       "    </tr>\n",
       "    <tr>\n",
       "      <th>32</th>\n",
       "      <td>Shepu/Dill Leaves</td>\n",
       "      <td>1.00</td>\n",
       "      <td>7.0</td>\n",
       "      <td>7.00</td>\n",
       "      <td>Bunch</td>\n",
       "    </tr>\n",
       "    <tr>\n",
       "      <th>33</th>\n",
       "      <td>Methi Leaves</td>\n",
       "      <td>0.35</td>\n",
       "      <td>28.0</td>\n",
       "      <td>9.80</td>\n",
       "      <td>kg</td>\n",
       "    </tr>\n",
       "    <tr>\n",
       "      <th>34</th>\n",
       "      <td>Red/Yellow Bell Peppers</td>\n",
       "      <td>0.50</td>\n",
       "      <td>16.0</td>\n",
       "      <td>8.00</td>\n",
       "      <td>Kg</td>\n",
       "    </tr>\n",
       "    <tr>\n",
       "      <th>35</th>\n",
       "      <td>Carrots</td>\n",
       "      <td>0.50</td>\n",
       "      <td>38.0</td>\n",
       "      <td>19.00</td>\n",
       "      <td>Kg</td>\n",
       "    </tr>\n",
       "    <tr>\n",
       "      <th>36</th>\n",
       "      <td>Radish/Muli</td>\n",
       "      <td>2.00</td>\n",
       "      <td>22.0</td>\n",
       "      <td>44.00</td>\n",
       "      <td>Pieces</td>\n",
       "    </tr>\n",
       "    <tr>\n",
       "      <th>38</th>\n",
       "      <td>Lal Math/Amaranthus</td>\n",
       "      <td>1.00</td>\n",
       "      <td>10.0</td>\n",
       "      <td>10.00</td>\n",
       "      <td>Bunch</td>\n",
       "    </tr>\n",
       "    <tr>\n",
       "      <th>39</th>\n",
       "      <td>Arbi Leaves</td>\n",
       "      <td>6.00</td>\n",
       "      <td>2.0</td>\n",
       "      <td>12.00</td>\n",
       "      <td>Pieces</td>\n",
       "    </tr>\n",
       "    <tr>\n",
       "      <th>40</th>\n",
       "      <td>Arbi/Colocasia</td>\n",
       "      <td>0.50</td>\n",
       "      <td>14.0</td>\n",
       "      <td>7.00</td>\n",
       "      <td>Kg</td>\n",
       "    </tr>\n",
       "    <tr>\n",
       "      <th>41</th>\n",
       "      <td>Babycorn</td>\n",
       "      <td>0.20</td>\n",
       "      <td>5.0</td>\n",
       "      <td>1.00</td>\n",
       "      <td>Kg</td>\n",
       "    </tr>\n",
       "    <tr>\n",
       "      <th>42</th>\n",
       "      <td>Raw Banana</td>\n",
       "      <td>0.50</td>\n",
       "      <td>14.0</td>\n",
       "      <td>7.00</td>\n",
       "      <td>Kg</td>\n",
       "    </tr>\n",
       "    <tr>\n",
       "      <th>43</th>\n",
       "      <td>Lemongrass</td>\n",
       "      <td>1.00</td>\n",
       "      <td>15.0</td>\n",
       "      <td>15.00</td>\n",
       "      <td>Bunch</td>\n",
       "    </tr>\n",
       "    <tr>\n",
       "      <th>44</th>\n",
       "      <td>Sponge Gourd</td>\n",
       "      <td>0.50</td>\n",
       "      <td>16.0</td>\n",
       "      <td>8.00</td>\n",
       "      <td>Kg</td>\n",
       "    </tr>\n",
       "    <tr>\n",
       "      <th>45</th>\n",
       "      <td>Peeled Garlic</td>\n",
       "      <td>0.10</td>\n",
       "      <td>12.0</td>\n",
       "      <td>1.20</td>\n",
       "      <td>Kg</td>\n",
       "    </tr>\n",
       "    <tr>\n",
       "      <th>46</th>\n",
       "      <td>Green Zucchini</td>\n",
       "      <td>0.50</td>\n",
       "      <td>6.0</td>\n",
       "      <td>3.00</td>\n",
       "      <td>Kg</td>\n",
       "    </tr>\n",
       "    <tr>\n",
       "      <th>47</th>\n",
       "      <td>Yellow Zucchini</td>\n",
       "      <td>0.50</td>\n",
       "      <td>3.0</td>\n",
       "      <td>1.50</td>\n",
       "      <td>Kg</td>\n",
       "    </tr>\n",
       "    <tr>\n",
       "      <th>48</th>\n",
       "      <td>Indian Avacado</td>\n",
       "      <td>0.50</td>\n",
       "      <td>6.0</td>\n",
       "      <td>3.00</td>\n",
       "      <td>Kg</td>\n",
       "    </tr>\n",
       "    <tr>\n",
       "      <th>53</th>\n",
       "      <td>Basil Leaves</td>\n",
       "      <td>0.20</td>\n",
       "      <td>5.0</td>\n",
       "      <td>1.00</td>\n",
       "      <td>Kg</td>\n",
       "    </tr>\n",
       "  </tbody>\n",
       "</table>\n",
       "</div>"
      ],
      "text/plain": [
       "                       item  packing_size  num_units  weight    unit\n",
       "0                  Potatoes          1.00       74.0   74.00      Kg\n",
       "1                Red Onions          1.00       90.0   90.00      Kg\n",
       "2               Cauliflower          1.00       42.0   42.00  Pieces\n",
       "3                   Cabbage          1.00       27.0   27.00  Pieces\n",
       "4            Brinjal Bharta          0.50       16.0    8.00      Kg\n",
       "5                   Pumpkin          0.50       21.0   10.50      Kg\n",
       "6            Brinjal Kateri          0.50       14.0    7.00      Kg\n",
       "7                  Cucumber          0.50       64.0   32.00      Kg\n",
       "8      Bhindi/Lady's Finger          0.50       47.0   23.50      Kg\n",
       "9              Bitter Gourd          0.30       28.0    8.40      Kg\n",
       "10              Ridge Gourd          0.50       19.0    9.50      Kg\n",
       "11                 Beetroot          0.50       17.0    8.50      Kg\n",
       "12          Button Mushroom          0.20       32.0    6.40      Kg\n",
       "13             Bottle Gourd          1.00       26.0   26.00  Pieces\n",
       "14               Drumsticks          0.25       13.0    3.25      Kg\n",
       "15                 Capsicum          0.50       33.0   16.50      Kg\n",
       "16      Gawar/Cluster Beans          0.30       13.0    3.90      kg\n",
       "17             French Beans          0.50       29.0   14.50      Kg\n",
       "18                   Tomato          1.00       86.0   86.00      Kg\n",
       "19               Sweet Corn          2.00       11.0   22.00  Pieces\n",
       "20                 Broccoli          0.25       18.0    4.50      Kg\n",
       "21                  Lettuce          0.25        9.0    2.25      Kg\n",
       "22     Kiwi Zespri Imported          3.00        4.0   12.00  Pieces\n",
       "24                   Garlic          0.25       12.0    3.00      Kg\n",
       "25                   Ginger          0.25       22.0    5.50      kg\n",
       "26             Green Chilly          0.20       24.0    4.80      kg\n",
       "27                   Lemons          5.00       51.0  255.00  Pieces\n",
       "28             Curry Leaves          1.00       69.0   69.00   Bunch\n",
       "29         Coriander Leaves          0.25       50.0   12.50      Kg\n",
       "30              Mint Leaves          1.00       27.0   27.00   Bunch\n",
       "31            Palak/Spinach          1.00       32.0   32.00   Bunch\n",
       "32        Shepu/Dill Leaves          1.00        7.0    7.00   Bunch\n",
       "33             Methi Leaves          0.35       28.0    9.80      kg\n",
       "34  Red/Yellow Bell Peppers          0.50       16.0    8.00      Kg\n",
       "35                  Carrots          0.50       38.0   19.00      Kg\n",
       "36              Radish/Muli          2.00       22.0   44.00  Pieces\n",
       "38      Lal Math/Amaranthus          1.00       10.0   10.00   Bunch\n",
       "39              Arbi Leaves          6.00        2.0   12.00  Pieces\n",
       "40           Arbi/Colocasia          0.50       14.0    7.00      Kg\n",
       "41                 Babycorn          0.20        5.0    1.00      Kg\n",
       "42               Raw Banana          0.50       14.0    7.00      Kg\n",
       "43               Lemongrass          1.00       15.0   15.00   Bunch\n",
       "44             Sponge Gourd          0.50       16.0    8.00      Kg\n",
       "45            Peeled Garlic          0.10       12.0    1.20      Kg\n",
       "46           Green Zucchini          0.50        6.0    3.00      Kg\n",
       "47          Yellow Zucchini          0.50        3.0    1.50      Kg\n",
       "48           Indian Avacado          0.50        6.0    3.00      Kg\n",
       "53             Basil Leaves          0.20        5.0    1.00      Kg"
      ]
     },
     "execution_count": 229,
     "metadata": {},
     "output_type": "execute_result"
    }
   ],
   "source": [
    "df_listified = df_listified[df_listified.num_units > 0]; df_listified"
   ]
  },
  {
   "cell_type": "code",
   "execution_count": 230,
   "metadata": {
    "ExecuteTime": {
     "end_time": "2020-10-29T12:15:50.744622Z",
     "start_time": "2020-10-29T12:15:50.734633Z"
    }
   },
   "outputs": [],
   "source": [
    "fname = save_pth/('quantity-' + str(FILE.stem) + '.csv')"
   ]
  },
  {
   "cell_type": "code",
   "execution_count": 231,
   "metadata": {
    "ExecuteTime": {
     "end_time": "2020-10-29T12:15:50.960184Z",
     "start_time": "2020-10-29T12:15:50.949212Z"
    }
   },
   "outputs": [],
   "source": [
    "df_listified[df_listified.num_units>0].to_csv(fname, index=False)"
   ]
  },
  {
   "cell_type": "markdown",
   "metadata": {},
   "source": [
    "# Customerwise"
   ]
  },
  {
   "cell_type": "code",
   "execution_count": 232,
   "metadata": {
    "ExecuteTime": {
     "end_time": "2020-10-29T12:15:51.521508Z",
     "start_time": "2020-10-29T12:15:51.511465Z"
    }
   },
   "outputs": [],
   "source": [
    "items = ['coconut', 'kiwi']"
   ]
  },
  {
   "cell_type": "code",
   "execution_count": 233,
   "metadata": {
    "ExecuteTime": {
     "end_time": "2020-10-29T12:15:51.784186Z",
     "start_time": "2020-10-29T12:15:51.762501Z"
    }
   },
   "outputs": [],
   "source": [
    "df_trans = pd.read_excel(\"C:/Playground/bhaiya-orders/zoho-bhor-farms/database/translations.xlsx\")"
   ]
  },
  {
   "cell_type": "code",
   "execution_count": 234,
   "metadata": {
    "ExecuteTime": {
     "end_time": "2020-10-29T12:15:52.592928Z",
     "start_time": "2020-10-29T12:15:52.574977Z"
    }
   },
   "outputs": [],
   "source": [
    "from fuzzywuzzy import fuzz\n",
    "\n",
    "def get_match(x, thresh=65):\n",
    "    x = x.lower()\n",
    "    rmax = -1\n",
    "    for k in items: \n",
    "        if fuzz.partial_ratio(k, x) > rmax:\n",
    "            rmax = fuzz.partial_ratio(k, x)\n",
    "\n",
    "    return rmax > thresh"
   ]
  },
  {
   "cell_type": "code",
   "execution_count": 235,
   "metadata": {
    "ExecuteTime": {
     "end_time": "2020-10-29T12:15:52.794836Z",
     "start_time": "2020-10-29T12:15:52.783897Z"
    }
   },
   "outputs": [
    {
     "data": {
      "text/plain": [
       "array(['Coconut', 'Kiwi Imported', 'Coconut Mangalore Small',\n",
       "       'Kiwi Imported', ' Coconut Mangalore Big',\n",
       "       ' Coconut Mangalore Medium', 'Kiwi Imported - Zespri Green'],\n",
       "      dtype=object)"
      ]
     },
     "execution_count": 235,
     "metadata": {},
     "output_type": "execute_result"
    }
   ],
   "source": [
    "keys2drop = df_trans[df_trans['Final Item Name'].apply(get_match)]['Final Item Name'].values; keys2drop"
   ]
  },
  {
   "cell_type": "code",
   "execution_count": 236,
   "metadata": {
    "ExecuteTime": {
     "end_time": "2020-10-29T12:15:53.713170Z",
     "start_time": "2020-10-29T12:15:53.700172Z"
    }
   },
   "outputs": [],
   "source": [
    "df_trans = df_trans.set_index('Final Item Name').drop(keys2drop).reset_index()\n",
    "eng2marathi = df_trans.set_index('Final Item Name').to_dict()['Final Marathi Name']\n",
    "marathi2eng = df_trans.set_index('Final Marathi Name').to_dict()['Final Item Name']\n",
    "marathi2eng[np.nan] = ''"
   ]
  },
  {
   "cell_type": "code",
   "execution_count": 237,
   "metadata": {
    "ExecuteTime": {
     "end_time": "2020-10-29T12:15:53.915993Z",
     "start_time": "2020-10-29T12:15:53.910011Z"
    }
   },
   "outputs": [],
   "source": [
    "def get_trans(x, thresh=85):\n",
    "    rmax = -1\n",
    "    trans = ''\n",
    "    for k in eng2marathi.keys():\n",
    "        if fuzz.ratio(k, x) > rmax:\n",
    "            rmax = fuzz.ratio(k, x)\n",
    "            trans = eng2marathi[k]\n",
    "\n",
    "    if rmax > thresh:\n",
    "        return trans\n",
    "    return np.nan"
   ]
  },
  {
   "cell_type": "code",
   "execution_count": 238,
   "metadata": {
    "ExecuteTime": {
     "end_time": "2020-10-29T12:15:54.992062Z",
     "start_time": "2020-10-29T12:15:54.703348Z"
    }
   },
   "outputs": [],
   "source": [
    "rows_list = []\n",
    "for token, o in orders_dict.items():\n",
    "    for item, qty in o['order'].items():\n",
    "        row_dct = {}\n",
    "        row_dct['token_no'] = token\n",
    "        row_dct['name'] = o['name']\n",
    "        row_dct['email'] = o['email']\n",
    "        row_dct['delivery_date'] = o['delivery_date']\n",
    "        row_dct['item_name'] = item\n",
    "        row_dct['marathi_name'] = get_trans(item)\n",
    "        row_dct['num_packets'] = qty\n",
    "        row_dct['packing_size'] = get_packing_size(item)\n",
    "        row_dct['final_weight'] = row_dct['num_packets'] * row_dct['packing_size']\n",
    "        row_dct['unit'] = get_unit(item)\n",
    "        row_dct['total_amt'] = o['total_amount']\n",
    "        \n",
    "        rows_list.append(row_dct)"
   ]
  },
  {
   "cell_type": "code",
   "execution_count": 239,
   "metadata": {
    "ExecuteTime": {
     "end_time": "2020-10-29T12:15:55.007941Z",
     "start_time": "2020-10-29T12:15:54.994086Z"
    }
   },
   "outputs": [],
   "source": [
    "df_customerwise = pd.DataFrame(rows_list)"
   ]
  },
  {
   "cell_type": "code",
   "execution_count": 240,
   "metadata": {
    "ExecuteTime": {
     "end_time": "2020-10-29T12:15:56.000517Z",
     "start_time": "2020-10-29T12:15:55.981533Z"
    }
   },
   "outputs": [
    {
     "data": {
      "text/html": [
       "<div>\n",
       "<style scoped>\n",
       "    .dataframe tbody tr th:only-of-type {\n",
       "        vertical-align: middle;\n",
       "    }\n",
       "\n",
       "    .dataframe tbody tr th {\n",
       "        vertical-align: top;\n",
       "    }\n",
       "\n",
       "    .dataframe thead th {\n",
       "        text-align: right;\n",
       "    }\n",
       "</style>\n",
       "<table border=\"1\" class=\"dataframe\">\n",
       "  <thead>\n",
       "    <tr style=\"text-align: right;\">\n",
       "      <th></th>\n",
       "      <th>token_no</th>\n",
       "      <th>name</th>\n",
       "      <th>email</th>\n",
       "      <th>delivery_date</th>\n",
       "      <th>item_name</th>\n",
       "      <th>marathi_name</th>\n",
       "      <th>num_packets</th>\n",
       "      <th>packing_size</th>\n",
       "      <th>final_weight</th>\n",
       "      <th>unit</th>\n",
       "      <th>total_amt</th>\n",
       "    </tr>\n",
       "  </thead>\n",
       "  <tbody>\n",
       "    <tr>\n",
       "      <th>0</th>\n",
       "      <td>1</td>\n",
       "      <td>Rashmita; Sundaram</td>\n",
       "      <td>Rashmita.sundaram@gmail.com</td>\n",
       "      <td>Fri Oct 30th</td>\n",
       "      <td>Red Onions</td>\n",
       "      <td>कांदा लाल</td>\n",
       "      <td>2.0</td>\n",
       "      <td>1.0</td>\n",
       "      <td>2.0</td>\n",
       "      <td>Kg</td>\n",
       "      <td>733</td>\n",
       "    </tr>\n",
       "    <tr>\n",
       "      <th>1</th>\n",
       "      <td>1</td>\n",
       "      <td>Rashmita; Sundaram</td>\n",
       "      <td>Rashmita.sundaram@gmail.com</td>\n",
       "      <td>Fri Oct 30th</td>\n",
       "      <td>Brinjal Kateri</td>\n",
       "      <td>कटेरी वंगे</td>\n",
       "      <td>1.0</td>\n",
       "      <td>0.5</td>\n",
       "      <td>0.5</td>\n",
       "      <td>Kg</td>\n",
       "      <td>733</td>\n",
       "    </tr>\n",
       "    <tr>\n",
       "      <th>2</th>\n",
       "      <td>1</td>\n",
       "      <td>Rashmita; Sundaram</td>\n",
       "      <td>Rashmita.sundaram@gmail.com</td>\n",
       "      <td>Fri Oct 30th</td>\n",
       "      <td>Bhindi/Lady's Finger</td>\n",
       "      <td>भिंडी / लेडीज फिंगर</td>\n",
       "      <td>2.0</td>\n",
       "      <td>0.5</td>\n",
       "      <td>1.0</td>\n",
       "      <td>Kg</td>\n",
       "      <td>733</td>\n",
       "    </tr>\n",
       "    <tr>\n",
       "      <th>3</th>\n",
       "      <td>1</td>\n",
       "      <td>Rashmita; Sundaram</td>\n",
       "      <td>Rashmita.sundaram@gmail.com</td>\n",
       "      <td>Fri Oct 30th</td>\n",
       "      <td>Button Mushroom</td>\n",
       "      <td>बटण मशरूम</td>\n",
       "      <td>1.0</td>\n",
       "      <td>0.2</td>\n",
       "      <td>0.2</td>\n",
       "      <td>Kg</td>\n",
       "      <td>733</td>\n",
       "    </tr>\n",
       "    <tr>\n",
       "      <th>4</th>\n",
       "      <td>1</td>\n",
       "      <td>Rashmita; Sundaram</td>\n",
       "      <td>Rashmita.sundaram@gmail.com</td>\n",
       "      <td>Fri Oct 30th</td>\n",
       "      <td>Bottle Gourd</td>\n",
       "      <td>दुध्या भोपळा</td>\n",
       "      <td>1.0</td>\n",
       "      <td>1.0</td>\n",
       "      <td>1.0</td>\n",
       "      <td>Pieces</td>\n",
       "      <td>733</td>\n",
       "    </tr>\n",
       "  </tbody>\n",
       "</table>\n",
       "</div>"
      ],
      "text/plain": [
       "   token_no                name                        email delivery_date  \\\n",
       "0         1  Rashmita; Sundaram  Rashmita.sundaram@gmail.com  Fri Oct 30th   \n",
       "1         1  Rashmita; Sundaram  Rashmita.sundaram@gmail.com  Fri Oct 30th   \n",
       "2         1  Rashmita; Sundaram  Rashmita.sundaram@gmail.com  Fri Oct 30th   \n",
       "3         1  Rashmita; Sundaram  Rashmita.sundaram@gmail.com  Fri Oct 30th   \n",
       "4         1  Rashmita; Sundaram  Rashmita.sundaram@gmail.com  Fri Oct 30th   \n",
       "\n",
       "              item_name         marathi_name  num_packets  packing_size  \\\n",
       "0            Red Onions            कांदा लाल          2.0           1.0   \n",
       "1        Brinjal Kateri           कटेरी वंगे          1.0           0.5   \n",
       "2  Bhindi/Lady's Finger  भिंडी / लेडीज फिंगर          2.0           0.5   \n",
       "3       Button Mushroom            बटण मशरूम          1.0           0.2   \n",
       "4          Bottle Gourd         दुध्या भोपळा          1.0           1.0   \n",
       "\n",
       "   final_weight    unit  total_amt  \n",
       "0           2.0      Kg        733  \n",
       "1           0.5      Kg        733  \n",
       "2           1.0      Kg        733  \n",
       "3           0.2      Kg        733  \n",
       "4           1.0  Pieces        733  "
      ]
     },
     "execution_count": 240,
     "metadata": {},
     "output_type": "execute_result"
    }
   ],
   "source": [
    "df_customerwise.head()"
   ]
  },
  {
   "cell_type": "code",
   "execution_count": 241,
   "metadata": {
    "ExecuteTime": {
     "end_time": "2020-10-29T12:15:56.732398Z",
     "start_time": "2020-10-29T12:15:56.718441Z"
    }
   },
   "outputs": [
    {
     "data": {
      "text/plain": [
       "array(['Indian Avacado', 'Kiwi Zespri Imported'], dtype=object)"
      ]
     },
     "execution_count": 241,
     "metadata": {},
     "output_type": "execute_result"
    }
   ],
   "source": [
    "notranslist = df_customerwise[df_customerwise.marathi_name.isna()].item_name.unique(); notranslist"
   ]
  },
  {
   "cell_type": "markdown",
   "metadata": {},
   "source": [
    "## Filter Out Exotics"
   ]
  },
  {
   "cell_type": "code",
   "execution_count": 242,
   "metadata": {
    "ExecuteTime": {
     "end_time": "2020-10-29T12:16:03.524259Z",
     "start_time": "2020-10-29T12:16:03.519273Z"
    }
   },
   "outputs": [],
   "source": [
    "notranslist = ['Button Mushroom',\n",
    "    'Broccoli',\n",
    "    'Lettuce',\n",
    "    'Kiwi Zespri Imported',\n",
    "    'Babycorn',\n",
    "    'Peeled Garlic',\n",
    "    'Green Zucchini',\n",
    "    'Yellow Zucchini',\n",
    "    'Pumpkin',\n",
    "    'Red/Yellow Bell Peppers',\n",
    "    'Indian Avacado',\n",
    "    ]"
   ]
  },
  {
   "cell_type": "code",
   "execution_count": 243,
   "metadata": {
    "ExecuteTime": {
     "end_time": "2020-10-29T12:16:04.115838Z",
     "start_time": "2020-10-29T12:16:04.108858Z"
    }
   },
   "outputs": [
    {
     "data": {
      "text/plain": [
       "'kigrlerepuinbapeyebubr-Final Input 30th Oct Veg (1)'"
      ]
     },
     "execution_count": 243,
     "metadata": {},
     "output_type": "execute_result"
    }
   ],
   "source": [
    "ids = set([i.lower()[:2] for i in notranslist])\n",
    "prefix = \"\".join(ids)\n",
    "prefix = prefix.replace('/', '')\n",
    "\n",
    "notrans_pth = save_pth/f'{prefix}-{str(FILE.stem)}.csv'; notrans_pth.stem"
   ]
  },
  {
   "cell_type": "code",
   "execution_count": 244,
   "metadata": {
    "ExecuteTime": {
     "end_time": "2020-10-29T12:16:04.676540Z",
     "start_time": "2020-10-29T12:16:04.658615Z"
    }
   },
   "outputs": [],
   "source": [
    "df_customerwise[df_customerwise.item_name.isin(notranslist)].to_csv(notrans_pth, index=False)"
   ]
  },
  {
   "cell_type": "code",
   "execution_count": 245,
   "metadata": {
    "ExecuteTime": {
     "end_time": "2020-10-29T12:16:06.040740Z",
     "start_time": "2020-10-29T12:16:06.034786Z"
    }
   },
   "outputs": [],
   "source": [
    "# (df_customerwise[df_customerwise.marathi_name.isna()]\n",
    "#     .drop(columns=['marathi_name', 'total_amt'])\n",
    "#     .to_csv(notrans_pth, index=False))"
   ]
  },
  {
   "cell_type": "markdown",
   "metadata": {},
   "source": [
    "## Drop items whose translations are absent from the Customerwise File"
   ]
  },
  {
   "cell_type": "code",
   "execution_count": 246,
   "metadata": {
    "ExecuteTime": {
     "end_time": "2020-10-29T12:16:06.429737Z",
     "start_time": "2020-10-29T12:16:06.412816Z"
    }
   },
   "outputs": [],
   "source": [
    "df_customerwise.marathi_name = df_customerwise.marathi_name.fillna('')"
   ]
  },
  {
   "cell_type": "code",
   "execution_count": 247,
   "metadata": {
    "ExecuteTime": {
     "end_time": "2020-10-29T12:16:06.585706Z",
     "start_time": "2020-10-29T12:16:06.574739Z"
    }
   },
   "outputs": [],
   "source": [
    "# df_customerwise.dropna(subset=['marathi_name'], inplace=True)"
   ]
  },
  {
   "cell_type": "code",
   "execution_count": 248,
   "metadata": {
    "ExecuteTime": {
     "end_time": "2020-10-29T12:16:07.160107Z",
     "start_time": "2020-10-29T12:16:07.130188Z"
    }
   },
   "outputs": [],
   "source": [
    "df_customerwise.to_csv(save_pth/'full-customerwise.csv', index=False)"
   ]
  },
  {
   "cell_type": "code",
   "execution_count": 249,
   "metadata": {
    "ExecuteTime": {
     "end_time": "2020-10-29T12:16:07.363594Z",
     "start_time": "2020-10-29T12:16:07.348611Z"
    }
   },
   "outputs": [
    {
     "data": {
      "text/html": [
       "<div>\n",
       "<style scoped>\n",
       "    .dataframe tbody tr th:only-of-type {\n",
       "        vertical-align: middle;\n",
       "    }\n",
       "\n",
       "    .dataframe tbody tr th {\n",
       "        vertical-align: top;\n",
       "    }\n",
       "\n",
       "    .dataframe thead th {\n",
       "        text-align: right;\n",
       "    }\n",
       "</style>\n",
       "<table border=\"1\" class=\"dataframe\">\n",
       "  <thead>\n",
       "    <tr style=\"text-align: right;\">\n",
       "      <th></th>\n",
       "      <th>token_no</th>\n",
       "      <th>name</th>\n",
       "      <th>email</th>\n",
       "      <th>delivery_date</th>\n",
       "      <th>item_name</th>\n",
       "      <th>marathi_name</th>\n",
       "      <th>num_packets</th>\n",
       "      <th>packing_size</th>\n",
       "      <th>final_weight</th>\n",
       "      <th>unit</th>\n",
       "      <th>total_amt</th>\n",
       "    </tr>\n",
       "  </thead>\n",
       "  <tbody>\n",
       "    <tr>\n",
       "      <th>0</th>\n",
       "      <td>1</td>\n",
       "      <td>Rashmita; Sundaram</td>\n",
       "      <td>Rashmita.sundaram@gmail.com</td>\n",
       "      <td>Fri Oct 30th</td>\n",
       "      <td>Red Onions</td>\n",
       "      <td>कांदा लाल</td>\n",
       "      <td>2.0</td>\n",
       "      <td>1.0</td>\n",
       "      <td>2.0</td>\n",
       "      <td>Kg</td>\n",
       "      <td>733</td>\n",
       "    </tr>\n",
       "    <tr>\n",
       "      <th>1</th>\n",
       "      <td>1</td>\n",
       "      <td>Rashmita; Sundaram</td>\n",
       "      <td>Rashmita.sundaram@gmail.com</td>\n",
       "      <td>Fri Oct 30th</td>\n",
       "      <td>Brinjal Kateri</td>\n",
       "      <td>कटेरी वंगे</td>\n",
       "      <td>1.0</td>\n",
       "      <td>0.5</td>\n",
       "      <td>0.5</td>\n",
       "      <td>Kg</td>\n",
       "      <td>733</td>\n",
       "    </tr>\n",
       "    <tr>\n",
       "      <th>2</th>\n",
       "      <td>1</td>\n",
       "      <td>Rashmita; Sundaram</td>\n",
       "      <td>Rashmita.sundaram@gmail.com</td>\n",
       "      <td>Fri Oct 30th</td>\n",
       "      <td>Bhindi/Lady's Finger</td>\n",
       "      <td>भिंडी / लेडीज फिंगर</td>\n",
       "      <td>2.0</td>\n",
       "      <td>0.5</td>\n",
       "      <td>1.0</td>\n",
       "      <td>Kg</td>\n",
       "      <td>733</td>\n",
       "    </tr>\n",
       "    <tr>\n",
       "      <th>3</th>\n",
       "      <td>1</td>\n",
       "      <td>Rashmita; Sundaram</td>\n",
       "      <td>Rashmita.sundaram@gmail.com</td>\n",
       "      <td>Fri Oct 30th</td>\n",
       "      <td>Button Mushroom</td>\n",
       "      <td>बटण मशरूम</td>\n",
       "      <td>1.0</td>\n",
       "      <td>0.2</td>\n",
       "      <td>0.2</td>\n",
       "      <td>Kg</td>\n",
       "      <td>733</td>\n",
       "    </tr>\n",
       "    <tr>\n",
       "      <th>4</th>\n",
       "      <td>1</td>\n",
       "      <td>Rashmita; Sundaram</td>\n",
       "      <td>Rashmita.sundaram@gmail.com</td>\n",
       "      <td>Fri Oct 30th</td>\n",
       "      <td>Bottle Gourd</td>\n",
       "      <td>दुध्या भोपळा</td>\n",
       "      <td>1.0</td>\n",
       "      <td>1.0</td>\n",
       "      <td>1.0</td>\n",
       "      <td>Pieces</td>\n",
       "      <td>733</td>\n",
       "    </tr>\n",
       "  </tbody>\n",
       "</table>\n",
       "</div>"
      ],
      "text/plain": [
       "   token_no                name                        email delivery_date  \\\n",
       "0         1  Rashmita; Sundaram  Rashmita.sundaram@gmail.com  Fri Oct 30th   \n",
       "1         1  Rashmita; Sundaram  Rashmita.sundaram@gmail.com  Fri Oct 30th   \n",
       "2         1  Rashmita; Sundaram  Rashmita.sundaram@gmail.com  Fri Oct 30th   \n",
       "3         1  Rashmita; Sundaram  Rashmita.sundaram@gmail.com  Fri Oct 30th   \n",
       "4         1  Rashmita; Sundaram  Rashmita.sundaram@gmail.com  Fri Oct 30th   \n",
       "\n",
       "              item_name         marathi_name  num_packets  packing_size  \\\n",
       "0            Red Onions            कांदा लाल          2.0           1.0   \n",
       "1        Brinjal Kateri           कटेरी वंगे          1.0           0.5   \n",
       "2  Bhindi/Lady's Finger  भिंडी / लेडीज फिंगर          2.0           0.5   \n",
       "3       Button Mushroom            बटण मशरूम          1.0           0.2   \n",
       "4          Bottle Gourd         दुध्या भोपळा          1.0           1.0   \n",
       "\n",
       "   final_weight    unit  total_amt  \n",
       "0           2.0      Kg        733  \n",
       "1           0.5      Kg        733  \n",
       "2           1.0      Kg        733  \n",
       "3           0.2      Kg        733  \n",
       "4           1.0  Pieces        733  "
      ]
     },
     "execution_count": 249,
     "metadata": {},
     "output_type": "execute_result"
    }
   ],
   "source": [
    "df_customerwise.head()"
   ]
  },
  {
   "cell_type": "markdown",
   "metadata": {
    "ExecuteTime": {
     "end_time": "2020-08-17T22:49:59.355030Z",
     "start_time": "2020-08-17T22:49:59.351040Z"
    }
   },
   "source": [
    "## Build Excel Savefile"
   ]
  },
  {
   "cell_type": "code",
   "execution_count": 250,
   "metadata": {
    "ExecuteTime": {
     "end_time": "2020-10-29T12:16:08.167328Z",
     "start_time": "2020-10-29T12:16:08.156363Z"
    }
   },
   "outputs": [],
   "source": [
    "highlight_col = 'num_packets'"
   ]
  },
  {
   "cell_type": "code",
   "execution_count": 251,
   "metadata": {
    "ExecuteTime": {
     "end_time": "2020-10-29T12:16:08.353794Z",
     "start_time": "2020-10-29T12:16:08.347808Z"
    }
   },
   "outputs": [],
   "source": [
    "custs = df_customerwise.name + '_' + df_customerwise.token_no.astype(str)\n",
    "custs = custs.unique()"
   ]
  },
  {
   "cell_type": "code",
   "execution_count": 252,
   "metadata": {
    "ExecuteTime": {
     "end_time": "2020-10-29T12:16:08.866071Z",
     "start_time": "2020-10-29T12:16:08.857091Z"
    }
   },
   "outputs": [],
   "source": [
    "def f(x):\n",
    "    col = highlight_col\n",
    "    r = 'background-color: none'\n",
    "    g = 'background-color: #37FDFC'\n",
    "    c = np.where(x[col] > 1, g, r)\n",
    "    y = pd.DataFrame('', index=x.index, columns=x.columns)\n",
    "    for h in all_cols:\n",
    "        y[h] = c\n",
    "    \n",
    "    return y"
   ]
  },
  {
   "cell_type": "code",
   "execution_count": 253,
   "metadata": {
    "ExecuteTime": {
     "end_time": "2020-10-29T12:16:09.099022Z",
     "start_time": "2020-10-29T12:16:09.079053Z"
    }
   },
   "outputs": [],
   "source": [
    "def boldify(x):\n",
    "    col = 'total_amt'\n",
    "    n = 'font-weight: normal'\n",
    "    b = 'font-weight: bold'\n",
    "    c = np.where(x[col] >= 1000.0, b, n)\n",
    "    y = pd.DataFrame('', index=x.index, columns=x.columns)\n",
    "    for h in all_cols:\n",
    "        y[h] = c\n",
    "    \n",
    "    return y"
   ]
  },
  {
   "cell_type": "code",
   "execution_count": 254,
   "metadata": {
    "ExecuteTime": {
     "end_time": "2020-10-29T12:16:09.284946Z",
     "start_time": "2020-10-29T12:16:09.281954Z"
    }
   },
   "outputs": [],
   "source": [
    "all_cols = df_customerwise.columns"
   ]
  },
  {
   "cell_type": "code",
   "execution_count": 255,
   "metadata": {
    "ExecuteTime": {
     "end_time": "2020-10-29T12:16:10.032482Z",
     "start_time": "2020-10-29T12:16:10.015498Z"
    }
   },
   "outputs": [
    {
     "data": {
      "text/plain": [
       "Index(['token_no', 'name', 'email', 'delivery_date', 'item_name',\n",
       "       'marathi_name', 'num_packets', 'packing_size', 'final_weight', 'unit',\n",
       "       'total_amt'],\n",
       "      dtype='object')"
      ]
     },
     "execution_count": 255,
     "metadata": {},
     "output_type": "execute_result"
    }
   ],
   "source": [
    "all_cols"
   ]
  },
  {
   "cell_type": "code",
   "execution_count": 256,
   "metadata": {
    "ExecuteTime": {
     "end_time": "2020-10-29T12:16:10.684955Z",
     "start_time": "2020-10-29T12:16:10.673979Z"
    }
   },
   "outputs": [],
   "source": [
    "def get_sum_packets(token):\n",
    "    return sum(orders_dict[token]['order'].values())"
   ]
  },
  {
   "cell_type": "code",
   "execution_count": 257,
   "metadata": {
    "ExecuteTime": {
     "end_time": "2020-10-29T12:16:11.149661Z",
     "start_time": "2020-10-29T12:16:11.141682Z"
    }
   },
   "outputs": [],
   "source": [
    "fname = save_pth/('customerwise-' + str(FILE.stem) + '.xlsx')"
   ]
  },
  {
   "cell_type": "code",
   "execution_count": 258,
   "metadata": {
    "ExecuteTime": {
     "end_time": "2020-10-29T12:16:19.053916Z",
     "start_time": "2020-10-29T12:16:13.413987Z"
    }
   },
   "outputs": [],
   "source": [
    "all_data = 0\n",
    "\n",
    "with pd.ExcelWriter(fname) as writer:\n",
    "    for cust in custs:\n",
    "        data = df_customerwise[df_customerwise.name == cust.split('_')[0]]\n",
    "        data = data[data.token_no == int(cust.split('_')[1])]\n",
    "        all_data += len(data.index)\n",
    "\n",
    "        data = data.append({'marathi_name': 'TOTAL PACKETS', 'num_packets': get_sum_packets(\n",
    "            int(cust.split('_')[1]))}, ignore_index=True)\n",
    "        styled = data.style.apply(f, axis=None)\n",
    "        styled = styled.apply(boldify, axis=None)\n",
    "        styled.to_excel(writer, columns=['token_no', 'name', 'delivery_date', 'item_name', 'marathi_name',\n",
    "                                         'num_packets'], sheet_name=cust[:31], engine='openpyxl', index=False)\n",
    "\n",
    "assert all_data == len(df_customerwise)"
   ]
  },
  {
   "cell_type": "markdown",
   "metadata": {},
   "source": [
    "## Build PDF Savefile"
   ]
  },
  {
   "cell_type": "code",
   "execution_count": 259,
   "metadata": {
    "ExecuteTime": {
     "end_time": "2020-10-29T12:16:20.703162Z",
     "start_time": "2020-10-29T12:16:20.683217Z"
    }
   },
   "outputs": [],
   "source": [
    "from reportlab.lib.pagesizes import letter, landscape\n",
    "from reportlab.pdfbase.ttfonts import TTFont  \n",
    "from reportlab.pdfbase import pdfmetrics\n",
    "from reportlab.platypus import Table, TableStyle, PageBreak, SimpleDocTemplate\n",
    "from reportlab.lib import colors\n",
    "\n",
    "pdfmetrics.registerFont(TTFont(\"mangal\", \"font/Lohit-Devanagari.ttf\"))"
   ]
  },
  {
   "cell_type": "code",
   "execution_count": 260,
   "metadata": {
    "ExecuteTime": {
     "end_time": "2020-10-29T12:16:21.416308Z",
     "start_time": "2020-10-29T12:16:21.397361Z"
    }
   },
   "outputs": [],
   "source": [
    "df_customerwise.drop(columns=['delivery_date', 'email', 'packing_size', 'final_weight', 'unit', 'total_amt'], inplace=True)"
   ]
  },
  {
   "cell_type": "code",
   "execution_count": 261,
   "metadata": {
    "ExecuteTime": {
     "end_time": "2020-10-29T12:16:22.142741Z",
     "start_time": "2020-10-29T12:16:22.136758Z"
    }
   },
   "outputs": [],
   "source": [
    "# get index of num_packets, marathi_name\n",
    "for i, col in enumerate(df_customerwise.columns): \n",
    "    if col == highlight_col: qty_index = i\n",
    "    if col == 'marathi_name': marathi_index = i"
   ]
  },
  {
   "cell_type": "code",
   "execution_count": 262,
   "metadata": {
    "ExecuteTime": {
     "end_time": "2020-10-29T12:16:22.716420Z",
     "start_time": "2020-10-29T12:16:22.696444Z"
    }
   },
   "outputs": [],
   "source": [
    "def create_pdf(data):\n",
    "    \n",
    "    pdfy_data = data.to_numpy().tolist()\n",
    "    pdfy_data.insert(0, data.columns.values.tolist())\n",
    "\n",
    "#     pdf = SimpleDocTemplate(\n",
    "#         fname,\n",
    "#         pagesize=landscape(letter),\n",
    "#     #     font='mangal'\n",
    "#     )\n",
    "\n",
    "    table = Table(pdfy_data)\n",
    "\n",
    "    style = TableStyle([\n",
    "    #     ('BACKGROUND', (0,0), (3,0), colors.green),\n",
    "    #     ('TEXTCOLOR',(0,0),(-1,0),colors.whitesmoke),\n",
    "\n",
    "        ('ALIGN',(0,0),(-1,-1),'CENTER'),\n",
    "    #     ('FONTNAME', (0,0), (-1,0), 'Courier-Bold'),\n",
    "        ('FONTSIZE', (0,0), (-1,0), 10),\n",
    "        ('BOTTOMPADDING', (0,0), (-1,0), 12),\n",
    "        ('FONTNAME',(marathi_index,1),(marathi_index,-1),'mangal'),\n",
    "        ('BACKGROUND',(0,0),(-1,0),colors.burlywood),\n",
    "        ('BACKGROUND',(qty_index,-1),(qty_index,-1),colors.springgreen)\n",
    "    ])\n",
    "    \n",
    "    table.setStyle(style)\n",
    "\n",
    "    rowNumb = len(pdfy_data)\n",
    "    for i in range(1, rowNumb-1):\n",
    "        if pdfy_data[i][qty_index] > 1:\n",
    "            bc = colors.aqua\n",
    "        else:\n",
    "            bc = colors.white\n",
    "        ts = TableStyle(\n",
    "            [('BACKGROUND', (0,i),(-1,i), bc)]\n",
    "        )\n",
    "        table.setStyle(ts)\n",
    "\n",
    "    # 3) Add borders\n",
    "    ts = TableStyle(\n",
    "        [\n",
    "    #     ('BOX',(0,0),(-1,-1),2,colors.black),\n",
    "\n",
    "    #     ('LINEBEFORE',(2,1),(2,-1),2,colors.red),\n",
    "    #     ('LINEABOVE',(0,2),(-1,2),2,colors.green),\n",
    "\n",
    "        ('GRID',(0,0),(-1,-2),2,colors.black),\n",
    "        ]\n",
    "    )\n",
    "    table.setStyle(ts)\n",
    "\n",
    "#     elems = []\n",
    "    elems.append(table)\n",
    "    elems.append(PageBreak())\n",
    "    \n",
    "#     pdf.build(elems)"
   ]
  },
  {
   "cell_type": "code",
   "execution_count": 263,
   "metadata": {
    "ExecuteTime": {
     "end_time": "2020-10-29T12:16:23.457726Z",
     "start_time": "2020-10-29T12:16:23.450776Z"
    }
   },
   "outputs": [],
   "source": [
    "fname = str(PDF_DIR/('customerwise-' + str(FILE.stem) + '.pdf'))"
   ]
  },
  {
   "cell_type": "code",
   "execution_count": 264,
   "metadata": {
    "ExecuteTime": {
     "end_time": "2020-10-29T12:16:24.016367Z",
     "start_time": "2020-10-29T12:16:23.999398Z"
    }
   },
   "outputs": [],
   "source": [
    "pdf = SimpleDocTemplate(\n",
    "        fname,\n",
    "        pagesize=landscape(letter),\n",
    "    #     font='mangal'\n",
    "    )\n",
    "\n",
    "elems = []"
   ]
  },
  {
   "cell_type": "code",
   "execution_count": 265,
   "metadata": {
    "ExecuteTime": {
     "end_time": "2020-10-29T12:16:24.769464Z",
     "start_time": "2020-10-29T12:16:24.202406Z"
    }
   },
   "outputs": [],
   "source": [
    "all_data = 0\n",
    "\n",
    "for cust in custs:\n",
    "    data = df_customerwise[df_customerwise.name == cust.split('_')[0]]\n",
    "    data = data[data.token_no == int(cust.split('_')[1])]\n",
    "    \n",
    "    data.token_no = data.token_no.astype(int)\n",
    "    data.num_packets = data.num_packets.astype(int)\n",
    "    \n",
    "    all_data += len(data.index)\n",
    "    \n",
    "    data = data.append({'num_packets': get_sum_packets(\n",
    "        int(cust.split('_')[1]))}, ignore_index=True)\n",
    "\n",
    "    data = data.fillna('')\n",
    "    create_pdf(data)\n",
    "\n",
    "assert all_data == len(df_customerwise)"
   ]
  },
  {
   "cell_type": "code",
   "execution_count": 266,
   "metadata": {
    "ExecuteTime": {
     "end_time": "2020-10-29T12:16:25.103009Z",
     "start_time": "2020-10-29T12:16:24.800305Z"
    }
   },
   "outputs": [],
   "source": [
    "pdf.build(elems)"
   ]
  },
  {
   "cell_type": "code",
   "execution_count": null,
   "metadata": {},
   "outputs": [],
   "source": []
  },
  {
   "cell_type": "code",
   "execution_count": null,
   "metadata": {},
   "outputs": [],
   "source": []
  },
  {
   "cell_type": "code",
   "execution_count": null,
   "metadata": {},
   "outputs": [],
   "source": []
  },
  {
   "cell_type": "markdown",
   "metadata": {},
   "source": [
    "# Printout File"
   ]
  },
  {
   "cell_type": "code",
   "execution_count": 108,
   "metadata": {
    "ExecuteTime": {
     "end_time": "2020-10-26T18:03:25.740401Z",
     "start_time": "2020-10-26T18:03:25.730425Z"
    }
   },
   "outputs": [],
   "source": [
    "# decision for vegetables vs seasonal fruits"
   ]
  },
  {
   "cell_type": "code",
   "execution_count": 267,
   "metadata": {
    "ExecuteTime": {
     "end_time": "2020-10-29T12:16:26.876606Z",
     "start_time": "2020-10-29T12:16:26.871619Z"
    }
   },
   "outputs": [],
   "source": [
    "def is_trans(x, thresh=85):\n",
    "    rmax = -1\n",
    "    trans = ''\n",
    "    for k in eng2marathi.keys():\n",
    "        if fuzz.ratio(k, x) > rmax:\n",
    "            rmax = fuzz.ratio(k, x)\n",
    "            trans = eng2marathi[k]\n",
    "\n",
    "    return rmax > thresh"
   ]
  },
  {
   "cell_type": "code",
   "execution_count": 268,
   "metadata": {
    "ExecuteTime": {
     "end_time": "2020-10-29T12:16:27.095289Z",
     "start_time": "2020-10-29T12:16:27.072346Z"
    }
   },
   "outputs": [],
   "source": [
    "translations = [is_trans(i) for i in all_items]"
   ]
  },
  {
   "cell_type": "code",
   "execution_count": 269,
   "metadata": {
    "ExecuteTime": {
     "end_time": "2020-10-29T12:16:27.576890Z",
     "start_time": "2020-10-29T12:16:27.571876Z"
    }
   },
   "outputs": [],
   "source": [
    "pipe_separated = sum(translations)/len(translations) < 0.4 # less than 40% translations are present"
   ]
  },
  {
   "cell_type": "code",
   "execution_count": 270,
   "metadata": {
    "ExecuteTime": {
     "end_time": "2020-10-29T12:16:27.794415Z",
     "start_time": "2020-10-29T12:16:27.789458Z"
    }
   },
   "outputs": [
    {
     "data": {
      "text/plain": [
       "False"
      ]
     },
     "execution_count": 270,
     "metadata": {},
     "output_type": "execute_result"
    }
   ],
   "source": [
    "pipe_separated"
   ]
  },
  {
   "cell_type": "markdown",
   "metadata": {},
   "source": [
    "## Sudeep"
   ]
  },
  {
   "cell_type": "code",
   "execution_count": 271,
   "metadata": {
    "ExecuteTime": {
     "end_time": "2020-10-29T12:16:28.709966Z",
     "start_time": "2020-10-29T12:16:28.702979Z"
    }
   },
   "outputs": [],
   "source": [
    "def get_pipe_separated(token):\n",
    "    order = orders_dict[token]['order']\n",
    "    s=[]\n",
    "    for k, v in order.items():\n",
    "        s.append(k + ': ' + str(int(v)))\n",
    "    \n",
    "    return ' | '.join(s)"
   ]
  },
  {
   "cell_type": "code",
   "execution_count": 272,
   "metadata": {
    "ExecuteTime": {
     "end_time": "2020-10-29T12:16:28.913946Z",
     "start_time": "2020-10-29T12:16:28.905996Z"
    }
   },
   "outputs": [],
   "source": [
    "rows_list_sudeep = []\n",
    "for token, o in orders_dict.items():\n",
    "    row_dct = {}\n",
    "    row_dct['token_no'] = token\n",
    "    row_dct['name'] = o['name']\n",
    "    row_dct['drop_point'] = o['drop_point']\n",
    "    row_dct['building'] = o['building']\n",
    "    row_dct['wing'] = o['wing']\n",
    "    row_dct['flat_no'] = o['flat_no']\n",
    "    row_dct['phone_no'] = o['phone_no']\n",
    "    row_dct['email'] = o['email']\n",
    "    \n",
    "    if pipe_separated: row_dct['items'] = get_pipe_separated(token)\n",
    "    else: row_dct['num_packets'] = get_sum_packets(token)\n",
    "    \n",
    "    row_dct['total_amount'] = o['total_amount']\n",
    "    row_dct['total_cp'] = o['total_cost_price']\n",
    "    row_dct['profit'] = o['profit']\n",
    "    \n",
    "    \n",
    "    rows_list_sudeep.append(row_dct)"
   ]
  },
  {
   "cell_type": "code",
   "execution_count": 273,
   "metadata": {
    "ExecuteTime": {
     "end_time": "2020-10-29T12:16:29.875449Z",
     "start_time": "2020-10-29T12:16:29.870464Z"
    }
   },
   "outputs": [],
   "source": [
    "df_print_sudeep = pd.DataFrame(rows_list_sudeep)"
   ]
  },
  {
   "cell_type": "code",
   "execution_count": 274,
   "metadata": {
    "ExecuteTime": {
     "end_time": "2020-10-29T12:16:30.094416Z",
     "start_time": "2020-10-29T12:16:30.074467Z"
    }
   },
   "outputs": [
    {
     "data": {
      "text/html": [
       "<div>\n",
       "<style scoped>\n",
       "    .dataframe tbody tr th:only-of-type {\n",
       "        vertical-align: middle;\n",
       "    }\n",
       "\n",
       "    .dataframe tbody tr th {\n",
       "        vertical-align: top;\n",
       "    }\n",
       "\n",
       "    .dataframe thead th {\n",
       "        text-align: right;\n",
       "    }\n",
       "</style>\n",
       "<table border=\"1\" class=\"dataframe\">\n",
       "  <thead>\n",
       "    <tr style=\"text-align: right;\">\n",
       "      <th></th>\n",
       "      <th>token_no</th>\n",
       "      <th>name</th>\n",
       "      <th>drop_point</th>\n",
       "      <th>building</th>\n",
       "      <th>wing</th>\n",
       "      <th>flat_no</th>\n",
       "      <th>phone_no</th>\n",
       "      <th>email</th>\n",
       "      <th>num_packets</th>\n",
       "      <th>total_amount</th>\n",
       "      <th>total_cp</th>\n",
       "      <th>profit</th>\n",
       "    </tr>\n",
       "  </thead>\n",
       "  <tbody>\n",
       "    <tr>\n",
       "      <th>0</th>\n",
       "      <td>1</td>\n",
       "      <td>Rashmita; Sundaram</td>\n",
       "      <td>Ajmera iLand</td>\n",
       "      <td>Aeon</td>\n",
       "      <td>A Wing</td>\n",
       "      <td>1202</td>\n",
       "      <td>9004913659</td>\n",
       "      <td>Rashmita.sundaram@gmail.com</td>\n",
       "      <td>14.0</td>\n",
       "      <td>733</td>\n",
       "      <td>14.0</td>\n",
       "      <td>719.0</td>\n",
       "    </tr>\n",
       "    <tr>\n",
       "      <th>1</th>\n",
       "      <td>2</td>\n",
       "      <td>Trisha; Chatterji</td>\n",
       "      <td>Ajmera iLand</td>\n",
       "      <td>Aeon</td>\n",
       "      <td>B Wing</td>\n",
       "      <td>1903</td>\n",
       "      <td>9004659863</td>\n",
       "      <td>Trisha.chatterji@gmail.com</td>\n",
       "      <td>26.0</td>\n",
       "      <td>1145</td>\n",
       "      <td>26.0</td>\n",
       "      <td>1119.0</td>\n",
       "    </tr>\n",
       "    <tr>\n",
       "      <th>2</th>\n",
       "      <td>3</td>\n",
       "      <td>Preety; Agarwal</td>\n",
       "      <td>Ajmera iLand</td>\n",
       "      <td>Aeon</td>\n",
       "      <td>B Wing</td>\n",
       "      <td>803</td>\n",
       "      <td>9921001132</td>\n",
       "      <td>preetyanil@yahoo.co.in</td>\n",
       "      <td>11.0</td>\n",
       "      <td>381</td>\n",
       "      <td>11.0</td>\n",
       "      <td>370.0</td>\n",
       "    </tr>\n",
       "    <tr>\n",
       "      <th>3</th>\n",
       "      <td>4</td>\n",
       "      <td>rashmi; singh</td>\n",
       "      <td>Ajmera iLand</td>\n",
       "      <td>Aeon</td>\n",
       "      <td>B Wing</td>\n",
       "      <td>1603</td>\n",
       "      <td>9902532129</td>\n",
       "      <td>rashmishailesh1203@gmail.com</td>\n",
       "      <td>18.0</td>\n",
       "      <td>719</td>\n",
       "      <td>18.0</td>\n",
       "      <td>701.0</td>\n",
       "    </tr>\n",
       "    <tr>\n",
       "      <th>4</th>\n",
       "      <td>5</td>\n",
       "      <td>Geeta; Suthar</td>\n",
       "      <td>Ajmera iLand</td>\n",
       "      <td>Zeon</td>\n",
       "      <td>A Wing</td>\n",
       "      <td>2803</td>\n",
       "      <td>9820019935</td>\n",
       "      <td>geetsd@gmail.com</td>\n",
       "      <td>34.0</td>\n",
       "      <td>1419</td>\n",
       "      <td>34.0</td>\n",
       "      <td>1385.0</td>\n",
       "    </tr>\n",
       "  </tbody>\n",
       "</table>\n",
       "</div>"
      ],
      "text/plain": [
       "   token_no                name    drop_point building    wing flat_no  \\\n",
       "0         1  Rashmita; Sundaram  Ajmera iLand     Aeon  A Wing    1202   \n",
       "1         2   Trisha; Chatterji  Ajmera iLand     Aeon  B Wing    1903   \n",
       "2         3     Preety; Agarwal  Ajmera iLand     Aeon  B Wing     803   \n",
       "3         4       rashmi; singh  Ajmera iLand     Aeon  B Wing    1603   \n",
       "4         5       Geeta; Suthar  Ajmera iLand     Zeon  A Wing    2803   \n",
       "\n",
       "     phone_no                         email  num_packets  total_amount  \\\n",
       "0  9004913659   Rashmita.sundaram@gmail.com         14.0           733   \n",
       "1  9004659863    Trisha.chatterji@gmail.com         26.0          1145   \n",
       "2  9921001132        preetyanil@yahoo.co.in         11.0           381   \n",
       "3  9902532129  rashmishailesh1203@gmail.com         18.0           719   \n",
       "4  9820019935              geetsd@gmail.com         34.0          1419   \n",
       "\n",
       "   total_cp  profit  \n",
       "0      14.0   719.0  \n",
       "1      26.0  1119.0  \n",
       "2      11.0   370.0  \n",
       "3      18.0   701.0  \n",
       "4      34.0  1385.0  "
      ]
     },
     "execution_count": 274,
     "metadata": {},
     "output_type": "execute_result"
    }
   ],
   "source": [
    "df_print_sudeep.head()"
   ]
  },
  {
   "cell_type": "code",
   "execution_count": 275,
   "metadata": {
    "ExecuteTime": {
     "end_time": "2020-10-29T12:16:30.624406Z",
     "start_time": "2020-10-29T12:16:30.606419Z"
    }
   },
   "outputs": [
    {
     "data": {
      "text/plain": [
       "WindowsPath('C:/Playground/bhaiya-orders/zoho-bhor-farms/outputs/Final Input 30th Oct Veg (1)')"
      ]
     },
     "execution_count": 275,
     "metadata": {},
     "output_type": "execute_result"
    }
   ],
   "source": [
    "save_pth"
   ]
  },
  {
   "cell_type": "code",
   "execution_count": 276,
   "metadata": {
    "ExecuteTime": {
     "end_time": "2020-10-29T12:16:31.197186Z",
     "start_time": "2020-10-29T12:16:31.190054Z"
    }
   },
   "outputs": [],
   "source": [
    "df_print_sudeep.to_csv(save_pth/'print-sudeep.csv', index=False)"
   ]
  },
  {
   "cell_type": "markdown",
   "metadata": {},
   "source": [
    "## Vishal"
   ]
  },
  {
   "cell_type": "code",
   "execution_count": 277,
   "metadata": {
    "ExecuteTime": {
     "end_time": "2020-10-29T12:16:32.102911Z",
     "start_time": "2020-10-29T12:16:32.084943Z"
    }
   },
   "outputs": [],
   "source": [
    "rows_list_vishal = []\n",
    "for token, o in orders_dict.items():\n",
    "    row_dct = {}\n",
    "    row_dct['token_no'] = token\n",
    "    row_dct['name'] = o['name']\n",
    "    row_dct['drop_point'] = o['drop_point']\n",
    "    row_dct['building'] = o['building']\n",
    "    row_dct['wing'] = o['wing']\n",
    "    row_dct['flat_no'] = o['flat_no']\n",
    "#     row_dct['phone_no'] = o['phone_no']\n",
    "#     row_dct['email'] = o['email']\n",
    "\n",
    "    if pipe_separated: row_dct['items'] = get_pipe_separated(token)\n",
    "    else: row_dct['num_packets'] = get_sum_packets(token)    \n",
    "    \n",
    "    if 'total_amount' in o.keys():\n",
    "        row_dct['total_amount'] = o['total_amount']\n",
    "    \n",
    "    rows_list_vishal.append(row_dct)"
   ]
  },
  {
   "cell_type": "code",
   "execution_count": 278,
   "metadata": {
    "ExecuteTime": {
     "end_time": "2020-10-29T12:16:32.304758Z",
     "start_time": "2020-10-29T12:16:32.292788Z"
    }
   },
   "outputs": [],
   "source": [
    "df_print_vishal = pd.DataFrame(rows_list_vishal)"
   ]
  },
  {
   "cell_type": "code",
   "execution_count": 279,
   "metadata": {
    "ExecuteTime": {
     "end_time": "2020-10-29T12:16:33.005368Z",
     "start_time": "2020-10-29T12:16:32.982429Z"
    }
   },
   "outputs": [
    {
     "data": {
      "text/html": [
       "<div>\n",
       "<style scoped>\n",
       "    .dataframe tbody tr th:only-of-type {\n",
       "        vertical-align: middle;\n",
       "    }\n",
       "\n",
       "    .dataframe tbody tr th {\n",
       "        vertical-align: top;\n",
       "    }\n",
       "\n",
       "    .dataframe thead th {\n",
       "        text-align: right;\n",
       "    }\n",
       "</style>\n",
       "<table border=\"1\" class=\"dataframe\">\n",
       "  <thead>\n",
       "    <tr style=\"text-align: right;\">\n",
       "      <th></th>\n",
       "      <th>token_no</th>\n",
       "      <th>name</th>\n",
       "      <th>drop_point</th>\n",
       "      <th>building</th>\n",
       "      <th>wing</th>\n",
       "      <th>flat_no</th>\n",
       "      <th>num_packets</th>\n",
       "      <th>total_amount</th>\n",
       "    </tr>\n",
       "  </thead>\n",
       "  <tbody>\n",
       "    <tr>\n",
       "      <th>0</th>\n",
       "      <td>1</td>\n",
       "      <td>Rashmita; Sundaram</td>\n",
       "      <td>Ajmera iLand</td>\n",
       "      <td>Aeon</td>\n",
       "      <td>A Wing</td>\n",
       "      <td>1202</td>\n",
       "      <td>14.0</td>\n",
       "      <td>733</td>\n",
       "    </tr>\n",
       "    <tr>\n",
       "      <th>1</th>\n",
       "      <td>2</td>\n",
       "      <td>Trisha; Chatterji</td>\n",
       "      <td>Ajmera iLand</td>\n",
       "      <td>Aeon</td>\n",
       "      <td>B Wing</td>\n",
       "      <td>1903</td>\n",
       "      <td>26.0</td>\n",
       "      <td>1145</td>\n",
       "    </tr>\n",
       "    <tr>\n",
       "      <th>2</th>\n",
       "      <td>3</td>\n",
       "      <td>Preety; Agarwal</td>\n",
       "      <td>Ajmera iLand</td>\n",
       "      <td>Aeon</td>\n",
       "      <td>B Wing</td>\n",
       "      <td>803</td>\n",
       "      <td>11.0</td>\n",
       "      <td>381</td>\n",
       "    </tr>\n",
       "    <tr>\n",
       "      <th>3</th>\n",
       "      <td>4</td>\n",
       "      <td>rashmi; singh</td>\n",
       "      <td>Ajmera iLand</td>\n",
       "      <td>Aeon</td>\n",
       "      <td>B Wing</td>\n",
       "      <td>1603</td>\n",
       "      <td>18.0</td>\n",
       "      <td>719</td>\n",
       "    </tr>\n",
       "    <tr>\n",
       "      <th>4</th>\n",
       "      <td>5</td>\n",
       "      <td>Geeta; Suthar</td>\n",
       "      <td>Ajmera iLand</td>\n",
       "      <td>Zeon</td>\n",
       "      <td>A Wing</td>\n",
       "      <td>2803</td>\n",
       "      <td>34.0</td>\n",
       "      <td>1419</td>\n",
       "    </tr>\n",
       "  </tbody>\n",
       "</table>\n",
       "</div>"
      ],
      "text/plain": [
       "   token_no                name    drop_point building    wing flat_no  \\\n",
       "0         1  Rashmita; Sundaram  Ajmera iLand     Aeon  A Wing    1202   \n",
       "1         2   Trisha; Chatterji  Ajmera iLand     Aeon  B Wing    1903   \n",
       "2         3     Preety; Agarwal  Ajmera iLand     Aeon  B Wing     803   \n",
       "3         4       rashmi; singh  Ajmera iLand     Aeon  B Wing    1603   \n",
       "4         5       Geeta; Suthar  Ajmera iLand     Zeon  A Wing    2803   \n",
       "\n",
       "   num_packets  total_amount  \n",
       "0         14.0           733  \n",
       "1         26.0          1145  \n",
       "2         11.0           381  \n",
       "3         18.0           719  \n",
       "4         34.0          1419  "
      ]
     },
     "execution_count": 279,
     "metadata": {},
     "output_type": "execute_result"
    }
   ],
   "source": [
    "df_print_vishal.head()"
   ]
  },
  {
   "cell_type": "code",
   "execution_count": 280,
   "metadata": {
    "ExecuteTime": {
     "end_time": "2020-10-29T12:16:33.208534Z",
     "start_time": "2020-10-29T12:16:33.187825Z"
    }
   },
   "outputs": [],
   "source": [
    "df_print_vishal.to_csv(save_pth/'print-vishal.csv', index=False)"
   ]
  },
  {
   "cell_type": "markdown",
   "metadata": {},
   "source": [
    "## Dropwise "
   ]
  },
  {
   "cell_type": "code",
   "execution_count": 281,
   "metadata": {
    "ExecuteTime": {
     "end_time": "2020-10-29T12:16:34.500553Z",
     "start_time": "2020-10-29T12:16:34.484415Z"
    }
   },
   "outputs": [],
   "source": [
    "df_print_vishal.drop_point = df_print_vishal.drop_point.fillna('')"
   ]
  },
  {
   "cell_type": "code",
   "execution_count": 282,
   "metadata": {
    "ExecuteTime": {
     "end_time": "2020-10-29T12:16:34.735235Z",
     "start_time": "2020-10-29T12:16:34.719279Z"
    }
   },
   "outputs": [],
   "source": [
    "drops = df_print_vishal.drop_point.unique()"
   ]
  },
  {
   "cell_type": "code",
   "execution_count": 283,
   "metadata": {
    "ExecuteTime": {
     "end_time": "2020-10-29T12:16:34.936601Z",
     "start_time": "2020-10-29T12:16:34.920645Z"
    }
   },
   "outputs": [],
   "source": [
    "# fname = save_pth/\"dropwise-phool.xlsx\"\n",
    "fname = save_pth/('dropwise-' + str(FILE.stem) + '.xlsx')"
   ]
  },
  {
   "cell_type": "code",
   "execution_count": 284,
   "metadata": {
    "ExecuteTime": {
     "end_time": "2020-10-29T12:16:35.184202Z",
     "start_time": "2020-10-29T12:16:35.169731Z"
    }
   },
   "outputs": [
    {
     "data": {
      "text/plain": [
       "array(['Ajmera iLand', 'Cosmic', 'Dosti Acres', 'Ivory', 'Lake Homes',\n",
       "       'Lodha NCP', 'R12', 'R2', 'Raheja', 'Sector 1/2'], dtype=object)"
      ]
     },
     "execution_count": 284,
     "metadata": {},
     "output_type": "execute_result"
    }
   ],
   "source": [
    "drops"
   ]
  },
  {
   "cell_type": "code",
   "execution_count": 285,
   "metadata": {
    "ExecuteTime": {
     "end_time": "2020-10-29T12:16:35.821119Z",
     "start_time": "2020-10-29T12:16:35.802136Z"
    }
   },
   "outputs": [
    {
     "data": {
      "text/html": [
       "<div>\n",
       "<style scoped>\n",
       "    .dataframe tbody tr th:only-of-type {\n",
       "        vertical-align: middle;\n",
       "    }\n",
       "\n",
       "    .dataframe tbody tr th {\n",
       "        vertical-align: top;\n",
       "    }\n",
       "\n",
       "    .dataframe thead th {\n",
       "        text-align: right;\n",
       "    }\n",
       "</style>\n",
       "<table border=\"1\" class=\"dataframe\">\n",
       "  <thead>\n",
       "    <tr style=\"text-align: right;\">\n",
       "      <th></th>\n",
       "      <th>token_no</th>\n",
       "      <th>name</th>\n",
       "      <th>drop_point</th>\n",
       "      <th>building</th>\n",
       "      <th>wing</th>\n",
       "      <th>flat_no</th>\n",
       "      <th>phone_no</th>\n",
       "      <th>email</th>\n",
       "      <th>num_packets</th>\n",
       "      <th>total_amount</th>\n",
       "      <th>total_cp</th>\n",
       "      <th>profit</th>\n",
       "    </tr>\n",
       "  </thead>\n",
       "  <tbody>\n",
       "  </tbody>\n",
       "</table>\n",
       "</div>"
      ],
      "text/plain": [
       "Empty DataFrame\n",
       "Columns: [token_no, name, drop_point, building, wing, flat_no, phone_no, email, num_packets, total_amount, total_cp, profit]\n",
       "Index: []"
      ]
     },
     "execution_count": 285,
     "metadata": {},
     "output_type": "execute_result"
    }
   ],
   "source": [
    "df_print_sudeep.loc[df_print_sudeep.drop_point == 0]"
   ]
  },
  {
   "cell_type": "code",
   "execution_count": 286,
   "metadata": {
    "ExecuteTime": {
     "end_time": "2020-10-29T12:16:36.035962Z",
     "start_time": "2020-10-29T12:16:36.020594Z"
    }
   },
   "outputs": [],
   "source": [
    "df_print_sudeep.loc[df_print_sudeep.drop_point == 0, 'drop_point'] = ['']"
   ]
  },
  {
   "cell_type": "code",
   "execution_count": 287,
   "metadata": {
    "ExecuteTime": {
     "end_time": "2020-10-29T12:16:36.409428Z",
     "start_time": "2020-10-29T12:16:36.252866Z"
    }
   },
   "outputs": [],
   "source": [
    "all_data = 0\n",
    "\n",
    "with pd.ExcelWriter(fname) as writer:\n",
    "    for drop in drops:\n",
    "        data = df_print_vishal[df_print_vishal.drop_point == drop]\n",
    "        all_data += len(data.index)\n",
    "\n",
    "        invalid_chars = '[]:*?/\\\\'\n",
    "        for c in invalid_chars: drop = drop.replace(c, '')\n",
    "        \n",
    "        data.to_excel(writer, sheet_name=drop, index=False)\n",
    "    \n",
    "assert all_data == len(df_print_vishal)"
   ]
  },
  {
   "cell_type": "markdown",
   "metadata": {},
   "source": [
    "## Tokens"
   ]
  },
  {
   "cell_type": "code",
   "execution_count": 288,
   "metadata": {
    "ExecuteTime": {
     "end_time": "2020-10-29T12:16:37.764926Z",
     "start_time": "2020-10-29T12:16:37.749975Z"
    }
   },
   "outputs": [],
   "source": [
    "subset_cols = ['name', 'token_no', 'building', 'wing', 'flat_no']"
   ]
  },
  {
   "cell_type": "code",
   "execution_count": 289,
   "metadata": {
    "ExecuteTime": {
     "end_time": "2020-10-29T12:16:38.119910Z",
     "start_time": "2020-10-29T12:16:38.107942Z"
    }
   },
   "outputs": [],
   "source": [
    "df_tokens = df_print_vishal[subset_cols]"
   ]
  },
  {
   "cell_type": "code",
   "execution_count": 290,
   "metadata": {
    "ExecuteTime": {
     "end_time": "2020-10-29T12:16:38.415942Z",
     "start_time": "2020-10-29T12:16:38.412920Z"
    }
   },
   "outputs": [],
   "source": [
    "drops = df_print_vishal.drop_point.unique()"
   ]
  },
  {
   "cell_type": "code",
   "execution_count": 291,
   "metadata": {
    "ExecuteTime": {
     "end_time": "2020-10-29T12:16:38.743653Z",
     "start_time": "2020-10-29T12:16:38.738665Z"
    }
   },
   "outputs": [],
   "source": [
    "# fname = save_pth/\"tokens-phool.xlsx\"\n",
    "fname = save_pth/('tokens-' + str(FILE.stem) + '.xlsx')"
   ]
  },
  {
   "cell_type": "code",
   "execution_count": 292,
   "metadata": {
    "ExecuteTime": {
     "end_time": "2020-10-29T12:16:39.846906Z",
     "start_time": "2020-10-29T12:16:39.685023Z"
    }
   },
   "outputs": [],
   "source": [
    "all_data = 0\n",
    "\n",
    "with pd.ExcelWriter(fname) as writer:\n",
    "    for drop in drops:\n",
    "        data = df_print_vishal[df_print_vishal.drop_point == drop]\n",
    "        all_data += len(data.index)\n",
    "        \n",
    "        invalid_chars = '[]:*?/\\\\'\n",
    "        for c in invalid_chars: drop = drop.replace(c, '')\n",
    "        \n",
    "        data.to_excel(writer, sheet_name=drop, columns=subset_cols, index=False)\n",
    "    \n",
    "assert all_data == len(df_print_vishal)"
   ]
  },
  {
   "cell_type": "markdown",
   "metadata": {},
   "source": [
    "# Dropwise Count"
   ]
  },
  {
   "cell_type": "code",
   "execution_count": 293,
   "metadata": {
    "ExecuteTime": {
     "end_time": "2020-10-29T12:16:40.532515Z",
     "start_time": "2020-10-29T12:16:40.510545Z"
    }
   },
   "outputs": [],
   "source": [
    "rows_list = []\n",
    "for token, order in orders_dict.items():\n",
    "    for item, count in order['order'].items():\n",
    "        row_dct = {}\n",
    "        row_dct['drop_point'] = order['drop_point']\n",
    "        row_dct['item_name'] = item\n",
    "        row_dct['num_packets'] = count\n",
    "        \n",
    "        rows_list.append(row_dct)"
   ]
  },
  {
   "cell_type": "code",
   "execution_count": 294,
   "metadata": {
    "ExecuteTime": {
     "end_time": "2020-10-29T12:16:45.787907Z",
     "start_time": "2020-10-29T12:16:45.775933Z"
    }
   },
   "outputs": [],
   "source": [
    "df_dropwise = pd.DataFrame(rows_list)"
   ]
  },
  {
   "cell_type": "code",
   "execution_count": 295,
   "metadata": {
    "ExecuteTime": {
     "end_time": "2020-10-29T12:16:46.546870Z",
     "start_time": "2020-10-29T12:16:46.526957Z"
    }
   },
   "outputs": [
    {
     "data": {
      "text/html": [
       "<div>\n",
       "<style scoped>\n",
       "    .dataframe tbody tr th:only-of-type {\n",
       "        vertical-align: middle;\n",
       "    }\n",
       "\n",
       "    .dataframe tbody tr th {\n",
       "        vertical-align: top;\n",
       "    }\n",
       "\n",
       "    .dataframe thead th {\n",
       "        text-align: right;\n",
       "    }\n",
       "</style>\n",
       "<table border=\"1\" class=\"dataframe\">\n",
       "  <thead>\n",
       "    <tr style=\"text-align: right;\">\n",
       "      <th></th>\n",
       "      <th>drop_point</th>\n",
       "      <th>item_name</th>\n",
       "      <th>num_packets</th>\n",
       "    </tr>\n",
       "  </thead>\n",
       "  <tbody>\n",
       "    <tr>\n",
       "      <th>0</th>\n",
       "      <td>Ajmera iLand</td>\n",
       "      <td>Red Onions</td>\n",
       "      <td>2.0</td>\n",
       "    </tr>\n",
       "    <tr>\n",
       "      <th>1</th>\n",
       "      <td>Ajmera iLand</td>\n",
       "      <td>Brinjal Kateri</td>\n",
       "      <td>1.0</td>\n",
       "    </tr>\n",
       "    <tr>\n",
       "      <th>2</th>\n",
       "      <td>Ajmera iLand</td>\n",
       "      <td>Bhindi/Lady's Finger</td>\n",
       "      <td>2.0</td>\n",
       "    </tr>\n",
       "    <tr>\n",
       "      <th>3</th>\n",
       "      <td>Ajmera iLand</td>\n",
       "      <td>Button Mushroom</td>\n",
       "      <td>1.0</td>\n",
       "    </tr>\n",
       "    <tr>\n",
       "      <th>4</th>\n",
       "      <td>Ajmera iLand</td>\n",
       "      <td>Bottle Gourd</td>\n",
       "      <td>1.0</td>\n",
       "    </tr>\n",
       "    <tr>\n",
       "      <th>...</th>\n",
       "      <td>...</td>\n",
       "      <td>...</td>\n",
       "      <td>...</td>\n",
       "    </tr>\n",
       "    <tr>\n",
       "      <th>1044</th>\n",
       "      <td>Sector 1/2</td>\n",
       "      <td>Red Onions</td>\n",
       "      <td>1.0</td>\n",
       "    </tr>\n",
       "    <tr>\n",
       "      <th>1045</th>\n",
       "      <td>Sector 1/2</td>\n",
       "      <td>Button Mushroom</td>\n",
       "      <td>1.0</td>\n",
       "    </tr>\n",
       "    <tr>\n",
       "      <th>1046</th>\n",
       "      <td>Sector 1/2</td>\n",
       "      <td>Broccoli</td>\n",
       "      <td>1.0</td>\n",
       "    </tr>\n",
       "    <tr>\n",
       "      <th>1047</th>\n",
       "      <td>Sector 1/2</td>\n",
       "      <td>Green Chilly</td>\n",
       "      <td>1.0</td>\n",
       "    </tr>\n",
       "    <tr>\n",
       "      <th>1048</th>\n",
       "      <td>Sector 1/2</td>\n",
       "      <td>Red/Yellow Bell Peppers</td>\n",
       "      <td>1.0</td>\n",
       "    </tr>\n",
       "  </tbody>\n",
       "</table>\n",
       "<p>1049 rows × 3 columns</p>\n",
       "</div>"
      ],
      "text/plain": [
       "        drop_point                item_name  num_packets\n",
       "0     Ajmera iLand               Red Onions          2.0\n",
       "1     Ajmera iLand           Brinjal Kateri          1.0\n",
       "2     Ajmera iLand     Bhindi/Lady's Finger          2.0\n",
       "3     Ajmera iLand          Button Mushroom          1.0\n",
       "4     Ajmera iLand             Bottle Gourd          1.0\n",
       "...            ...                      ...          ...\n",
       "1044    Sector 1/2               Red Onions          1.0\n",
       "1045    Sector 1/2          Button Mushroom          1.0\n",
       "1046    Sector 1/2                 Broccoli          1.0\n",
       "1047    Sector 1/2             Green Chilly          1.0\n",
       "1048    Sector 1/2  Red/Yellow Bell Peppers          1.0\n",
       "\n",
       "[1049 rows x 3 columns]"
      ]
     },
     "execution_count": 295,
     "metadata": {},
     "output_type": "execute_result"
    }
   ],
   "source": [
    "df_dropwise"
   ]
  },
  {
   "cell_type": "code",
   "execution_count": 296,
   "metadata": {
    "ExecuteTime": {
     "end_time": "2020-10-29T12:16:47.947220Z",
     "start_time": "2020-10-29T12:16:47.932260Z"
    }
   },
   "outputs": [],
   "source": [
    "fname = save_pth/('dropwisecount-' + str(FILE.stem) + '.csv')"
   ]
  },
  {
   "cell_type": "code",
   "execution_count": 297,
   "metadata": {
    "ExecuteTime": {
     "end_time": "2020-10-29T12:16:48.338337Z",
     "start_time": "2020-10-29T12:16:48.321412Z"
    }
   },
   "outputs": [],
   "source": [
    "df_dropwise.groupby(['drop_point', 'item_name']).sum().reset_index().to_csv(fname, index=False)"
   ]
  },
  {
   "cell_type": "code",
   "execution_count": 298,
   "metadata": {
    "ExecuteTime": {
     "end_time": "2020-10-29T12:16:49.427634Z",
     "start_time": "2020-10-29T12:16:49.285103Z"
    }
   },
   "outputs": [],
   "source": [
    "!explorer C:/Playground/bhaiya-orders/zoho-bhor-farms/outputs/"
   ]
  },
  {
   "cell_type": "markdown",
   "metadata": {},
   "source": [
    "# Send Message Alerts"
   ]
  },
  {
   "cell_type": "code",
   "execution_count": 180,
   "metadata": {
    "ExecuteTime": {
     "end_time": "2020-10-29T12:04:55.795064Z",
     "start_time": "2020-10-29T12:04:54.997916Z"
    }
   },
   "outputs": [],
   "source": [
    "import http.client\n",
    "conn = http.client.HTTPSConnection(\"api.msg91.com\")"
   ]
  },
  {
   "cell_type": "code",
   "execution_count": 299,
   "metadata": {
    "ExecuteTime": {
     "end_time": "2020-10-29T12:18:14.057650Z",
     "start_time": "2020-10-29T12:18:14.050664Z"
    }
   },
   "outputs": [],
   "source": [
    "df.Phone = df.Phone.astype(str).apply(lambda x: ''.join(i for i in x if i.isdigit())[-10:])"
   ]
  },
  {
   "cell_type": "code",
   "execution_count": 182,
   "metadata": {
    "ExecuteTime": {
     "end_time": "2020-10-29T12:04:56.214362Z",
     "start_time": "2020-10-29T12:04:56.196359Z"
    }
   },
   "outputs": [],
   "source": [
    "headers = {\n",
    "    'authkey': \"329435AXayMy78QG5f914544P1\",\n",
    "    'content-type': \"application/json\"\n",
    "    }"
   ]
  },
  {
   "cell_type": "code",
   "execution_count": 183,
   "metadata": {
    "ExecuteTime": {
     "end_time": "2020-10-29T12:04:56.650675Z",
     "start_time": "2020-10-29T12:04:56.643724Z"
    }
   },
   "outputs": [
    {
     "data": {
      "text/plain": [
       "False"
      ]
     },
     "execution_count": 183,
     "metadata": {},
     "output_type": "execute_result"
    }
   ],
   "source": [
    "pipe_separated"
   ]
  },
  {
   "cell_type": "code",
   "execution_count": 184,
   "metadata": {
    "ExecuteTime": {
     "end_time": "2020-10-29T12:05:00.480635Z",
     "start_time": "2020-10-29T12:05:00.472639Z"
    }
   },
   "outputs": [],
   "source": [
    "def get_message(first_name, token, amount, mobile, payment_status, date, decision):\n",
    "    if decision: product = 'Fruits/Dry Fruits'\n",
    "    else: product = 'Vegetables'\n",
    "    \n",
    "    unsuccessful_message = f\"Hi {first_name},\\nYour {product} order with Token no {int(token)} from Bhor Farms is confirmed and will be delivered to your lobby by the evening of {date}.\\nYour bill amount is Rs {amount}. Please check your SMS/Email for payment link.\\nCall 6203507070 for any queries.\"\n",
    "    successful_message = f\"Hi {first_name},\\nYour {product} order with Token no {int(token)} from Bhor Farms is confirmed and will be delivered to your lobby by the evening of {date}.\\nCall 6203507070 for any queries.\"\n",
    "    \n",
    "    if payment_status == 'Completed':\n",
    "        msg_json = { \"sender\": \"BHRFMS\", \n",
    "                     \"route\": \"4\", \n",
    "                     \"country\": \"91\", \n",
    "                     \"sms\": [ \n",
    "                         { \"message\": successful_message, \n",
    "                          \"to\": [f\"{mobile}\"] } ] }\n",
    "        \n",
    "    else:\n",
    "        msg_json = { \"sender\": \"BHRFMS\", \n",
    "                     \"route\": \"4\", \n",
    "                     \"country\": \"91\", \n",
    "                     \"sms\": [ \n",
    "                         { \"message\": unsuccessful_message, \n",
    "                          \"to\": [f\"{mobile}\"] } ] }\n",
    "        \n",
    "    return str(msg_json).replace('\\'', '\\\"')"
   ]
  },
  {
   "cell_type": "code",
   "execution_count": 185,
   "metadata": {
    "ExecuteTime": {
     "end_time": "2020-10-29T12:05:23.477874Z",
     "start_time": "2020-10-29T12:05:10.359799Z"
    }
   },
   "outputs": [],
   "source": [
    "responses = {}\n",
    "\n",
    "for index, row in df.iterrows():\n",
    "    message = get_message(row['Name'].split(';')[0].capitalize(), \n",
    "                          row['Token No'], \n",
    "                          row['Total Amount'], \n",
    "                          row['Phone'], \n",
    "                          row['Payment Status'],\n",
    "                          row['Select Delivery Date'],\n",
    "                          pipe_separated\n",
    "                         )\n",
    "    \n",
    "    conn.request(\"POST\", \"/api/v2/sendsms\", message, headers)\n",
    "    res = conn.getresponse()\n",
    "    data = res.read()\n",
    "    responses[row['Phone']] = data.decode(\"utf-8\")"
   ]
  },
  {
   "cell_type": "code",
   "execution_count": 186,
   "metadata": {
    "ExecuteTime": {
     "end_time": "2020-10-29T12:05:24.408675Z",
     "start_time": "2020-10-29T12:05:24.402658Z"
    }
   },
   "outputs": [
    {
     "data": {
      "text/plain": [
       "{'9004913659': '{\"message\":\"5f9aaff6d6fc0512eb4afeec\",\"type\":\"success\"}',\n",
       " '9004659863': '{\"message\":\"5f9aaff7d6fc05564b6ee635\",\"type\":\"success\"}',\n",
       " '9921001132': '{\"message\":\"5f9aaff7d6fc0520ff63ea91\",\"type\":\"success\"}',\n",
       " '9902532129': '{\"message\":\"5f9aaff7d6fc0516d414e423\",\"type\":\"success\"}',\n",
       " '9820019935': '{\"message\":\"5f9aaff7d6fc0518b635dfe5\",\"type\":\"success\"}',\n",
       " '9930184202': '{\"message\":\"5f9aaff7d6fc0501d85cbb17\",\"type\":\"success\"}',\n",
       " '993080007': '{\"message\":\"5f9aaff7d6fc051a9e4d0426\",\"type\":\"success\"}',\n",
       " '9930800507': '{\"message\":\"5f9aaff7d6fc055a2107865d\",\"type\":\"success\"}',\n",
       " '9967052439': '{\"message\":\"5f9aaff8d6fc0551bc6adaff\",\"type\":\"success\"}',\n",
       " '9004700888': '{\"message\":\"5f9aaff8d6fc057e242fe511\",\"type\":\"success\"}',\n",
       " '9819373935': '{\"message\":\"5f9aaff8d6fc0557eb50f4a6\",\"type\":\"success\"}',\n",
       " '8291999397': '{\"message\":\"5f9aaff8d6fc052b247f4cff\",\"type\":\"success\"}',\n",
       " '9820255583': '{\"message\":\"5f9aaff8d6fc05292e44fb1d\",\"type\":\"success\"}',\n",
       " '9833567340': '{\"message\":\"5f9aaff8d6fc055528406346\",\"type\":\"success\"}',\n",
       " '9952094520': '{\"message\":\"5f9aaff9d6fc05755e41746a\",\"type\":\"success\"}',\n",
       " '9833310441': '{\"message\":\"5f9aaff9d6fc0558660c7050\",\"type\":\"success\"}',\n",
       " '8655465909': '{\"message\":\"5f9aaff9d6fc054ac25b1a5e\",\"type\":\"success\"}',\n",
       " '9967294229': '{\"message\":\"5f9aaff9d6fc05493d54f1b1\",\"type\":\"success\"}',\n",
       " '9820791073': '{\"message\":\"5f9aaff9d6fc0528465bf11a\",\"type\":\"success\"}',\n",
       " '9820335494': '{\"message\":\"5f9aaff9d6fc055cc51371d5\",\"type\":\"success\"}',\n",
       " '9619086781': '{\"message\":\"5f9aaff9d6fc0529817db087\",\"type\":\"success\"}',\n",
       " '9889548450': '{\"message\":\"5f9aaffad6fc05251544fc4b\",\"type\":\"success\"}',\n",
       " '9867855168': '{\"message\":\"5f9aaffad6fc057f5e03e98a\",\"type\":\"success\"}',\n",
       " '9480 06322': '{\"type\":\"error\",\"message\":\"Invalid mobile number. You must have entered either less than 10 digits or there is an alphabetic character in the mobile number field in API\",\"code\":\"202\"}',\n",
       " '9322815355': '{\"message\":\"5f9aaffad6fc055e94246a0c\",\"type\":\"success\"}',\n",
       " '9820504332': '{\"message\":\"5f9aaffad6fc055cb871d7ec\",\"type\":\"success\"}',\n",
       " '8286125928': '{\"message\":\"5f9aaffad6fc052a293c8220\",\"type\":\"success\"}',\n",
       " '9999914917': '{\"message\":\"5f9aaffad6fc057a7e119d14\",\"type\":\"success\"}',\n",
       " '9820443623': '{\"message\":\"5f9aaffbd6fc052646464439\",\"type\":\"success\"}',\n",
       " '9699059596': '{\"message\":\"5f9aaffbd6fc0555d2728de9\",\"type\":\"success\"}',\n",
       " '8767535439': '{\"message\":\"5f9aaffbd6fc054ac3275665\",\"type\":\"success\"}',\n",
       " '8550991241': '{\"message\":\"5f9aaffbd6fc052b60133948\",\"type\":\"success\"}',\n",
       " '9820070855': '{\"message\":\"5f9aaffbd6fc0552ac460891\",\"type\":\"success\"}',\n",
       " '9833413299': '{\"message\":\"5f9aaffbd6fc05240524f775\",\"type\":\"success\"}',\n",
       " '9819984779': '{\"message\":\"5f9aaffcd6fc05246303dcee\",\"type\":\"success\"}',\n",
       " '9820999102': '{\"message\":\"5f9aaffcd6fc0551e670befa\",\"type\":\"success\"}',\n",
       " '9861601655': '{\"message\":\"5f9aaffcd6fc057c9169fc21\",\"type\":\"success\"}',\n",
       " '9769604150': '{\"message\":\"5f9aaffcd6fc0545f17fedc2\",\"type\":\"success\"}',\n",
       " '9819807003': '{\"message\":\"5f9aaffcd6fc057b8160a9cf\",\"type\":\"success\"}',\n",
       " '9560374999': '{\"message\":\"5f9aaffcd6fc055742133e65\",\"type\":\"success\"}',\n",
       " '9908507988': '{\"message\":\"5f9aaffcd6fc0505bf069b44\",\"type\":\"success\"}',\n",
       " '9971555630': '{\"message\":\"5f9aaffdd6fc0544f40e3d12\",\"type\":\"success\"}',\n",
       " '9820389966': '{\"message\":\"5f9aaffdd6fc05255521acd7\",\"type\":\"success\"}',\n",
       " '9821615426': '{\"message\":\"5f9aaffdd6fc054fc538cdcf\",\"type\":\"success\"}',\n",
       " '9819056195': '{\"message\":\"5f9aaffdd6fc05691f18f901\",\"type\":\"success\"}',\n",
       " '8516868537': '{\"message\":\"5f9aaffdd6fc054a1e2d3b9e\",\"type\":\"success\"}',\n",
       " '7739401733': '{\"message\":\"5f9aaffdd6fc0529057d5819\",\"type\":\"success\"}',\n",
       " '9959341493': '{\"message\":\"5f9aaffdd6fc052c7d101e41\",\"type\":\"success\"}',\n",
       " '7339401733': '{\"message\":\"5f9aaffed6fc0552aa3080c0\",\"type\":\"success\"}',\n",
       " '9820475334': '{\"message\":\"5f9aaffed6fc0579e44df0e7\",\"type\":\"success\"}',\n",
       " '9619096297': '{\"message\":\"5f9aaffed6fc051f35293e69\",\"type\":\"success\"}',\n",
       " '9555963005': '{\"message\":\"5f9aaffed6fc054a10682b16\",\"type\":\"success\"}',\n",
       " '9811708404': '{\"message\":\"5f9aaffed6fc0548b85f0f02\",\"type\":\"success\"}',\n",
       " '9819730611': '{\"message\":\"5f9aaffed6fc0554a85058b8\",\"type\":\"success\"}',\n",
       " '9920995566': '{\"message\":\"5f9aafffd6fc0553e56810a5\",\"type\":\"success\"}',\n",
       " '7208019993': '{\"message\":\"5f9aafffd6fc051e4e16565e\",\"type\":\"success\"}',\n",
       " '9960802233': '{\"message\":\"5f9aafffd6fc0555f545bdd1\",\"type\":\"success\"}',\n",
       " '9930319116': '{\"message\":\"5f9aafffd6fc055a831bcbeb\",\"type\":\"success\"}',\n",
       " '9820044362': '{\"message\":\"5f9aafffd6fc055528406347\",\"type\":\"success\"}',\n",
       " '9967853003': '{\"message\":\"5f9aafffd6fc052ec46e26d4\",\"type\":\"success\"}',\n",
       " '9769416182': '{\"message\":\"5f9aafffd6fc051828128355\",\"type\":\"success\"}',\n",
       " '7710010393': '{\"message\":\"5f9ab000d6fc0557f626ca77\",\"type\":\"success\"}',\n",
       " '8879027018': '{\"message\":\"5f9ab000d6fc05405c2180be\",\"type\":\"success\"}',\n",
       " '9891962211': '{\"message\":\"5f9ab000d6fc052d300bfd14\",\"type\":\"success\"}',\n",
       " '8828323610': '{\"message\":\"5f9ab000d6fc055ec0666ac2\",\"type\":\"success\"}',\n",
       " '9833065642': '{\"message\":\"5f9ab000d6fc0548766d6595\",\"type\":\"success\"}',\n",
       " '9619667223': '{\"message\":\"5f9ab000d6fc0555d2728dea\",\"type\":\"success\"}',\n",
       " '9920603968': '{\"message\":\"5f9ab000d6fc051913137c5e\",\"type\":\"success\"}',\n",
       " '9820831053': '{\"message\":\"5f9ab001d6fc055aed1ee903\",\"type\":\"success\"}',\n",
       " '9987771315': '{\"message\":\"5f9ab001d6fc05210223023b\",\"type\":\"success\"}',\n",
       " '9870862479': '{\"message\":\"5f9ab001d6fc054cf724ac24\",\"type\":\"success\"}',\n",
       " '9820876207': '{\"message\":\"5f9ab001d6fc052b60133949\",\"type\":\"success\"}',\n",
       " '9920932760': '{\"message\":\"5f9ab001d6fc0550e9389a36\",\"type\":\"success\"}',\n",
       " '9821574324': '{\"message\":\"5f9ab001d6fc053a724488b8\",\"type\":\"success\"}',\n",
       " '9594959340': '{\"message\":\"5f9ab002d6fc0528740d9720\",\"type\":\"success\"}',\n",
       " '9820294327': '{\"message\":\"5f9ab002d6fc05243b3e9392\",\"type\":\"success\"}',\n",
       " '9833728608': '{\"message\":\"5f9ab002d6fc0548ca047cbd\",\"type\":\"success\"}',\n",
       " '9323179390': '{\"message\":\"5f9ab002d6fc05159e3f64d2\",\"type\":\"success\"}',\n",
       " '9833568843': '{\"message\":\"5f9ab002d6fc054f157d6f23\",\"type\":\"success\"}',\n",
       " '9619919924': '{\"message\":\"5f9ab002d6fc0529590d8def\",\"type\":\"success\"}',\n",
       " '9869118420': '{\"message\":\"5f9ab002d6fc0558f2285e28\",\"type\":\"success\"}',\n",
       " '9820425487': '{\"message\":\"5f9ab003d6fc057c1f3b206f\",\"type\":\"success\"}',\n",
       " '9618386582': '{\"message\":\"5f9ab003d6fc05275c7e08b7\",\"type\":\"success\"}',\n",
       " '9869605048': '{\"message\":\"5f9ab003d6fc057a41743f77\",\"type\":\"success\"}'}"
      ]
     },
     "execution_count": 186,
     "metadata": {},
     "output_type": "execute_result"
    }
   ],
   "source": [
    "responses"
   ]
  },
  {
   "cell_type": "code",
   "execution_count": 115,
   "metadata": {
    "ExecuteTime": {
     "end_time": "2020-10-27T16:29:44.580510Z",
     "start_time": "2020-10-27T16:29:44.564506Z"
    }
   },
   "outputs": [
    {
     "data": {
      "text/plain": [
       "'{\"sender\": \"BHRFMS\", \"route\": \"4\", \"country\": \"91\", \"sms\": [{\"message\": \"Hi Sheeba,\\\\nYour Vegetables order with Token no 79 from Bhor Farms is confirmed and will be delivered to your lobby by the evening of Thu Oct 29th.\\\\nCall 6203507070 for any queries.\", \"to\": [\"9821901596\"]}]}'"
      ]
     },
     "execution_count": 115,
     "metadata": {},
     "output_type": "execute_result"
    }
   ],
   "source": [
    "message"
   ]
  },
  {
   "cell_type": "markdown",
   "metadata": {
    "heading_collapsed": true
   },
   "source": [
    "# End"
   ]
  },
  {
   "cell_type": "markdown",
   "metadata": {
    "hidden": true
   },
   "source": [
    "## Manually Adding Orders"
   ]
  },
  {
   "cell_type": "code",
   "execution_count": 125,
   "metadata": {
    "ExecuteTime": {
     "end_time": "2020-10-20T01:49:01.329737Z",
     "start_time": "2020-10-20T01:49:01.306785Z"
    },
    "hidden": true
   },
   "outputs": [
    {
     "name": "stdout",
     "output_type": "stream",
     "text": [
      "Apples New Zealand\n",
      "Indian Pear\n",
      "Imported Green Pear\n",
      "VNR Guava\n",
      "Mosambi\n",
      "Sitaphal\n",
      "Assorted Mango Box\n",
      "Muskmelon\n",
      "Elaichi Banana Regular\n",
      "Elaichi Banana Premium\n",
      "Kiwi Zespri\n",
      "Pomegranate Premium\n",
      "Pomegranate Regular\n",
      "Langra Mangoes\n",
      "Chausa Mangoes\n",
      "Papaya\n",
      "Watermelon\n",
      "Amla\n",
      "Haldi/Turmeric Powder\n",
      "Premium Long Raisins\n",
      "Coconut Mangalore Small\n",
      "Coconut Mangalore Medium\n",
      "Coconut Mangalore Large\n",
      "Dragon Fruit White Flesh\n",
      "Himachal Apples\n",
      "Imported Oranges\n",
      "Imported Plum\n",
      "Pure Kashmiri Sidr Honey\n",
      "Alphonso Mango Pulp Frozen\n",
      "Premium Imported Apricots\n",
      "Cashew W320\n",
      "Cashew W240\n",
      "Cashew W210\n",
      "Peri Peri Cashew\n",
      "Broken Cashew\n",
      "Standard Walnuts\n",
      "Premium Walnuts\n",
      "Salted Pista Standard\n",
      "Salted Pista Premium\n",
      "Anjeer Premium\n",
      "Anjeer Super Premium\n",
      "Mix Dry Fruits\n",
      "Mamra Badam Medium\n",
      "Kishmish Round\n",
      "Kishmish Long\n",
      "Munakka Indian\n",
      "Imported Munakka Afgan\n",
      "Jardalu/Dried Apricots\n",
      "Kimia Dates\n",
      "Kashmiri Qahwah Tea\n",
      "Litchi Juice\n",
      "7 Fruits Juice\n",
      "Guava Juice\n",
      "Kharbooja Juice\n",
      "Strawberry Juice\n",
      "Pineapple Juice\n",
      "Anaar Juice\n",
      "Orange Juice\n",
      "Kiwi Juice\n"
     ]
    }
   ],
   "source": [
    "for a in all_items: print(a)"
   ]
  },
  {
   "cell_type": "code",
   "execution_count": 57,
   "metadata": {
    "ExecuteTime": {
     "end_time": "2020-08-21T17:25:28.913018Z",
     "start_time": "2020-08-21T17:25:28.897063Z"
    },
    "hidden": true
   },
   "outputs": [],
   "source": [
    "new_orders = pd.read_csv('yelofile/additions.csv')"
   ]
  },
  {
   "cell_type": "code",
   "execution_count": 58,
   "metadata": {
    "ExecuteTime": {
     "end_time": "2020-08-21T17:25:32.642401Z",
     "start_time": "2020-08-21T17:25:32.637414Z"
    },
    "hidden": true
   },
   "outputs": [],
   "source": [
    "keys1 = ['name', 'drop_point', 'building', 'wing', 'flat_no', 'phone_no', 'email', 'delivery_date', 'total_amount', 'order']"
   ]
  },
  {
   "cell_type": "code",
   "execution_count": 59,
   "metadata": {
    "ExecuteTime": {
     "end_time": "2020-08-21T17:25:35.560779Z",
     "start_time": "2020-08-21T17:25:35.554534Z"
    },
    "hidden": true
   },
   "outputs": [],
   "source": [
    "new_orders.dropna(inplace=True)"
   ]
  },
  {
   "cell_type": "code",
   "execution_count": 60,
   "metadata": {
    "ExecuteTime": {
     "end_time": "2020-08-21T17:25:40.204523Z",
     "start_time": "2020-08-21T17:25:40.193549Z"
    },
    "hidden": true
   },
   "outputs": [
    {
     "data": {
      "text/html": [
       "<div>\n",
       "<style scoped>\n",
       "    .dataframe tbody tr th:only-of-type {\n",
       "        vertical-align: middle;\n",
       "    }\n",
       "\n",
       "    .dataframe tbody tr th {\n",
       "        vertical-align: top;\n",
       "    }\n",
       "\n",
       "    .dataframe thead th {\n",
       "        text-align: right;\n",
       "    }\n",
       "</style>\n",
       "<table border=\"1\" class=\"dataframe\">\n",
       "  <thead>\n",
       "    <tr style=\"text-align: right;\">\n",
       "      <th></th>\n",
       "      <th>index</th>\n",
       "      <th>Haar 1</th>\n",
       "      <th>Haar 2</th>\n",
       "      <th>Jhendu/Marigold</th>\n",
       "      <th>Rajnigandha</th>\n",
       "      <th>Druva</th>\n",
       "      <th>Tulsi</th>\n",
       "      <th>Pack of 5 leaves</th>\n",
       "      <th>Betelnut</th>\n",
       "      <th>Banana Leaves with Stem</th>\n",
       "      <th>Banana Leaves</th>\n",
       "      <th>Pack of 5 Fruits</th>\n",
       "      <th>Assorted Flowers</th>\n",
       "      <th>Hibiscus</th>\n",
       "    </tr>\n",
       "  </thead>\n",
       "  <tbody>\n",
       "  </tbody>\n",
       "</table>\n",
       "</div>"
      ],
      "text/plain": [
       "Empty DataFrame\n",
       "Columns: [index, Haar 1, Haar 2, Jhendu/Marigold, Rajnigandha, Druva, Tulsi, Pack of 5 leaves, Betelnut, Banana Leaves with Stem, Banana Leaves, Pack of 5 Fruits, Assorted Flowers, Hibiscus]\n",
       "Index: []"
      ]
     },
     "execution_count": 60,
     "metadata": {},
     "output_type": "execute_result"
    }
   ],
   "source": [
    "new_orders"
   ]
  },
  {
   "cell_type": "code",
   "execution_count": 133,
   "metadata": {
    "ExecuteTime": {
     "end_time": "2020-08-20T18:40:00.519896Z",
     "start_time": "2020-08-20T18:40:00.515906Z"
    },
    "hidden": true
   },
   "outputs": [],
   "source": [
    "to_append = new_orders.to_dict(orient='records')"
   ]
  },
  {
   "cell_type": "code",
   "execution_count": 134,
   "metadata": {
    "ExecuteTime": {
     "end_time": "2020-08-20T18:40:21.697350Z",
     "start_time": "2020-08-20T18:40:21.686407Z"
    },
    "hidden": true
   },
   "outputs": [],
   "source": [
    "orders_very_very_new = pd.read_csv('yelofile/additions.csv')\n",
    "orders_very_very_new.set_index('index', inplace=True)\n",
    "orders_very_very_new.fillna(0, inplace=True)"
   ]
  },
  {
   "cell_type": "code",
   "execution_count": 137,
   "metadata": {
    "ExecuteTime": {
     "end_time": "2020-08-20T18:41:03.646115Z",
     "start_time": "2020-08-20T18:41:03.643123Z"
    },
    "hidden": true
   },
   "outputs": [],
   "source": [
    "for i in to_append:\n",
    "    i['order'] = new_items[i['name']]"
   ]
  },
  {
   "cell_type": "code",
   "execution_count": 61,
   "metadata": {
    "ExecuteTime": {
     "end_time": "2020-08-21T17:26:56.635340Z",
     "start_time": "2020-08-21T17:26:56.611404Z"
    },
    "hidden": true
   },
   "outputs": [],
   "source": [
    "to_append = [{'name': 'Suchitra;Narale',\n",
    "  'drop_point': 'Cosmic',\n",
    "  'building': 'Cosmic Heights',\n",
    "  'wing': 'B Wing',\n",
    "  'flat_no': 2603.0,\n",
    "  'phone_no': 9833567340.0,\n",
    "  'email': 'suchitrahate@gmail.com',\n",
    "  'order': {'Haar 1': 1.0,\n",
    "   'Haar 2': 0.0,\n",
    "   'Jhendu/Marigold': 1.0,\n",
    "   'Rajnigandha': 0.0,\n",
    "   'Druva': 1.0,\n",
    "   'Tulsi': 0.0,\n",
    "   'Pack of 5 leaves': 0.0,\n",
    "   'Betelnut': 0.0,\n",
    "   'Banana Leaves with Stem': 0.0,\n",
    "   'Banana Leaves': 0.0,\n",
    "   'Pack of 5 Fruits': 1.0,\n",
    "   'Assorted Flowers': 1,\n",
    "   'Hibiscus': 0.0}},\n",
    " {'name': 'Ritu;Sharda',\n",
    "  'drop_point': 'Cosmic',\n",
    "  'building': 'Cosmic Heights',\n",
    "  'wing': 'B Wing',\n",
    "  'flat_no': 2101.0,\n",
    "  'phone_no': 9820844319.0,\n",
    "  'email': 'shardaritu@hotmail.com',\n",
    "  'order': {'Haar 1': 0.0,\n",
    "   'Haar 2': 0.0,\n",
    "   'Jhendu/Marigold': 2.0,\n",
    "   'Rajnigandha': 0.0,\n",
    "   'Druva': 1.0,\n",
    "   'Tulsi': 0.0,\n",
    "   'Pack of 5 leaves': 0.0,\n",
    "   'Betelnut': 1.0,\n",
    "   'Banana Leaves with Stem': 0.0,\n",
    "   'Banana Leaves': 1.0,\n",
    "   'Pack of 5 Fruits': 0.0,\n",
    "   'Assorted Flowers': 1,\n",
    "   'Hibiscus': 0.0}},\n",
    " {'name': 'Nisha;Narale',\n",
    "  'drop_point': 'Cosmic',\n",
    "  'building': 'Cosmic Heights',\n",
    "  'wing': 'A Wing',\n",
    "  'flat_no': 2505.0,\n",
    "  'phone_no': 9930390994.0,\n",
    "  'email': 'nishashetti@gmail.com',\n",
    "  'order': {'Haar 1': 1.0,\n",
    "   'Haar 2': 1.0,\n",
    "   'Jhendu/Marigold': 0.0,\n",
    "   'Rajnigandha': 0.0,\n",
    "   'Druva': 1.0,\n",
    "   'Tulsi': 1.0,\n",
    "   'Pack of 5 leaves': 0.0,\n",
    "   'Betelnut': 1.0,\n",
    "   'Banana Leaves with Stem': 0.0,\n",
    "   'Banana Leaves': 1.0,\n",
    "   'Pack of 5 Fruits': 2.0,\n",
    "   'Assorted Flowers': 3,\n",
    "   'Hibiscus': 1.0}},\n",
    " {'name': 'Padmaja;Kakkera',\n",
    "  'drop_point': 'Lodha NCP',\n",
    "  'building': 'Tower 4',\n",
    "  'wing': 'B Wing',\n",
    "  'flat_no': 202.0,\n",
    "  'phone_no': 9900065600.0,\n",
    "  'email': 'padmaja.kakkera@gmail.com',\n",
    "  'order': {'Haar 1': 0.0,\n",
    "   'Haar 2': 0.0,\n",
    "   'Jhendu/Marigold': 0.0,\n",
    "   'Rajnigandha': 0.0,\n",
    "   'Druva': 1.0,\n",
    "   'Tulsi': 1.0,\n",
    "   'Pack of 5 leaves': 1.0,\n",
    "   'Betelnut': 1.0,\n",
    "   'Banana Leaves with Stem': 0.0,\n",
    "   'Banana Leaves': 0.0,\n",
    "   'Pack of 5 Fruits': 1.0,\n",
    "   'Assorted Flowers': 1,\n",
    "   'Hibiscus': 1.0}},\n",
    " {'name': 'Shalini;Memani',\n",
    "  'drop_point': 'Lodha NCP',\n",
    "  'building': 'Tower 6',\n",
    "  'wing': 'A Wing',\n",
    "  'flat_no': 2503.0,\n",
    "  'phone_no': 9323134454.0,\n",
    "  'email': 'shalini_depura@yahoo.co.in',\n",
    "  'order': {'Haar 1': 2.0,\n",
    "   'Haar 2': 0.0,\n",
    "   'Jhendu/Marigold': 0.0,\n",
    "   'Rajnigandha': 0.0,\n",
    "   'Druva': 2.0,\n",
    "   'Tulsi': 0.0,\n",
    "   'Pack of 5 leaves': 0.0,\n",
    "   'Betelnut': 1.0,\n",
    "   'Banana Leaves with Stem': 0.0,\n",
    "   'Banana Leaves': 2.0,\n",
    "   'Pack of 5 Fruits': 0.0,\n",
    "   'Assorted Flowers': 1,\n",
    "   'Hibiscus': 3.0}},\n",
    " {'name': 'Ila Panchakshari',\n",
    "  'drop_point': 'Ivory',\n",
    "  'building': 'Himalayan Heights',\n",
    "  'wing': 'A Wing',\n",
    "  'flat_no': 1003.0,\n",
    "  'phone_no': 8286125928.0,\n",
    "  'email': 'ilahp78@gmail.com',\n",
    "  'order': {'Haar 1': 0.0,\n",
    "   'Haar 2': 0.0,\n",
    "   'Jhendu/Marigold': 0.0,\n",
    "   'Rajnigandha': 0.0,\n",
    "   'Druva': 5.0,\n",
    "   'Tulsi': 0.0,\n",
    "   'Pack of 5 leaves': 0.0,\n",
    "   'Betelnut': 1.0,\n",
    "   'Banana Leaves with Stem': 0.0,\n",
    "   'Banana Leaves': 0.0,\n",
    "   'Pack of 5 Fruits': 0.0,\n",
    "   'Assorted Flowers': 1,\n",
    "   'Hibiscus': 1.0}},\n",
    " {'name': 'Swati;Madhukar',\n",
    "  'drop_point': 'Lodha NCP',\n",
    "  'building': 'Tower 6',\n",
    "  'wing': 'A Wing',\n",
    "  'flat_no': 4002.0,\n",
    "  'phone_no': 9167853838.0,\n",
    "  'email': 'swati.chaudhary90@yahoo.com',\n",
    "  'order': {'Haar 1': 8.0,\n",
    "   'Haar 2': 2.0,\n",
    "   'Jhendu/Marigold': 0.0,\n",
    "   'Rajnigandha': 0.0,\n",
    "   'Druva': 0.0,\n",
    "   'Tulsi': 0.0,\n",
    "   'Pack of 5 leaves': 0.0,\n",
    "   'Betelnut': 5.0,\n",
    "   'Banana Leaves with Stem': 0.0,\n",
    "   'Banana Leaves': 0.0,\n",
    "   'Pack of 5 Fruits': 0.0,\n",
    "   'Assorted Flowers': 1,\n",
    "   'Hibiscus': 0.0}}]"
   ]
  },
  {
   "cell_type": "code",
   "execution_count": 68,
   "metadata": {
    "ExecuteTime": {
     "end_time": "2020-08-21T17:38:55.746640Z",
     "start_time": "2020-08-21T17:38:55.740656Z"
    },
    "hidden": true
   },
   "outputs": [],
   "source": [
    "new_orders_dict = {}\n",
    "i = 178\n",
    "\n",
    "for row in to_append:\n",
    "    dct = {}\n",
    "    dct['name'] = row['name']\n",
    "#     dct['drop_point'] = row['Select Drop Point']\n",
    "#     dct['building'] = row['building']\n",
    "#     dct['wing'] = row['Select Wing']\n",
    "#     dct['flat_no'] = row['Flat No']\n",
    "    dct['phone_no'] = row['phone_no']\n",
    "    dct['email'] = row['email']\n",
    "#     dct['delivery_date'] = row['Select Delivery Date']\n",
    "#     dct['total_amount'] = row['Total Amount']\n",
    "#     dct['total_amount'] = \n",
    "#     dct['payment_status'] = row['Payment Status']\n",
    "    dct['order'] = get_order(row)\n",
    "    dct['total_amount'] = get_total_amt(dct['order'])\n",
    "    \n",
    "    new_orders_dict[i] = dct\n",
    "    i+=1"
   ]
  },
  {
   "cell_type": "code",
   "execution_count": 70,
   "metadata": {
    "ExecuteTime": {
     "end_time": "2020-08-21T17:46:21.746635Z",
     "start_time": "2020-08-21T17:46:21.741647Z"
    },
    "hidden": true
   },
   "outputs": [
    {
     "data": {
      "text/plain": [
       "426"
      ]
     },
     "execution_count": 70,
     "metadata": {},
     "output_type": "execute_result"
    }
   ],
   "source": [
    "60+100+15+130+121"
   ]
  },
  {
   "cell_type": "code",
   "execution_count": 71,
   "metadata": {
    "ExecuteTime": {
     "end_time": "2020-08-21T17:46:53.801386Z",
     "start_time": "2020-08-21T17:46:53.796371Z"
    },
    "hidden": true
   },
   "outputs": [
    {
     "data": {
      "text/plain": [
       "876"
      ]
     },
     "execution_count": 71,
     "metadata": {},
     "output_type": "execute_result"
    }
   ],
   "source": [
    "480+200+25+50+121"
   ]
  },
  {
   "cell_type": "code",
   "execution_count": 73,
   "metadata": {
    "ExecuteTime": {
     "end_time": "2020-08-21T17:47:33.908986Z",
     "start_time": "2020-08-21T17:47:33.903004Z"
    },
    "hidden": true
   },
   "outputs": [
    {
     "data": {
      "text/plain": [
       "296"
      ]
     },
     "execution_count": 73,
     "metadata": {},
     "output_type": "execute_result"
    }
   ],
   "source": [
    "120+30+25+121"
   ]
  },
  {
   "cell_type": "code",
   "execution_count": 80,
   "metadata": {
    "ExecuteTime": {
     "end_time": "2020-08-21T17:56:45.536902Z",
     "start_time": "2020-08-21T17:56:45.530921Z"
    },
    "hidden": true
   },
   "outputs": [
    {
     "data": {
      "text/plain": [
       "{'Haar 1': {'packing_size': 1, 'unit': 1, 'sell_price': 60},\n",
       " 'Haar 2': {'packing_size': 1, 'unit': 1, 'sell_price': 100},\n",
       " 'Jhendu/Marigold': {'packing_size': 1, 'unit': 1, 'sell_price': 100},\n",
       " 'Druva': {'packing_size': 1, 'unit': 1, 'sell_price': 15},\n",
       " 'Tulsi': {'packing_size': 1, 'unit': 1, 'sell_price': 20},\n",
       " 'Pack of 5 leaves': {'packing_size': 1, 'unit': 1, 'sell_price': 25},\n",
       " 'Betelnut': {'packing_size': 1, 'unit': 1, 'sell_price': 25},\n",
       " 'Banana Leaves with Stem': {'packing_size': 1, 'unit': 1, 'sell_price': 100},\n",
       " 'Pack of 5 Fruits': {'packing_size': 1, 'unit': 1, 'sell_price': 130},\n",
       " 'Assorted Flowers': {'packing_size': 1, 'unit': 1, 'sell_price': 121},\n",
       " 'Hibiscus': {'packing_size': 1, 'unit': 1, 'sell_price': 20}}"
      ]
     },
     "execution_count": 80,
     "metadata": {},
     "output_type": "execute_result"
    }
   ],
   "source": [
    "items_dict"
   ]
  },
  {
   "cell_type": "code",
   "execution_count": null,
   "metadata": {
    "ExecuteTime": {
     "end_time": "2020-08-21T17:51:16.989784Z",
     "start_time": "2020-08-21T17:51:16.983799Z"
    },
    "hidden": true
   },
   "outputs": [],
   "source": []
  },
  {
   "cell_type": "code",
   "execution_count": null,
   "metadata": {
    "hidden": true
   },
   "outputs": [],
   "source": []
  },
  {
   "cell_type": "code",
   "execution_count": null,
   "metadata": {
    "hidden": true
   },
   "outputs": [],
   "source": []
  },
  {
   "cell_type": "code",
   "execution_count": null,
   "metadata": {
    "hidden": true
   },
   "outputs": [],
   "source": []
  },
  {
   "cell_type": "code",
   "execution_count": 138,
   "metadata": {
    "ExecuteTime": {
     "end_time": "2020-08-20T18:41:12.220702Z",
     "start_time": "2020-08-20T18:41:12.213597Z"
    },
    "hidden": true,
    "scrolled": false
   },
   "outputs": [
    {
     "data": {
      "text/plain": [
       "[{'name': 'Suchitra;Narale',\n",
       "  'drop_point': 'Cosmic',\n",
       "  'building': 'Cosmic Heights',\n",
       "  'wing': 'B Wing',\n",
       "  'flat_no': 2603.0,\n",
       "  'phone_no': 9833567340.0,\n",
       "  'email': 'suchitrahate@gmail.com',\n",
       "  'order': {'Haar 1': 1.0,\n",
       "   'Haar 2': 0.0,\n",
       "   'Jhendu/Marigold': 1.0,\n",
       "   'Rajnigandha': 0.0,\n",
       "   'Druva': 1.0,\n",
       "   'Tulsi': 0.0,\n",
       "   'Pack of 5 leaves': 0.0,\n",
       "   'Betelnut': 0.0,\n",
       "   'Banana Leaves with Stem': 0.0,\n",
       "   'Banana Leaves': 0.0,\n",
       "   'Pack of 5 Fruits': 1.0,\n",
       "   'Assorted Flowers': 1,\n",
       "   'Hibiscus': 0.0}},\n",
       " {'name': 'Ritu;Sharda',\n",
       "  'drop_point': 'Cosmic',\n",
       "  'building': 'Cosmic Heights',\n",
       "  'wing': 'B Wing',\n",
       "  'flat_no': 2101.0,\n",
       "  'phone_no': 9820844319.0,\n",
       "  'email': 'shardaritu@hotmail.com',\n",
       "  'order': {'Haar 1': 0.0,\n",
       "   'Haar 2': 0.0,\n",
       "   'Jhendu/Marigold': 2.0,\n",
       "   'Rajnigandha': 0.0,\n",
       "   'Druva': 1.0,\n",
       "   'Tulsi': 0.0,\n",
       "   'Pack of 5 leaves': 0.0,\n",
       "   'Betelnut': 1.0,\n",
       "   'Banana Leaves with Stem': 0.0,\n",
       "   'Banana Leaves': 1.0,\n",
       "   'Pack of 5 Fruits': 0.0,\n",
       "   'Assorted Flowers': 1,\n",
       "   'Hibiscus': 0.0}},\n",
       " {'name': 'Nisha;Narale',\n",
       "  'drop_point': 'Cosmic',\n",
       "  'building': 'Cosmic Heights',\n",
       "  'wing': 'A Wing',\n",
       "  'flat_no': 2505.0,\n",
       "  'phone_no': 9930390994.0,\n",
       "  'email': 'nishashetti@gmail.com',\n",
       "  'order': {'Haar 1': 1.0,\n",
       "   'Haar 2': 1.0,\n",
       "   'Jhendu/Marigold': 0.0,\n",
       "   'Rajnigandha': 0.0,\n",
       "   'Druva': 1.0,\n",
       "   'Tulsi': 1.0,\n",
       "   'Pack of 5 leaves': 0.0,\n",
       "   'Betelnut': 1.0,\n",
       "   'Banana Leaves with Stem': 0.0,\n",
       "   'Banana Leaves': 1.0,\n",
       "   'Pack of 5 Fruits': 2.0,\n",
       "   'Assorted Flowers': 3,\n",
       "   'Hibiscus': 1.0}},\n",
       " {'name': 'Padmaja;Kakkera',\n",
       "  'drop_point': 'Lodha NCP',\n",
       "  'building': 'Tower 4',\n",
       "  'wing': 'B Wing',\n",
       "  'flat_no': 202.0,\n",
       "  'phone_no': 9900065600.0,\n",
       "  'email': 'padmaja.kakkera@gmail.com',\n",
       "  'order': {'Haar 1': 0.0,\n",
       "   'Haar 2': 0.0,\n",
       "   'Jhendu/Marigold': 0.0,\n",
       "   'Rajnigandha': 0.0,\n",
       "   'Druva': 1.0,\n",
       "   'Tulsi': 1.0,\n",
       "   'Pack of 5 leaves': 1.0,\n",
       "   'Betelnut': 1.0,\n",
       "   'Banana Leaves with Stem': 0.0,\n",
       "   'Banana Leaves': 0.0,\n",
       "   'Pack of 5 Fruits': 1.0,\n",
       "   'Assorted Flowers': 1,\n",
       "   'Hibiscus': 1.0}},\n",
       " {'name': 'Shalini;Memani',\n",
       "  'drop_point': 'Lodha NCP',\n",
       "  'building': 'Tower 6',\n",
       "  'wing': 'A Wing',\n",
       "  'flat_no': 2503.0,\n",
       "  'phone_no': 9323134454.0,\n",
       "  'email': 'shalini_depura@yahoo.co.in',\n",
       "  'order': {'Haar 1': 2.0,\n",
       "   'Haar 2': 0.0,\n",
       "   'Jhendu/Marigold': 0.0,\n",
       "   'Rajnigandha': 0.0,\n",
       "   'Druva': 2.0,\n",
       "   'Tulsi': 0.0,\n",
       "   'Pack of 5 leaves': 0.0,\n",
       "   'Betelnut': 1.0,\n",
       "   'Banana Leaves with Stem': 0.0,\n",
       "   'Banana Leaves': 2.0,\n",
       "   'Pack of 5 Fruits': 0.0,\n",
       "   'Assorted Flowers': 1,\n",
       "   'Hibiscus': 3.0}},\n",
       " {'name': 'Ila Panchakshari',\n",
       "  'drop_point': 'Ivory',\n",
       "  'building': 'Himalayan Heights',\n",
       "  'wing': 'A Wing',\n",
       "  'flat_no': 1003.0,\n",
       "  'phone_no': 8286125928.0,\n",
       "  'email': 'ilahp78@gmail.com',\n",
       "  'order': {'Haar 1': 0.0,\n",
       "   'Haar 2': 0.0,\n",
       "   'Jhendu/Marigold': 0.0,\n",
       "   'Rajnigandha': 0.0,\n",
       "   'Druva': 5.0,\n",
       "   'Tulsi': 0.0,\n",
       "   'Pack of 5 leaves': 0.0,\n",
       "   'Betelnut': 1.0,\n",
       "   'Banana Leaves with Stem': 0.0,\n",
       "   'Banana Leaves': 0.0,\n",
       "   'Pack of 5 Fruits': 0.0,\n",
       "   'Assorted Flowers': 1,\n",
       "   'Hibiscus': 1.0}},\n",
       " {'name': 'Swati;Madhukar',\n",
       "  'drop_point': 'Lodha NCP',\n",
       "  'building': 'Tower 6',\n",
       "  'wing': 'A Wing',\n",
       "  'flat_no': 4002.0,\n",
       "  'phone_no': 9167853838.0,\n",
       "  'email': 'swati.chaudhary90@yahoo.com',\n",
       "  'order': {'Haar 1': 8.0,\n",
       "   'Haar 2': 2.0,\n",
       "   'Jhendu/Marigold': 0.0,\n",
       "   'Rajnigandha': 0.0,\n",
       "   'Druva': 0.0,\n",
       "   'Tulsi': 0.0,\n",
       "   'Pack of 5 leaves': 0.0,\n",
       "   'Betelnut': 5.0,\n",
       "   'Banana Leaves with Stem': 0.0,\n",
       "   'Banana Leaves': 0.0,\n",
       "   'Pack of 5 Fruits': 0.0,\n",
       "   'Assorted Flowers': 1,\n",
       "   'Hibiscus': 0.0}}]"
      ]
     },
     "execution_count": 138,
     "metadata": {},
     "output_type": "execute_result"
    }
   ],
   "source": [
    "to_append"
   ]
  },
  {
   "cell_type": "code",
   "execution_count": null,
   "metadata": {
    "hidden": true
   },
   "outputs": [],
   "source": [
    "for k in to_a"
   ]
  },
  {
   "cell_type": "code",
   "execution_count": null,
   "metadata": {
    "hidden": true
   },
   "outputs": [],
   "source": []
  },
  {
   "cell_type": "code",
   "execution_count": null,
   "metadata": {
    "hidden": true
   },
   "outputs": [],
   "source": []
  },
  {
   "cell_type": "code",
   "execution_count": null,
   "metadata": {
    "hidden": true
   },
   "outputs": [],
   "source": []
  },
  {
   "cell_type": "code",
   "execution_count": null,
   "metadata": {
    "hidden": true
   },
   "outputs": [],
   "source": []
  },
  {
   "cell_type": "code",
   "execution_count": 136,
   "metadata": {
    "ExecuteTime": {
     "end_time": "2020-08-20T18:40:52.067056Z",
     "start_time": "2020-08-20T18:40:52.062063Z"
    },
    "hidden": true
   },
   "outputs": [],
   "source": [
    "new_items = orders_very_very_new.to_dict(orient='index')"
   ]
  },
  {
   "cell_type": "code",
   "execution_count": 74,
   "metadata": {
    "ExecuteTime": {
     "end_time": "2020-08-20T17:52:45.418968Z",
     "start_time": "2020-08-20T17:52:45.415974Z"
    },
    "hidden": true
   },
   "outputs": [],
   "source": [
    "keys2 = ['Haar 2', 'Druva', 'Tulsi', 'Pack of 5 leaves', 'Betelnut', 'Banana Leaves with Stem', 'Banana Leaves', 'Pack of 5 Fruits', 'Assorted Flowers']"
   ]
  },
  {
   "cell_type": "code",
   "execution_count": 86,
   "metadata": {
    "ExecuteTime": {
     "end_time": "2020-08-20T18:11:49.955955Z",
     "start_time": "2020-08-20T18:11:49.948972Z"
    },
    "hidden": true
   },
   "outputs": [
    {
     "name": "stdout",
     "output_type": "stream",
     "text": [
      "Haar 2\n",
      "Druva\n",
      "Tulsi\n",
      "Pack of 5 leaves\n",
      "Betelnut\n",
      "Banana Leaves with Stem\n",
      "Banana Leaves\n",
      "Pack of 5 Fruits\n",
      "Assorted Flowers\n"
     ]
    }
   ],
   "source": [
    "for k in keys2:\n",
    "    print (k)"
   ]
  },
  {
   "cell_type": "code",
   "execution_count": null,
   "metadata": {
    "hidden": true
   },
   "outputs": [],
   "source": []
  },
  {
   "cell_type": "code",
   "execution_count": null,
   "metadata": {
    "hidden": true
   },
   "outputs": [],
   "source": []
  },
  {
   "cell_type": "code",
   "execution_count": null,
   "metadata": {
    "hidden": true
   },
   "outputs": [],
   "source": []
  },
  {
   "cell_type": "code",
   "execution_count": null,
   "metadata": {
    "hidden": true
   },
   "outputs": [],
   "source": []
  },
  {
   "cell_type": "code",
   "execution_count": null,
   "metadata": {
    "hidden": true
   },
   "outputs": [],
   "source": []
  },
  {
   "cell_type": "code",
   "execution_count": 66,
   "metadata": {
    "ExecuteTime": {
     "end_time": "2020-08-20T17:15:38.050300Z",
     "start_time": "2020-08-20T17:15:38.032343Z"
    },
    "hidden": true
   },
   "outputs": [
    {
     "data": {
      "text/html": [
       "<div>\n",
       "<style scoped>\n",
       "    .dataframe tbody tr th:only-of-type {\n",
       "        vertical-align: middle;\n",
       "    }\n",
       "\n",
       "    .dataframe tbody tr th {\n",
       "        vertical-align: top;\n",
       "    }\n",
       "\n",
       "    .dataframe thead th {\n",
       "        text-align: right;\n",
       "    }\n",
       "</style>\n",
       "<table border=\"1\" class=\"dataframe\">\n",
       "  <thead>\n",
       "    <tr style=\"text-align: right;\">\n",
       "      <th></th>\n",
       "      <th></th>\n",
       "      <th>num_packets</th>\n",
       "    </tr>\n",
       "    <tr>\n",
       "      <th>drop_point</th>\n",
       "      <th>item_name</th>\n",
       "      <th></th>\n",
       "    </tr>\n",
       "  </thead>\n",
       "  <tbody>\n",
       "    <tr>\n",
       "      <th rowspan=\"5\" valign=\"top\">Ajmera iLand</th>\n",
       "      <th>Assorted Flowers</th>\n",
       "      <td>12.0</td>\n",
       "    </tr>\n",
       "    <tr>\n",
       "      <th>Banana Leaves</th>\n",
       "      <td>6.0</td>\n",
       "    </tr>\n",
       "    <tr>\n",
       "      <th>Banana Leaves with Stem</th>\n",
       "      <td>6.0</td>\n",
       "    </tr>\n",
       "    <tr>\n",
       "      <th>Betelnut</th>\n",
       "      <td>7.0</td>\n",
       "    </tr>\n",
       "    <tr>\n",
       "      <th>Druva</th>\n",
       "      <td>20.0</td>\n",
       "    </tr>\n",
       "    <tr>\n",
       "      <th>...</th>\n",
       "      <th>...</th>\n",
       "      <td>...</td>\n",
       "    </tr>\n",
       "    <tr>\n",
       "      <th rowspan=\"5\" valign=\"top\">Sector 1/2</th>\n",
       "      <th>Jhendu/Marigold</th>\n",
       "      <td>7.0</td>\n",
       "    </tr>\n",
       "    <tr>\n",
       "      <th>Pack of 5 Fruits</th>\n",
       "      <td>10.0</td>\n",
       "    </tr>\n",
       "    <tr>\n",
       "      <th>Pack of 5 leaves</th>\n",
       "      <td>6.0</td>\n",
       "    </tr>\n",
       "    <tr>\n",
       "      <th>Rajnigandha</th>\n",
       "      <td>1.0</td>\n",
       "    </tr>\n",
       "    <tr>\n",
       "      <th>Tulsi</th>\n",
       "      <td>4.0</td>\n",
       "    </tr>\n",
       "  </tbody>\n",
       "</table>\n",
       "<p>62 rows × 1 columns</p>\n",
       "</div>"
      ],
      "text/plain": [
       "                                      num_packets\n",
       "drop_point   item_name                           \n",
       "Ajmera iLand Assorted Flowers                12.0\n",
       "             Banana Leaves                    6.0\n",
       "             Banana Leaves with Stem          6.0\n",
       "             Betelnut                         7.0\n",
       "             Druva                           20.0\n",
       "...                                           ...\n",
       "Sector 1/2   Jhendu/Marigold                  7.0\n",
       "             Pack of 5 Fruits                10.0\n",
       "             Pack of 5 leaves                 6.0\n",
       "             Rajnigandha                      1.0\n",
       "             Tulsi                            4.0\n",
       "\n",
       "[62 rows x 1 columns]"
      ]
     },
     "execution_count": 66,
     "metadata": {},
     "output_type": "execute_result"
    }
   ],
   "source": [
    "df_dropwise.groupby(['drop_point', 'item_name']).sum()"
   ]
  },
  {
   "cell_type": "code",
   "execution_count": 67,
   "metadata": {
    "ExecuteTime": {
     "end_time": "2020-08-20T17:15:59.368309Z",
     "start_time": "2020-08-20T17:15:59.356309Z"
    },
    "hidden": true
   },
   "outputs": [],
   "source": []
  },
  {
   "cell_type": "code",
   "execution_count": null,
   "metadata": {
    "hidden": true
   },
   "outputs": [],
   "source": []
  },
  {
   "cell_type": "code",
   "execution_count": null,
   "metadata": {
    "hidden": true
   },
   "outputs": [],
   "source": []
  },
  {
   "cell_type": "code",
   "execution_count": null,
   "metadata": {
    "hidden": true
   },
   "outputs": [],
   "source": []
  },
  {
   "cell_type": "code",
   "execution_count": null,
   "metadata": {
    "hidden": true
   },
   "outputs": [],
   "source": []
  },
  {
   "cell_type": "code",
   "execution_count": null,
   "metadata": {
    "hidden": true
   },
   "outputs": [],
   "source": []
  },
  {
   "cell_type": "code",
   "execution_count": 62,
   "metadata": {
    "ExecuteTime": {
     "end_time": "2020-08-21T17:27:48.469410Z",
     "start_time": "2020-08-21T17:27:48.465619Z"
    },
    "hidden": true
   },
   "outputs": [],
   "source": [
    "for token in range(178, 178+len(to_append)):\n",
    "    orders_dict[token] = to_append[178-token]"
   ]
  },
  {
   "cell_type": "markdown",
   "metadata": {
    "hidden": true
   },
   "source": [
    "## Pipe Separated Tatkaal"
   ]
  },
  {
   "cell_type": "code",
   "execution_count": 4,
   "metadata": {
    "ExecuteTime": {
     "end_time": "2020-09-13T06:58:33.578695Z",
     "start_time": "2020-09-13T06:58:33.574571Z"
    },
    "hidden": true
   },
   "outputs": [],
   "source": [
    "file = Path(fc.selected)"
   ]
  },
  {
   "cell_type": "code",
   "execution_count": 6,
   "metadata": {
    "ExecuteTime": {
     "end_time": "2020-09-13T06:58:48.478959Z",
     "start_time": "2020-09-13T06:58:48.345317Z"
    },
    "hidden": true
   },
   "outputs": [],
   "source": [
    "df = pd.read_excel(file)"
   ]
  },
  {
   "cell_type": "code",
   "execution_count": 14,
   "metadata": {
    "ExecuteTime": {
     "end_time": "2020-09-13T07:00:18.834004Z",
     "start_time": "2020-09-13T07:00:18.829917Z"
    },
    "hidden": true
   },
   "outputs": [],
   "source": [
    "# CHANGE MANUALLY EVERYTIME\n",
    "allcols = df.columns[9:-2]"
   ]
  },
  {
   "cell_type": "code",
   "execution_count": 15,
   "metadata": {
    "ExecuteTime": {
     "end_time": "2020-09-13T07:00:20.129472Z",
     "start_time": "2020-09-13T07:00:20.114548Z"
    },
    "hidden": true
   },
   "outputs": [],
   "source": [
    "df.fillna('', inplace=True)"
   ]
  },
  {
   "cell_type": "code",
   "execution_count": 16,
   "metadata": {
    "ExecuteTime": {
     "end_time": "2020-09-13T07:00:21.957948Z",
     "start_time": "2020-09-13T07:00:21.952934Z"
    },
    "hidden": true
   },
   "outputs": [],
   "source": [
    "df['piped'] = ''"
   ]
  },
  {
   "cell_type": "code",
   "execution_count": 18,
   "metadata": {
    "ExecuteTime": {
     "end_time": "2020-09-13T07:00:57.923642Z",
     "start_time": "2020-09-13T07:00:57.906959Z"
    },
    "hidden": true
   },
   "outputs": [],
   "source": [
    "piped = []\n",
    "for _, row in df.iterrows():\n",
    "    tmp = []\n",
    "#     print(row[df.columns[11:-2]])\n",
    "#     break\n",
    "    for col in allcols: \n",
    "        if(row[col] != ''):\n",
    "            tmp.append(row[col])\n",
    "#             tmp.append(col + ' ' + str(int(row[col])))\n",
    "    \n",
    "    piped.append(\" | \".join(tmp))"
   ]
  },
  {
   "cell_type": "code",
   "execution_count": 19,
   "metadata": {
    "ExecuteTime": {
     "end_time": "2020-09-13T07:00:59.673989Z",
     "start_time": "2020-09-13T07:00:59.669998Z"
    },
    "hidden": true
   },
   "outputs": [],
   "source": [
    "df.piped = piped"
   ]
  },
  {
   "cell_type": "code",
   "execution_count": 20,
   "metadata": {
    "ExecuteTime": {
     "end_time": "2020-09-13T07:01:04.768093Z",
     "start_time": "2020-09-13T07:01:04.727228Z"
    },
    "hidden": true
   },
   "outputs": [
    {
     "data": {
      "text/html": [
       "<div>\n",
       "<style scoped>\n",
       "    .dataframe tbody tr th:only-of-type {\n",
       "        vertical-align: middle;\n",
       "    }\n",
       "\n",
       "    .dataframe tbody tr th {\n",
       "        vertical-align: top;\n",
       "    }\n",
       "\n",
       "    .dataframe thead th {\n",
       "        text-align: right;\n",
       "    }\n",
       "</style>\n",
       "<table border=\"1\" class=\"dataframe\">\n",
       "  <thead>\n",
       "    <tr style=\"text-align: right;\">\n",
       "      <th></th>\n",
       "      <th>Submission Date</th>\n",
       "      <th>Order Number#</th>\n",
       "      <th>First Name</th>\n",
       "      <th>Last Name</th>\n",
       "      <th>Select Drop Point and then Building</th>\n",
       "      <th>Select Wing</th>\n",
       "      <th>Flat No</th>\n",
       "      <th>Phone Number</th>\n",
       "      <th>Email</th>\n",
       "      <th>Cucumber</th>\n",
       "      <th>Lemon</th>\n",
       "      <th>Capsicum</th>\n",
       "      <th>Ginger</th>\n",
       "      <th>Lady's Finger/Bhindi</th>\n",
       "      <th>Garlic</th>\n",
       "      <th>Baingan Bharta</th>\n",
       "      <th>Carrots</th>\n",
       "      <th>French Beans</th>\n",
       "      <th>Tomato</th>\n",
       "      <th>Bottle Gourd</th>\n",
       "      <th>Bitter Gourd</th>\n",
       "      <th>Cabbage</th>\n",
       "      <th>Mushrooms</th>\n",
       "      <th>Cauliflower</th>\n",
       "      <th>Lal Math/Amaranthus Leaves</th>\n",
       "      <th>Sweet Corn</th>\n",
       "      <th>Lemongrass</th>\n",
       "      <th>Sponge Gourd</th>\n",
       "      <th>Coriander</th>\n",
       "      <th>Shepu/Dill Leaves</th>\n",
       "      <th>Pudina/Mint Leaves</th>\n",
       "      <th>Palak</th>\n",
       "      <th>Broccoli</th>\n",
       "      <th>Premium Sitaphal</th>\n",
       "      <th>Total Amount</th>\n",
       "      <th>Any pending unadjusted credit from previous orders?</th>\n",
       "      <th>piped</th>\n",
       "    </tr>\n",
       "  </thead>\n",
       "  <tbody>\n",
       "    <tr>\n",
       "      <th>0</th>\n",
       "      <td>2020-09-13 11:04:37</td>\n",
       "      <td>BHORD-0165</td>\n",
       "      <td>Gunjan</td>\n",
       "      <td>Churiwal</td>\n",
       "      <td>Ivory - Julian Alps</td>\n",
       "      <td>B Wing</td>\n",
       "      <td>403</td>\n",
       "      <td>9821902333</td>\n",
       "      <td>higunjan2002@gmail.com</td>\n",
       "      <td></td>\n",
       "      <td></td>\n",
       "      <td></td>\n",
       "      <td></td>\n",
       "      <td></td>\n",
       "      <td></td>\n",
       "      <td></td>\n",
       "      <td></td>\n",
       "      <td></td>\n",
       "      <td></td>\n",
       "      <td></td>\n",
       "      <td></td>\n",
       "      <td></td>\n",
       "      <td></td>\n",
       "      <td></td>\n",
       "      <td></td>\n",
       "      <td></td>\n",
       "      <td></td>\n",
       "      <td></td>\n",
       "      <td></td>\n",
       "      <td></td>\n",
       "      <td></td>\n",
       "      <td></td>\n",
       "      <td></td>\n",
       "      <td>Premium Sitaphal : 1</td>\n",
       "      <td>150</td>\n",
       "      <td></td>\n",
       "      <td>Premium Sitaphal : 1</td>\n",
       "    </tr>\n",
       "    <tr>\n",
       "      <th>1</th>\n",
       "      <td>2020-09-13 11:03:22</td>\n",
       "      <td>BHORD-0164</td>\n",
       "      <td>Priyanka</td>\n",
       "      <td>Chordia</td>\n",
       "      <td>NCP - Tower 4</td>\n",
       "      <td>B Wing</td>\n",
       "      <td>3603</td>\n",
       "      <td>9819984779</td>\n",
       "      <td>priyanka.chordia2886@gmail.com</td>\n",
       "      <td></td>\n",
       "      <td></td>\n",
       "      <td></td>\n",
       "      <td></td>\n",
       "      <td></td>\n",
       "      <td>Garlic : 1</td>\n",
       "      <td></td>\n",
       "      <td></td>\n",
       "      <td></td>\n",
       "      <td>Tomato : 1</td>\n",
       "      <td></td>\n",
       "      <td></td>\n",
       "      <td></td>\n",
       "      <td></td>\n",
       "      <td></td>\n",
       "      <td></td>\n",
       "      <td></td>\n",
       "      <td></td>\n",
       "      <td></td>\n",
       "      <td></td>\n",
       "      <td></td>\n",
       "      <td></td>\n",
       "      <td></td>\n",
       "      <td></td>\n",
       "      <td></td>\n",
       "      <td>95</td>\n",
       "      <td></td>\n",
       "      <td>Garlic : 1 | Tomato : 1</td>\n",
       "    </tr>\n",
       "    <tr>\n",
       "      <th>2</th>\n",
       "      <td>2020-09-13 11:02:20</td>\n",
       "      <td>BHORD-0163</td>\n",
       "      <td>Sonal</td>\n",
       "      <td>Akkara</td>\n",
       "      <td>NCP - Tower 5</td>\n",
       "      <td>B Wing</td>\n",
       "      <td>4002</td>\n",
       "      <td>9560374999</td>\n",
       "      <td>sosh982@yahoo.com</td>\n",
       "      <td></td>\n",
       "      <td></td>\n",
       "      <td></td>\n",
       "      <td></td>\n",
       "      <td></td>\n",
       "      <td></td>\n",
       "      <td></td>\n",
       "      <td></td>\n",
       "      <td></td>\n",
       "      <td></td>\n",
       "      <td></td>\n",
       "      <td></td>\n",
       "      <td></td>\n",
       "      <td></td>\n",
       "      <td></td>\n",
       "      <td></td>\n",
       "      <td></td>\n",
       "      <td></td>\n",
       "      <td></td>\n",
       "      <td></td>\n",
       "      <td></td>\n",
       "      <td></td>\n",
       "      <td></td>\n",
       "      <td></td>\n",
       "      <td>Premium Sitaphal : 1</td>\n",
       "      <td>150</td>\n",
       "      <td></td>\n",
       "      <td>Premium Sitaphal : 1</td>\n",
       "    </tr>\n",
       "    <tr>\n",
       "      <th>3</th>\n",
       "      <td>2020-09-13 10:56:37</td>\n",
       "      <td>BHORD-0162</td>\n",
       "      <td>Amlan</td>\n",
       "      <td>Chaudhuri</td>\n",
       "      <td>NCP - Tower 6</td>\n",
       "      <td>B Wing</td>\n",
       "      <td>2804</td>\n",
       "      <td>9820475334</td>\n",
       "      <td>chaudhuri.amlan@gmail.com</td>\n",
       "      <td></td>\n",
       "      <td></td>\n",
       "      <td></td>\n",
       "      <td></td>\n",
       "      <td></td>\n",
       "      <td></td>\n",
       "      <td></td>\n",
       "      <td></td>\n",
       "      <td></td>\n",
       "      <td></td>\n",
       "      <td></td>\n",
       "      <td></td>\n",
       "      <td></td>\n",
       "      <td></td>\n",
       "      <td></td>\n",
       "      <td></td>\n",
       "      <td></td>\n",
       "      <td></td>\n",
       "      <td></td>\n",
       "      <td></td>\n",
       "      <td></td>\n",
       "      <td></td>\n",
       "      <td></td>\n",
       "      <td></td>\n",
       "      <td>Premium Sitaphal : 1</td>\n",
       "      <td>150</td>\n",
       "      <td></td>\n",
       "      <td>Premium Sitaphal : 1</td>\n",
       "    </tr>\n",
       "    <tr>\n",
       "      <th>4</th>\n",
       "      <td>2020-09-13 10:55:44</td>\n",
       "      <td>BHORD-0161</td>\n",
       "      <td>Praveen</td>\n",
       "      <td>Sangal</td>\n",
       "      <td>NCP - Tower 7</td>\n",
       "      <td>B Wing</td>\n",
       "      <td>1504</td>\n",
       "      <td>9820974386</td>\n",
       "      <td>praveensangal@gmail.com</td>\n",
       "      <td></td>\n",
       "      <td></td>\n",
       "      <td></td>\n",
       "      <td></td>\n",
       "      <td></td>\n",
       "      <td></td>\n",
       "      <td></td>\n",
       "      <td></td>\n",
       "      <td></td>\n",
       "      <td></td>\n",
       "      <td></td>\n",
       "      <td></td>\n",
       "      <td></td>\n",
       "      <td></td>\n",
       "      <td></td>\n",
       "      <td></td>\n",
       "      <td></td>\n",
       "      <td></td>\n",
       "      <td></td>\n",
       "      <td></td>\n",
       "      <td></td>\n",
       "      <td></td>\n",
       "      <td></td>\n",
       "      <td></td>\n",
       "      <td>Premium Sitaphal : 1</td>\n",
       "      <td>150</td>\n",
       "      <td></td>\n",
       "      <td>Premium Sitaphal : 1</td>\n",
       "    </tr>\n",
       "  </tbody>\n",
       "</table>\n",
       "</div>"
      ],
      "text/plain": [
       "      Submission Date Order Number# First Name  Last Name  \\\n",
       "0 2020-09-13 11:04:37    BHORD-0165     Gunjan   Churiwal   \n",
       "1 2020-09-13 11:03:22    BHORD-0164   Priyanka    Chordia   \n",
       "2 2020-09-13 11:02:20    BHORD-0163      Sonal     Akkara   \n",
       "3 2020-09-13 10:56:37    BHORD-0162      Amlan  Chaudhuri   \n",
       "4 2020-09-13 10:55:44    BHORD-0161    Praveen     Sangal   \n",
       "\n",
       "  Select Drop Point and then Building Select Wing Flat No  Phone Number  \\\n",
       "0                 Ivory - Julian Alps      B Wing     403    9821902333   \n",
       "1                       NCP - Tower 4      B Wing    3603    9819984779   \n",
       "2                       NCP - Tower 5      B Wing    4002    9560374999   \n",
       "3                       NCP - Tower 6      B Wing    2804    9820475334   \n",
       "4                       NCP - Tower 7      B Wing    1504    9820974386   \n",
       "\n",
       "                            Email Cucumber Lemon Capsicum Ginger  \\\n",
       "0          higunjan2002@gmail.com                                  \n",
       "1  priyanka.chordia2886@gmail.com                                  \n",
       "2               sosh982@yahoo.com                                  \n",
       "3       chaudhuri.amlan@gmail.com                                  \n",
       "4         praveensangal@gmail.com                                  \n",
       "\n",
       "  Lady's Finger/Bhindi      Garlic Baingan Bharta Carrots French Beans  \\\n",
       "0                                                                        \n",
       "1                       Garlic : 1                                       \n",
       "2                                                                        \n",
       "3                                                                        \n",
       "4                                                                        \n",
       "\n",
       "       Tomato Bottle Gourd Bitter Gourd Cabbage Mushrooms Cauliflower  \\\n",
       "0                                                                       \n",
       "1  Tomato : 1                                                           \n",
       "2                                                                       \n",
       "3                                                                       \n",
       "4                                                                       \n",
       "\n",
       "  Lal Math/Amaranthus Leaves Sweet Corn Lemongrass Sponge Gourd Coriander  \\\n",
       "0                                                                           \n",
       "1                                                                           \n",
       "2                                                                           \n",
       "3                                                                           \n",
       "4                                                                           \n",
       "\n",
       "  Shepu/Dill Leaves Pudina/Mint Leaves Palak Broccoli      Premium Sitaphal  \\\n",
       "0                                                      Premium Sitaphal : 1   \n",
       "1                                                                             \n",
       "2                                                      Premium Sitaphal : 1   \n",
       "3                                                      Premium Sitaphal : 1   \n",
       "4                                                      Premium Sitaphal : 1   \n",
       "\n",
       "   Total Amount Any pending unadjusted credit from previous orders?  \\\n",
       "0           150                                                       \n",
       "1            95                                                       \n",
       "2           150                                                       \n",
       "3           150                                                       \n",
       "4           150                                                       \n",
       "\n",
       "                     piped  \n",
       "0     Premium Sitaphal : 1  \n",
       "1  Garlic : 1 | Tomato : 1  \n",
       "2     Premium Sitaphal : 1  \n",
       "3     Premium Sitaphal : 1  \n",
       "4     Premium Sitaphal : 1  "
      ]
     },
     "execution_count": 20,
     "metadata": {},
     "output_type": "execute_result"
    }
   ],
   "source": [
    "df.head()"
   ]
  },
  {
   "cell_type": "code",
   "execution_count": 38,
   "metadata": {
    "ExecuteTime": {
     "end_time": "2020-09-11T05:55:39.805141Z",
     "start_time": "2020-09-11T05:55:39.795137Z"
    },
    "hidden": true
   },
   "outputs": [],
   "source": [
    "df.to_csv('piped-tatkaal.csv', index=False)"
   ]
  },
  {
   "cell_type": "code",
   "execution_count": null,
   "metadata": {
    "hidden": true
   },
   "outputs": [],
   "source": []
  }
 ],
 "metadata": {
  "kernelspec": {
   "display_name": "Python 3",
   "language": "python",
   "name": "python3"
  },
  "language_info": {
   "codemirror_mode": {
    "name": "ipython",
    "version": 3
   },
   "file_extension": ".py",
   "mimetype": "text/x-python",
   "name": "python",
   "nbconvert_exporter": "python",
   "pygments_lexer": "ipython3",
   "version": "3.6.9"
  },
  "toc": {
   "base_numbering": 1,
   "nav_menu": {},
   "number_sections": true,
   "sideBar": true,
   "skip_h1_title": false,
   "title_cell": "Table of Contents",
   "title_sidebar": "Contents",
   "toc_cell": false,
   "toc_position": {
    "height": "calc(100% - 180px)",
    "left": "10px",
    "top": "150px",
    "width": "165px"
   },
   "toc_section_display": true,
   "toc_window_display": false
  }
 },
 "nbformat": 4,
 "nbformat_minor": 2
}
