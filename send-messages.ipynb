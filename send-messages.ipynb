{
 "cells": [
  {
   "cell_type": "code",
   "execution_count": 1,
   "metadata": {
    "ExecuteTime": {
     "end_time": "2020-10-27T08:26:43.469627Z",
     "start_time": "2020-10-27T08:26:41.817401Z"
    }
   },
   "outputs": [],
   "source": [
    "import pandas as pd"
   ]
  },
  {
   "cell_type": "code",
   "execution_count": 2,
   "metadata": {
    "ExecuteTime": {
     "end_time": "2020-10-27T08:26:44.745423Z",
     "start_time": "2020-10-27T08:26:44.238265Z"
    }
   },
   "outputs": [],
   "source": [
    "import http.client\n",
    "conn = http.client.HTTPSConnection(\"api.msg91.com\")"
   ]
  },
  {
   "cell_type": "code",
   "execution_count": 3,
   "metadata": {
    "ExecuteTime": {
     "end_time": "2020-10-27T08:26:45.772332Z",
     "start_time": "2020-10-27T08:26:45.755561Z"
    }
   },
   "outputs": [],
   "source": [
    "headers = {\n",
    "    'authkey': \"329435AXayMy78QG5f914544P1\",\n",
    "#     'authkey': \"329435AXayMy78QG5f91454123121234P1\",\n",
    "    \n",
    "    'content-type': \"application/json\"\n",
    "    }"
   ]
  },
  {
   "cell_type": "code",
   "execution_count": 3,
   "metadata": {
    "ExecuteTime": {
     "end_time": "2020-10-26T18:47:55.247460Z",
     "start_time": "2020-10-26T18:47:55.232530Z"
    }
   },
   "outputs": [],
   "source": [
    "def get_message(first_name, token, amount, mobile, payment_status):\n",
    "    unsuccessful_message = f\"Hi {first_name},\\nYour Fruits/Dry Fruits order with Token no {int(token)} from Bhor Farms is confirmed and will be delivered to your lobby by the evening of 27th Oct.\\nYour bill amount is Rs {amount}. Please check your SMS/Email for payment link.\\nCall 6203507070 for any queries.\"\n",
    "    successful_message = f\"Hi {first_name},\\nYour Fruits/Dry Fruits order with Token no {int(token)} from Bhor Farms is confirmed and will be delivered to your lobby by the evening of 27th Oct.\\nCall 6203507070 for any queries.\"\n",
    "    \n",
    "    if payment_status == 'Completed':\n",
    "        msg_json = { \"sender\": \"BHRFMS\", \n",
    "                     \"route\": \"4\", \n",
    "                     \"country\": \"91\", \n",
    "                     \"sms\": [ \n",
    "                         { \"message\": successful_message, \n",
    "                          \"to\": [f\"{mobile}\"] } ] }\n",
    "        \n",
    "    else:\n",
    "        msg_json = { \"sender\": \"BHRFMS\", \n",
    "                     \"route\": \"4\", \n",
    "                     \"country\": \"91\", \n",
    "                     \"sms\": [ \n",
    "                         { \"message\": unsuccessful_message, \n",
    "                          \"to\": [f\"{mobile}\"] } ] }\n",
    "        \n",
    "    return str(msg_json).replace('\\'', '\\\"')"
   ]
  },
  {
   "cell_type": "code",
   "execution_count": 4,
   "metadata": {
    "ExecuteTime": {
     "end_time": "2020-10-26T18:47:56.460024Z",
     "start_time": "2020-10-26T18:47:56.449530Z"
    }
   },
   "outputs": [],
   "source": [
    "responses = {}"
   ]
  },
  {
   "cell_type": "code",
   "execution_count": 5,
   "metadata": {
    "ExecuteTime": {
     "end_time": "2020-10-26T18:47:58.751629Z",
     "start_time": "2020-10-26T18:47:56.963137Z"
    }
   },
   "outputs": [],
   "source": [
    "# df = pd.DataFrame({'name': ['SUDEEP; sharma', 'aditya;sharma'], 'amount': ['7,050', 111], 'mobile': [6203507070, 7209111041], \n",
    "#               'payment_status': ['Completed', 'failed'], 'token': [4.0, 77]})"
   ]
  },
  {
   "cell_type": "code",
   "execution_count": 4,
   "metadata": {
    "ExecuteTime": {
     "end_time": "2020-10-27T08:26:50.087447Z",
     "start_time": "2020-10-27T08:26:50.069328Z"
    }
   },
   "outputs": [],
   "source": [
    "def get_message_from_text(mobile, message):\n",
    "    msg_json = { \"sender\": \"BHRFMS\", \n",
    "                 \"route\": \"4\", \n",
    "                 \"country\": \"91\", \n",
    "                 \"sms\": [ \n",
    "                     { \"message\": message, \n",
    "                      \"to\": [f\"{mobile}\"] } ] }\n",
    "\n",
    "    return str(msg_json).replace('\\'', '\\\"')"
   ]
  },
  {
   "cell_type": "code",
   "execution_count": 9,
   "metadata": {
    "ExecuteTime": {
     "end_time": "2020-10-27T08:27:33.462370Z",
     "start_time": "2020-10-27T08:27:33.447322Z"
    }
   },
   "outputs": [],
   "source": [
    "mobiles = pd.read_csv('sms/27_oct.csv', header=None)\n",
    "mobiles[0] = mobiles[0].astype(str)"
   ]
  },
  {
   "cell_type": "code",
   "execution_count": 8,
   "metadata": {
    "ExecuteTime": {
     "end_time": "2020-10-27T08:27:30.438256Z",
     "start_time": "2020-10-27T08:27:30.422300Z"
    }
   },
   "outputs": [],
   "source": [
    "# mobiles = pd.Series(['6203507070', '7209111041'])"
   ]
  },
  {
   "cell_type": "code",
   "execution_count": 10,
   "metadata": {
    "ExecuteTime": {
     "end_time": "2020-10-27T08:27:52.856788Z",
     "start_time": "2020-10-27T08:27:41.083324Z"
    }
   },
   "outputs": [
    {
     "data": {
      "text/plain": [
       "{'9167038116': '{\"message\":\"5f97d9fdd6fc050275587ffb\",\"type\":\"success\"}',\n",
       " '9833619111': '{\"message\":\"5f97d9fdd6fc0519c037a9ec\",\"type\":\"success\"}',\n",
       " '7738264289': '{\"message\":\"5f97d9fdd6fc05171c07d87d\",\"type\":\"success\"}',\n",
       " '9619667223': '{\"message\":\"5f97d9fed6fc050564324b29\",\"type\":\"success\"}',\n",
       " '9004440829': '{\"message\":\"5f97d9fed6fc057b7408346e\",\"type\":\"success\"}',\n",
       " '9820201029': '{\"message\":\"5f97d9fed6fc05357949afa0\",\"type\":\"success\"}',\n",
       " '7878820318': '{\"message\":\"5f97d9fed6fc056a901ad305\",\"type\":\"success\"}',\n",
       " '9869349410': '{\"message\":\"5f97d9ffd6fc0576606fa11d\",\"type\":\"success\"}',\n",
       " '9711399456': '{\"message\":\"5f97d9ffd6fc05355c5d4f48\",\"type\":\"success\"}',\n",
       " '9167236619': '{\"message\":\"5f97d9ffd6fc0504b5034093\",\"type\":\"success\"}',\n",
       " '8452947155': '{\"message\":\"5f97d9ffd6fc05053716ea94\",\"type\":\"success\"}',\n",
       " '9819900868': '{\"message\":\"5f97d9ffd6fc0527d663ac24\",\"type\":\"success\"}',\n",
       " '9820260210': '{\"message\":\"5f97da00d6fc0504a549eebe\",\"type\":\"success\"}',\n",
       " '9930834720': '{\"message\":\"5f97da00d6fc0502320892e3\",\"type\":\"success\"}',\n",
       " '9819305599': '{\"message\":\"5f97da00d6fc052e02107542\",\"type\":\"success\"}',\n",
       " '9930160637': '{\"message\":\"5f97da00d6fc0542607ae499\",\"type\":\"success\"}',\n",
       " '9717097949': '{\"message\":\"5f97da00d6fc051bf4405107\",\"type\":\"success\"}',\n",
       " '9999914917': '{\"message\":\"5f97da01d6fc0527db702543\",\"type\":\"success\"}',\n",
       " '9819016611': '{\"message\":\"5f97da06d6fc05500a495776\",\"type\":\"success\"}',\n",
       " '9833442555': '{\"message\":\"5f97da02d6fc051ba87b29fe\",\"type\":\"success\"}',\n",
       " '9987009929': '{\"message\":\"5f97da02d6fc05753b1ee423\",\"type\":\"success\"}',\n",
       " '9820157581': '{\"message\":\"5f97da02d6fc0504fa7f2dff\",\"type\":\"success\"}',\n",
       " '9819662554': '{\"message\":\"5f97da03d6fc051a363c3fc1\",\"type\":\"success\"}',\n",
       " '9769599374': '{\"message\":\"5f97da03d6fc0523e17a4eaa\",\"type\":\"success\"}',\n",
       " '9820646235': '{\"message\":\"5f97da03d6fc052f61264e0e\",\"type\":\"success\"}',\n",
       " '9920360111': '{\"message\":\"5f97da03d6fc050c893102a5\",\"type\":\"success\"}',\n",
       " '9322380393': '{\"message\":\"5f97da03d6fc0504a549eebf\",\"type\":\"success\"}',\n",
       " '9820491112': '{\"message\":\"5f97da04d6fc0577c209a7ee\",\"type\":\"success\"}',\n",
       " '9819071204': '{\"message\":\"5f97da04d6fc055b3b458eba\",\"type\":\"success\"}',\n",
       " '9004017970': '{\"message\":\"5f97da04d6fc057e98339d31\",\"type\":\"success\"}',\n",
       " '9821026234': '{\"message\":\"5f97da04d6fc0520580f3221\",\"type\":\"success\"}',\n",
       " '9422212171': '{\"message\":\"5f97da04d6fc052c0a5dd89d\",\"type\":\"success\"}',\n",
       " '9867041235': '{\"message\":\"5f97da05d6fc053bcb3e7f39\",\"type\":\"success\"}',\n",
       " '9769656431': '{\"message\":\"5f97da05d6fc05308b61a0c6\",\"type\":\"success\"}',\n",
       " '9819616373': '{\"message\":\"5f97da05d6fc057922542f9b\",\"type\":\"success\"}',\n",
       " '9004913659': '{\"message\":\"5f97da05d6fc05048128c1fc\",\"type\":\"success\"}',\n",
       " '8870648607': '{\"message\":\"5f97da07d6fc052d743d072e\",\"type\":\"success\"}',\n",
       " '8655281981': '{\"message\":\"5f97da06d6fc050ed45d486c\",\"type\":\"success\"}',\n",
       " '9967716023': '{\"message\":\"5f97da06d6fc0509e6413c26\",\"type\":\"success\"}',\n",
       " '9930184202': '{\"message\":\"5f97da06d6fc05376b66fc94\",\"type\":\"success\"}',\n",
       " '9833498705': '{\"message\":\"5f97da06d6fc050170063f98\",\"type\":\"success\"}',\n",
       " '9820282594': '{\"message\":\"5f97da06d6fc0530627196d7\",\"type\":\"success\"}',\n",
       " '9820000543': '{\"message\":\"5f97da07d6fc0520b66741fb\",\"type\":\"success\"}',\n",
       " '9999488247': '{\"message\":\"5f97da07d6fc0528bc61b120\",\"type\":\"success\"}',\n",
       " '9819292840': '{\"message\":\"5f97da07d6fc051b002cbd98\",\"type\":\"success\"}',\n",
       " '9163070807': '{\"message\":\"5f97da07d6fc052b1973087c\",\"type\":\"success\"}',\n",
       " '9930014369': '{\"message\":\"5f97da07d6fc05035f577364\",\"type\":\"success\"}',\n",
       " '9930390994': '{\"message\":\"5f97da08d6fc0527db702545\",\"type\":\"success\"}',\n",
       " '9820007469': '{\"message\":\"5f97da08d6fc051aff0bcba4\",\"type\":\"success\"}',\n",
       " '9821692848': '{\"message\":\"5f97da08d6fc05049056ff76\",\"type\":\"success\"}',\n",
       " '9930851066': '{\"message\":\"5f97da08d6fc05497661c440\",\"type\":\"success\"}',\n",
       " '9920888765': '{\"message\":\"5f97da08d6fc05348a192bba\",\"type\":\"success\"}',\n",
       " '9099997777': '{\"message\":\"5f97da09d6fc0524551fb4bc\",\"type\":\"success\"}'}"
      ]
     },
     "execution_count": 10,
     "metadata": {},
     "output_type": "execute_result"
    }
   ],
   "source": [
    "message = \"Good Afternoon,\\n\\nWe regret to inform you that due to some unforeseen operational issues, we will not be able to do the delivery of Vegetables scheduled Tomorrow.\\n\\nWe will be doing the delivery of all orders on Thursday instead of Tomorrow.\\n\\nWe deeply apologize for the inconvenience caused.\\n\\nPlease contact us @ 6203507070 in case you would want to make any changes to your orders.\"\n",
    "\n",
    "responses = {}\n",
    "for mobile in mobiles[0]:\n",
    "    payload = get_message_from_text(mobile, message)\n",
    "    conn.request(\"POST\", \"/api/v2/sendsms\", payload, headers)\n",
    "    res = conn.getresponse()\n",
    "    data = res.read()\n",
    "    responses[mobile] = (data.decode(\"utf-8\"))\n",
    "\n",
    "responses"
   ]
  },
  {
   "cell_type": "code",
   "execution_count": null,
   "metadata": {},
   "outputs": [],
   "source": []
  },
  {
   "cell_type": "code",
   "execution_count": null,
   "metadata": {},
   "outputs": [],
   "source": []
  },
  {
   "cell_type": "code",
   "execution_count": null,
   "metadata": {},
   "outputs": [],
   "source": []
  },
  {
   "cell_type": "code",
   "execution_count": null,
   "metadata": {},
   "outputs": [],
   "source": []
  },
  {
   "cell_type": "code",
   "execution_count": 8,
   "metadata": {
    "ExecuteTime": {
     "end_time": "2020-10-26T18:48:22.658971Z",
     "start_time": "2020-10-26T18:48:22.264115Z"
    }
   },
   "outputs": [],
   "source": [
    "for index, row in df.iterrows():\n",
    "    message = get_message(row['name'].split(';')[0].capitalize(), \n",
    "                          row['token'], \n",
    "                          row['amount'], \n",
    "                          row['mobile'], \n",
    "                          row['payment_status'])\n",
    "    \n",
    "    conn.request(\"POST\", \"/api/v2/sendsms\", message, headers)\n",
    "    res = conn.getresponse()\n",
    "    data = res.read()\n",
    "    responses[row['mobile']] = (data.decode(\"utf-8\"))"
   ]
  },
  {
   "cell_type": "code",
   "execution_count": null,
   "metadata": {},
   "outputs": [],
   "source": []
  },
  {
   "cell_type": "code",
   "execution_count": null,
   "metadata": {},
   "outputs": [],
   "source": []
  },
  {
   "cell_type": "code",
   "execution_count": null,
   "metadata": {},
   "outputs": [],
   "source": []
  },
  {
   "cell_type": "code",
   "execution_count": 9,
   "metadata": {
    "ExecuteTime": {
     "end_time": "2020-10-26T18:48:23.282950Z",
     "start_time": "2020-10-26T18:48:23.265224Z"
    }
   },
   "outputs": [
    {
     "data": {
      "text/plain": [
       "{6203507070: '{\"message\":\"5f9719f6d6fc056fb219e9ac\",\"type\":\"success\"}',\n",
       " 7209111041: '{\"message\":\"5f9719f6d6fc05056770f96c\",\"type\":\"success\"}'}"
      ]
     },
     "execution_count": 9,
     "metadata": {},
     "output_type": "execute_result"
    }
   ],
   "source": [
    "responses"
   ]
  },
  {
   "cell_type": "code",
   "execution_count": null,
   "metadata": {},
   "outputs": [],
   "source": []
  }
 ],
 "metadata": {
  "kernelspec": {
   "display_name": "Python [conda env:fastaiv1] *",
   "language": "python",
   "name": "conda-env-fastaiv1-py"
  },
  "language_info": {
   "codemirror_mode": {
    "name": "ipython",
    "version": 3
   },
   "file_extension": ".py",
   "mimetype": "text/x-python",
   "name": "python",
   "nbconvert_exporter": "python",
   "pygments_lexer": "ipython3",
   "version": "3.6.9"
  },
  "toc": {
   "base_numbering": 1,
   "nav_menu": {},
   "number_sections": true,
   "sideBar": true,
   "skip_h1_title": false,
   "title_cell": "Table of Contents",
   "title_sidebar": "Contents",
   "toc_cell": false,
   "toc_position": {},
   "toc_section_display": true,
   "toc_window_display": false
  }
 },
 "nbformat": 4,
 "nbformat_minor": 2
}
